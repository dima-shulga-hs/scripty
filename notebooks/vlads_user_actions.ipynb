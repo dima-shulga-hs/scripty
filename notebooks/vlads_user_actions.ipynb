{
 "cells": [
  {
   "cell_type": "code",
   "execution_count": 1,
   "id": "f303ef8a",
   "metadata": {
    "tags": []
   },
   "outputs": [],
   "source": [
    "import re \n",
    "import pandas as pd\n",
    "from datetime import date\n",
    "from analytics_utils.bigquery_utils import get_bq_client, BigQuery\n",
    "import plotly.graph_objects as go\n",
    "pd.options.plotting.backend = \"plotly\"\n",
    "\n",
    "import plotly.express as px\n",
    "from plotly.subplots import make_subplots\n",
    "import plotly.io as pio\n",
    "pio.renderers.default = 'notebook'\n",
    "\n",
    "import ipywidgets as widgets\n",
    "from IPython.display import display, clear_output\n",
    "\n",
    "STAGE_MAP = {\n",
    "    'New': 1, 'Review': 2, 'Marked Relevant': 4, \n",
    "    'Opened': 2, 'Clicked': 2, 'Delivered': 4, \n",
    "    'Suppressed': 3, 'Dismissed': 3\n",
    "}\n",
    "\n",
    "REVERSE_STAGE_MAP = {\n",
    "    1: 'New',\n",
    "    2: 'Review',\n",
    "    3: 'Dismissed',\n",
    "    4: 'Marked Relevant'\n",
    "}\n",
    "\n",
    "DIM_MAP = {\n",
    "    'Client': \"fetch_recommendation_activity_customer\", \n",
    "    'Client Industry': \"Industry\", \n",
    "    'Req Seniority': \"dim_req_required_seniority_level\", \n",
    "    'Req Top Category': \"dim_req_top_category_calculated\"\n",
    "}\n",
    "\n",
    "client_industry = pd.read_excel('planhat-companies-Oct-29-2023.xlsx')"
   ]
  },
  {
   "cell_type": "code",
   "execution_count": 2,
   "id": "12c5e3c8",
   "metadata": {
    "tags": []
   },
   "outputs": [],
   "source": [
    "# Function to read cached dates from a local text file\n",
    "def read_cached_dates():\n",
    "    try:\n",
    "        with open('cached_dates.txt', 'r') as file:\n",
    "            cached_dates = file.read().split(',')\n",
    "            cached_from = date.fromisoformat(cached_dates[0])\n",
    "            cached_to = date.fromisoformat(cached_dates[1])\n",
    "            return cached_from, cached_to\n",
    "    except FileNotFoundError:\n",
    "        return None, None\n",
    "\n",
    "# Function to write current dates to a local text file\n",
    "def write_cached_dates(from_date, to_date):\n",
    "    with open('cached_dates.txt', 'w') as file:\n",
    "        file.write(f\"{from_date.isoformat()},{to_date.isoformat()}\")\n",
    "        \n",
    "PATTERN_DELETE = r'(?=.+posit.+fill.+)|(?=.+posit.+interna.+)|(?=.+terna.+nly.+)|(?=.+interna.+fill.+)|(?=.+cand.+not.+interested.+)|(?=.+not.+reach.+)|(?=.+reach.+not.+)|(?=.+urrent.+employ.+)|(?=.*\\bprocess\\b.*\\banother\\b.*\\breq\\b)'\n",
    "\n",
    "REASONS_TO_FILTER = {\n",
    "    'other: Position will be filled internally ',\n",
    "    'Candidate invited to apply',\n",
    "    'In process in another req ',\n",
    "    'Current Employee',\n",
    "    'other: Position filled',\n",
    "    'other: Internal only',\n",
    "    'Qualified but candidate not interested at this time',\n",
    "    \n",
    "}\n",
    "\n",
    "REASONS_TO_FILTER = {x.lower().strip() for x in REASONS_TO_FILTER}\n",
    "\n",
    "def check_id(user_id):\n",
    "    if user_id:\n",
    "        if 'test' in user_id:\n",
    "            return False\n",
    "        elif str(user_id).endswith('-1'):\n",
    "            return False\n",
    "    return True\n",
    "\n"
   ]
  },
  {
   "cell_type": "code",
   "execution_count": 14,
   "id": "ecbb2cfe",
   "metadata": {
    "tags": []
   },
   "outputs": [],
   "source": [
    "def get_dataframe(from_date, to_date):\n",
    "    cached_from, cached_to = read_cached_dates()\n",
    "\n",
    "    if cached_from and cached_to and cached_from <= from_date <= to_date <= cached_to and False:\n",
    "        print(\"Data already cached for the requested date range. Loading..\")\n",
    "        df = pd.read_csv('cache_dump.csv')\n",
    "        df['Date'] = pd.to_datetime(df['fact_recommendation_status_history_status_at_date'])\n",
    "        return df[(df['Date'].dt.date >= from_date) & (df['Date'].dt.date <= to_date)]\n",
    "    else:\n",
    "        print(\"Big Query data request is required. Please, wait...\")\n",
    "        db_client = get_bq_client('production')\n",
    "        sql = f\"\"\"\n",
    "            SELECT\n",
    "                fact_recommendation_status_history.analytics_fetch_status_bucket  AS fact_recommendation_status_history_fetch_bucket,\n",
    "                fetch_recommendation_activity.req_id  AS fetch_recommendation_activity_req_id,\n",
    "                fetch_recommendation_activity.talent_id  AS fetch_recommendation_activity_talent_id,\n",
    "                fact_recommendation_status_history.reason  AS fact_recommendation_status_history_reason,\n",
    "                (DATE(fact_recommendation_status_history.status_ts )) AS fact_recommendation_status_history_status_at_date,\n",
    "                fetch_recommendation_activity.customer  AS fetch_recommendation_activity_customer,\n",
    "                dim_req.required_seniority_level  AS dim_req_required_seniority_level,\n",
    "                dim_req.top_category  AS dim_req_top_category_calculated,\n",
    "                fact_recommendation_status_history.user_id  AS fact_recommendation_status_history_user_id\n",
    "            FROM `hs-analytics.all_customers.dwh_hs_dim_recommendation`\n",
    "                 AS fetch_recommendation_activity\n",
    "            LEFT JOIN `hs-analytics.all_customers.dwh_hs_fact_recommendation_status_history`\n",
    "                 AS fact_recommendation_status_history ON fetch_recommendation_activity.key = fact_recommendation_status_history.recommendation_key\n",
    "                and fetch_recommendation_activity.customer = fact_recommendation_status_history.customer\n",
    "            FULL OUTER JOIN `hs-analytics.all_customers.dwh_hs_dim_req`\n",
    "                 AS dim_req ON dim_req.key = fetch_recommendation_activity.req_key\n",
    "                and dim_req.customer = fetch_recommendation_activity.customer\n",
    "            WHERE (fact_recommendation_status_history.analytics_fetch_status_bucket ) IN ('Dismissed', 'Marked Relevant', 'Review') \n",
    "                AND ((( fact_recommendation_status_history.status_ts  ) >= (TIMESTAMP(\"{str(from_date)}\")) \n",
    "                AND ( fact_recommendation_status_history.status_ts  ) < (TIMESTAMP(\"{str(to_date)}\")))) \n",
    "                AND (fetch_recommendation_activity.customer not in ( 'princeton',\n",
    "                     'arizona_wd_staging',\n",
    "                     'antigua',\n",
    "                     'havana',\n",
    "                     'seoul_icims',\n",
    "                     'arizona' ))\n",
    "            GROUP BY\n",
    "                1,\n",
    "                2,\n",
    "                3,\n",
    "                4,\n",
    "                5,\n",
    "                6,\n",
    "                7,\n",
    "                8,\n",
    "                9\n",
    "        \"\"\"\n",
    "        job_result = db_client.execute(sql)\n",
    "        df = job_result['query_reults'].to_dataframe()\n",
    "        df.to_csv('cache_dump.csv', index=None)\n",
    "        write_cached_dates(from_date, to_date)\n",
    "        df['Date'] = pd.to_datetime(df['fact_recommendation_status_history_status_at_date'])\n",
    "        return df\n",
    "    \n",
    "def prepare_df(df):\n",
    "    calc_df = df.copy()\n",
    "\n",
    "    calc_df['Date'] = pd.to_datetime(calc_df['fact_recommendation_status_history_status_at_date'])\n",
    "    for period in ('M', 'W', '2W'):\n",
    "        calc_df[f'Period {period}'] = calc_df['Date'].dt.to_period(period)\n",
    "\n",
    "    calc_df['bucket_code'] = calc_df['fact_recommendation_status_history_fetch_bucket'].map(STAGE_MAP)\n",
    "    calc_df['pair_id'] = calc_df['fetch_recommendation_activity_req_id'].fillna('nan') + '_' + calc_df['fetch_recommendation_activity_talent_id'].fillna('nan')\n",
    "\n",
    "    leads_to_filter = set(calc_df[\n",
    "        calc_df['fact_recommendation_status_history_reason'].fillna('').apply(\n",
    "            lambda x: (bool(re.findall(PATTERN_DELETE, x.lower())) and ('qualif' not in x.lower())) or x.lower().strip() in REASONS_TO_FILTER\n",
    "        )\n",
    "    ]['pair_id'].values)\n",
    "\n",
    "\n",
    "    calc_df[\n",
    "        calc_df['fact_recommendation_status_history_reason'].fillna('').apply(\n",
    "            lambda x: (bool(re.findall(PATTERN_DELETE, x.lower())) and ('qualif' not in x.lower())) or x.lower().strip() in REASONS_TO_FILTER\n",
    "        )\n",
    "    ]['bucket_code'] = STAGE_MAP['Marked Relevant']\n",
    "\n",
    "    calc_df = calc_df[\n",
    "        (~calc_df['pair_id'].isin(leads_to_filter)) & \n",
    "        (calc_df['fact_recommendation_status_history_user_id'].fillna('').apply(check_id))\n",
    "    ]\n",
    "    grouped_df = calc_df.groupby(\n",
    "        ['pair_id'], as_index=False\n",
    "    ).agg(\n",
    "        {\"bucket_code\": \"max\",\n",
    "         'fetch_recommendation_activity_req_id': 'first',\n",
    "         'fetch_recommendation_activity_talent_id': 'first',\n",
    "         'fetch_recommendation_activity_customer': 'first',\n",
    "         'fact_recommendation_status_history_user_id': 'first',\n",
    "         'Date': 'max',\n",
    "         'Period M': 'max',\n",
    "         'Period W': 'max',\n",
    "         'Period 2W': 'max',     \n",
    "         'dim_req_top_category_calculated': 'first',\n",
    "         'dim_req_required_seniority_level': 'first',\n",
    "        })\n",
    "\n",
    "    grouped_df['Max Status Bucket'] = grouped_df['bucket_code'].map(REVERSE_STAGE_MAP)\n",
    "    grouped_df = pd.concat([grouped_df, pd.get_dummies(grouped_df['Max Status Bucket'])], axis=1)\n",
    "    grouped_df = grouped_df.dropna(subset=['Max Status Bucket'])\n",
    "\n",
    "    client_industry['Account Name'] = client_industry['Account Name'].str.lower()\n",
    "    grouped_df = pd.merge(grouped_df, client_industry, \n",
    "                          left_on='fetch_recommendation_activity_customer', \n",
    "                          right_on='Account Name', how='left')\n",
    "    return grouped_df"
   ]
  },
  {
   "cell_type": "code",
   "execution_count": 4,
   "id": "4fc425ab",
   "metadata": {
    "tags": []
   },
   "outputs": [],
   "source": [
    "def aggregate_by_field(grouped_df, date_level, average='macro', dimension=None, accounts=None):\n",
    "    #if accounts:\n",
    "    #    grouped_df = grouped_df[grouped_df['fetch_recommendation_activity_customer'].isin(accounts)]\n",
    "    grouped_df[f'Period {date_level}'] = grouped_df['Date'].dt.to_period(date_level)\n",
    "    if average == 'macro':\n",
    "        cols_gr_by = [f'Period {date_level}', dimension]\n",
    "    elif average == 'micro':\n",
    "        cols_gr_by = [f'Period {date_level}']\n",
    "    agg_df = grouped_df.groupby(\n",
    "        cols_gr_by, as_index=False)[\n",
    "        ['Dismissed', 'Marked Relevant', 'Review']\n",
    "    ].sum()\n",
    "    agg_df['All'] = agg_df.sum(axis=1)\n",
    "    agg_df['Conversion Rate'] = agg_df['Marked Relevant'] / (agg_df['Dismissed'].fillna(0) + agg_df['Marked Relevant'])\n",
    "\n",
    "    for stage in ['Dismissed', 'Marked Relevant', 'Review']:\n",
    "        agg_df[f'{stage} Rate'] = (agg_df[stage] / agg_df['All'])\n",
    "    \n",
    "    if average == 'macro':\n",
    "        pivot_df = agg_df.groupby(f'Period {date_level}', as_index=False).agg({\n",
    "            \"Marked Relevant\": \"sum\",\n",
    "            \"Dismissed\": \"sum\",\n",
    "            \"Review\": \"sum\",\n",
    "            \"All\": \"sum\",\n",
    "            \"Conversion Rate\": \"mean\",\n",
    "            \"Dismissed Rate\": 'mean',\n",
    "            \"Marked Relevant Rate\": \"mean\",\n",
    "            \"Review Rate\": \"mean\",    \n",
    "        })\n",
    "    elif average == 'micro':\n",
    "        pivot_df = agg_df\n",
    "    pivot_df['Overall Propensity Rate'] = 1 - (pivot_df['Review'] / pivot_df[['Dismissed', 'Marked Relevant', 'Review']].sum(axis=1))\n",
    "    fig = px.line(pivot_df, \n",
    "                  width=800, height=400,\n",
    "              x=pivot_df[f'Period {date_level}'].astype(str), \n",
    "              y=['Conversion Rate', 'Dismissed Rate', 'Marked Relevant Rate', \n",
    "                 'Overall Propensity Rate'\n",
    "                ], \n",
    "              title=f'Conversion Rate in 2023 (MacroAvg Across {dimension}) By {date_level} Periods')\n",
    "    fig.update_layout(xaxis_title=date_level)\n",
    "    return pivot_df, fig"
   ]
  },
  {
   "cell_type": "code",
   "execution_count": 5,
   "id": "bc00f056",
   "metadata": {
    "tags": []
   },
   "outputs": [
    {
     "data": {
      "text/html": [
       "        <script type=\"text/javascript\">\n",
       "        window.PlotlyConfig = {MathJaxConfig: 'local'};\n",
       "        if (window.MathJax) {MathJax.Hub.Config({SVG: {font: \"STIX-Web\"}});}\n",
       "        if (typeof require !== 'undefined') {\n",
       "        require.undef(\"plotly\");\n",
       "        requirejs.config({\n",
       "            paths: {\n",
       "                'plotly': ['https://cdn.plot.ly/plotly-2.4.2.min']\n",
       "            }\n",
       "        });\n",
       "        require(['plotly'], function(Plotly) {\n",
       "            window._Plotly = Plotly;\n",
       "        });\n",
       "        }\n",
       "        </script>\n",
       "        "
      ]
     },
     "metadata": {},
     "output_type": "display_data"
    },
    {
     "data": {
      "application/vnd.jupyter.widget-view+json": {
       "model_id": "670f4e8d0e2245f3bc6620f00b28846a",
       "version_major": 2,
       "version_minor": 0
      },
      "text/plain": [
       "DatePicker(value=None, description='From', step=1)"
      ]
     },
     "metadata": {},
     "output_type": "display_data"
    },
    {
     "data": {
      "application/vnd.jupyter.widget-view+json": {
       "model_id": "45f57513a01e4d8192f1530a8700db03",
       "version_major": 2,
       "version_minor": 0
      },
      "text/plain": [
       "DatePicker(value=None, description='To', step=1)"
      ]
     },
     "metadata": {},
     "output_type": "display_data"
    },
    {
     "data": {
      "application/vnd.jupyter.widget-view+json": {
       "model_id": "d924425ebef24cfc888037abce142ae6",
       "version_major": 2,
       "version_minor": 0
      },
      "text/plain": [
       "RadioButtons(description='Averaging Approach:', options=('macro', 'micro'), value='macro')"
      ]
     },
     "metadata": {},
     "output_type": "display_data"
    },
    {
     "data": {
      "application/vnd.jupyter.widget-view+json": {
       "model_id": "f6a524acfd92408f9f3d8f8ac161ae4b",
       "version_major": 2,
       "version_minor": 0
      },
      "text/plain": [
       "RadioButtons(description='Dimension To Do Macro-Average Over:', options=('Client', 'Client Industry', 'Req Sen…"
      ]
     },
     "metadata": {},
     "output_type": "display_data"
    },
    {
     "data": {
      "application/vnd.jupyter.widget-view+json": {
       "model_id": "da87484d4451408b86426002a912d0ad",
       "version_major": 2,
       "version_minor": 0
      },
      "text/plain": [
       "RadioButtons(description='Period Of Breakdown:', options=('W', 'D', 'M'), value='W')"
      ]
     },
     "metadata": {},
     "output_type": "display_data"
    },
    {
     "data": {
      "application/vnd.jupyter.widget-view+json": {
       "model_id": "8ace7ec7bf0c40c6941a12fcecf26b10",
       "version_major": 2,
       "version_minor": 0
      },
      "text/plain": [
       "SelectMultiple(description='Accounts To Evaluate On:', options=('aden', 'alabama', 'amman', 'antalya', 'antigu…"
      ]
     },
     "metadata": {},
     "output_type": "display_data"
    },
    {
     "data": {
      "application/vnd.jupyter.widget-view+json": {
       "model_id": "ae06fcab07dc4be89a02c009b7eece42",
       "version_major": 2,
       "version_minor": 0
      },
      "text/plain": [
       "Button(description='Run function', style=ButtonStyle())"
      ]
     },
     "metadata": {},
     "output_type": "display_data"
    },
    {
     "data": {
      "application/vnd.jupyter.widget-view+json": {
       "model_id": "5f1c484217de4589b3a99027d703299d",
       "version_major": 2,
       "version_minor": 0
      },
      "text/plain": [
       "Output()"
      ]
     },
     "metadata": {},
     "output_type": "display_data"
    }
   ],
   "source": [
    "import plotly.offline as pyo\n",
    "pyo.init_notebook_mode(connected=True)\n",
    "\n",
    "def on_button_clicked(b):\n",
    "    with out:\n",
    "        clear_output()\n",
    "        df = get_dataframe(from_date_picker.value, to_date_picker.value) \n",
    "        grouped_df = prepare_df(df)\n",
    "        pivot_df, fig = aggregate_by_field(grouped_df, period.value, \n",
    "                                           average=averaging.value,\n",
    "                                           dimension=DIM_MAP[dimension.value],\n",
    "                                           accounts=accounts_w.value)\n",
    "        fig.show()\n",
    "        display(pivot_df)\n",
    "\n",
    "# Creating widgets\n",
    "from_date_picker = widgets.DatePicker(description='From')\n",
    "to_date_picker = widgets.DatePicker(description='To')\n",
    "\n",
    "averaging = widgets.RadioButtons(\n",
    "    options=['macro', 'micro'],\n",
    "    description='Averaging Approach:'\n",
    ")\n",
    "\n",
    "period = widgets.RadioButtons(\n",
    "    options=['W', 'D', 'M'],\n",
    "    description='Period Of Breakdown:'\n",
    ")\n",
    "\n",
    "dimension = widgets.RadioButtons(\n",
    "    options=DIM_MAP.keys(),\n",
    "    description='Dimension To Do Macro-Average Over:'\n",
    ")\n",
    "\n",
    "options = [f'Item {i}' for i in range(1, 41)]\n",
    "accounts_w = widgets.SelectMultiple(\n",
    "    options=sorted(client_industry['Account Name'].str.lower().unique().tolist()),\n",
    "    description='Accounts To Evaluate On:',\n",
    "    disabled=False\n",
    ")\n",
    "\n",
    "button = widgets.Button(description=\"Run function\")\n",
    "button.on_click(on_button_clicked)\n",
    "\n",
    "out = widgets.Output()\n",
    "\n",
    "# Displaying widgets\n",
    "display(from_date_picker, to_date_picker, averaging, dimension, period, accounts_w, button, out)"
   ]
  },
  {
   "cell_type": "code",
   "execution_count": 15,
   "id": "56d1e621-feaa-4e33-8289-c512d6be479f",
   "metadata": {
    "tags": []
   },
   "outputs": [
    {
     "name": "stdout",
     "output_type": "stream",
     "text": [
      "Big Query data request is required. Please, wait...\n"
     ]
    },
    {
     "name": "stderr",
     "output_type": "stream",
     "text": [
      "/var/folders/_p/8_m91crj199_rd7sndkxncc80000gp/T/ipykernel_67035/313005172.py:75: SettingWithCopyWarning:\n",
      "\n",
      "\n",
      "A value is trying to be set on a copy of a slice from a DataFrame.\n",
      "Try using .loc[row_indexer,col_indexer] = value instead\n",
      "\n",
      "See the caveats in the documentation: https://pandas.pydata.org/pandas-docs/stable/user_guide/indexing.html#returning-a-view-versus-a-copy\n",
      "\n"
     ]
    }
   ],
   "source": [
    "df = get_dataframe(date(2023, 10, 1), date(2024, 12, 28))\n"
   ]
  },
  {
   "cell_type": "code",
   "execution_count": null,
   "id": "fce00a0a-a52d-471f-9a17-00fd206a103a",
   "metadata": {},
   "outputs": [],
   "source": [
    "grouped_df = prepare_df(df)"
   ]
  },
  {
   "cell_type": "code",
   "execution_count": 183,
   "id": "81f34151-1b2e-4cb5-a11e-e50fcf2c8f57",
   "metadata": {
    "tags": []
   },
   "outputs": [
    {
     "data": {
      "text/plain": [
       "(2050, 18)"
      ]
     },
     "execution_count": 183,
     "metadata": {},
     "output_type": "execute_result"
    }
   ],
   "source": [
    "dallas = grouped_df[(grouped_df['Account Name'] == 'jamaica')]\n",
    "dallas.shape"
   ]
  },
  {
   "cell_type": "code",
   "execution_count": 185,
   "id": "a7eb6ef4-9c58-41ba-8398-4f36c16efb30",
   "metadata": {
    "tags": []
   },
   "outputs": [
    {
     "name": "stderr",
     "output_type": "stream",
     "text": [
      "/var/folders/_p/8_m91crj199_rd7sndkxncc80000gp/T/ipykernel_67035/1128151374.py:4: SettingWithCopyWarning:\n",
      "\n",
      "\n",
      "A value is trying to be set on a copy of a slice from a DataFrame.\n",
      "Try using .loc[row_indexer,col_indexer] = value instead\n",
      "\n",
      "See the caveats in the documentation: https://pandas.pydata.org/pandas-docs/stable/user_guide/indexing.html#returning-a-view-versus-a-copy\n",
      "\n",
      "/var/folders/_p/8_m91crj199_rd7sndkxncc80000gp/T/ipykernel_67035/1128151374.py:13: FutureWarning:\n",
      "\n",
      "Dropping of nuisance columns in DataFrame reductions (with 'numeric_only=None') is deprecated; in a future version this will raise TypeError.  Select only valid columns before calling the reduction.\n",
      "\n"
     ]
    },
    {
     "data": {
      "application/vnd.plotly.v1+json": {
       "config": {
        "plotlyServerURL": "https://plot.ly"
       },
       "data": [
        {
         "hovertemplate": "variable=Conversion Rate<br>x=%{x}<br>value=%{y}<extra></extra>",
         "legendgroup": "Conversion Rate",
         "line": {
          "color": "#636efa",
          "dash": "solid"
         },
         "marker": {
          "symbol": "circle"
         },
         "mode": "lines",
         "name": "Conversion Rate",
         "orientation": "v",
         "showlegend": true,
         "type": "scatter",
         "x": [
          "2023-10",
          "2023-11",
          "2023-12",
          "2024-01"
         ],
         "xaxis": "x",
         "y": [
          0.46175637393767704,
          0.7362110311750599,
          0.5140449438202247,
          0.49407114624505927
         ],
         "yaxis": "y"
        },
        {
         "hovertemplate": "variable=Dismissed Rate<br>x=%{x}<br>value=%{y}<extra></extra>",
         "legendgroup": "Dismissed Rate",
         "line": {
          "color": "#EF553B",
          "dash": "solid"
         },
         "marker": {
          "symbol": "circle"
         },
         "mode": "lines",
         "name": "Dismissed Rate",
         "orientation": "v",
         "showlegend": true,
         "type": "scatter",
         "x": [
          "2023-10",
          "2023-11",
          "2023-12",
          "2024-01"
         ],
         "xaxis": "x",
         "y": [
          0.31719532554257096,
          0.19572953736654805,
          0.36116910229645094,
          0.3121951219512195
         ],
         "yaxis": "y"
        },
        {
         "hovertemplate": "variable=Marked Relevant Rate<br>x=%{x}<br>value=%{y}<extra></extra>",
         "legendgroup": "Marked Relevant Rate",
         "line": {
          "color": "#00cc96",
          "dash": "solid"
         },
         "marker": {
          "symbol": "circle"
         },
         "mode": "lines",
         "name": "Marked Relevant Rate",
         "orientation": "v",
         "showlegend": true,
         "type": "scatter",
         "x": [
          "2023-10",
          "2023-11",
          "2023-12",
          "2024-01"
         ],
         "xaxis": "x",
         "y": [
          0.27212020033388984,
          0.5462633451957295,
          0.38204592901878914,
          0.3048780487804878
         ],
         "yaxis": "y"
        },
        {
         "hovertemplate": "variable=Overall Propensity Rate<br>x=%{x}<br>value=%{y}<extra></extra>",
         "legendgroup": "Overall Propensity Rate",
         "line": {
          "color": "#ab63fa",
          "dash": "solid"
         },
         "marker": {
          "symbol": "circle"
         },
         "mode": "lines",
         "name": "Overall Propensity Rate",
         "orientation": "v",
         "showlegend": true,
         "type": "scatter",
         "x": [
          "2023-10",
          "2023-11",
          "2023-12",
          "2024-01"
         ],
         "xaxis": "x",
         "y": [
          0.5893155258764607,
          0.7419928825622776,
          0.7432150313152401,
          0.6170731707317073
         ],
         "yaxis": "y"
        }
       ],
       "layout": {
        "height": 400,
        "legend": {
         "title": {
          "text": "variable"
         },
         "tracegroupgap": 0
        },
        "template": {
         "data": {
          "bar": [
           {
            "error_x": {
             "color": "#2a3f5f"
            },
            "error_y": {
             "color": "#2a3f5f"
            },
            "marker": {
             "line": {
              "color": "#E5ECF6",
              "width": 0.5
             },
             "pattern": {
              "fillmode": "overlay",
              "size": 10,
              "solidity": 0.2
             }
            },
            "type": "bar"
           }
          ],
          "barpolar": [
           {
            "marker": {
             "line": {
              "color": "#E5ECF6",
              "width": 0.5
             },
             "pattern": {
              "fillmode": "overlay",
              "size": 10,
              "solidity": 0.2
             }
            },
            "type": "barpolar"
           }
          ],
          "carpet": [
           {
            "aaxis": {
             "endlinecolor": "#2a3f5f",
             "gridcolor": "white",
             "linecolor": "white",
             "minorgridcolor": "white",
             "startlinecolor": "#2a3f5f"
            },
            "baxis": {
             "endlinecolor": "#2a3f5f",
             "gridcolor": "white",
             "linecolor": "white",
             "minorgridcolor": "white",
             "startlinecolor": "#2a3f5f"
            },
            "type": "carpet"
           }
          ],
          "choropleth": [
           {
            "colorbar": {
             "outlinewidth": 0,
             "ticks": ""
            },
            "type": "choropleth"
           }
          ],
          "contour": [
           {
            "colorbar": {
             "outlinewidth": 0,
             "ticks": ""
            },
            "colorscale": [
             [
              0,
              "#0d0887"
             ],
             [
              0.1111111111111111,
              "#46039f"
             ],
             [
              0.2222222222222222,
              "#7201a8"
             ],
             [
              0.3333333333333333,
              "#9c179e"
             ],
             [
              0.4444444444444444,
              "#bd3786"
             ],
             [
              0.5555555555555556,
              "#d8576b"
             ],
             [
              0.6666666666666666,
              "#ed7953"
             ],
             [
              0.7777777777777778,
              "#fb9f3a"
             ],
             [
              0.8888888888888888,
              "#fdca26"
             ],
             [
              1,
              "#f0f921"
             ]
            ],
            "type": "contour"
           }
          ],
          "contourcarpet": [
           {
            "colorbar": {
             "outlinewidth": 0,
             "ticks": ""
            },
            "type": "contourcarpet"
           }
          ],
          "heatmap": [
           {
            "colorbar": {
             "outlinewidth": 0,
             "ticks": ""
            },
            "colorscale": [
             [
              0,
              "#0d0887"
             ],
             [
              0.1111111111111111,
              "#46039f"
             ],
             [
              0.2222222222222222,
              "#7201a8"
             ],
             [
              0.3333333333333333,
              "#9c179e"
             ],
             [
              0.4444444444444444,
              "#bd3786"
             ],
             [
              0.5555555555555556,
              "#d8576b"
             ],
             [
              0.6666666666666666,
              "#ed7953"
             ],
             [
              0.7777777777777778,
              "#fb9f3a"
             ],
             [
              0.8888888888888888,
              "#fdca26"
             ],
             [
              1,
              "#f0f921"
             ]
            ],
            "type": "heatmap"
           }
          ],
          "heatmapgl": [
           {
            "colorbar": {
             "outlinewidth": 0,
             "ticks": ""
            },
            "colorscale": [
             [
              0,
              "#0d0887"
             ],
             [
              0.1111111111111111,
              "#46039f"
             ],
             [
              0.2222222222222222,
              "#7201a8"
             ],
             [
              0.3333333333333333,
              "#9c179e"
             ],
             [
              0.4444444444444444,
              "#bd3786"
             ],
             [
              0.5555555555555556,
              "#d8576b"
             ],
             [
              0.6666666666666666,
              "#ed7953"
             ],
             [
              0.7777777777777778,
              "#fb9f3a"
             ],
             [
              0.8888888888888888,
              "#fdca26"
             ],
             [
              1,
              "#f0f921"
             ]
            ],
            "type": "heatmapgl"
           }
          ],
          "histogram": [
           {
            "marker": {
             "pattern": {
              "fillmode": "overlay",
              "size": 10,
              "solidity": 0.2
             }
            },
            "type": "histogram"
           }
          ],
          "histogram2d": [
           {
            "colorbar": {
             "outlinewidth": 0,
             "ticks": ""
            },
            "colorscale": [
             [
              0,
              "#0d0887"
             ],
             [
              0.1111111111111111,
              "#46039f"
             ],
             [
              0.2222222222222222,
              "#7201a8"
             ],
             [
              0.3333333333333333,
              "#9c179e"
             ],
             [
              0.4444444444444444,
              "#bd3786"
             ],
             [
              0.5555555555555556,
              "#d8576b"
             ],
             [
              0.6666666666666666,
              "#ed7953"
             ],
             [
              0.7777777777777778,
              "#fb9f3a"
             ],
             [
              0.8888888888888888,
              "#fdca26"
             ],
             [
              1,
              "#f0f921"
             ]
            ],
            "type": "histogram2d"
           }
          ],
          "histogram2dcontour": [
           {
            "colorbar": {
             "outlinewidth": 0,
             "ticks": ""
            },
            "colorscale": [
             [
              0,
              "#0d0887"
             ],
             [
              0.1111111111111111,
              "#46039f"
             ],
             [
              0.2222222222222222,
              "#7201a8"
             ],
             [
              0.3333333333333333,
              "#9c179e"
             ],
             [
              0.4444444444444444,
              "#bd3786"
             ],
             [
              0.5555555555555556,
              "#d8576b"
             ],
             [
              0.6666666666666666,
              "#ed7953"
             ],
             [
              0.7777777777777778,
              "#fb9f3a"
             ],
             [
              0.8888888888888888,
              "#fdca26"
             ],
             [
              1,
              "#f0f921"
             ]
            ],
            "type": "histogram2dcontour"
           }
          ],
          "mesh3d": [
           {
            "colorbar": {
             "outlinewidth": 0,
             "ticks": ""
            },
            "type": "mesh3d"
           }
          ],
          "parcoords": [
           {
            "line": {
             "colorbar": {
              "outlinewidth": 0,
              "ticks": ""
             }
            },
            "type": "parcoords"
           }
          ],
          "pie": [
           {
            "automargin": true,
            "type": "pie"
           }
          ],
          "scatter": [
           {
            "marker": {
             "colorbar": {
              "outlinewidth": 0,
              "ticks": ""
             }
            },
            "type": "scatter"
           }
          ],
          "scatter3d": [
           {
            "line": {
             "colorbar": {
              "outlinewidth": 0,
              "ticks": ""
             }
            },
            "marker": {
             "colorbar": {
              "outlinewidth": 0,
              "ticks": ""
             }
            },
            "type": "scatter3d"
           }
          ],
          "scattercarpet": [
           {
            "marker": {
             "colorbar": {
              "outlinewidth": 0,
              "ticks": ""
             }
            },
            "type": "scattercarpet"
           }
          ],
          "scattergeo": [
           {
            "marker": {
             "colorbar": {
              "outlinewidth": 0,
              "ticks": ""
             }
            },
            "type": "scattergeo"
           }
          ],
          "scattergl": [
           {
            "marker": {
             "colorbar": {
              "outlinewidth": 0,
              "ticks": ""
             }
            },
            "type": "scattergl"
           }
          ],
          "scattermapbox": [
           {
            "marker": {
             "colorbar": {
              "outlinewidth": 0,
              "ticks": ""
             }
            },
            "type": "scattermapbox"
           }
          ],
          "scatterpolar": [
           {
            "marker": {
             "colorbar": {
              "outlinewidth": 0,
              "ticks": ""
             }
            },
            "type": "scatterpolar"
           }
          ],
          "scatterpolargl": [
           {
            "marker": {
             "colorbar": {
              "outlinewidth": 0,
              "ticks": ""
             }
            },
            "type": "scatterpolargl"
           }
          ],
          "scatterternary": [
           {
            "marker": {
             "colorbar": {
              "outlinewidth": 0,
              "ticks": ""
             }
            },
            "type": "scatterternary"
           }
          ],
          "surface": [
           {
            "colorbar": {
             "outlinewidth": 0,
             "ticks": ""
            },
            "colorscale": [
             [
              0,
              "#0d0887"
             ],
             [
              0.1111111111111111,
              "#46039f"
             ],
             [
              0.2222222222222222,
              "#7201a8"
             ],
             [
              0.3333333333333333,
              "#9c179e"
             ],
             [
              0.4444444444444444,
              "#bd3786"
             ],
             [
              0.5555555555555556,
              "#d8576b"
             ],
             [
              0.6666666666666666,
              "#ed7953"
             ],
             [
              0.7777777777777778,
              "#fb9f3a"
             ],
             [
              0.8888888888888888,
              "#fdca26"
             ],
             [
              1,
              "#f0f921"
             ]
            ],
            "type": "surface"
           }
          ],
          "table": [
           {
            "cells": {
             "fill": {
              "color": "#EBF0F8"
             },
             "line": {
              "color": "white"
             }
            },
            "header": {
             "fill": {
              "color": "#C8D4E3"
             },
             "line": {
              "color": "white"
             }
            },
            "type": "table"
           }
          ]
         },
         "layout": {
          "annotationdefaults": {
           "arrowcolor": "#2a3f5f",
           "arrowhead": 0,
           "arrowwidth": 1
          },
          "autotypenumbers": "strict",
          "coloraxis": {
           "colorbar": {
            "outlinewidth": 0,
            "ticks": ""
           }
          },
          "colorscale": {
           "diverging": [
            [
             0,
             "#8e0152"
            ],
            [
             0.1,
             "#c51b7d"
            ],
            [
             0.2,
             "#de77ae"
            ],
            [
             0.3,
             "#f1b6da"
            ],
            [
             0.4,
             "#fde0ef"
            ],
            [
             0.5,
             "#f7f7f7"
            ],
            [
             0.6,
             "#e6f5d0"
            ],
            [
             0.7,
             "#b8e186"
            ],
            [
             0.8,
             "#7fbc41"
            ],
            [
             0.9,
             "#4d9221"
            ],
            [
             1,
             "#276419"
            ]
           ],
           "sequential": [
            [
             0,
             "#0d0887"
            ],
            [
             0.1111111111111111,
             "#46039f"
            ],
            [
             0.2222222222222222,
             "#7201a8"
            ],
            [
             0.3333333333333333,
             "#9c179e"
            ],
            [
             0.4444444444444444,
             "#bd3786"
            ],
            [
             0.5555555555555556,
             "#d8576b"
            ],
            [
             0.6666666666666666,
             "#ed7953"
            ],
            [
             0.7777777777777778,
             "#fb9f3a"
            ],
            [
             0.8888888888888888,
             "#fdca26"
            ],
            [
             1,
             "#f0f921"
            ]
           ],
           "sequentialminus": [
            [
             0,
             "#0d0887"
            ],
            [
             0.1111111111111111,
             "#46039f"
            ],
            [
             0.2222222222222222,
             "#7201a8"
            ],
            [
             0.3333333333333333,
             "#9c179e"
            ],
            [
             0.4444444444444444,
             "#bd3786"
            ],
            [
             0.5555555555555556,
             "#d8576b"
            ],
            [
             0.6666666666666666,
             "#ed7953"
            ],
            [
             0.7777777777777778,
             "#fb9f3a"
            ],
            [
             0.8888888888888888,
             "#fdca26"
            ],
            [
             1,
             "#f0f921"
            ]
           ]
          },
          "colorway": [
           "#636efa",
           "#EF553B",
           "#00cc96",
           "#ab63fa",
           "#FFA15A",
           "#19d3f3",
           "#FF6692",
           "#B6E880",
           "#FF97FF",
           "#FECB52"
          ],
          "font": {
           "color": "#2a3f5f"
          },
          "geo": {
           "bgcolor": "white",
           "lakecolor": "white",
           "landcolor": "#E5ECF6",
           "showlakes": true,
           "showland": true,
           "subunitcolor": "white"
          },
          "hoverlabel": {
           "align": "left"
          },
          "hovermode": "closest",
          "mapbox": {
           "style": "light"
          },
          "paper_bgcolor": "white",
          "plot_bgcolor": "#E5ECF6",
          "polar": {
           "angularaxis": {
            "gridcolor": "white",
            "linecolor": "white",
            "ticks": ""
           },
           "bgcolor": "#E5ECF6",
           "radialaxis": {
            "gridcolor": "white",
            "linecolor": "white",
            "ticks": ""
           }
          },
          "scene": {
           "xaxis": {
            "backgroundcolor": "#E5ECF6",
            "gridcolor": "white",
            "gridwidth": 2,
            "linecolor": "white",
            "showbackground": true,
            "ticks": "",
            "zerolinecolor": "white"
           },
           "yaxis": {
            "backgroundcolor": "#E5ECF6",
            "gridcolor": "white",
            "gridwidth": 2,
            "linecolor": "white",
            "showbackground": true,
            "ticks": "",
            "zerolinecolor": "white"
           },
           "zaxis": {
            "backgroundcolor": "#E5ECF6",
            "gridcolor": "white",
            "gridwidth": 2,
            "linecolor": "white",
            "showbackground": true,
            "ticks": "",
            "zerolinecolor": "white"
           }
          },
          "shapedefaults": {
           "line": {
            "color": "#2a3f5f"
           }
          },
          "ternary": {
           "aaxis": {
            "gridcolor": "white",
            "linecolor": "white",
            "ticks": ""
           },
           "baxis": {
            "gridcolor": "white",
            "linecolor": "white",
            "ticks": ""
           },
           "bgcolor": "#E5ECF6",
           "caxis": {
            "gridcolor": "white",
            "linecolor": "white",
            "ticks": ""
           }
          },
          "title": {
           "x": 0.05
          },
          "xaxis": {
           "automargin": true,
           "gridcolor": "white",
           "linecolor": "white",
           "ticks": "",
           "title": {
            "standoff": 15
           },
           "zerolinecolor": "white",
           "zerolinewidth": 2
          },
          "yaxis": {
           "automargin": true,
           "gridcolor": "white",
           "linecolor": "white",
           "ticks": "",
           "title": {
            "standoff": 15
           },
           "zerolinecolor": "white",
           "zerolinewidth": 2
          }
         }
        },
        "title": {
         "text": "Conversion Rate in 2023 (MacroAvg Across fetch_recommendation_activity_customer) By M Periods"
        },
        "width": 800,
        "xaxis": {
         "anchor": "y",
         "autorange": true,
         "domain": [
          0,
          1
         ],
         "range": [
          "2023-10-01",
          "2024-01-01"
         ],
         "title": {
          "text": "M"
         },
         "type": "date"
        },
        "yaxis": {
         "anchor": "x",
         "autorange": true,
         "domain": [
          0,
          1
         ],
         "range": [
          0.16531367659162072,
          0.7736308920901674
         ],
         "title": {
          "text": "value"
         },
         "type": "linear"
        }
       }
      },
      "image/png": "[encoded data removed]",
      "text/html": [
       "<div>                            <div id=\"73994853-f93f-43a9-9aef-5454c54188cf\" class=\"plotly-graph-div\" style=\"height:400px; width:800px;\"></div>            <script type=\"text/javascript\">                require([\"plotly\"], function(Plotly) {                    window.PLOTLYENV=window.PLOTLYENV || {};                                    if (document.getElementById(\"73994853-f93f-43a9-9aef-5454c54188cf\")) {                    Plotly.newPlot(                        \"73994853-f93f-43a9-9aef-5454c54188cf\",                        [{\"hovertemplate\":\"variable=Conversion Rate<br>x=%{x}<br>value=%{y}<extra></extra>\",\"legendgroup\":\"Conversion Rate\",\"line\":{\"color\":\"#636efa\",\"dash\":\"solid\"},\"marker\":{\"symbol\":\"circle\"},\"mode\":\"lines\",\"name\":\"Conversion Rate\",\"orientation\":\"v\",\"showlegend\":true,\"type\":\"scatter\",\"x\":[\"2023-10\",\"2023-11\",\"2023-12\",\"2024-01\"],\"xaxis\":\"x\",\"y\":[0.46175637393767704,0.7362110311750599,0.5140449438202247,0.49407114624505927],\"yaxis\":\"y\"},{\"hovertemplate\":\"variable=Dismissed Rate<br>x=%{x}<br>value=%{y}<extra></extra>\",\"legendgroup\":\"Dismissed Rate\",\"line\":{\"color\":\"#EF553B\",\"dash\":\"solid\"},\"marker\":{\"symbol\":\"circle\"},\"mode\":\"lines\",\"name\":\"Dismissed Rate\",\"orientation\":\"v\",\"showlegend\":true,\"type\":\"scatter\",\"x\":[\"2023-10\",\"2023-11\",\"2023-12\",\"2024-01\"],\"xaxis\":\"x\",\"y\":[0.31719532554257096,0.19572953736654805,0.36116910229645094,0.3121951219512195],\"yaxis\":\"y\"},{\"hovertemplate\":\"variable=Marked Relevant Rate<br>x=%{x}<br>value=%{y}<extra></extra>\",\"legendgroup\":\"Marked Relevant Rate\",\"line\":{\"color\":\"#00cc96\",\"dash\":\"solid\"},\"marker\":{\"symbol\":\"circle\"},\"mode\":\"lines\",\"name\":\"Marked Relevant Rate\",\"orientation\":\"v\",\"showlegend\":true,\"type\":\"scatter\",\"x\":[\"2023-10\",\"2023-11\",\"2023-12\",\"2024-01\"],\"xaxis\":\"x\",\"y\":[0.27212020033388984,0.5462633451957295,0.38204592901878914,0.3048780487804878],\"yaxis\":\"y\"},{\"hovertemplate\":\"variable=Overall Propensity Rate<br>x=%{x}<br>value=%{y}<extra></extra>\",\"legendgroup\":\"Overall Propensity Rate\",\"line\":{\"color\":\"#ab63fa\",\"dash\":\"solid\"},\"marker\":{\"symbol\":\"circle\"},\"mode\":\"lines\",\"name\":\"Overall Propensity Rate\",\"orientation\":\"v\",\"showlegend\":true,\"type\":\"scatter\",\"x\":[\"2023-10\",\"2023-11\",\"2023-12\",\"2024-01\"],\"xaxis\":\"x\",\"y\":[0.5893155258764607,0.7419928825622776,0.7432150313152401,0.6170731707317073],\"yaxis\":\"y\"}],                        {\"height\":400,\"legend\":{\"title\":{\"text\":\"variable\"},\"tracegroupgap\":0},\"template\":{\"data\":{\"bar\":[{\"error_x\":{\"color\":\"#2a3f5f\"},\"error_y\":{\"color\":\"#2a3f5f\"},\"marker\":{\"line\":{\"color\":\"#E5ECF6\",\"width\":0.5},\"pattern\":{\"fillmode\":\"overlay\",\"size\":10,\"solidity\":0.2}},\"type\":\"bar\"}],\"barpolar\":[{\"marker\":{\"line\":{\"color\":\"#E5ECF6\",\"width\":0.5},\"pattern\":{\"fillmode\":\"overlay\",\"size\":10,\"solidity\":0.2}},\"type\":\"barpolar\"}],\"carpet\":[{\"aaxis\":{\"endlinecolor\":\"#2a3f5f\",\"gridcolor\":\"white\",\"linecolor\":\"white\",\"minorgridcolor\":\"white\",\"startlinecolor\":\"#2a3f5f\"},\"baxis\":{\"endlinecolor\":\"#2a3f5f\",\"gridcolor\":\"white\",\"linecolor\":\"white\",\"minorgridcolor\":\"white\",\"startlinecolor\":\"#2a3f5f\"},\"type\":\"carpet\"}],\"choropleth\":[{\"colorbar\":{\"outlinewidth\":0,\"ticks\":\"\"},\"type\":\"choropleth\"}],\"contour\":[{\"colorbar\":{\"outlinewidth\":0,\"ticks\":\"\"},\"colorscale\":[[0.0,\"#0d0887\"],[0.1111111111111111,\"#46039f\"],[0.2222222222222222,\"#7201a8\"],[0.3333333333333333,\"#9c179e\"],[0.4444444444444444,\"#bd3786\"],[0.5555555555555556,\"#d8576b\"],[0.6666666666666666,\"#ed7953\"],[0.7777777777777778,\"#fb9f3a\"],[0.8888888888888888,\"#fdca26\"],[1.0,\"#f0f921\"]],\"type\":\"contour\"}],\"contourcarpet\":[{\"colorbar\":{\"outlinewidth\":0,\"ticks\":\"\"},\"type\":\"contourcarpet\"}],\"heatmap\":[{\"colorbar\":{\"outlinewidth\":0,\"ticks\":\"\"},\"colorscale\":[[0.0,\"#0d0887\"],[0.1111111111111111,\"#46039f\"],[0.2222222222222222,\"#7201a8\"],[0.3333333333333333,\"#9c179e\"],[0.4444444444444444,\"#bd3786\"],[0.5555555555555556,\"#d8576b\"],[0.6666666666666666,\"#ed7953\"],[0.7777777777777778,\"#fb9f3a\"],[0.8888888888888888,\"#fdca26\"],[1.0,\"#f0f921\"]],\"type\":\"heatmap\"}],\"heatmapgl\":[{\"colorbar\":{\"outlinewidth\":0,\"ticks\":\"\"},\"colorscale\":[[0.0,\"#0d0887\"],[0.1111111111111111,\"#46039f\"],[0.2222222222222222,\"#7201a8\"],[0.3333333333333333,\"#9c179e\"],[0.4444444444444444,\"#bd3786\"],[0.5555555555555556,\"#d8576b\"],[0.6666666666666666,\"#ed7953\"],[0.7777777777777778,\"#fb9f3a\"],[0.8888888888888888,\"#fdca26\"],[1.0,\"#f0f921\"]],\"type\":\"heatmapgl\"}],\"histogram\":[{\"marker\":{\"pattern\":{\"fillmode\":\"overlay\",\"size\":10,\"solidity\":0.2}},\"type\":\"histogram\"}],\"histogram2d\":[{\"colorbar\":{\"outlinewidth\":0,\"ticks\":\"\"},\"colorscale\":[[0.0,\"#0d0887\"],[0.1111111111111111,\"#46039f\"],[0.2222222222222222,\"#7201a8\"],[0.3333333333333333,\"#9c179e\"],[0.4444444444444444,\"#bd3786\"],[0.5555555555555556,\"#d8576b\"],[0.6666666666666666,\"#ed7953\"],[0.7777777777777778,\"#fb9f3a\"],[0.8888888888888888,\"#fdca26\"],[1.0,\"#f0f921\"]],\"type\":\"histogram2d\"}],\"histogram2dcontour\":[{\"colorbar\":{\"outlinewidth\":0,\"ticks\":\"\"},\"colorscale\":[[0.0,\"#0d0887\"],[0.1111111111111111,\"#46039f\"],[0.2222222222222222,\"#7201a8\"],[0.3333333333333333,\"#9c179e\"],[0.4444444444444444,\"#bd3786\"],[0.5555555555555556,\"#d8576b\"],[0.6666666666666666,\"#ed7953\"],[0.7777777777777778,\"#fb9f3a\"],[0.8888888888888888,\"#fdca26\"],[1.0,\"#f0f921\"]],\"type\":\"histogram2dcontour\"}],\"mesh3d\":[{\"colorbar\":{\"outlinewidth\":0,\"ticks\":\"\"},\"type\":\"mesh3d\"}],\"parcoords\":[{\"line\":{\"colorbar\":{\"outlinewidth\":0,\"ticks\":\"\"}},\"type\":\"parcoords\"}],\"pie\":[{\"automargin\":true,\"type\":\"pie\"}],\"scatter\":[{\"marker\":{\"colorbar\":{\"outlinewidth\":0,\"ticks\":\"\"}},\"type\":\"scatter\"}],\"scatter3d\":[{\"line\":{\"colorbar\":{\"outlinewidth\":0,\"ticks\":\"\"}},\"marker\":{\"colorbar\":{\"outlinewidth\":0,\"ticks\":\"\"}},\"type\":\"scatter3d\"}],\"scattercarpet\":[{\"marker\":{\"colorbar\":{\"outlinewidth\":0,\"ticks\":\"\"}},\"type\":\"scattercarpet\"}],\"scattergeo\":[{\"marker\":{\"colorbar\":{\"outlinewidth\":0,\"ticks\":\"\"}},\"type\":\"scattergeo\"}],\"scattergl\":[{\"marker\":{\"colorbar\":{\"outlinewidth\":0,\"ticks\":\"\"}},\"type\":\"scattergl\"}],\"scattermapbox\":[{\"marker\":{\"colorbar\":{\"outlinewidth\":0,\"ticks\":\"\"}},\"type\":\"scattermapbox\"}],\"scatterpolar\":[{\"marker\":{\"colorbar\":{\"outlinewidth\":0,\"ticks\":\"\"}},\"type\":\"scatterpolar\"}],\"scatterpolargl\":[{\"marker\":{\"colorbar\":{\"outlinewidth\":0,\"ticks\":\"\"}},\"type\":\"scatterpolargl\"}],\"scatterternary\":[{\"marker\":{\"colorbar\":{\"outlinewidth\":0,\"ticks\":\"\"}},\"type\":\"scatterternary\"}],\"surface\":[{\"colorbar\":{\"outlinewidth\":0,\"ticks\":\"\"},\"colorscale\":[[0.0,\"#0d0887\"],[0.1111111111111111,\"#46039f\"],[0.2222222222222222,\"#7201a8\"],[0.3333333333333333,\"#9c179e\"],[0.4444444444444444,\"#bd3786\"],[0.5555555555555556,\"#d8576b\"],[0.6666666666666666,\"#ed7953\"],[0.7777777777777778,\"#fb9f3a\"],[0.8888888888888888,\"#fdca26\"],[1.0,\"#f0f921\"]],\"type\":\"surface\"}],\"table\":[{\"cells\":{\"fill\":{\"color\":\"#EBF0F8\"},\"line\":{\"color\":\"white\"}},\"header\":{\"fill\":{\"color\":\"#C8D4E3\"},\"line\":{\"color\":\"white\"}},\"type\":\"table\"}]},\"layout\":{\"annotationdefaults\":{\"arrowcolor\":\"#2a3f5f\",\"arrowhead\":0,\"arrowwidth\":1},\"autotypenumbers\":\"strict\",\"coloraxis\":{\"colorbar\":{\"outlinewidth\":0,\"ticks\":\"\"}},\"colorscale\":{\"diverging\":[[0,\"#8e0152\"],[0.1,\"#c51b7d\"],[0.2,\"#de77ae\"],[0.3,\"#f1b6da\"],[0.4,\"#fde0ef\"],[0.5,\"#f7f7f7\"],[0.6,\"#e6f5d0\"],[0.7,\"#b8e186\"],[0.8,\"#7fbc41\"],[0.9,\"#4d9221\"],[1,\"#276419\"]],\"sequential\":[[0.0,\"#0d0887\"],[0.1111111111111111,\"#46039f\"],[0.2222222222222222,\"#7201a8\"],[0.3333333333333333,\"#9c179e\"],[0.4444444444444444,\"#bd3786\"],[0.5555555555555556,\"#d8576b\"],[0.6666666666666666,\"#ed7953\"],[0.7777777777777778,\"#fb9f3a\"],[0.8888888888888888,\"#fdca26\"],[1.0,\"#f0f921\"]],\"sequentialminus\":[[0.0,\"#0d0887\"],[0.1111111111111111,\"#46039f\"],[0.2222222222222222,\"#7201a8\"],[0.3333333333333333,\"#9c179e\"],[0.4444444444444444,\"#bd3786\"],[0.5555555555555556,\"#d8576b\"],[0.6666666666666666,\"#ed7953\"],[0.7777777777777778,\"#fb9f3a\"],[0.8888888888888888,\"#fdca26\"],[1.0,\"#f0f921\"]]},\"colorway\":[\"#636efa\",\"#EF553B\",\"#00cc96\",\"#ab63fa\",\"#FFA15A\",\"#19d3f3\",\"#FF6692\",\"#B6E880\",\"#FF97FF\",\"#FECB52\"],\"font\":{\"color\":\"#2a3f5f\"},\"geo\":{\"bgcolor\":\"white\",\"lakecolor\":\"white\",\"landcolor\":\"#E5ECF6\",\"showlakes\":true,\"showland\":true,\"subunitcolor\":\"white\"},\"hoverlabel\":{\"align\":\"left\"},\"hovermode\":\"closest\",\"mapbox\":{\"style\":\"light\"},\"paper_bgcolor\":\"white\",\"plot_bgcolor\":\"#E5ECF6\",\"polar\":{\"angularaxis\":{\"gridcolor\":\"white\",\"linecolor\":\"white\",\"ticks\":\"\"},\"bgcolor\":\"#E5ECF6\",\"radialaxis\":{\"gridcolor\":\"white\",\"linecolor\":\"white\",\"ticks\":\"\"}},\"scene\":{\"xaxis\":{\"backgroundcolor\":\"#E5ECF6\",\"gridcolor\":\"white\",\"gridwidth\":2,\"linecolor\":\"white\",\"showbackground\":true,\"ticks\":\"\",\"zerolinecolor\":\"white\"},\"yaxis\":{\"backgroundcolor\":\"#E5ECF6\",\"gridcolor\":\"white\",\"gridwidth\":2,\"linecolor\":\"white\",\"showbackground\":true,\"ticks\":\"\",\"zerolinecolor\":\"white\"},\"zaxis\":{\"backgroundcolor\":\"#E5ECF6\",\"gridcolor\":\"white\",\"gridwidth\":2,\"linecolor\":\"white\",\"showbackground\":true,\"ticks\":\"\",\"zerolinecolor\":\"white\"}},\"shapedefaults\":{\"line\":{\"color\":\"#2a3f5f\"}},\"ternary\":{\"aaxis\":{\"gridcolor\":\"white\",\"linecolor\":\"white\",\"ticks\":\"\"},\"baxis\":{\"gridcolor\":\"white\",\"linecolor\":\"white\",\"ticks\":\"\"},\"bgcolor\":\"#E5ECF6\",\"caxis\":{\"gridcolor\":\"white\",\"linecolor\":\"white\",\"ticks\":\"\"}},\"title\":{\"x\":0.05},\"xaxis\":{\"automargin\":true,\"gridcolor\":\"white\",\"linecolor\":\"white\",\"ticks\":\"\",\"title\":{\"standoff\":15},\"zerolinecolor\":\"white\",\"zerolinewidth\":2},\"yaxis\":{\"automargin\":true,\"gridcolor\":\"white\",\"linecolor\":\"white\",\"ticks\":\"\",\"title\":{\"standoff\":15},\"zerolinecolor\":\"white\",\"zerolinewidth\":2}}},\"title\":{\"text\":\"Conversion Rate in 2023 (MacroAvg Across fetch_recommendation_activity_customer) By M Periods\"},\"width\":800,\"xaxis\":{\"anchor\":\"y\",\"domain\":[0.0,1.0],\"title\":{\"text\":\"M\"}},\"yaxis\":{\"anchor\":\"x\",\"domain\":[0.0,1.0],\"title\":{\"text\":\"value\"}}},                        {\"responsive\": true}                    ).then(function(){\n",
       "                            \n",
       "var gd = document.getElementById('73994853-f93f-43a9-9aef-5454c54188cf');\n",
       "var x = new MutationObserver(function (mutations, observer) {{\n",
       "        var display = window.getComputedStyle(gd).display;\n",
       "        if (!display || display === 'none') {{\n",
       "            console.log([gd, 'removed!']);\n",
       "            Plotly.purge(gd);\n",
       "            observer.disconnect();\n",
       "        }}\n",
       "}});\n",
       "\n",
       "// Listen for the removal of the full notebook cells\n",
       "var notebookContainer = gd.closest('#notebook-container');\n",
       "if (notebookContainer) {{\n",
       "    x.observe(notebookContainer, {childList: true});\n",
       "}}\n",
       "\n",
       "// Listen for the clearing of the current output cell\n",
       "var outputEl = gd.closest('.output');\n",
       "if (outputEl) {{\n",
       "    x.observe(outputEl, {childList: true});\n",
       "}}\n",
       "\n",
       "                        })                };                });            </script>        </div>"
      ]
     },
     "metadata": {},
     "output_type": "display_data"
    },
    {
     "data": {
      "text/html": [
       "<div>\n",
       "<style scoped>\n",
       "    .dataframe tbody tr th:only-of-type {\n",
       "        vertical-align: middle;\n",
       "    }\n",
       "\n",
       "    .dataframe tbody tr th {\n",
       "        vertical-align: top;\n",
       "    }\n",
       "\n",
       "    .dataframe thead th {\n",
       "        text-align: right;\n",
       "    }\n",
       "</style>\n",
       "<table border=\"1\" class=\"dataframe\">\n",
       "  <thead>\n",
       "    <tr style=\"text-align: right;\">\n",
       "      <th></th>\n",
       "      <th>Period M</th>\n",
       "      <th>Dismissed</th>\n",
       "      <th>Marked Relevant</th>\n",
       "      <th>Review</th>\n",
       "      <th>All</th>\n",
       "      <th>Conversion Rate</th>\n",
       "      <th>Dismissed Rate</th>\n",
       "      <th>Marked Relevant Rate</th>\n",
       "      <th>Review Rate</th>\n",
       "      <th>Overall Propensity Rate</th>\n",
       "    </tr>\n",
       "  </thead>\n",
       "  <tbody>\n",
       "    <tr>\n",
       "      <th>0</th>\n",
       "      <td>2023-10</td>\n",
       "      <td>190.0</td>\n",
       "      <td>163.0</td>\n",
       "      <td>246.0</td>\n",
       "      <td>599.0</td>\n",
       "      <td>0.461756</td>\n",
       "      <td>0.317195</td>\n",
       "      <td>0.272120</td>\n",
       "      <td>0.410684</td>\n",
       "      <td>0.589316</td>\n",
       "    </tr>\n",
       "    <tr>\n",
       "      <th>1</th>\n",
       "      <td>2023-11</td>\n",
       "      <td>110.0</td>\n",
       "      <td>307.0</td>\n",
       "      <td>145.0</td>\n",
       "      <td>562.0</td>\n",
       "      <td>0.736211</td>\n",
       "      <td>0.195730</td>\n",
       "      <td>0.546263</td>\n",
       "      <td>0.258007</td>\n",
       "      <td>0.741993</td>\n",
       "    </tr>\n",
       "    <tr>\n",
       "      <th>2</th>\n",
       "      <td>2023-12</td>\n",
       "      <td>173.0</td>\n",
       "      <td>183.0</td>\n",
       "      <td>123.0</td>\n",
       "      <td>479.0</td>\n",
       "      <td>0.514045</td>\n",
       "      <td>0.361169</td>\n",
       "      <td>0.382046</td>\n",
       "      <td>0.256785</td>\n",
       "      <td>0.743215</td>\n",
       "    </tr>\n",
       "    <tr>\n",
       "      <th>3</th>\n",
       "      <td>2024-01</td>\n",
       "      <td>128.0</td>\n",
       "      <td>125.0</td>\n",
       "      <td>157.0</td>\n",
       "      <td>410.0</td>\n",
       "      <td>0.494071</td>\n",
       "      <td>0.312195</td>\n",
       "      <td>0.304878</td>\n",
       "      <td>0.382927</td>\n",
       "      <td>0.617073</td>\n",
       "    </tr>\n",
       "  </tbody>\n",
       "</table>\n",
       "</div>"
      ],
      "text/plain": [
       "  Period M  Dismissed  Marked Relevant  Review    All  Conversion Rate  \\\n",
       "0  2023-10      190.0            163.0   246.0  599.0         0.461756   \n",
       "1  2023-11      110.0            307.0   145.0  562.0         0.736211   \n",
       "2  2023-12      173.0            183.0   123.0  479.0         0.514045   \n",
       "3  2024-01      128.0            125.0   157.0  410.0         0.494071   \n",
       "\n",
       "   Dismissed Rate  Marked Relevant Rate  Review Rate  Overall Propensity Rate  \n",
       "0        0.317195              0.272120     0.410684                 0.589316  \n",
       "1        0.195730              0.546263     0.258007                 0.741993  \n",
       "2        0.361169              0.382046     0.256785                 0.743215  \n",
       "3        0.312195              0.304878     0.382927                 0.617073  "
      ]
     },
     "metadata": {},
     "output_type": "display_data"
    }
   ],
   "source": [
    "pivot_df, fig = aggregate_by_field(dallas, 'M', \n",
    "                                   average='micro',\n",
    "                                   dimension='fetch_recommendation_activity_customer',\n",
    "                                   accounts=accounts_w.value)\n",
    "fig.show()\n",
    "display(pivot_df)"
   ]
  },
  {
   "cell_type": "code",
   "execution_count": null,
   "id": "9b159b31-4337-4004-82ba-01bfa5968ca8",
   "metadata": {
    "tags": []
   },
   "outputs": [],
   "source": [
    "grouped_df.columns"
   ]
  },
  {
   "cell_type": "code",
   "execution_count": 181,
   "id": "7ddd3318-8b84-40a5-81eb-b92c7d0dab15",
   "metadata": {
    "tags": []
   },
   "outputs": [],
   "source": [
    "dallas = grouped_df[grouped_df['fetch_recommendation_activity_customer'] == 'dallas']\n",
    "gb = ['Period M', 'fact_recommendation_status_history_user_id']"
   ]
  },
  {
   "cell_type": "code",
   "execution_count": 182,
   "id": "a6b00a29-c8cb-4059-bedd-328a4462c3e6",
   "metadata": {
    "tags": []
   },
   "outputs": [
    {
     "data": {
      "text/plain": [
       "(182, 7)"
      ]
     },
     "execution_count": 182,
     "metadata": {},
     "output_type": "execute_result"
    }
   ],
   "source": [
    "xdf = dallas.groupby(gb).sum()[['Marked Relevant', 'Dismissed', 'Review']].reset_index()\n",
    "xdf['total'] = xdf['Marked Relevant'] + xdf['Dismissed'] + xdf['Review']\n",
    "xdf['rate'] = xdf['Marked Relevant'] / xdf['total']\n",
    "xdf.shape"
   ]
  },
  {
   "cell_type": "code",
   "execution_count": 170,
   "id": "18869be9-9b60-4f87-a42c-4086e63a9bd9",
   "metadata": {
    "tags": []
   },
   "outputs": [
    {
     "data": {
      "text/plain": [
       "4"
      ]
     },
     "execution_count": 170,
     "metadata": {},
     "output_type": "execute_result"
    }
   ],
   "source": [
    "xdf['Period M'].nunique()"
   ]
  },
  {
   "cell_type": "code",
   "execution_count": 171,
   "id": "c2b737fa-c543-4544-95fc-0986910fbe25",
   "metadata": {
    "tags": []
   },
   "outputs": [],
   "source": [
    "user_counts = xdf.groupby(['fact_recommendation_status_history_user_id'])['total'].count().reset_index()"
   ]
  },
  {
   "cell_type": "code",
   "execution_count": 172,
   "id": "798fe6ac-073a-4efc-9818-c84c1891c422",
   "metadata": {
    "tags": []
   },
   "outputs": [
    {
     "data": {
      "text/plain": [
       "16"
      ]
     },
     "execution_count": 172,
     "metadata": {},
     "output_type": "execute_result"
    }
   ],
   "source": [
    "relevant_users = user_counts['fact_recommendation_status_history_user_id'][user_counts['total'] >= 3]\n",
    "len(relevant_users)"
   ]
  },
  {
   "cell_type": "code",
   "execution_count": 173,
   "id": "84ca530e-ede4-4b24-81e6-8271dc46ebf6",
   "metadata": {
    "tags": []
   },
   "outputs": [],
   "source": [
    "xdf = xdf[xdf['fact_recommendation_status_history_user_id'].isin(relevant_users)]"
   ]
  },
  {
   "cell_type": "code",
   "execution_count": 174,
   "id": "bf50e970-c3e4-49f1-8b9c-a52199b34082",
   "metadata": {
    "tags": []
   },
   "outputs": [
    {
     "data": {
      "text/html": [
       "<div>\n",
       "<style scoped>\n",
       "    .dataframe tbody tr th:only-of-type {\n",
       "        vertical-align: middle;\n",
       "    }\n",
       "\n",
       "    .dataframe tbody tr th {\n",
       "        vertical-align: top;\n",
       "    }\n",
       "\n",
       "    .dataframe thead tr th {\n",
       "        text-align: left;\n",
       "    }\n",
       "\n",
       "    .dataframe thead tr:last-of-type th {\n",
       "        text-align: right;\n",
       "    }\n",
       "</style>\n",
       "<table border=\"1\" class=\"dataframe\">\n",
       "  <thead>\n",
       "    <tr>\n",
       "      <th></th>\n",
       "      <th colspan=\"16\" halign=\"left\">total</th>\n",
       "    </tr>\n",
       "    <tr>\n",
       "      <th>fact_recommendation_status_history_user_id</th>\n",
       "      <th>DEL15</th>\n",
       "      <th>DEL152</th>\n",
       "      <th>DEL222</th>\n",
       "      <th>DEL225</th>\n",
       "      <th>DEL24</th>\n",
       "      <th>DEL25</th>\n",
       "      <th>DEL421</th>\n",
       "      <th>DEL427</th>\n",
       "      <th>DEL456</th>\n",
       "      <th>DEL519</th>\n",
       "      <th>DEL53</th>\n",
       "      <th>DEL666</th>\n",
       "      <th>DEL681</th>\n",
       "      <th>DEL73</th>\n",
       "      <th>DEL77</th>\n",
       "      <th>DEL98</th>\n",
       "    </tr>\n",
       "    <tr>\n",
       "      <th>Period M</th>\n",
       "      <th></th>\n",
       "      <th></th>\n",
       "      <th></th>\n",
       "      <th></th>\n",
       "      <th></th>\n",
       "      <th></th>\n",
       "      <th></th>\n",
       "      <th></th>\n",
       "      <th></th>\n",
       "      <th></th>\n",
       "      <th></th>\n",
       "      <th></th>\n",
       "      <th></th>\n",
       "      <th></th>\n",
       "      <th></th>\n",
       "      <th></th>\n",
       "    </tr>\n",
       "  </thead>\n",
       "  <tbody>\n",
       "    <tr>\n",
       "      <th>2023-10</th>\n",
       "      <td>16.0</td>\n",
       "      <td>61.0</td>\n",
       "      <td>24.0</td>\n",
       "      <td>68.0</td>\n",
       "      <td>NaN</td>\n",
       "      <td>12.0</td>\n",
       "      <td>8.0</td>\n",
       "      <td>60.0</td>\n",
       "      <td>5.0</td>\n",
       "      <td>7.0</td>\n",
       "      <td>78.0</td>\n",
       "      <td>89.0</td>\n",
       "      <td>24.0</td>\n",
       "      <td>97.0</td>\n",
       "      <td>140.0</td>\n",
       "      <td>NaN</td>\n",
       "    </tr>\n",
       "    <tr>\n",
       "      <th>2023-11</th>\n",
       "      <td>48.0</td>\n",
       "      <td>48.0</td>\n",
       "      <td>32.0</td>\n",
       "      <td>64.0</td>\n",
       "      <td>49.0</td>\n",
       "      <td>33.0</td>\n",
       "      <td>7.0</td>\n",
       "      <td>NaN</td>\n",
       "      <td>1.0</td>\n",
       "      <td>7.0</td>\n",
       "      <td>57.0</td>\n",
       "      <td>17.0</td>\n",
       "      <td>14.0</td>\n",
       "      <td>93.0</td>\n",
       "      <td>19.0</td>\n",
       "      <td>9.0</td>\n",
       "    </tr>\n",
       "    <tr>\n",
       "      <th>2023-12</th>\n",
       "      <td>8.0</td>\n",
       "      <td>7.0</td>\n",
       "      <td>105.0</td>\n",
       "      <td>24.0</td>\n",
       "      <td>8.0</td>\n",
       "      <td>3.0</td>\n",
       "      <td>16.0</td>\n",
       "      <td>4.0</td>\n",
       "      <td>19.0</td>\n",
       "      <td>NaN</td>\n",
       "      <td>128.0</td>\n",
       "      <td>16.0</td>\n",
       "      <td>1.0</td>\n",
       "      <td>56.0</td>\n",
       "      <td>108.0</td>\n",
       "      <td>20.0</td>\n",
       "    </tr>\n",
       "    <tr>\n",
       "      <th>2024-01</th>\n",
       "      <td>7.0</td>\n",
       "      <td>41.0</td>\n",
       "      <td>26.0</td>\n",
       "      <td>39.0</td>\n",
       "      <td>37.0</td>\n",
       "      <td>NaN</td>\n",
       "      <td>NaN</td>\n",
       "      <td>8.0</td>\n",
       "      <td>8.0</td>\n",
       "      <td>1.0</td>\n",
       "      <td>48.0</td>\n",
       "      <td>8.0</td>\n",
       "      <td>15.0</td>\n",
       "      <td>37.0</td>\n",
       "      <td>31.0</td>\n",
       "      <td>2.0</td>\n",
       "    </tr>\n",
       "  </tbody>\n",
       "</table>\n",
       "</div>"
      ],
      "text/plain": [
       "                                           total                             \\\n",
       "fact_recommendation_status_history_user_id DEL15 DEL152 DEL222 DEL225 DEL24   \n",
       "Period M                                                                      \n",
       "2023-10                                     16.0   61.0   24.0   68.0   NaN   \n",
       "2023-11                                     48.0   48.0   32.0   64.0  49.0   \n",
       "2023-12                                      8.0    7.0  105.0   24.0   8.0   \n",
       "2024-01                                      7.0   41.0   26.0   39.0  37.0   \n",
       "\n",
       "                                                                              \\\n",
       "fact_recommendation_status_history_user_id DEL25 DEL421 DEL427 DEL456 DEL519   \n",
       "Period M                                                                       \n",
       "2023-10                                     12.0    8.0   60.0    5.0    7.0   \n",
       "2023-11                                     33.0    7.0    NaN    1.0    7.0   \n",
       "2023-12                                      3.0   16.0    4.0   19.0    NaN   \n",
       "2024-01                                      NaN    NaN    8.0    8.0    1.0   \n",
       "\n",
       "                                                                              \\\n",
       "fact_recommendation_status_history_user_id  DEL53 DEL666 DEL681 DEL73  DEL77   \n",
       "Period M                                                                       \n",
       "2023-10                                      78.0   89.0   24.0  97.0  140.0   \n",
       "2023-11                                      57.0   17.0   14.0  93.0   19.0   \n",
       "2023-12                                     128.0   16.0    1.0  56.0  108.0   \n",
       "2024-01                                      48.0    8.0   15.0  37.0   31.0   \n",
       "\n",
       "                                                  \n",
       "fact_recommendation_status_history_user_id DEL98  \n",
       "Period M                                          \n",
       "2023-10                                      NaN  \n",
       "2023-11                                      9.0  \n",
       "2023-12                                     20.0  \n",
       "2024-01                                      2.0  "
      ]
     },
     "execution_count": 174,
     "metadata": {},
     "output_type": "execute_result"
    }
   ],
   "source": [
    "xdf.set_index(['Period M', 'fact_recommendation_status_history_user_id'])[['total']].unstack()"
   ]
  },
  {
   "cell_type": "code",
   "execution_count": 175,
   "id": "f80e24b9-895d-424c-9634-cfc65d6bcb22",
   "metadata": {
    "tags": []
   },
   "outputs": [
    {
     "data": {
      "text/html": [
       "<div>\n",
       "<style scoped>\n",
       "    .dataframe tbody tr th:only-of-type {\n",
       "        vertical-align: middle;\n",
       "    }\n",
       "\n",
       "    .dataframe tbody tr th {\n",
       "        vertical-align: top;\n",
       "    }\n",
       "\n",
       "    .dataframe thead tr th {\n",
       "        text-align: left;\n",
       "    }\n",
       "\n",
       "    .dataframe thead tr:last-of-type th {\n",
       "        text-align: right;\n",
       "    }\n",
       "</style>\n",
       "<table border=\"1\" class=\"dataframe\">\n",
       "  <thead>\n",
       "    <tr>\n",
       "      <th></th>\n",
       "      <th colspan=\"16\" halign=\"left\">total</th>\n",
       "    </tr>\n",
       "    <tr>\n",
       "      <th>fact_recommendation_status_history_user_id</th>\n",
       "      <th>DEL15</th>\n",
       "      <th>DEL152</th>\n",
       "      <th>DEL222</th>\n",
       "      <th>DEL225</th>\n",
       "      <th>DEL24</th>\n",
       "      <th>DEL25</th>\n",
       "      <th>DEL421</th>\n",
       "      <th>DEL427</th>\n",
       "      <th>DEL456</th>\n",
       "      <th>DEL519</th>\n",
       "      <th>DEL53</th>\n",
       "      <th>DEL666</th>\n",
       "      <th>DEL681</th>\n",
       "      <th>DEL73</th>\n",
       "      <th>DEL77</th>\n",
       "      <th>DEL98</th>\n",
       "    </tr>\n",
       "    <tr>\n",
       "      <th>Period M</th>\n",
       "      <th></th>\n",
       "      <th></th>\n",
       "      <th></th>\n",
       "      <th></th>\n",
       "      <th></th>\n",
       "      <th></th>\n",
       "      <th></th>\n",
       "      <th></th>\n",
       "      <th></th>\n",
       "      <th></th>\n",
       "      <th></th>\n",
       "      <th></th>\n",
       "      <th></th>\n",
       "      <th></th>\n",
       "      <th></th>\n",
       "      <th></th>\n",
       "    </tr>\n",
       "  </thead>\n",
       "  <tbody>\n",
       "    <tr>\n",
       "      <th>2023-10</th>\n",
       "      <td>16.0</td>\n",
       "      <td>61.0</td>\n",
       "      <td>24.0</td>\n",
       "      <td>68.0</td>\n",
       "      <td>NaN</td>\n",
       "      <td>12.0</td>\n",
       "      <td>8.0</td>\n",
       "      <td>60.0</td>\n",
       "      <td>5.0</td>\n",
       "      <td>7.0</td>\n",
       "      <td>78.0</td>\n",
       "      <td>89.0</td>\n",
       "      <td>24.0</td>\n",
       "      <td>97.0</td>\n",
       "      <td>140.0</td>\n",
       "      <td>NaN</td>\n",
       "    </tr>\n",
       "    <tr>\n",
       "      <th>2023-11</th>\n",
       "      <td>48.0</td>\n",
       "      <td>48.0</td>\n",
       "      <td>32.0</td>\n",
       "      <td>64.0</td>\n",
       "      <td>49.0</td>\n",
       "      <td>33.0</td>\n",
       "      <td>7.0</td>\n",
       "      <td>NaN</td>\n",
       "      <td>1.0</td>\n",
       "      <td>7.0</td>\n",
       "      <td>57.0</td>\n",
       "      <td>17.0</td>\n",
       "      <td>14.0</td>\n",
       "      <td>93.0</td>\n",
       "      <td>19.0</td>\n",
       "      <td>9.0</td>\n",
       "    </tr>\n",
       "    <tr>\n",
       "      <th>2023-12</th>\n",
       "      <td>8.0</td>\n",
       "      <td>7.0</td>\n",
       "      <td>105.0</td>\n",
       "      <td>24.0</td>\n",
       "      <td>8.0</td>\n",
       "      <td>3.0</td>\n",
       "      <td>16.0</td>\n",
       "      <td>4.0</td>\n",
       "      <td>19.0</td>\n",
       "      <td>NaN</td>\n",
       "      <td>128.0</td>\n",
       "      <td>16.0</td>\n",
       "      <td>1.0</td>\n",
       "      <td>56.0</td>\n",
       "      <td>108.0</td>\n",
       "      <td>20.0</td>\n",
       "    </tr>\n",
       "    <tr>\n",
       "      <th>2024-01</th>\n",
       "      <td>7.0</td>\n",
       "      <td>41.0</td>\n",
       "      <td>26.0</td>\n",
       "      <td>39.0</td>\n",
       "      <td>37.0</td>\n",
       "      <td>NaN</td>\n",
       "      <td>NaN</td>\n",
       "      <td>8.0</td>\n",
       "      <td>8.0</td>\n",
       "      <td>1.0</td>\n",
       "      <td>48.0</td>\n",
       "      <td>8.0</td>\n",
       "      <td>15.0</td>\n",
       "      <td>37.0</td>\n",
       "      <td>31.0</td>\n",
       "      <td>2.0</td>\n",
       "    </tr>\n",
       "  </tbody>\n",
       "</table>\n",
       "</div>"
      ],
      "text/plain": [
       "                                           total                             \\\n",
       "fact_recommendation_status_history_user_id DEL15 DEL152 DEL222 DEL225 DEL24   \n",
       "Period M                                                                      \n",
       "2023-10                                     16.0   61.0   24.0   68.0   NaN   \n",
       "2023-11                                     48.0   48.0   32.0   64.0  49.0   \n",
       "2023-12                                      8.0    7.0  105.0   24.0   8.0   \n",
       "2024-01                                      7.0   41.0   26.0   39.0  37.0   \n",
       "\n",
       "                                                                              \\\n",
       "fact_recommendation_status_history_user_id DEL25 DEL421 DEL427 DEL456 DEL519   \n",
       "Period M                                                                       \n",
       "2023-10                                     12.0    8.0   60.0    5.0    7.0   \n",
       "2023-11                                     33.0    7.0    NaN    1.0    7.0   \n",
       "2023-12                                      3.0   16.0    4.0   19.0    NaN   \n",
       "2024-01                                      NaN    NaN    8.0    8.0    1.0   \n",
       "\n",
       "                                                                              \\\n",
       "fact_recommendation_status_history_user_id  DEL53 DEL666 DEL681 DEL73  DEL77   \n",
       "Period M                                                                       \n",
       "2023-10                                      78.0   89.0   24.0  97.0  140.0   \n",
       "2023-11                                      57.0   17.0   14.0  93.0   19.0   \n",
       "2023-12                                     128.0   16.0    1.0  56.0  108.0   \n",
       "2024-01                                      48.0    8.0   15.0  37.0   31.0   \n",
       "\n",
       "                                                  \n",
       "fact_recommendation_status_history_user_id DEL98  \n",
       "Period M                                          \n",
       "2023-10                                      NaN  \n",
       "2023-11                                      9.0  \n",
       "2023-12                                     20.0  \n",
       "2024-01                                      2.0  "
      ]
     },
     "execution_count": 175,
     "metadata": {},
     "output_type": "execute_result"
    }
   ],
   "source": [
    "xdf.set_index(['Period M', 'fact_recommendation_status_history_user_id'])[['total']].unstack()"
   ]
  },
  {
   "cell_type": "code",
   "execution_count": 176,
   "id": "d5ab2d69-7e1c-4d00-9b62-c2f3bc50e2f8",
   "metadata": {
    "tags": []
   },
   "outputs": [
    {
     "data": {
      "text/html": [
       "<div>\n",
       "<style scoped>\n",
       "    .dataframe tbody tr th:only-of-type {\n",
       "        vertical-align: middle;\n",
       "    }\n",
       "\n",
       "    .dataframe tbody tr th {\n",
       "        vertical-align: top;\n",
       "    }\n",
       "\n",
       "    .dataframe thead tr th {\n",
       "        text-align: left;\n",
       "    }\n",
       "\n",
       "    .dataframe thead tr:last-of-type th {\n",
       "        text-align: right;\n",
       "    }\n",
       "</style>\n",
       "<table border=\"1\" class=\"dataframe\">\n",
       "  <thead>\n",
       "    <tr>\n",
       "      <th></th>\n",
       "      <th colspan=\"16\" halign=\"left\">rate</th>\n",
       "    </tr>\n",
       "    <tr>\n",
       "      <th>fact_recommendation_status_history_user_id</th>\n",
       "      <th>DEL15</th>\n",
       "      <th>DEL152</th>\n",
       "      <th>DEL222</th>\n",
       "      <th>DEL225</th>\n",
       "      <th>DEL24</th>\n",
       "      <th>DEL25</th>\n",
       "      <th>DEL421</th>\n",
       "      <th>DEL427</th>\n",
       "      <th>DEL456</th>\n",
       "      <th>DEL519</th>\n",
       "      <th>DEL53</th>\n",
       "      <th>DEL666</th>\n",
       "      <th>DEL681</th>\n",
       "      <th>DEL73</th>\n",
       "      <th>DEL77</th>\n",
       "      <th>DEL98</th>\n",
       "    </tr>\n",
       "    <tr>\n",
       "      <th>Period M</th>\n",
       "      <th></th>\n",
       "      <th></th>\n",
       "      <th></th>\n",
       "      <th></th>\n",
       "      <th></th>\n",
       "      <th></th>\n",
       "      <th></th>\n",
       "      <th></th>\n",
       "      <th></th>\n",
       "      <th></th>\n",
       "      <th></th>\n",
       "      <th></th>\n",
       "      <th></th>\n",
       "      <th></th>\n",
       "      <th></th>\n",
       "      <th></th>\n",
       "    </tr>\n",
       "  </thead>\n",
       "  <tbody>\n",
       "    <tr>\n",
       "      <th>2023-10</th>\n",
       "      <td>0.250000</td>\n",
       "      <td>0.049180</td>\n",
       "      <td>0.0</td>\n",
       "      <td>0.0</td>\n",
       "      <td>NaN</td>\n",
       "      <td>0.083333</td>\n",
       "      <td>0.0</td>\n",
       "      <td>0.016667</td>\n",
       "      <td>0.000000</td>\n",
       "      <td>0.142857</td>\n",
       "      <td>0.0</td>\n",
       "      <td>0.000</td>\n",
       "      <td>0.000000</td>\n",
       "      <td>0.010309</td>\n",
       "      <td>0.000000</td>\n",
       "      <td>NaN</td>\n",
       "    </tr>\n",
       "    <tr>\n",
       "      <th>2023-11</th>\n",
       "      <td>0.145833</td>\n",
       "      <td>0.041667</td>\n",
       "      <td>0.0</td>\n",
       "      <td>0.0</td>\n",
       "      <td>0.000000</td>\n",
       "      <td>0.030303</td>\n",
       "      <td>0.0</td>\n",
       "      <td>NaN</td>\n",
       "      <td>1.000000</td>\n",
       "      <td>1.000000</td>\n",
       "      <td>0.0</td>\n",
       "      <td>0.000</td>\n",
       "      <td>0.000000</td>\n",
       "      <td>0.000000</td>\n",
       "      <td>0.000000</td>\n",
       "      <td>0.0</td>\n",
       "    </tr>\n",
       "    <tr>\n",
       "      <th>2023-12</th>\n",
       "      <td>0.500000</td>\n",
       "      <td>0.000000</td>\n",
       "      <td>0.0</td>\n",
       "      <td>0.0</td>\n",
       "      <td>0.000000</td>\n",
       "      <td>0.000000</td>\n",
       "      <td>0.0</td>\n",
       "      <td>1.000000</td>\n",
       "      <td>0.315789</td>\n",
       "      <td>NaN</td>\n",
       "      <td>0.0</td>\n",
       "      <td>0.125</td>\n",
       "      <td>0.000000</td>\n",
       "      <td>0.000000</td>\n",
       "      <td>0.037037</td>\n",
       "      <td>0.0</td>\n",
       "    </tr>\n",
       "    <tr>\n",
       "      <th>2024-01</th>\n",
       "      <td>0.571429</td>\n",
       "      <td>0.000000</td>\n",
       "      <td>0.0</td>\n",
       "      <td>0.0</td>\n",
       "      <td>0.027027</td>\n",
       "      <td>NaN</td>\n",
       "      <td>NaN</td>\n",
       "      <td>0.250000</td>\n",
       "      <td>0.375000</td>\n",
       "      <td>0.000000</td>\n",
       "      <td>0.0</td>\n",
       "      <td>0.000</td>\n",
       "      <td>0.066667</td>\n",
       "      <td>0.000000</td>\n",
       "      <td>0.000000</td>\n",
       "      <td>0.0</td>\n",
       "    </tr>\n",
       "  </tbody>\n",
       "</table>\n",
       "</div>"
      ],
      "text/plain": [
       "                                                rate                          \\\n",
       "fact_recommendation_status_history_user_id     DEL15    DEL152 DEL222 DEL225   \n",
       "Period M                                                                       \n",
       "2023-10                                     0.250000  0.049180    0.0    0.0   \n",
       "2023-11                                     0.145833  0.041667    0.0    0.0   \n",
       "2023-12                                     0.500000  0.000000    0.0    0.0   \n",
       "2024-01                                     0.571429  0.000000    0.0    0.0   \n",
       "\n",
       "                                                                       \\\n",
       "fact_recommendation_status_history_user_id     DEL24     DEL25 DEL421   \n",
       "Period M                                                                \n",
       "2023-10                                          NaN  0.083333    0.0   \n",
       "2023-11                                     0.000000  0.030303    0.0   \n",
       "2023-12                                     0.000000  0.000000    0.0   \n",
       "2024-01                                     0.027027       NaN    NaN   \n",
       "\n",
       "                                                                          \\\n",
       "fact_recommendation_status_history_user_id    DEL427    DEL456    DEL519   \n",
       "Period M                                                                   \n",
       "2023-10                                     0.016667  0.000000  0.142857   \n",
       "2023-11                                          NaN  1.000000  1.000000   \n",
       "2023-12                                     1.000000  0.315789       NaN   \n",
       "2024-01                                     0.250000  0.375000  0.000000   \n",
       "\n",
       "                                                                             \\\n",
       "fact_recommendation_status_history_user_id DEL53 DEL666    DEL681     DEL73   \n",
       "Period M                                                                      \n",
       "2023-10                                      0.0  0.000  0.000000  0.010309   \n",
       "2023-11                                      0.0  0.000  0.000000  0.000000   \n",
       "2023-12                                      0.0  0.125  0.000000  0.000000   \n",
       "2024-01                                      0.0  0.000  0.066667  0.000000   \n",
       "\n",
       "                                                            \n",
       "fact_recommendation_status_history_user_id     DEL77 DEL98  \n",
       "Period M                                                    \n",
       "2023-10                                     0.000000   NaN  \n",
       "2023-11                                     0.000000   0.0  \n",
       "2023-12                                     0.037037   0.0  \n",
       "2024-01                                     0.000000   0.0  "
      ]
     },
     "execution_count": 176,
     "metadata": {},
     "output_type": "execute_result"
    }
   ],
   "source": [
    "xdf.set_index(['Period M', 'fact_recommendation_status_history_user_id'])[['rate']].unstack()"
   ]
  },
  {
   "cell_type": "code",
   "execution_count": null,
   "id": "e0120053-97df-4881-8114-b0fea456c4ac",
   "metadata": {},
   "outputs": [],
   "source": []
  },
  {
   "cell_type": "code",
   "execution_count": null,
   "id": "de0e681d-0226-42a9-9e2d-2546d9c31aa0",
   "metadata": {},
   "outputs": [],
   "source": []
  }
 ],
 "metadata": {
  "kernelspec": {
   "display_name": "Python 3 (ipykernel)",
   "language": "python",
   "name": "python3"
  },
  "language_info": {
   "codemirror_mode": {
    "name": "ipython",
    "version": 3
   },
   "file_extension": ".py",
   "mimetype": "text/x-python",
   "name": "python",
   "nbconvert_exporter": "python",
   "pygments_lexer": "ipython3",
   "version": "3.9.5"
  }
 },
 "nbformat": 4,
 "nbformat_minor": 5
}
