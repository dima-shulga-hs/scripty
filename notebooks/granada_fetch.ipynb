{
 "cells": [
  {
   "cell_type": "code",
   "execution_count": 1,
   "id": "267c6baa-c390-4568-af42-d651d67b7285",
   "metadata": {
    "tags": []
   },
   "outputs": [],
   "source": [
    "import pandas as pd\n",
    "import itertools\n",
    "from datetime import datetime\n",
    "import matplotlib.pyplot as plt\n",
    "import random as rn\n",
    "from tqdm import tqdm\n",
    "import seaborn as sns\n",
    "from collections import Counter\n",
    "from hs_gimme.db_facade.db_facade_factory import get_mongo_client_db\n",
    "from hs_gimme.logging_service.problems_only_logging_service import ProblemsOnlyLoggingService\n",
    "from collections import Counter\n",
    "from hs_recommendations_api_client import get_recommendations_api_client"
   ]
  },
  {
   "cell_type": "code",
   "execution_count": 2,
   "id": "4c49b042-5773-48bf-b597-181bf791eeb5",
   "metadata": {
    "tags": []
   },
   "outputs": [],
   "source": [
    "ENV = 'production'\n",
    "ACCOUNT = 'granada'"
   ]
  },
  {
   "cell_type": "code",
   "execution_count": 3,
   "id": "622acd6a-4c1a-4eba-b7f0-c5468788de1d",
   "metadata": {
    "tags": []
   },
   "outputs": [],
   "source": [
    "mongo = get_mongo_client_db(ENV, ACCOUNT)"
   ]
  },
  {
   "cell_type": "code",
   "execution_count": 4,
   "id": "7ff7b261-23f4-4967-a382-ada0f8cd16a8",
   "metadata": {
    "tags": []
   },
   "outputs": [],
   "source": [
    "req_q = {\n",
    "    'job_create_date': {'$gt': datetime(2022, 1, 1)}, \n",
    "    'external_status': 'Closed',\n",
    "    'is_evergreen': False,\n",
    "   # 'is_gradable': True\n",
    "}"
   ]
  },
  {
   "cell_type": "code",
   "execution_count": null,
   "id": "738f5cc5-b84f-47af-8e4d-7f30c86502dc",
   "metadata": {
    "tags": []
   },
   "outputs": [],
   "source": [
    "sorted(req.keys())"
   ]
  },
  {
   "cell_type": "code",
   "execution_count": 5,
   "id": "63153bac-c9f9-4649-8a81-7d8ab93c29ed",
   "metadata": {
    "tags": []
   },
   "outputs": [
    {
     "data": {
      "text/plain": [
       "13762"
      ]
     },
     "execution_count": 5,
     "metadata": {},
     "output_type": "execute_result"
    }
   ],
   "source": [
    "mongo.req.count_documents(req_q)"
   ]
  },
  {
   "cell_type": "code",
   "execution_count": 6,
   "id": "b5897a79-d145-46d0-855d-169db356badf",
   "metadata": {
    "tags": []
   },
   "outputs": [],
   "source": [
    "req_ids = mongo.req.distinct('_id', req_q)"
   ]
  },
  {
   "cell_type": "code",
   "execution_count": 7,
   "id": "7f454c6b-c051-407b-a478-b6c3804d5d5c",
   "metadata": {
    "tags": []
   },
   "outputs": [],
   "source": [
    "sample_ids = req_ids#rn.sample(req_ids, 1000)"
   ]
  },
  {
   "cell_type": "code",
   "execution_count": 8,
   "id": "0bf0ed25-a714-46b3-847c-364651e42f8d",
   "metadata": {
    "tags": []
   },
   "outputs": [],
   "source": [
    "\n",
    "def get_data_for_req(req, mongo):\n",
    "    result = []\n",
    "    \n",
    "    apps = list(mongo.application.find({'req_id': req['_id']},  ['ats_application.status_info.status_history', 'date_applied']))\n",
    "    \n",
    "    req_data = []\n",
    "    any_interview = False\n",
    "    any_offer = False\n",
    "    for app in apps:\n",
    "        days = (app['date_applied'] - req['job_create_date']).days\n",
    "        interview = any('Rd ' in s.get('step_name', '') for s in app['ats_application']['status_info']['status_history'])\n",
    "        offer = any('Offer' in s.get('step_name', '') for s in app['ats_application']['status_info']['status_history'])\n",
    "        req_data.append({'days': days, 'interview': interview, 'offer': offer})\n",
    "        \n",
    "        any_interview = any_interview or interview\n",
    "        any_offer = any_offer or offer\n",
    "\n",
    "    df = pd.DataFrame(req_data)\n",
    "    \n",
    "    if any_interview and any_offer and df['days'].max() > 1 and len(apps) > 2:\n",
    "        result = []\n",
    "        for days in range(df['days'].max() + 1):\n",
    "            result.append({\n",
    "                'req_id': req['_id'],\n",
    "                'days': days,\n",
    "                'req': req,\n",
    "                'num_of_apps': len(df[df['days'] <= days]),\n",
    "                'num_of_interview': len(df[(df['days'] <= days) & df['interview']]),\n",
    "                'num_of_offer': len(df[(df['days'] <= days) & df['offer']]),\n",
    "            })\n",
    "    return result"
   ]
  },
  {
   "cell_type": "code",
   "execution_count": 9,
   "id": "9620a81f-6fbf-4486-bf62-f9aff71fe523",
   "metadata": {
    "tags": []
   },
   "outputs": [
    {
     "name": "stderr",
     "output_type": "stream",
     "text": [
      " 28%|███████████████████████████████████████████████▏                                                                                                                      | 3909/13762 [18:07<46:05,  3.56it/s]"
     ]
    },
    {
     "name": "stdout",
     "output_type": "stream",
     "text": [
      "\u001b[2m2023-07-24T16:20:55.463805Z\u001b[0m [\u001b[33m\u001b[1mwarning  \u001b[0m] \u001b[1mSlowLog                       \u001b[0m \u001b[36mcommand_name\u001b[0m=\u001b[35mgetMore\u001b[0m \u001b[36mconnection_id\u001b[0m=\u001b[35mmongodb-3c.prod.omcomcom.com:27029\u001b[0m \u001b[36mduration_ms__numeric\u001b[0m=\u001b[35m10437.788\u001b[0m \u001b[36mduration_threshold__numeric\u001b[0m=\u001b[35m10000\u001b[0m \u001b[36menvironment\u001b[0m=\u001b[35mlocal\u001b[0m \u001b[36mfile_path\u001b[0m=\u001b[35m/Users/dima/hiredscore/gimme/hs_gimme/db_facade/slow_logs_utils.py\u001b[0m \u001b[36mfunction_name\u001b[0m=\u001b[35mwrite_slow_log\u001b[0m \u001b[36mhostname\u001b[0m=\u001b[35mDima-Shulga-MacBook-Pro\u001b[0m \u001b[36mline_number\u001b[0m=\u001b[35m11\u001b[0m \u001b[36mmodule\u001b[0m=\u001b[35mhs_gimme.db_facade.slow_logs_utils\u001b[0m \u001b[36mpid\u001b[0m=\u001b[35m84331\u001b[0m \u001b[36mrequest_id\u001b[0m=\u001b[35m1452948133\u001b[0m \u001b[36msource\u001b[0m=\u001b[35mPyMongo\u001b[0m \u001b[36mstack_snippet\u001b[0m=\u001b[35m\n",
      "  File \"/var/folders/_p/8_m91crj199_rd7sndkxncc80000gp/T/ipykernel_84331/2268121598.py\", line 4, in get_data_for_req\n",
      "    apps = list(mongo.application.find({'req_id': req['_id']},  ['ats_application.status_info.status_history', 'date_applied']))\n",
      "\u001b[0m\n"
     ]
    },
    {
     "name": "stderr",
     "output_type": "stream",
     "text": [
      "100%|█████████████████████████████████████████████████████████████████████████████████████████████████████████████████████████████████████████████████████████████████████| 13762/13762 [56:24<00:00,  4.07it/s]\n"
     ]
    },
    {
     "data": {
      "text/plain": [
       "(163332, 1223)"
      ]
     },
     "execution_count": 9,
     "metadata": {},
     "output_type": "execute_result"
    }
   ],
   "source": [
    "data = []\n",
    "for req in tqdm(mongo.req.find({'_id': {'$in': sample_ids}}, ['job_create_date']), total=len(sample_ids)):\n",
    "    data += get_data_for_req(req, mongo)\n",
    "df = pd.DataFrame(data)\n",
    "len(df), df['req_id'].nunique()"
   ]
  },
  {
   "cell_type": "code",
   "execution_count": null,
   "id": "ed06ad40-2b07-4f35-89eb-bdf2ad756186",
   "metadata": {},
   "outputs": [],
   "source": []
  },
  {
   "cell_type": "code",
   "execution_count": 40,
   "id": "95ee7b32-e884-498e-a912-a829da583be6",
   "metadata": {
    "tags": []
   },
   "outputs": [
    {
     "data": {
      "image/png": "[encoded data removed]",
      "text/plain": [
       "<Figure size 640x480 with 2 Axes>"
      ]
     },
     "metadata": {},
     "output_type": "display_data"
    }
   ],
   "source": [
    "mask = lambda x: x['days'] < 50\n",
    "ax = df[mask].groupby(['days'])[['num_of_apps']].mean().rolling(5).mean().plot()\n",
    "ax2 = ax.twinx()\n",
    "ax = df[mask].groupby(['days'])[['num_of_interview']].mean().round().plot(ax=ax2, color=['orange'])"
   ]
  },
  {
   "cell_type": "markdown",
   "id": "8d614b84-1bf1-42bc-93bf-065c4e58eee6",
   "metadata": {
    "tags": []
   },
   "source": [
    "# COVERAGE"
   ]
  },
  {
   "cell_type": "code",
   "execution_count": 12,
   "id": "b837c7d6-c319-403b-a28e-8657e2db6ee5",
   "metadata": {
    "tags": []
   },
   "outputs": [],
   "source": [
    "open_q = {\n",
    "    'job_create_date': {'$gt': datetime(2023, 7, 1)}, \n",
    "    'external_status': 'Open'\n",
    "}"
   ]
  },
  {
   "cell_type": "code",
   "execution_count": 48,
   "id": "9297c6c7-22bc-4242-ba35-1254d9635103",
   "metadata": {
    "tags": []
   },
   "outputs": [
    {
     "data": {
      "text/plain": [
       "613"
      ]
     },
     "execution_count": 48,
     "metadata": {},
     "output_type": "execute_result"
    }
   ],
   "source": [
    "mongo.req.count_documents(open_q)"
   ]
  },
  {
   "cell_type": "code",
   "execution_count": 47,
   "id": "61479a7b-775e-46af-b39d-d3baec424028",
   "metadata": {
    "tags": []
   },
   "outputs": [
    {
     "data": {
      "text/plain": [
       "613"
      ]
     },
     "execution_count": 47,
     "metadata": {},
     "output_type": "execute_result"
    }
   ],
   "source": [
    "open_req_ids = mongo.req.distinct('_id', open_q)\n",
    "len(open_req_ids)"
   ]
  },
  {
   "cell_type": "code",
   "execution_count": 42,
   "id": "d40930f2-35ee-4165-a239-9497e61b8e40",
   "metadata": {
    "tags": []
   },
   "outputs": [],
   "source": [
    "open_req_ids = open_req_ids#rn.sample(open_req_ids, 100)"
   ]
  },
  {
   "cell_type": "code",
   "execution_count": 35,
   "id": "4fe709e9-0942-4914-9b29-07cd418e91a6",
   "metadata": {
    "tags": []
   },
   "outputs": [
    {
     "name": "stderr",
     "output_type": "stream",
     "text": [
      "100%|█████████████████████████████████████████████████████████████████████████████████████████████████████████████████████████████████████████████████████████████████████████| 100/100 [00:26<00:00,  3.80it/s]\n"
     ]
    }
   ],
   "source": [
    "open_data = []\n",
    "\n",
    "for req in tqdm(mongo.req.find({'_id': {'$in': open_req_ids}}, ['job_create_date']), total=len(open_req_ids)):\n",
    "    open_data += get_data_for_req(req, mongo)\n",
    "open_df = pd.DataFrame(open_data)"
   ]
  },
  {
   "cell_type": "code",
   "execution_count": 36,
   "id": "fef4ac38-443f-4250-991c-843434811b63",
   "metadata": {
    "tags": []
   },
   "outputs": [
    {
     "data": {
      "image/png": "[encoded data removed]",
      "text/plain": [
       "<Figure size 640x480 with 2 Axes>"
      ]
     },
     "metadata": {},
     "output_type": "display_data"
    }
   ],
   "source": [
    "mask = lambda x: x['days'] < 300\n",
    "ax = open_df[mask].groupby(['days'])[['num_of_apps']].mean().rolling(5).mean().plot()\n",
    "ax2 = ax.twinx()\n",
    "ax = open_df[mask].groupby(['days'])[['num_of_interview']].mean().round().plot(ax=ax2, color=['orange'])"
   ]
  },
  {
   "cell_type": "code",
   "execution_count": 18,
   "id": "95414c61-1b92-4201-84f4-01babe5a057c",
   "metadata": {
    "tags": []
   },
   "outputs": [],
   "source": [
    "api = get_recommendations_api_client(environment='production', logger=ProblemsOnlyLoggingService())"
   ]
  },
  {
   "cell_type": "code",
   "execution_count": 49,
   "id": "95b57bef-46f9-4976-b8db-dcbddab8f7d4",
   "metadata": {
    "tags": []
   },
   "outputs": [
    {
     "data": {
      "text/plain": [
       "613"
      ]
     },
     "execution_count": 49,
     "metadata": {},
     "output_type": "execute_result"
    }
   ],
   "source": [
    "len(open_req_ids)"
   ]
  },
  {
   "cell_type": "code",
   "execution_count": 51,
   "id": "857bb56f-b873-446b-aa70-c5b47713c288",
   "metadata": {
    "tags": []
   },
   "outputs": [
    {
     "name": "stderr",
     "output_type": "stream",
     "text": [
      "100%|█████████████████████████████████████████████████████████████████████████████████████████████████████████████████████████████████████████████████████████████████████████| 613/613 [24:29<00:00,  2.40s/it]\n"
     ]
    },
    {
     "data": {
      "text/plain": [
       "613"
      ]
     },
     "execution_count": 51,
     "metadata": {},
     "output_type": "execute_result"
    }
   ],
   "source": [
    "recommandations = {}\n",
    "request_kwargs = {\"fetch_mode\": {\"value\": \"talent_fetch\"},\n",
    "        \"allow_already_applied_req\": {\"value\": False},\n",
    "        \"allow_candidates_with_offer\": {\"value\": False}\n",
    "}\n",
    "\n",
    "\n",
    "for req_id in tqdm(open_req_ids):\n",
    "    r = api.fast_fetch('granada', req_id, **request_kwargs)\n",
    "    recommandations[req_id] = r['total_count']\n",
    "        \n",
    "len(recommandations)"
   ]
  },
  {
   "cell_type": "code",
   "execution_count": 52,
   "id": "81d5dc47-c784-4345-93b4-d4cf8bc21d50",
   "metadata": {
    "tags": []
   },
   "outputs": [],
   "source": [
    "reqs_df = pd.DataFrame({'req_id': k, 'num_of_recs': v} for k, v in recommandations.items())"
   ]
  },
  {
   "cell_type": "code",
   "execution_count": 53,
   "id": "634cbfc2-8833-443c-944c-2bd94a1ffe9d",
   "metadata": {
    "tags": []
   },
   "outputs": [
    {
     "data": {
      "text/html": [
       "<div>\n",
       "<style scoped>\n",
       "    .dataframe tbody tr th:only-of-type {\n",
       "        vertical-align: middle;\n",
       "    }\n",
       "\n",
       "    .dataframe tbody tr th {\n",
       "        vertical-align: top;\n",
       "    }\n",
       "\n",
       "    .dataframe thead th {\n",
       "        text-align: right;\n",
       "    }\n",
       "</style>\n",
       "<table border=\"1\" class=\"dataframe\">\n",
       "  <thead>\n",
       "    <tr style=\"text-align: right;\">\n",
       "      <th></th>\n",
       "      <th>req_id</th>\n",
       "      <th>num_of_recs</th>\n",
       "    </tr>\n",
       "  </thead>\n",
       "  <tbody>\n",
       "    <tr>\n",
       "      <th>0</th>\n",
       "      <td>GSG105376</td>\n",
       "      <td>0</td>\n",
       "    </tr>\n",
       "    <tr>\n",
       "      <th>1</th>\n",
       "      <td>GSG106973</td>\n",
       "      <td>2</td>\n",
       "    </tr>\n",
       "    <tr>\n",
       "      <th>2</th>\n",
       "      <td>GSG109313</td>\n",
       "      <td>259</td>\n",
       "    </tr>\n",
       "    <tr>\n",
       "      <th>3</th>\n",
       "      <td>GSG110630</td>\n",
       "      <td>9</td>\n",
       "    </tr>\n",
       "    <tr>\n",
       "      <th>4</th>\n",
       "      <td>GSG110878</td>\n",
       "      <td>1</td>\n",
       "    </tr>\n",
       "  </tbody>\n",
       "</table>\n",
       "</div>"
      ],
      "text/plain": [
       "      req_id  num_of_recs\n",
       "0  GSG105376            0\n",
       "1  GSG106973            2\n",
       "2  GSG109313          259\n",
       "3  GSG110630            9\n",
       "4  GSG110878            1"
      ]
     },
     "execution_count": 53,
     "metadata": {},
     "output_type": "execute_result"
    }
   ],
   "source": [
    "reqs_df.head()"
   ]
  },
  {
   "cell_type": "code",
   "execution_count": 54,
   "id": "3e550f2b-dd09-4f9f-b157-7aab569d0374",
   "metadata": {
    "tags": []
   },
   "outputs": [
    {
     "data": {
      "text/plain": [
       "<Axes: >"
      ]
     },
     "execution_count": 54,
     "metadata": {},
     "output_type": "execute_result"
    },
    {
     "data": {
      "image/png": "[encoded data removed]",
      "text/plain": [
       "<Figure size 640x480 with 1 Axes>"
      ]
     },
     "metadata": {},
     "output_type": "display_data"
    }
   ],
   "source": [
    "reqs_df.boxplot(column='num_of_recs', grid = False)"
   ]
  },
  {
   "cell_type": "code",
   "execution_count": 55,
   "id": "2879e6aa-95b4-4ef5-8550-8ec65dcd344b",
   "metadata": {
    "tags": []
   },
   "outputs": [],
   "source": [
    "def get_group(n):\n",
    "    if n == 0:\n",
    "        return '0'\n",
    "    \n",
    "    if n < 10:\n",
    "        return 'less than 10'\n",
    "    \n",
    "    if n < 50:\n",
    "        return 'less than 50'\n",
    "    \n",
    "    return 'More than 50'"
   ]
  },
  {
   "cell_type": "code",
   "execution_count": 56,
   "id": "9d28c86b-eb6a-43bd-8805-a8a050a5cd4a",
   "metadata": {
    "tags": []
   },
   "outputs": [],
   "source": [
    "reqs_df['group'] = reqs_df['num_of_recs'].apply(get_group)"
   ]
  },
  {
   "cell_type": "code",
   "execution_count": 57,
   "id": "d56273a0-9963-4d75-9ab2-f1fb493d9a8a",
   "metadata": {
    "tags": []
   },
   "outputs": [
    {
     "data": {
      "text/plain": [
       "More than 50    0.654160\n",
       "0               0.163132\n",
       "less than 50    0.122349\n",
       "less than 10    0.060359\n",
       "Name: group, dtype: float64"
      ]
     },
     "execution_count": 57,
     "metadata": {},
     "output_type": "execute_result"
    }
   ],
   "source": [
    "reqs_df['group'].value_counts(normalize=True)"
   ]
  },
  {
   "cell_type": "code",
   "execution_count": null,
   "id": "0882b8be-fb5c-4076-b7a1-f34d4dfbc5dc",
   "metadata": {},
   "outputs": [],
   "source": []
  }
 ],
 "metadata": {
  "kernelspec": {
   "display_name": "Python 3 (ipykernel)",
   "language": "python",
   "name": "python3"
  },
  "language_info": {
   "codemirror_mode": {
    "name": "ipython",
    "version": 3
   },
   "file_extension": ".py",
   "mimetype": "text/x-python",
   "name": "python",
   "nbconvert_exporter": "python",
   "pygments_lexer": "ipython3",
   "version": "3.9.5"
  }
 },
 "nbformat": 4,
 "nbformat_minor": 5
}
