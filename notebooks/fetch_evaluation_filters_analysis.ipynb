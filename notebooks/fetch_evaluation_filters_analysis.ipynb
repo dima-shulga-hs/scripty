{
 "cells": [
  {
   "cell_type": "code",
   "execution_count": 1,
   "id": "9c62f0ea-7a83-48f3-abb7-638a9bc49824",
   "metadata": {
    "tags": []
   },
   "outputs": [
    {
     "name": "stderr",
     "output_type": "stream",
     "text": [
      "/Users/dima/.virtualenvs/hs/lib/python3.9/site-packages/fuzzywuzzy/fuzz.py:11: UserWarning: Using slow pure-python SequenceMatcher. Install python-Levenshtein to remove this warning\n",
      "  warnings.warn('Using slow pure-python SequenceMatcher. Install python-Levenshtein to remove this warning')\n"
     ]
    },
    {
     "name": "stdout",
     "output_type": "stream",
     "text": [
      "\u001b[2m2023-09-19T09:23:24.411640Z\u001b[0m [\u001b[32m\u001b[1minfo     \u001b[0m] \u001b[1mExplainable job type: loaded aliases to job types\u001b[0m \u001b[36menvironment\u001b[0m=\u001b[35mlocal\u001b[0m \u001b[36mfile_path\u001b[0m=\u001b[35m/Users/dima/hiredscore/grading/algorithms/hs_algorithms/explainable_job_type/explainable_job_type.py\u001b[0m \u001b[36mfunction_name\u001b[0m=\u001b[35mload_job_type_data\u001b[0m \u001b[36mhostname\u001b[0m=\u001b[35mDima-Shulga-MacBook-Pro\u001b[0m \u001b[36mline_number\u001b[0m=\u001b[35m109\u001b[0m \u001b[36mmodule\u001b[0m=\u001b[35mhs_algorithms.explainable_job_type.explainable_job_type\u001b[0m \u001b[36mnum_aliases__numeric\u001b[0m=\u001b[35m365\u001b[0m \u001b[36mnum_job_types__numeric\u001b[0m=\u001b[35m214\u001b[0m \u001b[36mpid\u001b[0m=\u001b[35m13429\u001b[0m\n",
      "\u001b[2m2023-09-19T09:23:24.545359Z\u001b[0m [\u001b[32m\u001b[1minfo     \u001b[0m] \u001b[1mRead abbreviation sets        \u001b[0m \u001b[36menvironment\u001b[0m=\u001b[35mlocal\u001b[0m \u001b[36mfile_path\u001b[0m=\u001b[35m/Users/dima/hiredscore/grading/algorithms/hs_algorithms/abbreviations/abbrevations_provider.py\u001b[0m \u001b[36mfunction_name\u001b[0m=\u001b[35m_get_abbreavations_from_file\u001b[0m \u001b[36mhostname\u001b[0m=\u001b[35mDima-Shulga-MacBook-Pro\u001b[0m \u001b[36mline_number\u001b[0m=\u001b[35m34\u001b[0m \u001b[36mmodule\u001b[0m=\u001b[35mhs_algorithms.abbreviations.abbrevations_provider\u001b[0m \u001b[36mnum_terms__numeric\u001b[0m=\u001b[35m91\u001b[0m \u001b[36mpid\u001b[0m=\u001b[35m13429\u001b[0m\n"
     ]
    }
   ],
   "source": [
    "from collections import Counter\n",
    "from hs_gimme.logging_service.logging_service import LoggingService\n",
    "from hs_gimme.logging_service.problems_only_logging_service import ProblemsOnlyLoggingService\n",
    "from hs_recommendations_api.fast_fetch.fast_fetch_api import FastFetchAPI\n",
    "from hs_fetch.fast_fetch.fast_fetch_interactive_input import get_interactive_input_from_put_request\n",
    "from hs_tree_blenders_creation.fast_fetch_evaluation.evaluate_dataset import get_all_filters\n",
    "from hs_fetch.fast_fetch.fast_fetch_filtering_query_builder import SpecificTalentIdsQueryFilter"
   ]
  },
  {
   "cell_type": "code",
   "execution_count": 2,
   "id": "d75c8ce6-23e5-45d1-8b06-c8eeaa64d0f0",
   "metadata": {
    "tags": []
   },
   "outputs": [],
   "source": [
    "ENV = 'production'\n",
    "PAIRS = [['sofia', 'SBY160198', 'd187460f-9f8a-4aea-8445-24fcdb836166'],\n",
    "       ['philly', 'PSX52702', '666ad3d0-3000-4fff-b140-93c00c570cdc'],\n",
    "       ['paris', 'PFZ4719728', '233c2f15-9860-4356-a690-62123cb794e3'],\n",
    "       ['aden', 'AVN35299', '2321383c-f835-4f8a-a57d-eee6104f0016'],\n",
    "       ['sofia', 'SBY126462', '23a97786-c8c9-43ee-8e78-79bec96d919c'],\n",
    "       ['alabama', 'ABV2202531', '3221868e-e9ea-4535-b0b1-98253c1cf388'],\n",
    "       ['moscow', 'MCY853830', 'fff371dd-9fa2-4ff6-80ad-031082b18023'],\n",
    "       ['moscow', 'MCY787398', '3224ce30-ca28-4ebd-bc51-7c6cad32118a'],\n",
    "       ['arizona_wd', 'ACNR00111348',\n",
    "        '9ba5b249-6510-4b04-b457-2b1da6effc2c'],\n",
    "       ['genoa', 'GMCJR-000074182',\n",
    "        'fc354b75-6f71-49a0-a007-7c1185f1ccb1'],\n",
    "       ['antalya', 'ADV20029932', 'eb80b207-f8db-4096-a13e-068e49c10329'],\n",
    "       ['moscow', 'MCY850945', '95998833-1963-4d78-8af1-046ed4f2fba6'],\n",
    "       ['atlanta', 'AAL50853', 'afd38b68-4543-46a8-b334-99e9525f0a73'],\n",
    "       ['aden', 'AVN44645', 'bb2694af-8e76-4894-87a7-4eedea9fcb8f'],\n",
    "       ['santiago', 'SLFJR00021724',\n",
    "        'b9261afc-9ad9-4730-862f-1919c9edac54'],\n",
    "       ['genoa', 'GMCJR-000069685',\n",
    "        '18bd0a27-abc1-4213-a8fb-4aef5f88273c'],\n",
    "       ['atlanta', 'AAL28377', '0a287032-ab68-45a6-a117-69d194d43456'],\n",
    "       ['sofia', 'SBY85264', 'da204587-cce3-46a0-9299-613e7d9e7e20'],\n",
    "       ['atlanta', 'AAL41013', '4932c680-0655-47ee-9463-3f72798b6aad'],\n",
    "       ['cairo', 'CSG150988', 'dad1d86b-ef54-4c48-87bc-3c5bcc145adc'],\n",
    "       ['dallas', 'DELR126964', '8b06cf9b-d678-4d93-80de-bb5d44189b86'],\n",
    "       ['sofia', 'SBY126464', 'ef997691-0a22-4095-9ed0-812c7235ca87'],\n",
    "       ['atlanta', 'AAL35938', '4cecaa16-7cbc-4fdf-9ab3-48fc1e0d968b'],\n",
    "       ['antalya', 'ADV22011747', '8ceda3a2-c5ee-4250-b325-a8262c55a9ef'],\n",
    "       ['moscow', 'MCY850467', 'a22748ca-a2c3-42a0-a98f-ce2b7624c2fc'],\n",
    "       ['bogota', 'BAC00000297920',\n",
    "        '3732cb1e-1edc-4b27-bdda-ceb21229379a'],\n",
    "       ['sofia', 'SBY120143', '8d2d7f0d-3ee3-4dd7-a53c-7137d15025e6'],\n",
    "       ['atlanta', 'AAL33485', '42c93866-4e62-40d5-8dd3-30bef396269b'],\n",
    "       ['aden', 'AVN45030', 'e0066f99-33a1-47b6-baae-e341bc78486b'],\n",
    "       ['atlanta', 'AAL49384', '87884d30-1200-4d98-a930-08fad68d0db6']]"
   ]
  },
  {
   "cell_type": "code",
   "execution_count": 3,
   "id": "04ad040c-4018-4739-9da1-b7769613d7ea",
   "metadata": {
    "tags": []
   },
   "outputs": [],
   "source": [
    "fetch_api = FastFetchAPI(\n",
    "            ProblemsOnlyLoggingService(), \n",
    "            ENV,\n",
    "            es_tag=None,\n",
    "            do_postprocessing_candidate_filtering=True,\n",
    "            use_external_data=True,\n",
    "        )"
   ]
  },
  {
   "cell_type": "code",
   "execution_count": 4,
   "id": "f5d4d275-b9b1-48fd-8ec5-1b17914d54cd",
   "metadata": {
    "tags": []
   },
   "outputs": [],
   "source": [
    "def get_req_top_recommendations(account_id, req_id, talent_ids, filters_to_use):\n",
    "    kwargs = {\n",
    "         \"specific_talent_ids\": {\"value\": talent_ids},\n",
    "         \"allow_already_applied_req\": {\"value\": True},\n",
    "         \"allow_candidates_with_offer\": {\"value\": True},\n",
    "         \"filter_on_passing_fetch_filters\": {\"value\": False},\n",
    "         \"filters_to_use\": {\"value\": [f.__class__.__name__ for f in filters_to_use]},\n",
    "    }\n",
    "\n",
    "    interactive_input = get_interactive_input_from_put_request(kwargs, account_id, req_id)\n",
    "    recommendations = fetch_api.do_fast_fetch(interactive_input)\n",
    "    return recommendations"
   ]
  },
  {
   "cell_type": "code",
   "execution_count": 5,
   "id": "96eec9b0-4033-4f09-adfa-ca55f96d805b",
   "metadata": {
    "tags": []
   },
   "outputs": [
    {
     "data": {
      "text/plain": [
       "42"
      ]
     },
     "execution_count": 5,
     "metadata": {},
     "output_type": "execute_result"
    }
   ],
   "source": [
    "filters = get_all_filters()\n",
    "len(filters)"
   ]
  },
  {
   "cell_type": "code",
   "execution_count": null,
   "id": "15730d70-1f20-47a9-b2aa-b56bc259b6de",
   "metadata": {
    "tags": []
   },
   "outputs": [],
   "source": [
    "filters_cnt = Counter()\n",
    "for account_id, req_id, talent_id in PAIRS:\n",
    "    for filter_to_use in filters:\n",
    "        recommendations = get_req_top_recommendations(account_id, req_id, [talent_id], [filter_to_use, SpecificTalentIdsQueryFilter()])\n",
    "        top_recommendations_talent_ids = [candidate['candidate_data']['current_talent_id'] for candidate in recommendations['results']]\n",
    "        \n",
    "        if talent_id not in top_recommendations_talent_ids:\n",
    "            filters_cnt[filter_to_use.__class__.__name__] += 1"
   ]
  },
  {
   "cell_type": "code",
   "execution_count": 10,
   "id": "0bcfd2e5-d405-4db7-b6b3-caaf29acb894",
   "metadata": {
    "tags": []
   },
   "outputs": [
    {
     "data": {
      "text/plain": [
       "[('ProfessionalSeniorityQueryFilter', 28),\n",
       " ('CurrentSeniorityQueryFilter', 27),\n",
       " ('TitlesSimilarityFeaturesFilter', 12),\n",
       " ('ProfessionsQueryFilter', 9),\n",
       " ('DegreeLevelQueryFilter', 6),\n",
       " ('DetailedProfessionsQueryFilter', 6),\n",
       " ('CertificationsFilter', 4),\n",
       " ('CandidateRecordQueryFilter', 2),\n",
       " ('SpecificTalentIdsQueryFilter', 2),\n",
       " ('PassedFetchFiltersFilter', 2),\n",
       " ('StatusesFilter', 2),\n",
       " ('InTargetReqQueryFilter', 2),\n",
       " ('ATSStatusQueryFilter', 2),\n",
       " ('HasTalentIdFilter', 2),\n",
       " ('PipelinesQueryFilter', 2),\n",
       " ('JobBandsQueryFilter', 2),\n",
       " ('FilterByFieldsFilter', 2),\n",
       " ('MajorsFilter', 2),\n",
       " ('MandatorySkillsQueryFilter', 2),\n",
       " ('KBSkillsQueryFilter', 2),\n",
       " ('LanguagesQueryFilter', 2),\n",
       " ('VisaQueryFilter', 2),\n",
       " ('IndustryYearsQueryFilter', 2),\n",
       " ('ManagementYearsQueryFilter', 2),\n",
       " ('TooMuchExperienceQueryFilter', 2),\n",
       " ('FullTextSearchFilter', 2),\n",
       " ('TitlesMustIncludeQueryFilter', 2),\n",
       " ('IndustriesMustIncludeQueryFilter', 2),\n",
       " ('PastMostAdvancedPhasesFilter', 2),\n",
       " ('TagsQueryFilter', 2),\n",
       " ('CompaniesQueryFilter', 2),\n",
       " ('EmployeeJobTypeMatchFilter', 2),\n",
       " ('EmployeeJobBandsQueryFilter', 2),\n",
       " ('EmployeeTitlesSimilarityFeaturesFilter', 2),\n",
       " ('EmployeeJobCategorizationNamesFilter', 2),\n",
       " ('EmployeeBandLevelNamesFilter', 2),\n",
       " ('EmployeePerformanceRatingsQueryFilter', 2),\n",
       " ('CandidateCirculationQueryFilter', 2),\n",
       " ('CandidateWorkTypesFilter', 2),\n",
       " ('CandidateRequestedSalaryFilter', 2),\n",
       " ('CandidateJobTypesFilter', 2),\n",
       " ('ExternalPoolQueryFilter', 2)]"
      ]
     },
     "execution_count": 10,
     "metadata": {},
     "output_type": "execute_result"
    }
   ],
   "source": [
    "filters_cnt.most_common()"
   ]
  },
  {
   "cell_type": "code",
   "execution_count": 12,
   "id": "7e5a65a1-37fa-423f-a827-6c9ab6f16955",
   "metadata": {
    "tags": []
   },
   "outputs": [
    {
     "data": {
      "text/plain": [
       "162"
      ]
     },
     "execution_count": 12,
     "metadata": {},
     "output_type": "execute_result"
    }
   ],
   "source": [
    "sum(filters_cnt.values())"
   ]
  },
  {
   "cell_type": "code",
   "execution_count": 50,
   "id": "ec03ea78-b5a2-4ebc-92fa-03fba6e6a742",
   "metadata": {
    "tags": []
   },
   "outputs": [
    {
     "name": "stdout",
     "output_type": "stream",
     "text": [
      "\u001b[2m2023-09-19T18:47:31.690377Z\u001b[0m [\u001b[32m\u001b[1minfo     \u001b[0m] \u001b[1m_override_title:Input         \u001b[0m \u001b[36menvironment\u001b[0m=\u001b[35mlocal\u001b[0m \u001b[36mfile_path\u001b[0m=\u001b[35m/Users/dima/hiredscore/past_candidates/fetch/hs_fetch/fast_fetch/fast_fetch_search_input.py\u001b[0m \u001b[36mfunction_name\u001b[0m=\u001b[35m_override_title\u001b[0m \u001b[36mhostname\u001b[0m=\u001b[35mDima-Shulga-MacBook-Pro\u001b[0m \u001b[36minitial_override_title\u001b[0m=\u001b[35mNone\u001b[0m \u001b[36mline_number\u001b[0m=\u001b[35m357\u001b[0m \u001b[36mmodule\u001b[0m=\u001b[35mhs_fetch.fast_fetch.fast_fetch_search_input\u001b[0m \u001b[36moverride_title\u001b[0m=\u001b[35mNone\u001b[0m \u001b[36mpid\u001b[0m=\u001b[35m13429\u001b[0m \u001b[36mreq_title\u001b[0m=\u001b[35mCashier    #JoinOurFamily\u001b[0m\n",
      "\u001b[2m2023-09-19T18:47:33.275939Z\u001b[0m [\u001b[32m\u001b[1minfo     \u001b[0m] \u001b[1m_override_title:Input         \u001b[0m \u001b[36menvironment\u001b[0m=\u001b[35mlocal\u001b[0m \u001b[36mfile_path\u001b[0m=\u001b[35m/Users/dima/hiredscore/past_candidates/fetch/hs_fetch/fast_fetch/fast_fetch_search_input.py\u001b[0m \u001b[36mfunction_name\u001b[0m=\u001b[35m_override_title\u001b[0m \u001b[36mhostname\u001b[0m=\u001b[35mDima-Shulga-MacBook-Pro\u001b[0m \u001b[36minitial_override_title\u001b[0m=\u001b[35mNone\u001b[0m \u001b[36mline_number\u001b[0m=\u001b[35m357\u001b[0m \u001b[36mmodule\u001b[0m=\u001b[35mhs_fetch.fast_fetch.fast_fetch_search_input\u001b[0m \u001b[36moverride_title\u001b[0m=\u001b[35mNone\u001b[0m \u001b[36mpid\u001b[0m=\u001b[35m13429\u001b[0m \u001b[36mreq_title\u001b[0m=\u001b[35mCashier    #JoinOurFamily\u001b[0m\n",
      "\u001b[2m2023-09-19T18:47:34.363413Z\u001b[0m [\u001b[32m\u001b[1minfo     \u001b[0m] \u001b[1m_override_title:Input         \u001b[0m \u001b[36menvironment\u001b[0m=\u001b[35mlocal\u001b[0m \u001b[36mfile_path\u001b[0m=\u001b[35m/Users/dima/hiredscore/past_candidates/fetch/hs_fetch/fast_fetch/fast_fetch_search_input.py\u001b[0m \u001b[36mfunction_name\u001b[0m=\u001b[35m_override_title\u001b[0m \u001b[36mhostname\u001b[0m=\u001b[35mDima-Shulga-MacBook-Pro\u001b[0m \u001b[36minitial_override_title\u001b[0m=\u001b[35mNone\u001b[0m \u001b[36mline_number\u001b[0m=\u001b[35m357\u001b[0m \u001b[36mmodule\u001b[0m=\u001b[35mhs_fetch.fast_fetch.fast_fetch_search_input\u001b[0m \u001b[36moverride_title\u001b[0m=\u001b[35mNone\u001b[0m \u001b[36mpid\u001b[0m=\u001b[35m13429\u001b[0m \u001b[36mreq_title\u001b[0m=\u001b[35mCashier    #JoinOurFamily\u001b[0m\n",
      "\u001b[2m2023-09-19T18:47:35.426329Z\u001b[0m [\u001b[32m\u001b[1minfo     \u001b[0m] \u001b[1m_override_title:Input         \u001b[0m \u001b[36menvironment\u001b[0m=\u001b[35mlocal\u001b[0m \u001b[36mfile_path\u001b[0m=\u001b[35m/Users/dima/hiredscore/past_candidates/fetch/hs_fetch/fast_fetch/fast_fetch_search_input.py\u001b[0m \u001b[36mfunction_name\u001b[0m=\u001b[35m_override_title\u001b[0m \u001b[36mhostname\u001b[0m=\u001b[35mDima-Shulga-MacBook-Pro\u001b[0m \u001b[36minitial_override_title\u001b[0m=\u001b[35mNone\u001b[0m \u001b[36mline_number\u001b[0m=\u001b[35m357\u001b[0m \u001b[36mmodule\u001b[0m=\u001b[35mhs_fetch.fast_fetch.fast_fetch_search_input\u001b[0m \u001b[36moverride_title\u001b[0m=\u001b[35mNone\u001b[0m \u001b[36mpid\u001b[0m=\u001b[35m13429\u001b[0m \u001b[36mreq_title\u001b[0m=\u001b[35mCashier    #JoinOurFamily\u001b[0m\n",
      "\u001b[2m2023-09-19T18:47:36.507328Z\u001b[0m [\u001b[32m\u001b[1minfo     \u001b[0m] \u001b[1m_override_title:Input         \u001b[0m \u001b[36menvironment\u001b[0m=\u001b[35mlocal\u001b[0m \u001b[36mfile_path\u001b[0m=\u001b[35m/Users/dima/hiredscore/past_candidates/fetch/hs_fetch/fast_fetch/fast_fetch_search_input.py\u001b[0m \u001b[36mfunction_name\u001b[0m=\u001b[35m_override_title\u001b[0m \u001b[36mhostname\u001b[0m=\u001b[35mDima-Shulga-MacBook-Pro\u001b[0m \u001b[36minitial_override_title\u001b[0m=\u001b[35mNone\u001b[0m \u001b[36mline_number\u001b[0m=\u001b[35m357\u001b[0m \u001b[36mmodule\u001b[0m=\u001b[35mhs_fetch.fast_fetch.fast_fetch_search_input\u001b[0m \u001b[36moverride_title\u001b[0m=\u001b[35mNone\u001b[0m \u001b[36mpid\u001b[0m=\u001b[35m13429\u001b[0m \u001b[36mreq_title\u001b[0m=\u001b[35mCashier    #JoinOurFamily\u001b[0m\n",
      "\u001b[2m2023-09-19T18:47:37.590565Z\u001b[0m [\u001b[32m\u001b[1minfo     \u001b[0m] \u001b[1m_override_title:Input         \u001b[0m \u001b[36menvironment\u001b[0m=\u001b[35mlocal\u001b[0m \u001b[36mfile_path\u001b[0m=\u001b[35m/Users/dima/hiredscore/past_candidates/fetch/hs_fetch/fast_fetch/fast_fetch_search_input.py\u001b[0m \u001b[36mfunction_name\u001b[0m=\u001b[35m_override_title\u001b[0m \u001b[36mhostname\u001b[0m=\u001b[35mDima-Shulga-MacBook-Pro\u001b[0m \u001b[36minitial_override_title\u001b[0m=\u001b[35mNone\u001b[0m \u001b[36mline_number\u001b[0m=\u001b[35m357\u001b[0m \u001b[36mmodule\u001b[0m=\u001b[35mhs_fetch.fast_fetch.fast_fetch_search_input\u001b[0m \u001b[36moverride_title\u001b[0m=\u001b[35mNone\u001b[0m \u001b[36mpid\u001b[0m=\u001b[35m13429\u001b[0m \u001b[36mreq_title\u001b[0m=\u001b[35mCashier    #JoinOurFamily\u001b[0m\n",
      "\u001b[2m2023-09-19T18:47:38.680060Z\u001b[0m [\u001b[32m\u001b[1minfo     \u001b[0m] \u001b[1m_override_title:Input         \u001b[0m \u001b[36menvironment\u001b[0m=\u001b[35mlocal\u001b[0m \u001b[36mfile_path\u001b[0m=\u001b[35m/Users/dima/hiredscore/past_candidates/fetch/hs_fetch/fast_fetch/fast_fetch_search_input.py\u001b[0m \u001b[36mfunction_name\u001b[0m=\u001b[35m_override_title\u001b[0m \u001b[36mhostname\u001b[0m=\u001b[35mDima-Shulga-MacBook-Pro\u001b[0m \u001b[36minitial_override_title\u001b[0m=\u001b[35mNone\u001b[0m \u001b[36mline_number\u001b[0m=\u001b[35m357\u001b[0m \u001b[36mmodule\u001b[0m=\u001b[35mhs_fetch.fast_fetch.fast_fetch_search_input\u001b[0m \u001b[36moverride_title\u001b[0m=\u001b[35mNone\u001b[0m \u001b[36mpid\u001b[0m=\u001b[35m13429\u001b[0m \u001b[36mreq_title\u001b[0m=\u001b[35mCashier    #JoinOurFamily\u001b[0m\n",
      "\u001b[2m2023-09-19T18:47:39.740086Z\u001b[0m [\u001b[32m\u001b[1minfo     \u001b[0m] \u001b[1m_override_title:Input         \u001b[0m \u001b[36menvironment\u001b[0m=\u001b[35mlocal\u001b[0m \u001b[36mfile_path\u001b[0m=\u001b[35m/Users/dima/hiredscore/past_candidates/fetch/hs_fetch/fast_fetch/fast_fetch_search_input.py\u001b[0m \u001b[36mfunction_name\u001b[0m=\u001b[35m_override_title\u001b[0m \u001b[36mhostname\u001b[0m=\u001b[35mDima-Shulga-MacBook-Pro\u001b[0m \u001b[36minitial_override_title\u001b[0m=\u001b[35mNone\u001b[0m \u001b[36mline_number\u001b[0m=\u001b[35m357\u001b[0m \u001b[36mmodule\u001b[0m=\u001b[35mhs_fetch.fast_fetch.fast_fetch_search_input\u001b[0m \u001b[36moverride_title\u001b[0m=\u001b[35mNone\u001b[0m \u001b[36mpid\u001b[0m=\u001b[35m13429\u001b[0m \u001b[36mreq_title\u001b[0m=\u001b[35mCashier    #JoinOurFamily\u001b[0m\n",
      "\u001b[2m2023-09-19T18:47:40.813668Z\u001b[0m [\u001b[32m\u001b[1minfo     \u001b[0m] \u001b[1m_override_title:Input         \u001b[0m \u001b[36menvironment\u001b[0m=\u001b[35mlocal\u001b[0m \u001b[36mfile_path\u001b[0m=\u001b[35m/Users/dima/hiredscore/past_candidates/fetch/hs_fetch/fast_fetch/fast_fetch_search_input.py\u001b[0m \u001b[36mfunction_name\u001b[0m=\u001b[35m_override_title\u001b[0m \u001b[36mhostname\u001b[0m=\u001b[35mDima-Shulga-MacBook-Pro\u001b[0m \u001b[36minitial_override_title\u001b[0m=\u001b[35mNone\u001b[0m \u001b[36mline_number\u001b[0m=\u001b[35m357\u001b[0m \u001b[36mmodule\u001b[0m=\u001b[35mhs_fetch.fast_fetch.fast_fetch_search_input\u001b[0m \u001b[36moverride_title\u001b[0m=\u001b[35mNone\u001b[0m \u001b[36mpid\u001b[0m=\u001b[35m13429\u001b[0m \u001b[36mreq_title\u001b[0m=\u001b[35mCashier    #JoinOurFamily\u001b[0m\n",
      "\u001b[2m2023-09-19T18:47:41.914779Z\u001b[0m [\u001b[32m\u001b[1minfo     \u001b[0m] \u001b[1m_override_title:Input         \u001b[0m \u001b[36menvironment\u001b[0m=\u001b[35mlocal\u001b[0m \u001b[36mfile_path\u001b[0m=\u001b[35m/Users/dima/hiredscore/past_candidates/fetch/hs_fetch/fast_fetch/fast_fetch_search_input.py\u001b[0m \u001b[36mfunction_name\u001b[0m=\u001b[35m_override_title\u001b[0m \u001b[36mhostname\u001b[0m=\u001b[35mDima-Shulga-MacBook-Pro\u001b[0m \u001b[36minitial_override_title\u001b[0m=\u001b[35mNone\u001b[0m \u001b[36mline_number\u001b[0m=\u001b[35m357\u001b[0m \u001b[36mmodule\u001b[0m=\u001b[35mhs_fetch.fast_fetch.fast_fetch_search_input\u001b[0m \u001b[36moverride_title\u001b[0m=\u001b[35mNone\u001b[0m \u001b[36mpid\u001b[0m=\u001b[35m13429\u001b[0m \u001b[36mreq_title\u001b[0m=\u001b[35mCashier    #JoinOurFamily\u001b[0m\n",
      "\u001b[2m2023-09-19T18:47:42.996060Z\u001b[0m [\u001b[32m\u001b[1minfo     \u001b[0m] \u001b[1m_override_title:Input         \u001b[0m \u001b[36menvironment\u001b[0m=\u001b[35mlocal\u001b[0m \u001b[36mfile_path\u001b[0m=\u001b[35m/Users/dima/hiredscore/past_candidates/fetch/hs_fetch/fast_fetch/fast_fetch_search_input.py\u001b[0m \u001b[36mfunction_name\u001b[0m=\u001b[35m_override_title\u001b[0m \u001b[36mhostname\u001b[0m=\u001b[35mDima-Shulga-MacBook-Pro\u001b[0m \u001b[36minitial_override_title\u001b[0m=\u001b[35mNone\u001b[0m \u001b[36mline_number\u001b[0m=\u001b[35m357\u001b[0m \u001b[36mmodule\u001b[0m=\u001b[35mhs_fetch.fast_fetch.fast_fetch_search_input\u001b[0m \u001b[36moverride_title\u001b[0m=\u001b[35mNone\u001b[0m \u001b[36mpid\u001b[0m=\u001b[35m13429\u001b[0m \u001b[36mreq_title\u001b[0m=\u001b[35mCashier    #JoinOurFamily\u001b[0m\n",
      "\u001b[2m2023-09-19T18:47:44.072222Z\u001b[0m [\u001b[32m\u001b[1minfo     \u001b[0m] \u001b[1m_override_title:Input         \u001b[0m \u001b[36menvironment\u001b[0m=\u001b[35mlocal\u001b[0m \u001b[36mfile_path\u001b[0m=\u001b[35m/Users/dima/hiredscore/past_candidates/fetch/hs_fetch/fast_fetch/fast_fetch_search_input.py\u001b[0m \u001b[36mfunction_name\u001b[0m=\u001b[35m_override_title\u001b[0m \u001b[36mhostname\u001b[0m=\u001b[35mDima-Shulga-MacBook-Pro\u001b[0m \u001b[36minitial_override_title\u001b[0m=\u001b[35mNone\u001b[0m \u001b[36mline_number\u001b[0m=\u001b[35m357\u001b[0m \u001b[36mmodule\u001b[0m=\u001b[35mhs_fetch.fast_fetch.fast_fetch_search_input\u001b[0m \u001b[36moverride_title\u001b[0m=\u001b[35mNone\u001b[0m \u001b[36mpid\u001b[0m=\u001b[35m13429\u001b[0m \u001b[36mreq_title\u001b[0m=\u001b[35mCashier    #JoinOurFamily\u001b[0m\n",
      "\u001b[2m2023-09-19T18:47:45.188305Z\u001b[0m [\u001b[32m\u001b[1minfo     \u001b[0m] \u001b[1m_override_title:Input         \u001b[0m \u001b[36menvironment\u001b[0m=\u001b[35mlocal\u001b[0m \u001b[36mfile_path\u001b[0m=\u001b[35m/Users/dima/hiredscore/past_candidates/fetch/hs_fetch/fast_fetch/fast_fetch_search_input.py\u001b[0m \u001b[36mfunction_name\u001b[0m=\u001b[35m_override_title\u001b[0m \u001b[36mhostname\u001b[0m=\u001b[35mDima-Shulga-MacBook-Pro\u001b[0m \u001b[36minitial_override_title\u001b[0m=\u001b[35mNone\u001b[0m \u001b[36mline_number\u001b[0m=\u001b[35m357\u001b[0m \u001b[36mmodule\u001b[0m=\u001b[35mhs_fetch.fast_fetch.fast_fetch_search_input\u001b[0m \u001b[36moverride_title\u001b[0m=\u001b[35mNone\u001b[0m \u001b[36mpid\u001b[0m=\u001b[35m13429\u001b[0m \u001b[36mreq_title\u001b[0m=\u001b[35mCashier    #JoinOurFamily\u001b[0m\n",
      "\u001b[2m2023-09-19T18:47:46.282204Z\u001b[0m [\u001b[32m\u001b[1minfo     \u001b[0m] \u001b[1m_override_title:Input         \u001b[0m \u001b[36menvironment\u001b[0m=\u001b[35mlocal\u001b[0m \u001b[36mfile_path\u001b[0m=\u001b[35m/Users/dima/hiredscore/past_candidates/fetch/hs_fetch/fast_fetch/fast_fetch_search_input.py\u001b[0m \u001b[36mfunction_name\u001b[0m=\u001b[35m_override_title\u001b[0m \u001b[36mhostname\u001b[0m=\u001b[35mDima-Shulga-MacBook-Pro\u001b[0m \u001b[36minitial_override_title\u001b[0m=\u001b[35mNone\u001b[0m \u001b[36mline_number\u001b[0m=\u001b[35m357\u001b[0m \u001b[36mmodule\u001b[0m=\u001b[35mhs_fetch.fast_fetch.fast_fetch_search_input\u001b[0m \u001b[36moverride_title\u001b[0m=\u001b[35mNone\u001b[0m \u001b[36mpid\u001b[0m=\u001b[35m13429\u001b[0m \u001b[36mreq_title\u001b[0m=\u001b[35mCashier    #JoinOurFamily\u001b[0m\n",
      "\u001b[2m2023-09-19T18:47:47.355075Z\u001b[0m [\u001b[32m\u001b[1minfo     \u001b[0m] \u001b[1m_override_title:Input         \u001b[0m \u001b[36menvironment\u001b[0m=\u001b[35mlocal\u001b[0m \u001b[36mfile_path\u001b[0m=\u001b[35m/Users/dima/hiredscore/past_candidates/fetch/hs_fetch/fast_fetch/fast_fetch_search_input.py\u001b[0m \u001b[36mfunction_name\u001b[0m=\u001b[35m_override_title\u001b[0m \u001b[36mhostname\u001b[0m=\u001b[35mDima-Shulga-MacBook-Pro\u001b[0m \u001b[36minitial_override_title\u001b[0m=\u001b[35mNone\u001b[0m \u001b[36mline_number\u001b[0m=\u001b[35m357\u001b[0m \u001b[36mmodule\u001b[0m=\u001b[35mhs_fetch.fast_fetch.fast_fetch_search_input\u001b[0m \u001b[36moverride_title\u001b[0m=\u001b[35mNone\u001b[0m \u001b[36mpid\u001b[0m=\u001b[35m13429\u001b[0m \u001b[36mreq_title\u001b[0m=\u001b[35mCashier    #JoinOurFamily\u001b[0m\n",
      "\u001b[2m2023-09-19T18:47:48.801488Z\u001b[0m [\u001b[32m\u001b[1minfo     \u001b[0m] \u001b[1m_override_title:Input         \u001b[0m \u001b[36menvironment\u001b[0m=\u001b[35mlocal\u001b[0m \u001b[36mfile_path\u001b[0m=\u001b[35m/Users/dima/hiredscore/past_candidates/fetch/hs_fetch/fast_fetch/fast_fetch_search_input.py\u001b[0m \u001b[36mfunction_name\u001b[0m=\u001b[35m_override_title\u001b[0m \u001b[36mhostname\u001b[0m=\u001b[35mDima-Shulga-MacBook-Pro\u001b[0m \u001b[36minitial_override_title\u001b[0m=\u001b[35mNone\u001b[0m \u001b[36mline_number\u001b[0m=\u001b[35m357\u001b[0m \u001b[36mmodule\u001b[0m=\u001b[35mhs_fetch.fast_fetch.fast_fetch_search_input\u001b[0m \u001b[36moverride_title\u001b[0m=\u001b[35mNone\u001b[0m \u001b[36mpid\u001b[0m=\u001b[35m13429\u001b[0m \u001b[36mreq_title\u001b[0m=\u001b[35mCashier    #JoinOurFamily\u001b[0m\n",
      "\u001b[2m2023-09-19T18:47:49.885280Z\u001b[0m [\u001b[32m\u001b[1minfo     \u001b[0m] \u001b[1m_override_title:Input         \u001b[0m \u001b[36menvironment\u001b[0m=\u001b[35mlocal\u001b[0m \u001b[36mfile_path\u001b[0m=\u001b[35m/Users/dima/hiredscore/past_candidates/fetch/hs_fetch/fast_fetch/fast_fetch_search_input.py\u001b[0m \u001b[36mfunction_name\u001b[0m=\u001b[35m_override_title\u001b[0m \u001b[36mhostname\u001b[0m=\u001b[35mDima-Shulga-MacBook-Pro\u001b[0m \u001b[36minitial_override_title\u001b[0m=\u001b[35mNone\u001b[0m \u001b[36mline_number\u001b[0m=\u001b[35m357\u001b[0m \u001b[36mmodule\u001b[0m=\u001b[35mhs_fetch.fast_fetch.fast_fetch_search_input\u001b[0m \u001b[36moverride_title\u001b[0m=\u001b[35mNone\u001b[0m \u001b[36mpid\u001b[0m=\u001b[35m13429\u001b[0m \u001b[36mreq_title\u001b[0m=\u001b[35mCashier    #JoinOurFamily\u001b[0m\n",
      "\u001b[2m2023-09-19T18:47:50.965671Z\u001b[0m [\u001b[32m\u001b[1minfo     \u001b[0m] \u001b[1m_override_title:Input         \u001b[0m \u001b[36menvironment\u001b[0m=\u001b[35mlocal\u001b[0m \u001b[36mfile_path\u001b[0m=\u001b[35m/Users/dima/hiredscore/past_candidates/fetch/hs_fetch/fast_fetch/fast_fetch_search_input.py\u001b[0m \u001b[36mfunction_name\u001b[0m=\u001b[35m_override_title\u001b[0m \u001b[36mhostname\u001b[0m=\u001b[35mDima-Shulga-MacBook-Pro\u001b[0m \u001b[36minitial_override_title\u001b[0m=\u001b[35mNone\u001b[0m \u001b[36mline_number\u001b[0m=\u001b[35m357\u001b[0m \u001b[36mmodule\u001b[0m=\u001b[35mhs_fetch.fast_fetch.fast_fetch_search_input\u001b[0m \u001b[36moverride_title\u001b[0m=\u001b[35mNone\u001b[0m \u001b[36mpid\u001b[0m=\u001b[35m13429\u001b[0m \u001b[36mreq_title\u001b[0m=\u001b[35mCashier    #JoinOurFamily\u001b[0m\n",
      "\u001b[2m2023-09-19T18:47:52.049705Z\u001b[0m [\u001b[32m\u001b[1minfo     \u001b[0m] \u001b[1m_override_title:Input         \u001b[0m \u001b[36menvironment\u001b[0m=\u001b[35mlocal\u001b[0m \u001b[36mfile_path\u001b[0m=\u001b[35m/Users/dima/hiredscore/past_candidates/fetch/hs_fetch/fast_fetch/fast_fetch_search_input.py\u001b[0m \u001b[36mfunction_name\u001b[0m=\u001b[35m_override_title\u001b[0m \u001b[36mhostname\u001b[0m=\u001b[35mDima-Shulga-MacBook-Pro\u001b[0m \u001b[36minitial_override_title\u001b[0m=\u001b[35mNone\u001b[0m \u001b[36mline_number\u001b[0m=\u001b[35m357\u001b[0m \u001b[36mmodule\u001b[0m=\u001b[35mhs_fetch.fast_fetch.fast_fetch_search_input\u001b[0m \u001b[36moverride_title\u001b[0m=\u001b[35mNone\u001b[0m \u001b[36mpid\u001b[0m=\u001b[35m13429\u001b[0m \u001b[36mreq_title\u001b[0m=\u001b[35mCashier    #JoinOurFamily\u001b[0m\n",
      "\u001b[2m2023-09-19T18:47:53.147014Z\u001b[0m [\u001b[32m\u001b[1minfo     \u001b[0m] \u001b[1m_override_title:Input         \u001b[0m \u001b[36menvironment\u001b[0m=\u001b[35mlocal\u001b[0m \u001b[36mfile_path\u001b[0m=\u001b[35m/Users/dima/hiredscore/past_candidates/fetch/hs_fetch/fast_fetch/fast_fetch_search_input.py\u001b[0m \u001b[36mfunction_name\u001b[0m=\u001b[35m_override_title\u001b[0m \u001b[36mhostname\u001b[0m=\u001b[35mDima-Shulga-MacBook-Pro\u001b[0m \u001b[36minitial_override_title\u001b[0m=\u001b[35mNone\u001b[0m \u001b[36mline_number\u001b[0m=\u001b[35m357\u001b[0m \u001b[36mmodule\u001b[0m=\u001b[35mhs_fetch.fast_fetch.fast_fetch_search_input\u001b[0m \u001b[36moverride_title\u001b[0m=\u001b[35mNone\u001b[0m \u001b[36mpid\u001b[0m=\u001b[35m13429\u001b[0m \u001b[36mreq_title\u001b[0m=\u001b[35mCashier    #JoinOurFamily\u001b[0m\n",
      "\u001b[2m2023-09-19T18:47:54.235770Z\u001b[0m [\u001b[32m\u001b[1minfo     \u001b[0m] \u001b[1m_override_title:Input         \u001b[0m \u001b[36menvironment\u001b[0m=\u001b[35mlocal\u001b[0m \u001b[36mfile_path\u001b[0m=\u001b[35m/Users/dima/hiredscore/past_candidates/fetch/hs_fetch/fast_fetch/fast_fetch_search_input.py\u001b[0m \u001b[36mfunction_name\u001b[0m=\u001b[35m_override_title\u001b[0m \u001b[36mhostname\u001b[0m=\u001b[35mDima-Shulga-MacBook-Pro\u001b[0m \u001b[36minitial_override_title\u001b[0m=\u001b[35mNone\u001b[0m \u001b[36mline_number\u001b[0m=\u001b[35m357\u001b[0m \u001b[36mmodule\u001b[0m=\u001b[35mhs_fetch.fast_fetch.fast_fetch_search_input\u001b[0m \u001b[36moverride_title\u001b[0m=\u001b[35mNone\u001b[0m \u001b[36mpid\u001b[0m=\u001b[35m13429\u001b[0m \u001b[36mreq_title\u001b[0m=\u001b[35mCashier    #JoinOurFamily\u001b[0m\n",
      "\u001b[2m2023-09-19T18:47:55.322556Z\u001b[0m [\u001b[32m\u001b[1minfo     \u001b[0m] \u001b[1m_override_title:Input         \u001b[0m \u001b[36menvironment\u001b[0m=\u001b[35mlocal\u001b[0m \u001b[36mfile_path\u001b[0m=\u001b[35m/Users/dima/hiredscore/past_candidates/fetch/hs_fetch/fast_fetch/fast_fetch_search_input.py\u001b[0m \u001b[36mfunction_name\u001b[0m=\u001b[35m_override_title\u001b[0m \u001b[36mhostname\u001b[0m=\u001b[35mDima-Shulga-MacBook-Pro\u001b[0m \u001b[36minitial_override_title\u001b[0m=\u001b[35mNone\u001b[0m \u001b[36mline_number\u001b[0m=\u001b[35m357\u001b[0m \u001b[36mmodule\u001b[0m=\u001b[35mhs_fetch.fast_fetch.fast_fetch_search_input\u001b[0m \u001b[36moverride_title\u001b[0m=\u001b[35mNone\u001b[0m \u001b[36mpid\u001b[0m=\u001b[35m13429\u001b[0m \u001b[36mreq_title\u001b[0m=\u001b[35mCashier    #JoinOurFamily\u001b[0m\n",
      "\u001b[2m2023-09-19T18:47:56.401895Z\u001b[0m [\u001b[32m\u001b[1minfo     \u001b[0m] \u001b[1m_override_title:Input         \u001b[0m \u001b[36menvironment\u001b[0m=\u001b[35mlocal\u001b[0m \u001b[36mfile_path\u001b[0m=\u001b[35m/Users/dima/hiredscore/past_candidates/fetch/hs_fetch/fast_fetch/fast_fetch_search_input.py\u001b[0m \u001b[36mfunction_name\u001b[0m=\u001b[35m_override_title\u001b[0m \u001b[36mhostname\u001b[0m=\u001b[35mDima-Shulga-MacBook-Pro\u001b[0m \u001b[36minitial_override_title\u001b[0m=\u001b[35mNone\u001b[0m \u001b[36mline_number\u001b[0m=\u001b[35m357\u001b[0m \u001b[36mmodule\u001b[0m=\u001b[35mhs_fetch.fast_fetch.fast_fetch_search_input\u001b[0m \u001b[36moverride_title\u001b[0m=\u001b[35mNone\u001b[0m \u001b[36mpid\u001b[0m=\u001b[35m13429\u001b[0m \u001b[36mreq_title\u001b[0m=\u001b[35mCashier    #JoinOurFamily\u001b[0m\n",
      "\u001b[2m2023-09-19T18:47:57.480234Z\u001b[0m [\u001b[32m\u001b[1minfo     \u001b[0m] \u001b[1m_override_title:Input         \u001b[0m \u001b[36menvironment\u001b[0m=\u001b[35mlocal\u001b[0m \u001b[36mfile_path\u001b[0m=\u001b[35m/Users/dima/hiredscore/past_candidates/fetch/hs_fetch/fast_fetch/fast_fetch_search_input.py\u001b[0m \u001b[36mfunction_name\u001b[0m=\u001b[35m_override_title\u001b[0m \u001b[36mhostname\u001b[0m=\u001b[35mDima-Shulga-MacBook-Pro\u001b[0m \u001b[36minitial_override_title\u001b[0m=\u001b[35mNone\u001b[0m \u001b[36mline_number\u001b[0m=\u001b[35m357\u001b[0m \u001b[36mmodule\u001b[0m=\u001b[35mhs_fetch.fast_fetch.fast_fetch_search_input\u001b[0m \u001b[36moverride_title\u001b[0m=\u001b[35mNone\u001b[0m \u001b[36mpid\u001b[0m=\u001b[35m13429\u001b[0m \u001b[36mreq_title\u001b[0m=\u001b[35mCashier    #JoinOurFamily\u001b[0m\n",
      "\u001b[2m2023-09-19T18:47:58.558648Z\u001b[0m [\u001b[32m\u001b[1minfo     \u001b[0m] \u001b[1m_override_title:Input         \u001b[0m \u001b[36menvironment\u001b[0m=\u001b[35mlocal\u001b[0m \u001b[36mfile_path\u001b[0m=\u001b[35m/Users/dima/hiredscore/past_candidates/fetch/hs_fetch/fast_fetch/fast_fetch_search_input.py\u001b[0m \u001b[36mfunction_name\u001b[0m=\u001b[35m_override_title\u001b[0m \u001b[36mhostname\u001b[0m=\u001b[35mDima-Shulga-MacBook-Pro\u001b[0m \u001b[36minitial_override_title\u001b[0m=\u001b[35mNone\u001b[0m \u001b[36mline_number\u001b[0m=\u001b[35m357\u001b[0m \u001b[36mmodule\u001b[0m=\u001b[35mhs_fetch.fast_fetch.fast_fetch_search_input\u001b[0m \u001b[36moverride_title\u001b[0m=\u001b[35mNone\u001b[0m \u001b[36mpid\u001b[0m=\u001b[35m13429\u001b[0m \u001b[36mreq_title\u001b[0m=\u001b[35mCashier    #JoinOurFamily\u001b[0m\n",
      "\u001b[2m2023-09-19T18:47:59.639658Z\u001b[0m [\u001b[32m\u001b[1minfo     \u001b[0m] \u001b[1m_override_title:Input         \u001b[0m \u001b[36menvironment\u001b[0m=\u001b[35mlocal\u001b[0m \u001b[36mfile_path\u001b[0m=\u001b[35m/Users/dima/hiredscore/past_candidates/fetch/hs_fetch/fast_fetch/fast_fetch_search_input.py\u001b[0m \u001b[36mfunction_name\u001b[0m=\u001b[35m_override_title\u001b[0m \u001b[36mhostname\u001b[0m=\u001b[35mDima-Shulga-MacBook-Pro\u001b[0m \u001b[36minitial_override_title\u001b[0m=\u001b[35mNone\u001b[0m \u001b[36mline_number\u001b[0m=\u001b[35m357\u001b[0m \u001b[36mmodule\u001b[0m=\u001b[35mhs_fetch.fast_fetch.fast_fetch_search_input\u001b[0m \u001b[36moverride_title\u001b[0m=\u001b[35mNone\u001b[0m \u001b[36mpid\u001b[0m=\u001b[35m13429\u001b[0m \u001b[36mreq_title\u001b[0m=\u001b[35mCashier    #JoinOurFamily\u001b[0m\n",
      "\u001b[2m2023-09-19T18:48:00.724648Z\u001b[0m [\u001b[32m\u001b[1minfo     \u001b[0m] \u001b[1m_override_title:Input         \u001b[0m \u001b[36menvironment\u001b[0m=\u001b[35mlocal\u001b[0m \u001b[36mfile_path\u001b[0m=\u001b[35m/Users/dima/hiredscore/past_candidates/fetch/hs_fetch/fast_fetch/fast_fetch_search_input.py\u001b[0m \u001b[36mfunction_name\u001b[0m=\u001b[35m_override_title\u001b[0m \u001b[36mhostname\u001b[0m=\u001b[35mDima-Shulga-MacBook-Pro\u001b[0m \u001b[36minitial_override_title\u001b[0m=\u001b[35mNone\u001b[0m \u001b[36mline_number\u001b[0m=\u001b[35m357\u001b[0m \u001b[36mmodule\u001b[0m=\u001b[35mhs_fetch.fast_fetch.fast_fetch_search_input\u001b[0m \u001b[36moverride_title\u001b[0m=\u001b[35mNone\u001b[0m \u001b[36mpid\u001b[0m=\u001b[35m13429\u001b[0m \u001b[36mreq_title\u001b[0m=\u001b[35mCashier    #JoinOurFamily\u001b[0m\n",
      "\u001b[2m2023-09-19T18:48:01.813819Z\u001b[0m [\u001b[32m\u001b[1minfo     \u001b[0m] \u001b[1m_override_title:Input         \u001b[0m \u001b[36menvironment\u001b[0m=\u001b[35mlocal\u001b[0m \u001b[36mfile_path\u001b[0m=\u001b[35m/Users/dima/hiredscore/past_candidates/fetch/hs_fetch/fast_fetch/fast_fetch_search_input.py\u001b[0m \u001b[36mfunction_name\u001b[0m=\u001b[35m_override_title\u001b[0m \u001b[36mhostname\u001b[0m=\u001b[35mDima-Shulga-MacBook-Pro\u001b[0m \u001b[36minitial_override_title\u001b[0m=\u001b[35mNone\u001b[0m \u001b[36mline_number\u001b[0m=\u001b[35m357\u001b[0m \u001b[36mmodule\u001b[0m=\u001b[35mhs_fetch.fast_fetch.fast_fetch_search_input\u001b[0m \u001b[36moverride_title\u001b[0m=\u001b[35mNone\u001b[0m \u001b[36mpid\u001b[0m=\u001b[35m13429\u001b[0m \u001b[36mreq_title\u001b[0m=\u001b[35mCashier    #JoinOurFamily\u001b[0m\n",
      "\u001b[2m2023-09-19T18:48:02.986144Z\u001b[0m [\u001b[32m\u001b[1minfo     \u001b[0m] \u001b[1m_override_title:Input         \u001b[0m \u001b[36menvironment\u001b[0m=\u001b[35mlocal\u001b[0m \u001b[36mfile_path\u001b[0m=\u001b[35m/Users/dima/hiredscore/past_candidates/fetch/hs_fetch/fast_fetch/fast_fetch_search_input.py\u001b[0m \u001b[36mfunction_name\u001b[0m=\u001b[35m_override_title\u001b[0m \u001b[36mhostname\u001b[0m=\u001b[35mDima-Shulga-MacBook-Pro\u001b[0m \u001b[36minitial_override_title\u001b[0m=\u001b[35mNone\u001b[0m \u001b[36mline_number\u001b[0m=\u001b[35m357\u001b[0m \u001b[36mmodule\u001b[0m=\u001b[35mhs_fetch.fast_fetch.fast_fetch_search_input\u001b[0m \u001b[36moverride_title\u001b[0m=\u001b[35mNone\u001b[0m \u001b[36mpid\u001b[0m=\u001b[35m13429\u001b[0m \u001b[36mreq_title\u001b[0m=\u001b[35mCashier    #JoinOurFamily\u001b[0m\n",
      "\u001b[2m2023-09-19T18:48:04.127660Z\u001b[0m [\u001b[32m\u001b[1minfo     \u001b[0m] \u001b[1m_override_title:Input         \u001b[0m \u001b[36menvironment\u001b[0m=\u001b[35mlocal\u001b[0m \u001b[36mfile_path\u001b[0m=\u001b[35m/Users/dima/hiredscore/past_candidates/fetch/hs_fetch/fast_fetch/fast_fetch_search_input.py\u001b[0m \u001b[36mfunction_name\u001b[0m=\u001b[35m_override_title\u001b[0m \u001b[36mhostname\u001b[0m=\u001b[35mDima-Shulga-MacBook-Pro\u001b[0m \u001b[36minitial_override_title\u001b[0m=\u001b[35mNone\u001b[0m \u001b[36mline_number\u001b[0m=\u001b[35m357\u001b[0m \u001b[36mmodule\u001b[0m=\u001b[35mhs_fetch.fast_fetch.fast_fetch_search_input\u001b[0m \u001b[36moverride_title\u001b[0m=\u001b[35mNone\u001b[0m \u001b[36mpid\u001b[0m=\u001b[35m13429\u001b[0m \u001b[36mreq_title\u001b[0m=\u001b[35mCashier    #JoinOurFamily\u001b[0m\n",
      "\u001b[2m2023-09-19T18:48:05.227806Z\u001b[0m [\u001b[32m\u001b[1minfo     \u001b[0m] \u001b[1m_override_title:Input         \u001b[0m \u001b[36menvironment\u001b[0m=\u001b[35mlocal\u001b[0m \u001b[36mfile_path\u001b[0m=\u001b[35m/Users/dima/hiredscore/past_candidates/fetch/hs_fetch/fast_fetch/fast_fetch_search_input.py\u001b[0m \u001b[36mfunction_name\u001b[0m=\u001b[35m_override_title\u001b[0m \u001b[36mhostname\u001b[0m=\u001b[35mDima-Shulga-MacBook-Pro\u001b[0m \u001b[36minitial_override_title\u001b[0m=\u001b[35mNone\u001b[0m \u001b[36mline_number\u001b[0m=\u001b[35m357\u001b[0m \u001b[36mmodule\u001b[0m=\u001b[35mhs_fetch.fast_fetch.fast_fetch_search_input\u001b[0m \u001b[36moverride_title\u001b[0m=\u001b[35mNone\u001b[0m \u001b[36mpid\u001b[0m=\u001b[35m13429\u001b[0m \u001b[36mreq_title\u001b[0m=\u001b[35mCashier    #JoinOurFamily\u001b[0m\n",
      "\u001b[2m2023-09-19T18:48:06.382203Z\u001b[0m [\u001b[32m\u001b[1minfo     \u001b[0m] \u001b[1m_override_title:Input         \u001b[0m \u001b[36menvironment\u001b[0m=\u001b[35mlocal\u001b[0m \u001b[36mfile_path\u001b[0m=\u001b[35m/Users/dima/hiredscore/past_candidates/fetch/hs_fetch/fast_fetch/fast_fetch_search_input.py\u001b[0m \u001b[36mfunction_name\u001b[0m=\u001b[35m_override_title\u001b[0m \u001b[36mhostname\u001b[0m=\u001b[35mDima-Shulga-MacBook-Pro\u001b[0m \u001b[36minitial_override_title\u001b[0m=\u001b[35mNone\u001b[0m \u001b[36mline_number\u001b[0m=\u001b[35m357\u001b[0m \u001b[36mmodule\u001b[0m=\u001b[35mhs_fetch.fast_fetch.fast_fetch_search_input\u001b[0m \u001b[36moverride_title\u001b[0m=\u001b[35mNone\u001b[0m \u001b[36mpid\u001b[0m=\u001b[35m13429\u001b[0m \u001b[36mreq_title\u001b[0m=\u001b[35mCashier    #JoinOurFamily\u001b[0m\n",
      "\u001b[2m2023-09-19T18:48:07.488378Z\u001b[0m [\u001b[32m\u001b[1minfo     \u001b[0m] \u001b[1m_override_title:Input         \u001b[0m \u001b[36menvironment\u001b[0m=\u001b[35mlocal\u001b[0m \u001b[36mfile_path\u001b[0m=\u001b[35m/Users/dima/hiredscore/past_candidates/fetch/hs_fetch/fast_fetch/fast_fetch_search_input.py\u001b[0m \u001b[36mfunction_name\u001b[0m=\u001b[35m_override_title\u001b[0m \u001b[36mhostname\u001b[0m=\u001b[35mDima-Shulga-MacBook-Pro\u001b[0m \u001b[36minitial_override_title\u001b[0m=\u001b[35mNone\u001b[0m \u001b[36mline_number\u001b[0m=\u001b[35m357\u001b[0m \u001b[36mmodule\u001b[0m=\u001b[35mhs_fetch.fast_fetch.fast_fetch_search_input\u001b[0m \u001b[36moverride_title\u001b[0m=\u001b[35mNone\u001b[0m \u001b[36mpid\u001b[0m=\u001b[35m13429\u001b[0m \u001b[36mreq_title\u001b[0m=\u001b[35mCashier    #JoinOurFamily\u001b[0m\n",
      "\u001b[2m2023-09-19T18:48:08.580336Z\u001b[0m [\u001b[32m\u001b[1minfo     \u001b[0m] \u001b[1m_override_title:Input         \u001b[0m \u001b[36menvironment\u001b[0m=\u001b[35mlocal\u001b[0m \u001b[36mfile_path\u001b[0m=\u001b[35m/Users/dima/hiredscore/past_candidates/fetch/hs_fetch/fast_fetch/fast_fetch_search_input.py\u001b[0m \u001b[36mfunction_name\u001b[0m=\u001b[35m_override_title\u001b[0m \u001b[36mhostname\u001b[0m=\u001b[35mDima-Shulga-MacBook-Pro\u001b[0m \u001b[36minitial_override_title\u001b[0m=\u001b[35mNone\u001b[0m \u001b[36mline_number\u001b[0m=\u001b[35m357\u001b[0m \u001b[36mmodule\u001b[0m=\u001b[35mhs_fetch.fast_fetch.fast_fetch_search_input\u001b[0m \u001b[36moverride_title\u001b[0m=\u001b[35mNone\u001b[0m \u001b[36mpid\u001b[0m=\u001b[35m13429\u001b[0m \u001b[36mreq_title\u001b[0m=\u001b[35mCashier    #JoinOurFamily\u001b[0m\n",
      "\u001b[2m2023-09-19T18:48:09.668694Z\u001b[0m [\u001b[32m\u001b[1minfo     \u001b[0m] \u001b[1m_override_title:Input         \u001b[0m \u001b[36menvironment\u001b[0m=\u001b[35mlocal\u001b[0m \u001b[36mfile_path\u001b[0m=\u001b[35m/Users/dima/hiredscore/past_candidates/fetch/hs_fetch/fast_fetch/fast_fetch_search_input.py\u001b[0m \u001b[36mfunction_name\u001b[0m=\u001b[35m_override_title\u001b[0m \u001b[36mhostname\u001b[0m=\u001b[35mDima-Shulga-MacBook-Pro\u001b[0m \u001b[36minitial_override_title\u001b[0m=\u001b[35mNone\u001b[0m \u001b[36mline_number\u001b[0m=\u001b[35m357\u001b[0m \u001b[36mmodule\u001b[0m=\u001b[35mhs_fetch.fast_fetch.fast_fetch_search_input\u001b[0m \u001b[36moverride_title\u001b[0m=\u001b[35mNone\u001b[0m \u001b[36mpid\u001b[0m=\u001b[35m13429\u001b[0m \u001b[36mreq_title\u001b[0m=\u001b[35mCashier    #JoinOurFamily\u001b[0m\n",
      "\u001b[2m2023-09-19T18:48:10.825740Z\u001b[0m [\u001b[32m\u001b[1minfo     \u001b[0m] \u001b[1m_override_title:Input         \u001b[0m \u001b[36menvironment\u001b[0m=\u001b[35mlocal\u001b[0m \u001b[36mfile_path\u001b[0m=\u001b[35m/Users/dima/hiredscore/past_candidates/fetch/hs_fetch/fast_fetch/fast_fetch_search_input.py\u001b[0m \u001b[36mfunction_name\u001b[0m=\u001b[35m_override_title\u001b[0m \u001b[36mhostname\u001b[0m=\u001b[35mDima-Shulga-MacBook-Pro\u001b[0m \u001b[36minitial_override_title\u001b[0m=\u001b[35mNone\u001b[0m \u001b[36mline_number\u001b[0m=\u001b[35m357\u001b[0m \u001b[36mmodule\u001b[0m=\u001b[35mhs_fetch.fast_fetch.fast_fetch_search_input\u001b[0m \u001b[36moverride_title\u001b[0m=\u001b[35mNone\u001b[0m \u001b[36mpid\u001b[0m=\u001b[35m13429\u001b[0m \u001b[36mreq_title\u001b[0m=\u001b[35mCashier    #JoinOurFamily\u001b[0m\n",
      "\u001b[2m2023-09-19T18:48:12.187398Z\u001b[0m [\u001b[32m\u001b[1minfo     \u001b[0m] \u001b[1m_override_title:Input         \u001b[0m \u001b[36menvironment\u001b[0m=\u001b[35mlocal\u001b[0m \u001b[36mfile_path\u001b[0m=\u001b[35m/Users/dima/hiredscore/past_candidates/fetch/hs_fetch/fast_fetch/fast_fetch_search_input.py\u001b[0m \u001b[36mfunction_name\u001b[0m=\u001b[35m_override_title\u001b[0m \u001b[36mhostname\u001b[0m=\u001b[35mDima-Shulga-MacBook-Pro\u001b[0m \u001b[36minitial_override_title\u001b[0m=\u001b[35mNone\u001b[0m \u001b[36mline_number\u001b[0m=\u001b[35m357\u001b[0m \u001b[36mmodule\u001b[0m=\u001b[35mhs_fetch.fast_fetch.fast_fetch_search_input\u001b[0m \u001b[36moverride_title\u001b[0m=\u001b[35mNone\u001b[0m \u001b[36mpid\u001b[0m=\u001b[35m13429\u001b[0m \u001b[36mreq_title\u001b[0m=\u001b[35mCashier    #JoinOurFamily\u001b[0m\n",
      "\u001b[2m2023-09-19T18:48:13.300445Z\u001b[0m [\u001b[32m\u001b[1minfo     \u001b[0m] \u001b[1m_override_title:Input         \u001b[0m \u001b[36menvironment\u001b[0m=\u001b[35mlocal\u001b[0m \u001b[36mfile_path\u001b[0m=\u001b[35m/Users/dima/hiredscore/past_candidates/fetch/hs_fetch/fast_fetch/fast_fetch_search_input.py\u001b[0m \u001b[36mfunction_name\u001b[0m=\u001b[35m_override_title\u001b[0m \u001b[36mhostname\u001b[0m=\u001b[35mDima-Shulga-MacBook-Pro\u001b[0m \u001b[36minitial_override_title\u001b[0m=\u001b[35mNone\u001b[0m \u001b[36mline_number\u001b[0m=\u001b[35m357\u001b[0m \u001b[36mmodule\u001b[0m=\u001b[35mhs_fetch.fast_fetch.fast_fetch_search_input\u001b[0m \u001b[36moverride_title\u001b[0m=\u001b[35mNone\u001b[0m \u001b[36mpid\u001b[0m=\u001b[35m13429\u001b[0m \u001b[36mreq_title\u001b[0m=\u001b[35mCashier    #JoinOurFamily\u001b[0m\n",
      "\u001b[2m2023-09-19T18:48:14.411081Z\u001b[0m [\u001b[32m\u001b[1minfo     \u001b[0m] \u001b[1m_override_title:Input         \u001b[0m \u001b[36menvironment\u001b[0m=\u001b[35mlocal\u001b[0m \u001b[36mfile_path\u001b[0m=\u001b[35m/Users/dima/hiredscore/past_candidates/fetch/hs_fetch/fast_fetch/fast_fetch_search_input.py\u001b[0m \u001b[36mfunction_name\u001b[0m=\u001b[35m_override_title\u001b[0m \u001b[36mhostname\u001b[0m=\u001b[35mDima-Shulga-MacBook-Pro\u001b[0m \u001b[36minitial_override_title\u001b[0m=\u001b[35mNone\u001b[0m \u001b[36mline_number\u001b[0m=\u001b[35m357\u001b[0m \u001b[36mmodule\u001b[0m=\u001b[35mhs_fetch.fast_fetch.fast_fetch_search_input\u001b[0m \u001b[36moverride_title\u001b[0m=\u001b[35mNone\u001b[0m \u001b[36mpid\u001b[0m=\u001b[35m13429\u001b[0m \u001b[36mreq_title\u001b[0m=\u001b[35mCashier    #JoinOurFamily\u001b[0m\n",
      "\u001b[2m2023-09-19T18:48:15.571976Z\u001b[0m [\u001b[32m\u001b[1minfo     \u001b[0m] \u001b[1m_override_title:Input         \u001b[0m \u001b[36menvironment\u001b[0m=\u001b[35mlocal\u001b[0m \u001b[36mfile_path\u001b[0m=\u001b[35m/Users/dima/hiredscore/past_candidates/fetch/hs_fetch/fast_fetch/fast_fetch_search_input.py\u001b[0m \u001b[36mfunction_name\u001b[0m=\u001b[35m_override_title\u001b[0m \u001b[36mhostname\u001b[0m=\u001b[35mDima-Shulga-MacBook-Pro\u001b[0m \u001b[36minitial_override_title\u001b[0m=\u001b[35mNone\u001b[0m \u001b[36mline_number\u001b[0m=\u001b[35m357\u001b[0m \u001b[36mmodule\u001b[0m=\u001b[35mhs_fetch.fast_fetch.fast_fetch_search_input\u001b[0m \u001b[36moverride_title\u001b[0m=\u001b[35mNone\u001b[0m \u001b[36mpid\u001b[0m=\u001b[35m13429\u001b[0m \u001b[36mreq_title\u001b[0m=\u001b[35mCashier    #JoinOurFamily\u001b[0m\n",
      "\u001b[2m2023-09-19T18:48:16.826083Z\u001b[0m [\u001b[32m\u001b[1minfo     \u001b[0m] \u001b[1m_override_title:Input         \u001b[0m \u001b[36menvironment\u001b[0m=\u001b[35mlocal\u001b[0m \u001b[36mfile_path\u001b[0m=\u001b[35m/Users/dima/hiredscore/past_candidates/fetch/hs_fetch/fast_fetch/fast_fetch_search_input.py\u001b[0m \u001b[36mfunction_name\u001b[0m=\u001b[35m_override_title\u001b[0m \u001b[36mhostname\u001b[0m=\u001b[35mDima-Shulga-MacBook-Pro\u001b[0m \u001b[36minitial_override_title\u001b[0m=\u001b[35mNone\u001b[0m \u001b[36mline_number\u001b[0m=\u001b[35m357\u001b[0m \u001b[36mmodule\u001b[0m=\u001b[35mhs_fetch.fast_fetch.fast_fetch_search_input\u001b[0m \u001b[36moverride_title\u001b[0m=\u001b[35mNone\u001b[0m \u001b[36mpid\u001b[0m=\u001b[35m13429\u001b[0m \u001b[36mreq_title\u001b[0m=\u001b[35mCashier    #JoinOurFamily\u001b[0m\n",
      "\u001b[2m2023-09-19T18:48:18.140303Z\u001b[0m [\u001b[32m\u001b[1minfo     \u001b[0m] \u001b[1m_override_title:Input         \u001b[0m \u001b[36menvironment\u001b[0m=\u001b[35mlocal\u001b[0m \u001b[36mfile_path\u001b[0m=\u001b[35m/Users/dima/hiredscore/past_candidates/fetch/hs_fetch/fast_fetch/fast_fetch_search_input.py\u001b[0m \u001b[36mfunction_name\u001b[0m=\u001b[35m_override_title\u001b[0m \u001b[36mhostname\u001b[0m=\u001b[35mDima-Shulga-MacBook-Pro\u001b[0m \u001b[36minitial_override_title\u001b[0m=\u001b[35mNone\u001b[0m \u001b[36mline_number\u001b[0m=\u001b[35m357\u001b[0m \u001b[36mmodule\u001b[0m=\u001b[35mhs_fetch.fast_fetch.fast_fetch_search_input\u001b[0m \u001b[36moverride_title\u001b[0m=\u001b[35mNone\u001b[0m \u001b[36mpid\u001b[0m=\u001b[35m13429\u001b[0m \u001b[36mreq_title\u001b[0m=\u001b[35mCashier    #JoinOurFamily\u001b[0m\n"
     ]
    }
   ],
   "source": [
    "# ['sofia', 'SBY160198', 'd187460f-9f8a-4aea-8445-24fcdb836166']\n",
    "filters_test_cnt = Counter()\n",
    "for account_id, req_id, talent_id in [('sofia', 'SBY160198', 'd187460f-9f8a-4aea-8445-24fcdb836166')]:\n",
    "    for filter_to_use in filters:\n",
    "        recommendations = get_req_top_recommendations(account_id, req_id, [talent_id], [filter_to_use, SpecificTalentIdsQueryFilter()])\n",
    "        top_recommendations_talent_ids = [candidate['candidate_data']['current_talent_id'] for candidate in recommendations['results']]\n",
    "        \n",
    "        if talent_id not in top_recommendations_talent_ids:\n",
    "            filters_test_cnt[filter_to_use.__class__.__name__] += 1"
   ]
  },
  {
   "cell_type": "code",
   "execution_count": 51,
   "id": "522d23a1-9f44-4bee-997b-84adee6379bd",
   "metadata": {
    "tags": []
   },
   "outputs": [
    {
     "data": {
      "text/plain": [
       "[('ProfessionsQueryFilter', 1),\n",
       " ('TitlesSimilarityFeaturesFilter', 1),\n",
       " ('CurrentSeniorityQueryFilter', 1),\n",
       " ('ProfessionalSeniorityQueryFilter', 1)]"
      ]
     },
     "execution_count": 51,
     "metadata": {},
     "output_type": "execute_result"
    }
   ],
   "source": [
    "filters_test_cnt.most_common()"
   ]
  },
  {
   "cell_type": "code",
   "execution_count": 52,
   "id": "9f8f535c-da4b-4fe0-a1b0-a59379148de1",
   "metadata": {
    "tags": []
   },
   "outputs": [],
   "source": [
    "mongo = gmcdb('production', 'sofia')"
   ]
  },
  {
   "cell_type": "code",
   "execution_count": 54,
   "id": "de9ead37-e839-4e10-804f-9934d6f1dbd6",
   "metadata": {
    "tags": []
   },
   "outputs": [
    {
     "data": {
      "text/plain": [
       "4"
      ]
     },
     "execution_count": 54,
     "metadata": {},
     "output_type": "execute_result"
    }
   ],
   "source": [
    "apps = list(mongo.application.find({'current_talent_id': talent_id}))\n",
    "len(apps)"
   ]
  },
  {
   "cell_type": "code",
   "execution_count": 55,
   "id": "e0bf9cde-5027-41cd-ac65-5660a7e81fc6",
   "metadata": {
    "tags": []
   },
   "outputs": [
    {
     "name": "stdout",
     "output_type": "stream",
     "text": [
      "junior\n",
      "junior\n",
      "junior\n",
      "junior\n"
     ]
    }
   ],
   "source": [
    "for a in apps:\n",
    "    print(a['samurai_json']['experience'][0]['seniority'])"
   ]
  },
  {
   "cell_type": "code",
   "execution_count": 56,
   "id": "c7c4fa8a-c1c7-44ac-a502-27e67b48b46c",
   "metadata": {
    "tags": []
   },
   "outputs": [],
   "source": [
    "req = mongo.req.find_one(req_id)"
   ]
  },
  {
   "cell_type": "code",
   "execution_count": 60,
   "id": "f9e412d1-953c-4afe-aa28-baf11fc74f1a",
   "metadata": {
    "tags": []
   },
   "outputs": [
    {
     "data": {
      "text/plain": [
       "'entry_level'"
      ]
     },
     "execution_count": 60,
     "metadata": {},
     "output_type": "execute_result"
    }
   ],
   "source": [
    "req['seniority_level']"
   ]
  },
  {
   "cell_type": "code",
   "execution_count": 59,
   "id": "9f6cc8c4-de5c-4ac2-a9d1-8ce05c887de6",
   "metadata": {
    "tags": []
   },
   "outputs": [
    {
     "data": {
      "text/plain": [
       "['_created_at',\n",
       " '_id',\n",
       " '_updated_at',\n",
       " '_version',\n",
       " 'account_id',\n",
       " 'activation_data',\n",
       " 'address',\n",
       " 'basic_qualifications_skills',\n",
       " 'calculated_required_skills',\n",
       " 'categories',\n",
       " 'category_score',\n",
       " 'certifications',\n",
       " 'circulation_date',\n",
       " 'clean_job_title',\n",
       " 'close_date',\n",
       " 'condition_based_experience_requirements',\n",
       " 'country',\n",
       " 'country_name',\n",
       " 'date_posted',\n",
       " 'deep_experience',\n",
       " 'deep_experience_profession',\n",
       " 'displayed_req_addresses',\n",
       " 'education',\n",
       " 'english_job_title',\n",
       " 'experience',\n",
       " 'external_id',\n",
       " 'external_recruiters',\n",
       " 'external_status',\n",
       " 'important_words',\n",
       " 'industry',\n",
       " 'integration_data',\n",
       " 'integration_name',\n",
       " 'internal_post_date',\n",
       " 'is_enabled',\n",
       " 'is_for_fetch',\n",
       " 'is_gradable',\n",
       " 'is_intern',\n",
       " 'is_recent_grad',\n",
       " 'is_visa_required',\n",
       " 'job_band_order',\n",
       " 'job_create_date',\n",
       " 'job_education',\n",
       " 'job_function',\n",
       " 'job_listing',\n",
       " 'job_listing_sentences',\n",
       " 'job_title',\n",
       " 'knowledge_base_skills',\n",
       " 'languages',\n",
       " 'last_edit_date',\n",
       " 'main_requirements_tracking',\n",
       " 'management_level',\n",
       " 'management_requirements',\n",
       " 'max_distance',\n",
       " 'max_years_of_relevant_experience',\n",
       " 'min_years_of_industry_experience',\n",
       " 'min_years_of_management_experience',\n",
       " 'min_years_of_relevant_experience',\n",
       " 'non_professional_features',\n",
       " 'number_of_openings',\n",
       " 'open_date',\n",
       " 'org_data',\n",
       " 'organization_name',\n",
       " 'parsing_version',\n",
       " 'past_candidates_abort_reason',\n",
       " 'past_candidates_distributions_history',\n",
       " 'position_description_skills',\n",
       " 'post_status',\n",
       " 'preferred_qualifications_skills',\n",
       " 'prescreen_questions',\n",
       " 'profession_features',\n",
       " 'professions_scores',\n",
       " 'raw_location',\n",
       " 'recruiter_roles',\n",
       " 'req_addresses',\n",
       " 'req_parent_status',\n",
       " 'req_status',\n",
       " 'req_written_languages',\n",
       " 'sections',\n",
       " 'security_clearance',\n",
       " 'security_clearance_items',\n",
       " 'security_clearance_requirement_type',\n",
       " 'seniority_level',\n",
       " 'seniority_mng_proba',\n",
       " 'seniority_prof_proba',\n",
       " 'skill_groups',\n",
       " 'skills',\n",
       " 'skills_by_position_type',\n",
       " 'source',\n",
       " 'source_system',\n",
       " 'status_history',\n",
       " 'sub_category',\n",
       " 'system_id',\n",
       " 'top_category',\n",
       " 'visa_requirements',\n",
       " 'was_ever_decided_to_run_fetch']"
      ]
     },
     "execution_count": 59,
     "metadata": {},
     "output_type": "execute_result"
    }
   ],
   "source": [
    "sorted(req.keys())"
   ]
  },
  {
   "cell_type": "code",
   "execution_count": null,
   "id": "8bc2be82-8129-4277-8cfe-a301156daf0d",
   "metadata": {},
   "outputs": [],
   "source": []
  }
 ],
 "metadata": {
  "kernelspec": {
   "display_name": "Python 3 (ipykernel)",
   "language": "python",
   "name": "python3"
  },
  "language_info": {
   "codemirror_mode": {
    "name": "ipython",
    "version": 3
   },
   "file_extension": ".py",
   "mimetype": "text/x-python",
   "name": "python",
   "nbconvert_exporter": "python",
   "pygments_lexer": "ipython3",
   "version": "3.9.5"
  }
 },
 "nbformat": 4,
 "nbformat_minor": 5
}
