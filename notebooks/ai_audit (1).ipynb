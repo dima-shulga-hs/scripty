{
 "cells": [
  {
   "cell_type": "code",
   "execution_count": 2,
   "id": "0eb5f2c8-ecbe-4fa9-b07a-c92dcbac222f",
   "metadata": {
    "tags": []
   },
   "outputs": [],
   "source": [
    "import pandas as pd\n",
    "from hs_gimme.db_facade.db_facade_factory import get_mongo_client_db\n",
    "from hs_tree_blenders_creation.batch_runners.data_sets import get_account_test_set\n",
    "from tqdm import tqdm\n",
    "from collections import Counter\n",
    "import random as rn\n",
    "from datetime import datetime"
   ]
  },
  {
   "cell_type": "code",
   "execution_count": 3,
   "id": "29882100-b382-4d30-9844-217d97eccf77",
   "metadata": {
    "tags": []
   },
   "outputs": [],
   "source": [
    "#ACCOUNTS = ['essex', 'detroit', 'jamaica', 'paris', 'dallas', 'colorado', 'jaipur', 'cairo', 'nashville', 'exeter']\n",
    "ACCOUNTS = ['atlanta']\n",
    "ENV = 'production'\n",
    "REQS_MIN_DATE = datetime(2024, 3, 1)\n",
    "REQS_MAX_DATE = datetime(2024, 5, 1)\n",
    "REQ_STATUSES = ['Filled', 'Open']\n",
    "COUNTRIES = ['United States', 'US', 'UNITED STATES']"
   ]
  },
  {
   "cell_type": "code",
   "execution_count": 4,
   "id": "bd26496b-a8bd-4539-b943-6ec3756c798d",
   "metadata": {
    "tags": []
   },
   "outputs": [
    {
     "name": "stderr",
     "output_type": "stream",
     "text": [
      "  0%|          | 0/1 [00:00<?, ?it/s]"
     ]
    },
    {
     "name": "stdout",
     "output_type": "stream",
     "text": [
      "\u001b[2m2024-07-10T12:23:44.828852Z\u001b[0m [\u001b[32m\u001b[1minfo     \u001b[0m] \u001b[1mMongos instances selected     \u001b[0m \u001b[36menvironment\u001b[0m=\u001b[35mlocal\u001b[0m \u001b[36mfile_path\u001b[0m=\u001b[35m/Users/dima/hiredscore/gimme/hs_gimme/db_facade/connection_string_builder.py\u001b[0m \u001b[36mfunction_name\u001b[0m=\u001b[35mget_selected_mongos_instances\u001b[0m \u001b[36mhosts\u001b[0m=\u001b[35m['applicativedb-prod-mongos-1.omcomcom.com', 'applicativedb-prod-mongos-0.omcomcom.com']\u001b[0m \u001b[36mline_number\u001b[0m=\u001b[35m38\u001b[0m \u001b[36mmodule\u001b[0m=\u001b[35mhs_gimme.db_facade.connection_string_builder\u001b[0m \u001b[36mpid\u001b[0m=\u001b[35m1981\u001b[0m\n"
     ]
    },
    {
     "name": "stderr",
     "output_type": "stream",
     "text": [
      "100%|██████████| 1/1 [00:04<00:00,  4.03s/it]\n"
     ]
    },
    {
     "data": {
      "text/plain": [
       "[('United States', 9902), (None, 96), ('United Kingdom', 2)]"
      ]
     },
     "execution_count": 4,
     "metadata": {},
     "output_type": "execute_result"
    }
   ],
   "source": [
    "countries = Counter()\n",
    "for account in tqdm(['detroit']):\n",
    "    mongo = get_mongo_client_db(ENV, account)\n",
    "    countries.update([r.get('country') for r in mongo.req.find({}, ['country']).limit(10000)])\n",
    "countries.most_common(10)"
   ]
  },
  {
   "cell_type": "code",
   "execution_count": 5,
   "id": "d6555fea-cc18-4efc-8221-58678672836f",
   "metadata": {
    "tags": []
   },
   "outputs": [
    {
     "name": "stdout",
     "output_type": "stream",
     "text": [
      "====================\n",
      "1/1 atlanta 762 reqs\n",
      "====================\n"
     ]
    },
    {
     "data": {
      "text/plain": [
       "88558"
      ]
     },
     "execution_count": 5,
     "metadata": {},
     "output_type": "execute_result"
    }
   ],
   "source": [
    "raw_data = []\n",
    "\n",
    "proj = ['ats_application.eeo', \n",
    "          'ats_application.integration_data.final_round_score_sent_to_ats',\n",
    "          'grade_data.explainable_score_data.explain']\n",
    "\n",
    "for i, account in enumerate(ACCOUNTS):\n",
    "    mongo = get_mongo_client_db(ENV, account)\n",
    "    req_ids = [r['_id'] for r in mongo.req.find({'external_status': {'$in': REQ_STATUSES}, \n",
    "                                                 'job_create_date': {\n",
    "                                                                     '$gt': REQS_MIN_DATE,\n",
    "                                                                     '$lte': REQS_MAX_DATE\n",
    "                                                                    },\n",
    "                                                 'country': {'$in': COUNTRIES}}, [])]\n",
    "    \n",
    "   # req_ids = rn.sample(req_ids, min(len(req_ids), 5000))\n",
    "    print('='*20)\n",
    "    print(f'{i+1}/{len(ACCOUNTS)} {account} {len(req_ids)} reqs')\n",
    "    print('='*20)\n",
    "    query = {'req_id': {'$in': req_ids}, 'ats_application.integration_data.final_round_score_sent_to_ats': {'$exists': True}}\n",
    "    \n",
    "    for app in mongo.application.find(query, proj):\n",
    "        raw_data.append(app)\n",
    "len(raw_data)"
   ]
  },
  {
   "cell_type": "code",
   "execution_count": 6,
   "id": "b62eee17-f125-43d9-b8bd-8631ce4d28d6",
   "metadata": {
    "tags": []
   },
   "outputs": [],
   "source": [
    "data = []\n",
    "for app in raw_data:\n",
    "    if 'grade_data' in app and 'explainable_score_data' in app['grade_data']:\n",
    "        \n",
    "        grade = app['ats_application']['integration_data']['final_round_score_sent_to_ats']\n",
    "        if grade in {'A', 'B'}:\n",
    "            is_priority = 1\n",
    "        elif grade in {'C', 'D'}:\n",
    "            is_priority = 0\n",
    "        else:\n",
    "            is_priority = None\n",
    "        \n",
    "        if 'raw_grade_without_rnd' in app['grade_data']['explainable_score_data']['explain']:\n",
    "            d = {\n",
    "                'gender':  app['ats_application'].get('eeo', {}).get('gender', 'Missing'),\n",
    "                'race': app['ats_application'].get('eeo', {}).get('race', 'Missing'),\n",
    "                'grade': grade,\n",
    "                'is_priority': is_priority,\n",
    "               # 'raw_score': app['grade_data']['explainable_score_data']['explain']['raw_predicted_proba'],\n",
    "                'raw_final_score': app['grade_data']['explainable_score_data']['explain']['raw_grade_without_rnd'],\n",
    "                'raw_final_score_priority': app['grade_data']['explainable_score_data']['explain']['raw_grade_without_rnd'] >= 3\n",
    "            }\n",
    "\n",
    "            for g in ['A', 'B', 'C', 'D']:\n",
    "                d[g] = grade == g\n",
    "            data.append(d)\n",
    "        \n",
    "df = pd.DataFrame(data)"
   ]
  },
  {
   "cell_type": "code",
   "execution_count": 7,
   "id": "05f0a6ba-d1de-4d9f-a325-4a8cdf8aecd3",
   "metadata": {
    "tags": []
   },
   "outputs": [
    {
     "data": {
      "text/html": [
       "<div>\n",
       "<style scoped>\n",
       "    .dataframe tbody tr th:only-of-type {\n",
       "        vertical-align: middle;\n",
       "    }\n",
       "\n",
       "    .dataframe tbody tr th {\n",
       "        vertical-align: top;\n",
       "    }\n",
       "\n",
       "    .dataframe thead th {\n",
       "        text-align: right;\n",
       "    }\n",
       "</style>\n",
       "<table border=\"1\" class=\"dataframe\">\n",
       "  <thead>\n",
       "    <tr style=\"text-align: right;\">\n",
       "      <th></th>\n",
       "      <th>gender</th>\n",
       "      <th>race</th>\n",
       "      <th>grade</th>\n",
       "      <th>is_priority</th>\n",
       "      <th>raw_final_score</th>\n",
       "      <th>raw_final_score_priority</th>\n",
       "      <th>A</th>\n",
       "      <th>B</th>\n",
       "      <th>C</th>\n",
       "      <th>D</th>\n",
       "    </tr>\n",
       "  </thead>\n",
       "  <tbody>\n",
       "    <tr>\n",
       "      <th>0</th>\n",
       "      <td>Female</td>\n",
       "      <td>Asian</td>\n",
       "      <td>C</td>\n",
       "      <td>0.0</td>\n",
       "      <td>2.430928</td>\n",
       "      <td>False</td>\n",
       "      <td>False</td>\n",
       "      <td>False</td>\n",
       "      <td>True</td>\n",
       "      <td>False</td>\n",
       "    </tr>\n",
       "    <tr>\n",
       "      <th>1</th>\n",
       "      <td>Female</td>\n",
       "      <td>Asian</td>\n",
       "      <td>D</td>\n",
       "      <td>0.0</td>\n",
       "      <td>1.839463</td>\n",
       "      <td>False</td>\n",
       "      <td>False</td>\n",
       "      <td>False</td>\n",
       "      <td>False</td>\n",
       "      <td>True</td>\n",
       "    </tr>\n",
       "    <tr>\n",
       "      <th>2</th>\n",
       "      <td>Female</td>\n",
       "      <td>Asian</td>\n",
       "      <td>D</td>\n",
       "      <td>0.0</td>\n",
       "      <td>1.234894</td>\n",
       "      <td>False</td>\n",
       "      <td>False</td>\n",
       "      <td>False</td>\n",
       "      <td>False</td>\n",
       "      <td>True</td>\n",
       "    </tr>\n",
       "    <tr>\n",
       "      <th>3</th>\n",
       "      <td>Male</td>\n",
       "      <td>Asian</td>\n",
       "      <td>C</td>\n",
       "      <td>0.0</td>\n",
       "      <td>3.598693</td>\n",
       "      <td>True</td>\n",
       "      <td>False</td>\n",
       "      <td>False</td>\n",
       "      <td>True</td>\n",
       "      <td>False</td>\n",
       "    </tr>\n",
       "    <tr>\n",
       "      <th>4</th>\n",
       "      <td>Male</td>\n",
       "      <td>Black or African American</td>\n",
       "      <td>D</td>\n",
       "      <td>0.0</td>\n",
       "      <td>1.225797</td>\n",
       "      <td>False</td>\n",
       "      <td>False</td>\n",
       "      <td>False</td>\n",
       "      <td>False</td>\n",
       "      <td>True</td>\n",
       "    </tr>\n",
       "  </tbody>\n",
       "</table>\n",
       "</div>"
      ],
      "text/plain": [
       "   gender                       race grade  is_priority  raw_final_score  \\\n",
       "0  Female                      Asian     C          0.0         2.430928   \n",
       "1  Female                      Asian     D          0.0         1.839463   \n",
       "2  Female                      Asian     D          0.0         1.234894   \n",
       "3    Male                      Asian     C          0.0         3.598693   \n",
       "4    Male  Black or African American     D          0.0         1.225797   \n",
       "\n",
       "   raw_final_score_priority      A      B      C      D  \n",
       "0                     False  False  False   True  False  \n",
       "1                     False  False  False  False   True  \n",
       "2                     False  False  False  False   True  \n",
       "3                      True  False  False   True  False  \n",
       "4                     False  False  False  False   True  "
      ]
     },
     "execution_count": 7,
     "metadata": {},
     "output_type": "execute_result"
    }
   ],
   "source": [
    "df.head()"
   ]
  },
  {
   "cell_type": "code",
   "execution_count": 8,
   "id": "6d6d867b-c650-45c8-bba0-ed7bcf6352ca",
   "metadata": {
    "tags": []
   },
   "outputs": [
    {
     "data": {
      "text/plain": [
       "{'raw_final_score': 1.9777640213375336}"
      ]
     },
     "execution_count": 8,
     "metadata": {},
     "output_type": "execute_result"
    }
   ],
   "source": [
    "medians = {}\n",
    "for field in ['raw_final_score']:\n",
    "    medians[field] = df[field].median()\n",
    "    \n",
    "    df[field + '_gt_median'] = df[field] >= df[field].median()\n",
    "medians"
   ]
  },
  {
   "cell_type": "code",
   "execution_count": 9,
   "id": "f1e23367-a502-4ac2-86cd-f3913f6b12b1",
   "metadata": {
    "tags": []
   },
   "outputs": [
    {
     "data": {
      "text/plain": [
       "Black or African American              0.277730\n",
       "White                                  0.207065\n",
       "Asian                                  0.205793\n",
       "Hispanic or Latino                     0.194407\n",
       "Decline to Identify                    0.050913\n",
       "Two or more races                      0.045845\n",
       "Native Hawaiian or Pacific Islander    0.008609\n",
       "American Indian or Alaska Native       0.006607\n",
       "Missing                                0.003032\n",
       "Name: race, dtype: float64"
      ]
     },
     "execution_count": 9,
     "metadata": {},
     "output_type": "execute_result"
    }
   ],
   "source": [
    "df['race'].value_counts(normalize=True, dropna=False)"
   ]
  },
  {
   "cell_type": "code",
   "execution_count": 10,
   "id": "2a111375-4fc5-4d52-b07b-34e03dc40318",
   "metadata": {
    "tags": []
   },
   "outputs": [
    {
     "data": {
      "text/plain": [
       "{'American Indian or Alaska Native', 'Native Hawaiian or Pacific Islander'}"
      ]
     },
     "execution_count": 10,
     "metadata": {},
     "output_type": "execute_result"
    }
   ],
   "source": [
    "too_small_races = {r for r in df['race'].unique() if df['race'].value_counts()[r] < 0.02*len(df)} - {'Decline to Identify', 'Missing'}\n",
    "too_small_races"
   ]
  },
  {
   "cell_type": "code",
   "execution_count": 11,
   "id": "884bb1a6-6281-4adf-a215-b82bc53c78dc",
   "metadata": {
    "tags": []
   },
   "outputs": [
    {
     "data": {
      "text/plain": [
       "Male       42249\n",
       "Female     41650\n",
       "Missing     2523\n",
       "Name: gender, dtype: int64"
      ]
     },
     "execution_count": 11,
     "metadata": {},
     "output_type": "execute_result"
    }
   ],
   "source": [
    "df['gender'].value_counts()"
   ]
  },
  {
   "cell_type": "code",
   "execution_count": 12,
   "id": "824f67bd-c942-4254-9426-69d20f4461f1",
   "metadata": {
    "tags": []
   },
   "outputs": [
    {
     "data": {
      "text/plain": [
       "set()"
      ]
     },
     "execution_count": 12,
     "metadata": {},
     "output_type": "execute_result"
    }
   ],
   "source": [
    "too_small_genders = {r for r in df['gender'].unique() if df['gender'].value_counts()[r] < 0.02*len(df)} - {'Decline to Identify', 'Missing'}\n",
    "too_small_genders"
   ]
  },
  {
   "cell_type": "code",
   "execution_count": 13,
   "id": "8a377739-a2a3-467b-9403-39ec70ad0c44",
   "metadata": {
    "tags": []
   },
   "outputs": [],
   "source": [
    "df = df[~df['gender'].isin(too_small_genders) & ~df['race'].isin(too_small_races)]"
   ]
  },
  {
   "cell_type": "code",
   "execution_count": 14,
   "id": "c16c8048-6f97-4b62-9db5-f1ba64c565b6",
   "metadata": {},
   "outputs": [
    {
     "data": {
      "text/plain": [
       "85107"
      ]
     },
     "execution_count": 14,
     "metadata": {},
     "output_type": "execute_result"
    }
   ],
   "source": [
    "len(df)"
   ]
  },
  {
   "cell_type": "code",
   "execution_count": 15,
   "id": "d7ff81c0-bcf2-4af5-a61e-70f4aafc9776",
   "metadata": {
    "tags": []
   },
   "outputs": [],
   "source": [
    "df['race_disclose'] = df['race'].apply(lambda x: 'Disclose' if x not in {'Decline to Identify', 'Missing'} else x)\n",
    "df['gender_disclose'] = df['gender'].apply(lambda x: 'Disclose' if x not in {'Decline to Identify', 'Missing'} else x)"
   ]
  },
  {
   "cell_type": "code",
   "execution_count": 16,
   "id": "97bf8f6d-9e9f-4914-a36f-82ab7e965419",
   "metadata": {
    "tags": []
   },
   "outputs": [],
   "source": [
    "gb_dfs = []\n",
    "for gb_fields in [['gender'], ['race'], ['gender', 'race']]:\n",
    "    \n",
    "    impact_df = df\n",
    "    for f in gb_fields:\n",
    "        impact_df = impact_df[impact_df[f + '_disclose'] == 'Disclose']\n",
    "        \n",
    "    gb = impact_df.groupby(gb_fields).agg(\n",
    "        count=('gender', 'count'),\n",
    "        # raw_score_scoring_rate=('raw_score_gt_median', 'mean'),\n",
    "        # final_score_scoring_rate=('final_score_gt_median', 'mean'),\n",
    "        selection_rate=('is_priority', 'mean'),\n",
    "        # A_selection_rate=('A', 'mean'),\n",
    "        # B_selection_rate=('B', 'mean'),\n",
    "        # C_selection_rate=('C', 'mean'),\n",
    "        raw_selection_rate=('raw_final_score_priority', 'mean')\n",
    "        # D_selection_rate=('D', 'mean')\n",
    "    ) \n",
    "    \n",
    "    # gb = gb[gb['count'] > 0.02*gb['count'].sum()\n",
    "    # for f in ['raw_score_scoring_rate', 'final_score_scoring_rate', 'is_priority_selection_rate', \n",
    "    #           'A_selection_rate', 'B_selection_rate', 'C_selection_rate', 'D_selection_rate']:\n",
    "    for f in ['selection_rate', 'raw_selection_rate',]:\n",
    "    \n",
    "        gb[f + '_impact_ratio'] = gb[f] / gb[f].max()\n",
    "    \n",
    "    gb_dfs.append(gb)\n",
    "    \n",
    "                                \n",
    "ir = pd.concat(gb_dfs)"
   ]
  },
  {
   "cell_type": "code",
   "execution_count": 17,
   "id": "6bf3faa1-9328-43a7-b544-9b7205e509cf",
   "metadata": {
    "tags": []
   },
   "outputs": [],
   "source": [
    "writer = pd.ExcelWriter(f'~/Downloads/general_audit_report_2024_02_12.xlsx', engine=\"xlsxwriter\")"
   ]
  },
  {
   "cell_type": "code",
   "execution_count": 22,
   "id": "694e8dfe-ae0f-40f6-b205-fa924be23647",
   "metadata": {},
   "outputs": [
    {
     "data": {
      "text/html": [
       "<div>\n",
       "<style scoped>\n",
       "    .dataframe tbody tr th:only-of-type {\n",
       "        vertical-align: middle;\n",
       "    }\n",
       "\n",
       "    .dataframe tbody tr th {\n",
       "        vertical-align: top;\n",
       "    }\n",
       "\n",
       "    .dataframe thead th {\n",
       "        text-align: right;\n",
       "    }\n",
       "</style>\n",
       "<table border=\"1\" class=\"dataframe\">\n",
       "  <thead>\n",
       "    <tr style=\"text-align: right;\">\n",
       "      <th></th>\n",
       "      <th>count</th>\n",
       "      <th>selection_rate</th>\n",
       "      <th>raw_selection_rate</th>\n",
       "      <th>selection_rate_impact_ratio</th>\n",
       "      <th>raw_selection_rate_impact_ratio</th>\n",
       "    </tr>\n",
       "  </thead>\n",
       "  <tbody>\n",
       "    <tr>\n",
       "      <th>Female</th>\n",
       "      <td>40912</td>\n",
       "      <td>0.713092</td>\n",
       "      <td>0.322961</td>\n",
       "      <td>1.000000</td>\n",
       "      <td>0.987789</td>\n",
       "    </tr>\n",
       "    <tr>\n",
       "      <th>Male</th>\n",
       "      <td>41697</td>\n",
       "      <td>0.683646</td>\n",
       "      <td>0.326954</td>\n",
       "      <td>0.958708</td>\n",
       "      <td>1.000000</td>\n",
       "    </tr>\n",
       "    <tr>\n",
       "      <th>Asian</th>\n",
       "      <td>17785</td>\n",
       "      <td>0.584931</td>\n",
       "      <td>0.406410</td>\n",
       "      <td>0.763806</td>\n",
       "      <td>1.000000</td>\n",
       "    </tr>\n",
       "    <tr>\n",
       "      <th>Black or African American</th>\n",
       "      <td>24002</td>\n",
       "      <td>0.765811</td>\n",
       "      <td>0.297767</td>\n",
       "      <td>1.000000</td>\n",
       "      <td>0.732676</td>\n",
       "    </tr>\n",
       "    <tr>\n",
       "      <th>Hispanic or Latino</th>\n",
       "      <td>16801</td>\n",
       "      <td>0.727397</td>\n",
       "      <td>0.288376</td>\n",
       "      <td>0.949839</td>\n",
       "      <td>0.709569</td>\n",
       "    </tr>\n",
       "    <tr>\n",
       "      <th>Two or more races</th>\n",
       "      <td>3962</td>\n",
       "      <td>0.744321</td>\n",
       "      <td>0.297325</td>\n",
       "      <td>0.971938</td>\n",
       "      <td>0.731588</td>\n",
       "    </tr>\n",
       "    <tr>\n",
       "      <th>White</th>\n",
       "      <td>17895</td>\n",
       "      <td>0.674714</td>\n",
       "      <td>0.310198</td>\n",
       "      <td>0.881044</td>\n",
       "      <td>0.763265</td>\n",
       "    </tr>\n",
       "    <tr>\n",
       "      <th>(Female, Asian)</th>\n",
       "      <td>6846</td>\n",
       "      <td>0.589103</td>\n",
       "      <td>0.400526</td>\n",
       "      <td>0.760224</td>\n",
       "      <td>0.974968</td>\n",
       "    </tr>\n",
       "    <tr>\n",
       "      <th>(Female, Black or African American)</th>\n",
       "      <td>13510</td>\n",
       "      <td>0.774907</td>\n",
       "      <td>0.309400</td>\n",
       "      <td>1.000000</td>\n",
       "      <td>0.753149</td>\n",
       "    </tr>\n",
       "    <tr>\n",
       "      <th>(Female, Hispanic or Latino)</th>\n",
       "      <td>8379</td>\n",
       "      <td>0.725743</td>\n",
       "      <td>0.290488</td>\n",
       "      <td>0.936554</td>\n",
       "      <td>0.707112</td>\n",
       "    </tr>\n",
       "    <tr>\n",
       "      <th>(Female, Two or more races)</th>\n",
       "      <td>2283</td>\n",
       "      <td>0.770915</td>\n",
       "      <td>0.299168</td>\n",
       "      <td>0.994848</td>\n",
       "      <td>0.728240</td>\n",
       "    </tr>\n",
       "    <tr>\n",
       "      <th>(Female, White)</th>\n",
       "      <td>8043</td>\n",
       "      <td>0.676986</td>\n",
       "      <td>0.321522</td>\n",
       "      <td>0.873635</td>\n",
       "      <td>0.782655</td>\n",
       "    </tr>\n",
       "    <tr>\n",
       "      <th>(Male, Asian)</th>\n",
       "      <td>10713</td>\n",
       "      <td>0.583403</td>\n",
       "      <td>0.410809</td>\n",
       "      <td>0.752868</td>\n",
       "      <td>1.000000</td>\n",
       "    </tr>\n",
       "    <tr>\n",
       "      <th>(Male, Black or African American)</th>\n",
       "      <td>10155</td>\n",
       "      <td>0.754308</td>\n",
       "      <td>0.284983</td>\n",
       "      <td>0.973417</td>\n",
       "      <td>0.693711</td>\n",
       "    </tr>\n",
       "    <tr>\n",
       "      <th>(Male, Hispanic or Latino)</th>\n",
       "      <td>8082</td>\n",
       "      <td>0.731255</td>\n",
       "      <td>0.292378</td>\n",
       "      <td>0.943667</td>\n",
       "      <td>0.711713</td>\n",
       "    </tr>\n",
       "    <tr>\n",
       "      <th>(Male, Two or more races)</th>\n",
       "      <td>1596</td>\n",
       "      <td>0.708020</td>\n",
       "      <td>0.302632</td>\n",
       "      <td>0.913683</td>\n",
       "      <td>0.736672</td>\n",
       "    </tr>\n",
       "    <tr>\n",
       "      <th>(Male, White)</th>\n",
       "      <td>9573</td>\n",
       "      <td>0.670741</td>\n",
       "      <td>0.302831</td>\n",
       "      <td>0.865575</td>\n",
       "      <td>0.737157</td>\n",
       "    </tr>\n",
       "  </tbody>\n",
       "</table>\n",
       "</div>"
      ],
      "text/plain": [
       "                                     count  selection_rate  \\\n",
       "Female                               40912        0.713092   \n",
       "Male                                 41697        0.683646   \n",
       "Asian                                17785        0.584931   \n",
       "Black or African American            24002        0.765811   \n",
       "Hispanic or Latino                   16801        0.727397   \n",
       "Two or more races                     3962        0.744321   \n",
       "White                                17895        0.674714   \n",
       "(Female, Asian)                       6846        0.589103   \n",
       "(Female, Black or African American)  13510        0.774907   \n",
       "(Female, Hispanic or Latino)          8379        0.725743   \n",
       "(Female, Two or more races)           2283        0.770915   \n",
       "(Female, White)                       8043        0.676986   \n",
       "(Male, Asian)                        10713        0.583403   \n",
       "(Male, Black or African American)    10155        0.754308   \n",
       "(Male, Hispanic or Latino)            8082        0.731255   \n",
       "(Male, Two or more races)             1596        0.708020   \n",
       "(Male, White)                         9573        0.670741   \n",
       "\n",
       "                                     raw_selection_rate  \\\n",
       "Female                                         0.322961   \n",
       "Male                                           0.326954   \n",
       "Asian                                          0.406410   \n",
       "Black or African American                      0.297767   \n",
       "Hispanic or Latino                             0.288376   \n",
       "Two or more races                              0.297325   \n",
       "White                                          0.310198   \n",
       "(Female, Asian)                                0.400526   \n",
       "(Female, Black or African American)            0.309400   \n",
       "(Female, Hispanic or Latino)                   0.290488   \n",
       "(Female, Two or more races)                    0.299168   \n",
       "(Female, White)                                0.321522   \n",
       "(Male, Asian)                                  0.410809   \n",
       "(Male, Black or African American)              0.284983   \n",
       "(Male, Hispanic or Latino)                     0.292378   \n",
       "(Male, Two or more races)                      0.302632   \n",
       "(Male, White)                                  0.302831   \n",
       "\n",
       "                                     selection_rate_impact_ratio  \\\n",
       "Female                                                  1.000000   \n",
       "Male                                                    0.958708   \n",
       "Asian                                                   0.763806   \n",
       "Black or African American                               1.000000   \n",
       "Hispanic or Latino                                      0.949839   \n",
       "Two or more races                                       0.971938   \n",
       "White                                                   0.881044   \n",
       "(Female, Asian)                                         0.760224   \n",
       "(Female, Black or African American)                     1.000000   \n",
       "(Female, Hispanic or Latino)                            0.936554   \n",
       "(Female, Two or more races)                             0.994848   \n",
       "(Female, White)                                         0.873635   \n",
       "(Male, Asian)                                           0.752868   \n",
       "(Male, Black or African American)                       0.973417   \n",
       "(Male, Hispanic or Latino)                              0.943667   \n",
       "(Male, Two or more races)                               0.913683   \n",
       "(Male, White)                                           0.865575   \n",
       "\n",
       "                                     raw_selection_rate_impact_ratio  \n",
       "Female                                                      0.987789  \n",
       "Male                                                        1.000000  \n",
       "Asian                                                       1.000000  \n",
       "Black or African American                                   0.732676  \n",
       "Hispanic or Latino                                          0.709569  \n",
       "Two or more races                                           0.731588  \n",
       "White                                                       0.763265  \n",
       "(Female, Asian)                                             0.974968  \n",
       "(Female, Black or African American)                         0.753149  \n",
       "(Female, Hispanic or Latino)                                0.707112  \n",
       "(Female, Two or more races)                                 0.728240  \n",
       "(Female, White)                                             0.782655  \n",
       "(Male, Asian)                                               1.000000  \n",
       "(Male, Black or African American)                           0.693711  \n",
       "(Male, Hispanic or Latino)                                  0.711713  \n",
       "(Male, Two or more races)                                   0.736672  \n",
       "(Male, White)                                               0.737157  "
      ]
     },
     "execution_count": 22,
     "metadata": {},
     "output_type": "execute_result"
    }
   ],
   "source": [
    "ir"
   ]
  },
  {
   "cell_type": "code",
   "execution_count": 18,
   "id": "873b2202-038a-4fc3-adf0-22a2d7764e7a",
   "metadata": {},
   "outputs": [],
   "source": [
    "report = ir[['count', 'raw_selection_rate', 'raw_selection_rate_impact_ratio']]"
   ]
  },
  {
   "cell_type": "code",
   "execution_count": 19,
   "id": "e9b1b46c-db36-4bc5-8e50-1b1ddfb5eba1",
   "metadata": {
    "tags": []
   },
   "outputs": [],
   "source": [
    "report.columns = ['Count', 'Selection Rate', 'Impact Ratio']"
   ]
  },
  {
   "cell_type": "code",
   "execution_count": 20,
   "id": "9ffb8341-b9e6-4bca-bb41-82b7cb564ab2",
   "metadata": {
    "tags": []
   },
   "outputs": [
    {
     "data": {
      "text/html": [
       "<div>\n",
       "<style scoped>\n",
       "    .dataframe tbody tr th:only-of-type {\n",
       "        vertical-align: middle;\n",
       "    }\n",
       "\n",
       "    .dataframe tbody tr th {\n",
       "        vertical-align: top;\n",
       "    }\n",
       "\n",
       "    .dataframe thead th {\n",
       "        text-align: right;\n",
       "    }\n",
       "</style>\n",
       "<table border=\"1\" class=\"dataframe\">\n",
       "  <thead>\n",
       "    <tr style=\"text-align: right;\">\n",
       "      <th></th>\n",
       "      <th>Count</th>\n",
       "      <th>Selection Rate</th>\n",
       "      <th>Impact Ratio</th>\n",
       "    </tr>\n",
       "  </thead>\n",
       "  <tbody>\n",
       "    <tr>\n",
       "      <th>Female</th>\n",
       "      <td>40912</td>\n",
       "      <td>0.322961</td>\n",
       "      <td>0.987789</td>\n",
       "    </tr>\n",
       "    <tr>\n",
       "      <th>Male</th>\n",
       "      <td>41697</td>\n",
       "      <td>0.326954</td>\n",
       "      <td>1.000000</td>\n",
       "    </tr>\n",
       "    <tr>\n",
       "      <th>Asian</th>\n",
       "      <td>17785</td>\n",
       "      <td>0.406410</td>\n",
       "      <td>1.000000</td>\n",
       "    </tr>\n",
       "    <tr>\n",
       "      <th>Black or African American</th>\n",
       "      <td>24002</td>\n",
       "      <td>0.297767</td>\n",
       "      <td>0.732676</td>\n",
       "    </tr>\n",
       "    <tr>\n",
       "      <th>Hispanic or Latino</th>\n",
       "      <td>16801</td>\n",
       "      <td>0.288376</td>\n",
       "      <td>0.709569</td>\n",
       "    </tr>\n",
       "    <tr>\n",
       "      <th>Two or more races</th>\n",
       "      <td>3962</td>\n",
       "      <td>0.297325</td>\n",
       "      <td>0.731588</td>\n",
       "    </tr>\n",
       "    <tr>\n",
       "      <th>White</th>\n",
       "      <td>17895</td>\n",
       "      <td>0.310198</td>\n",
       "      <td>0.763265</td>\n",
       "    </tr>\n",
       "    <tr>\n",
       "      <th>(Female, Asian)</th>\n",
       "      <td>6846</td>\n",
       "      <td>0.400526</td>\n",
       "      <td>0.974968</td>\n",
       "    </tr>\n",
       "    <tr>\n",
       "      <th>(Female, Black or African American)</th>\n",
       "      <td>13510</td>\n",
       "      <td>0.309400</td>\n",
       "      <td>0.753149</td>\n",
       "    </tr>\n",
       "    <tr>\n",
       "      <th>(Female, Hispanic or Latino)</th>\n",
       "      <td>8379</td>\n",
       "      <td>0.290488</td>\n",
       "      <td>0.707112</td>\n",
       "    </tr>\n",
       "    <tr>\n",
       "      <th>(Female, Two or more races)</th>\n",
       "      <td>2283</td>\n",
       "      <td>0.299168</td>\n",
       "      <td>0.728240</td>\n",
       "    </tr>\n",
       "    <tr>\n",
       "      <th>(Female, White)</th>\n",
       "      <td>8043</td>\n",
       "      <td>0.321522</td>\n",
       "      <td>0.782655</td>\n",
       "    </tr>\n",
       "    <tr>\n",
       "      <th>(Male, Asian)</th>\n",
       "      <td>10713</td>\n",
       "      <td>0.410809</td>\n",
       "      <td>1.000000</td>\n",
       "    </tr>\n",
       "    <tr>\n",
       "      <th>(Male, Black or African American)</th>\n",
       "      <td>10155</td>\n",
       "      <td>0.284983</td>\n",
       "      <td>0.693711</td>\n",
       "    </tr>\n",
       "    <tr>\n",
       "      <th>(Male, Hispanic or Latino)</th>\n",
       "      <td>8082</td>\n",
       "      <td>0.292378</td>\n",
       "      <td>0.711713</td>\n",
       "    </tr>\n",
       "    <tr>\n",
       "      <th>(Male, Two or more races)</th>\n",
       "      <td>1596</td>\n",
       "      <td>0.302632</td>\n",
       "      <td>0.736672</td>\n",
       "    </tr>\n",
       "    <tr>\n",
       "      <th>(Male, White)</th>\n",
       "      <td>9573</td>\n",
       "      <td>0.302831</td>\n",
       "      <td>0.737157</td>\n",
       "    </tr>\n",
       "  </tbody>\n",
       "</table>\n",
       "</div>"
      ],
      "text/plain": [
       "                                     Count  Selection Rate  Impact Ratio\n",
       "Female                               40912        0.322961      0.987789\n",
       "Male                                 41697        0.326954      1.000000\n",
       "Asian                                17785        0.406410      1.000000\n",
       "Black or African American            24002        0.297767      0.732676\n",
       "Hispanic or Latino                   16801        0.288376      0.709569\n",
       "Two or more races                     3962        0.297325      0.731588\n",
       "White                                17895        0.310198      0.763265\n",
       "(Female, Asian)                       6846        0.400526      0.974968\n",
       "(Female, Black or African American)  13510        0.309400      0.753149\n",
       "(Female, Hispanic or Latino)          8379        0.290488      0.707112\n",
       "(Female, Two or more races)           2283        0.299168      0.728240\n",
       "(Female, White)                       8043        0.321522      0.782655\n",
       "(Male, Asian)                        10713        0.410809      1.000000\n",
       "(Male, Black or African American)    10155        0.284983      0.693711\n",
       "(Male, Hispanic or Latino)            8082        0.292378      0.711713\n",
       "(Male, Two or more races)             1596        0.302632      0.736672\n",
       "(Male, White)                         9573        0.302831      0.737157"
      ]
     },
     "execution_count": 20,
     "metadata": {},
     "output_type": "execute_result"
    }
   ],
   "source": [
    "report"
   ]
  },
  {
   "cell_type": "code",
   "execution_count": 21,
   "id": "27302356-671d-42ea-98b4-5ebe7d983d51",
   "metadata": {
    "tags": []
   },
   "outputs": [
    {
     "data": {
      "text/html": [
       "<div>\n",
       "<style scoped>\n",
       "    .dataframe tbody tr th:only-of-type {\n",
       "        vertical-align: middle;\n",
       "    }\n",
       "\n",
       "    .dataframe tbody tr th {\n",
       "        vertical-align: top;\n",
       "    }\n",
       "\n",
       "    .dataframe thead th {\n",
       "        text-align: right;\n",
       "    }\n",
       "</style>\n",
       "<table border=\"1\" class=\"dataframe\">\n",
       "  <thead>\n",
       "    <tr style=\"text-align: right;\">\n",
       "      <th></th>\n",
       "      <th>index</th>\n",
       "      <th>0</th>\n",
       "    </tr>\n",
       "  </thead>\n",
       "  <tbody>\n",
       "    <tr>\n",
       "      <th>0</th>\n",
       "      <td>Report creation date</td>\n",
       "      <td>2024-07-10 15:27:40.149614</td>\n",
       "    </tr>\n",
       "    <tr>\n",
       "      <th>1</th>\n",
       "      <td>Accounts</td>\n",
       "      <td>[atlanta]</td>\n",
       "    </tr>\n",
       "    <tr>\n",
       "      <th>2</th>\n",
       "      <td>Reqs min date</td>\n",
       "      <td>2024-03-01 00:00:00</td>\n",
       "    </tr>\n",
       "    <tr>\n",
       "      <th>3</th>\n",
       "      <td>Reqs max date</td>\n",
       "      <td>2024-05-01 00:00:00</td>\n",
       "    </tr>\n",
       "    <tr>\n",
       "      <th>4</th>\n",
       "      <td>Reqs Locations</td>\n",
       "      <td>[United States, US, UNITED STATES]</td>\n",
       "    </tr>\n",
       "    <tr>\n",
       "      <th>5</th>\n",
       "      <td>Reqs External Status</td>\n",
       "      <td>[Filled, Open]</td>\n",
       "    </tr>\n",
       "    <tr>\n",
       "      <th>6</th>\n",
       "      <td>Total number of Candidates</td>\n",
       "      <td>85107</td>\n",
       "    </tr>\n",
       "  </tbody>\n",
       "</table>\n",
       "</div>"
      ],
      "text/plain": [
       "                        index                                   0\n",
       "0        Report creation date          2024-07-10 15:27:40.149614\n",
       "1                    Accounts                           [atlanta]\n",
       "2               Reqs min date                 2024-03-01 00:00:00\n",
       "3               Reqs max date                 2024-05-01 00:00:00\n",
       "4              Reqs Locations  [United States, US, UNITED STATES]\n",
       "5        Reqs External Status                      [Filled, Open]\n",
       "6  Total number of Candidates                               85107"
      ]
     },
     "execution_count": 21,
     "metadata": {},
     "output_type": "execute_result"
    }
   ],
   "source": [
    "summary = pd.Series({\n",
    "    'Report creation date': datetime.now(),\n",
    "    'Accounts': ACCOUNTS,\n",
    "    'Reqs min date': REQS_MIN_DATE,\n",
    "    'Reqs max date': REQS_MAX_DATE,\n",
    "    'Reqs Locations': COUNTRIES,\n",
    "    'Reqs External Status': REQ_STATUSES,\n",
    "    'Total number of Candidates': len(df),\n",
    "}).reset_index()\n",
    "\n",
    "\n",
    "summary.to_excel(writer, sheet_name=\"Summary\", index=False)\n",
    "summary"
   ]
  },
  {
   "cell_type": "code",
   "execution_count": null,
   "id": "b5870c4a-6ea1-436b-bb40-ca02e58a2c5d",
   "metadata": {
    "tags": []
   },
   "outputs": [],
   "source": [
    "report.to_excel(writer, sheet_name=\"Impact Ratio\")"
   ]
  },
  {
   "cell_type": "code",
   "execution_count": null,
   "id": "08df33ee-5af6-4e81-8c78-75123b8b6dd5",
   "metadata": {
    "tags": []
   },
   "outputs": [],
   "source": [
    "disclose = pd.DataFrame( {'Race': df['race_disclose'].value_counts(normalize=False), \n",
    "               'Gender': df['gender_disclose'].value_counts(normalize=False)})\n",
    "disclose.to_excel(writer, sheet_name=\"% Disclose\")\n",
    "disclose"
   ]
  },
  {
   "cell_type": "code",
   "execution_count": null,
   "id": "42d63728-12c3-4b2a-b540-4307e8a1e5fb",
   "metadata": {},
   "outputs": [],
   "source": [
    "writer.close()"
   ]
  },
  {
   "cell_type": "code",
   "execution_count": 23,
   "id": "ae015814-98fa-4b85-a89e-12d43c9027ee",
   "metadata": {},
   "outputs": [],
   "source": [
    "ir.to_csv('/Users/dima/Downloads/atlanta_audit.csv')"
   ]
  },
  {
   "cell_type": "code",
   "execution_count": null,
   "id": "a3b68d3a-8425-4f58-9836-fa7be1ebbd9a",
   "metadata": {},
   "outputs": [],
   "source": []
  }
 ],
 "metadata": {
  "kernelspec": {
   "display_name": "Python 3 (ipykernel)",
   "language": "python",
   "name": "python3"
  },
  "language_info": {
   "codemirror_mode": {
    "name": "ipython",
    "version": 3
   },
   "file_extension": ".py",
   "mimetype": "text/x-python",
   "name": "python",
   "nbconvert_exporter": "python",
   "pygments_lexer": "ipython3",
   "version": "3.9.5"
  }
 },
 "nbformat": 4,
 "nbformat_minor": 5
}
