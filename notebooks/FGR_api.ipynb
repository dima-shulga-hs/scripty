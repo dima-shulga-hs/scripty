{
 "cells": [
  {
   "cell_type": "code",
   "execution_count": null,
   "id": "ef5b2ab3-25e2-42ef-a4b5-de1307ccfd35",
   "metadata": {
    "tags": []
   },
   "outputs": [],
   "source": [
    "from vassily import FetchGrader, FetchFeatureExtarction, FetchDataAdapter\n",
    "grader = FetchGrader(account_id)\n",
    "extractor = FetchFeatureExtarction(account_id)\n",
    "adapter = FetchDataAdapter(account_id)\n",
    "initial_data = get_data() # tagged data, tuples of talent and req and recommendation score\n",
    "data = adapter.adapt(initial_data)\n",
    "features = extractor.extract_features(data) # Important: 1. Ability to only extract features 2. the same features are used for training and inference\n",
    "features.describe() # example of an eda of the features\n",
    "grader.fit(features) # phase 2 \n",
    "predicted = grader.predcit(featrues) #  grade_reqs_for_candidate(candidate_item, req_items)\n",
    "measurement(data, predicted)"
   ]
  },
  {
   "cell_type": "code",
   "execution_count": 4,
   "id": "a3b593b5-0b0c-4d84-ad58-83e43d2c9e0c",
   "metadata": {
    "tags": []
   },
   "outputs": [],
   "source": [
    "from hs_gimme.slack_utils.slack_notifications import send_notifications"
   ]
  },
  {
   "cell_type": "code",
   "execution_count": 9,
   "id": "b1fb3be5-b942-4c43-83ae-0625174b5ea4",
   "metadata": {
    "tags": []
   },
   "outputs": [],
   "source": [
    "send_notifications(\"zion@hiredscore.com\", \"ma kore neshama\", False)"
   ]
  },
  {
   "cell_type": "code",
   "execution_count": null,
   "id": "32e3fc84-ac83-45b4-b731-8db33a41695e",
   "metadata": {},
   "outputs": [],
   "source": []
  }
 ],
 "metadata": {
  "kernelspec": {
   "display_name": "Python 3 (ipykernel)",
   "language": "python",
   "name": "python3"
  },
  "language_info": {
   "codemirror_mode": {
    "name": "ipython",
    "version": 3
   },
   "file_extension": ".py",
   "mimetype": "text/x-python",
   "name": "python",
   "nbconvert_exporter": "python",
   "pygments_lexer": "ipython3",
   "version": "3.9.5"
  }
 },
 "nbformat": 4,
 "nbformat_minor": 5
}
