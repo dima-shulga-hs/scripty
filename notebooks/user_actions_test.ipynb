{
 "cells": [
  {
   "cell_type": "code",
   "execution_count": 1,
   "id": "034ad309-3184-44f5-a365-19629a2c691c",
   "metadata": {
    "tags": []
   },
   "outputs": [],
   "source": [
    "import re \n",
    "import pandas as pd\n",
    "import numpy as np\n",
    "from datetime import date, datetime, timedelta\n",
    "from analytics_utils.bigquery_utils import get_bq_client, BigQuery\n",
    "import matplotlib.pyplot as plt\n",
    "from collections import Counter"
   ]
  },
  {
   "cell_type": "markdown",
   "id": "45aeb224-3919-4739-be60-611ba8080b44",
   "metadata": {},
   "source": [
    "# Functions "
   ]
  },
  {
   "cell_type": "code",
   "execution_count": 2,
   "id": "57b4491b-6582-461d-a1f3-ae77c07168d6",
   "metadata": {
    "tags": []
   },
   "outputs": [],
   "source": [
    "STAGE_MAP = {\n",
    "    'New': 1, 'Review': 2, 'Marked Relevant': 4, \n",
    "    'Opened': 2, 'Clicked': 2, 'Delivered': 4, \n",
    "    'Suppressed': 3, 'Dismissed': 3\n",
    "}\n",
    "\n",
    "REVERSE_STAGE_MAP = {\n",
    "    1: 'New',\n",
    "    2: 'Review',\n",
    "    3: 'Dismissed',\n",
    "    4: 'Marked Relevant'\n",
    "}\n",
    "\n",
    "DIM_MAP = {\n",
    "    'Client': \"fetch_recommendation_activity_customer\", \n",
    "    'Client Industry': \"Industry\", \n",
    "    'Req Seniority': \"dim_req_required_seniority_level\", \n",
    "    'Req Top Category': \"dim_req_top_category_calculated\"\n",
    "}\n",
    "\n",
    "PATTERN_DELETE = r'(?=.+posit.+fill.+)|(?=.+posit.+interna.+)|(?=.+terna.+nly.+)|(?=.+interna.+fill.+)|(?=.+cand.+not.+interested.+)|(?=.+not.+reach.+)|(?=.+reach.+not.+)|(?=.+urrent.+employ.+)|(?=.*\\bprocess\\b.*\\banother\\b.*\\breq\\b)'\n",
    "\n",
    "REASONS_TO_FILTER = {\n",
    "    'other: Position will be filled internally ',\n",
    "    'Candidate invited to apply',\n",
    "    'In process in another req ',\n",
    "    'Current Employee',\n",
    "    'other: Position filled',\n",
    "    'other: Internal only',\n",
    "    'Qualified but candidate not interested at this time',\n",
    "    \n",
    "}\n",
    "\n",
    "REASONS_TO_FILTER = {x.lower().strip() for x in REASONS_TO_FILTER}\n",
    "\n",
    "def check_id(user_id):\n",
    "    if user_id:\n",
    "        if 'test' in user_id:\n",
    "            return False\n",
    "        elif str(user_id).endswith('-1'):\n",
    "            return False\n",
    "    return True\n",
    "\n",
    "client_industry = pd.read_excel('planhat-companies-Oct-29-2023.xlsx')"
   ]
  },
  {
   "cell_type": "code",
   "execution_count": 3,
   "id": "91137c14-0cbe-4f70-bb6c-a80a1a1e16c5",
   "metadata": {
    "tags": []
   },
   "outputs": [],
   "source": [
    "def get_dataframe(from_date, to_date, account=None):\n",
    "    db_client = get_bq_client('production')\n",
    "    sql = f\"\"\"\n",
    "        SELECT\n",
    "            fact_recommendation_status_history.analytics_fetch_status_bucket  AS fact_recommendation_status_history_fetch_bucket,\n",
    "            fetch_recommendation_activity.req_id  AS fetch_recommendation_activity_req_id,\n",
    "            fetch_recommendation_activity.talent_id  AS fetch_recommendation_activity_talent_id,\n",
    "            fact_recommendation_status_history.reason  AS fact_recommendation_status_history_reason,\n",
    "            (DATE(fact_recommendation_status_history.status_ts )) AS fact_recommendation_status_history_status_at_date,\n",
    "            fetch_recommendation_activity.customer  AS fetch_recommendation_activity_customer,\n",
    "            dim_req.required_seniority_level  AS dim_req_required_seniority_level,\n",
    "            dim_req.top_category  AS dim_req_top_category_calculated,\n",
    "            fact_recommendation_status_history.user_id  AS fact_recommendation_status_history_user_id\n",
    "        FROM `hs-analytics.all_customers.dwh_hs_dim_recommendation`\n",
    "             AS fetch_recommendation_activity\n",
    "        LEFT JOIN `hs-analytics.all_customers.dwh_hs_fact_recommendation_status_history`\n",
    "             AS fact_recommendation_status_history ON fetch_recommendation_activity.key = fact_recommendation_status_history.recommendation_key\n",
    "            and fetch_recommendation_activity.customer = fact_recommendation_status_history.customer\n",
    "        FULL OUTER JOIN `hs-analytics.all_customers.dwh_hs_dim_req`\n",
    "             AS dim_req ON dim_req.key = fetch_recommendation_activity.req_key\n",
    "            and dim_req.customer = fetch_recommendation_activity.customer\n",
    "        WHERE (fact_recommendation_status_history.analytics_fetch_status_bucket ) IN ('Dismissed', 'Marked Relevant', 'Review') \n",
    "         --   AND fetch_recommendation_activity.customer = \"{account}\"\n",
    "            AND ((( fact_recommendation_status_history.status_ts  ) >= (TIMESTAMP(\"{str(from_date)}\")) \n",
    "            AND ( fact_recommendation_status_history.status_ts  ) < (TIMESTAMP(\"{str(to_date)}\")))) \n",
    "            AND (fetch_recommendation_activity.customer not in ( 'princeton',\n",
    "                 'arizona_wd_staging',\n",
    "                 'antigua',\n",
    "                 'havana',\n",
    "                 'seoul_icims',\n",
    "                 'arizona' ))\n",
    "        GROUP BY\n",
    "            1,\n",
    "            2,\n",
    "            3,\n",
    "            4,\n",
    "            5,\n",
    "            6,\n",
    "            7,\n",
    "            8,\n",
    "            9\n",
    "    \"\"\"\n",
    "    job_result = db_client.execute(sql)\n",
    "    df = job_result['query_reults'].to_dataframe()\n",
    "    df.to_csv('cache_dump.csv', index=None)\n",
    "    df['Date'] = pd.to_datetime(df['fact_recommendation_status_history_status_at_date'])\n",
    "    return df"
   ]
  },
  {
   "cell_type": "code",
   "execution_count": 4,
   "id": "a01149d3-3b7c-4232-8df0-ddcd5b0b08e6",
   "metadata": {
    "tags": []
   },
   "outputs": [],
   "source": [
    "def prepare_df(df):\n",
    "    calc_df = df.copy()\n",
    "\n",
    "    calc_df['Date'] = pd.to_datetime(calc_df['fact_recommendation_status_history_status_at_date'])\n",
    "    for period in ('M', 'W', '2W'):\n",
    "        calc_df[f'Period {period}'] = calc_df['Date'].dt.to_period(period)\n",
    "\n",
    "    calc_df['bucket_code'] = calc_df['fact_recommendation_status_history_fetch_bucket'].map(STAGE_MAP)\n",
    "    calc_df['pair_id'] = calc_df['fetch_recommendation_activity_req_id'].fillna('nan') + '_' + calc_df['fetch_recommendation_activity_talent_id'].fillna('nan')\n",
    "\n",
    "    leads_to_filter = set(calc_df[\n",
    "        calc_df['fact_recommendation_status_history_reason'].fillna('').apply(\n",
    "            lambda x: (bool(re.findall(PATTERN_DELETE, x.lower())) and ('qualif' not in x.lower())) or x.lower().strip() in REASONS_TO_FILTER\n",
    "        )\n",
    "    ]['pair_id'].values)\n",
    "\n",
    "\n",
    "    calc_df[\n",
    "        calc_df['fact_recommendation_status_history_reason'].fillna('').apply(\n",
    "            lambda x: (bool(re.findall(PATTERN_DELETE, x.lower())) and ('qualif' not in x.lower())) or x.lower().strip() in REASONS_TO_FILTER\n",
    "        )\n",
    "    ]['bucket_code'] = STAGE_MAP['Marked Relevant']\n",
    "\n",
    "    calc_df = calc_df[\n",
    "        (~calc_df['pair_id'].isin(leads_to_filter)) & \n",
    "        (calc_df['fact_recommendation_status_history_user_id'].fillna('').apply(check_id))\n",
    "    ]\n",
    "    grouped_df = calc_df.groupby(\n",
    "        ['pair_id'], as_index=False\n",
    "    ).agg(\n",
    "        {\"bucket_code\": \"max\",\n",
    "         'fetch_recommendation_activity_req_id': 'first',\n",
    "         'fetch_recommendation_activity_talent_id': 'first',\n",
    "         'fetch_recommendation_activity_customer': 'first',\n",
    "         'fact_recommendation_status_history_user_id': 'first',\n",
    "         'Date': 'max',\n",
    "         'Period M': 'max',\n",
    "         'Period W': 'max',\n",
    "         'Period 2W': 'max',     \n",
    "         'dim_req_top_category_calculated': 'first',\n",
    "         'dim_req_required_seniority_level': 'first',\n",
    "        })\n",
    "\n",
    "    grouped_df['Max Status Bucket'] = grouped_df['bucket_code'].map(REVERSE_STAGE_MAP)\n",
    "    grouped_df = pd.concat([grouped_df, pd.get_dummies(grouped_df['Max Status Bucket'])], axis=1)\n",
    "    grouped_df = grouped_df.dropna(subset=['Max Status Bucket'])\n",
    "\n",
    "    client_industry['Account Name'] = client_industry['Account Name'].str.lower()\n",
    "    grouped_df = pd.merge(grouped_df, client_industry, \n",
    "                          left_on='fetch_recommendation_activity_customer', \n",
    "                          right_on='Account Name', how='left')\n",
    "    return grouped_df"
   ]
  },
  {
   "cell_type": "code",
   "execution_count": 5,
   "id": "d00454d5-e7e9-41d8-9fc6-33a459ad90f1",
   "metadata": {
    "tags": []
   },
   "outputs": [],
   "source": [
    "def calc_rate(ddf):\n",
    "    return ddf['Marked Relevant'].sum() / (ddf['Marked Relevant'] + ddf['Dismissed'] + ddf['Review']).sum()"
   ]
  },
  {
   "cell_type": "markdown",
   "id": "d3dcbe41-96b6-47fd-b20c-45b6a55a518a",
   "metadata": {},
   "source": [
    "# Overall rates"
   ]
  },
  {
   "cell_type": "code",
   "execution_count": 6,
   "id": "b446505a-7f41-4cea-96e5-4f76c6a47d3d",
   "metadata": {
    "tags": []
   },
   "outputs": [
    {
     "data": {
      "text/plain": [
       "(343075, 10)"
      ]
     },
     "execution_count": 6,
     "metadata": {},
     "output_type": "execute_result"
    }
   ],
   "source": [
    "raw_df = get_dataframe(date(2023, 9, 1), date(2024, 3, 1))\n",
    "raw_df.shape"
   ]
  },
  {
   "cell_type": "code",
   "execution_count": 7,
   "id": "04f9b61e-3bde-48b7-8ea5-d7251d99c10f",
   "metadata": {
    "tags": []
   },
   "outputs": [
    {
     "name": "stderr",
     "output_type": "stream",
     "text": [
      "/var/folders/_p/8_m91crj199_rd7sndkxncc80000gp/T/ipykernel_69381/3353077257.py:18: SettingWithCopyWarning: \n",
      "A value is trying to be set on a copy of a slice from a DataFrame.\n",
      "Try using .loc[row_indexer,col_indexer] = value instead\n",
      "\n",
      "See the caveats in the documentation: https://pandas.pydata.org/pandas-docs/stable/user_guide/indexing.html#returning-a-view-versus-a-copy\n",
      "  calc_df[\n"
     ]
    },
    {
     "data": {
      "text/plain": [
       "(5167, 19)"
      ]
     },
     "execution_count": 7,
     "metadata": {},
     "output_type": "execute_result"
    }
   ],
   "source": [
    "ACCOUNT = 'dallas'\n",
    "TEST_DATE = datetime(2023, 12, 4)\n",
    "prep_df = prepare_df(raw_df[raw_df['fetch_recommendation_activity_customer'] == ACCOUNT])\n",
    "prep_df['user_cat_pair'] = prep_df['fact_recommendation_status_history_user_id'] + prep_df['dim_req_top_category_calculated']\n",
    "prep_df.shape"
   ]
  },
  {
   "cell_type": "code",
   "execution_count": 8,
   "id": "26b7fb58-2d67-4559-872f-1aa40bbd6e71",
   "metadata": {
    "tags": []
   },
   "outputs": [],
   "source": [
    "#prep_df = prep_df[prep_df['Date'] < datetime(2023, 10, 1)]"
   ]
  },
  {
   "cell_type": "code",
   "execution_count": 9,
   "id": "69a316d7-ee93-4c68-9a46-8f6900b96c60",
   "metadata": {
    "tags": []
   },
   "outputs": [],
   "source": [
    "after_df = prep_df[prep_df['Date'] > TEST_DATE]\n",
    "before_df= prep_df[prep_df['Date'] < TEST_DATE]"
   ]
  },
  {
   "cell_type": "code",
   "execution_count": 10,
   "id": "1d42c47c-fe77-431c-9394-bf84d44e0d9a",
   "metadata": {
    "tags": []
   },
   "outputs": [
    {
     "data": {
      "text/plain": [
       "(0.04844961240310078, 0.07486979166666667)"
      ]
     },
     "execution_count": 10,
     "metadata": {},
     "output_type": "execute_result"
    }
   ],
   "source": [
    "calc_rate(before_df), calc_rate(after_df)"
   ]
  },
  {
   "cell_type": "code",
   "execution_count": 11,
   "id": "6a730589-1822-49e2-bafb-b9a235a5b12a",
   "metadata": {
    "tags": []
   },
   "outputs": [
    {
     "data": {
      "text/plain": [
       "20"
      ]
     },
     "execution_count": 11,
     "metadata": {},
     "output_type": "execute_result"
    }
   ],
   "source": [
    "relevant_pairs = set(after_df['user_cat_pair'].value_counts().loc[lambda x: x > 10].index) & set(before_df['user_cat_pair'].value_counts().loc[lambda x: x > 10].index)\n",
    "len(relevant_pairs)"
   ]
  },
  {
   "cell_type": "code",
   "execution_count": 12,
   "id": "40c620bc-b595-414f-a895-2aced71f5a14",
   "metadata": {
    "tags": []
   },
   "outputs": [
    {
     "data": {
      "text/plain": [
       "(1431, 19)"
      ]
     },
     "execution_count": 12,
     "metadata": {},
     "output_type": "execute_result"
    }
   ],
   "source": [
    "filtered_before_df = before_df[before_df['user_cat_pair'].isin(relevant_pairs)].copy()\n",
    "filtered_before_df.shape"
   ]
  },
  {
   "cell_type": "code",
   "execution_count": 13,
   "id": "94aa37e8-d090-4195-b2fd-d25198f60466",
   "metadata": {
    "tags": []
   },
   "outputs": [
    {
     "data": {
      "text/plain": [
       "(877, 19)"
      ]
     },
     "execution_count": 13,
     "metadata": {},
     "output_type": "execute_result"
    }
   ],
   "source": [
    "filtered_after_df = after_df[after_df['user_cat_pair'].isin(relevant_pairs)].copy()\n",
    "filtered_after_df.shape"
   ]
  },
  {
   "cell_type": "code",
   "execution_count": 14,
   "id": "9a81c50c-3549-434d-8543-81a6c32f5724",
   "metadata": {
    "tags": []
   },
   "outputs": [
    {
     "data": {
      "text/plain": [
       "(0.02166317260656883, 0.06271379703534778)"
      ]
     },
     "execution_count": 14,
     "metadata": {},
     "output_type": "execute_result"
    }
   ],
   "source": [
    "calc_rate(filtered_before_df), calc_rate(filtered_after_df)"
   ]
  },
  {
   "cell_type": "markdown",
   "id": "3170f49a-297c-4174-9679-2ce5e83e45ba",
   "metadata": {},
   "source": [
    "# Adjusted rates"
   ]
  },
  {
   "cell_type": "code",
   "execution_count": 15,
   "id": "129c39dc-a1cf-4724-ab16-2c68c86b369e",
   "metadata": {
    "tags": []
   },
   "outputs": [
    {
     "data": {
      "text/plain": [
       "(2308, 20)"
      ]
     },
     "execution_count": 15,
     "metadata": {},
     "output_type": "execute_result"
    }
   ],
   "source": [
    "filtered_before_df['algo'] = 'BEFORE'\n",
    "filtered_after_df['algo'] = 'AFTER'\n",
    "new_df = pd.concat([filtered_before_df, filtered_after_df])\n",
    "new_df.shape"
   ]
  },
  {
   "cell_type": "code",
   "execution_count": 37,
   "id": "fc489169-4d87-4b46-897c-c79983d958f2",
   "metadata": {
    "tags": []
   },
   "outputs": [],
   "source": [
    "gb = ['fact_recommendation_status_history_user_id', 'dim_req_top_category_calculated', 'algo']\n",
    "gdf = new_df.groupby(gb).sum()[['Marked Relevant', 'Dismissed', 'Review']]"
   ]
  },
  {
   "cell_type": "code",
   "execution_count": 38,
   "id": "da4b6bb6-9921-44ab-a91d-de2723f45a22",
   "metadata": {
    "tags": []
   },
   "outputs": [],
   "source": [
    "gdf = gdf[(gdf['Marked Relevant'] > 1) & (gdf['Dismissed'] > 1)]"
   ]
  },
  {
   "cell_type": "code",
   "execution_count": 39,
   "id": "3527571f-0492-482d-941c-5d165633204b",
   "metadata": {
    "tags": []
   },
   "outputs": [],
   "source": [
    "gdf['total'] = gdf['Marked Relevant'] + gdf['Dismissed'] + gdf['Review']\n",
    "gdf['rate'] = gdf['Marked Relevant'] / gdf['total']"
   ]
  },
  {
   "cell_type": "code",
   "execution_count": 40,
   "id": "d955f69f-76c0-44a5-90fd-bde29f20fc1b",
   "metadata": {
    "tags": []
   },
   "outputs": [
    {
     "data": {
      "text/html": [
       "<div>\n",
       "<style scoped>\n",
       "    .dataframe tbody tr th:only-of-type {\n",
       "        vertical-align: middle;\n",
       "    }\n",
       "\n",
       "    .dataframe tbody tr th {\n",
       "        vertical-align: top;\n",
       "    }\n",
       "\n",
       "    .dataframe thead th {\n",
       "        text-align: right;\n",
       "    }\n",
       "</style>\n",
       "<table border=\"1\" class=\"dataframe\">\n",
       "  <thead>\n",
       "    <tr style=\"text-align: right;\">\n",
       "      <th></th>\n",
       "      <th>rate</th>\n",
       "    </tr>\n",
       "    <tr>\n",
       "      <th>algo</th>\n",
       "      <th></th>\n",
       "    </tr>\n",
       "  </thead>\n",
       "  <tbody>\n",
       "    <tr>\n",
       "      <th>AFTER</th>\n",
       "      <td>0.271890</td>\n",
       "    </tr>\n",
       "    <tr>\n",
       "      <th>BEFORE</th>\n",
       "      <td>0.122092</td>\n",
       "    </tr>\n",
       "  </tbody>\n",
       "</table>\n",
       "</div>"
      ],
      "text/plain": [
       "            rate\n",
       "algo            \n",
       "AFTER   0.271890\n",
       "BEFORE  0.122092"
      ]
     },
     "execution_count": 40,
     "metadata": {},
     "output_type": "execute_result"
    }
   ],
   "source": [
    "gdf.reset_index().groupby('algo')[['rate']].mean()"
   ]
  },
  {
   "cell_type": "code",
   "execution_count": 41,
   "id": "3f171b71-685c-4dd5-a8a9-beb07e5d4eb3",
   "metadata": {
    "tags": []
   },
   "outputs": [],
   "source": [
    "udf = gdf.unstack().dropna()\n",
    "udf['ratio'] = (udf[('rate', 'AFTER')] / udf[('rate', 'BEFORE')])"
   ]
  },
  {
   "cell_type": "code",
   "execution_count": 42,
   "id": "04b84ec8-4da8-405e-803f-f893484d9ac6",
   "metadata": {
    "tags": []
   },
   "outputs": [
    {
     "data": {
      "text/plain": [
       "1.7718535737766505"
      ]
     },
     "execution_count": 42,
     "metadata": {},
     "output_type": "execute_result"
    }
   ],
   "source": [
    "udf['ratio'].mean()"
   ]
  },
  {
   "cell_type": "code",
   "execution_count": 43,
   "id": "8f107662-a86d-4d7c-87d3-15c22be88207",
   "metadata": {
    "tags": []
   },
   "outputs": [
    {
     "data": {
      "text/html": [
       "<div>\n",
       "<style scoped>\n",
       "    .dataframe tbody tr th:only-of-type {\n",
       "        vertical-align: middle;\n",
       "    }\n",
       "\n",
       "    .dataframe tbody tr th {\n",
       "        vertical-align: top;\n",
       "    }\n",
       "\n",
       "    .dataframe thead tr th {\n",
       "        text-align: left;\n",
       "    }\n",
       "\n",
       "    .dataframe thead tr:last-of-type th {\n",
       "        text-align: right;\n",
       "    }\n",
       "</style>\n",
       "<table border=\"1\" class=\"dataframe\">\n",
       "  <thead>\n",
       "    <tr>\n",
       "      <th></th>\n",
       "      <th></th>\n",
       "      <th colspan=\"2\" halign=\"left\">Marked Relevant</th>\n",
       "      <th colspan=\"2\" halign=\"left\">Dismissed</th>\n",
       "      <th colspan=\"2\" halign=\"left\">Review</th>\n",
       "      <th colspan=\"2\" halign=\"left\">total</th>\n",
       "      <th colspan=\"2\" halign=\"left\">rate</th>\n",
       "      <th>ratio</th>\n",
       "    </tr>\n",
       "    <tr>\n",
       "      <th></th>\n",
       "      <th>algo</th>\n",
       "      <th>AFTER</th>\n",
       "      <th>BEFORE</th>\n",
       "      <th>AFTER</th>\n",
       "      <th>BEFORE</th>\n",
       "      <th>AFTER</th>\n",
       "      <th>BEFORE</th>\n",
       "      <th>AFTER</th>\n",
       "      <th>BEFORE</th>\n",
       "      <th>AFTER</th>\n",
       "      <th>BEFORE</th>\n",
       "      <th></th>\n",
       "    </tr>\n",
       "    <tr>\n",
       "      <th>fact_recommendation_status_history_user_id</th>\n",
       "      <th>dim_req_top_category_calculated</th>\n",
       "      <th></th>\n",
       "      <th></th>\n",
       "      <th></th>\n",
       "      <th></th>\n",
       "      <th></th>\n",
       "      <th></th>\n",
       "      <th></th>\n",
       "      <th></th>\n",
       "      <th></th>\n",
       "      <th></th>\n",
       "      <th></th>\n",
       "    </tr>\n",
       "  </thead>\n",
       "  <tbody>\n",
       "    <tr>\n",
       "      <th>DEL15</th>\n",
       "      <th>IT_&amp;_Software_Development</th>\n",
       "      <td>4.0</td>\n",
       "      <td>13.0</td>\n",
       "      <td>5.0</td>\n",
       "      <td>43.0</td>\n",
       "      <td>4.0</td>\n",
       "      <td>11.0</td>\n",
       "      <td>13.0</td>\n",
       "      <td>67.0</td>\n",
       "      <td>0.307692</td>\n",
       "      <td>0.19403</td>\n",
       "      <td>1.585799</td>\n",
       "    </tr>\n",
       "    <tr>\n",
       "      <th>DEL456</th>\n",
       "      <th>IT_&amp;_Software_Development</th>\n",
       "      <td>7.0</td>\n",
       "      <td>6.0</td>\n",
       "      <td>25.0</td>\n",
       "      <td>17.0</td>\n",
       "      <td>0.0</td>\n",
       "      <td>17.0</td>\n",
       "      <td>32.0</td>\n",
       "      <td>40.0</td>\n",
       "      <td>0.218750</td>\n",
       "      <td>0.15000</td>\n",
       "      <td>1.458333</td>\n",
       "    </tr>\n",
       "    <tr>\n",
       "      <th>DEL84</th>\n",
       "      <th>IT_&amp;_Software_Development</th>\n",
       "      <td>12.0</td>\n",
       "      <td>5.0</td>\n",
       "      <td>44.0</td>\n",
       "      <td>43.0</td>\n",
       "      <td>0.0</td>\n",
       "      <td>5.0</td>\n",
       "      <td>56.0</td>\n",
       "      <td>53.0</td>\n",
       "      <td>0.214286</td>\n",
       "      <td>0.09434</td>\n",
       "      <td>2.271429</td>\n",
       "    </tr>\n",
       "  </tbody>\n",
       "</table>\n",
       "</div>"
      ],
      "text/plain": [
       "                                                                           Marked Relevant  \\\n",
       "algo                                                                                 AFTER   \n",
       "fact_recommendation_status_history_user_id dim_req_top_category_calculated                   \n",
       "DEL15                                      IT_&_Software_Development                   4.0   \n",
       "DEL456                                     IT_&_Software_Development                   7.0   \n",
       "DEL84                                      IT_&_Software_Development                  12.0   \n",
       "\n",
       "                                                                                   \\\n",
       "algo                                                                       BEFORE   \n",
       "fact_recommendation_status_history_user_id dim_req_top_category_calculated          \n",
       "DEL15                                      IT_&_Software_Development         13.0   \n",
       "DEL456                                     IT_&_Software_Development          6.0   \n",
       "DEL84                                      IT_&_Software_Development          5.0   \n",
       "\n",
       "                                                                           Dismissed  \\\n",
       "algo                                                                           AFTER   \n",
       "fact_recommendation_status_history_user_id dim_req_top_category_calculated             \n",
       "DEL15                                      IT_&_Software_Development             5.0   \n",
       "DEL456                                     IT_&_Software_Development            25.0   \n",
       "DEL84                                      IT_&_Software_Development            44.0   \n",
       "\n",
       "                                                                                   \\\n",
       "algo                                                                       BEFORE   \n",
       "fact_recommendation_status_history_user_id dim_req_top_category_calculated          \n",
       "DEL15                                      IT_&_Software_Development         43.0   \n",
       "DEL456                                     IT_&_Software_Development         17.0   \n",
       "DEL84                                      IT_&_Software_Development         43.0   \n",
       "\n",
       "                                                                           Review  \\\n",
       "algo                                                                        AFTER   \n",
       "fact_recommendation_status_history_user_id dim_req_top_category_calculated          \n",
       "DEL15                                      IT_&_Software_Development          4.0   \n",
       "DEL456                                     IT_&_Software_Development          0.0   \n",
       "DEL84                                      IT_&_Software_Development          0.0   \n",
       "\n",
       "                                                                                   \\\n",
       "algo                                                                       BEFORE   \n",
       "fact_recommendation_status_history_user_id dim_req_top_category_calculated          \n",
       "DEL15                                      IT_&_Software_Development         11.0   \n",
       "DEL456                                     IT_&_Software_Development         17.0   \n",
       "DEL84                                      IT_&_Software_Development          5.0   \n",
       "\n",
       "                                                                           total  \\\n",
       "algo                                                                       AFTER   \n",
       "fact_recommendation_status_history_user_id dim_req_top_category_calculated         \n",
       "DEL15                                      IT_&_Software_Development        13.0   \n",
       "DEL456                                     IT_&_Software_Development        32.0   \n",
       "DEL84                                      IT_&_Software_Development        56.0   \n",
       "\n",
       "                                                                                   \\\n",
       "algo                                                                       BEFORE   \n",
       "fact_recommendation_status_history_user_id dim_req_top_category_calculated          \n",
       "DEL15                                      IT_&_Software_Development         67.0   \n",
       "DEL456                                     IT_&_Software_Development         40.0   \n",
       "DEL84                                      IT_&_Software_Development         53.0   \n",
       "\n",
       "                                                                                rate  \\\n",
       "algo                                                                           AFTER   \n",
       "fact_recommendation_status_history_user_id dim_req_top_category_calculated             \n",
       "DEL15                                      IT_&_Software_Development        0.307692   \n",
       "DEL456                                     IT_&_Software_Development        0.218750   \n",
       "DEL84                                      IT_&_Software_Development        0.214286   \n",
       "\n",
       "                                                                                     \\\n",
       "algo                                                                         BEFORE   \n",
       "fact_recommendation_status_history_user_id dim_req_top_category_calculated            \n",
       "DEL15                                      IT_&_Software_Development        0.19403   \n",
       "DEL456                                     IT_&_Software_Development        0.15000   \n",
       "DEL84                                      IT_&_Software_Development        0.09434   \n",
       "\n",
       "                                                                               ratio  \n",
       "algo                                                                                  \n",
       "fact_recommendation_status_history_user_id dim_req_top_category_calculated            \n",
       "DEL15                                      IT_&_Software_Development        1.585799  \n",
       "DEL456                                     IT_&_Software_Development        1.458333  \n",
       "DEL84                                      IT_&_Software_Development        2.271429  "
      ]
     },
     "execution_count": 43,
     "metadata": {},
     "output_type": "execute_result"
    }
   ],
   "source": [
    "udf"
   ]
  },
  {
   "cell_type": "code",
   "execution_count": 44,
   "id": "a2d08767-339d-4e3e-a517-3914f9a21500",
   "metadata": {
    "tags": []
   },
   "outputs": [
    {
     "data": {
      "text/plain": [
       "(3, 11)"
      ]
     },
     "execution_count": 44,
     "metadata": {},
     "output_type": "execute_result"
    }
   ],
   "source": [
    "udf.shape"
   ]
  },
  {
   "cell_type": "code",
   "execution_count": 45,
   "id": "d5a5d973-43a9-4595-a10b-5e60267ea8aa",
   "metadata": {
    "tags": []
   },
   "outputs": [
    {
     "data": {
      "text/html": [
       "<div>\n",
       "<style scoped>\n",
       "    .dataframe tbody tr th:only-of-type {\n",
       "        vertical-align: middle;\n",
       "    }\n",
       "\n",
       "    .dataframe tbody tr th {\n",
       "        vertical-align: top;\n",
       "    }\n",
       "\n",
       "    .dataframe thead tr th {\n",
       "        text-align: left;\n",
       "    }\n",
       "\n",
       "    .dataframe thead tr:last-of-type th {\n",
       "        text-align: right;\n",
       "    }\n",
       "</style>\n",
       "<table border=\"1\" class=\"dataframe\">\n",
       "  <thead>\n",
       "    <tr>\n",
       "      <th></th>\n",
       "      <th></th>\n",
       "      <th colspan=\"2\" halign=\"left\">Marked Relevant</th>\n",
       "      <th colspan=\"2\" halign=\"left\">Dismissed</th>\n",
       "      <th colspan=\"2\" halign=\"left\">Review</th>\n",
       "      <th colspan=\"2\" halign=\"left\">total</th>\n",
       "      <th colspan=\"2\" halign=\"left\">rate</th>\n",
       "      <th>ratio</th>\n",
       "    </tr>\n",
       "    <tr>\n",
       "      <th></th>\n",
       "      <th>algo</th>\n",
       "      <th>AFTER</th>\n",
       "      <th>BEFORE</th>\n",
       "      <th>AFTER</th>\n",
       "      <th>BEFORE</th>\n",
       "      <th>AFTER</th>\n",
       "      <th>BEFORE</th>\n",
       "      <th>AFTER</th>\n",
       "      <th>BEFORE</th>\n",
       "      <th>AFTER</th>\n",
       "      <th>BEFORE</th>\n",
       "      <th></th>\n",
       "    </tr>\n",
       "    <tr>\n",
       "      <th>fact_recommendation_status_history_user_id</th>\n",
       "      <th>dim_req_top_category_calculated</th>\n",
       "      <th></th>\n",
       "      <th></th>\n",
       "      <th></th>\n",
       "      <th></th>\n",
       "      <th></th>\n",
       "      <th></th>\n",
       "      <th></th>\n",
       "      <th></th>\n",
       "      <th></th>\n",
       "      <th></th>\n",
       "      <th></th>\n",
       "    </tr>\n",
       "  </thead>\n",
       "  <tbody>\n",
       "    <tr>\n",
       "      <th>DEL456</th>\n",
       "      <th>IT_&amp;_Software_Development</th>\n",
       "      <td>7.0</td>\n",
       "      <td>6.0</td>\n",
       "      <td>25.0</td>\n",
       "      <td>17.0</td>\n",
       "      <td>0.0</td>\n",
       "      <td>17.0</td>\n",
       "      <td>32.0</td>\n",
       "      <td>40.0</td>\n",
       "      <td>0.218750</td>\n",
       "      <td>0.15000</td>\n",
       "      <td>1.458333</td>\n",
       "    </tr>\n",
       "    <tr>\n",
       "      <th>DEL15</th>\n",
       "      <th>IT_&amp;_Software_Development</th>\n",
       "      <td>4.0</td>\n",
       "      <td>13.0</td>\n",
       "      <td>5.0</td>\n",
       "      <td>43.0</td>\n",
       "      <td>4.0</td>\n",
       "      <td>11.0</td>\n",
       "      <td>13.0</td>\n",
       "      <td>67.0</td>\n",
       "      <td>0.307692</td>\n",
       "      <td>0.19403</td>\n",
       "      <td>1.585799</td>\n",
       "    </tr>\n",
       "    <tr>\n",
       "      <th>DEL84</th>\n",
       "      <th>IT_&amp;_Software_Development</th>\n",
       "      <td>12.0</td>\n",
       "      <td>5.0</td>\n",
       "      <td>44.0</td>\n",
       "      <td>43.0</td>\n",
       "      <td>0.0</td>\n",
       "      <td>5.0</td>\n",
       "      <td>56.0</td>\n",
       "      <td>53.0</td>\n",
       "      <td>0.214286</td>\n",
       "      <td>0.09434</td>\n",
       "      <td>2.271429</td>\n",
       "    </tr>\n",
       "  </tbody>\n",
       "</table>\n",
       "</div>"
      ],
      "text/plain": [
       "                                                                           Marked Relevant  \\\n",
       "algo                                                                                 AFTER   \n",
       "fact_recommendation_status_history_user_id dim_req_top_category_calculated                   \n",
       "DEL456                                     IT_&_Software_Development                   7.0   \n",
       "DEL15                                      IT_&_Software_Development                   4.0   \n",
       "DEL84                                      IT_&_Software_Development                  12.0   \n",
       "\n",
       "                                                                                   \\\n",
       "algo                                                                       BEFORE   \n",
       "fact_recommendation_status_history_user_id dim_req_top_category_calculated          \n",
       "DEL456                                     IT_&_Software_Development          6.0   \n",
       "DEL15                                      IT_&_Software_Development         13.0   \n",
       "DEL84                                      IT_&_Software_Development          5.0   \n",
       "\n",
       "                                                                           Dismissed  \\\n",
       "algo                                                                           AFTER   \n",
       "fact_recommendation_status_history_user_id dim_req_top_category_calculated             \n",
       "DEL456                                     IT_&_Software_Development            25.0   \n",
       "DEL15                                      IT_&_Software_Development             5.0   \n",
       "DEL84                                      IT_&_Software_Development            44.0   \n",
       "\n",
       "                                                                                   \\\n",
       "algo                                                                       BEFORE   \n",
       "fact_recommendation_status_history_user_id dim_req_top_category_calculated          \n",
       "DEL456                                     IT_&_Software_Development         17.0   \n",
       "DEL15                                      IT_&_Software_Development         43.0   \n",
       "DEL84                                      IT_&_Software_Development         43.0   \n",
       "\n",
       "                                                                           Review  \\\n",
       "algo                                                                        AFTER   \n",
       "fact_recommendation_status_history_user_id dim_req_top_category_calculated          \n",
       "DEL456                                     IT_&_Software_Development          0.0   \n",
       "DEL15                                      IT_&_Software_Development          4.0   \n",
       "DEL84                                      IT_&_Software_Development          0.0   \n",
       "\n",
       "                                                                                   \\\n",
       "algo                                                                       BEFORE   \n",
       "fact_recommendation_status_history_user_id dim_req_top_category_calculated          \n",
       "DEL456                                     IT_&_Software_Development         17.0   \n",
       "DEL15                                      IT_&_Software_Development         11.0   \n",
       "DEL84                                      IT_&_Software_Development          5.0   \n",
       "\n",
       "                                                                           total  \\\n",
       "algo                                                                       AFTER   \n",
       "fact_recommendation_status_history_user_id dim_req_top_category_calculated         \n",
       "DEL456                                     IT_&_Software_Development        32.0   \n",
       "DEL15                                      IT_&_Software_Development        13.0   \n",
       "DEL84                                      IT_&_Software_Development        56.0   \n",
       "\n",
       "                                                                                   \\\n",
       "algo                                                                       BEFORE   \n",
       "fact_recommendation_status_history_user_id dim_req_top_category_calculated          \n",
       "DEL456                                     IT_&_Software_Development         40.0   \n",
       "DEL15                                      IT_&_Software_Development         67.0   \n",
       "DEL84                                      IT_&_Software_Development         53.0   \n",
       "\n",
       "                                                                                rate  \\\n",
       "algo                                                                           AFTER   \n",
       "fact_recommendation_status_history_user_id dim_req_top_category_calculated             \n",
       "DEL456                                     IT_&_Software_Development        0.218750   \n",
       "DEL15                                      IT_&_Software_Development        0.307692   \n",
       "DEL84                                      IT_&_Software_Development        0.214286   \n",
       "\n",
       "                                                                                     \\\n",
       "algo                                                                         BEFORE   \n",
       "fact_recommendation_status_history_user_id dim_req_top_category_calculated            \n",
       "DEL456                                     IT_&_Software_Development        0.15000   \n",
       "DEL15                                      IT_&_Software_Development        0.19403   \n",
       "DEL84                                      IT_&_Software_Development        0.09434   \n",
       "\n",
       "                                                                               ratio  \n",
       "algo                                                                                  \n",
       "fact_recommendation_status_history_user_id dim_req_top_category_calculated            \n",
       "DEL456                                     IT_&_Software_Development        1.458333  \n",
       "DEL15                                      IT_&_Software_Development        1.585799  \n",
       "DEL84                                      IT_&_Software_Development        2.271429  "
      ]
     },
     "execution_count": 45,
     "metadata": {},
     "output_type": "execute_result"
    }
   ],
   "source": [
    "udf.sort_values('ratio')"
   ]
  },
  {
   "cell_type": "code",
   "execution_count": 46,
   "id": "1e61673a-850e-4580-9c75-e3bf5b11a253",
   "metadata": {
    "tags": []
   },
   "outputs": [
    {
     "data": {
      "text/plain": [
       "count    3.000000\n",
       "mean     1.771854\n",
       "std      0.437314\n",
       "min      1.458333\n",
       "25%      1.522066\n",
       "50%      1.585799\n",
       "75%      1.928614\n",
       "max      2.271429\n",
       "Name: ratio, dtype: float64"
      ]
     },
     "execution_count": 46,
     "metadata": {},
     "output_type": "execute_result"
    }
   ],
   "source": [
    "udf['ratio'].describe()"
   ]
  },
  {
   "cell_type": "code",
   "execution_count": 47,
   "id": "8080d3b0-7793-4b12-b93b-186faf5c0cb1",
   "metadata": {
    "tags": []
   },
   "outputs": [
    {
     "data": {
      "image/png": "[encoded data removed]",
      "text/plain": [
       "<Figure size 640x480 with 1 Axes>"
      ]
     },
     "metadata": {},
     "output_type": "display_data"
    }
   ],
   "source": [
    "_ = plt.boxplot(udf['ratio'].dropna())"
   ]
  },
  {
   "cell_type": "markdown",
   "id": "1e107c42-fc06-45dc-beb3-221703418bf8",
   "metadata": {},
   "source": [
    "# Bootstrap"
   ]
  },
  {
   "cell_type": "code",
   "execution_count": 48,
   "id": "498c76e8-c6f9-4557-8b7c-04dcab2192ee",
   "metadata": {
    "tags": []
   },
   "outputs": [],
   "source": [
    "ratios = []\n",
    "for i in range(1000):\n",
    "    sample_df = new_df.sample(n=len(new_df), replace=True)\n",
    "    sample_gdf = sample_df.groupby(gb).sum()[['Marked Relevant', 'Dismissed', 'Review']]\n",
    "    sample_gdf = sample_gdf[(sample_gdf['Marked Relevant'] > 1) & (sample_gdf['Dismissed'] > 1)]\n",
    "    sample_gdf['total'] = sample_gdf['Marked Relevant'] + sample_gdf['Dismissed'] + sample_gdf['Review']\n",
    "    sample_gdf['rate'] = sample_gdf['Marked Relevant'] / sample_gdf['total']\n",
    "    sample_udf = sample_gdf.unstack().dropna()\n",
    "    sample_udf['ratio'] = (sample_udf[('rate', 'AFTER')] / sample_udf[('rate', 'BEFORE')])\n",
    "    ratios.append(sample_udf['ratio'].mean())"
   ]
  },
  {
   "cell_type": "code",
   "execution_count": 49,
   "id": "aafe2d7b-7099-4f1c-bbae-3a6a896689db",
   "metadata": {
    "tags": []
   },
   "outputs": [
    {
     "name": "stdout",
     "output_type": "stream",
     "text": [
      "Ratio: 2.7363529645417786 [1.12346058 5.37106929]\n"
     ]
    }
   ],
   "source": [
    "print('Ratio:', np.mean(ratios), np.percentile(ratios, [2.5, 97.5]))"
   ]
  },
  {
   "cell_type": "markdown",
   "id": "78e2ad03-2680-443a-8a97-75df4196a83d",
   "metadata": {},
   "source": [
    "# All Accounts"
   ]
  },
  {
   "cell_type": "code",
   "execution_count": 29,
   "id": "3b33cef8-33d6-45fb-8420-c890b0893bd1",
   "metadata": {
    "tags": []
   },
   "outputs": [
    {
     "name": "stderr",
     "output_type": "stream",
     "text": [
      "/var/folders/_p/8_m91crj199_rd7sndkxncc80000gp/T/ipykernel_69381/3353077257.py:18: SettingWithCopyWarning: \n",
      "A value is trying to be set on a copy of a slice from a DataFrame.\n",
      "Try using .loc[row_indexer,col_indexer] = value instead\n",
      "\n",
      "See the caveats in the documentation: https://pandas.pydata.org/pandas-docs/stable/user_guide/indexing.html#returning-a-view-versus-a-copy\n",
      "  calc_df[\n"
     ]
    }
   ],
   "source": [
    "all_df = prepare_df(raw_df)"
   ]
  },
  {
   "cell_type": "code",
   "execution_count": 30,
   "id": "1eef2bdd-8987-42e5-888e-5599a08611de",
   "metadata": {
    "tags": []
   },
   "outputs": [],
   "source": [
    "all_df['total'] = all_df['Dismissed'] + all_df['Marked Relevant'] + all_df['Review']"
   ]
  },
  {
   "cell_type": "code",
   "execution_count": 31,
   "id": "4f0fadf9-e7d2-487f-9236-973df796c2d5",
   "metadata": {
    "tags": []
   },
   "outputs": [
    {
     "data": {
      "text/html": [
       "<div>\n",
       "<style scoped>\n",
       "    .dataframe tbody tr th:only-of-type {\n",
       "        vertical-align: middle;\n",
       "    }\n",
       "\n",
       "    .dataframe tbody tr th {\n",
       "        vertical-align: top;\n",
       "    }\n",
       "\n",
       "    .dataframe thead th {\n",
       "        text-align: right;\n",
       "    }\n",
       "</style>\n",
       "<table border=\"1\" class=\"dataframe\">\n",
       "  <thead>\n",
       "    <tr style=\"text-align: right;\">\n",
       "      <th></th>\n",
       "      <th>pair_id</th>\n",
       "      <th>bucket_code</th>\n",
       "      <th>fetch_recommendation_activity_req_id</th>\n",
       "      <th>fetch_recommendation_activity_talent_id</th>\n",
       "      <th>fetch_recommendation_activity_customer</th>\n",
       "      <th>fact_recommendation_status_history_user_id</th>\n",
       "      <th>Date</th>\n",
       "      <th>Period M</th>\n",
       "      <th>Period W</th>\n",
       "      <th>Period 2W</th>\n",
       "      <th>dim_req_top_category_calculated</th>\n",
       "      <th>dim_req_required_seniority_level</th>\n",
       "      <th>Max Status Bucket</th>\n",
       "      <th>Dismissed</th>\n",
       "      <th>Marked Relevant</th>\n",
       "      <th>Review</th>\n",
       "      <th>Account Name</th>\n",
       "      <th>Industry</th>\n",
       "      <th>total</th>\n",
       "    </tr>\n",
       "  </thead>\n",
       "  <tbody>\n",
       "    <tr>\n",
       "      <th>0</th>\n",
       "      <td>AAL68787_897192c2-4c15-4e04-a330-d3b1afa688c4</td>\n",
       "      <td>2</td>\n",
       "      <td>AAL68787</td>\n",
       "      <td>897192c2-4c15-4e04-a330-d3b1afa688c4</td>\n",
       "      <td>atlanta</td>\n",
       "      <td>AAL-6b7dc015-648c-4ff9-9530-4b0c6876637f-16905...</td>\n",
       "      <td>2023-09-21</td>\n",
       "      <td>2023-09</td>\n",
       "      <td>2023-09-18/2023-09-24</td>\n",
       "      <td>2023-09-18/2023-09-24</td>\n",
       "      <td>Administrative</td>\n",
       "      <td>entry_level</td>\n",
       "      <td>Review</td>\n",
       "      <td>0</td>\n",
       "      <td>0</td>\n",
       "      <td>1</td>\n",
       "      <td>atlanta</td>\n",
       "      <td>Airlines</td>\n",
       "      <td>1</td>\n",
       "    </tr>\n",
       "    <tr>\n",
       "      <th>1</th>\n",
       "      <td>AAL69166_0c9a7e65-f386-47d8-81e0-f792130eac3b</td>\n",
       "      <td>2</td>\n",
       "      <td>AAL69166</td>\n",
       "      <td>0c9a7e65-f386-47d8-81e0-f792130eac3b</td>\n",
       "      <td>atlanta</td>\n",
       "      <td>AAL-ac72b218-0ea6-40fc-bfd8-5225e2b0c76d-16956...</td>\n",
       "      <td>2023-09-25</td>\n",
       "      <td>2023-09</td>\n",
       "      <td>2023-09-25/2023-10-01</td>\n",
       "      <td>2023-09-25/2023-10-01</td>\n",
       "      <td>Editorial_&amp;_Content</td>\n",
       "      <td>junior</td>\n",
       "      <td>Review</td>\n",
       "      <td>0</td>\n",
       "      <td>0</td>\n",
       "      <td>1</td>\n",
       "      <td>atlanta</td>\n",
       "      <td>Airlines</td>\n",
       "      <td>1</td>\n",
       "    </tr>\n",
       "    <tr>\n",
       "      <th>2</th>\n",
       "      <td>AAL69166_4340cbb1-f120-4699-825e-d15aa7302812</td>\n",
       "      <td>2</td>\n",
       "      <td>AAL69166</td>\n",
       "      <td>4340cbb1-f120-4699-825e-d15aa7302812</td>\n",
       "      <td>atlanta</td>\n",
       "      <td>AAL-ac72b218-0ea6-40fc-bfd8-5225e2b0c76d-16956...</td>\n",
       "      <td>2023-09-25</td>\n",
       "      <td>2023-09</td>\n",
       "      <td>2023-09-25/2023-10-01</td>\n",
       "      <td>2023-09-25/2023-10-01</td>\n",
       "      <td>Editorial_&amp;_Content</td>\n",
       "      <td>junior</td>\n",
       "      <td>Review</td>\n",
       "      <td>0</td>\n",
       "      <td>0</td>\n",
       "      <td>1</td>\n",
       "      <td>atlanta</td>\n",
       "      <td>Airlines</td>\n",
       "      <td>1</td>\n",
       "    </tr>\n",
       "    <tr>\n",
       "      <th>3</th>\n",
       "      <td>AAL69166_8153921d-4ddb-4ca2-9ed2-715455bf0643</td>\n",
       "      <td>2</td>\n",
       "      <td>AAL69166</td>\n",
       "      <td>8153921d-4ddb-4ca2-9ed2-715455bf0643</td>\n",
       "      <td>atlanta</td>\n",
       "      <td>AAL-ac72b218-0ea6-40fc-bfd8-5225e2b0c76d-16956...</td>\n",
       "      <td>2023-09-25</td>\n",
       "      <td>2023-09</td>\n",
       "      <td>2023-09-25/2023-10-01</td>\n",
       "      <td>2023-09-25/2023-10-01</td>\n",
       "      <td>Editorial_&amp;_Content</td>\n",
       "      <td>junior</td>\n",
       "      <td>Review</td>\n",
       "      <td>0</td>\n",
       "      <td>0</td>\n",
       "      <td>1</td>\n",
       "      <td>atlanta</td>\n",
       "      <td>Airlines</td>\n",
       "      <td>1</td>\n",
       "    </tr>\n",
       "    <tr>\n",
       "      <th>4</th>\n",
       "      <td>AAL69166_ab4ab8b8-d8ea-4c9d-a87f-cca462084e64</td>\n",
       "      <td>2</td>\n",
       "      <td>AAL69166</td>\n",
       "      <td>ab4ab8b8-d8ea-4c9d-a87f-cca462084e64</td>\n",
       "      <td>atlanta</td>\n",
       "      <td>AAL-ac72b218-0ea6-40fc-bfd8-5225e2b0c76d-16956...</td>\n",
       "      <td>2023-09-25</td>\n",
       "      <td>2023-09</td>\n",
       "      <td>2023-09-25/2023-10-01</td>\n",
       "      <td>2023-09-25/2023-10-01</td>\n",
       "      <td>Editorial_&amp;_Content</td>\n",
       "      <td>junior</td>\n",
       "      <td>Review</td>\n",
       "      <td>0</td>\n",
       "      <td>0</td>\n",
       "      <td>1</td>\n",
       "      <td>atlanta</td>\n",
       "      <td>Airlines</td>\n",
       "      <td>1</td>\n",
       "    </tr>\n",
       "  </tbody>\n",
       "</table>\n",
       "</div>"
      ],
      "text/plain": [
       "                                         pair_id  bucket_code  \\\n",
       "0  AAL68787_897192c2-4c15-4e04-a330-d3b1afa688c4            2   \n",
       "1  AAL69166_0c9a7e65-f386-47d8-81e0-f792130eac3b            2   \n",
       "2  AAL69166_4340cbb1-f120-4699-825e-d15aa7302812            2   \n",
       "3  AAL69166_8153921d-4ddb-4ca2-9ed2-715455bf0643            2   \n",
       "4  AAL69166_ab4ab8b8-d8ea-4c9d-a87f-cca462084e64            2   \n",
       "\n",
       "  fetch_recommendation_activity_req_id  \\\n",
       "0                             AAL68787   \n",
       "1                             AAL69166   \n",
       "2                             AAL69166   \n",
       "3                             AAL69166   \n",
       "4                             AAL69166   \n",
       "\n",
       "  fetch_recommendation_activity_talent_id  \\\n",
       "0    897192c2-4c15-4e04-a330-d3b1afa688c4   \n",
       "1    0c9a7e65-f386-47d8-81e0-f792130eac3b   \n",
       "2    4340cbb1-f120-4699-825e-d15aa7302812   \n",
       "3    8153921d-4ddb-4ca2-9ed2-715455bf0643   \n",
       "4    ab4ab8b8-d8ea-4c9d-a87f-cca462084e64   \n",
       "\n",
       "  fetch_recommendation_activity_customer  \\\n",
       "0                                atlanta   \n",
       "1                                atlanta   \n",
       "2                                atlanta   \n",
       "3                                atlanta   \n",
       "4                                atlanta   \n",
       "\n",
       "          fact_recommendation_status_history_user_id       Date Period M  \\\n",
       "0  AAL-6b7dc015-648c-4ff9-9530-4b0c6876637f-16905... 2023-09-21  2023-09   \n",
       "1  AAL-ac72b218-0ea6-40fc-bfd8-5225e2b0c76d-16956... 2023-09-25  2023-09   \n",
       "2  AAL-ac72b218-0ea6-40fc-bfd8-5225e2b0c76d-16956... 2023-09-25  2023-09   \n",
       "3  AAL-ac72b218-0ea6-40fc-bfd8-5225e2b0c76d-16956... 2023-09-25  2023-09   \n",
       "4  AAL-ac72b218-0ea6-40fc-bfd8-5225e2b0c76d-16956... 2023-09-25  2023-09   \n",
       "\n",
       "                Period W              Period 2W  \\\n",
       "0  2023-09-18/2023-09-24  2023-09-18/2023-09-24   \n",
       "1  2023-09-25/2023-10-01  2023-09-25/2023-10-01   \n",
       "2  2023-09-25/2023-10-01  2023-09-25/2023-10-01   \n",
       "3  2023-09-25/2023-10-01  2023-09-25/2023-10-01   \n",
       "4  2023-09-25/2023-10-01  2023-09-25/2023-10-01   \n",
       "\n",
       "  dim_req_top_category_calculated dim_req_required_seniority_level  \\\n",
       "0                  Administrative                      entry_level   \n",
       "1             Editorial_&_Content                           junior   \n",
       "2             Editorial_&_Content                           junior   \n",
       "3             Editorial_&_Content                           junior   \n",
       "4             Editorial_&_Content                           junior   \n",
       "\n",
       "  Max Status Bucket  Dismissed  Marked Relevant  Review Account Name  \\\n",
       "0            Review          0                0       1      atlanta   \n",
       "1            Review          0                0       1      atlanta   \n",
       "2            Review          0                0       1      atlanta   \n",
       "3            Review          0                0       1      atlanta   \n",
       "4            Review          0                0       1      atlanta   \n",
       "\n",
       "   Industry  total  \n",
       "0  Airlines      1  \n",
       "1  Airlines      1  \n",
       "2  Airlines      1  \n",
       "3  Airlines      1  \n",
       "4  Airlines      1  "
      ]
     },
     "execution_count": 31,
     "metadata": {},
     "output_type": "execute_result"
    }
   ],
   "source": [
    "all_df.head()"
   ]
  },
  {
   "cell_type": "code",
   "execution_count": 32,
   "id": "b85c70bc-ed47-4ca3-bb78-caf84b37f70f",
   "metadata": {
    "tags": []
   },
   "outputs": [
    {
     "data": {
      "text/html": [
       "<div>\n",
       "<style scoped>\n",
       "    .dataframe tbody tr th:only-of-type {\n",
       "        vertical-align: middle;\n",
       "    }\n",
       "\n",
       "    .dataframe tbody tr th {\n",
       "        vertical-align: top;\n",
       "    }\n",
       "\n",
       "    .dataframe thead th {\n",
       "        text-align: right;\n",
       "    }\n",
       "</style>\n",
       "<table border=\"1\" class=\"dataframe\">\n",
       "  <thead>\n",
       "    <tr style=\"text-align: right;\">\n",
       "      <th></th>\n",
       "      <th>total</th>\n",
       "    </tr>\n",
       "    <tr>\n",
       "      <th>fetch_recommendation_activity_customer</th>\n",
       "      <th></th>\n",
       "    </tr>\n",
       "  </thead>\n",
       "  <tbody>\n",
       "    <tr>\n",
       "      <th>ebina</th>\n",
       "      <td>2.000000</td>\n",
       "    </tr>\n",
       "    <tr>\n",
       "      <th>atlanta</th>\n",
       "      <td>4.470588</td>\n",
       "    </tr>\n",
       "    <tr>\n",
       "      <th>verona</th>\n",
       "      <td>4.900000</td>\n",
       "    </tr>\n",
       "    <tr>\n",
       "      <th>hawaii</th>\n",
       "      <td>6.615385</td>\n",
       "    </tr>\n",
       "    <tr>\n",
       "      <th>zagreb</th>\n",
       "      <td>6.846154</td>\n",
       "    </tr>\n",
       "    <tr>\n",
       "      <th>busan</th>\n",
       "      <td>8.933333</td>\n",
       "    </tr>\n",
       "    <tr>\n",
       "      <th>sofia</th>\n",
       "      <td>9.100000</td>\n",
       "    </tr>\n",
       "    <tr>\n",
       "      <th>napa</th>\n",
       "      <td>9.750000</td>\n",
       "    </tr>\n",
       "    <tr>\n",
       "      <th>donegal</th>\n",
       "      <td>11.238095</td>\n",
       "    </tr>\n",
       "    <tr>\n",
       "      <th>ibiza_smartrecruiters</th>\n",
       "      <td>11.538462</td>\n",
       "    </tr>\n",
       "    <tr>\n",
       "      <th>antwerp</th>\n",
       "      <td>12.272727</td>\n",
       "    </tr>\n",
       "    <tr>\n",
       "      <th>awasa</th>\n",
       "      <td>16.000000</td>\n",
       "    </tr>\n",
       "    <tr>\n",
       "      <th>delhi</th>\n",
       "      <td>17.666667</td>\n",
       "    </tr>\n",
       "    <tr>\n",
       "      <th>izmir</th>\n",
       "      <td>19.166667</td>\n",
       "    </tr>\n",
       "    <tr>\n",
       "      <th>austin_orc</th>\n",
       "      <td>21.727273</td>\n",
       "    </tr>\n",
       "    <tr>\n",
       "      <th>siena</th>\n",
       "      <td>24.772727</td>\n",
       "    </tr>\n",
       "    <tr>\n",
       "      <th>cairo</th>\n",
       "      <td>29.571429</td>\n",
       "    </tr>\n",
       "    <tr>\n",
       "      <th>exeter</th>\n",
       "      <td>31.391304</td>\n",
       "    </tr>\n",
       "    <tr>\n",
       "      <th>santiago</th>\n",
       "      <td>33.695652</td>\n",
       "    </tr>\n",
       "    <tr>\n",
       "      <th>nashville</th>\n",
       "      <td>36.000000</td>\n",
       "    </tr>\n",
       "    <tr>\n",
       "      <th>essex</th>\n",
       "      <td>37.416667</td>\n",
       "    </tr>\n",
       "    <tr>\n",
       "      <th>aden</th>\n",
       "      <td>43.850000</td>\n",
       "    </tr>\n",
       "    <tr>\n",
       "      <th>alabama</th>\n",
       "      <td>45.136364</td>\n",
       "    </tr>\n",
       "    <tr>\n",
       "      <th>brooklyn</th>\n",
       "      <td>47.608696</td>\n",
       "    </tr>\n",
       "    <tr>\n",
       "      <th>lima</th>\n",
       "      <td>51.521739</td>\n",
       "    </tr>\n",
       "    <tr>\n",
       "      <th>berlin</th>\n",
       "      <td>52.952381</td>\n",
       "    </tr>\n",
       "    <tr>\n",
       "      <th>philly</th>\n",
       "      <td>53.307692</td>\n",
       "    </tr>\n",
       "    <tr>\n",
       "      <th>colorado</th>\n",
       "      <td>53.666667</td>\n",
       "    </tr>\n",
       "    <tr>\n",
       "      <th>amman</th>\n",
       "      <td>59.772727</td>\n",
       "    </tr>\n",
       "    <tr>\n",
       "      <th>utah</th>\n",
       "      <td>60.000000</td>\n",
       "    </tr>\n",
       "    <tr>\n",
       "      <th>nairobi</th>\n",
       "      <td>61.523810</td>\n",
       "    </tr>\n",
       "    <tr>\n",
       "      <th>denver_wd</th>\n",
       "      <td>67.000000</td>\n",
       "    </tr>\n",
       "    <tr>\n",
       "      <th>seoul</th>\n",
       "      <td>69.272727</td>\n",
       "    </tr>\n",
       "    <tr>\n",
       "      <th>detroit_avature</th>\n",
       "      <td>95.565217</td>\n",
       "    </tr>\n",
       "    <tr>\n",
       "      <th>modesto</th>\n",
       "      <td>103.285714</td>\n",
       "    </tr>\n",
       "    <tr>\n",
       "      <th>paris</th>\n",
       "      <td>109.958333</td>\n",
       "    </tr>\n",
       "    <tr>\n",
       "      <th>jamaica</th>\n",
       "      <td>116.041667</td>\n",
       "    </tr>\n",
       "    <tr>\n",
       "      <th>antigua_wd</th>\n",
       "      <td>118.695652</td>\n",
       "    </tr>\n",
       "    <tr>\n",
       "      <th>caracas</th>\n",
       "      <td>138.347826</td>\n",
       "    </tr>\n",
       "    <tr>\n",
       "      <th>genoa</th>\n",
       "      <td>138.600000</td>\n",
       "    </tr>\n",
       "    <tr>\n",
       "      <th>dublin</th>\n",
       "      <td>150.041667</td>\n",
       "    </tr>\n",
       "    <tr>\n",
       "      <th>cancun</th>\n",
       "      <td>176.458333</td>\n",
       "    </tr>\n",
       "    <tr>\n",
       "      <th>arizona_wd</th>\n",
       "      <td>213.375000</td>\n",
       "    </tr>\n",
       "    <tr>\n",
       "      <th>dallas</th>\n",
       "      <td>215.291667</td>\n",
       "    </tr>\n",
       "    <tr>\n",
       "      <th>tampa</th>\n",
       "      <td>237.833333</td>\n",
       "    </tr>\n",
       "    <tr>\n",
       "      <th>indiana</th>\n",
       "      <td>254.333333</td>\n",
       "    </tr>\n",
       "    <tr>\n",
       "      <th>bogota</th>\n",
       "      <td>267.304348</td>\n",
       "    </tr>\n",
       "    <tr>\n",
       "      <th>moscow</th>\n",
       "      <td>333.708333</td>\n",
       "    </tr>\n",
       "    <tr>\n",
       "      <th>seattle</th>\n",
       "      <td>338.416667</td>\n",
       "    </tr>\n",
       "    <tr>\n",
       "      <th>athens</th>\n",
       "      <td>397.041667</td>\n",
       "    </tr>\n",
       "    <tr>\n",
       "      <th>oxford</th>\n",
       "      <td>480.055556</td>\n",
       "    </tr>\n",
       "    <tr>\n",
       "      <th>porto</th>\n",
       "      <td>845.375000</td>\n",
       "    </tr>\n",
       "    <tr>\n",
       "      <th>jaipur</th>\n",
       "      <td>887.208333</td>\n",
       "    </tr>\n",
       "    <tr>\n",
       "      <th>antalya</th>\n",
       "      <td>1380.708333</td>\n",
       "    </tr>\n",
       "  </tbody>\n",
       "</table>\n",
       "</div>"
      ],
      "text/plain": [
       "                                              total\n",
       "fetch_recommendation_activity_customer             \n",
       "ebina                                      2.000000\n",
       "atlanta                                    4.470588\n",
       "verona                                     4.900000\n",
       "hawaii                                     6.615385\n",
       "zagreb                                     6.846154\n",
       "busan                                      8.933333\n",
       "sofia                                      9.100000\n",
       "napa                                       9.750000\n",
       "donegal                                   11.238095\n",
       "ibiza_smartrecruiters                     11.538462\n",
       "antwerp                                   12.272727\n",
       "awasa                                     16.000000\n",
       "delhi                                     17.666667\n",
       "izmir                                     19.166667\n",
       "austin_orc                                21.727273\n",
       "siena                                     24.772727\n",
       "cairo                                     29.571429\n",
       "exeter                                    31.391304\n",
       "santiago                                  33.695652\n",
       "nashville                                 36.000000\n",
       "essex                                     37.416667\n",
       "aden                                      43.850000\n",
       "alabama                                   45.136364\n",
       "brooklyn                                  47.608696\n",
       "lima                                      51.521739\n",
       "berlin                                    52.952381\n",
       "philly                                    53.307692\n",
       "colorado                                  53.666667\n",
       "amman                                     59.772727\n",
       "utah                                      60.000000\n",
       "nairobi                                   61.523810\n",
       "denver_wd                                 67.000000\n",
       "seoul                                     69.272727\n",
       "detroit_avature                           95.565217\n",
       "modesto                                  103.285714\n",
       "paris                                    109.958333\n",
       "jamaica                                  116.041667\n",
       "antigua_wd                               118.695652\n",
       "caracas                                  138.347826\n",
       "genoa                                    138.600000\n",
       "dublin                                   150.041667\n",
       "cancun                                   176.458333\n",
       "arizona_wd                               213.375000\n",
       "dallas                                   215.291667\n",
       "tampa                                    237.833333\n",
       "indiana                                  254.333333\n",
       "bogota                                   267.304348\n",
       "moscow                                   333.708333\n",
       "seattle                                  338.416667\n",
       "athens                                   397.041667\n",
       "oxford                                   480.055556\n",
       "porto                                    845.375000\n",
       "jaipur                                   887.208333\n",
       "antalya                                 1380.708333"
      ]
     },
     "execution_count": 32,
     "metadata": {},
     "output_type": "execute_result"
    }
   ],
   "source": [
    "all_df.groupby(['fetch_recommendation_activity_customer', 'Period W'])[['total']].sum().reset_index().groupby('fetch_recommendation_activity_customer').mean().sort_values('total')"
   ]
  },
  {
   "cell_type": "code",
   "execution_count": 33,
   "id": "7a3d3c5b-a90e-4754-b32b-8e1a761264b5",
   "metadata": {
    "tags": []
   },
   "outputs": [
    {
     "data": {
      "text/plain": [
       "fetch_recommendation_activity_customer\n",
       "ebina                        2.0\n",
       "verona                      49.0\n",
       "delhi                       53.0\n",
       "atlanta                     76.0\n",
       "napa                        78.0\n",
       "hawaii                      86.0\n",
       "zagreb                      89.0\n",
       "sofia                       91.0\n",
       "busan                      134.0\n",
       "ibiza_smartrecruiters      150.0\n",
       "cairo                      207.0\n",
       "izmir                      230.0\n",
       "donegal                    236.0\n",
       "antwerp                    270.0\n",
       "awasa                      304.0\n",
       "nashville                  468.0\n",
       "austin_orc                 478.0\n",
       "siena                      545.0\n",
       "philly                     693.0\n",
       "exeter                     722.0\n",
       "santiago                   775.0\n",
       "aden                       877.0\n",
       "essex                      898.0\n",
       "alabama                    993.0\n",
       "brooklyn                  1095.0\n",
       "berlin                    1112.0\n",
       "lima                      1185.0\n",
       "colorado                  1288.0\n",
       "nairobi                   1292.0\n",
       "amman                     1315.0\n",
       "utah                      1380.0\n",
       "modesto                   1446.0\n",
       "seoul                     1524.0\n",
       "denver_wd                 1608.0\n",
       "detroit_avature           2198.0\n",
       "paris                     2639.0\n",
       "antigua_wd                2730.0\n",
       "jamaica                   2785.0\n",
       "caracas                   3182.0\n",
       "genoa                     3465.0\n",
       "dublin                    3601.0\n",
       "cancun                    4235.0\n",
       "arizona_wd                5121.0\n",
       "dallas                    5167.0\n",
       "tampa                     5708.0\n",
       "indiana                   6104.0\n",
       "bogota                    6148.0\n",
       "moscow                    8009.0\n",
       "seattle                   8122.0\n",
       "oxford                    8641.0\n",
       "athens                    9529.0\n",
       "porto                    20289.0\n",
       "jaipur                   21293.0\n",
       "antalya                  33137.0\n",
       "Name: total, dtype: float64"
      ]
     },
     "execution_count": 33,
     "metadata": {},
     "output_type": "execute_result"
    }
   ],
   "source": [
    "all_df.groupby(['fetch_recommendation_activity_customer'])['total'].sum().sort_values()"
   ]
  },
  {
   "cell_type": "code",
   "execution_count": 34,
   "id": "e8d51a8f-bb8d-411a-9f87-190cf2ebc364",
   "metadata": {
    "tags": []
   },
   "outputs": [
    {
     "name": "stderr",
     "output_type": "stream",
     "text": [
      "/var/folders/_p/8_m91crj199_rd7sndkxncc80000gp/T/ipykernel_69381/2695405306.py:1: FutureWarning: ['Period W'] did not aggregate successfully. If any error is raised this will raise in a future version of pandas. Drop these columns/ops to avoid this warning.\n",
      "  x = all_df.groupby(['fetch_recommendation_activity_customer', 'Period W'])[['total']].sum().reset_index().groupby('fetch_recommendation_activity_customer').agg(['mean', 'std']).reset_index()\n"
     ]
    }
   ],
   "source": [
    "x = all_df.groupby(['fetch_recommendation_activity_customer', 'Period W'])[['total']].sum().reset_index().groupby('fetch_recommendation_activity_customer').agg(['mean', 'std']).reset_index()"
   ]
  },
  {
   "cell_type": "code",
   "execution_count": 35,
   "id": "32e2c302-46ea-402d-8769-4ed5f4598118",
   "metadata": {
    "tags": []
   },
   "outputs": [],
   "source": [
    "accounts = [\n",
    "'antalya',\n",
    "'porto',\n",
    "'athens',\n",
    "'moscow',\n",
    "'seattle',\n",
    "'cancun',\n",
    "'indiana',\n",
    "'arizona_wd',\n",
    "    'oxford'\n",
    "]"
   ]
  },
  {
   "cell_type": "code",
   "execution_count": 36,
   "id": "0c8f7af3-2927-49e5-a8bb-932784756cee",
   "metadata": {
    "tags": []
   },
   "outputs": [
    {
     "data": {
      "text/html": [
       "<div>\n",
       "<style scoped>\n",
       "    .dataframe tbody tr th:only-of-type {\n",
       "        vertical-align: middle;\n",
       "    }\n",
       "\n",
       "    .dataframe tbody tr th {\n",
       "        vertical-align: top;\n",
       "    }\n",
       "\n",
       "    .dataframe thead tr th {\n",
       "        text-align: left;\n",
       "    }\n",
       "</style>\n",
       "<table border=\"1\" class=\"dataframe\">\n",
       "  <thead>\n",
       "    <tr>\n",
       "      <th></th>\n",
       "      <th>fetch_recommendation_activity_customer</th>\n",
       "      <th colspan=\"2\" halign=\"left\">total</th>\n",
       "    </tr>\n",
       "    <tr>\n",
       "      <th></th>\n",
       "      <th></th>\n",
       "      <th>mean</th>\n",
       "      <th>std</th>\n",
       "    </tr>\n",
       "  </thead>\n",
       "  <tbody>\n",
       "    <tr>\n",
       "      <th>3</th>\n",
       "      <td>antalya</td>\n",
       "      <td>1380.708333</td>\n",
       "      <td>641.831922</td>\n",
       "    </tr>\n",
       "    <tr>\n",
       "      <th>6</th>\n",
       "      <td>arizona_wd</td>\n",
       "      <td>213.375000</td>\n",
       "      <td>112.710793</td>\n",
       "    </tr>\n",
       "    <tr>\n",
       "      <th>7</th>\n",
       "      <td>athens</td>\n",
       "      <td>397.041667</td>\n",
       "      <td>212.443646</td>\n",
       "    </tr>\n",
       "    <tr>\n",
       "      <th>16</th>\n",
       "      <td>cancun</td>\n",
       "      <td>176.458333</td>\n",
       "      <td>128.468226</td>\n",
       "    </tr>\n",
       "    <tr>\n",
       "      <th>31</th>\n",
       "      <td>indiana</td>\n",
       "      <td>254.333333</td>\n",
       "      <td>94.087687</td>\n",
       "    </tr>\n",
       "    <tr>\n",
       "      <th>37</th>\n",
       "      <td>moscow</td>\n",
       "      <td>333.708333</td>\n",
       "      <td>182.337594</td>\n",
       "    </tr>\n",
       "    <tr>\n",
       "      <th>41</th>\n",
       "      <td>oxford</td>\n",
       "      <td>480.055556</td>\n",
       "      <td>362.251208</td>\n",
       "    </tr>\n",
       "    <tr>\n",
       "      <th>44</th>\n",
       "      <td>porto</td>\n",
       "      <td>845.375000</td>\n",
       "      <td>476.786053</td>\n",
       "    </tr>\n",
       "    <tr>\n",
       "      <th>46</th>\n",
       "      <td>seattle</td>\n",
       "      <td>338.416667</td>\n",
       "      <td>226.570445</td>\n",
       "    </tr>\n",
       "  </tbody>\n",
       "</table>\n",
       "</div>"
      ],
      "text/plain": [
       "   fetch_recommendation_activity_customer        total            \n",
       "                                                  mean         std\n",
       "3                                 antalya  1380.708333  641.831922\n",
       "6                              arizona_wd   213.375000  112.710793\n",
       "7                                  athens   397.041667  212.443646\n",
       "16                                 cancun   176.458333  128.468226\n",
       "31                                indiana   254.333333   94.087687\n",
       "37                                 moscow   333.708333  182.337594\n",
       "41                                 oxford   480.055556  362.251208\n",
       "44                                  porto   845.375000  476.786053\n",
       "46                                seattle   338.416667  226.570445"
      ]
     },
     "execution_count": 36,
     "metadata": {},
     "output_type": "execute_result"
    }
   ],
   "source": [
    "x[x['fetch_recommendation_activity_customer'].isin(accounts)]"
   ]
  },
  {
   "cell_type": "code",
   "execution_count": null,
   "id": "b18d95fe-669f-4199-ad34-4970a505a618",
   "metadata": {},
   "outputs": [],
   "source": []
  }
 ],
 "metadata": {
  "kernelspec": {
   "display_name": "Python 3 (ipykernel)",
   "language": "python",
   "name": "python3"
  },
  "language_info": {
   "codemirror_mode": {
    "name": "ipython",
    "version": 3
   },
   "file_extension": ".py",
   "mimetype": "text/x-python",
   "name": "python",
   "nbconvert_exporter": "python",
   "pygments_lexer": "ipython3",
   "version": "3.9.5"
  }
 },
 "nbformat": 4,
 "nbformat_minor": 5
}
