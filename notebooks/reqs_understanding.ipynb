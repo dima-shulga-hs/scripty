{
 "cells": [
  {
   "cell_type": "code",
   "execution_count": 48,
   "id": "5e38fc60-3082-4ee7-b52b-aa0d671a40fb",
   "metadata": {
    "tags": []
   },
   "outputs": [],
   "source": [
    "import random as rn\n",
    "import pickle\n",
    "from datetime import datetime\n",
    "import pandas as pd\n",
    "from hs_gimme.db_facade.db_facade_factory import get_mongo_client_db\n",
    "from hs_tree_blenders_creation.batch_runners.data_sets import get_account_test_set, get_account_train_set\n",
    "from hs_gimme.application_status_history_classifier.machine_learning_status_classifier import \\\n",
    "    get_machine_learning_status_classifier\n",
    "from tqdm import tqdm\n",
    "from collections import defaultdict\n",
    "import matplotlib.pyplot as plt\n",
    "import matplotlib.dates as mdates\n",
    "import seaborn as sb\n",
    "from datetime import timedelta\n",
    "import copy\n",
    "from collections import Counter\n",
    "from sklearn.linear_model import LogisticRegression"
   ]
  },
  {
   "cell_type": "code",
   "execution_count": 2,
   "id": "c5538fdf-59d0-478e-a308-677edafa69ee",
   "metadata": {
    "tags": []
   },
   "outputs": [],
   "source": [
    "ENV = 'production'\n",
    "ACCOUNT = 'dallas'"
   ]
  },
  {
   "cell_type": "code",
   "execution_count": 3,
   "id": "15e41f22-f129-479f-bfa9-e6f28d7a85be",
   "metadata": {
    "tags": []
   },
   "outputs": [
    {
     "name": "stdout",
     "output_type": "stream",
     "text": [
      "\u001b[2m2024-03-05T15:34:20.229719Z\u001b[0m [\u001b[32m\u001b[1minfo     \u001b[0m] \u001b[1mMongos instances selected     \u001b[0m \u001b[36menvironment\u001b[0m=\u001b[35mlocal\u001b[0m \u001b[36mfile_path\u001b[0m=\u001b[35m/Users/dima/hiredscore/gimme/hs_gimme/db_facade/connection_string_builder.py\u001b[0m \u001b[36mfunction_name\u001b[0m=\u001b[35mget_selected_mongos_instances\u001b[0m \u001b[36mhostname\u001b[0m=\u001b[35mDima-Shulga-MacBook-Pro\u001b[0m \u001b[36mhosts\u001b[0m=\u001b[35m['applicativedb-prod-mongos-5.omcomcom.com', 'applicativedb-prod-mongos-1.omcomcom.com']\u001b[0m \u001b[36mline_number\u001b[0m=\u001b[35m38\u001b[0m \u001b[36mmodule\u001b[0m=\u001b[35mhs_gimme.db_facade.connection_string_builder\u001b[0m \u001b[36mpid\u001b[0m=\u001b[35m11214\u001b[0m\n"
     ]
    }
   ],
   "source": [
    "mongo = gmcdb(ENV, ACCOUNT)"
   ]
  },
  {
   "cell_type": "code",
   "execution_count": 4,
   "id": "775a8bd7-74b6-4c0b-adb7-bfb487861331",
   "metadata": {
    "tags": []
   },
   "outputs": [],
   "source": [
    "status_cls = get_machine_learning_status_classifier(ENV, ACCOUNT)"
   ]
  },
  {
   "cell_type": "code",
   "execution_count": 5,
   "id": "16c83d10-f230-4a04-8fe0-28d8a1b01697",
   "metadata": {
    "tags": []
   },
   "outputs": [],
   "source": [
    "req_fields =  ['job_department',\n",
    "              'country',\n",
    "               'external_job_band',\n",
    "               'external_recruiters',\n",
    "               'top_category',\n",
    "               'sub_category',\n",
    "               'job_education',\n",
    "               'seniority_level',\n",
    "               'min_years_of_relevant_experience',\n",
    "               'max_years_of_relevant_experience',\n",
    "               'max_salary',\n",
    "               'job_type',\n",
    "               'is_visa_required',\n",
    "               'is_remote_location', \n",
    "               'external_status',\n",
    "               'industry',\n",
    "               'open_date',\n",
    "               'past_candidates_distribution_date',\n",
    "               'is_recent_grad', \n",
    "               'is_intern',\n",
    "               '_created_at',\n",
    "               'date_posted',\n",
    "               'job_create_date',\n",
    "               'last_edit_date',\n",
    "               'status_history',\n",
    "               'recruiter_roles',\n",
    "               'recruiting_type']"
   ]
  },
  {
   "cell_type": "code",
   "execution_count": 6,
   "id": "ae546727-8fca-4864-87bc-f9abc873321a",
   "metadata": {
    "tags": []
   },
   "outputs": [],
   "source": [
    "reference_date = datetime(2023, 11, 1)"
   ]
  },
  {
   "cell_type": "code",
   "execution_count": 7,
   "id": "e975bf83-9d4f-4e01-96b5-b3af0fce4d63",
   "metadata": {
    "tags": []
   },
   "outputs": [
    {
     "data": {
      "text/plain": [
       "139"
      ]
     },
     "execution_count": 7,
     "metadata": {},
     "output_type": "execute_result"
    }
   ],
   "source": [
    "reqs = list(mongo.req.find({'_created_at': {'$gt': reference_date}, 'date_posted': \n",
    "                            {'$gt': reference_date}, 'external_status': 'Filled'\n",
    "                           }, req_fields))\n",
    "len(reqs)"
   ]
  },
  {
   "cell_type": "code",
   "execution_count": 8,
   "id": "5152949b-bc4f-4a2d-a254-247d42bfe8e8",
   "metadata": {
    "tags": []
   },
   "outputs": [],
   "source": [
    "for r in reqs: \n",
    "    r['time_to_fill'] = (r['status_history']['Filled'][0] - r['status_history']['Post'][0]).days"
   ]
  },
  {
   "cell_type": "code",
   "execution_count": 9,
   "id": "45233d66-7688-4238-aded-d7440c17ccae",
   "metadata": {
    "tags": []
   },
   "outputs": [],
   "source": [
    "req_ids = [r['_id'] for r in reqs]"
   ]
  },
  {
   "cell_type": "code",
   "execution_count": 10,
   "id": "96db0322-4fbe-436f-a313-4431d8fb1ccf",
   "metadata": {
    "tags": []
   },
   "outputs": [],
   "source": [
    "app_fields = ['req_id', 'ats_application', 'is_internal', 'grade_data.explainable_score_data']"
   ]
  },
  {
   "cell_type": "code",
   "execution_count": 11,
   "id": "a50a89ef-81dd-4c40-8ac8-54778ea3198f",
   "metadata": {
    "tags": []
   },
   "outputs": [
    {
     "data": {
      "text/plain": [
       "10050"
      ]
     },
     "execution_count": 11,
     "metadata": {},
     "output_type": "execute_result"
    }
   ],
   "source": [
    "apps = list(mongo.application.find({'req_id': {'$in': req_ids}}, app_fields))\n",
    "len(apps)"
   ]
  },
  {
   "cell_type": "code",
   "execution_count": 12,
   "id": "e93b262c-272b-4e1c-a97a-c40b1aff1312",
   "metadata": {
    "tags": []
   },
   "outputs": [],
   "source": [
    "for app in apps:\n",
    "    app['phases_dates'] = status_cls.get_phases_reach_dates(app)\n",
    "    app['max_status'] = status_cls.get_max_status(app)"
   ]
  },
  {
   "cell_type": "code",
   "execution_count": 13,
   "id": "4c94035d-d0fb-49dd-90a4-e31c3f3a3ba9",
   "metadata": {
    "tags": []
   },
   "outputs": [],
   "source": [
    "req_to_apps = defaultdict(list)\n",
    "for app in apps:\n",
    "    if 'offer' in app['phases_dates'] and 'interview' not in app['phases_dates']:\n",
    "        pass\n",
    "    else:\n",
    "        req_to_apps[app['req_id']].append(app)"
   ]
  },
  {
   "cell_type": "code",
   "execution_count": 14,
   "id": "407bcf84-763a-422a-af24-cc947bfe83d1",
   "metadata": {},
   "outputs": [],
   "source": [
    "def get_data_for_req(req):\n",
    "    \n",
    "    req_apps = req_to_apps[req['_id']]\n",
    "    req_dates = {s: v[0] for s,v in req['status_history'].items()}\n",
    "    if req_apps:\n",
    "        req_dates['First apply'] =  min(a['ats_application']['date_applied'] for a in req_apps)\n",
    "        for status in ['interview', 'offer']:\n",
    "            req_dates['First ' + status] =  min(a['phases_dates'].get(status, datetime.now()) for a in req_apps)\n",
    "\n",
    "        \n",
    "        try:\n",
    "            req_dates['First Interview Worthy Apply'] = min(a['ats_application']['date_applied'] for a in req_apps if a['max_status'] >= 2)\n",
    "            req_dates['First Interview Worthy Interview'] = min(a['phases_dates']['interview'] for a in req_apps if a['max_status'] >= 2)\n",
    "\n",
    "            req_dates['First Offer Worthy Apply'] = min(a['ats_application']['date_applied'] for a in req_apps if a['max_status'] >= 3)\n",
    "            req_dates['First Offer Worthy Interview'] = min(a['phases_dates']['interview'] for a in req_apps if a['max_status'] >= 3)\n",
    "        except:\n",
    "            pass\n",
    "    \n",
    "    return req_dates"
   ]
  },
  {
   "cell_type": "code",
   "execution_count": 15,
   "id": "b59e0bc2-722d-475f-b65f-107bdc9ef7ba",
   "metadata": {
    "tags": []
   },
   "outputs": [],
   "source": [
    "data = [get_data_for_req(r) for r in reqs]"
   ]
  },
  {
   "cell_type": "code",
   "execution_count": 16,
   "id": "cd59693b-c1f6-4fb9-a471-30e18a975cac",
   "metadata": {
    "tags": []
   },
   "outputs": [],
   "source": [
    "df = pd.DataFrame(data)"
   ]
  },
  {
   "cell_type": "code",
   "execution_count": 17,
   "id": "e032001a-8c67-485f-98a5-33bb90fa7c00",
   "metadata": {
    "tags": []
   },
   "outputs": [],
   "source": [
    "df['Open to Post'] = (df['Post'] - df['Open']).dt.days\n",
    "df['Post to Apply'] = (df['First apply'] - df['Post']).dt.days\n",
    "df['Apply to Interview'] = (df['First interview'] - df['First apply']).dt.days\n",
    "df['Interview to Offer'] = (df['First offer'] - df['First interview']).dt.days\n",
    "df['Apply to Offer'] = (df['First offer'] - df['First apply']).dt.days\n",
    "df['Post to Offer'] = (df['First offer'] - df['Post']).dt.days\n",
    "df['Offer to Fill'] = (df['First offer'] - df['Open']).dt.days\n",
    "df['Open to Fill'] = (df['Filled'] - df['Open']).dt.days\n",
    "df['Post to Fill'] = (df['Filled'] - df['Post']).dt.days\n",
    "\n",
    "df['Interview Worthy apply to Interview'] = (df['First Interview Worthy Interview'] - df['First Interview Worthy Apply']).dt.days\n",
    "df['Offer Worthy apply to Interview'] = (df['First Offer Worthy Interview'] - df['First Offer Worthy Apply']).dt.days"
   ]
  },
  {
   "cell_type": "code",
   "execution_count": 18,
   "id": "a32f8bbc-faba-4f49-ab3f-4239640eaebc",
   "metadata": {
    "tags": []
   },
   "outputs": [
    {
     "data": {
      "text/plain": [
       "(9.899280575539569,\n",
       " 2.5579710144927534,\n",
       " 7.840579710144928,\n",
       " 10.884057971014492,\n",
       " 32.1231884057971)"
      ]
     },
     "execution_count": 18,
     "metadata": {},
     "output_type": "execute_result"
    }
   ],
   "source": [
    "df['Open to Post'].mean(), df['Post to Apply'].mean(), df['Apply to Interview'].mean(), df['Interview to Offer'].mean(), df['Offer to Fill'].mean()"
   ]
  },
  {
   "cell_type": "code",
   "execution_count": 19,
   "id": "a0904a4a-abc7-4bff-86e2-c26b0fc64170",
   "metadata": {
    "tags": []
   },
   "outputs": [
    {
     "data": {
      "text/plain": [
       "<Axes: >"
      ]
     },
     "execution_count": 19,
     "metadata": {},
     "output_type": "execute_result"
    },
    {
     "data": {
      "image/png": "[encoded data removed]",
      "text/plain": [
       "<Figure size 640x480 with 1 Axes>"
      ]
     },
     "metadata": {},
     "output_type": "display_data"
    }
   ],
   "source": [
    "df.boxplot('Post to Offer')"
   ]
  },
  {
   "cell_type": "code",
   "execution_count": 20,
   "id": "989d9df2-d938-47b0-b2cd-7e11230b2829",
   "metadata": {
    "tags": []
   },
   "outputs": [
    {
     "data": {
      "text/plain": [
       "(2.5579710144927534, 7.840579710144928, 10.884057971014492)"
      ]
     },
     "execution_count": 20,
     "metadata": {},
     "output_type": "execute_result"
    }
   ],
   "source": [
    "df['Post to Apply'].mean(), df['Apply to Interview'].mean(), df['Interview to Offer'].mean()"
   ]
  },
  {
   "cell_type": "code",
   "execution_count": 47,
   "id": "ae37f226-dbf7-4964-9995-553689598a41",
   "metadata": {
    "tags": []
   },
   "outputs": [
    {
     "data": {
      "image/png": "[encoded data removed]",
      "text/plain": [
       "<Figure size 880x400 with 1 Axes>"
      ]
     },
     "metadata": {},
     "output_type": "display_data"
    }
   ],
   "source": [
    "req = reqs[1]\n",
    "req_apps = req_to_apps[req['_id']]\n",
    "req_dates = {s: v[0] for s,v in req['status_history'].items()}\n",
    "req_dates['First apply'] =  min(a['ats_application']['date_applied'] for a in req_apps)\n",
    "for status in ['interview', 'offer']:\n",
    "    req_dates['First ' + status] =  min(a['phases_dates'].get(status, datetime.now()) for a in req_apps)\n",
    "    \n",
    "    \n",
    "# req_dates['First Interview Worthy Apply'] = min(a['ats_application']['date_applied'] for a in req_apps if a['max_status'] >= 2)\n",
    "# req_dates['First Interview Worthy Interview'] = min(a['phases_dates']['interview'] for a in req_apps if a['max_status'] >= 2)\n",
    "\n",
    "req_dates['First Offer Worthy Apply'] = min(a['ats_application']['date_applied'] for a in req_apps if a['max_status'] >= 3)\n",
    "req_dates['First Offer Worthy Interview'] = min(a['phases_dates']['interview'] for a in req_apps if a['max_status'] >= 3)\n",
    "\n",
    "names, dates  = list(zip(*sorted(req_dates.items(), key=lambda v: v[1])))\n",
    "\n",
    "# Choose some nice levels\n",
    "levels = np.tile([-1, 1, -2, 2, -3, 3, -4, 4],\n",
    "                 int(np.ceil(len(dates)/6)))[:len(dates)]\n",
    "\n",
    "# Create figure and plot a stem plot with the date\n",
    "fig, ax = plt.subplots(figsize=(8.8, 4), layout=\"constrained\")\n",
    "\n",
    "ax.vlines(dates, 0, levels, color=\"tab:red\")  # The vertical stems.\n",
    "ax.plot(dates, np.zeros_like(dates), \"-o\",\n",
    "        color=\"k\", markerfacecolor=\"w\")  # Baseline and markers on it.\n",
    "\n",
    "# annotate lines\n",
    "for d, l, r in zip(dates, levels, names):\n",
    "    ax.annotate(r, xy=(d, l),\n",
    "                xytext=(-3, np.sign(l)*3), textcoords=\"offset points\",\n",
    "                horizontalalignment=\"right\",\n",
    "                verticalalignment=\"bottom\" if l > 0 else \"top\")\n",
    "\n",
    "# format x-axis with 4-month intervals\n",
    "ax.xaxis.set_major_locator(mdates.DayLocator(interval=7))\n",
    "ax.xaxis.set_major_formatter(mdates.DateFormatter(\"%b %Y\"))\n",
    "plt.setp(ax.get_xticklabels(), rotation=30, ha=\"right\")\n",
    "\n",
    "# remove y-axis and spines\n",
    "ax.yaxis.set_visible(False)\n",
    "ax.spines[[\"left\", \"top\", \"right\"]].set_visible(False)\n",
    "\n",
    "ax.margins(y=0.1)\n",
    "plt.show()"
   ]
  },
  {
   "cell_type": "code",
   "execution_count": 22,
   "id": "c49f3ed6-9d8c-4efa-bd9e-13010e7d62ba",
   "metadata": {
    "tags": []
   },
   "outputs": [
    {
     "data": {
      "text/plain": [
       "17"
      ]
     },
     "execution_count": 22,
     "metadata": {},
     "output_type": "execute_result"
    }
   ],
   "source": [
    "(req_dates['First Interview Worthy Interview'] - req_dates['First Interview Worthy Apply']).days"
   ]
  },
  {
   "cell_type": "code",
   "execution_count": 23,
   "id": "892bbd8c-cef9-4e25-a0ee-ce1951afd123",
   "metadata": {},
   "outputs": [],
   "source": [
    "states = {\n",
    "    'Waiting for Post', # --> Suggest to post\n",
    "    'Waiting for Candidates', # --> Fetch Auto Reach\n",
    "    'Waiting for Good Candidates', # --> Fetch Auto Reach, Screen\n",
    "    'Waiting for interview conclude', # --> F1to HM\n",
    "    'Waiting for promising interview conclude', # --> Suggest to Reject, Suggest Talking to HM\n",
    "    'Has Offer', # --> Suggest to Reject\n",
    "}\n",
    "\n",
    "actions = {\n",
    "    'Auto Fetch',\n",
    "    'Suggest Moving to Interview', \n",
    "    'Suggest Reject', \n",
    "}"
   ]
  },
  {
   "cell_type": "code",
   "execution_count": 24,
   "id": "ce3747fd-704d-44f8-b9f1-c0ffa07b015b",
   "metadata": {
    "tags": []
   },
   "outputs": [
    {
     "data": {
      "text/plain": [
       "<Figure size 400x400 with 0 Axes>"
      ]
     },
     "execution_count": 24,
     "metadata": {},
     "output_type": "execute_result"
    }
   ],
   "source": [
    "sb.pairplot(df[['Post to Offer', 'Open to Post', 'Post to Apply',  'Interview Worthy apply to Interview', 'Apply to Interview']])\n",
    "plt.figure(figsize=(4,4))"
   ]
  },
  {
   "cell_type": "code",
   "execution_count": 25,
   "id": "3b2aa18d-2fb7-444e-808d-f894ced93b37",
   "metadata": {
    "tags": []
   },
   "outputs": [
    {
     "data": {
      "text/plain": [
       "<Axes: xlabel='Interview Worthy apply to Interview', ylabel='Post to Offer'>"
      ]
     },
     "execution_count": 25,
     "metadata": {},
     "output_type": "execute_result"
    }
   ],
   "source": [
    "sb.regplot(data=df, y='Post to Offer', x='Interview Worthy apply to Interview')"
   ]
  },
  {
   "cell_type": "code",
   "execution_count": 26,
   "id": "aa9757bb-6cba-413d-9efc-c09ecfcde3c3",
   "metadata": {
    "tags": []
   },
   "outputs": [
    {
     "data": {
      "text/plain": [
       "<Axes: xlabel='Post to Apply', ylabel='Post to Offer'>"
      ]
     },
     "execution_count": 26,
     "metadata": {},
     "output_type": "execute_result"
    }
   ],
   "source": [
    "sb.regplot(data=df, x='Post to Apply', y='Post to Offer')"
   ]
  },
  {
   "cell_type": "code",
   "execution_count": 27,
   "id": "f3581c7b-1098-4531-a125-e60193a79458",
   "metadata": {
    "tags": []
   },
   "outputs": [
    {
     "data": {
      "text/plain": [
       "<Axes: xlabel='Post to Offer', ylabel='Open to Post'>"
      ]
     },
     "execution_count": 27,
     "metadata": {},
     "output_type": "execute_result"
    }
   ],
   "source": [
    "sb.regplot(data=df, x='Post to Offer', y='Open to Post')"
   ]
  },
  {
   "cell_type": "code",
   "execution_count": 28,
   "id": "fecf2677-d4fd-46da-8534-630b3ef44aea",
   "metadata": {
    "tags": []
   },
   "outputs": [
    {
     "data": {
      "text/plain": [
       "136"
      ]
     },
     "execution_count": 28,
     "metadata": {},
     "output_type": "execute_result"
    }
   ],
   "source": [
    "len(req_apps)"
   ]
  },
  {
   "cell_type": "code",
   "execution_count": 29,
   "id": "159fe9c9-c878-4720-a5a1-8bd8eae0426c",
   "metadata": {
    "tags": []
   },
   "outputs": [
    {
     "data": {
      "text/plain": [
       "{'Open': [datetime.datetime(2023, 10, 30, 0, 0)],\n",
       " 'Approve': [datetime.datetime(2023, 10, 30, 0, 0)],\n",
       " 'Post': [datetime.datetime(2023, 11, 10, 0, 0),\n",
       "  datetime.datetime(2024, 1, 5, 0, 0)],\n",
       " 'Filled': [datetime.datetime(2024, 2, 13, 8, 8, 43, 619000)]}"
      ]
     },
     "execution_count": 29,
     "metadata": {},
     "output_type": "execute_result"
    }
   ],
   "source": [
    "req['status_history']"
   ]
  },
  {
   "cell_type": "code",
   "execution_count": 30,
   "id": "01ea9f68-6818-401a-8265-43e1a6cba74b",
   "metadata": {
    "tags": []
   },
   "outputs": [
    {
     "data": {
      "text/plain": [
       "{'review_candidate': datetime.datetime(2024, 2, 8, 16, 10, 23, 732000),\n",
       " 'rejected': datetime.datetime(2024, 2, 12, 20, 55, 20, 722000)}"
      ]
     },
     "execution_count": 30,
     "metadata": {},
     "output_type": "execute_result"
    }
   ],
   "source": [
    "app['phases_dates']"
   ]
  },
  {
   "cell_type": "code",
   "execution_count": 31,
   "id": "a8ac4236-eb0c-4435-b1c0-bd7a18d3c07b",
   "metadata": {
    "tags": []
   },
   "outputs": [],
   "source": [
    "def get_app_waiting_time(app):\n",
    "    try:\n",
    "        first_response = min(d for k, d in app['phases_dates'].items() if k in {'rejected', 'interview'})\n",
    "        return (first_response - app['ats_application']['date_applied']).days\n",
    "    except:\n",
    "        return 0"
   ]
  },
  {
   "cell_type": "code",
   "execution_count": 32,
   "id": "a8fb171b-0626-4fff-a342-f1d33032865c",
   "metadata": {
    "tags": []
   },
   "outputs": [],
   "source": [
    "def simulate_best(req_apps):\n",
    "    new_apps = copy.deepcopy(req_apps)\n",
    "    \n",
    "    offer_days = None\n",
    "    \n",
    "    for app in new_apps:\n",
    "        if 'offer' in app['phases_dates'] and 'interview' in app['phases_dates']:\n",
    "            offer_days = (app['phases_dates']['offer'] - app['phases_dates']['interview']).days\n",
    "        elif 'offer' in app['phases_dates'] and 'interview' not in app['phases_dates']:\n",
    "            offer_days = (app['phases_dates']['offer'] - app['ats_application']['date_applied']).days\n",
    "            \n",
    "        if 'interview' not in app['phases_dates'] and 'offer' not in app['phases_dates']:\n",
    "            app['phases_dates']['rejected'] = app['ats_application']['date_applied'] + timedelta(days=1)\n",
    "        elif 'offer' not in app['phases_dates']:\n",
    "            app['phases_dates']['interview'] = app['ats_application']['date_applied'] + timedelta(days=1)\n",
    "            app['phases_dates']['rejected'] = app['ats_application']['date_applied'] + timedelta(days=2)\n",
    "        else:\n",
    "            app['phases_dates']['interview'] = app['ats_application']['date_applied'] + timedelta(days=1)\n",
    "            app['phases_dates']['offer'] = app['ats_application']['date_applied'] + timedelta(days=offer_days)\n",
    "\n",
    "    return new_apps"
   ]
  },
  {
   "cell_type": "code",
   "execution_count": 33,
   "id": "83597237-e713-4cd4-82a6-685b686e349c",
   "metadata": {
    "tags": []
   },
   "outputs": [],
   "source": [
    "def simulate_req(req, simulated_req_apps, print_pipes=False):\n",
    "    req_state = 'posted'\n",
    "    date = req['status_history']['Post'][0]\n",
    "    offer_date = None\n",
    "    days = Counter()\n",
    "    while True:\n",
    "        day_actions = 0\n",
    "        is_working_day = False\n",
    "        if print_pipes:\n",
    "            print(date.date(), end=' ')\n",
    "        for app in simulated_req_apps:\n",
    "            if app['ats_application']['date_applied'].date() == date.date():\n",
    "                if print_pipes:\n",
    "                    print('\\033[1m\\033[33mA\\033[0m', end=' ')\n",
    "            elif app['phases_dates'].get('rejected', datetime.now()).date() == date.date():\n",
    "                if print_pipes:\n",
    "                    print('\\033[1m\\033[31mR\\033[0m', end=' ')\n",
    "                day_actions += 1\n",
    "            elif app['phases_dates'].get('interview', datetime.now()).date() == date.date():\n",
    "                if print_pipes:\n",
    "                    print('\\033[1m\\033[34mV\\033[0m', end=' ')\n",
    "                day_actions += 1\n",
    "            elif app['phases_dates'].get('offer', datetime.now()).date() == date.date():\n",
    "                offer_date = date.date() \n",
    "                day_actions += 1\n",
    "                if print_pipes:\n",
    "                    print('\\033[1m\\033[32mO\\033[0m', end=' ')\n",
    "            else:\n",
    "                if print_pipes:\n",
    "                    print('|', end=' ')\n",
    "                    \n",
    "        if print_pipes:\n",
    "            print()\n",
    "        \n",
    "        date = date + timedelta(days=1)\n",
    "        days[date] = day_actions\n",
    "        if date.date() == req['status_history']['Filled'][0].date():\n",
    "            break\n",
    "    \n",
    "    return {\n",
    "        'post_to_offer': ((offer_date or req['status_history']['Filled'][0].date()) - req['status_history']['Post'][0].date()).days,\n",
    "        'waiting_days': [get_app_waiting_time(a) for a in simulated_req_apps],\n",
    "        'days_actions': days,\n",
    "    }\n"
   ]
  },
  {
   "cell_type": "code",
   "execution_count": 34,
   "id": "1065e92a-528c-4794-9171-79ab1081d5b7",
   "metadata": {
    "tags": []
   },
   "outputs": [],
   "source": [
    "simulated_req_apps = simulate_best(req_apps)"
   ]
  },
  {
   "cell_type": "code",
   "execution_count": 35,
   "id": "88318e7e-9142-42ac-b944-892a134ea1be",
   "metadata": {
    "tags": []
   },
   "outputs": [],
   "source": [
    "user_to_reqs = defaultdict(list)\n",
    "for req in reqs:\n",
    "    user_to_reqs[req['recruiter_roles']['recruiter']].append(req)"
   ]
  },
  {
   "cell_type": "code",
   "execution_count": 36,
   "id": "8db4f724-f964-4d83-b479-f7ee17d0e3de",
   "metadata": {
    "tags": []
   },
   "outputs": [
    {
     "name": "stderr",
     "output_type": "stream",
     "text": [
      "/Users/dima/.virtualenvs/hs/lib/python3.9/site-packages/numpy/core/fromnumeric.py:3504: RuntimeWarning: Mean of empty slice.\n",
      "  return _methods._mean(a, axis=axis, dtype=dtype,\n",
      "/Users/dima/.virtualenvs/hs/lib/python3.9/site-packages/numpy/core/_methods.py:129: RuntimeWarning: invalid value encountered in scalar divide\n",
      "  ret = ret.dtype.type(ret / rcount)\n"
     ]
    }
   ],
   "source": [
    "data = []\n",
    "for user, user_reqs in user_to_reqs.items():\n",
    "    \n",
    "    orig_vals = []\n",
    "    best_vals = []\n",
    "    \n",
    "    orig_waiting_days = []\n",
    "    orig_days_to_actions = Counter()\n",
    "    best_waiting_days = []\n",
    "    best_days_to_actions = Counter()\n",
    "    \n",
    "    for req in user_reqs: \n",
    "        req_apps = req_to_apps[req['_id']]\n",
    "        orig_req_vals = simulate_req(req, req_apps)\n",
    "        \n",
    "        orig_days_to_actions += orig_req_vals['days_actions']\n",
    "        orig_waiting_days += orig_req_vals['waiting_days']\n",
    "        \n",
    "        simulated_req_apps = simulate_best(req_apps)\n",
    "        best_req_vals = simulate_req(req, simulated_req_apps)\n",
    "        \n",
    "        best_days_to_actions += best_req_vals['days_actions']\n",
    "        best_waiting_days += best_req_vals['waiting_days']\n",
    "        \n",
    "        orig_vals.append(orig_req_vals)\n",
    "        best_vals.append(best_req_vals)\n",
    "        \n",
    "        orig_post_to_offer = [v['post_to_offer'] for v in orig_vals]\n",
    "        best_post_to_offer = [v['post_to_offer'] for v in best_vals]\n",
    "        \n",
    "    d = {\n",
    "        'user_id': user,\n",
    "        'num_of_reqs': len(user_reqs),\n",
    "        'original_post_to_ofer_mean': np.mean(orig_post_to_offer),\n",
    "        'best_post_to_ofer_mean': np.mean(best_post_to_offer),\n",
    "        \n",
    "        'original_post_to_ofer_max': np.max(orig_post_to_offer),\n",
    "        'best_post_to_ofer_max': np.max(best_post_to_offer),\n",
    "        \n",
    "        'orig_num_of_actions_per_day_mean': np.mean(list(orig_days_to_actions.values())),\n",
    "        'best_num_of_actions_per_day_mean': np.mean(list(best_days_to_actions.values())),\n",
    "        \n",
    "        'orig_waiting_days_mean': np.mean(orig_waiting_days),\n",
    "        'best_waiting_days_mean': np.mean(best_waiting_days),\n",
    "    }\n",
    "    \n",
    "    \n",
    "    data.append(d)"
   ]
  },
  {
   "cell_type": "code",
   "execution_count": 37,
   "id": "2a17a16d-e32c-4cf6-a151-f68375b4ce02",
   "metadata": {
    "tags": []
   },
   "outputs": [
    {
     "data": {
      "text/html": [
       "<div>\n",
       "<style scoped>\n",
       "    .dataframe tbody tr th:only-of-type {\n",
       "        vertical-align: middle;\n",
       "    }\n",
       "\n",
       "    .dataframe tbody tr th {\n",
       "        vertical-align: top;\n",
       "    }\n",
       "\n",
       "    .dataframe thead th {\n",
       "        text-align: right;\n",
       "    }\n",
       "</style>\n",
       "<table border=\"1\" class=\"dataframe\">\n",
       "  <thead>\n",
       "    <tr style=\"text-align: right;\">\n",
       "      <th></th>\n",
       "      <th>user_id</th>\n",
       "      <th>num_of_reqs</th>\n",
       "      <th>original_post_to_ofer_mean</th>\n",
       "      <th>best_post_to_ofer_mean</th>\n",
       "      <th>original_post_to_ofer_max</th>\n",
       "      <th>best_post_to_ofer_max</th>\n",
       "      <th>orig_num_of_actions_per_day_mean</th>\n",
       "      <th>best_num_of_actions_per_day_mean</th>\n",
       "      <th>orig_waiting_days_mean</th>\n",
       "      <th>best_waiting_days_mean</th>\n",
       "    </tr>\n",
       "  </thead>\n",
       "  <tbody>\n",
       "    <tr>\n",
       "      <th>0</th>\n",
       "      <td>7d81a8f2a92101facddd09d6630ea6a2</td>\n",
       "      <td>2</td>\n",
       "      <td>39.000000</td>\n",
       "      <td>27.0</td>\n",
       "      <td>45</td>\n",
       "      <td>41</td>\n",
       "      <td>31.333333</td>\n",
       "      <td>13.428571</td>\n",
       "      <td>18.787546</td>\n",
       "      <td>1.0</td>\n",
       "    </tr>\n",
       "    <tr>\n",
       "      <th>1</th>\n",
       "      <td>16e250631a9e011b63050bd1c2076491</td>\n",
       "      <td>3</td>\n",
       "      <td>21.666667</td>\n",
       "      <td>19.0</td>\n",
       "      <td>56</td>\n",
       "      <td>33</td>\n",
       "      <td>10.600000</td>\n",
       "      <td>11.357143</td>\n",
       "      <td>18.647059</td>\n",
       "      <td>1.0</td>\n",
       "    </tr>\n",
       "    <tr>\n",
       "      <th>2</th>\n",
       "      <td>9904c4e6250001b49bc855cff822a476</td>\n",
       "      <td>1</td>\n",
       "      <td>2.000000</td>\n",
       "      <td>11.0</td>\n",
       "      <td>2</td>\n",
       "      <td>11</td>\n",
       "      <td>1.000000</td>\n",
       "      <td>1.000000</td>\n",
       "      <td>0.000000</td>\n",
       "      <td>1.0</td>\n",
       "    </tr>\n",
       "    <tr>\n",
       "      <th>3</th>\n",
       "      <td>01a11fe05ac9011f5c5f437e859b0000</td>\n",
       "      <td>1</td>\n",
       "      <td>72.000000</td>\n",
       "      <td>70.0</td>\n",
       "      <td>72</td>\n",
       "      <td>70</td>\n",
       "      <td>2.444444</td>\n",
       "      <td>2.384615</td>\n",
       "      <td>3.192308</td>\n",
       "      <td>1.0</td>\n",
       "    </tr>\n",
       "    <tr>\n",
       "      <th>4</th>\n",
       "      <td>74f2ae1895fc015196c72d61253bbdd5</td>\n",
       "      <td>1</td>\n",
       "      <td>40.000000</td>\n",
       "      <td>40.0</td>\n",
       "      <td>40</td>\n",
       "      <td>40</td>\n",
       "      <td>1.000000</td>\n",
       "      <td>2.000000</td>\n",
       "      <td>0.000000</td>\n",
       "      <td>1.0</td>\n",
       "    </tr>\n",
       "    <tr>\n",
       "      <th>...</th>\n",
       "      <td>...</td>\n",
       "      <td>...</td>\n",
       "      <td>...</td>\n",
       "      <td>...</td>\n",
       "      <td>...</td>\n",
       "      <td>...</td>\n",
       "      <td>...</td>\n",
       "      <td>...</td>\n",
       "      <td>...</td>\n",
       "      <td>...</td>\n",
       "    </tr>\n",
       "    <tr>\n",
       "      <th>63</th>\n",
       "      <td>87c0a5f392d0017968b3f28b002315d6</td>\n",
       "      <td>1</td>\n",
       "      <td>6.000000</td>\n",
       "      <td>32.0</td>\n",
       "      <td>6</td>\n",
       "      <td>32</td>\n",
       "      <td>1.000000</td>\n",
       "      <td>1.000000</td>\n",
       "      <td>3.000000</td>\n",
       "      <td>1.0</td>\n",
       "    </tr>\n",
       "    <tr>\n",
       "      <th>64</th>\n",
       "      <td>29c292443a1d01e8cd391c31df572c75</td>\n",
       "      <td>1</td>\n",
       "      <td>21.000000</td>\n",
       "      <td>21.0</td>\n",
       "      <td>21</td>\n",
       "      <td>21</td>\n",
       "      <td>NaN</td>\n",
       "      <td>1.000000</td>\n",
       "      <td>0.000000</td>\n",
       "      <td>1.0</td>\n",
       "    </tr>\n",
       "    <tr>\n",
       "      <th>65</th>\n",
       "      <td>7f702b58bf0501200c80add101ff0000</td>\n",
       "      <td>1</td>\n",
       "      <td>7.000000</td>\n",
       "      <td>40.0</td>\n",
       "      <td>7</td>\n",
       "      <td>40</td>\n",
       "      <td>1.000000</td>\n",
       "      <td>1.000000</td>\n",
       "      <td>4.000000</td>\n",
       "      <td>1.0</td>\n",
       "    </tr>\n",
       "    <tr>\n",
       "      <th>66</th>\n",
       "      <td>2fd0bae6e647013856eddd210a108610</td>\n",
       "      <td>1</td>\n",
       "      <td>6.000000</td>\n",
       "      <td>26.0</td>\n",
       "      <td>6</td>\n",
       "      <td>26</td>\n",
       "      <td>3.166667</td>\n",
       "      <td>4.200000</td>\n",
       "      <td>3.823529</td>\n",
       "      <td>1.0</td>\n",
       "    </tr>\n",
       "    <tr>\n",
       "      <th>67</th>\n",
       "      <td>79e5520837dc01604fd70311ef0d1fa0</td>\n",
       "      <td>1</td>\n",
       "      <td>9.000000</td>\n",
       "      <td>34.0</td>\n",
       "      <td>9</td>\n",
       "      <td>34</td>\n",
       "      <td>1.000000</td>\n",
       "      <td>1.000000</td>\n",
       "      <td>1.000000</td>\n",
       "      <td>1.0</td>\n",
       "    </tr>\n",
       "  </tbody>\n",
       "</table>\n",
       "<p>68 rows × 10 columns</p>\n",
       "</div>"
      ],
      "text/plain": [
       "                             user_id  num_of_reqs  original_post_to_ofer_mean  \\\n",
       "0   7d81a8f2a92101facddd09d6630ea6a2            2                   39.000000   \n",
       "1   16e250631a9e011b63050bd1c2076491            3                   21.666667   \n",
       "2   9904c4e6250001b49bc855cff822a476            1                    2.000000   \n",
       "3   01a11fe05ac9011f5c5f437e859b0000            1                   72.000000   \n",
       "4   74f2ae1895fc015196c72d61253bbdd5            1                   40.000000   \n",
       "..                               ...          ...                         ...   \n",
       "63  87c0a5f392d0017968b3f28b002315d6            1                    6.000000   \n",
       "64  29c292443a1d01e8cd391c31df572c75            1                   21.000000   \n",
       "65  7f702b58bf0501200c80add101ff0000            1                    7.000000   \n",
       "66  2fd0bae6e647013856eddd210a108610            1                    6.000000   \n",
       "67  79e5520837dc01604fd70311ef0d1fa0            1                    9.000000   \n",
       "\n",
       "    best_post_to_ofer_mean  original_post_to_ofer_max  best_post_to_ofer_max  \\\n",
       "0                     27.0                         45                     41   \n",
       "1                     19.0                         56                     33   \n",
       "2                     11.0                          2                     11   \n",
       "3                     70.0                         72                     70   \n",
       "4                     40.0                         40                     40   \n",
       "..                     ...                        ...                    ...   \n",
       "63                    32.0                          6                     32   \n",
       "64                    21.0                         21                     21   \n",
       "65                    40.0                          7                     40   \n",
       "66                    26.0                          6                     26   \n",
       "67                    34.0                          9                     34   \n",
       "\n",
       "    orig_num_of_actions_per_day_mean  best_num_of_actions_per_day_mean  \\\n",
       "0                          31.333333                         13.428571   \n",
       "1                          10.600000                         11.357143   \n",
       "2                           1.000000                          1.000000   \n",
       "3                           2.444444                          2.384615   \n",
       "4                           1.000000                          2.000000   \n",
       "..                               ...                               ...   \n",
       "63                          1.000000                          1.000000   \n",
       "64                               NaN                          1.000000   \n",
       "65                          1.000000                          1.000000   \n",
       "66                          3.166667                          4.200000   \n",
       "67                          1.000000                          1.000000   \n",
       "\n",
       "    orig_waiting_days_mean  best_waiting_days_mean  \n",
       "0                18.787546                     1.0  \n",
       "1                18.647059                     1.0  \n",
       "2                 0.000000                     1.0  \n",
       "3                 3.192308                     1.0  \n",
       "4                 0.000000                     1.0  \n",
       "..                     ...                     ...  \n",
       "63                3.000000                     1.0  \n",
       "64                0.000000                     1.0  \n",
       "65                4.000000                     1.0  \n",
       "66                3.823529                     1.0  \n",
       "67                1.000000                     1.0  \n",
       "\n",
       "[68 rows x 10 columns]"
      ]
     },
     "execution_count": 37,
     "metadata": {},
     "output_type": "execute_result"
    }
   ],
   "source": [
    "pd.DataFrame(data)"
   ]
  },
  {
   "cell_type": "code",
   "execution_count": null,
   "id": "c66e7b3d-295e-4d5c-a3f5-25596cf27778",
   "metadata": {},
   "outputs": [],
   "source": []
  },
  {
   "cell_type": "code",
   "execution_count": 38,
   "id": "0de6bb90-55b4-4c2f-b085-7d365daa62bc",
   "metadata": {
    "tags": []
   },
   "outputs": [
    {
     "name": "stdout",
     "output_type": "stream",
     "text": [
      "2024-01-30 | \n",
      "2024-01-31 | \n",
      "2024-02-01 | \n",
      "2024-02-02 | \n",
      "2024-02-03 | \n",
      "2024-02-04 | \n",
      "2024-02-05 \u001b[1m\u001b[33mA\u001b[0m \n",
      "2024-02-06 | \n",
      "2024-02-07 \u001b[1m\u001b[34mV\u001b[0m \n",
      "2024-02-08 \u001b[1m\u001b[32mO\u001b[0m \n",
      "2024-02-09 | \n",
      "2024-02-10 | \n",
      "2024-02-11 | \n",
      "2024-02-12 | \n",
      "2024-02-13 | \n",
      "2024-02-14 | \n",
      "2024-02-15 | \n",
      "2024-02-16 | \n",
      "2024-02-17 | \n",
      "2024-02-18 | \n",
      "2024-02-19 | \n",
      "2024-02-20 | \n",
      "2024-02-21 | \n",
      "2024-02-22 | \n",
      "2024-02-23 | \n",
      "2024-02-24 | \n",
      "2024-02-25 | \n",
      "2024-02-26 | \n",
      "2024-02-27 | \n",
      "2024-02-28 | \n",
      "2024-02-29 | \n",
      "2024-03-01 | \n",
      "2024-03-02 | \n",
      "2024-03-03 | \n"
     ]
    },
    {
     "data": {
      "text/plain": [
       "{'post_to_offer': 9,\n",
       " 'waiting_days': [1],\n",
       " 'days_actions': Counter({datetime.datetime(2024, 2, 8, 0, 0): 1,\n",
       "          datetime.datetime(2024, 2, 9, 0, 0): 1,\n",
       "          datetime.datetime(2024, 1, 31, 0, 0): 0,\n",
       "          datetime.datetime(2024, 2, 1, 0, 0): 0,\n",
       "          datetime.datetime(2024, 2, 2, 0, 0): 0,\n",
       "          datetime.datetime(2024, 2, 3, 0, 0): 0,\n",
       "          datetime.datetime(2024, 2, 4, 0, 0): 0,\n",
       "          datetime.datetime(2024, 2, 5, 0, 0): 0,\n",
       "          datetime.datetime(2024, 2, 6, 0, 0): 0,\n",
       "          datetime.datetime(2024, 2, 7, 0, 0): 0,\n",
       "          datetime.datetime(2024, 2, 10, 0, 0): 0,\n",
       "          datetime.datetime(2024, 2, 11, 0, 0): 0,\n",
       "          datetime.datetime(2024, 2, 12, 0, 0): 0,\n",
       "          datetime.datetime(2024, 2, 13, 0, 0): 0,\n",
       "          datetime.datetime(2024, 2, 14, 0, 0): 0,\n",
       "          datetime.datetime(2024, 2, 15, 0, 0): 0,\n",
       "          datetime.datetime(2024, 2, 16, 0, 0): 0,\n",
       "          datetime.datetime(2024, 2, 17, 0, 0): 0,\n",
       "          datetime.datetime(2024, 2, 18, 0, 0): 0,\n",
       "          datetime.datetime(2024, 2, 19, 0, 0): 0,\n",
       "          datetime.datetime(2024, 2, 20, 0, 0): 0,\n",
       "          datetime.datetime(2024, 2, 21, 0, 0): 0,\n",
       "          datetime.datetime(2024, 2, 22, 0, 0): 0,\n",
       "          datetime.datetime(2024, 2, 23, 0, 0): 0,\n",
       "          datetime.datetime(2024, 2, 24, 0, 0): 0,\n",
       "          datetime.datetime(2024, 2, 25, 0, 0): 0,\n",
       "          datetime.datetime(2024, 2, 26, 0, 0): 0,\n",
       "          datetime.datetime(2024, 2, 27, 0, 0): 0,\n",
       "          datetime.datetime(2024, 2, 28, 0, 0): 0,\n",
       "          datetime.datetime(2024, 2, 29, 0, 0): 0,\n",
       "          datetime.datetime(2024, 3, 1, 0, 0): 0,\n",
       "          datetime.datetime(2024, 3, 2, 0, 0): 0,\n",
       "          datetime.datetime(2024, 3, 3, 0, 0): 0,\n",
       "          datetime.datetime(2024, 3, 4, 0, 0): 0})}"
      ]
     },
     "execution_count": 38,
     "metadata": {},
     "output_type": "execute_result"
    }
   ],
   "source": [
    "simulate_req(req, req_apps, print_pipes=True)"
   ]
  },
  {
   "cell_type": "code",
   "execution_count": 39,
   "id": "3b5214f0-bbaf-4d33-964d-b7e7d0b86573",
   "metadata": {
    "tags": []
   },
   "outputs": [
    {
     "data": {
      "text/plain": [
       "1"
      ]
     },
     "execution_count": 39,
     "metadata": {},
     "output_type": "execute_result"
    }
   ],
   "source": [
    "len(req_apps)"
   ]
  },
  {
   "cell_type": "code",
   "execution_count": 40,
   "id": "a310b2e4-0941-4257-821d-54782c2641ef",
   "metadata": {
    "tags": []
   },
   "outputs": [],
   "source": [
    "req = reqs[0]"
   ]
  },
  {
   "cell_type": "code",
   "execution_count": 41,
   "id": "67530782-f03a-4579-9bd3-1fbb2d74d302",
   "metadata": {
    "tags": []
   },
   "outputs": [],
   "source": [
    "req_apps = req_to_apps[req['_id']]"
   ]
  },
  {
   "cell_type": "code",
   "execution_count": 42,
   "id": "1ee93425-8c56-40e8-bfee-70ea78c401e1",
   "metadata": {
    "tags": []
   },
   "outputs": [
    {
     "name": "stdout",
     "output_type": "stream",
     "text": [
      "2023-11-27 | | | | | | | | | | | | | | | | | | | | | | | | | | | | | | | | | | | | \n",
      "2023-11-28 \u001b[1m\u001b[33mA\u001b[0m \u001b[1m\u001b[33mA\u001b[0m \u001b[1m\u001b[33mA\u001b[0m \u001b[1m\u001b[33mA\u001b[0m \u001b[1m\u001b[33mA\u001b[0m | | | | | | | | | | | | | | | | | | | | | | | | | | | | | | | \n",
      "2023-11-29 | | | | | \u001b[1m\u001b[33mA\u001b[0m \u001b[1m\u001b[33mA\u001b[0m \u001b[1m\u001b[33mA\u001b[0m \u001b[1m\u001b[33mA\u001b[0m \u001b[1m\u001b[33mA\u001b[0m \u001b[1m\u001b[33mA\u001b[0m \u001b[1m\u001b[33mA\u001b[0m \u001b[1m\u001b[33mA\u001b[0m \u001b[1m\u001b[33mA\u001b[0m \u001b[1m\u001b[33mA\u001b[0m \u001b[1m\u001b[33mA\u001b[0m | | | | | | | | | | | | | | | | | | | | \n",
      "2023-11-30 | | | | | | | | | | | | | | | | \u001b[1m\u001b[33mA\u001b[0m \u001b[1m\u001b[33mA\u001b[0m \u001b[1m\u001b[33mA\u001b[0m | | | | | | | | | | | | | | | | | \n",
      "2023-12-01 | | | | | | | | | | | | | | | | | | | \u001b[1m\u001b[33mA\u001b[0m | | | | | | | | | | | | | | | | \n",
      "2023-12-02 | | | | | | | | | | | | | | | | | | | | \u001b[1m\u001b[33mA\u001b[0m \u001b[1m\u001b[33mA\u001b[0m | | | | | | | | | | | | | | \n",
      "2023-12-03 | | | | | | | | | | | | | | | | | | | | | | \u001b[1m\u001b[33mA\u001b[0m \u001b[1m\u001b[33mA\u001b[0m \u001b[1m\u001b[33mA\u001b[0m \u001b[1m\u001b[33mA\u001b[0m \u001b[1m\u001b[33mA\u001b[0m | | | | | | | | | \n",
      "2023-12-04 | | | | | | | | | | | | | | | | | | | | | | | | | | | \u001b[1m\u001b[33mA\u001b[0m \u001b[1m\u001b[33mA\u001b[0m | | | | | | | \n",
      "2023-12-05 | | | | | | | | | | | | | | | | | | | | | | | | | | | | | \u001b[1m\u001b[33mA\u001b[0m \u001b[1m\u001b[33mA\u001b[0m \u001b[1m\u001b[33mA\u001b[0m \u001b[1m\u001b[33mA\u001b[0m | | | \n",
      "2023-12-06 | | | | | | | | | | | | | | | | | | | | | | | | | | | | | | | | | \u001b[1m\u001b[33mA\u001b[0m \u001b[1m\u001b[33mA\u001b[0m \u001b[1m\u001b[33mA\u001b[0m \n",
      "2023-12-07 | | | | | \u001b[1m\u001b[34mV\u001b[0m | | | | | | | | | | | | | | | | | | | | \u001b[1m\u001b[34mV\u001b[0m | | | | | | | \u001b[1m\u001b[34mV\u001b[0m | \n",
      "2023-12-08 | | | | | | | | | | | | | | | | | | | | | | | | | | | | | | | | | | | | \n",
      "2023-12-09 | | | | | | | | | | | | | | | | | | | | | | | | | | | | | | | | | | | | \n",
      "2023-12-10 | | | | | | | | | | | | | | | | | | | | | | | | | | | | | | | | | | | | \n",
      "2023-12-11 | | | | | | | | | | | | | | | | | | | | | | | | | | | | | | | | | | | | \n",
      "2023-12-12 | | | | | | | | | | | | | | | | | | | | | | | | | | | | | | | | | | | | \n",
      "2023-12-13 | | | | | | | | | | | | | | | | | | | | | | | | | | | | | | | | | | | | \n",
      "2023-12-14 | | | | | | | | | | | | | | | | | | | | | | | | | | | | | | | | | | | | \n",
      "2023-12-15 | | | | | | | | | | | | | | | | | | | | | | | | | | | | | | | | | | | | \n",
      "2023-12-16 | | | | | | | | | | | | | | | | | | | | | | | | | | | | | | | | | | | | \n",
      "2023-12-17 | | | | | | | | | | | | | | | | | | | | | | | | | | | | | | | | | | | | \n",
      "2023-12-18 | | | | | | | | | | | | | | | | | | | | | | | | | | | | | | | | | | \u001b[1m\u001b[31mR\u001b[0m | \n",
      "2023-12-19 \u001b[1m\u001b[31mR\u001b[0m \u001b[1m\u001b[31mR\u001b[0m \u001b[1m\u001b[31mR\u001b[0m \u001b[1m\u001b[31mR\u001b[0m \u001b[1m\u001b[31mR\u001b[0m | \u001b[1m\u001b[31mR\u001b[0m \u001b[1m\u001b[31mR\u001b[0m \u001b[1m\u001b[31mR\u001b[0m \u001b[1m\u001b[31mR\u001b[0m \u001b[1m\u001b[31mR\u001b[0m \u001b[1m\u001b[31mR\u001b[0m \u001b[1m\u001b[31mR\u001b[0m \u001b[1m\u001b[31mR\u001b[0m \u001b[1m\u001b[31mR\u001b[0m \u001b[1m\u001b[31mR\u001b[0m \u001b[1m\u001b[31mR\u001b[0m \u001b[1m\u001b[31mR\u001b[0m \u001b[1m\u001b[31mR\u001b[0m \u001b[1m\u001b[31mR\u001b[0m \u001b[1m\u001b[31mR\u001b[0m \u001b[1m\u001b[31mR\u001b[0m \u001b[1m\u001b[31mR\u001b[0m \u001b[1m\u001b[31mR\u001b[0m \u001b[1m\u001b[31mR\u001b[0m \u001b[1m\u001b[31mR\u001b[0m | \u001b[1m\u001b[31mR\u001b[0m \u001b[1m\u001b[31mR\u001b[0m \u001b[1m\u001b[31mR\u001b[0m \u001b[1m\u001b[31mR\u001b[0m \u001b[1m\u001b[31mR\u001b[0m \u001b[1m\u001b[31mR\u001b[0m \u001b[1m\u001b[31mR\u001b[0m | \u001b[1m\u001b[31mR\u001b[0m \n",
      "2023-12-20 | | | | | | | | | | | | | | | | | | | | | | | | | | | | | | | | | | | | \n",
      "2023-12-21 | | | | | | | | | | | | | | | | | | | | | | | | | | | | | | | | | | | | \n",
      "2023-12-22 | | | | | | | | | | | | | | | | | | | | | | | | | | | | | | | | | | | | \n",
      "2023-12-23 | | | | | | | | | | | | | | | | | | | | | | | | | | | | | | | | | | | | \n",
      "2023-12-24 | | | | | | | | | | | | | | | | | | | | | | | | | | | | | | | | | | | | \n",
      "2023-12-25 | | | | | | | | | | | | | | | | | | | | | | | | | | | | | | | | | | | | \n",
      "2023-12-26 | | | | | | | | | | | | | | | | | | | | | | | | | | | | | | | | | | | | \n",
      "2023-12-27 | | | | | | | | | | | | | | | | | | | | | | | | | | | | | | | | | | | | \n",
      "2023-12-28 | | | | | | | | | | | | | | | | | | | | | | | | | | | | | | | | | | | | \n",
      "2023-12-29 | | | | | | | | | | | | | | | | | | | | | | | | | | | | | | | | | | | | \n",
      "2023-12-30 | | | | | | | | | | | | | | | | | | | | | | | | | | | | | | | | | | | | \n",
      "2023-12-31 | | | | | | | | | | | | | | | | | | | | | | | | | | | | | | | | | | | | \n",
      "2024-01-01 | | | | | | | | | | | | | | | | | | | | | | | | | | | | | | | | | | | | \n",
      "2024-01-02 | | | | | | | | | | | | | | | | | | | | | | | | | | | | | | | | | | | | \n",
      "2024-01-03 | | | | | | | | | | | | | | | | | | | | | | | | | | | | | | | | | | | | \n",
      "2024-01-04 | | | | | | | | | | | | | | | | | | | | | | | | | | | | | | | | | | | | \n",
      "2024-01-05 | | | | | | | | | | | | | | | | | | | | | | | | | | | | | | | | | | | | \n",
      "2024-01-06 | | | | | | | | | | | | | | | | | | | | | | | | | | | | | | | | | | | | \n",
      "2024-01-07 | | | | | | | | | | | | | | | | | | | | | | | | | | | | | | | | | | | | \n",
      "2024-01-08 | | | | | | | | | | | | | | | | | | | | | | | | | | | | | | | | | | | | \n",
      "2024-01-09 | | | | | | | | | | | | | | | | | | | | | | | | | | | | | | | | | | | | \n",
      "2024-01-10 | | | | | | | | | | | | | | | | | | | | | | | | | | | | | | | | | | | | \n",
      "2024-01-11 | | | | | | | | | | | | | | | | | | | | | | | | | | \u001b[1m\u001b[32mO\u001b[0m | | | | | | | | | \n",
      "2024-01-12 | | | | | | | | | | | | | | | | | | | | | | | | | | | | | | | | | | | | \n",
      "2024-01-13 | | | | | | | | | | | | | | | | | | | | | | | | | | | | | | | | | | | | \n",
      "2024-01-14 | | | | | | | | | | | | | | | | | | | | | | | | | | | | | | | | | | | | \n",
      "2024-01-15 | | | | | \u001b[1m\u001b[31mR\u001b[0m | | | | | | | | | | | | | | | | | | | | | | | | | | | | | | \n",
      "2024-01-16 | | | | | | | | | | | | | | | | | | | | | | | | | | | | | | | | | | | | \n",
      "2024-01-17 | | | | | | | | | | | | | | | | | | | | | | | | | | | | | | | | | | | | \n",
      "2024-01-18 | | | | | | | | | | | | | | | | | | | | | | | | | | | | | | | | | | | | \n",
      "2024-01-19 | | | | | | | | | | | | | | | | | | | | | | | | | | | | | | | | | | | | \n",
      "2024-01-20 | | | | | | | | | | | | | | | | | | | | | | | | | | | | | | | | | | | | \n",
      "2024-01-21 | | | | | | | | | | | | | | | | | | | | | | | | | | | | | | | | | | | | \n",
      "2024-01-22 | | | | | | | | | | | | | | | | | | | | | | | | | | | | | | | | | | | | \n",
      "2024-01-23 | | | | | | | | | | | | | | | | | | | | | | | | | | | | | | | | | | | | \n",
      "2024-01-24 | | | | | | | | | | | | | | | | | | | | | | | | | | | | | | | | | | | | \n",
      "2024-01-25 | | | | | | | | | | | | | | | | | | | | | | | | | | | | | | | | | | | | \n",
      "2024-01-26 | | | | | | | | | | | | | | | | | | | | | | | | | | | | | | | | | | | | \n",
      "2024-01-27 | | | | | | | | | | | | | | | | | | | | | | | | | | | | | | | | | | | | \n",
      "2024-01-28 | | | | | | | | | | | | | | | | | | | | | | | | | | | | | | | | | | | | \n",
      "2024-01-29 | | | | | | | | | | | | | | | | | | | | | | | | | | | | | | | | | | | | \n",
      "2024-01-30 | | | | | | | | | | | | | | | | | | | | | | | | | | | | | | | | | | | | \n",
      "2024-01-31 | | | | | | | | | | | | | | | | | | | | | | | | | | | | | | | | | | | | \n",
      "2024-02-01 | | | | | | | | | | | | | | | | | | | | | | | | | | | | | | | | | | | | \n",
      "2024-02-02 | | | | | | | | | | | | | | | | | | | | | | | | | | | | | | | | | | | | \n",
      "2024-02-03 | | | | | | | | | | | | | | | | | | | | | | | | | | | | | | | | | | | | \n"
     ]
    },
    {
     "data": {
      "text/plain": [
       "(45, 15.833333333333334)"
      ]
     },
     "execution_count": 42,
     "metadata": {},
     "output_type": "execute_result"
    }
   ],
   "source": [
    "x = simulate_req(req, req_apps, print_pipes=True)\n",
    "x['post_to_offer'], np.mean(x['waiting_days'])"
   ]
  },
  {
   "cell_type": "code",
   "execution_count": 43,
   "id": "3e8efbed-d4f4-492c-b862-bc237480ba1b",
   "metadata": {
    "tags": []
   },
   "outputs": [],
   "source": [
    "best_reqs = simulate_best(req_apps)"
   ]
  },
  {
   "cell_type": "code",
   "execution_count": 44,
   "id": "57e1f0f5-764c-476f-b4f9-53d5feef53db",
   "metadata": {
    "tags": []
   },
   "outputs": [
    {
     "name": "stdout",
     "output_type": "stream",
     "text": [
      "2023-11-27 | | | | | | | | | | | | | | | | | | | | | | | | | | | | | | | | | | | | \n",
      "2023-11-28 \u001b[1m\u001b[33mA\u001b[0m \u001b[1m\u001b[33mA\u001b[0m \u001b[1m\u001b[33mA\u001b[0m \u001b[1m\u001b[33mA\u001b[0m \u001b[1m\u001b[33mA\u001b[0m | | | | | | | | | | | | | | | | | | | | | | | | | | | | | | | \n",
      "2023-11-29 \u001b[1m\u001b[31mR\u001b[0m \u001b[1m\u001b[31mR\u001b[0m \u001b[1m\u001b[31mR\u001b[0m \u001b[1m\u001b[31mR\u001b[0m \u001b[1m\u001b[31mR\u001b[0m \u001b[1m\u001b[33mA\u001b[0m \u001b[1m\u001b[33mA\u001b[0m \u001b[1m\u001b[33mA\u001b[0m \u001b[1m\u001b[33mA\u001b[0m \u001b[1m\u001b[33mA\u001b[0m \u001b[1m\u001b[33mA\u001b[0m \u001b[1m\u001b[33mA\u001b[0m \u001b[1m\u001b[33mA\u001b[0m \u001b[1m\u001b[33mA\u001b[0m \u001b[1m\u001b[33mA\u001b[0m \u001b[1m\u001b[33mA\u001b[0m | | | | | | | | | | | | | | | | | | | | \n",
      "2023-11-30 | | | | | \u001b[1m\u001b[34mV\u001b[0m \u001b[1m\u001b[31mR\u001b[0m \u001b[1m\u001b[31mR\u001b[0m \u001b[1m\u001b[31mR\u001b[0m \u001b[1m\u001b[31mR\u001b[0m \u001b[1m\u001b[31mR\u001b[0m \u001b[1m\u001b[31mR\u001b[0m \u001b[1m\u001b[31mR\u001b[0m \u001b[1m\u001b[31mR\u001b[0m \u001b[1m\u001b[31mR\u001b[0m \u001b[1m\u001b[31mR\u001b[0m \u001b[1m\u001b[33mA\u001b[0m \u001b[1m\u001b[33mA\u001b[0m \u001b[1m\u001b[33mA\u001b[0m | | | | | | | | | | | | | | | | | \n",
      "2023-12-01 | | | | | \u001b[1m\u001b[31mR\u001b[0m | | | | | | | | | | \u001b[1m\u001b[31mR\u001b[0m \u001b[1m\u001b[31mR\u001b[0m \u001b[1m\u001b[31mR\u001b[0m \u001b[1m\u001b[33mA\u001b[0m | | | | | | | | | | | | | | | | \n",
      "2023-12-02 | | | | | | | | | | | | | | | | | | | \u001b[1m\u001b[31mR\u001b[0m \u001b[1m\u001b[33mA\u001b[0m \u001b[1m\u001b[33mA\u001b[0m | | | | | | | | | | | | | | \n",
      "2023-12-03 | | | | | | | | | | | | | | | | | | | | \u001b[1m\u001b[31mR\u001b[0m \u001b[1m\u001b[31mR\u001b[0m \u001b[1m\u001b[33mA\u001b[0m \u001b[1m\u001b[33mA\u001b[0m \u001b[1m\u001b[33mA\u001b[0m \u001b[1m\u001b[33mA\u001b[0m \u001b[1m\u001b[33mA\u001b[0m | | | | | | | | | \n",
      "2023-12-04 | | | | | | | | | | | | | | | | | | | | | | \u001b[1m\u001b[31mR\u001b[0m \u001b[1m\u001b[31mR\u001b[0m \u001b[1m\u001b[31mR\u001b[0m \u001b[1m\u001b[31mR\u001b[0m \u001b[1m\u001b[34mV\u001b[0m \u001b[1m\u001b[33mA\u001b[0m \u001b[1m\u001b[33mA\u001b[0m | | | | | | | \n",
      "2023-12-05 | | | | | | | | | | | | | | | | | | | | | | | | | | | \u001b[1m\u001b[31mR\u001b[0m \u001b[1m\u001b[31mR\u001b[0m \u001b[1m\u001b[33mA\u001b[0m \u001b[1m\u001b[33mA\u001b[0m \u001b[1m\u001b[33mA\u001b[0m \u001b[1m\u001b[33mA\u001b[0m | | | \n",
      "2023-12-06 | | | | | | | | | | | | | | | | | | | | | | | | | | | | | \u001b[1m\u001b[31mR\u001b[0m \u001b[1m\u001b[31mR\u001b[0m \u001b[1m\u001b[31mR\u001b[0m \u001b[1m\u001b[31mR\u001b[0m \u001b[1m\u001b[33mA\u001b[0m \u001b[1m\u001b[33mA\u001b[0m \u001b[1m\u001b[33mA\u001b[0m \n",
      "2023-12-07 | | | | | | | | | | | | | | | | | | | | | | | | | | | | | | | | | \u001b[1m\u001b[31mR\u001b[0m \u001b[1m\u001b[34mV\u001b[0m \u001b[1m\u001b[31mR\u001b[0m \n",
      "2023-12-08 | | | | | | | | | | | | | | | | | | | | | | | | | | | | | | | | | | \u001b[1m\u001b[31mR\u001b[0m | \n",
      "2023-12-09 | | | | | | | | | | | | | | | | | | | | | | | | | | | | | | | | | | | | \n",
      "2023-12-10 | | | | | | | | | | | | | | | | | | | | | | | | | | | | | | | | | | | | \n",
      "2023-12-11 | | | | | | | | | | | | | | | | | | | | | | | | | | | | | | | | | | | | \n",
      "2023-12-12 | | | | | | | | | | | | | | | | | | | | | | | | | | | | | | | | | | | | \n",
      "2023-12-13 | | | | | | | | | | | | | | | | | | | | | | | | | | | | | | | | | | | | \n",
      "2023-12-14 | | | | | | | | | | | | | | | | | | | | | | | | | | | | | | | | | | | | \n",
      "2023-12-15 | | | | | | | | | | | | | | | | | | | | | | | | | | | | | | | | | | | | \n",
      "2023-12-16 | | | | | | | | | | | | | | | | | | | | | | | | | | | | | | | | | | | | \n",
      "2023-12-17 | | | | | | | | | | | | | | | | | | | | | | | | | | | | | | | | | | | | \n",
      "2023-12-18 | | | | | | | | | | | | | | | | | | | | | | | | | | | | | | | | | | | | \n",
      "2023-12-19 | | | | | | | | | | | | | | | | | | | | | | | | | | | | | | | | | | | | \n",
      "2023-12-20 | | | | | | | | | | | | | | | | | | | | | | | | | | | | | | | | | | | | \n",
      "2023-12-21 | | | | | | | | | | | | | | | | | | | | | | | | | | | | | | | | | | | | \n",
      "2023-12-22 | | | | | | | | | | | | | | | | | | | | | | | | | | | | | | | | | | | | \n",
      "2023-12-23 | | | | | | | | | | | | | | | | | | | | | | | | | | | | | | | | | | | | \n",
      "2023-12-24 | | | | | | | | | | | | | | | | | | | | | | | | | | | | | | | | | | | | \n",
      "2023-12-25 | | | | | | | | | | | | | | | | | | | | | | | | | | | | | | | | | | | | \n",
      "2023-12-26 | | | | | | | | | | | | | | | | | | | | | | | | | | | | | | | | | | | | \n",
      "2023-12-27 | | | | | | | | | | | | | | | | | | | | | | | | | | | | | | | | | | | | \n",
      "2023-12-28 | | | | | | | | | | | | | | | | | | | | | | | | | | | | | | | | | | | | \n",
      "2023-12-29 | | | | | | | | | | | | | | | | | | | | | | | | | | | | | | | | | | | | \n",
      "2023-12-30 | | | | | | | | | | | | | | | | | | | | | | | | | | | | | | | | | | | | \n",
      "2023-12-31 | | | | | | | | | | | | | | | | | | | | | | | | | | | | | | | | | | | | \n",
      "2024-01-01 | | | | | | | | | | | | | | | | | | | | | | | | | | | | | | | | | | | | \n",
      "2024-01-02 | | | | | | | | | | | | | | | | | | | | | | | | | | | | | | | | | | | | \n",
      "2024-01-03 | | | | | | | | | | | | | | | | | | | | | | | | | | | | | | | | | | | | \n",
      "2024-01-04 | | | | | | | | | | | | | | | | | | | | | | | | | | | | | | | | | | | | \n",
      "2024-01-05 | | | | | | | | | | | | | | | | | | | | | | | | | | | | | | | | | | | | \n",
      "2024-01-06 | | | | | | | | | | | | | | | | | | | | | | | | | | | | | | | | | | | | \n",
      "2024-01-07 | | | | | | | | | | | | | | | | | | | | | | | | | | \u001b[1m\u001b[32mO\u001b[0m | | | | | | | | | \n",
      "2024-01-08 | | | | | | | | | | | | | | | | | | | | | | | | | | | | | | | | | | | | \n",
      "2024-01-09 | | | | | | | | | | | | | | | | | | | | | | | | | | | | | | | | | | | | \n",
      "2024-01-10 | | | | | | | | | | | | | | | | | | | | | | | | | | | | | | | | | | | | \n",
      "2024-01-11 | | | | | | | | | | | | | | | | | | | | | | | | | | | | | | | | | | | | \n",
      "2024-01-12 | | | | | | | | | | | | | | | | | | | | | | | | | | | | | | | | | | | | \n",
      "2024-01-13 | | | | | | | | | | | | | | | | | | | | | | | | | | | | | | | | | | | | \n",
      "2024-01-14 | | | | | | | | | | | | | | | | | | | | | | | | | | | | | | | | | | | | \n",
      "2024-01-15 | | | | | | | | | | | | | | | | | | | | | | | | | | | | | | | | | | | | \n",
      "2024-01-16 | | | | | | | | | | | | | | | | | | | | | | | | | | | | | | | | | | | | \n",
      "2024-01-17 | | | | | | | | | | | | | | | | | | | | | | | | | | | | | | | | | | | | \n",
      "2024-01-18 | | | | | | | | | | | | | | | | | | | | | | | | | | | | | | | | | | | | \n",
      "2024-01-19 | | | | | | | | | | | | | | | | | | | | | | | | | | | | | | | | | | | | \n",
      "2024-01-20 | | | | | | | | | | | | | | | | | | | | | | | | | | | | | | | | | | | | \n",
      "2024-01-21 | | | | | | | | | | | | | | | | | | | | | | | | | | | | | | | | | | | | \n",
      "2024-01-22 | | | | | | | | | | | | | | | | | | | | | | | | | | | | | | | | | | | | \n",
      "2024-01-23 | | | | | | | | | | | | | | | | | | | | | | | | | | | | | | | | | | | | \n",
      "2024-01-24 | | | | | | | | | | | | | | | | | | | | | | | | | | | | | | | | | | | | \n",
      "2024-01-25 | | | | | | | | | | | | | | | | | | | | | | | | | | | | | | | | | | | | \n",
      "2024-01-26 | | | | | | | | | | | | | | | | | | | | | | | | | | | | | | | | | | | | \n",
      "2024-01-27 | | | | | | | | | | | | | | | | | | | | | | | | | | | | | | | | | | | | \n",
      "2024-01-28 | | | | | | | | | | | | | | | | | | | | | | | | | | | | | | | | | | | | \n",
      "2024-01-29 | | | | | | | | | | | | | | | | | | | | | | | | | | | | | | | | | | | | \n",
      "2024-01-30 | | | | | | | | | | | | | | | | | | | | | | | | | | | | | | | | | | | | \n",
      "2024-01-31 | | | | | | | | | | | | | | | | | | | | | | | | | | | | | | | | | | | | \n",
      "2024-02-01 | | | | | | | | | | | | | | | | | | | | | | | | | | | | | | | | | | | | \n",
      "2024-02-02 | | | | | | | | | | | | | | | | | | | | | | | | | | | | | | | | | | | | \n",
      "2024-02-03 | | | | | | | | | | | | | | | | | | | | | | | | | | | | | | | | | | | | \n"
     ]
    },
    {
     "data": {
      "text/plain": [
       "(41, 1.0)"
      ]
     },
     "execution_count": 44,
     "metadata": {},
     "output_type": "execute_result"
    }
   ],
   "source": [
    "x = simulate_req(req, best_reqs, print_pipes=True)\n",
    "x['post_to_offer'], np.mean(x['waiting_days'])"
   ]
  },
  {
   "cell_type": "code",
   "execution_count": 45,
   "id": "1319d09a-e82c-4248-b519-314d583f31e3",
   "metadata": {},
   "outputs": [
    {
     "ename": "IndentationError",
     "evalue": "expected an indented block (3387006614.py, line 2)",
     "output_type": "error",
     "traceback": [
      "\u001b[0;36m  Cell \u001b[0;32mIn[45], line 2\u001b[0;36m\u001b[0m\n\u001b[0;31m    \u001b[0m\n\u001b[0m    ^\u001b[0m\n\u001b[0;31mIndentationError\u001b[0m\u001b[0;31m:\u001b[0m expected an indented block\n"
     ]
    }
   ],
   "source": [
    "def get_req_features(req, req_apps):\n",
    "    "
   ]
  }
 ],
 "metadata": {
  "kernelspec": {
   "display_name": "Python 3 (ipykernel)",
   "language": "python",
   "name": "python3"
  },
  "language_info": {
   "codemirror_mode": {
    "name": "ipython",
    "version": 3
   },
   "file_extension": ".py",
   "mimetype": "text/x-python",
   "name": "python",
   "nbconvert_exporter": "python",
   "pygments_lexer": "ipython3",
   "version": "3.9.5"
  }
 },
 "nbformat": 4,
 "nbformat_minor": 5
}
