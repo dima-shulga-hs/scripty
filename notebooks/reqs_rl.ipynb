{
 "cells": [
  {
   "cell_type": "code",
   "execution_count": 194,
   "id": "06aa8375-ab56-409f-95e2-cca20b78ead3",
   "metadata": {
    "tags": []
   },
   "outputs": [],
   "source": [
    "import random as rn\n",
    "import pickle\n",
    "from datetime import datetime\n",
    "import pandas as pd\n",
    "from hs_gimme.db_facade.db_facade_factory import get_mongo_client_db\n",
    "from hs_tree_blenders_creation.batch_runners.data_sets import get_account_test_set, get_account_train_set\n",
    "from hs_gimme.application_status_history_classifier.machine_learning_status_classifier import \\\n",
    "    get_machine_learning_status_classifier\n",
    "from tqdm import tqdm\n",
    "from collections import defaultdict\n",
    "import matplotlib.pyplot as plt\n",
    "import matplotlib.dates as mdates\n",
    "import seaborn as sb\n",
    "from datetime import timedelta\n",
    "import copy\n",
    "from collections import Counter\n",
    "from sklearn.linear_model import LogisticRegression"
   ]
  },
  {
   "cell_type": "code",
   "execution_count": 2,
   "id": "4ebd9aaa-63c0-4eb6-96b7-5a261466a68d",
   "metadata": {
    "tags": []
   },
   "outputs": [],
   "source": [
    "ENV = 'production'\n",
    "ACCOUNT = 'dallas'"
   ]
  },
  {
   "cell_type": "code",
   "execution_count": 3,
   "id": "5f789847-1af0-459d-8696-43e59a00d872",
   "metadata": {
    "tags": []
   },
   "outputs": [
    {
     "name": "stdout",
     "output_type": "stream",
     "text": [
      "\u001b[2m2024-03-04T14:34:31.927992Z\u001b[0m [\u001b[32m\u001b[1minfo     \u001b[0m] \u001b[1mMongos instances selected     \u001b[0m \u001b[36menvironment\u001b[0m=\u001b[35mlocal\u001b[0m \u001b[36mfile_path\u001b[0m=\u001b[35m/Users/dima/hiredscore/gimme/hs_gimme/db_facade/connection_string_builder.py\u001b[0m \u001b[36mfunction_name\u001b[0m=\u001b[35mget_selected_mongos_instances\u001b[0m \u001b[36mhostname\u001b[0m=\u001b[35mDima-Shulga-MacBook-Pro\u001b[0m \u001b[36mhosts\u001b[0m=\u001b[35m['applicativedb-prod-mongos-3.omcomcom.com', 'applicativedb-prod-mongos-0.omcomcom.com']\u001b[0m \u001b[36mline_number\u001b[0m=\u001b[35m38\u001b[0m \u001b[36mmodule\u001b[0m=\u001b[35mhs_gimme.db_facade.connection_string_builder\u001b[0m \u001b[36mpid\u001b[0m=\u001b[35m42786\u001b[0m\n"
     ]
    }
   ],
   "source": [
    "mongo = gmcdb(ENV, ACCOUNT)"
   ]
  },
  {
   "cell_type": "code",
   "execution_count": 4,
   "id": "62cb0595-55e2-4888-854b-f88942d84b45",
   "metadata": {
    "tags": []
   },
   "outputs": [],
   "source": [
    "req_fields =  ['job_department',\n",
    "              'country',\n",
    "               'external_job_band',\n",
    "               'external_recruiters',\n",
    "               'top_category',\n",
    "               'sub_category',\n",
    "               'job_education',\n",
    "               'seniority_level',\n",
    "               'min_years_of_relevant_experience',\n",
    "               'max_years_of_relevant_experience',\n",
    "               'max_salary',\n",
    "               'job_type',\n",
    "               'is_visa_required',\n",
    "               'is_remote_location', \n",
    "               'external_status',\n",
    "               'industry',\n",
    "               'open_date',\n",
    "               'past_candidates_distribution_date',\n",
    "               'is_recent_grad', \n",
    "               'is_intern',\n",
    "               '_created_at',\n",
    "               'date_posted',\n",
    "               'job_create_date',\n",
    "               'last_edit_date',\n",
    "               'status_history',\n",
    "               'recruiter_roles',\n",
    "               'recruiting_type']"
   ]
  },
  {
   "cell_type": "code",
   "execution_count": 5,
   "id": "7ef4e666-6a60-4b34-aa4a-870b0c035880",
   "metadata": {
    "tags": []
   },
   "outputs": [],
   "source": [
    "reference_date = datetime(2023, 11, 1)"
   ]
  },
  {
   "cell_type": "code",
   "execution_count": 6,
   "id": "b292edc8-5008-423d-b430-16a6c984c5c5",
   "metadata": {
    "tags": []
   },
   "outputs": [
    {
     "data": {
      "text/plain": [
       "136"
      ]
     },
     "execution_count": 6,
     "metadata": {},
     "output_type": "execute_result"
    }
   ],
   "source": [
    "reqs = list(mongo.req.find({'_created_at': {'$gt': reference_date}, 'date_posted': \n",
    "                            {'$gt': reference_date}, 'external_status': 'Filled'\n",
    "                           }, req_fields))\n",
    "len(reqs)"
   ]
  },
  {
   "cell_type": "code",
   "execution_count": 7,
   "id": "71a692b5-65e1-46e0-b54d-ca02f67b1f27",
   "metadata": {
    "tags": []
   },
   "outputs": [],
   "source": [
    "req_ids = [r['_id'] for r in reqs]"
   ]
  },
  {
   "cell_type": "code",
   "execution_count": 8,
   "id": "f00bebc5-5ec9-47bb-a6eb-1dd77154e129",
   "metadata": {
    "tags": []
   },
   "outputs": [],
   "source": [
    "app_fields = ['req_id', 'ats_application', 'is_internal', 'grade_data.explainable_score_data']"
   ]
  },
  {
   "cell_type": "code",
   "execution_count": 9,
   "id": "3602559f-577f-4778-9cc9-ff4146f9bbe6",
   "metadata": {
    "tags": []
   },
   "outputs": [
    {
     "name": "stdout",
     "output_type": "stream",
     "text": [
      "\u001b[2m2024-03-04T14:34:50.882281Z\u001b[0m [\u001b[33m\u001b[1mwarning  \u001b[0m] \u001b[1mSlowLog                       \u001b[0m \u001b[36mcommand_name\u001b[0m=\u001b[35mgetMore\u001b[0m \u001b[36mconnection_id\u001b[0m=\u001b[35mapplicativedb-prod-mongos-3.omcomcom.com:27017\u001b[0m \u001b[36mduration_ms__numeric\u001b[0m=\u001b[35m10139.77\u001b[0m \u001b[36mduration_threshold__numeric\u001b[0m=\u001b[35m10000\u001b[0m \u001b[36menvironment\u001b[0m=\u001b[35mlocal\u001b[0m \u001b[36mfile_path\u001b[0m=\u001b[35m/Users/dima/hiredscore/gimme/hs_gimme/db_facade/slow_logs_utils.py\u001b[0m \u001b[36mfunction_name\u001b[0m=\u001b[35mwrite_slow_log\u001b[0m \u001b[36mhostname\u001b[0m=\u001b[35mDima-Shulga-MacBook-Pro\u001b[0m \u001b[36mline_number\u001b[0m=\u001b[35m11\u001b[0m \u001b[36mmodule\u001b[0m=\u001b[35mhs_gimme.db_facade.slow_logs_utils\u001b[0m \u001b[36mpid\u001b[0m=\u001b[35m42786\u001b[0m \u001b[36mrequest_id\u001b[0m=\u001b[35m1264817709\u001b[0m \u001b[36msource\u001b[0m=\u001b[35mPyMongo\u001b[0m \u001b[36mstack_snippet\u001b[0m=\u001b[35m\n",
      "  File \"/var/folders/_p/8_m91crj199_rd7sndkxncc80000gp/T/ipykernel_42786/3184223210.py\", line 1, in <module>\n",
      "    apps = list(mongo.application.find({'req_id': {'$in': req_ids}}, app_fields))\n",
      "\u001b[0m\n"
     ]
    },
    {
     "data": {
      "text/plain": [
       "9702"
      ]
     },
     "execution_count": 9,
     "metadata": {},
     "output_type": "execute_result"
    }
   ],
   "source": [
    "apps = list(mongo.application.find({'req_id': {'$in': req_ids}}, app_fields))\n",
    "len(apps)"
   ]
  },
  {
   "cell_type": "code",
   "execution_count": 10,
   "id": "c2e5fdf3-a8c9-4a48-b061-85e260e845f4",
   "metadata": {
    "tags": []
   },
   "outputs": [],
   "source": [
    "status_cls = get_machine_learning_status_classifier(ENV, ACCOUNT)"
   ]
  },
  {
   "cell_type": "code",
   "execution_count": 11,
   "id": "e7fd713d-54af-4827-adf9-fb34b263f006",
   "metadata": {
    "tags": []
   },
   "outputs": [],
   "source": [
    "for app in apps:\n",
    "    app['phases_dates'] = status_cls.get_phases_reach_dates(app)\n",
    "    app['max_status'] = status_cls.get_max_status(app)"
   ]
  },
  {
   "cell_type": "code",
   "execution_count": 12,
   "id": "c7483e0a-e6dc-4172-8925-9345cfab9d19",
   "metadata": {
    "tags": []
   },
   "outputs": [],
   "source": [
    "req_to_apps = defaultdict(dict)\n",
    "for app in apps:\n",
    "    if 'offer' in app['phases_dates'] and 'interview' not in app['phases_dates']:\n",
    "        pass\n",
    "    else:\n",
    "        req_to_apps[app['req_id']][app['_id']] = app"
   ]
  },
  {
   "cell_type": "code",
   "execution_count": 13,
   "id": "de9bc6ff-c427-4eb8-a4e7-0006031ba5a4",
   "metadata": {
    "tags": []
   },
   "outputs": [],
   "source": [
    "def get_app_waiting_time(app):\n",
    "    try:\n",
    "        first_response = min(d for k, d in app['phases_dates'].items() if k in {'rejected', 'interview'})\n",
    "        return (first_response - app['ats_application']['date_applied']).days\n",
    "    except:\n",
    "        return 0"
   ]
  },
  {
   "cell_type": "code",
   "execution_count": 14,
   "id": "40f5e9f2-2655-448e-829a-80b90fb60151",
   "metadata": {
    "tags": []
   },
   "outputs": [],
   "source": [
    "def make_action_on_app(action, app):\n",
    "    app = copy.deepcopy(app)\n",
    "    \n",
    "    if 'offer' in app['phases_dates'] and 'interview' in app['phases_dates']:\n",
    "        offer_days = (app['phases_dates']['offer'] - app['phases_dates']['interview']).days\n",
    "    elif 'offer' in app['phases_dates'] and 'interview' not in app['phases_dates']:\n",
    "        offer_days = (app['phases_dates']['offer'] - app['ats_application']['date_applied']).days\n",
    "\n",
    "    app['phases_dates'][action['action']] = action['date']\n",
    "    \n",
    "    if action['action'] == 'interview' and 'offer' in app['phases_dates']:\n",
    "        app['phases_dates']['offer'] = action['date'] + timedelta(days=offer_days)\n",
    "        \n",
    "    return app"
   ]
  },
  {
   "cell_type": "code",
   "execution_count": 15,
   "id": "34a8aee9-bc71-4c76-bdbd-5b5b1daa5dc5",
   "metadata": {
    "tags": []
   },
   "outputs": [],
   "source": [
    "user_to_reqs = defaultdict(list)\n",
    "for req in reqs:\n",
    "    user_to_reqs[req['recruiter_roles']['recruiter']].append(req)"
   ]
  },
  {
   "cell_type": "code",
   "execution_count": 16,
   "id": "f78c3387-dfbe-48f9-8d74-212ac4b4462a",
   "metadata": {
    "tags": []
   },
   "outputs": [
    {
     "data": {
      "text/plain": [
       "3"
      ]
     },
     "execution_count": 16,
     "metadata": {},
     "output_type": "execute_result"
    }
   ],
   "source": [
    "user_id = list(user_to_reqs.keys())[1]\n",
    "len(user_to_reqs[user_id])"
   ]
  },
  {
   "cell_type": "code",
   "execution_count": 17,
   "id": "98b57275-047b-4447-bb4b-213fa8a8b6b4",
   "metadata": {
    "tags": []
   },
   "outputs": [],
   "source": [
    "def get_req_possible_actions(req_apps, current_date):\n",
    "    actions = []\n",
    "    for app in req_apps.values(): \n",
    "        phases = {p for p, v in app['phases_dates'].items() if v.date() <= current_date.date()}\n",
    "        \n",
    "        if phases and not ({'rejected', 'interview'} & phases):\n",
    "            fails = app['grade_data']['explainable_score_data']['explain']['qualification_types_failures']\n",
    "            score = app['grade_data']['explainable_score_data']['explainable_score']\n",
    "            action = {\n",
    "                    'action': 'reject',\n",
    "                    'app_id': app['_id'],\n",
    "                    'date': current_date,\n",
    "                    'reason': 'feild basic quals',\n",
    "                    'score': score,\n",
    "                    'app_max_status': int(app['max_status']),\n",
    "                    'app_phases': app['phases_dates']\n",
    "                }\n",
    "            if len(fails) > 0:\n",
    "                action['action'] = 'rejected'\n",
    "                action['reason'] = 'failed basic quals: ' + str(fails)\n",
    "            elif score < 3:\n",
    "                action['action'] = 'rejected'\n",
    "                action['reason'] = f'score is low ({score})'\n",
    "            else:\n",
    "                action['action'] = 'interview'\n",
    "                action['reason'] = f'score is high ({score})'\n",
    "\n",
    "            actions.append(action)\n",
    "        \n",
    "    return actions"
   ]
  },
  {
   "cell_type": "code",
   "execution_count": 18,
   "id": "ccca0fc0-d1d6-41c5-8d80-c8bbe36639b3",
   "metadata": {
    "tags": []
   },
   "outputs": [],
   "source": [
    "def simulate_req(req_apps, post_date, actions):\n",
    "    new_apps = copy.deepcopy(req_apps)\n",
    "    num_of_interviews = 0\n",
    "    offer_date = None\n",
    "    for action in actions: \n",
    "        app_id = action['app_id']\n",
    "        app = new_apps[app_id]\n",
    "        \n",
    "        new_apps[app_id] = make_action_on_app(action, app)\n",
    "        \n",
    "    for app in new_apps.values():\n",
    "        if 'offer' in app['phases_dates']:\n",
    "            offer_date = app['phases_dates']['offer']\n",
    "            \n",
    "        num_of_interviews += 'interview' in app['phases_dates']\n",
    "            \n",
    "    return {\n",
    "        'post_to_offer': (offer_date - post_date).days,\n",
    "        'waiting_days': np.mean([get_app_waiting_time(a) for a in new_apps.values()]),\n",
    "        'num_of_interviews': num_of_interviews\n",
    "    }, new_apps\n",
    "\n",
    "\n",
    "def print_req(req, req_apps):\n",
    "    date = req['status_history']['Post'][0]\n",
    "    while True:\n",
    "        print(date.date(), end=' ')\n",
    "        for app in list(req_apps.values())[:70]:\n",
    "            if app['ats_application']['date_applied'].date() == date.date():\n",
    "                print('\\033[1m\\033[33mA\\033[0m', end=' ')\n",
    "            elif app['phases_dates'].get('rejected', datetime.now()).date() == date.date():\n",
    "                print('\\033[1m\\033[31mR\\033[0m', end=' ')\n",
    "            elif app['phases_dates'].get('interview', datetime.now()).date() == date.date():\n",
    "                print('\\033[1m\\033[34mV\\033[0m', end=' ')\n",
    "            elif app['phases_dates'].get('offer', datetime.now()).date() == date.date():\n",
    "                print('\\033[1m\\033[32mO\\033[0m', end=' ')\n",
    "            else:\n",
    "                print('|', end=' ')\n",
    "                    \n",
    "        print()\n",
    "        date = date + timedelta(days=1)\n",
    "        if date.date() == req['status_history']['Filled'][0].date():\n",
    "            break"
   ]
  },
  {
   "cell_type": "code",
   "execution_count": 151,
   "id": "1e8b0f5c-4ce6-4a01-9ed4-8da380a69116",
   "metadata": {
    "tags": []
   },
   "outputs": [
    {
     "data": {
      "text/plain": [
       "{'Open': [datetime.datetime(2023, 10, 30, 0, 0)],\n",
       " 'Approve': [datetime.datetime(2023, 10, 30, 0, 0)],\n",
       " 'Post': [datetime.datetime(2023, 11, 10, 0, 0),\n",
       "  datetime.datetime(2024, 1, 5, 0, 0)],\n",
       " 'Filled': [datetime.datetime(2024, 2, 13, 8, 8, 43, 619000)]}"
      ]
     },
     "execution_count": 151,
     "metadata": {},
     "output_type": "execute_result"
    }
   ],
   "source": [
    "req = user_to_reqs[user_id][0]\n",
    "req_apps = req_to_apps[req['_id']]\n",
    "req['status_history']"
   ]
  },
  {
   "cell_type": "code",
   "execution_count": 152,
   "id": "e1442fd5-4be3-4a28-84eb-0507a7c40c73",
   "metadata": {
    "tags": []
   },
   "outputs": [
    {
     "name": "stdout",
     "output_type": "stream",
     "text": [
      "2023-11-10 | | | | | | | | | | | | | | | | | | | | | | | | | | | | | | | | | | | | | | | | | | | | | | | | | | | | | | | | | | | | | | | | | | | | | | \n",
      "2023-11-11 \u001b[1m\u001b[33mA\u001b[0m \u001b[1m\u001b[33mA\u001b[0m \u001b[1m\u001b[33mA\u001b[0m \u001b[1m\u001b[33mA\u001b[0m \u001b[1m\u001b[33mA\u001b[0m \u001b[1m\u001b[33mA\u001b[0m \u001b[1m\u001b[33mA\u001b[0m \u001b[1m\u001b[33mA\u001b[0m \u001b[1m\u001b[33mA\u001b[0m \u001b[1m\u001b[33mA\u001b[0m \u001b[1m\u001b[33mA\u001b[0m \u001b[1m\u001b[33mA\u001b[0m \u001b[1m\u001b[33mA\u001b[0m \u001b[1m\u001b[33mA\u001b[0m \u001b[1m\u001b[33mA\u001b[0m \u001b[1m\u001b[33mA\u001b[0m \u001b[1m\u001b[33mA\u001b[0m \u001b[1m\u001b[33mA\u001b[0m \u001b[1m\u001b[33mA\u001b[0m \u001b[1m\u001b[33mA\u001b[0m \u001b[1m\u001b[33mA\u001b[0m \u001b[1m\u001b[33mA\u001b[0m \u001b[1m\u001b[33mA\u001b[0m \u001b[1m\u001b[33mA\u001b[0m \u001b[1m\u001b[33mA\u001b[0m \u001b[1m\u001b[33mA\u001b[0m \u001b[1m\u001b[33mA\u001b[0m \u001b[1m\u001b[33mA\u001b[0m \u001b[1m\u001b[33mA\u001b[0m \u001b[1m\u001b[33mA\u001b[0m \u001b[1m\u001b[33mA\u001b[0m \u001b[1m\u001b[33mA\u001b[0m \u001b[1m\u001b[33mA\u001b[0m \u001b[1m\u001b[33mA\u001b[0m \u001b[1m\u001b[33mA\u001b[0m \u001b[1m\u001b[33mA\u001b[0m | | | | | | | | | | | | | | | | | | | | | | | | | | | | | | | | | | \n",
      "2023-11-12 | | | | | | | | | | | | | | | | | | | | | | | | | | | | | | | | | | | | \u001b[1m\u001b[33mA\u001b[0m \u001b[1m\u001b[33mA\u001b[0m \u001b[1m\u001b[33mA\u001b[0m \u001b[1m\u001b[33mA\u001b[0m \u001b[1m\u001b[33mA\u001b[0m \u001b[1m\u001b[33mA\u001b[0m \u001b[1m\u001b[33mA\u001b[0m \u001b[1m\u001b[33mA\u001b[0m \u001b[1m\u001b[33mA\u001b[0m \u001b[1m\u001b[33mA\u001b[0m \u001b[1m\u001b[33mA\u001b[0m \u001b[1m\u001b[33mA\u001b[0m \u001b[1m\u001b[33mA\u001b[0m | | | | | | | | | | | | | | | | | | | | | \n",
      "2023-11-13 | | | | | | | | | | | | | | | | | | | | | | | | | | | | | | | | | | | | | | | | | | | | | | | | | \u001b[1m\u001b[33mA\u001b[0m \u001b[1m\u001b[33mA\u001b[0m \u001b[1m\u001b[33mA\u001b[0m \u001b[1m\u001b[33mA\u001b[0m \u001b[1m\u001b[33mA\u001b[0m \u001b[1m\u001b[33mA\u001b[0m \u001b[1m\u001b[33mA\u001b[0m \u001b[1m\u001b[33mA\u001b[0m \u001b[1m\u001b[33mA\u001b[0m \u001b[1m\u001b[33mA\u001b[0m \u001b[1m\u001b[33mA\u001b[0m \u001b[1m\u001b[33mA\u001b[0m \u001b[1m\u001b[33mA\u001b[0m \u001b[1m\u001b[33mA\u001b[0m \u001b[1m\u001b[33mA\u001b[0m \u001b[1m\u001b[33mA\u001b[0m \u001b[1m\u001b[33mA\u001b[0m \u001b[1m\u001b[33mA\u001b[0m \u001b[1m\u001b[33mA\u001b[0m \u001b[1m\u001b[33mA\u001b[0m \u001b[1m\u001b[33mA\u001b[0m \n",
      "2023-11-14 | | | | | | | | | | | | | | | | | | | | | | | | | | | | | | | | | | | | | | | | | | | | | | | | | | | | | | | | | | | | | | | | | | | | | | \n",
      "2023-11-15 | | | | | | | | | | | | | | | | | | | | | | | | | | | | | | | | | | | | | | | | | | | | | | | | | | | | | | | | | | | | | | | | | | | | | | \n",
      "2023-11-16 | | | | | | | | | | | | | | | | | | | | | | | | | | | | | | | | | | | | | | | | | | | | | | | | | | | | | | | | | | | | | | | | | | | | | | \n",
      "2023-11-17 | \u001b[1m\u001b[31mR\u001b[0m | | | | | | | | | | | | | | | | | | | | | | | | | | | | | | | | | | | | | | | | | \u001b[1m\u001b[31mR\u001b[0m | | | | | | | | | | | \u001b[1m\u001b[31mR\u001b[0m | | | | | | | | | | | | | | \n",
      "2023-11-18 | | | | | | | | | | | | | | | | | | | | | | | | | | | | | | | | | | | | | | | | | | | | | | | | | | | | | | | | | | | | | | | | | | | | | | \n",
      "2023-11-19 | | | | | | | | | | | | | | | | | | | | | | | | | | | | | | | | | | | | | | | | | | | | | | | | | | | | | | | | | | | | | | | | | | | | | | \n",
      "2023-11-20 | | | | | | | | | | | | | | | | | | | | | | | | | | | | | | | | | | | | | | | | | | | | | | | | | | | | | | | | | | | | | | | | | | | | | | \n",
      "2023-11-21 | | | | | | | | | | | | | | | | | | | | | | | | | | | | | | | | | | | | | | | | | | | | | | | | | | | | | | | | | | | | | | | | | | | | | | \n",
      "2023-11-22 | | | | | | | | | | | | | | | | | | | | | | | | | | | | | | | | | | | | | | | | | | | | | | | | | | | | | | | | | | | | | | | | | | | | | | \n",
      "2023-11-23 | | | | | | | | | | | | | | | | | | | | | | | | | | | | | | | | | | | | | | | | | | | | | | | | | | | | | | | | | | | | | | | | | | | | | | \n",
      "2023-11-24 | | | | | | | | | | | | | | | | | | | | | | | | | | | | | | | | | | | | | | | | | | | | | | | | | | | | | | | | | | | | | | | | | | | | | | \n",
      "2023-11-25 | | | | | | | | | | | | | | | | | | | | | | | | | | | | | | | | | | | | | | | | | | | | | | | | | | | | | | | | | | | | | | | | | | | | | | \n",
      "2023-11-26 | | | | | | | | | | | | | | | | | | | | | | | | | | | | | | | | | | | | | | | | | | | | | | | | | | | | | | | | | | | | | | | | | | | | | | \n",
      "2023-11-27 | | | | | | | | | | | | | | | | | | | | | | | | | | | | | | | | | | | | | | | | | | | | | | | | | | | | | | | | | | | | | | | | | | | | | | \n",
      "2023-11-28 | | | | | | | | | | | | | | | | | | | | | | | | | | | | | | | | | | | | | | | | | | | | | | | | | | | | | | | | | | | | | | | | \u001b[1m\u001b[31mR\u001b[0m | \u001b[1m\u001b[31mR\u001b[0m \u001b[1m\u001b[31mR\u001b[0m \u001b[1m\u001b[31mR\u001b[0m | \n",
      "2023-11-29 | | | | | | | | | | | | | | | | | | | | | | | | | | | | | | | | | | | | | | \u001b[1m\u001b[31mR\u001b[0m \u001b[1m\u001b[31mR\u001b[0m \u001b[1m\u001b[31mR\u001b[0m | \u001b[1m\u001b[31mR\u001b[0m | \u001b[1m\u001b[31mR\u001b[0m \u001b[1m\u001b[31mR\u001b[0m | \u001b[1m\u001b[31mR\u001b[0m \u001b[1m\u001b[31mR\u001b[0m \u001b[1m\u001b[31mR\u001b[0m | \u001b[1m\u001b[31mR\u001b[0m \u001b[1m\u001b[31mR\u001b[0m | \u001b[1m\u001b[31mR\u001b[0m | \u001b[1m\u001b[31mR\u001b[0m \u001b[1m\u001b[31mR\u001b[0m \u001b[1m\u001b[31mR\u001b[0m \u001b[1m\u001b[31mR\u001b[0m | | | \u001b[1m\u001b[31mR\u001b[0m | | | | | | \n",
      "2023-11-30 | | | | | | | | | | | | | | | | | | | | | | | | | | | | | | | | | | | | | | | | | | | | | | | | | | | | | | | | | | | | | | | | | | | | | | \n",
      "2023-12-01 | | | | | | | | | | | | | | | | | | | | | | | | | | | | | | | | | | | | | | | | | | | | | | | | | | | | | | | | | | | | | | | | | | | | | | \n",
      "2023-12-02 | | | | | | | | | | | | | | | | | | | | | | | | | | | | | | | | | | | | | | | | | | | | | | | | | | | | | | | | | | | | | | | | | | | | | | \n",
      "2023-12-03 | | | | | | | | | | | | | | | | | | | | | | | | | | | | | | | | | | | | | | | | | | | | | | | | | | | | | | | | | | | | | | | | | | | | | | \n",
      "2023-12-04 | | | | | | | | | | | | | | | | | | | | | | | | | | | | | | | | | | | | | | | | | | | | | | | | | | | | | | | | | | | | | | | | | | | | | | \n",
      "2023-12-05 | | | | | | | | | | | | | | | | | | | | | | | | | | | | | | | | | | | | | | | | | | | | | | \u001b[1m\u001b[34mV\u001b[0m | | | | | | | | | | | | | | | | | | | | | | | \n",
      "2023-12-06 | | | | | | | | | | | | | | | | | | | | | | | | | | | | | | | | | | | | | | | | | | | | | | | | | | | | | | | | | | | | \u001b[1m\u001b[31mR\u001b[0m \u001b[1m\u001b[31mR\u001b[0m \u001b[1m\u001b[31mR\u001b[0m | | \u001b[1m\u001b[31mR\u001b[0m | | | | \n",
      "2023-12-07 | | | | | | | | | | | | | | | | | | | | | | | | | | | | | | | | | | | | | | | | | | | | | | | | | | | | | | | | | | | | | | | | | | | | | | \n",
      "2023-12-08 | | | | | | | | | | | | | | | | | | | | | | | | | | | | | | | | | | | | | | | | | | | | | | | | | | | | | | | | | | | | | | | | | | | | | | \n",
      "2023-12-09 | | | | | | | | | | | | | | | | | | | | | | | | | | | | | | | | | | | | | | | | | | | | | | | | | | | | | | | | | | | | | | | | | | | | | | \n",
      "2023-12-10 | | | | | | | | | | | | | | | | | | | | | | | | | | | | | | | | | | | | | | | | | | | | | | | | | | | | | | | | | | | | | | | | | | | | | | \n",
      "2023-12-11 | | | | | | | | | | | | | | | | | | | | | | | | | | | | | | | | | | | | | | | | | | | | | | | | | | | | | | | | | | | | | | | | | | | | | | \n",
      "2023-12-12 | | | | | | | | | | | | | | | | | | | | | | | | | | | | | | | | | | | | | | | | | | | | | | | | | | | | | | | | | | | | | | | | | | | | | | \n",
      "2023-12-13 | | | | | | | | | | | | | | | | | | | | | | | | | | | | | | | | | | | | | | | | | | | | | | | | | | | | | | | | | | | | | | | | | | | | | | \n",
      "2023-12-14 | | | | | | | | | | | | | | | | | | | | | | | | | | | | | | | | | | | | | | | | | | | | | | | | | | | | | | | | | | | | | | | | | | | | | | \n",
      "2023-12-15 | | | | | | | | | | | | | | | | | | | | | | | | | | | | | | | | | | | | | | | | | | | | | | | | | | | | | | | | | | | | | | | | | | | | | | \n",
      "2023-12-16 | | | | | | | | | | | | | | | | | | | | | | | | | | | | | | | | | | | | | | | | | | | | | | | | | | | | | | | | | | | | | | | | | | | | | | \n",
      "2023-12-17 | | | | | | | | | | | | | | | | | | | | | | | | | | | | | | | | | | | | | | | | | | | | | | | | | | | | | | | | | | | | | | | | | | | | | | \n",
      "2023-12-18 | | | | | | | | | | | | | | | | | | | | | | | | | | | | | | | | | | | | | | | | | | | | | | | | | | | | | | | | | | | | | | | | | | | | | | \n",
      "2023-12-19 | | | | | | | | | | | | | | | | | | | | | | | | | | | | | | | | | | | | | | | | | | | | | | | | | | | | | | | | | | | | | | | | | | | | | | \n",
      "2023-12-20 | | | | | | | | | | | | | | | | | | | | | | | | | | | | | | | | | | | | | | | | | | | | | | | | | | | | | | | | | | | | | | | | | | | | | | \n",
      "2023-12-21 \u001b[1m\u001b[31mR\u001b[0m | \u001b[1m\u001b[31mR\u001b[0m \u001b[1m\u001b[31mR\u001b[0m \u001b[1m\u001b[31mR\u001b[0m \u001b[1m\u001b[31mR\u001b[0m \u001b[1m\u001b[31mR\u001b[0m \u001b[1m\u001b[31mR\u001b[0m \u001b[1m\u001b[31mR\u001b[0m \u001b[1m\u001b[31mR\u001b[0m \u001b[1m\u001b[31mR\u001b[0m \u001b[1m\u001b[31mR\u001b[0m \u001b[1m\u001b[31mR\u001b[0m \u001b[1m\u001b[31mR\u001b[0m \u001b[1m\u001b[31mR\u001b[0m \u001b[1m\u001b[31mR\u001b[0m \u001b[1m\u001b[31mR\u001b[0m \u001b[1m\u001b[31mR\u001b[0m \u001b[1m\u001b[31mR\u001b[0m \u001b[1m\u001b[31mR\u001b[0m \u001b[1m\u001b[31mR\u001b[0m \u001b[1m\u001b[31mR\u001b[0m \u001b[1m\u001b[31mR\u001b[0m \u001b[1m\u001b[31mR\u001b[0m \u001b[1m\u001b[31mR\u001b[0m \u001b[1m\u001b[31mR\u001b[0m \u001b[1m\u001b[31mR\u001b[0m \u001b[1m\u001b[31mR\u001b[0m \u001b[1m\u001b[31mR\u001b[0m \u001b[1m\u001b[31mR\u001b[0m \u001b[1m\u001b[31mR\u001b[0m \u001b[1m\u001b[31mR\u001b[0m \u001b[1m\u001b[31mR\u001b[0m \u001b[1m\u001b[31mR\u001b[0m \u001b[1m\u001b[31mR\u001b[0m \u001b[1m\u001b[31mR\u001b[0m \u001b[1m\u001b[31mR\u001b[0m \u001b[1m\u001b[31mR\u001b[0m | | | \u001b[1m\u001b[31mR\u001b[0m | | | | | | | | \u001b[1m\u001b[31mR\u001b[0m | | \u001b[1m\u001b[31mR\u001b[0m | | | | | | | | | | | | | | | \u001b[1m\u001b[31mR\u001b[0m \n",
      "2023-12-22 | | | | | | | | | | | | | | | | | | | | | | | | | | | | | | | | | | | | | | | | | | | | | | | | | | | | | | | | | | | | | | | | | | | | | | \n",
      "2023-12-23 | | | | | | | | | | | | | | | | | | | | | | | | | | | | | | | | | | | | | | | | | | | | | | | | | | | | | | | | | | | | | | | | | | | | | | \n",
      "2023-12-24 | | | | | | | | | | | | | | | | | | | | | | | | | | | | | | | | | | | | | | | | | | | | | | | | | | | | | | | | | | | | | | | | | | | | | | \n",
      "2023-12-25 | | | | | | | | | | | | | | | | | | | | | | | | | | | | | | | | | | | | | | | | | | | | | | | | | | | | | | | | | | | | | | | | | | | | | | \n",
      "2023-12-26 | | | | | | | | | | | | | | | | | | | | | | | | | | | | | | | | | | | | | | | | | | | | | | | | | | | | | | | | | | | | | | | | | | | | | | \n",
      "2023-12-27 | | | | | | | | | | | | | | | | | | | | | | | | | | | | | | | | | | | | | | | | | | | | | | | | | | | | | | | | | | | | | | | | | | | | | | \n",
      "2023-12-28 | | | | | | | | | | | | | | | | | | | | | | | | | | | | | | | | | | | | | | | | | | | | | | | | | | | | | | | | | | | | | | | | | | | | | | \n",
      "2023-12-29 | | | | | | | | | | | | | | | | | | | | | | | | | | | | | | | | | | | | | | | | | | | | | | | | | | | | | | | | | | | | | | | | | | | | | | \n",
      "2023-12-30 | | | | | | | | | | | | | | | | | | | | | | | | | | | | | | | | | | | | | | | | | | | | | | | | | | | | | | | | | | | | | | | | | | | | | | \n",
      "2023-12-31 | | | | | | | | | | | | | | | | | | | | | | | | | | | | | | | | | | | | | | | | | | | | | | | | | | | | | | | | | | | | | | | | | | | | | | \n",
      "2024-01-01 | | | | | | | | | | | | | | | | | | | | | | | | | | | | | | | | | | | | | | | | | | | | | | | | | | | | | | | | | | | | | | | | | | | | | | \n",
      "2024-01-02 | | | | | | | | | | | | | | | | | | | | | | | | | | | | | | | | | | | | | | | | | | | | | | | | | | | | | | | | | | | | | | | | | | | | | | \n",
      "2024-01-03 | | | | | | | | | | | | | | | | | | | | | | | | | | | | | | | | | | | | | | | | | | | | | | | | | | | | | | | | | | | | | | | | | | | | | | \n",
      "2024-01-04 | | | | | | | | | | | | | | | | | | | | | | | | | | | | | | | | | | | | | | | | | | | | | | | | | | | | | | | | | | | | | | | | | | | | | | \n",
      "2024-01-05 | | | | | | | | | | | | | | | | | | | | | | | | | | | | | | | | | | | | | | | | | | | | | | \u001b[1m\u001b[32mO\u001b[0m | | | | | | | | | | | | | | | | | | | | | | | \n",
      "2024-01-06 | | | | | | | | | | | | | | | | | | | | | | | | | | | | | | | | | | | | | | | | | | | | | | | | | | | | | | | | | | | | | | | | | | | | | | \n",
      "2024-01-07 | | | | | | | | | | | | | | | | | | | | | | | | | | | | | | | | | | | | | | | | | | | | | | | | | | | | | | | | | | | | | | | | | | | | | | \n",
      "2024-01-08 | | | | | | | | | | | | | | | | | | | | | | | | | | | | | | | | | | | | | | | | | | | | | | | | | | | | | | | | | | | | | | | | | | | | | | \n",
      "2024-01-09 | | | | | | | | | | | | | | | | | | | | | | | | | | | | | | | | | | | | | | | | | | | | | | | | | | | | | | | | | | | | | | | | | | | | | | \n",
      "2024-01-10 | | | | | | | | | | | | | | | | | | | | | | | | | | | | | | | | | | | | | | | | | | | | | | | | | | | | | | | | | | | | | | | | | | | | | | \n",
      "2024-01-11 | | | | | | | | | | | | | | | | | | | | | | | | | | | | | | | | | | | | | | | | | | | | | | | | | | | | | | | | | | | | | | | | | | | | | | \n",
      "2024-01-12 | | | | | | | | | | | | | | | | | | | | | | | | | | | | | | | | | | | | | | | | | | | | | | | | | | | | | | | | | | | | | | | | | | | | | | \n",
      "2024-01-13 | | | | | | | | | | | | | | | | | | | | | | | | | | | | | | | | | | | | | | | | | | | | | | | | | | | | | | | | | | | | | | | | | | | | | | \n",
      "2024-01-14 | | | | | | | | | | | | | | | | | | | | | | | | | | | | | | | | | | | | | | | | | | | | | | | | | | | | | | | | | | | | | | | | | | | | | | \n",
      "2024-01-15 | | | | | | | | | | | | | | | | | | | | | | | | | | | | | | | | | | | | | | | | | | | | | | | | | | | | | | | | | | | | | | | | | | | | | | \n",
      "2024-01-16 | | | | | | | | | | | | | | | | | | | | | | | | | | | | | | | | | | | | | | | | | | | | | | | | | | | | | | | | | | | | | | | | | | | | | | \n",
      "2024-01-17 | | | | | | | | | | | | | | | | | | | | | | | | | | | | | | | | | | | | | | | | | | | | | | | | | | | | | | | | | | | | | | | | | | | | | | \n",
      "2024-01-18 | | | | | | | | | | | | | | | | | | | | | | | | | | | | | | | | | | | | | | | | | | | | | | | | | | | | | | | | | | | | | | | | | | | | | | \n",
      "2024-01-19 | | | | | | | | | | | | | | | | | | | | | | | | | | | | | | | | | | | | | | | | | | | | | | | | | | | | | | | | | | | | | | | | | | | | | | \n",
      "2024-01-20 | | | | | | | | | | | | | | | | | | | | | | | | | | | | | | | | | | | | | | | | | | | | | | | | | | | | | | | | | | | | | | | | | | | | | | \n",
      "2024-01-21 | | | | | | | | | | | | | | | | | | | | | | | | | | | | | | | | | | | | | | | | | | | | | | | | | | | | | | | | | | | | | | | | | | | | | | \n",
      "2024-01-22 | | | | | | | | | | | | | | | | | | | | | | | | | | | | | | | | | | | | | | | | | | | | | | | | | | | | | | | | | | | | | | | | | | | | | | \n",
      "2024-01-23 | | | | | | | | | | | | | | | | | | | | | | | | | | | | | | | | | | | | | | | | | | | | | | | | | | | | | | | | | | | | | | | | | | | | | | \n",
      "2024-01-24 | | | | | | | | | | | | | | | | | | | | | | | | | | | | | | | | | | | | | | | | | | | | | | | | | | | | | | | | | | | | | | | | | | | | | | \n",
      "2024-01-25 | | | | | | | | | | | | | | | | | | | | | | | | | | | | | | | | | | | | | | | | | | | | | | | | | | | | | | | | | | | | | | | | | | | | | | \n",
      "2024-01-26 | | | | | | | | | | | | | | | | | | | | | | | | | | | | | | | | | | | | | | | | | | | | | | | | | | | | | | | | | | | | | | | | | | | | | | \n",
      "2024-01-27 | | | | | | | | | | | | | | | | | | | | | | | | | | | | | | | | | | | | | | | | | | | | | | | | | | | | | | | | | | | | | | | | | | | | | | \n",
      "2024-01-28 | | | | | | | | | | | | | | | | | | | | | | | | | | | | | | | | | | | | | | | | | | | | | | | | | | | | | | | | | | | | | | | | | | | | | | \n",
      "2024-01-29 | | | | | | | | | | | | | | | | | | | | | | | | | | | | | | | | | | | | | | | | | | | | | | | | | | | | | | | | | | | | | | | | | | | | | | \n",
      "2024-01-30 | | | | | | | | | | | | | | | | | | | | | | | | | | | | | | | | | | | | | | | | | | | | | | | | | | | | | | | | | | | | | | | | | | | | | | \n",
      "2024-01-31 | | | | | | | | | | | | | | | | | | | | | | | | | | | | | | | | | | | | | | | | | | | | | | | | | | | | | | | | | | | | | | | | | | | | | | \n",
      "2024-02-01 | | | | | | | | | | | | | | | | | | | | | | | | | | | | | | | | | | | | | | | | | | | | | | | | | | | | | | | | | | | | | | | | | | | | | | \n",
      "2024-02-02 | | | | | | | | | | | | | | | | | | | | | | | | | | | | | | | | | | | | | | | | | | | | | | | | | | | | | | | | | | | | | | | | | | | | | | \n",
      "2024-02-03 | | | | | | | | | | | | | | | | | | | | | | | | | | | | | | | | | | | | | | | | | | | | | | | | | | | | | | | | | | | | | | | | | | | | | | \n",
      "2024-02-04 | | | | | | | | | | | | | | | | | | | | | | | | | | | | | | | | | | | | | | | | | | | | | | | | | | | | | | | | | | | | | | | | | | | | | | \n",
      "2024-02-05 | | | | | | | | | | | | | | | | | | | | | | | | | | | | | | | | | | | | | | | | | | | | | | | | | | | | | | | | | | | | | | | | | | | | | | \n",
      "2024-02-06 | | | | | | | | | | | | | | | | | | | | | | | | | | | | | | | | | | | | | | | | | | | | | | | | | | | | | | | | | | | | | | | | | | | | | | \n",
      "2024-02-07 | | | | | | | | | | | | | | | | | | | | | | | | | | | | | | | | | | | | | | | | | | | | | | | | | | | | | | | | | | | | | | | | | | | | | | \n",
      "2024-02-08 | | | | | | | | | | | | | | | | | | | | | | | | | | | | | | | | | | | | | | | | | | | | | | | | | | | | | | | | | | | | | | | | | | | | | | \n",
      "2024-02-09 | | | | | | | | | | | | | | | | | | | | | | | | | | | | | | | | | | | | | | | | | | | | | | | | | | | | | | | | | | | | | | | | | | | | | | \n",
      "2024-02-10 | | | | | | | | | | | | | | | | | | | | | | | | | | | | | | | | | | | | | | | | | | | | | | | | | | | | | | | | | | | | | | | | | | | | | | \n",
      "2024-02-11 | | | | | | | | | | | | | | | | | | | | | | | | | | | | | | | | | | | | | | | | | | | | | | | | | | | | | | | | | | | | | | | | | | | | | | \n",
      "2024-02-12 | | | | | | | | | | | | | | | | | | | | | | | | | | | | | | | | | | | | | | | | | | | | | | | | | | | | | | | | | | | | | | | | | | | | | | \n"
     ]
    }
   ],
   "source": [
    "print_req(req, req_apps)"
   ]
  },
  {
   "cell_type": "markdown",
   "id": "bde1b419-c804-4fec-b854-dc206a608e81",
   "metadata": {},
   "source": [
    "# SIMULATE"
   ]
  },
  {
   "cell_type": "code",
   "execution_count": 153,
   "id": "45c2fe09-2f0b-4ea7-8826-5b0bf8efa866",
   "metadata": {
    "tags": []
   },
   "outputs": [
    {
     "data": {
      "text/plain": [
       "{'post_to_offer': 56,\n",
       " 'waiting_days': 20.316176470588236,\n",
       " 'num_of_interviews': 5}"
      ]
     },
     "execution_count": 153,
     "metadata": {},
     "output_type": "execute_result"
    }
   ],
   "source": [
    "res, new_apps = simulate_req(req_apps=req_apps, post_date=req['status_history']['Post'][0], actions=[])\n",
    "res"
   ]
  },
  {
   "cell_type": "code",
   "execution_count": 154,
   "id": "2c76f530-0e04-41a0-8eb4-d7ef3884d1fc",
   "metadata": {
    "tags": []
   },
   "outputs": [
    {
     "data": {
      "text/plain": [
       "117"
      ]
     },
     "execution_count": 154,
     "metadata": {},
     "output_type": "execute_result"
    }
   ],
   "source": [
    "possible_actions = get_req_possible_actions(req_apps=req_apps, current_date=datetime(2023, 11, 14, 0, 0))\n",
    "len(possible_actions)"
   ]
  },
  {
   "cell_type": "code",
   "execution_count": 155,
   "id": "1a7addb5-6610-4777-baac-95f20c2a33b7",
   "metadata": {
    "tags": []
   },
   "outputs": [
    {
     "data": {
      "text/plain": [
       "{'post_to_offer': 56,\n",
       " 'waiting_days': 19.522058823529413,\n",
       " 'num_of_interviews': 9}"
      ]
     },
     "execution_count": 155,
     "metadata": {},
     "output_type": "execute_result"
    }
   ],
   "source": [
    "res, new_apps = simulate_req(req_apps=req_apps, post_date=req['status_history']['Post'][0], actions=rn.sample(possible_actions, 5))\n",
    "res"
   ]
  },
  {
   "cell_type": "code",
   "execution_count": 156,
   "id": "4794db6d-1a3d-48c0-aa5a-3d996c87bc92",
   "metadata": {
    "tags": []
   },
   "outputs": [
    {
     "name": "stdout",
     "output_type": "stream",
     "text": [
      "2023-11-10 | | | | | | | | | | | | | | | | | | | | | | | | | | | | | | | | | | | | | | | | | | | | | | | | | | | | | | | | | | | | | | | | | | | | | | \n",
      "2023-11-11 \u001b[1m\u001b[33mA\u001b[0m \u001b[1m\u001b[33mA\u001b[0m \u001b[1m\u001b[33mA\u001b[0m \u001b[1m\u001b[33mA\u001b[0m \u001b[1m\u001b[33mA\u001b[0m \u001b[1m\u001b[33mA\u001b[0m \u001b[1m\u001b[33mA\u001b[0m \u001b[1m\u001b[33mA\u001b[0m \u001b[1m\u001b[33mA\u001b[0m \u001b[1m\u001b[33mA\u001b[0m \u001b[1m\u001b[33mA\u001b[0m \u001b[1m\u001b[33mA\u001b[0m \u001b[1m\u001b[33mA\u001b[0m \u001b[1m\u001b[33mA\u001b[0m \u001b[1m\u001b[33mA\u001b[0m \u001b[1m\u001b[33mA\u001b[0m \u001b[1m\u001b[33mA\u001b[0m \u001b[1m\u001b[33mA\u001b[0m \u001b[1m\u001b[33mA\u001b[0m \u001b[1m\u001b[33mA\u001b[0m \u001b[1m\u001b[33mA\u001b[0m \u001b[1m\u001b[33mA\u001b[0m \u001b[1m\u001b[33mA\u001b[0m \u001b[1m\u001b[33mA\u001b[0m \u001b[1m\u001b[33mA\u001b[0m \u001b[1m\u001b[33mA\u001b[0m \u001b[1m\u001b[33mA\u001b[0m \u001b[1m\u001b[33mA\u001b[0m \u001b[1m\u001b[33mA\u001b[0m \u001b[1m\u001b[33mA\u001b[0m \u001b[1m\u001b[33mA\u001b[0m \u001b[1m\u001b[33mA\u001b[0m \u001b[1m\u001b[33mA\u001b[0m \u001b[1m\u001b[33mA\u001b[0m \u001b[1m\u001b[33mA\u001b[0m \u001b[1m\u001b[33mA\u001b[0m | | | | | | | | | | | | | | | | | | | | | | | | | | | | | | | | | | \n",
      "2023-11-12 | | | | | | | | | | | | | | | | | | | | | | | | | | | | | | | | | | | | \u001b[1m\u001b[33mA\u001b[0m \u001b[1m\u001b[33mA\u001b[0m \u001b[1m\u001b[33mA\u001b[0m \u001b[1m\u001b[33mA\u001b[0m \u001b[1m\u001b[33mA\u001b[0m \u001b[1m\u001b[33mA\u001b[0m \u001b[1m\u001b[33mA\u001b[0m \u001b[1m\u001b[33mA\u001b[0m \u001b[1m\u001b[33mA\u001b[0m \u001b[1m\u001b[33mA\u001b[0m \u001b[1m\u001b[33mA\u001b[0m \u001b[1m\u001b[33mA\u001b[0m \u001b[1m\u001b[33mA\u001b[0m | | | | | | | | | | | | | | | | | | | | | \n",
      "2023-11-13 | | | | | | | | | | | | | | | | | | | | | | | | | | | | | | | | | | | | | | | | | | | | | | | | | \u001b[1m\u001b[33mA\u001b[0m \u001b[1m\u001b[33mA\u001b[0m \u001b[1m\u001b[33mA\u001b[0m \u001b[1m\u001b[33mA\u001b[0m \u001b[1m\u001b[33mA\u001b[0m \u001b[1m\u001b[33mA\u001b[0m \u001b[1m\u001b[33mA\u001b[0m \u001b[1m\u001b[33mA\u001b[0m \u001b[1m\u001b[33mA\u001b[0m \u001b[1m\u001b[33mA\u001b[0m \u001b[1m\u001b[33mA\u001b[0m \u001b[1m\u001b[33mA\u001b[0m \u001b[1m\u001b[33mA\u001b[0m \u001b[1m\u001b[33mA\u001b[0m \u001b[1m\u001b[33mA\u001b[0m \u001b[1m\u001b[33mA\u001b[0m \u001b[1m\u001b[33mA\u001b[0m \u001b[1m\u001b[33mA\u001b[0m \u001b[1m\u001b[33mA\u001b[0m \u001b[1m\u001b[33mA\u001b[0m \u001b[1m\u001b[33mA\u001b[0m \n",
      "2023-11-14 | | | | | | | | | | | | | | | | | | | | | \u001b[1m\u001b[34mV\u001b[0m | | | | | | | | | | | | \u001b[1m\u001b[31mR\u001b[0m | | | | | | | | | | | | | | | | | | | | | | | | \u001b[1m\u001b[34mV\u001b[0m | | | | | | | | | | \n",
      "2023-11-15 | | | | | | | | | | | | | | | | | | | | | | | | | | | | | | | | | | | | | | | | | | | | | | | | | | | | | | | | | | | | | | | | | | | | | | \n",
      "2023-11-16 | | | | | | | | | | | | | | | | | | | | | | | | | | | | | | | | | | | | | | | | | | | | | | | | | | | | | | | | | | | | | | | | | | | | | | \n",
      "2023-11-17 | \u001b[1m\u001b[31mR\u001b[0m | | | | | | | | | | | | | | | | | | | | | | | | | | | | | | | | | | | | | | | | | \u001b[1m\u001b[31mR\u001b[0m | | | | | | | | | | | \u001b[1m\u001b[31mR\u001b[0m | | | | | | | | | | | | | | \n",
      "2023-11-18 | | | | | | | | | | | | | | | | | | | | | | | | | | | | | | | | | | | | | | | | | | | | | | | | | | | | | | | | | | | | | | | | | | | | | | \n",
      "2023-11-19 | | | | | | | | | | | | | | | | | | | | | | | | | | | | | | | | | | | | | | | | | | | | | | | | | | | | | | | | | | | | | | | | | | | | | | \n",
      "2023-11-20 | | | | | | | | | | | | | | | | | | | | | | | | | | | | | | | | | | | | | | | | | | | | | | | | | | | | | | | | | | | | | | | | | | | | | | \n",
      "2023-11-21 | | | | | | | | | | | | | | | | | | | | | | | | | | | | | | | | | | | | | | | | | | | | | | | | | | | | | | | | | | | | | | | | | | | | | | \n",
      "2023-11-22 | | | | | | | | | | | | | | | | | | | | | | | | | | | | | | | | | | | | | | | | | | | | | | | | | | | | | | | | | | | | | | | | | | | | | | \n",
      "2023-11-23 | | | | | | | | | | | | | | | | | | | | | | | | | | | | | | | | | | | | | | | | | | | | | | | | | | | | | | | | | | | | | | | | | | | | | | \n",
      "2023-11-24 | | | | | | | | | | | | | | | | | | | | | | | | | | | | | | | | | | | | | | | | | | | | | | | | | | | | | | | | | | | | | | | | | | | | | | \n",
      "2023-11-25 | | | | | | | | | | | | | | | | | | | | | | | | | | | | | | | | | | | | | | | | | | | | | | | | | | | | | | | | | | | | | | | | | | | | | | \n",
      "2023-11-26 | | | | | | | | | | | | | | | | | | | | | | | | | | | | | | | | | | | | | | | | | | | | | | | | | | | | | | | | | | | | | | | | | | | | | | \n",
      "2023-11-27 | | | | | | | | | | | | | | | | | | | | | | | | | | | | | | | | | | | | | | | | | | | | | | | | | | | | | | | | | | | | | | | | | | | | | | \n",
      "2023-11-28 | | | | | | | | | | | | | | | | | | | | | | | | | | | | | | | | | | | | | | | | | | | | | | | | | | | | | | | | | | | | | | | | \u001b[1m\u001b[31mR\u001b[0m | \u001b[1m\u001b[31mR\u001b[0m \u001b[1m\u001b[31mR\u001b[0m \u001b[1m\u001b[31mR\u001b[0m | \n",
      "2023-11-29 | | | | | | | | | | | | | | | | | | | | | | | | | | | | | | | | | | | | | | \u001b[1m\u001b[31mR\u001b[0m \u001b[1m\u001b[31mR\u001b[0m \u001b[1m\u001b[31mR\u001b[0m | \u001b[1m\u001b[31mR\u001b[0m | \u001b[1m\u001b[31mR\u001b[0m \u001b[1m\u001b[31mR\u001b[0m | \u001b[1m\u001b[31mR\u001b[0m \u001b[1m\u001b[31mR\u001b[0m \u001b[1m\u001b[31mR\u001b[0m | \u001b[1m\u001b[31mR\u001b[0m \u001b[1m\u001b[31mR\u001b[0m | \u001b[1m\u001b[31mR\u001b[0m | \u001b[1m\u001b[31mR\u001b[0m \u001b[1m\u001b[31mR\u001b[0m \u001b[1m\u001b[31mR\u001b[0m \u001b[1m\u001b[31mR\u001b[0m | | | \u001b[1m\u001b[31mR\u001b[0m | | | | | | \n",
      "2023-11-30 | | | | | | | | | | | | | | | | | | | | | | | | | | | | | | | | | | | | | | | | | | | | | | | | | | | | | | | | | | | | | | | | | | | | | | \n",
      "2023-12-01 | | | | | | | | | | | | | | | | | | | | | | | | | | | | | | | | | | | | | | | | | | | | | | | | | | | | | | | | | | | | | | | | | | | | | | \n",
      "2023-12-02 | | | | | | | | | | | | | | | | | | | | | | | | | | | | | | | | | | | | | | | | | | | | | | | | | | | | | | | | | | | | | | | | | | | | | | \n",
      "2023-12-03 | | | | | | | | | | | | | | | | | | | | | | | | | | | | | | | | | | | | | | | | | | | | | | | | | | | | | | | | | | | | | | | | | | | | | | \n",
      "2023-12-04 | | | | | | | | | | | | | | | | | | | | | | | | | | | | | | | | | | | | | | | | | | | | | | | | | | | | | | | | | | | | | | | | | | | | | | \n",
      "2023-12-05 | | | | | | | | | | | | | | | | | | | | | | | | | | | | | | | | | | | | | | | | | | | | | | \u001b[1m\u001b[34mV\u001b[0m | | | | | | | | | | | | | | | | | | | | | | | \n",
      "2023-12-06 | | | | | | | | | | | | | | | | | | | | | | | | | | | | | | | | | | | | | | | | | | | | | | | | | | | | | | | | | | | | \u001b[1m\u001b[31mR\u001b[0m \u001b[1m\u001b[31mR\u001b[0m \u001b[1m\u001b[31mR\u001b[0m | | \u001b[1m\u001b[31mR\u001b[0m | | | | \n",
      "2023-12-07 | | | | | | | | | | | | | | | | | | | | | | | | | | | | | | | | | | | | | | | | | | | | | | | | | | | | | | | | | | | | | | | | | | | | | | \n",
      "2023-12-08 | | | | | | | | | | | | | | | | | | | | | | | | | | | | | | | | | | | | | | | | | | | | | | | | | | | | | | | | | | | | | | | | | | | | | | \n",
      "2023-12-09 | | | | | | | | | | | | | | | | | | | | | | | | | | | | | | | | | | | | | | | | | | | | | | | | | | | | | | | | | | | | | | | | | | | | | | \n",
      "2023-12-10 | | | | | | | | | | | | | | | | | | | | | | | | | | | | | | | | | | | | | | | | | | | | | | | | | | | | | | | | | | | | | | | | | | | | | | \n",
      "2023-12-11 | | | | | | | | | | | | | | | | | | | | | | | | | | | | | | | | | | | | | | | | | | | | | | | | | | | | | | | | | | | | | | | | | | | | | | \n",
      "2023-12-12 | | | | | | | | | | | | | | | | | | | | | | | | | | | | | | | | | | | | | | | | | | | | | | | | | | | | | | | | | | | | | | | | | | | | | | \n",
      "2023-12-13 | | | | | | | | | | | | | | | | | | | | | | | | | | | | | | | | | | | | | | | | | | | | | | | | | | | | | | | | | | | | | | | | | | | | | | \n",
      "2023-12-14 | | | | | | | | | | | | | | | | | | | | | | | | | | | | | | | | | | | | | | | | | | | | | | | | | | | | | | | | | | | | | | | | | | | | | | \n",
      "2023-12-15 | | | | | | | | | | | | | | | | | | | | | | | | | | | | | | | | | | | | | | | | | | | | | | | | | | | | | | | | | | | | | | | | | | | | | | \n",
      "2023-12-16 | | | | | | | | | | | | | | | | | | | | | | | | | | | | | | | | | | | | | | | | | | | | | | | | | | | | | | | | | | | | | | | | | | | | | | \n",
      "2023-12-17 | | | | | | | | | | | | | | | | | | | | | | | | | | | | | | | | | | | | | | | | | | | | | | | | | | | | | | | | | | | | | | | | | | | | | | \n",
      "2023-12-18 | | | | | | | | | | | | | | | | | | | | | | | | | | | | | | | | | | | | | | | | | | | | | | | | | | | | | | | | | | | | | | | | | | | | | | \n",
      "2023-12-19 | | | | | | | | | | | | | | | | | | | | | | | | | | | | | | | | | | | | | | | | | | | | | | | | | | | | | | | | | | | | | | | | | | | | | | \n",
      "2023-12-20 | | | | | | | | | | | | | | | | | | | | | | | | | | | | | | | | | | | | | | | | | | | | | | | | | | | | | | | | | | | | | | | | | | | | | | \n",
      "2023-12-21 \u001b[1m\u001b[31mR\u001b[0m | \u001b[1m\u001b[31mR\u001b[0m \u001b[1m\u001b[31mR\u001b[0m \u001b[1m\u001b[31mR\u001b[0m \u001b[1m\u001b[31mR\u001b[0m \u001b[1m\u001b[31mR\u001b[0m \u001b[1m\u001b[31mR\u001b[0m \u001b[1m\u001b[31mR\u001b[0m \u001b[1m\u001b[31mR\u001b[0m \u001b[1m\u001b[31mR\u001b[0m \u001b[1m\u001b[31mR\u001b[0m \u001b[1m\u001b[31mR\u001b[0m \u001b[1m\u001b[31mR\u001b[0m \u001b[1m\u001b[31mR\u001b[0m \u001b[1m\u001b[31mR\u001b[0m \u001b[1m\u001b[31mR\u001b[0m \u001b[1m\u001b[31mR\u001b[0m \u001b[1m\u001b[31mR\u001b[0m \u001b[1m\u001b[31mR\u001b[0m \u001b[1m\u001b[31mR\u001b[0m \u001b[1m\u001b[31mR\u001b[0m \u001b[1m\u001b[31mR\u001b[0m \u001b[1m\u001b[31mR\u001b[0m \u001b[1m\u001b[31mR\u001b[0m \u001b[1m\u001b[31mR\u001b[0m \u001b[1m\u001b[31mR\u001b[0m \u001b[1m\u001b[31mR\u001b[0m \u001b[1m\u001b[31mR\u001b[0m \u001b[1m\u001b[31mR\u001b[0m \u001b[1m\u001b[31mR\u001b[0m \u001b[1m\u001b[31mR\u001b[0m \u001b[1m\u001b[31mR\u001b[0m \u001b[1m\u001b[31mR\u001b[0m | \u001b[1m\u001b[31mR\u001b[0m \u001b[1m\u001b[31mR\u001b[0m \u001b[1m\u001b[31mR\u001b[0m | | | \u001b[1m\u001b[31mR\u001b[0m | | | | | | | | \u001b[1m\u001b[31mR\u001b[0m | | \u001b[1m\u001b[31mR\u001b[0m | | | | | | | | | | | | | | | \u001b[1m\u001b[31mR\u001b[0m \n",
      "2023-12-22 | | | | | | | | | | | | | | | | | | | | | | | | | | | | | | | | | | | | | | | | | | | | | | | | | | | | | | | | | | | | | | | | | | | | | | \n",
      "2023-12-23 | | | | | | | | | | | | | | | | | | | | | | | | | | | | | | | | | | | | | | | | | | | | | | | | | | | | | | | | | | | | | | | | | | | | | | \n",
      "2023-12-24 | | | | | | | | | | | | | | | | | | | | | | | | | | | | | | | | | | | | | | | | | | | | | | | | | | | | | | | | | | | | | | | | | | | | | | \n",
      "2023-12-25 | | | | | | | | | | | | | | | | | | | | | | | | | | | | | | | | | | | | | | | | | | | | | | | | | | | | | | | | | | | | | | | | | | | | | | \n",
      "2023-12-26 | | | | | | | | | | | | | | | | | | | | | | | | | | | | | | | | | | | | | | | | | | | | | | | | | | | | | | | | | | | | | | | | | | | | | | \n",
      "2023-12-27 | | | | | | | | | | | | | | | | | | | | | | | | | | | | | | | | | | | | | | | | | | | | | | | | | | | | | | | | | | | | | | | | | | | | | | \n",
      "2023-12-28 | | | | | | | | | | | | | | | | | | | | | | | | | | | | | | | | | | | | | | | | | | | | | | | | | | | | | | | | | | | | | | | | | | | | | | \n",
      "2023-12-29 | | | | | | | | | | | | | | | | | | | | | | | | | | | | | | | | | | | | | | | | | | | | | | | | | | | | | | | | | | | | | | | | | | | | | | \n",
      "2023-12-30 | | | | | | | | | | | | | | | | | | | | | | | | | | | | | | | | | | | | | | | | | | | | | | | | | | | | | | | | | | | | | | | | | | | | | | \n",
      "2023-12-31 | | | | | | | | | | | | | | | | | | | | | | | | | | | | | | | | | | | | | | | | | | | | | | | | | | | | | | | | | | | | | | | | | | | | | | \n",
      "2024-01-01 | | | | | | | | | | | | | | | | | | | | | | | | | | | | | | | | | | | | | | | | | | | | | | | | | | | | | | | | | | | | | | | | | | | | | | \n",
      "2024-01-02 | | | | | | | | | | | | | | | | | | | | | | | | | | | | | | | | | | | | | | | | | | | | | | | | | | | | | | | | | | | | | | | | | | | | | | \n",
      "2024-01-03 | | | | | | | | | | | | | | | | | | | | | | | | | | | | | | | | | | | | | | | | | | | | | | | | | | | | | | | | | | | | | | | | | | | | | | \n",
      "2024-01-04 | | | | | | | | | | | | | | | | | | | | | | | | | | | | | | | | | | | | | | | | | | | | | | | | | | | | | | | | | | | | | | | | | | | | | | \n",
      "2024-01-05 | | | | | | | | | | | | | | | | | | | | | | | | | | | | | | | | | | | | | | | | | | | | | | \u001b[1m\u001b[32mO\u001b[0m | | | | | | | | | | | | | | | | | | | | | | | \n",
      "2024-01-06 | | | | | | | | | | | | | | | | | | | | | | | | | | | | | | | | | | | | | | | | | | | | | | | | | | | | | | | | | | | | | | | | | | | | | | \n",
      "2024-01-07 | | | | | | | | | | | | | | | | | | | | | | | | | | | | | | | | | | | | | | | | | | | | | | | | | | | | | | | | | | | | | | | | | | | | | | \n",
      "2024-01-08 | | | | | | | | | | | | | | | | | | | | | | | | | | | | | | | | | | | | | | | | | | | | | | | | | | | | | | | | | | | | | | | | | | | | | | \n",
      "2024-01-09 | | | | | | | | | | | | | | | | | | | | | | | | | | | | | | | | | | | | | | | | | | | | | | | | | | | | | | | | | | | | | | | | | | | | | | \n",
      "2024-01-10 | | | | | | | | | | | | | | | | | | | | | | | | | | | | | | | | | | | | | | | | | | | | | | | | | | | | | | | | | | | | | | | | | | | | | | \n",
      "2024-01-11 | | | | | | | | | | | | | | | | | | | | | | | | | | | | | | | | | | | | | | | | | | | | | | | | | | | | | | | | | | | | | | | | | | | | | | \n",
      "2024-01-12 | | | | | | | | | | | | | | | | | | | | | | | | | | | | | | | | | | | | | | | | | | | | | | | | | | | | | | | | | | | | | | | | | | | | | | \n",
      "2024-01-13 | | | | | | | | | | | | | | | | | | | | | | | | | | | | | | | | | | | | | | | | | | | | | | | | | | | | | | | | | | | | | | | | | | | | | | \n",
      "2024-01-14 | | | | | | | | | | | | | | | | | | | | | | | | | | | | | | | | | | | | | | | | | | | | | | | | | | | | | | | | | | | | | | | | | | | | | | \n",
      "2024-01-15 | | | | | | | | | | | | | | | | | | | | | | | | | | | | | | | | | | | | | | | | | | | | | | | | | | | | | | | | | | | | | | | | | | | | | | \n",
      "2024-01-16 | | | | | | | | | | | | | | | | | | | | | | | | | | | | | | | | | | | | | | | | | | | | | | | | | | | | | | | | | | | | | | | | | | | | | | \n",
      "2024-01-17 | | | | | | | | | | | | | | | | | | | | | | | | | | | | | | | | | | | | | | | | | | | | | | | | | | | | | | | | | | | | | | | | | | | | | | \n",
      "2024-01-18 | | | | | | | | | | | | | | | | | | | | | | | | | | | | | | | | | | | | | | | | | | | | | | | | | | | | | | | | | | | | | | | | | | | | | | \n",
      "2024-01-19 | | | | | | | | | | | | | | | | | | | | | | | | | | | | | | | | | | | | | | | | | | | | | | | | | | | | | | | | | | | | | | | | | | | | | | \n",
      "2024-01-20 | | | | | | | | | | | | | | | | | | | | | | | | | | | | | | | | | | | | | | | | | | | | | | | | | | | | | | | | | | | | | | | | | | | | | | \n",
      "2024-01-21 | | | | | | | | | | | | | | | | | | | | | | | | | | | | | | | | | | | | | | | | | | | | | | | | | | | | | | | | | | | | | | | | | | | | | | \n",
      "2024-01-22 | | | | | | | | | | | | | | | | | | | | | | | | | | | | | | | | | | | | | | | | | | | | | | | | | | | | | | | | | | | | | | | | | | | | | | \n",
      "2024-01-23 | | | | | | | | | | | | | | | | | | | | | | | | | | | | | | | | | | | | | | | | | | | | | | | | | | | | | | | | | | | | | | | | | | | | | | \n",
      "2024-01-24 | | | | | | | | | | | | | | | | | | | | | | | | | | | | | | | | | | | | | | | | | | | | | | | | | | | | | | | | | | | | | | | | | | | | | | \n",
      "2024-01-25 | | | | | | | | | | | | | | | | | | | | | | | | | | | | | | | | | | | | | | | | | | | | | | | | | | | | | | | | | | | | | | | | | | | | | | \n",
      "2024-01-26 | | | | | | | | | | | | | | | | | | | | | | | | | | | | | | | | | | | | | | | | | | | | | | | | | | | | | | | | | | | | | | | | | | | | | | \n",
      "2024-01-27 | | | | | | | | | | | | | | | | | | | | | | | | | | | | | | | | | | | | | | | | | | | | | | | | | | | | | | | | | | | | | | | | | | | | | | \n",
      "2024-01-28 | | | | | | | | | | | | | | | | | | | | | | | | | | | | | | | | | | | | | | | | | | | | | | | | | | | | | | | | | | | | | | | | | | | | | | \n",
      "2024-01-29 | | | | | | | | | | | | | | | | | | | | | | | | | | | | | | | | | | | | | | | | | | | | | | | | | | | | | | | | | | | | | | | | | | | | | | \n",
      "2024-01-30 | | | | | | | | | | | | | | | | | | | | | | | | | | | | | | | | | | | | | | | | | | | | | | | | | | | | | | | | | | | | | | | | | | | | | | \n",
      "2024-01-31 | | | | | | | | | | | | | | | | | | | | | | | | | | | | | | | | | | | | | | | | | | | | | | | | | | | | | | | | | | | | | | | | | | | | | | \n",
      "2024-02-01 | | | | | | | | | | | | | | | | | | | | | | | | | | | | | | | | | | | | | | | | | | | | | | | | | | | | | | | | | | | | | | | | | | | | | | \n",
      "2024-02-02 | | | | | | | | | | | | | | | | | | | | | | | | | | | | | | | | | | | | | | | | | | | | | | | | | | | | | | | | | | | | | | | | | | | | | | \n",
      "2024-02-03 | | | | | | | | | | | | | | | | | | | | | | | | | | | | | | | | | | | | | | | | | | | | | | | | | | | | | | | | | | | | | | | | | | | | | | \n",
      "2024-02-04 | | | | | | | | | | | | | | | | | | | | | | | | | | | | | | | | | | | | | | | | | | | | | | | | | | | | | | | | | | | | | | | | | | | | | | \n",
      "2024-02-05 | | | | | | | | | | | | | | | | | | | | | | | | | | | | | | | | | | | | | | | | | | | | | | | | | | | | | | | | | | | | | | | | | | | | | | \n",
      "2024-02-06 | | | | | | | | | | | | | | | | | | | | | | | | | | | | | | | | | | | | | | | | | | | | | | | | | | | | | | | | | | | | | | | | | | | | | | \n",
      "2024-02-07 | | | | | | | | | | | | | | | | | | | | | | | | | | | | | | | | | | | | | | | | | | | | | | | | | | | | | | | | | | | | | | | | | | | | | | \n",
      "2024-02-08 | | | | | | | | | | | | | | | | | | | | | | | | | | | | | | | | | | | | | | | | | | | | | | | | | | | | | | | | | | | | | | | | | | | | | | \n",
      "2024-02-09 | | | | | | | | | | | | | | | | | | | | | | | | | | | | | | | | | | | | | | | | | | | | | | | | | | | | | | | | | | | | | | | | | | | | | | \n",
      "2024-02-10 | | | | | | | | | | | | | | | | | | | | | | | | | | | | | | | | | | | | | | | | | | | | | | | | | | | | | | | | | | | | | | | | | | | | | | \n",
      "2024-02-11 | | | | | | | | | | | | | | | | | | | | | | | | | | | | | | | | | | | | | | | | | | | | | | | | | | | | | | | | | | | | | | | | | | | | | | \n",
      "2024-02-12 | | | | | | | | | | | | | | | | | | | | | | | | | | | | | | | | | | | | | | | | | | | | | | | | | | | | | | | | | | | | | | | | | | | | | | \n"
     ]
    }
   ],
   "source": [
    "print_req(req, new_apps)"
   ]
  },
  {
   "cell_type": "code",
   "execution_count": 157,
   "id": "2d504cb4-b56a-4eee-a027-606a3536d842",
   "metadata": {
    "tags": []
   },
   "outputs": [],
   "source": [
    "best_actions = list(sorted(possible_actions, key=lambda x: x['score'], reverse=True))[:10]"
   ]
  },
  {
   "cell_type": "code",
   "execution_count": 158,
   "id": "bbf1c952-6fb9-4f76-8e22-31fa71b6c913",
   "metadata": {
    "tags": []
   },
   "outputs": [
    {
     "data": {
      "text/plain": [
       "{'post_to_offer': 56,\n",
       " 'waiting_days': 18.74264705882353,\n",
       " 'num_of_interviews': 14}"
      ]
     },
     "execution_count": 158,
     "metadata": {},
     "output_type": "execute_result"
    }
   ],
   "source": [
    "res, new_apps = simulate_req(req_apps=req_apps, post_date=req['status_history']['Post'][0], actions=best_actions)\n",
    "res"
   ]
  },
  {
   "cell_type": "code",
   "execution_count": 159,
   "id": "4c482067-b635-4217-bcca-11102cb47f9a",
   "metadata": {
    "tags": []
   },
   "outputs": [
    {
     "name": "stdout",
     "output_type": "stream",
     "text": [
      "2023-11-10 | | | | | | | | | | | | | | | | | | | | | | | | | | | | | | | | | | | | | | | | | | | | | | | | | | | | | | | | | | | | | | | | | | | | | | \n",
      "2023-11-11 \u001b[1m\u001b[33mA\u001b[0m \u001b[1m\u001b[33mA\u001b[0m \u001b[1m\u001b[33mA\u001b[0m \u001b[1m\u001b[33mA\u001b[0m \u001b[1m\u001b[33mA\u001b[0m \u001b[1m\u001b[33mA\u001b[0m \u001b[1m\u001b[33mA\u001b[0m \u001b[1m\u001b[33mA\u001b[0m \u001b[1m\u001b[33mA\u001b[0m \u001b[1m\u001b[33mA\u001b[0m \u001b[1m\u001b[33mA\u001b[0m \u001b[1m\u001b[33mA\u001b[0m \u001b[1m\u001b[33mA\u001b[0m \u001b[1m\u001b[33mA\u001b[0m \u001b[1m\u001b[33mA\u001b[0m \u001b[1m\u001b[33mA\u001b[0m \u001b[1m\u001b[33mA\u001b[0m \u001b[1m\u001b[33mA\u001b[0m \u001b[1m\u001b[33mA\u001b[0m \u001b[1m\u001b[33mA\u001b[0m \u001b[1m\u001b[33mA\u001b[0m \u001b[1m\u001b[33mA\u001b[0m \u001b[1m\u001b[33mA\u001b[0m \u001b[1m\u001b[33mA\u001b[0m \u001b[1m\u001b[33mA\u001b[0m \u001b[1m\u001b[33mA\u001b[0m \u001b[1m\u001b[33mA\u001b[0m \u001b[1m\u001b[33mA\u001b[0m \u001b[1m\u001b[33mA\u001b[0m \u001b[1m\u001b[33mA\u001b[0m \u001b[1m\u001b[33mA\u001b[0m \u001b[1m\u001b[33mA\u001b[0m \u001b[1m\u001b[33mA\u001b[0m \u001b[1m\u001b[33mA\u001b[0m \u001b[1m\u001b[33mA\u001b[0m \u001b[1m\u001b[33mA\u001b[0m | | | | | | | | | | | | | | | | | | | | | | | | | | | | | | | | | | \n",
      "2023-11-12 | | | | | | | | | | | | | | | | | | | | | | | | | | | | | | | | | | | | \u001b[1m\u001b[33mA\u001b[0m \u001b[1m\u001b[33mA\u001b[0m \u001b[1m\u001b[33mA\u001b[0m \u001b[1m\u001b[33mA\u001b[0m \u001b[1m\u001b[33mA\u001b[0m \u001b[1m\u001b[33mA\u001b[0m \u001b[1m\u001b[33mA\u001b[0m \u001b[1m\u001b[33mA\u001b[0m \u001b[1m\u001b[33mA\u001b[0m \u001b[1m\u001b[33mA\u001b[0m \u001b[1m\u001b[33mA\u001b[0m \u001b[1m\u001b[33mA\u001b[0m \u001b[1m\u001b[33mA\u001b[0m | | | | | | | | | | | | | | | | | | | | | \n",
      "2023-11-13 | | | | | | | | | | | | | | | | | | | | | | | | | | | | | | | | | | | | | | | | | | | | | | | | | \u001b[1m\u001b[33mA\u001b[0m \u001b[1m\u001b[33mA\u001b[0m \u001b[1m\u001b[33mA\u001b[0m \u001b[1m\u001b[33mA\u001b[0m \u001b[1m\u001b[33mA\u001b[0m \u001b[1m\u001b[33mA\u001b[0m \u001b[1m\u001b[33mA\u001b[0m \u001b[1m\u001b[33mA\u001b[0m \u001b[1m\u001b[33mA\u001b[0m \u001b[1m\u001b[33mA\u001b[0m \u001b[1m\u001b[33mA\u001b[0m \u001b[1m\u001b[33mA\u001b[0m \u001b[1m\u001b[33mA\u001b[0m \u001b[1m\u001b[33mA\u001b[0m \u001b[1m\u001b[33mA\u001b[0m \u001b[1m\u001b[33mA\u001b[0m \u001b[1m\u001b[33mA\u001b[0m \u001b[1m\u001b[33mA\u001b[0m \u001b[1m\u001b[33mA\u001b[0m \u001b[1m\u001b[33mA\u001b[0m \u001b[1m\u001b[33mA\u001b[0m \n",
      "2023-11-14 | | | | | \u001b[1m\u001b[34mV\u001b[0m \u001b[1m\u001b[34mV\u001b[0m | | | | | | | | | | | | | | | | | | | | | | \u001b[1m\u001b[34mV\u001b[0m | | | | | | | | | | | | | | | | | | \u001b[1m\u001b[34mV\u001b[0m | | | | | | | | | | | | | | | | | | \u001b[1m\u001b[34mV\u001b[0m | \u001b[1m\u001b[34mV\u001b[0m \n",
      "2023-11-15 | | | | | | | | | | | | | | | | | | | | | | | | | | | | | | | | | | | | | | | | | | | | | | | | | | | | | | | | | | | | | | | | | | | | | | \n",
      "2023-11-16 | | | | | | | | | | | | | | | | | | | | | | | | | | | | | | | | | | | | | | | | | | | | | | | | | | | | | | | | | | | | | | | | | | | | | | \n",
      "2023-11-17 | \u001b[1m\u001b[31mR\u001b[0m | | | | | | | | | | | | | | | | | | | | | | | | | | | | | | | | | | | | | | | | | \u001b[1m\u001b[31mR\u001b[0m | | | | | | | | | | | \u001b[1m\u001b[31mR\u001b[0m | | | | | | | | | | | | | | \n",
      "2023-11-18 | | | | | | | | | | | | | | | | | | | | | | | | | | | | | | | | | | | | | | | | | | | | | | | | | | | | | | | | | | | | | | | | | | | | | | \n",
      "2023-11-19 | | | | | | | | | | | | | | | | | | | | | | | | | | | | | | | | | | | | | | | | | | | | | | | | | | | | | | | | | | | | | | | | | | | | | | \n",
      "2023-11-20 | | | | | | | | | | | | | | | | | | | | | | | | | | | | | | | | | | | | | | | | | | | | | | | | | | | | | | | | | | | | | | | | | | | | | | \n",
      "2023-11-21 | | | | | | | | | | | | | | | | | | | | | | | | | | | | | | | | | | | | | | | | | | | | | | | | | | | | | | | | | | | | | | | | | | | | | | \n",
      "2023-11-22 | | | | | | | | | | | | | | | | | | | | | | | | | | | | | | | | | | | | | | | | | | | | | | | | | | | | | | | | | | | | | | | | | | | | | | \n",
      "2023-11-23 | | | | | | | | | | | | | | | | | | | | | | | | | | | | | | | | | | | | | | | | | | | | | | | | | | | | | | | | | | | | | | | | | | | | | | \n",
      "2023-11-24 | | | | | | | | | | | | | | | | | | | | | | | | | | | | | | | | | | | | | | | | | | | | | | | | | | | | | | | | | | | | | | | | | | | | | | \n",
      "2023-11-25 | | | | | | | | | | | | | | | | | | | | | | | | | | | | | | | | | | | | | | | | | | | | | | | | | | | | | | | | | | | | | | | | | | | | | | \n",
      "2023-11-26 | | | | | | | | | | | | | | | | | | | | | | | | | | | | | | | | | | | | | | | | | | | | | | | | | | | | | | | | | | | | | | | | | | | | | | \n",
      "2023-11-27 | | | | | | | | | | | | | | | | | | | | | | | | | | | | | | | | | | | | | | | | | | | | | | | | | | | | | | | | | | | | | | | | | | | | | | \n",
      "2023-11-28 | | | | | | | | | | | | | | | | | | | | | | | | | | | | | | | | | | | | | | | | | | | | | | | | | | | | | | | | | | | | | | | | \u001b[1m\u001b[31mR\u001b[0m | \u001b[1m\u001b[31mR\u001b[0m \u001b[1m\u001b[31mR\u001b[0m \u001b[1m\u001b[31mR\u001b[0m | \n",
      "2023-11-29 | | | | | | | | | | | | | | | | | | | | | | | | | | | | | | | | | | | | | | \u001b[1m\u001b[31mR\u001b[0m \u001b[1m\u001b[31mR\u001b[0m \u001b[1m\u001b[31mR\u001b[0m | \u001b[1m\u001b[31mR\u001b[0m | \u001b[1m\u001b[31mR\u001b[0m \u001b[1m\u001b[31mR\u001b[0m | \u001b[1m\u001b[31mR\u001b[0m \u001b[1m\u001b[31mR\u001b[0m \u001b[1m\u001b[31mR\u001b[0m | \u001b[1m\u001b[31mR\u001b[0m \u001b[1m\u001b[31mR\u001b[0m | \u001b[1m\u001b[31mR\u001b[0m | \u001b[1m\u001b[31mR\u001b[0m \u001b[1m\u001b[31mR\u001b[0m \u001b[1m\u001b[31mR\u001b[0m \u001b[1m\u001b[31mR\u001b[0m | | | \u001b[1m\u001b[31mR\u001b[0m | | | | | | \n",
      "2023-11-30 | | | | | | | | | | | | | | | | | | | | | | | | | | | | | | | | | | | | | | | | | | | | | | | | | | | | | | | | | | | | | | | | | | | | | | \n",
      "2023-12-01 | | | | | | | | | | | | | | | | | | | | | | | | | | | | | | | | | | | | | | | | | | | | | | | | | | | | | | | | | | | | | | | | | | | | | | \n",
      "2023-12-02 | | | | | | | | | | | | | | | | | | | | | | | | | | | | | | | | | | | | | | | | | | | | | | | | | | | | | | | | | | | | | | | | | | | | | | \n",
      "2023-12-03 | | | | | | | | | | | | | | | | | | | | | | | | | | | | | | | | | | | | | | | | | | | | | | | | | | | | | | | | | | | | | | | | | | | | | | \n",
      "2023-12-04 | | | | | | | | | | | | | | | | | | | | | | | | | | | | | | | | | | | | | | | | | | | | | | | | | | | | | | | | | | | | | | | | | | | | | | \n",
      "2023-12-05 | | | | | | | | | | | | | | | | | | | | | | | | | | | | | | | | | | | | | | | | | | | | | | \u001b[1m\u001b[34mV\u001b[0m | | | | | | | | | | | | | | | | | | | | | | | \n",
      "2023-12-06 | | | | | | | | | | | | | | | | | | | | | | | | | | | | | | | | | | | | | | | | | | | | | | | | | | | | | | | | | | | | \u001b[1m\u001b[31mR\u001b[0m \u001b[1m\u001b[31mR\u001b[0m \u001b[1m\u001b[31mR\u001b[0m | | \u001b[1m\u001b[31mR\u001b[0m | | | | \n",
      "2023-12-07 | | | | | | | | | | | | | | | | | | | | | | | | | | | | | | | | | | | | | | | | | | | | | | | | | | | | | | | | | | | | | | | | | | | | | | \n",
      "2023-12-08 | | | | | | | | | | | | | | | | | | | | | | | | | | | | | | | | | | | | | | | | | | | | | | | | | | | | | | | | | | | | | | | | | | | | | | \n",
      "2023-12-09 | | | | | | | | | | | | | | | | | | | | | | | | | | | | | | | | | | | | | | | | | | | | | | | | | | | | | | | | | | | | | | | | | | | | | | \n",
      "2023-12-10 | | | | | | | | | | | | | | | | | | | | | | | | | | | | | | | | | | | | | | | | | | | | | | | | | | | | | | | | | | | | | | | | | | | | | | \n",
      "2023-12-11 | | | | | | | | | | | | | | | | | | | | | | | | | | | | | | | | | | | | | | | | | | | | | | | | | | | | | | | | | | | | | | | | | | | | | | \n",
      "2023-12-12 | | | | | | | | | | | | | | | | | | | | | | | | | | | | | | | | | | | | | | | | | | | | | | | | | | | | | | | | | | | | | | | | | | | | | | \n",
      "2023-12-13 | | | | | | | | | | | | | | | | | | | | | | | | | | | | | | | | | | | | | | | | | | | | | | | | | | | | | | | | | | | | | | | | | | | | | | \n",
      "2023-12-14 | | | | | | | | | | | | | | | | | | | | | | | | | | | | | | | | | | | | | | | | | | | | | | | | | | | | | | | | | | | | | | | | | | | | | | \n",
      "2023-12-15 | | | | | | | | | | | | | | | | | | | | | | | | | | | | | | | | | | | | | | | | | | | | | | | | | | | | | | | | | | | | | | | | | | | | | | \n",
      "2023-12-16 | | | | | | | | | | | | | | | | | | | | | | | | | | | | | | | | | | | | | | | | | | | | | | | | | | | | | | | | | | | | | | | | | | | | | | \n",
      "2023-12-17 | | | | | | | | | | | | | | | | | | | | | | | | | | | | | | | | | | | | | | | | | | | | | | | | | | | | | | | | | | | | | | | | | | | | | | \n",
      "2023-12-18 | | | | | | | | | | | | | | | | | | | | | | | | | | | | | | | | | | | | | | | | | | | | | | | | | | | | | | | | | | | | | | | | | | | | | | \n",
      "2023-12-19 | | | | | | | | | | | | | | | | | | | | | | | | | | | | | | | | | | | | | | | | | | | | | | | | | | | | | | | | | | | | | | | | | | | | | | \n",
      "2023-12-20 | | | | | | | | | | | | | | | | | | | | | | | | | | | | | | | | | | | | | | | | | | | | | | | | | | | | | | | | | | | | | | | | | | | | | | \n",
      "2023-12-21 \u001b[1m\u001b[31mR\u001b[0m | \u001b[1m\u001b[31mR\u001b[0m \u001b[1m\u001b[31mR\u001b[0m \u001b[1m\u001b[31mR\u001b[0m \u001b[1m\u001b[31mR\u001b[0m \u001b[1m\u001b[31mR\u001b[0m \u001b[1m\u001b[31mR\u001b[0m \u001b[1m\u001b[31mR\u001b[0m \u001b[1m\u001b[31mR\u001b[0m \u001b[1m\u001b[31mR\u001b[0m \u001b[1m\u001b[31mR\u001b[0m \u001b[1m\u001b[31mR\u001b[0m \u001b[1m\u001b[31mR\u001b[0m \u001b[1m\u001b[31mR\u001b[0m \u001b[1m\u001b[31mR\u001b[0m \u001b[1m\u001b[31mR\u001b[0m \u001b[1m\u001b[31mR\u001b[0m \u001b[1m\u001b[31mR\u001b[0m \u001b[1m\u001b[31mR\u001b[0m \u001b[1m\u001b[31mR\u001b[0m \u001b[1m\u001b[31mR\u001b[0m \u001b[1m\u001b[31mR\u001b[0m \u001b[1m\u001b[31mR\u001b[0m \u001b[1m\u001b[31mR\u001b[0m \u001b[1m\u001b[31mR\u001b[0m \u001b[1m\u001b[31mR\u001b[0m \u001b[1m\u001b[31mR\u001b[0m \u001b[1m\u001b[31mR\u001b[0m \u001b[1m\u001b[31mR\u001b[0m \u001b[1m\u001b[31mR\u001b[0m \u001b[1m\u001b[31mR\u001b[0m \u001b[1m\u001b[31mR\u001b[0m \u001b[1m\u001b[31mR\u001b[0m \u001b[1m\u001b[31mR\u001b[0m \u001b[1m\u001b[31mR\u001b[0m \u001b[1m\u001b[31mR\u001b[0m \u001b[1m\u001b[31mR\u001b[0m | | | \u001b[1m\u001b[31mR\u001b[0m | | | | | | | | \u001b[1m\u001b[31mR\u001b[0m | | \u001b[1m\u001b[31mR\u001b[0m | | | | | | | | | | | | | | | \u001b[1m\u001b[31mR\u001b[0m \n",
      "2023-12-22 | | | | | | | | | | | | | | | | | | | | | | | | | | | | | | | | | | | | | | | | | | | | | | | | | | | | | | | | | | | | | | | | | | | | | | \n",
      "2023-12-23 | | | | | | | | | | | | | | | | | | | | | | | | | | | | | | | | | | | | | | | | | | | | | | | | | | | | | | | | | | | | | | | | | | | | | | \n",
      "2023-12-24 | | | | | | | | | | | | | | | | | | | | | | | | | | | | | | | | | | | | | | | | | | | | | | | | | | | | | | | | | | | | | | | | | | | | | | \n",
      "2023-12-25 | | | | | | | | | | | | | | | | | | | | | | | | | | | | | | | | | | | | | | | | | | | | | | | | | | | | | | | | | | | | | | | | | | | | | | \n",
      "2023-12-26 | | | | | | | | | | | | | | | | | | | | | | | | | | | | | | | | | | | | | | | | | | | | | | | | | | | | | | | | | | | | | | | | | | | | | | \n",
      "2023-12-27 | | | | | | | | | | | | | | | | | | | | | | | | | | | | | | | | | | | | | | | | | | | | | | | | | | | | | | | | | | | | | | | | | | | | | | \n",
      "2023-12-28 | | | | | | | | | | | | | | | | | | | | | | | | | | | | | | | | | | | | | | | | | | | | | | | | | | | | | | | | | | | | | | | | | | | | | | \n",
      "2023-12-29 | | | | | | | | | | | | | | | | | | | | | | | | | | | | | | | | | | | | | | | | | | | | | | | | | | | | | | | | | | | | | | | | | | | | | | \n",
      "2023-12-30 | | | | | | | | | | | | | | | | | | | | | | | | | | | | | | | | | | | | | | | | | | | | | | | | | | | | | | | | | | | | | | | | | | | | | | \n",
      "2023-12-31 | | | | | | | | | | | | | | | | | | | | | | | | | | | | | | | | | | | | | | | | | | | | | | | | | | | | | | | | | | | | | | | | | | | | | | \n",
      "2024-01-01 | | | | | | | | | | | | | | | | | | | | | | | | | | | | | | | | | | | | | | | | | | | | | | | | | | | | | | | | | | | | | | | | | | | | | | \n",
      "2024-01-02 | | | | | | | | | | | | | | | | | | | | | | | | | | | | | | | | | | | | | | | | | | | | | | | | | | | | | | | | | | | | | | | | | | | | | | \n",
      "2024-01-03 | | | | | | | | | | | | | | | | | | | | | | | | | | | | | | | | | | | | | | | | | | | | | | | | | | | | | | | | | | | | | | | | | | | | | | \n",
      "2024-01-04 | | | | | | | | | | | | | | | | | | | | | | | | | | | | | | | | | | | | | | | | | | | | | | | | | | | | | | | | | | | | | | | | | | | | | | \n",
      "2024-01-05 | | | | | | | | | | | | | | | | | | | | | | | | | | | | | | | | | | | | | | | | | | | | | | \u001b[1m\u001b[32mO\u001b[0m | | | | | | | | | | | | | | | | | | | | | | | \n",
      "2024-01-06 | | | | | | | | | | | | | | | | | | | | | | | | | | | | | | | | | | | | | | | | | | | | | | | | | | | | | | | | | | | | | | | | | | | | | | \n",
      "2024-01-07 | | | | | | | | | | | | | | | | | | | | | | | | | | | | | | | | | | | | | | | | | | | | | | | | | | | | | | | | | | | | | | | | | | | | | | \n",
      "2024-01-08 | | | | | | | | | | | | | | | | | | | | | | | | | | | | | | | | | | | | | | | | | | | | | | | | | | | | | | | | | | | | | | | | | | | | | | \n",
      "2024-01-09 | | | | | | | | | | | | | | | | | | | | | | | | | | | | | | | | | | | | | | | | | | | | | | | | | | | | | | | | | | | | | | | | | | | | | | \n",
      "2024-01-10 | | | | | | | | | | | | | | | | | | | | | | | | | | | | | | | | | | | | | | | | | | | | | | | | | | | | | | | | | | | | | | | | | | | | | | \n",
      "2024-01-11 | | | | | | | | | | | | | | | | | | | | | | | | | | | | | | | | | | | | | | | | | | | | | | | | | | | | | | | | | | | | | | | | | | | | | | \n",
      "2024-01-12 | | | | | | | | | | | | | | | | | | | | | | | | | | | | | | | | | | | | | | | | | | | | | | | | | | | | | | | | | | | | | | | | | | | | | | \n",
      "2024-01-13 | | | | | | | | | | | | | | | | | | | | | | | | | | | | | | | | | | | | | | | | | | | | | | | | | | | | | | | | | | | | | | | | | | | | | | \n",
      "2024-01-14 | | | | | | | | | | | | | | | | | | | | | | | | | | | | | | | | | | | | | | | | | | | | | | | | | | | | | | | | | | | | | | | | | | | | | | \n",
      "2024-01-15 | | | | | | | | | | | | | | | | | | | | | | | | | | | | | | | | | | | | | | | | | | | | | | | | | | | | | | | | | | | | | | | | | | | | | | \n",
      "2024-01-16 | | | | | | | | | | | | | | | | | | | | | | | | | | | | | | | | | | | | | | | | | | | | | | | | | | | | | | | | | | | | | | | | | | | | | | \n",
      "2024-01-17 | | | | | | | | | | | | | | | | | | | | | | | | | | | | | | | | | | | | | | | | | | | | | | | | | | | | | | | | | | | | | | | | | | | | | | \n",
      "2024-01-18 | | | | | | | | | | | | | | | | | | | | | | | | | | | | | | | | | | | | | | | | | | | | | | | | | | | | | | | | | | | | | | | | | | | | | | \n",
      "2024-01-19 | | | | | | | | | | | | | | | | | | | | | | | | | | | | | | | | | | | | | | | | | | | | | | | | | | | | | | | | | | | | | | | | | | | | | | \n",
      "2024-01-20 | | | | | | | | | | | | | | | | | | | | | | | | | | | | | | | | | | | | | | | | | | | | | | | | | | | | | | | | | | | | | | | | | | | | | | \n",
      "2024-01-21 | | | | | | | | | | | | | | | | | | | | | | | | | | | | | | | | | | | | | | | | | | | | | | | | | | | | | | | | | | | | | | | | | | | | | | \n",
      "2024-01-22 | | | | | | | | | | | | | | | | | | | | | | | | | | | | | | | | | | | | | | | | | | | | | | | | | | | | | | | | | | | | | | | | | | | | | | \n",
      "2024-01-23 | | | | | | | | | | | | | | | | | | | | | | | | | | | | | | | | | | | | | | | | | | | | | | | | | | | | | | | | | | | | | | | | | | | | | | \n",
      "2024-01-24 | | | | | | | | | | | | | | | | | | | | | | | | | | | | | | | | | | | | | | | | | | | | | | | | | | | | | | | | | | | | | | | | | | | | | | \n",
      "2024-01-25 | | | | | | | | | | | | | | | | | | | | | | | | | | | | | | | | | | | | | | | | | | | | | | | | | | | | | | | | | | | | | | | | | | | | | | \n",
      "2024-01-26 | | | | | | | | | | | | | | | | | | | | | | | | | | | | | | | | | | | | | | | | | | | | | | | | | | | | | | | | | | | | | | | | | | | | | | \n",
      "2024-01-27 | | | | | | | | | | | | | | | | | | | | | | | | | | | | | | | | | | | | | | | | | | | | | | | | | | | | | | | | | | | | | | | | | | | | | | \n",
      "2024-01-28 | | | | | | | | | | | | | | | | | | | | | | | | | | | | | | | | | | | | | | | | | | | | | | | | | | | | | | | | | | | | | | | | | | | | | | \n",
      "2024-01-29 | | | | | | | | | | | | | | | | | | | | | | | | | | | | | | | | | | | | | | | | | | | | | | | | | | | | | | | | | | | | | | | | | | | | | | \n",
      "2024-01-30 | | | | | | | | | | | | | | | | | | | | | | | | | | | | | | | | | | | | | | | | | | | | | | | | | | | | | | | | | | | | | | | | | | | | | | \n",
      "2024-01-31 | | | | | | | | | | | | | | | | | | | | | | | | | | | | | | | | | | | | | | | | | | | | | | | | | | | | | | | | | | | | | | | | | | | | | | \n",
      "2024-02-01 | | | | | | | | | | | | | | | | | | | | | | | | | | | | | | | | | | | | | | | | | | | | | | | | | | | | | | | | | | | | | | | | | | | | | | \n",
      "2024-02-02 | | | | | | | | | | | | | | | | | | | | | | | | | | | | | | | | | | | | | | | | | | | | | | | | | | | | | | | | | | | | | | | | | | | | | | \n",
      "2024-02-03 | | | | | | | | | | | | | | | | | | | | | | | | | | | | | | | | | | | | | | | | | | | | | | | | | | | | | | | | | | | | | | | | | | | | | | \n",
      "2024-02-04 | | | | | | | | | | | | | | | | | | | | | | | | | | | | | | | | | | | | | | | | | | | | | | | | | | | | | | | | | | | | | | | | | | | | | | \n",
      "2024-02-05 | | | | | | | | | | | | | | | | | | | | | | | | | | | | | | | | | | | | | | | | | | | | | | | | | | | | | | | | | | | | | | | | | | | | | | \n",
      "2024-02-06 | | | | | | | | | | | | | | | | | | | | | | | | | | | | | | | | | | | | | | | | | | | | | | | | | | | | | | | | | | | | | | | | | | | | | | \n",
      "2024-02-07 | | | | | | | | | | | | | | | | | | | | | | | | | | | | | | | | | | | | | | | | | | | | | | | | | | | | | | | | | | | | | | | | | | | | | | \n",
      "2024-02-08 | | | | | | | | | | | | | | | | | | | | | | | | | | | | | | | | | | | | | | | | | | | | | | | | | | | | | | | | | | | | | | | | | | | | | | \n",
      "2024-02-09 | | | | | | | | | | | | | | | | | | | | | | | | | | | | | | | | | | | | | | | | | | | | | | | | | | | | | | | | | | | | | | | | | | | | | | \n",
      "2024-02-10 | | | | | | | | | | | | | | | | | | | | | | | | | | | | | | | | | | | | | | | | | | | | | | | | | | | | | | | | | | | | | | | | | | | | | | \n",
      "2024-02-11 | | | | | | | | | | | | | | | | | | | | | | | | | | | | | | | | | | | | | | | | | | | | | | | | | | | | | | | | | | | | | | | | | | | | | | \n",
      "2024-02-12 | | | | | | | | | | | | | | | | | | | | | | | | | | | | | | | | | | | | | | | | | | | | | | | | | | | | | | | | | | | | | | | | | | | | | | \n"
     ]
    }
   ],
   "source": [
    "print_req(req, new_apps)"
   ]
  },
  {
   "cell_type": "markdown",
   "id": "ca0411fb-4eff-44b2-a272-3948849b874b",
   "metadata": {},
   "source": [
    "# SIMULATE MULTIPLE DAYS"
   ]
  },
  {
   "cell_type": "code",
   "execution_count": 173,
   "id": "9bcedf9c-be90-4fa4-804e-f438e76ff8cf",
   "metadata": {
    "tags": []
   },
   "outputs": [],
   "source": [
    "num_of_actions = 50\n",
    "actions_freq_in_days = 2"
   ]
  },
  {
   "cell_type": "code",
   "execution_count": 174,
   "id": "e216d51c-dfa2-4f8f-aae0-e764a24fbbe1",
   "metadata": {
    "tags": []
   },
   "outputs": [
    {
     "name": "stdout",
     "output_type": "stream",
     "text": [
      "2023-11-14 00:00:00\n",
      "DELR235923_DELC40953309 interview -1\n",
      "DELR235923_DELC44860677 interview -1\n",
      "DELR235923_DELC44245695 interview 0\n",
      "DELR235923_DELC44860699 interview -1\n",
      "DELR235923_DELC44864113 interview -1\n",
      "DELR235923_DELC44866636 interview 2\n",
      "DELR235923_DELC44866769 interview 0\n",
      "DELR235923_DELC44866701 interview 0\n",
      "DELR235923_DELC44864104 interview 0\n",
      "DELR235923_DELC44861051 interview -1\n",
      "DELR235923_DELC44866754 interview 0\n",
      "DELR235923_DELC44864470 interview -1\n",
      "DELR235923_DELC44861273 interview -1\n",
      "DELR235923_DELC44861042 interview -1\n",
      "DELR235923_DELC44866707 interview 0\n",
      "DELR235923_DELC44860875 interview -1\n",
      "DELR235923_DELC44864074 interview 0\n",
      "DELR235923_DELC41733930 interview 0\n",
      "DELR235923_DELC44863517 interview -1\n",
      "DELR235923_DELC44522682 interview 0\n",
      "DELR235923_DELC44865962 interview 0\n",
      "DELR235923_DELC44863668 interview 0\n",
      "DELR235923_DELC44865273 interview 0\n",
      "DELR235923_DELC44861134 interview -1\n",
      "DELR235923_DELC44862693 interview -1\n",
      "DELR235923_DELC44862783 interview 0\n",
      "DELR235923_DELC44866430 interview 0\n",
      "DELR235923_DELC44522314 interview -1\n",
      "DELR235923_DELC44860774 interview -1\n",
      "DELR235923_DELC40058301 interview 0\n",
      "DELR235923_DELC44866748 interview 0\n",
      "DELR235923_DELC44862062 interview 4\n",
      "DELR235923_DELC44860910 interview -1\n",
      "DELR235923_DELC44547903 interview -1\n",
      "DELR235923_DELC44526706 interview -1\n",
      "DELR235923_DELC44866848 interview 0\n",
      "DELR235923_DELC44863954 interview 0\n",
      "DELR235923_DELC44563122 interview 0\n",
      "DELR235923_DELC44816108 interview 0\n",
      "DELR235923_DELC44860638 interview -1\n",
      "DELR235923_DELC44860811 interview -1\n",
      "DELR235923_DELC44864549 interview 0\n",
      "DELR235923_DELC44864048 interview 0\n",
      "DELR235923_DELC44860928 interview -1\n",
      "DELR235923_DELC44863717 interview 0\n",
      "DELR235923_DELC44861055 interview -1\n",
      "DELR235923_DELC44860768 interview -1\n",
      "DELR235923_DELC44865938 interview 0\n",
      "DELR235923_DELC44864143 interview 0\n",
      "DELR235923_DELC44221360 interview 0\n",
      "\n",
      "2023-11-15 00:00:00\n",
      "DELR235923_DELC44868946 interview 0\n",
      "DELR235923_DELC44869032 interview 0\n",
      "DELR235923_DELC44867061 interview 0\n",
      "DELR235923_DELC44869031 interview 0\n",
      "DELR235923_DELC44860882 interview -1\n",
      "DELR235923_DELC44861879 interview 0\n",
      "DELR235923_DELC42098898 interview 0\n",
      "DELR235923_DELC44861007 interview -1\n",
      "DELR235923_DELC44864554 interview 0\n",
      "DELR235923_DELC44860791 interview -1\n",
      "DELR235923_DELC44862944 interview 0\n",
      "DELR235923_DELC43835615 interview 0\n",
      "DELR235923_DELC40810929 interview 0\n",
      "DELR235923_DELC44863955 interview 0\n",
      "DELR235923_DELC44864521 interview 0\n",
      "DELR235923_DELC44869106 interview 0\n",
      "DELR235923_DELC44861078 interview -1\n",
      "DELR235923_DELC44860930 interview -1\n",
      "DELR235923_DELC43814233 interview 2\n",
      "DELR235923_DELC44869053 interview 0\n",
      "DELR235923_DELC44488276 interview 0\n",
      "DELR235923_DELC44866291 interview -1\n",
      "DELR235923_DELC44864407 interview -1\n",
      "DELR235923_DELC44812127 interview 0\n",
      "DELR235923_DELC44861065 interview -1\n",
      "DELR235923_DELC44815109 interview 0\n",
      "DELR235923_DELC44676304 rejected 0\n",
      "DELR235923_DELC44863985 rejected 0\n",
      "DELR235923_DELC44862252 rejected 0\n",
      "DELR235923_DELC44867159 rejected 0\n",
      "DELR235923_DELC41358634 rejected -1\n",
      "DELR235923_DELC44861275 rejected -1\n",
      "DELR235923_DELC44860983 rejected -1\n",
      "DELR235923_DELC44866426 rejected 0\n",
      "DELR235923_DELC44866805 rejected 0\n",
      "DELR235923_DELC44861301 rejected 0\n",
      "DELR235923_DELC44866486 rejected 0\n",
      "DELR235923_DELC44861187 rejected -1\n",
      "DELR235923_DELC44866354 rejected 0\n",
      "DELR235923_DELC44861104 rejected -1\n",
      "DELR235923_DELC44861425 rejected -1\n",
      "DELR235923_DELC44452215 rejected 2\n",
      "DELR235923_DELC44866101 rejected 0\n",
      "DELR235923_DELC44866557 rejected 0\n",
      "DELR235923_DELC44860891 rejected -1\n",
      "DELR235923_DELC44866452 rejected 0\n",
      "DELR235923_DELC44862642 rejected 0\n",
      "DELR235923_DELC44860099 rejected -1\n",
      "DELR235923_DELC44866447 rejected 0\n",
      "DELR235923_DELC44864701 rejected 0\n",
      "\n",
      "2023-11-16 00:00:00\n",
      "DELR235923_DELC44860647 rejected -1\n",
      "DELR235923_DELC44861056 rejected -1\n",
      "DELR235923_DELC44864861 rejected 0\n",
      "DELR235923_DELC44864233 rejected 0\n",
      "DELR235923_DELC44867768 rejected 0\n",
      "DELR235923_DELC43800432 rejected 0\n",
      "DELR235923_DELC44863608 rejected 0\n",
      "DELR235923_DELC44861225 rejected -1\n",
      "DELR235923_DELC44842062 rejected -1\n",
      "DELR235923_DELC44860726 rejected -1\n",
      "DELR235923_DELC44863967 rejected 0\n",
      "DELR235923_DELC44861290 rejected 0\n",
      "DELR235923_DELC44864733 rejected 0\n",
      "DELR235923_DELC44523953 rejected 0\n",
      "DELR235923_DELC44866222 rejected 0\n",
      "DELR235923_DELC44861158 rejected -1\n",
      "DELR235923_DELC44866182 rejected 0\n",
      "DELR235923_DELC44866349 rejected 0\n",
      "DELR235923_DELC44861076 rejected -1\n",
      "DELR235923_DELC40606730 rejected 0\n",
      "DELR235923_DELC44860370 rejected 0\n",
      "DELR235923_DELC44532406 rejected 0\n",
      "DELR235923_DELC42883593 rejected 0\n",
      "DELR235923_DELC44865148 rejected 0\n",
      "\n",
      "2023-11-17 00:00:00\n",
      "\n",
      "2023-11-18 00:00:00\n",
      "\n",
      "2023-11-19 00:00:00\n",
      "\n",
      "2023-11-20 00:00:00\n",
      "\n",
      "2023-11-21 00:00:00\n",
      "\n",
      "2023-11-22 00:00:00\n",
      "\n",
      "2023-11-23 00:00:00\n",
      "\n",
      "2023-11-24 00:00:00\n",
      "\n",
      "2023-11-25 00:00:00\n",
      "\n",
      "2023-11-26 00:00:00\n",
      "\n",
      "2023-11-27 00:00:00\n",
      "DELR235923_DELC44818717 rejected 2\n",
      "\n",
      "2023-11-28 00:00:00\n",
      "\n",
      "2023-11-29 00:00:00\n",
      "\n",
      "2023-11-30 00:00:00\n",
      "\n",
      "2023-12-01 00:00:00\n",
      "DELR235923_DELC43092526 interview 0\n",
      "\n",
      "2023-12-02 00:00:00\n",
      "\n",
      "2023-12-03 00:00:00\n",
      "\n",
      "2023-12-04 00:00:00\n",
      "DELR235923_DELC40601662 rejected 0\n",
      "\n",
      "2023-12-05 00:00:00\n",
      "\n",
      "2023-12-06 00:00:00\n",
      "\n",
      "2023-12-07 00:00:00\n",
      "\n",
      "2023-12-08 00:00:00\n",
      "\n",
      "2023-12-09 00:00:00\n",
      "\n",
      "2023-12-10 00:00:00\n",
      "DELR235923_DELC41420858 interview -1\n",
      "\n",
      "2023-12-11 00:00:00\n",
      "\n",
      "2023-12-12 00:00:00\n",
      "\n",
      "2023-12-13 00:00:00\n",
      "\n",
      "2023-12-14 00:00:00\n",
      "\n",
      "2023-12-15 00:00:00\n",
      "\n",
      "2023-12-16 00:00:00\n",
      "\n",
      "2023-12-17 00:00:00\n",
      "\n",
      "2023-12-18 00:00:00\n",
      "\n",
      "2023-12-19 00:00:00\n",
      "\n",
      "2023-12-20 00:00:00\n",
      "\n",
      "2023-12-21 00:00:00\n",
      "\n",
      "2023-12-22 00:00:00\n",
      "DELR235923_DELC41459628 rejected -1\n",
      "\n",
      "2023-12-23 00:00:00\n",
      "\n",
      "2023-12-24 00:00:00\n",
      "\n",
      "2023-12-25 00:00:00\n",
      "\n",
      "2023-12-26 00:00:00\n",
      "\n",
      "2023-12-27 00:00:00\n",
      "\n",
      "2023-12-28 00:00:00\n",
      "\n",
      "2023-12-29 00:00:00\n",
      "\n",
      "2023-12-30 00:00:00\n",
      "\n",
      "2023-12-31 00:00:00\n",
      "\n",
      "2024-01-01 00:00:00\n",
      "\n",
      "2024-01-02 00:00:00\n",
      "\n",
      "2024-01-03 00:00:00\n",
      "\n",
      "2024-01-04 00:00:00\n",
      "\n",
      "2024-01-05 00:00:00\n",
      "\n",
      "2024-01-06 00:00:00\n",
      "\n",
      "2024-01-07 00:00:00\n",
      "\n",
      "2024-01-08 00:00:00\n",
      "\n",
      "2024-01-09 00:00:00\n",
      "\n",
      "2024-01-10 00:00:00\n",
      "\n",
      "2024-01-11 00:00:00\n",
      "\n",
      "2024-01-12 00:00:00\n",
      "\n",
      "2024-01-13 00:00:00\n",
      "\n",
      "2024-01-14 00:00:00\n",
      "\n",
      "2024-01-15 00:00:00\n",
      "\n",
      "2024-01-16 00:00:00\n",
      "\n",
      "2024-01-17 00:00:00\n",
      "\n",
      "2024-01-18 00:00:00\n",
      "\n",
      "2024-01-19 00:00:00\n",
      "\n",
      "2024-01-20 00:00:00\n",
      "\n",
      "2024-01-21 00:00:00\n",
      "\n",
      "2024-01-22 00:00:00\n",
      "\n",
      "2024-01-23 00:00:00\n",
      "\n",
      "2024-01-24 00:00:00\n",
      "\n",
      "2024-01-25 00:00:00\n",
      "\n",
      "2024-01-26 00:00:00\n",
      "\n",
      "2024-01-27 00:00:00\n",
      "\n",
      "2024-01-28 00:00:00\n",
      "\n",
      "2024-01-29 00:00:00\n",
      "\n",
      "2024-01-30 00:00:00\n",
      "\n",
      "2024-01-31 00:00:00\n",
      "\n",
      "2024-02-01 00:00:00\n",
      "\n",
      "2024-02-02 00:00:00\n",
      "\n",
      "2024-02-03 00:00:00\n",
      "\n",
      "2024-02-04 00:00:00\n",
      "\n",
      "2024-02-05 00:00:00\n",
      "\n",
      "2024-02-06 00:00:00\n",
      "\n",
      "2024-02-07 00:00:00\n",
      "\n",
      "2024-02-08 00:00:00\n",
      "\n",
      "2024-02-09 00:00:00\n",
      "\n",
      "2024-02-10 00:00:00\n",
      "\n",
      "2024-02-11 00:00:00\n",
      "\n",
      "2024-02-12 00:00:00\n",
      "\n",
      "2024-02-13 00:00:00\n",
      "\n"
     ]
    },
    {
     "data": {
      "text/plain": [
       "{'post_to_offer': 35,\n",
       " 'waiting_days': 0.9779411764705882,\n",
       " 'num_of_interviews': 80}"
      ]
     },
     "execution_count": 174,
     "metadata": {},
     "output_type": "execute_result"
    }
   ],
   "source": [
    "referece_date = datetime(2023, 11, 13, 0, 0)\n",
    "new_apps = req_apps\n",
    "chosen_actions = {}\n",
    "while referece_date.date() < req['status_history']['Filled'][0].date():\n",
    "    referece_date = referece_date + timedelta(days=1)\n",
    "    possible_actions = get_req_possible_actions(req_apps=new_apps, current_date=referece_date)\n",
    "    best_actions = list(sorted(possible_actions, key=lambda x: x['score'], reverse=True))[:num_of_actions]\n",
    "    \n",
    "    possible_actions = best_actions\n",
    "    if len(possible_actions) > num_of_actions:\n",
    "        possible_actions = rn.sample(possible_actions, num_of_actions)\n",
    "    res, new_apps = simulate_req(req_apps=new_apps, post_date=req['status_history']['Post'][0], actions=possible_actions)\n",
    "    print(referece_date)\n",
    "    for a in possible_actions:\n",
    "        print(a['app_id'], a['action'], a['app_max_status'])\n",
    "    print()\n",
    "\n",
    "res"
   ]
  },
  {
   "cell_type": "code",
   "execution_count": 172,
   "id": "40ed4a3a-1e6c-49ed-ac5c-dc12eaedae19",
   "metadata": {
    "tags": []
   },
   "outputs": [
    {
     "name": "stdout",
     "output_type": "stream",
     "text": [
      "2023-11-10 | | | | | | | | | | | | | | | | | | | | | | | | | | | | | | | | | | | | | | | | | | | | | | | | | | | | | | | | | | | | | | | | | | | | | | \n",
      "2023-11-11 \u001b[1m\u001b[33mA\u001b[0m \u001b[1m\u001b[33mA\u001b[0m \u001b[1m\u001b[33mA\u001b[0m \u001b[1m\u001b[33mA\u001b[0m \u001b[1m\u001b[33mA\u001b[0m \u001b[1m\u001b[33mA\u001b[0m \u001b[1m\u001b[33mA\u001b[0m \u001b[1m\u001b[33mA\u001b[0m \u001b[1m\u001b[33mA\u001b[0m \u001b[1m\u001b[33mA\u001b[0m \u001b[1m\u001b[33mA\u001b[0m \u001b[1m\u001b[33mA\u001b[0m \u001b[1m\u001b[33mA\u001b[0m \u001b[1m\u001b[33mA\u001b[0m \u001b[1m\u001b[33mA\u001b[0m \u001b[1m\u001b[33mA\u001b[0m \u001b[1m\u001b[33mA\u001b[0m \u001b[1m\u001b[33mA\u001b[0m \u001b[1m\u001b[33mA\u001b[0m \u001b[1m\u001b[33mA\u001b[0m \u001b[1m\u001b[33mA\u001b[0m \u001b[1m\u001b[33mA\u001b[0m \u001b[1m\u001b[33mA\u001b[0m \u001b[1m\u001b[33mA\u001b[0m \u001b[1m\u001b[33mA\u001b[0m \u001b[1m\u001b[33mA\u001b[0m \u001b[1m\u001b[33mA\u001b[0m \u001b[1m\u001b[33mA\u001b[0m \u001b[1m\u001b[33mA\u001b[0m \u001b[1m\u001b[33mA\u001b[0m \u001b[1m\u001b[33mA\u001b[0m \u001b[1m\u001b[33mA\u001b[0m \u001b[1m\u001b[33mA\u001b[0m \u001b[1m\u001b[33mA\u001b[0m \u001b[1m\u001b[33mA\u001b[0m \u001b[1m\u001b[33mA\u001b[0m | | | | | | | | | | | | | | | | | | | | | | | | | | | | | | | | | | \n",
      "2023-11-12 | | | | | | | | | | | | | | | | | | | | | | | | | | | | | | | | | | | | \u001b[1m\u001b[33mA\u001b[0m \u001b[1m\u001b[33mA\u001b[0m \u001b[1m\u001b[33mA\u001b[0m \u001b[1m\u001b[33mA\u001b[0m \u001b[1m\u001b[33mA\u001b[0m \u001b[1m\u001b[33mA\u001b[0m \u001b[1m\u001b[33mA\u001b[0m \u001b[1m\u001b[33mA\u001b[0m \u001b[1m\u001b[33mA\u001b[0m \u001b[1m\u001b[33mA\u001b[0m \u001b[1m\u001b[33mA\u001b[0m \u001b[1m\u001b[33mA\u001b[0m \u001b[1m\u001b[33mA\u001b[0m | | | | | | | | | | | | | | | | | | | | | \n",
      "2023-11-13 | | | | | | | | | | | | | | | | | | | | | | | | | | | | | | | | | | | | | | | | | | | | | | | | | \u001b[1m\u001b[33mA\u001b[0m \u001b[1m\u001b[33mA\u001b[0m \u001b[1m\u001b[33mA\u001b[0m \u001b[1m\u001b[33mA\u001b[0m \u001b[1m\u001b[33mA\u001b[0m \u001b[1m\u001b[33mA\u001b[0m \u001b[1m\u001b[33mA\u001b[0m \u001b[1m\u001b[33mA\u001b[0m \u001b[1m\u001b[33mA\u001b[0m \u001b[1m\u001b[33mA\u001b[0m \u001b[1m\u001b[33mA\u001b[0m \u001b[1m\u001b[33mA\u001b[0m \u001b[1m\u001b[33mA\u001b[0m \u001b[1m\u001b[33mA\u001b[0m \u001b[1m\u001b[33mA\u001b[0m \u001b[1m\u001b[33mA\u001b[0m \u001b[1m\u001b[33mA\u001b[0m \u001b[1m\u001b[33mA\u001b[0m \u001b[1m\u001b[33mA\u001b[0m \u001b[1m\u001b[33mA\u001b[0m \u001b[1m\u001b[33mA\u001b[0m \n",
      "2023-11-14 | | | | | \u001b[1m\u001b[34mV\u001b[0m \u001b[1m\u001b[34mV\u001b[0m | | | | | | | | | | | | | | | | | | | | | | | | | | | | | | | | | | | | | | | | | \u001b[1m\u001b[34mV\u001b[0m | | | | | | | | | | | | | | | | | | | | \u001b[1m\u001b[34mV\u001b[0m \n",
      "2023-11-15 | | | | | | | | | | | | | | | | | | | | | | | | | | | | | | | | | | | | | | | | | | | | | | | | | | | | | | | | | | | | | | | | | | | \u001b[1m\u001b[34mV\u001b[0m | | \n",
      "2023-11-16 | | | | | | | | | | | | | \u001b[1m\u001b[34mV\u001b[0m | | | | | | | \u001b[1m\u001b[34mV\u001b[0m | | | | | | | \u001b[1m\u001b[34mV\u001b[0m | | | | | | | \u001b[1m\u001b[34mV\u001b[0m | | | | | | | | | | | | | | | | | | | | | | | | | | | | | | | | \n",
      "2023-11-17 | \u001b[1m\u001b[31mR\u001b[0m | | | | | | | | | | | | | | | | | | | | | | | | | | | | | | | | | | | | | | | | | \u001b[1m\u001b[31mR\u001b[0m | | | | | | | | | \u001b[1m\u001b[34mV\u001b[0m | \u001b[1m\u001b[31mR\u001b[0m | | | \u001b[1m\u001b[34mV\u001b[0m \u001b[1m\u001b[34mV\u001b[0m | | | | | \u001b[1m\u001b[34mV\u001b[0m | | | \n",
      "2023-11-18 | | | | | | | | | | | | | | | | | | | | | | | | | | | | | | | \u001b[1m\u001b[34mV\u001b[0m | | | | | | | | | | | | | | | | | | \u001b[1m\u001b[34mV\u001b[0m | | | | | | \u001b[1m\u001b[34mV\u001b[0m | | | | | | | | | | | | \n",
      "2023-11-19 | | | | | | | | \u001b[1m\u001b[34mV\u001b[0m | | | | | | | | | | | | | | | | | \u001b[1m\u001b[34mV\u001b[0m | | | | | | | | | | | | | | | | | \u001b[1m\u001b[34mV\u001b[0m | \u001b[1m\u001b[34mV\u001b[0m | | | | \u001b[1m\u001b[34mV\u001b[0m | | | | | | | | | | | | | | | | | | \n",
      "2023-11-20 | | | \u001b[1m\u001b[34mV\u001b[0m | | | | | | | | | | | \u001b[1m\u001b[34mV\u001b[0m \u001b[1m\u001b[34mV\u001b[0m | | | | | | | | | | | | | | | | | | | | | | | | | | | | | | | | | | | | | | | | | \u001b[1m\u001b[34mV\u001b[0m | | | \u001b[1m\u001b[34mV\u001b[0m | | | | | | | \n",
      "2023-11-21 | | | | \u001b[1m\u001b[34mV\u001b[0m | | | | \u001b[1m\u001b[34mV\u001b[0m | | | | | | | | | | | | | | | | | | | | | | | | | | | | | | | | | | | | | | | | | | | | | | | | | | | | | | | \u001b[1m\u001b[34mV\u001b[0m | | | | \n",
      "2023-11-22 | | | | | | | | | | | \u001b[1m\u001b[34mV\u001b[0m | | | | | | \u001b[1m\u001b[34mV\u001b[0m | | | | | | | | \u001b[1m\u001b[34mV\u001b[0m | | | | | | | | | | | | | | | | | | | | | | | | | | | | \u001b[1m\u001b[34mV\u001b[0m | | | | | | | | | | | \u001b[1m\u001b[34mV\u001b[0m | \n",
      "2023-11-23 | | | | | | | | | | | | \u001b[1m\u001b[34mV\u001b[0m | | | | | | | \u001b[1m\u001b[34mV\u001b[0m | | | | | | | | | | | | | | | | | | | | | \u001b[1m\u001b[34mV\u001b[0m | | \u001b[1m\u001b[34mV\u001b[0m | | | | | | | | | | | | | | | | | | | | | | | | \n",
      "2023-11-24 | | | | | | | | | | \u001b[1m\u001b[34mV\u001b[0m | | | | | | | | | | | | | | | | | | | | | | | | | | | | | \u001b[1m\u001b[34mV\u001b[0m | | | | | | | | | | | \u001b[1m\u001b[34mV\u001b[0m | | | | | | | | | | | | | | | | | \n",
      "2023-11-25 | | | | | | | | | | | | | | | | | | | \u001b[1m\u001b[34mV\u001b[0m | | | | | | | | \u001b[1m\u001b[34mV\u001b[0m | | | | | | | | | | | | | | | | | | | | | | | | | | | | | | | | | | \u001b[1m\u001b[34mV\u001b[0m | | | | | | \n",
      "2023-11-26 | | | | | | | | | | | | | | | | | | | | | | | \u001b[1m\u001b[34mV\u001b[0m | | | | | | | | | | | | | | | | | | | | | | | \u001b[1m\u001b[31mR\u001b[0m | | | | | | | | | | | | | \u001b[1m\u001b[31mR\u001b[0m | | | | | | | | \n",
      "2023-11-27 | | | | | | | | | | | | | | | | | | | | | | \u001b[1m\u001b[31mR\u001b[0m | | | | | | | | | | | \u001b[1m\u001b[31mR\u001b[0m | \u001b[1m\u001b[31mR\u001b[0m | \u001b[1m\u001b[31mR\u001b[0m | | | | | | | | | | | | | | | | | | | | | | | | | | | | | | | \n",
      "2023-11-28 | | | | | | | | | | | | | | | | | \u001b[1m\u001b[31mR\u001b[0m | | | | | | | | | | | | \u001b[1m\u001b[31mR\u001b[0m | | \u001b[1m\u001b[31mR\u001b[0m | | | | | | | \u001b[1m\u001b[31mR\u001b[0m | | | | | | | | | | | | | | | | | | | | | | \u001b[1m\u001b[31mR\u001b[0m | \u001b[1m\u001b[31mR\u001b[0m \u001b[1m\u001b[31mR\u001b[0m \u001b[1m\u001b[31mR\u001b[0m | \n",
      "2023-11-29 \u001b[1m\u001b[31mR\u001b[0m | \u001b[1m\u001b[31mR\u001b[0m | | | | | | | | | | | \u001b[1m\u001b[31mR\u001b[0m | | | | | | | | | | \u001b[1m\u001b[31mR\u001b[0m | | | | | | | | | \u001b[1m\u001b[31mR\u001b[0m | | | \u001b[1m\u001b[31mR\u001b[0m \u001b[1m\u001b[31mR\u001b[0m | \u001b[1m\u001b[31mR\u001b[0m | \u001b[1m\u001b[31mR\u001b[0m \u001b[1m\u001b[31mR\u001b[0m | | \u001b[1m\u001b[31mR\u001b[0m \u001b[1m\u001b[31mR\u001b[0m | \u001b[1m\u001b[31mR\u001b[0m \u001b[1m\u001b[31mR\u001b[0m | \u001b[1m\u001b[31mR\u001b[0m | \u001b[1m\u001b[31mR\u001b[0m \u001b[1m\u001b[31mR\u001b[0m \u001b[1m\u001b[31mR\u001b[0m \u001b[1m\u001b[31mR\u001b[0m | | | \u001b[1m\u001b[31mR\u001b[0m | | | | | | \n",
      "2023-11-30 | | | | | | | \u001b[1m\u001b[31mR\u001b[0m | | | | | | | | | | | | | | | | \u001b[1m\u001b[31mR\u001b[0m | | | | | | | \u001b[1m\u001b[31mR\u001b[0m | | | | | | | | | | | | | | | | | | | | | | | | | | | | | | | | | | | | | \n",
      "2023-12-01 | | | | | | | | | | | | | | | | | | | | | | | | | | | | | | | | | | | | | | | | | | | | | | | | | | | | | | | | | | | | | | | | | | | | | | \n",
      "2023-12-02 | | | | | | | | | | | | | | | | | | | | | | | | | | | | | | | | | | | | | | | | | | | | | | | | | | | | | | | | | | | | | | | | | | | | | | \n",
      "2023-12-03 | | | | | | | | | | | | | | | | | | | | | | | | | | | | | | | | | | | | | | | | | | | | | | | | | | | | | | | | | | | | | | | | | | | | | | \n",
      "2023-12-04 | | | | | | | | | | | | | | | | | | | | | | | | | | | | | | | | | | | | | | | | | | | | | | | | | | | | | | | | | | | | | | | | | | | | | | \n",
      "2023-12-05 | | | | | | | | | | | | | | | | | | | | | | | | | | | | | | | | | | | | | | | | | | | | | | | | | | | | | | | | | | | | | | | | | | | | | | \n",
      "2023-12-06 | | | | | | | | | | | | | | | | | | | | | | | | | | | | | | | | | | | | | | | | | | | | | | | | | | | | | | | | | | | | \u001b[1m\u001b[31mR\u001b[0m | \u001b[1m\u001b[31mR\u001b[0m | | \u001b[1m\u001b[31mR\u001b[0m | | | | \n",
      "2023-12-07 | | | | | | | | | | | | | | | | | | | | | | | | | | | | | | | | | | | | | | | | | | | | | | | | | | | | | | | | | | | | | | | | | | | | | | \n",
      "2023-12-08 | | | | | | | | | | | | | | | | | | | | | | | | | | | | | | | | | | | | | | | | | | | | | | | | | | | | | | | | | | | | | | | | | | | | | | \n",
      "2023-12-09 | | | | | | | | | | | | | | | | | | | | | | | | | | | | | | | | | | | | | | | | | | | | | | | | | | | | | | | | | | | | | | | | | | | | | | \n",
      "2023-12-10 | | | | | | | | | | | | | | | | | | | | | | | | | | | | | | | | | | | | | | | | | | | | | | | | | | | | | | | | | | | | | | | | | | | | | | \n",
      "2023-12-11 | | | | | | | | | | | | | | | | | | | | | | | | | | | | | | | | | | | | | | | | | | | | | | | | | | | | | | | | | | | | | | | | | | | | | | \n",
      "2023-12-12 | | | | | | | | | | | | | | | | | | | | | | | | | | | | | | | | | | | | | | | | | | | | | | | | | | | | | | | | | | | | | | | | | | | | | | \n",
      "2023-12-13 | | | | | | | | | | | | | | | | | | | | | | | | | | | | | | | | | | | | | | | | | | | | | | | | | | | | | | | | | | | | | | | | | | | | | | \n",
      "2023-12-14 | | | | | | | | | | | | | | | | | | | | | | | | | | | | | | | | | | | | | | | | | | | | | | | | | | | | | | | | | | | | | | | | | | | | | | \n",
      "2023-12-15 | | | | | | | | | | | | | | | | | | | | | | | | | | | | | | | | | | | | | | | | | | | | | | | | | | | | | | | | | | | | | | | | | | | | | | \n",
      "2023-12-16 | | | | | | | | | | | | | | | | | | | | | | | | | | | | | | | | | | | | | | | | | | | | | | | | | | | | | | | | | | | | | | | | | | | | | | \n",
      "2023-12-17 | | | | | | | | | | | | | | | | | | | | | | | | | | | | | | | | | | | | | | | | | | | | | | | | | | | | | | | | | | | | | | | | | | | | | | \n",
      "2023-12-18 | | | | | | | | | | | | | | | | | | | | | | | | | | | | | | | | | | | | | | | | | | | | | | | | | | | | | | | | | | | | | | | | | | | | | | \n",
      "2023-12-19 | | | | | | | | | | | | | | | | | | | | | | | | | | | | | | | | | | | | | | | | | | | | | | | | | | | | | | | | | | | | | | | | | | | | | | \n",
      "2023-12-20 | | | | | | | | | | | | | | | | | | | | | | | | | | | | | | | | | | | | | | | | | | | | | | \u001b[1m\u001b[32mO\u001b[0m | | | | | | | | | | | | | | | | | | | | | | | \n",
      "2023-12-21 | | | \u001b[1m\u001b[31mR\u001b[0m \u001b[1m\u001b[31mR\u001b[0m \u001b[1m\u001b[31mR\u001b[0m \u001b[1m\u001b[31mR\u001b[0m | \u001b[1m\u001b[31mR\u001b[0m \u001b[1m\u001b[31mR\u001b[0m \u001b[1m\u001b[31mR\u001b[0m \u001b[1m\u001b[31mR\u001b[0m \u001b[1m\u001b[31mR\u001b[0m \u001b[1m\u001b[31mR\u001b[0m | \u001b[1m\u001b[31mR\u001b[0m \u001b[1m\u001b[31mR\u001b[0m | \u001b[1m\u001b[31mR\u001b[0m \u001b[1m\u001b[31mR\u001b[0m \u001b[1m\u001b[31mR\u001b[0m \u001b[1m\u001b[31mR\u001b[0m | \u001b[1m\u001b[31mR\u001b[0m | | \u001b[1m\u001b[31mR\u001b[0m \u001b[1m\u001b[31mR\u001b[0m \u001b[1m\u001b[31mR\u001b[0m \u001b[1m\u001b[31mR\u001b[0m | \u001b[1m\u001b[31mR\u001b[0m | | | | | \u001b[1m\u001b[31mR\u001b[0m | | | | | | | | | | | | \u001b[1m\u001b[31mR\u001b[0m | | \u001b[1m\u001b[31mR\u001b[0m | | | | | | | | | | | | | | | \u001b[1m\u001b[31mR\u001b[0m \n",
      "2023-12-22 | | | | | | | | | | | | | | | | | | | | | | | | | | | | | | | | | | | | | | | | | | | | | | | | | | | | | | | | | | | | | | | | | | | | | | \n",
      "2023-12-23 | | | | | | | | | | | | | | | | | | | | | | | | | | | | | | | | | | | | | | | | | | | | | | | | | | | | | | | | | | | | | | | | | | | | | | \n",
      "2023-12-24 | | | | | | | | | | | | | | | | | | | | | | | | | | | | | | | | | | | | | | | | | | | | | | | | | | | | | | | | | | | | | | | | | | | | | | \n",
      "2023-12-25 | | | | | | | | | | | | | | | | | | | | | | | | | | | | | | | | | | | | | | | | | | | | | | | | | | | | | | | | | | | | | | | | | | | | | | \n",
      "2023-12-26 | | | | | | | | | | | | | | | | | | | | | | | | | | | | | | | | | | | | | | | | | | | | | | | | | | | | | | | | | | | | | | | | | | | | | | \n",
      "2023-12-27 | | | | | | | | | | | | | | | | | | | | | | | | | | | | | | | | | | | | | | | | | | | | | | | | | | | | | | | | | | | | | | | | | | | | | | \n",
      "2023-12-28 | | | | | | | | | | | | | | | | | | | | | | | | | | | | | | | | | | | | | | | | | | | | | | | | | | | | | | | | | | | | | | | | | | | | | | \n",
      "2023-12-29 | | | | | | | | | | | | | | | | | | | | | | | | | | | | | | | | | | | | | | | | | | | | | | | | | | | | | | | | | | | | | | | | | | | | | | \n",
      "2023-12-30 | | | | | | | | | | | | | | | | | | | | | | | | | | | | | | | | | | | | | | | | | | | | | | | | | | | | | | | | | | | | | | | | | | | | | | \n",
      "2023-12-31 | | | | | | | | | | | | | | | | | | | | | | | | | | | | | | | | | | | | | | | | | | | | | | | | | | | | | | | | | | | | | | | | | | | | | | \n",
      "2024-01-01 | | | | | | | | | | | | | | | | | | | | | | | | | | | | | | | | | | | | | | | | | | | | | | | | | | | | | | | | | | | | | | | | | | | | | | \n",
      "2024-01-02 | | | | | | | | | | | | | | | | | | | | | | | | | | | | | | | | | | | | | | | | | | | | | | | | | | | | | | | | | | | | | | | | | | | | | | \n",
      "2024-01-03 | | | | | | | | | | | | | | | | | | | | | | | | | | | | | | | | | | | | | | | | | | | | | | | | | | | | | | | | | | | | | | | | | | | | | | \n",
      "2024-01-04 | | | | | | | | | | | | | | | | | | | | | | | | | | | | | | | | | | | | | | | | | | | | | | | | | | | | | | | | | | | | | | | | | | | | | | \n",
      "2024-01-05 | | | | | | | | | | | | | | | | | | | | | | | | | | | | | | | | | | | | | | | | | | | | | | | | | | | | | | | | | | | | | | | | | | | | | | \n",
      "2024-01-06 | | | | | | | | | | | | | | | | | | | | | | | | | | | | | | | | | | | | | | | | | | | | | | | | | | | | | | | | | | | | | | | | | | | | | | \n",
      "2024-01-07 | | | | | | | | | | | | | | | | | | | | | | | | | | | | | | | | | | | | | | | | | | | | | | | | | | | | | | | | | | | | | | | | | | | | | | \n",
      "2024-01-08 | | | | | | | | | | | | | | | | | | | | | | | | | | | | | | | | | | | | | | | | | | | | | | | | | | | | | | | | | | | | | | | | | | | | | | \n",
      "2024-01-09 | | | | | | | | | | | | | | | | | | | | | | | | | | | | | | | | | | | | | | | | | | | | | | | | | | | | | | | | | | | | | | | | | | | | | | \n",
      "2024-01-10 | | | | | | | | | | | | | | | | | | | | | | | | | | | | | | | | | | | | | | | | | | | | | | | | | | | | | | | | | | | | | | | | | | | | | | \n",
      "2024-01-11 | | | | | | | | | | | | | | | | | | | | | | | | | | | | | | | | | | | | | | | | | | | | | | | | | | | | | | | | | | | | | | | | | | | | | | \n",
      "2024-01-12 | | | | | | | | | | | | | | | | | | | | | | | | | | | | | | | | | | | | | | | | | | | | | | | | | | | | | | | | | | | | | | | | | | | | | | \n",
      "2024-01-13 | | | | | | | | | | | | | | | | | | | | | | | | | | | | | | | | | | | | | | | | | | | | | | | | | | | | | | | | | | | | | | | | | | | | | | \n",
      "2024-01-14 | | | | | | | | | | | | | | | | | | | | | | | | | | | | | | | | | | | | | | | | | | | | | | | | | | | | | | | | | | | | | | | | | | | | | | \n",
      "2024-01-15 | | | | | | | | | | | | | | | | | | | | | | | | | | | | | | | | | | | | | | | | | | | | | | | | | | | | | | | | | | | | | | | | | | | | | | \n",
      "2024-01-16 | | | | | | | | | | | | | | | | | | | | | | | | | | | | | | | | | | | | | | | | | | | | | | | | | | | | | | | | | | | | | | | | | | | | | | \n",
      "2024-01-17 | | | | | | | | | | | | | | | | | | | | | | | | | | | | | | | | | | | | | | | | | | | | | | | | | | | | | | | | | | | | | | | | | | | | | | \n",
      "2024-01-18 | | | | | | | | | | | | | | | | | | | | | | | | | | | | | | | | | | | | | | | | | | | | | | | | | | | | | | | | | | | | | | | | | | | | | | \n",
      "2024-01-19 | | | | | | | | | | | | | | | | | | | | | | | | | | | | | | | | | | | | | | | | | | | | | | | | | | | | | | | | | | | | | | | | | | | | | | \n",
      "2024-01-20 | | | | | | | | | | | | | | | | | | | | | | | | | | | | | | | | | | | | | | | | | | | | | | | | | | | | | | | | | | | | | | | | | | | | | | \n",
      "2024-01-21 | | | | | | | | | | | | | | | | | | | | | | | | | | | | | | | | | | | | | | | | | | | | | | | | | | | | | | | | | | | | | | | | | | | | | | \n",
      "2024-01-22 | | | | | | | | | | | | | | | | | | | | | | | | | | | | | | | | | | | | | | | | | | | | | | | | | | | | | | | | | | | | | | | | | | | | | | \n",
      "2024-01-23 | | | | | | | | | | | | | | | | | | | | | | | | | | | | | | | | | | | | | | | | | | | | | | | | | | | | | | | | | | | | | | | | | | | | | | \n",
      "2024-01-24 | | | | | | | | | | | | | | | | | | | | | | | | | | | | | | | | | | | | | | | | | | | | | | | | | | | | | | | | | | | | | | | | | | | | | | \n",
      "2024-01-25 | | | | | | | | | | | | | | | | | | | | | | | | | | | | | | | | | | | | | | | | | | | | | | | | | | | | | | | | | | | | | | | | | | | | | | \n",
      "2024-01-26 | | | | | | | | | | | | | | | | | | | | | | | | | | | | | | | | | | | | | | | | | | | | | | | | | | | | | | | | | | | | | | | | | | | | | | \n",
      "2024-01-27 | | | | | | | | | | | | | | | | | | | | | | | | | | | | | | | | | | | | | | | | | | | | | | | | | | | | | | | | | | | | | | | | | | | | | | \n",
      "2024-01-28 | | | | | | | | | | | | | | | | | | | | | | | | | | | | | | | | | | | | | | | | | | | | | | | | | | | | | | | | | | | | | | | | | | | | | | \n",
      "2024-01-29 | | | | | | | | | | | | | | | | | | | | | | | | | | | | | | | | | | | | | | | | | | | | | | | | | | | | | | | | | | | | | | | | | | | | | | \n",
      "2024-01-30 | | | | | | | | | | | | | | | | | | | | | | | | | | | | | | | | | | | | | | | | | | | | | | | | | | | | | | | | | | | | | | | | | | | | | | \n",
      "2024-01-31 | | | | | | | | | | | | | | | | | | | | | | | | | | | | | | | | | | | | | | | | | | | | | | | | | | | | | | | | | | | | | | | | | | | | | | \n",
      "2024-02-01 | | | | | | | | | | | | | | | | | | | | | | | | | | | | | | | | | | | | | | | | | | | | | | | | | | | | | | | | | | | | | | | | | | | | | | \n",
      "2024-02-02 | | | | | | | | | | | | | | | | | | | | | | | | | | | | | | | | | | | | | | | | | | | | | | | | | | | | | | | | | | | | | | | | | | | | | | \n",
      "2024-02-03 | | | | | | | | | | | | | | | | | | | | | | | | | | | | | | | | | | | | | | | | | | | | | | | | | | | | | | | | | | | | | | | | | | | | | | \n",
      "2024-02-04 | | | | | | | | | | | | | | | | | | | | | | | | | | | | | | | | | | | | | | | | | | | | | | | | | | | | | | | | | | | | | | | | | | | | | | \n",
      "2024-02-05 | | | | | | | | | | | | | | | | | | | | | | | | | | | | | | | | | | | | | | | | | | | | | | | | | | | | | | | | | | | | | | | | | | | | | | \n",
      "2024-02-06 | | | | | | | | | | | | | | | | | | | | | | | | | | | | | | | | | | | | | | | | | | | | | | | | | | | | | | | | | | | | | | | | | | | | | | \n",
      "2024-02-07 | | | | | | | | | | | | | | | | | | | | | | | | | | | | | | | | | | | | | | | | | | | | | | | | | | | | | | | | | | | | | | | | | | | | | | \n",
      "2024-02-08 | | | | | | | | | | | | | | | | | | | | | | | | | | | | | | | | | | | | | | | | | | | | | | | | | | | | | | | | | | | | | | | | | | | | | | \n",
      "2024-02-09 | | | | | | | | | | | | | | | | | | | | | | | | | | | | | | | | | | | | | | | | | | | | | | | | | | | | | | | | | | | | | | | | | | | | | | \n",
      "2024-02-10 | | | | | | | | | | | | | | | | | | | | | | | | | | | | | | | | | | | | | | | | | | | | | | | | | | | | | | | | | | | | | | | | | | | | | | \n",
      "2024-02-11 | | | | | | | | | | | | | | | | | | | | | | | | | | | | | | | | | | | | | | | | | | | | | | | | | | | | | | | | | | | | | | | | | | | | | | \n",
      "2024-02-12 | | | | | | | | | | | | | | | | | | | | | | | | | | | | | | | | | | | | | | | | | | | | | | | | | | | | | | | | | | | | | | | | | | | | | | \n"
     ]
    }
   ],
   "source": [
    "print_req(req, new_apps)"
   ]
  },
  {
   "cell_type": "markdown",
   "id": "de415697-ef09-4be7-ae68-403e779c5829",
   "metadata": {},
   "source": [
    "# Req Features"
   ]
  },
  {
   "cell_type": "code",
   "execution_count": 31,
   "id": "9703a2e8-eef2-42ca-90da-53f18c95bc0d",
   "metadata": {},
   "outputs": [],
   "source": [
    "def get_req_features(req, req_apps, reference_date):\n",
    "    days_since_post = (reference_date.date() - req['status_history']['Post'][0].date()).days\n",
    "    \n",
    "    features = {\n",
    "        'days_since_post': days_since_post,\n",
    "    }\n",
    "    \n",
    "    all_phases = Counter()\n",
    "    for app in req_apps.values():\n",
    "        phases = {p for p, v in app['phases_dates'].items() if v.date() <= reference_date.date()}\n",
    "        \n",
    "        if 'offer' in phases:\n",
    "            all_phases['offer'] += 1\n",
    "        elif 'interview' in phases and 'rejected' in phases:\n",
    "            all_phases['interview_rejected'] += 1\n",
    "        elif 'interview' in phases:\n",
    "            all_phases['interview'] += 1     \n",
    "        elif 'rejected' in phases:\n",
    "            all_phases['rejected'] += 1\n",
    "        elif phases:\n",
    "            all_phases['applied'] += 1\n",
    "    \n",
    "    features.update(all_phases)\n",
    "    \n",
    "    return features\n",
    "    "
   ]
  },
  {
   "cell_type": "code",
   "execution_count": 32,
   "id": "5245226d-962f-4d47-b40f-d5ae2939a82f",
   "metadata": {
    "tags": []
   },
   "outputs": [
    {
     "data": {
      "text/plain": [
       "{'days_since_post': 81, 'rejected': 131, 'offer': 1, 'interview_rejected': 4}"
      ]
     },
     "execution_count": 32,
     "metadata": {},
     "output_type": "execute_result"
    }
   ],
   "source": [
    "get_req_features(req, req_apps, datetime(2024, 1, 30))"
   ]
  },
  {
   "cell_type": "code",
   "execution_count": 70,
   "id": "7a4b3fa0-03f9-432e-84b3-97c5ed734d3e",
   "metadata": {
    "tags": []
   },
   "outputs": [
    {
     "data": {
      "text/plain": [
       "6745"
      ]
     },
     "execution_count": 70,
     "metadata": {},
     "output_type": "execute_result"
    }
   ],
   "source": [
    "data = []\n",
    "reqs_data = []\n",
    "for req in reqs:\n",
    "    req_apps = req_to_apps[req['_id']]\n",
    "    referece_date = req['status_history']['Post'][0]\n",
    "\n",
    "    offer_apps = [a for a in req_apps.values() if a['max_status'] >= 3]\n",
    "    if not offer_apps:\n",
    "        continue\n",
    "    offer_app = offer_apps[0]\n",
    "\n",
    "    \n",
    "    post_to_offer = (offer_app['phases_dates']['offer'].date() - req['status_history']['Post'][0].days()).days\n",
    "\n",
    "    \n",
    "    \n",
    "    while referece_date.date() < req['status_history']['Filled'][0].date():\n",
    "        f = get_req_features(req, req_apps, referece_date)\n",
    "        f['action_needed'] = offer_app['ats_application']['date_applied'].date() <= referece_date.date() <= offer_app['phases_dates']['interview'].date()\n",
    "\n",
    "        data.append(f)\n",
    "        referece_date = referece_date + timedelta(days=1)\n",
    "\n",
    "len(data)"
   ]
  },
  {
   "cell_type": "code",
   "execution_count": 121,
   "id": "8993924d-d1ad-4f5f-907b-afa4ec51bfbe",
   "metadata": {},
   "outputs": [],
   "source": [
    "reqs_df = pd.DataFrame(data).fillna(0)"
   ]
  },
  {
   "cell_type": "code",
   "execution_count": 126,
   "id": "56b7ef8b-bf47-4543-becc-ced6ebe81403",
   "metadata": {},
   "outputs": [],
   "source": [
    "reqs_df['applied_cut'] = pd.cut(reqs_df['applied'], bins=5)\n",
    "reqs_df['intervew_cut'] = pd.cut(reqs_df['interview'], bins=5)"
   ]
  },
  {
   "cell_type": "code",
   "execution_count": 127,
   "id": "b064be8f-3f9a-468a-8f37-21015c68d3d2",
   "metadata": {},
   "outputs": [
    {
     "data": {
      "text/html": [
       "<div>\n",
       "<style scoped>\n",
       "    .dataframe tbody tr th:only-of-type {\n",
       "        vertical-align: middle;\n",
       "    }\n",
       "\n",
       "    .dataframe tbody tr th {\n",
       "        vertical-align: top;\n",
       "    }\n",
       "\n",
       "    .dataframe thead th {\n",
       "        text-align: right;\n",
       "    }\n",
       "</style>\n",
       "<table border=\"1\" class=\"dataframe\">\n",
       "  <thead>\n",
       "    <tr style=\"text-align: right;\">\n",
       "      <th></th>\n",
       "      <th>days_since_post</th>\n",
       "      <th>action_needed</th>\n",
       "      <th>applied</th>\n",
       "      <th>interview</th>\n",
       "      <th>interview_rejected</th>\n",
       "      <th>rejected</th>\n",
       "      <th>offer</th>\n",
       "      <th>applied_cut</th>\n",
       "      <th>intervew_cut</th>\n",
       "    </tr>\n",
       "  </thead>\n",
       "  <tbody>\n",
       "    <tr>\n",
       "      <th>0</th>\n",
       "      <td>0</td>\n",
       "      <td>False</td>\n",
       "      <td>0.0</td>\n",
       "      <td>0.0</td>\n",
       "      <td>0.0</td>\n",
       "      <td>0.0</td>\n",
       "      <td>0.0</td>\n",
       "      <td>(-0.49, 98.0]</td>\n",
       "      <td>(-0.039, 7.8]</td>\n",
       "    </tr>\n",
       "    <tr>\n",
       "      <th>1</th>\n",
       "      <td>1</td>\n",
       "      <td>False</td>\n",
       "      <td>5.0</td>\n",
       "      <td>0.0</td>\n",
       "      <td>0.0</td>\n",
       "      <td>0.0</td>\n",
       "      <td>0.0</td>\n",
       "      <td>(-0.49, 98.0]</td>\n",
       "      <td>(-0.039, 7.8]</td>\n",
       "    </tr>\n",
       "    <tr>\n",
       "      <th>2</th>\n",
       "      <td>2</td>\n",
       "      <td>False</td>\n",
       "      <td>16.0</td>\n",
       "      <td>0.0</td>\n",
       "      <td>0.0</td>\n",
       "      <td>0.0</td>\n",
       "      <td>0.0</td>\n",
       "      <td>(-0.49, 98.0]</td>\n",
       "      <td>(-0.039, 7.8]</td>\n",
       "    </tr>\n",
       "    <tr>\n",
       "      <th>3</th>\n",
       "      <td>3</td>\n",
       "      <td>False</td>\n",
       "      <td>19.0</td>\n",
       "      <td>0.0</td>\n",
       "      <td>0.0</td>\n",
       "      <td>0.0</td>\n",
       "      <td>0.0</td>\n",
       "      <td>(-0.49, 98.0]</td>\n",
       "      <td>(-0.039, 7.8]</td>\n",
       "    </tr>\n",
       "    <tr>\n",
       "      <th>4</th>\n",
       "      <td>4</td>\n",
       "      <td>False</td>\n",
       "      <td>20.0</td>\n",
       "      <td>0.0</td>\n",
       "      <td>0.0</td>\n",
       "      <td>0.0</td>\n",
       "      <td>0.0</td>\n",
       "      <td>(-0.49, 98.0]</td>\n",
       "      <td>(-0.039, 7.8]</td>\n",
       "    </tr>\n",
       "  </tbody>\n",
       "</table>\n",
       "</div>"
      ],
      "text/plain": [
       "   days_since_post  action_needed  applied  interview  interview_rejected  \\\n",
       "0                0          False      0.0        0.0                 0.0   \n",
       "1                1          False      5.0        0.0                 0.0   \n",
       "2                2          False     16.0        0.0                 0.0   \n",
       "3                3          False     19.0        0.0                 0.0   \n",
       "4                4          False     20.0        0.0                 0.0   \n",
       "\n",
       "   rejected  offer    applied_cut   intervew_cut  \n",
       "0       0.0    0.0  (-0.49, 98.0]  (-0.039, 7.8]  \n",
       "1       0.0    0.0  (-0.49, 98.0]  (-0.039, 7.8]  \n",
       "2       0.0    0.0  (-0.49, 98.0]  (-0.039, 7.8]  \n",
       "3       0.0    0.0  (-0.49, 98.0]  (-0.039, 7.8]  \n",
       "4       0.0    0.0  (-0.49, 98.0]  (-0.039, 7.8]  "
      ]
     },
     "execution_count": 127,
     "metadata": {},
     "output_type": "execute_result"
    }
   ],
   "source": [
    "reqs_df.head()"
   ]
  },
  {
   "cell_type": "code",
   "execution_count": 185,
   "id": "81700700-83d4-43e0-aad0-a0cbefa0dd3c",
   "metadata": {},
   "outputs": [
    {
     "data": {
      "text/plain": [
       "<Axes: xlabel='days_since_post'>"
      ]
     },
     "execution_count": 185,
     "metadata": {},
     "output_type": "execute_result"
    },
    {
     "data": {
      "image/png": "[encoded data removed]",
      "text/plain": [
       "<Figure size 1300x500 with 2 Axes>"
      ]
     },
     "metadata": {},
     "output_type": "display_data"
    }
   ],
   "source": [
    "ax = reqs_df.groupby('days_since_post')[['applied']].mean().plot(figsize=(13, 5))\n",
    "ax2 = ax.twinx()\n",
    "reqs_df.groupby('days_since_post')[['interview', 'action_needed']].mean().plot(ax=ax2, color=['red', 'green'])"
   ]
  },
  {
   "cell_type": "code",
   "execution_count": 88,
   "id": "24ffc7ff-37f4-4f64-ad79-4fb77b13b79d",
   "metadata": {},
   "outputs": [],
   "source": [
    "from sklearn.tree import DecisionTreeClassifier, plot_tree\n",
    "import matplotlib.pyplot as plt"
   ]
  },
  {
   "cell_type": "code",
   "execution_count": 96,
   "id": "9f4266d3-a342-4719-a787-c6020638754a",
   "metadata": {},
   "outputs": [],
   "source": [
    "X = reqs_df.drop('action_needed', axis=1).fillna(0)\n",
    "y = reqs_df['action_needed']\n",
    "model = DecisionTreeClassifier(max_depth=3).fit(X, y)"
   ]
  },
  {
   "cell_type": "code",
   "execution_count": 97,
   "id": "89958cec-f226-4ed6-ad68-e6ac5aad6b91",
   "metadata": {},
   "outputs": [
    {
     "data": {
      "image/png": "[encoded data removed]",
      "text/plain": [
       "<Figure size 1200x1200 with 1 Axes>"
      ]
     },
     "metadata": {},
     "output_type": "display_data"
    }
   ],
   "source": [
    "plt.figure(figsize=(12,12))\n",
    "_ = plot_tree(model, feature_names=X.columns)"
   ]
  },
  {
   "cell_type": "code",
   "execution_count": 144,
   "id": "b6477e33-b60a-42ac-8f48-35208a26d74f",
   "metadata": {},
   "outputs": [],
   "source": [
    "reqs_df['priority'] = model.predict_proba(X)[:, 1]\n",
    "reqs_df['predict'] = model.predict(X)"
   ]
  },
  {
   "cell_type": "code",
   "execution_count": 145,
   "id": "4a2f571f-d0ff-4d6f-9765-da17102b3056",
   "metadata": {},
   "outputs": [
    {
     "name": "stdout",
     "output_type": "stream",
     "text": [
      "applied 0.6149092577414207\n",
      "interview 0.17801989092197032\n",
      "offer 0.09321761540543844\n",
      "days_since_post 0.07846496626455085\n",
      "rejected 0.03538826966661985\n",
      "interview_rejected 0.0\n"
     ]
    }
   ],
   "source": [
    "for f, imp in sorted(zip(X.columns, model.feature_importances_), key=lambda x: -x[1]):\n",
    "    print(f, imp)"
   ]
  },
  {
   "cell_type": "code",
   "execution_count": 146,
   "id": "9a24ff15-5a6f-4501-9029-d532e89558ef",
   "metadata": {},
   "outputs": [
    {
     "data": {
      "text/plain": [
       "<Axes: xlabel='days_since_post'>"
      ]
     },
     "execution_count": 146,
     "metadata": {},
     "output_type": "execute_result"
    },
    {
     "data": {
      "image/png": "[encoded data removed]",
      "text/plain": [
       "<Figure size 1300x500 with 1 Axes>"
      ]
     },
     "metadata": {},
     "output_type": "display_data"
    }
   ],
   "source": [
    "ax = reqs_df.groupby('days_since_post')[['action_needed']].mean().plot(figsize=(13, 5))\n",
    "reqs_df.groupby('days_since_post')[['priority']].mean().plot(figsize=(13, 5), ax=ax)"
   ]
  },
  {
   "cell_type": "code",
   "execution_count": 186,
   "id": "fadde9d2-6f92-44b5-887c-afb0d9d63b87",
   "metadata": {},
   "outputs": [
    {
     "data": {
      "text/plain": [
       "Index(['days_since_post', 'applied', 'interview', 'interview_rejected',\n",
       "       'rejected', 'offer'],\n",
       "      dtype='object')"
      ]
     },
     "execution_count": 186,
     "metadata": {},
     "output_type": "execute_result"
    }
   ],
   "source": [
    "X.columns"
   ]
  },
  {
   "cell_type": "code",
   "execution_count": 200,
   "id": "0446f925-9aa7-4d01-b7f8-980c219f15a4",
   "metadata": {},
   "outputs": [],
   "source": [
    "example = [\n",
    "    {\n",
    "        'days_since_post': 0,\n",
    "        'applied': 0,\n",
    "        'interview': 0,\n",
    "        'interview_rejected': 0,\n",
    "        'rejected': 0,\n",
    "        'offer': 0\n",
    "    },\n",
    "    {\n",
    "        'days_since_post': 1,\n",
    "        'applied': 10,\n",
    "        'interview': 0,\n",
    "        'interview_rejected': 0,\n",
    "        'rejected': 0,\n",
    "        'offer': 0\n",
    "    },\n",
    "    {\n",
    "        'days_since_post': 25,\n",
    "        'applied': 1,\n",
    "        'interview': 0,\n",
    "        'interview_rejected': 0,\n",
    "        'rejected': 0,\n",
    "        'offer': 0\n",
    "    },\n",
    "    {\n",
    "        'days_since_post': 25,\n",
    "        'applied': 10,\n",
    "        'interview': 0,\n",
    "        'interview_rejected': 0,\n",
    "        'rejected': 0,\n",
    "        'offer': 0\n",
    "    },\n",
    "    {\n",
    "        'days_since_post': 25,\n",
    "        'applied': 10,\n",
    "        'interview': 5,\n",
    "        'interview_rejected': 0,\n",
    "        'rejected': 0,\n",
    "        'offer': 0\n",
    "    },\n",
    "    {\n",
    "        'days_since_post': 25,\n",
    "        'applied': 10,\n",
    "        'interview': 5,\n",
    "        'interview_rejected': 0,\n",
    "        'rejected': 0,\n",
    "        'offer': 1\n",
    "    },\n",
    "\n",
    "]"
   ]
  },
  {
   "cell_type": "code",
   "execution_count": 201,
   "id": "b49e2be4-4f71-478e-ad85-04a620fcb5cd",
   "metadata": {},
   "outputs": [],
   "source": [
    "example_df = pd.DataFrame(example)"
   ]
  },
  {
   "cell_type": "code",
   "execution_count": 202,
   "id": "4e01a894-6a29-4c84-bd5d-0d87f88e5900",
   "metadata": {},
   "outputs": [],
   "source": [
    "example_df['priority'] = model.predict_proba(example_df)[:, 1]"
   ]
  },
  {
   "cell_type": "code",
   "execution_count": 203,
   "id": "ef8066f1-42cf-40eb-93dd-fefe7ccad33c",
   "metadata": {},
   "outputs": [
    {
     "data": {
      "text/html": [
       "<div>\n",
       "<style scoped>\n",
       "    .dataframe tbody tr th:only-of-type {\n",
       "        vertical-align: middle;\n",
       "    }\n",
       "\n",
       "    .dataframe tbody tr th {\n",
       "        vertical-align: top;\n",
       "    }\n",
       "\n",
       "    .dataframe thead th {\n",
       "        text-align: right;\n",
       "    }\n",
       "</style>\n",
       "<table border=\"1\" class=\"dataframe\">\n",
       "  <thead>\n",
       "    <tr style=\"text-align: right;\">\n",
       "      <th></th>\n",
       "      <th>days_since_post</th>\n",
       "      <th>applied</th>\n",
       "      <th>interview</th>\n",
       "      <th>interview_rejected</th>\n",
       "      <th>rejected</th>\n",
       "      <th>offer</th>\n",
       "      <th>priority</th>\n",
       "    </tr>\n",
       "  </thead>\n",
       "  <tbody>\n",
       "    <tr>\n",
       "      <th>0</th>\n",
       "      <td>0</td>\n",
       "      <td>0</td>\n",
       "      <td>0</td>\n",
       "      <td>0</td>\n",
       "      <td>0</td>\n",
       "      <td>0</td>\n",
       "      <td>0.136364</td>\n",
       "    </tr>\n",
       "    <tr>\n",
       "      <th>1</th>\n",
       "      <td>1</td>\n",
       "      <td>10</td>\n",
       "      <td>0</td>\n",
       "      <td>0</td>\n",
       "      <td>0</td>\n",
       "      <td>0</td>\n",
       "      <td>0.648867</td>\n",
       "    </tr>\n",
       "    <tr>\n",
       "      <th>2</th>\n",
       "      <td>25</td>\n",
       "      <td>1</td>\n",
       "      <td>0</td>\n",
       "      <td>0</td>\n",
       "      <td>0</td>\n",
       "      <td>0</td>\n",
       "      <td>0.126652</td>\n",
       "    </tr>\n",
       "    <tr>\n",
       "      <th>3</th>\n",
       "      <td>25</td>\n",
       "      <td>10</td>\n",
       "      <td>0</td>\n",
       "      <td>0</td>\n",
       "      <td>0</td>\n",
       "      <td>0</td>\n",
       "      <td>0.648867</td>\n",
       "    </tr>\n",
       "    <tr>\n",
       "      <th>4</th>\n",
       "      <td>25</td>\n",
       "      <td>10</td>\n",
       "      <td>5</td>\n",
       "      <td>0</td>\n",
       "      <td>0</td>\n",
       "      <td>0</td>\n",
       "      <td>0.343558</td>\n",
       "    </tr>\n",
       "    <tr>\n",
       "      <th>5</th>\n",
       "      <td>25</td>\n",
       "      <td>10</td>\n",
       "      <td>5</td>\n",
       "      <td>0</td>\n",
       "      <td>0</td>\n",
       "      <td>1</td>\n",
       "      <td>0.343558</td>\n",
       "    </tr>\n",
       "  </tbody>\n",
       "</table>\n",
       "</div>"
      ],
      "text/plain": [
       "   days_since_post  applied  interview  interview_rejected  rejected  offer  \\\n",
       "0                0        0          0                   0         0      0   \n",
       "1                1       10          0                   0         0      0   \n",
       "2               25        1          0                   0         0      0   \n",
       "3               25       10          0                   0         0      0   \n",
       "4               25       10          5                   0         0      0   \n",
       "5               25       10          5                   0         0      1   \n",
       "\n",
       "   priority  \n",
       "0  0.136364  \n",
       "1  0.648867  \n",
       "2  0.126652  \n",
       "3  0.648867  \n",
       "4  0.343558  \n",
       "5  0.343558  "
      ]
     },
     "execution_count": 203,
     "metadata": {},
     "output_type": "execute_result"
    }
   ],
   "source": [
    "example_df"
   ]
  },
  {
   "cell_type": "code",
   "execution_count": 204,
   "id": "4d70f395-cdb6-45fe-a5af-163bddb76d64",
   "metadata": {},
   "outputs": [],
   "source": [
    "lr_model = LogisticRegression().fit(X, y)"
   ]
  },
  {
   "cell_type": "code",
   "execution_count": 205,
   "id": "c1cb26f4-ed74-46a3-8d02-9e80d7d1c70a",
   "metadata": {},
   "outputs": [],
   "source": [
    "example_df['priority'] = lr_model.predict_proba(example_df.drop('priority', axis=1))[:, 1]"
   ]
  },
  {
   "cell_type": "code",
   "execution_count": 206,
   "id": "91283ef1-54ac-49b9-aa7e-2c9b5ae90e5f",
   "metadata": {},
   "outputs": [
    {
     "data": {
      "text/html": [
       "<div>\n",
       "<style scoped>\n",
       "    .dataframe tbody tr th:only-of-type {\n",
       "        vertical-align: middle;\n",
       "    }\n",
       "\n",
       "    .dataframe tbody tr th {\n",
       "        vertical-align: top;\n",
       "    }\n",
       "\n",
       "    .dataframe thead th {\n",
       "        text-align: right;\n",
       "    }\n",
       "</style>\n",
       "<table border=\"1\" class=\"dataframe\">\n",
       "  <thead>\n",
       "    <tr style=\"text-align: right;\">\n",
       "      <th></th>\n",
       "      <th>days_since_post</th>\n",
       "      <th>applied</th>\n",
       "      <th>interview</th>\n",
       "      <th>interview_rejected</th>\n",
       "      <th>rejected</th>\n",
       "      <th>offer</th>\n",
       "      <th>priority</th>\n",
       "    </tr>\n",
       "  </thead>\n",
       "  <tbody>\n",
       "    <tr>\n",
       "      <th>0</th>\n",
       "      <td>0</td>\n",
       "      <td>0</td>\n",
       "      <td>0</td>\n",
       "      <td>0</td>\n",
       "      <td>0</td>\n",
       "      <td>0</td>\n",
       "      <td>0.338421</td>\n",
       "    </tr>\n",
       "    <tr>\n",
       "      <th>1</th>\n",
       "      <td>1</td>\n",
       "      <td>10</td>\n",
       "      <td>0</td>\n",
       "      <td>0</td>\n",
       "      <td>0</td>\n",
       "      <td>0</td>\n",
       "      <td>0.357721</td>\n",
       "    </tr>\n",
       "    <tr>\n",
       "      <th>2</th>\n",
       "      <td>25</td>\n",
       "      <td>1</td>\n",
       "      <td>0</td>\n",
       "      <td>0</td>\n",
       "      <td>0</td>\n",
       "      <td>0</td>\n",
       "      <td>0.204915</td>\n",
       "    </tr>\n",
       "    <tr>\n",
       "      <th>3</th>\n",
       "      <td>25</td>\n",
       "      <td>10</td>\n",
       "      <td>0</td>\n",
       "      <td>0</td>\n",
       "      <td>0</td>\n",
       "      <td>0</td>\n",
       "      <td>0.221972</td>\n",
       "    </tr>\n",
       "    <tr>\n",
       "      <th>4</th>\n",
       "      <td>25</td>\n",
       "      <td>10</td>\n",
       "      <td>5</td>\n",
       "      <td>0</td>\n",
       "      <td>0</td>\n",
       "      <td>0</td>\n",
       "      <td>0.033719</td>\n",
       "    </tr>\n",
       "    <tr>\n",
       "      <th>5</th>\n",
       "      <td>25</td>\n",
       "      <td>10</td>\n",
       "      <td>5</td>\n",
       "      <td>0</td>\n",
       "      <td>0</td>\n",
       "      <td>1</td>\n",
       "      <td>0.001433</td>\n",
       "    </tr>\n",
       "  </tbody>\n",
       "</table>\n",
       "</div>"
      ],
      "text/plain": [
       "   days_since_post  applied  interview  interview_rejected  rejected  offer  \\\n",
       "0                0        0          0                   0         0      0   \n",
       "1                1       10          0                   0         0      0   \n",
       "2               25        1          0                   0         0      0   \n",
       "3               25       10          0                   0         0      0   \n",
       "4               25       10          5                   0         0      0   \n",
       "5               25       10          5                   0         0      1   \n",
       "\n",
       "   priority  \n",
       "0  0.338421  \n",
       "1  0.357721  \n",
       "2  0.204915  \n",
       "3  0.221972  \n",
       "4  0.033719  \n",
       "5  0.001433  "
      ]
     },
     "execution_count": 206,
     "metadata": {},
     "output_type": "execute_result"
    }
   ],
   "source": [
    "example_df"
   ]
  },
  {
   "cell_type": "code",
   "execution_count": null,
   "id": "b0c2241d-561d-4cf9-ad2d-1efc8b5f2578",
   "metadata": {},
   "outputs": [],
   "source": []
  },
  {
   "cell_type": "code",
   "execution_count": null,
   "id": "d8a3a125-38fd-4d54-b97a-4e39aca11961",
   "metadata": {},
   "outputs": [],
   "source": []
  }
 ],
 "metadata": {
  "kernelspec": {
   "display_name": "Python 3 (ipykernel)",
   "language": "python",
   "name": "python3"
  },
  "language_info": {
   "codemirror_mode": {
    "name": "ipython",
    "version": 3
   },
   "file_extension": ".py",
   "mimetype": "text/x-python",
   "name": "python",
   "nbconvert_exporter": "python",
   "pygments_lexer": "ipython3",
   "version": "3.9.5"
  }
 },
 "nbformat": 4,
 "nbformat_minor": 5
}
