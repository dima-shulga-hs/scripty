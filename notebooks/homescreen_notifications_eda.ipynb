{
 "cells": [
  {
   "cell_type": "code",
   "execution_count": 10,
   "id": "3fdbc46c-3106-43f3-9d4e-bf75109e2fe5",
   "metadata": {
    "tags": []
   },
   "outputs": [],
   "source": [
    "from datetime import datetime, date"
   ]
  },
  {
   "cell_type": "code",
   "execution_count": 1,
   "id": "04216360-84f3-4aa8-bd42-0e6b8fe0af91",
   "metadata": {
    "tags": []
   },
   "outputs": [
    {
     "data": {
      "text/plain": [
       "(2200, 35)"
      ]
     },
     "execution_count": 1,
     "metadata": {},
     "output_type": "execute_result"
    }
   ],
   "source": [
    "actions = pd.read_csv('/Users/dima/Downloads/actions.csv')\n",
    "actions.shape\n"
   ]
  },
  {
   "cell_type": "code",
   "execution_count": 2,
   "id": "8e9ae8df-cd7a-494a-961e-609736e77371",
   "metadata": {
    "tags": []
   },
   "outputs": [
    {
     "data": {
      "text/plain": [
       "Index(['Event Name', 'Time', 'Distinct ID', 'Browser', 'Browser Version',\n",
       "       'City', 'Current URL', 'Device ID', 'Initial Referrer',\n",
       "       'Initial Referring Domain', 'Insert ID', 'Library Version',\n",
       "       'API Endpoint', 'API Timestamp', 'Operating System', 'Referrer',\n",
       "       'Referring Domain', 'Region', 'Screen Height', 'Screen Width',\n",
       "       'User ID', 'account', 'cta', 'id', 'module', 'Country',\n",
       "       'Mixpanel Library', 'Time Processed (UTC)', 'Sent By Library Version',\n",
       "       'phase', 'preset', 'req_id', 'screen', 'Had Persisted Distinct Id',\n",
       "       'Search Engine'],\n",
       "      dtype='object')"
      ]
     },
     "execution_count": 2,
     "metadata": {},
     "output_type": "execute_result"
    }
   ],
   "source": [
    "actions.columns"
   ]
  },
  {
   "cell_type": "code",
   "execution_count": 8,
   "id": "836b434d-f0c9-45ee-8a1f-5dda07a163b3",
   "metadata": {
    "tags": []
   },
   "outputs": [
    {
     "data": {
      "text/plain": [
       "(248, 35)"
      ]
     },
     "execution_count": 8,
     "metadata": {},
     "output_type": "execute_result"
    }
   ],
   "source": [
    "actions = actions[actions['account'] == 'dallas']\n",
    "actions.shape"
   ]
  },
  {
   "cell_type": "code",
   "execution_count": 9,
   "id": "2fb0e272-30ad-49c3-bb07-ef880c785f67",
   "metadata": {
    "tags": []
   },
   "outputs": [
    {
     "name": "stdout",
     "output_type": "stream",
     "text": [
      "\u001b[2m2024-02-11T13:20:51.052820Z\u001b[0m [\u001b[32m\u001b[1minfo     \u001b[0m] \u001b[1mMongos instances selected     \u001b[0m \u001b[36menvironment\u001b[0m=\u001b[35mresearch_sb1\u001b[0m \u001b[36mfile_path\u001b[0m=\u001b[35m/Users/dima/hiredscore/gimme/hs_gimme/db_facade/connection_string_builder.py\u001b[0m \u001b[36mfunction_name\u001b[0m=\u001b[35mget_selected_mongos_instances\u001b[0m \u001b[36mhostname\u001b[0m=\u001b[35mDima-Shulga-MacBook-Pro\u001b[0m \u001b[36mhosts\u001b[0m=\u001b[35m['applicativedb-prod-mongos-4.omcomcom.com', 'applicativedb-prod-mongos-2.omcomcom.com']\u001b[0m \u001b[36mline_number\u001b[0m=\u001b[35m38\u001b[0m \u001b[36mmodule\u001b[0m=\u001b[35mhs_gimme.db_facade.connection_string_builder\u001b[0m \u001b[36mpid\u001b[0m=\u001b[35m79241\u001b[0m\n"
     ]
    }
   ],
   "source": [
    "mongo = gmcdb('production', 'dallas')"
   ]
  },
  {
   "cell_type": "code",
   "execution_count": 12,
   "id": "f76dc84e-30e1-4f14-86d1-2b803a66c212",
   "metadata": {
    "tags": []
   },
   "outputs": [],
   "source": [
    "req_fields =  ['job_department',\n",
    "              'country',\n",
    "               'external_job_band',\n",
    "               'external_recruiters',\n",
    "               'top_category',\n",
    "               'sub_category',\n",
    "               'job_education',\n",
    "               'seniority_level',\n",
    "               'min_years_of_relevant_experience',\n",
    "               'max_years_of_relevant_experience',\n",
    "               'max_salary',\n",
    "               'job_type',\n",
    "               'is_visa_required',\n",
    "               'is_remote_location', \n",
    "               'external_status',\n",
    "               'industry',\n",
    "               'open_date',\n",
    "               'past_candidates_distribution_date',\n",
    "               'is_recent_grad', \n",
    "               'is_intern',\n",
    "               '_created_at',\n",
    "               'date_posted',\n",
    "               'job_create_date',\n",
    "               'last_edit_date',\n",
    "               'status_history',\n",
    "               'recruiter_roles',\n",
    "               'recruiting_type']"
   ]
  },
  {
   "cell_type": "code",
   "execution_count": 11,
   "id": "560a0298-b76b-4584-a2e3-824f7b7fa321",
   "metadata": {
    "tags": []
   },
   "outputs": [],
   "source": [
    "reference_date = datetime(2023, 11, 1)"
   ]
  },
  {
   "cell_type": "code",
   "execution_count": 20,
   "id": "d902ce2d-57ba-46e3-b2a1-6afb98f138a7",
   "metadata": {
    "tags": []
   },
   "outputs": [
    {
     "data": {
      "text/plain": [
       "56"
      ]
     },
     "execution_count": 20,
     "metadata": {},
     "output_type": "execute_result"
    }
   ],
   "source": [
    "reqs = list(mongo.req.find({'_created_at': {'$gt': reference_date}, 'date_posted': \n",
    "                            {'$gt': reference_date}, 'external_status': 'Filled'\n",
    "                           }, req_fields))\n",
    "len(reqs)"
   ]
  },
  {
   "cell_type": "code",
   "execution_count": 21,
   "id": "d8a69ffa-e1cd-4079-89e4-002e5eef8bc9",
   "metadata": {
    "tags": []
   },
   "outputs": [],
   "source": [
    "req_ids = [r['_id'] for r in reqs]"
   ]
  },
  {
   "cell_type": "code",
   "execution_count": 22,
   "id": "688d94db-b96f-464d-82f3-13eb04f95817",
   "metadata": {
    "tags": []
   },
   "outputs": [],
   "source": [
    "app_fields = ['req_id', 'status_history', 'is_internal']"
   ]
  },
  {
   "cell_type": "code",
   "execution_count": 23,
   "id": "d81ab30d-3411-4583-a4d6-be34ddc0c145",
   "metadata": {
    "tags": []
   },
   "outputs": [
    {
     "data": {
      "text/plain": [
       "4049"
      ]
     },
     "execution_count": 23,
     "metadata": {},
     "output_type": "execute_result"
    }
   ],
   "source": [
    "apps = list(mongo.application.find({'req_id': {'$in': req_ids}}, app_fields))\n",
    "len(apps)"
   ]
  },
  {
   "cell_type": "code",
   "execution_count": 24,
   "id": "d83528ce-61b3-403f-8fdc-289ae32e801c",
   "metadata": {
    "tags": []
   },
   "outputs": [
    {
     "data": {
      "text/plain": [
       "{'Open': [datetime.datetime(2023, 10, 31, 0, 0)],\n",
       " 'Approve': [datetime.datetime(2023, 10, 31, 0, 0)],\n",
       " 'Post': [datetime.datetime(2023, 11, 27, 0, 0),\n",
       "  datetime.datetime(2023, 11, 29, 0, 0)],\n",
       " 'Filled': [datetime.datetime(2024, 2, 4, 8, 3, 33, 875000)]}"
      ]
     },
     "execution_count": 24,
     "metadata": {},
     "output_type": "execute_result"
    }
   ],
   "source": [
    "reqs[0]['status_history']"
   ]
  },
  {
   "cell_type": "code",
   "execution_count": 28,
   "id": "f6173b11-968a-4152-84b6-97b2754e730c",
   "metadata": {
    "tags": []
   },
   "outputs": [
    {
     "data": {
      "text/plain": [
       "69"
      ]
     },
     "execution_count": 28,
     "metadata": {},
     "output_type": "execute_result"
    }
   ],
   "source": [
    "(datetime(2024, 2, 4, 8, 3, 33, 875000) - datetime(2023, 11, 27, 0, 0)).days"
   ]
  },
  {
   "cell_type": "code",
   "execution_count": 37,
   "id": "71ca5dda-f1be-470e-8291-704580e45c88",
   "metadata": {
    "tags": []
   },
   "outputs": [],
   "source": [
    "for r in reqs: \n",
    "    r['time_to_fill'] = (r['status_history']['Filled'][0] - r['status_history']['Post'][0]).days\n",
    "    r['num_of_actions'] = len(actions[actions['req_id'] == r['_id']])"
   ]
  },
  {
   "cell_type": "code",
   "execution_count": 38,
   "id": "63217ed8-ceda-4124-9094-e621c4b68e39",
   "metadata": {
    "tags": []
   },
   "outputs": [],
   "source": [
    "reqs_df = pd.DataFrame(reqs)"
   ]
  },
  {
   "cell_type": "code",
   "execution_count": 48,
   "id": "40133049-f5ea-4447-bbd1-49b8a2f7e43f",
   "metadata": {
    "tags": []
   },
   "outputs": [
    {
     "data": {
      "text/plain": [
       "array(['pending_candidates_notification__review_candidate_internal_PendingNotificationScopeType.SEPERATE_APPLICATIONS__0'],\n",
       "      dtype=object)"
      ]
     },
     "execution_count": 48,
     "metadata": {},
     "output_type": "execute_result"
    }
   ],
   "source": [
    "actions[['id']].iloc[4].values"
   ]
  },
  {
   "cell_type": "code",
   "execution_count": 40,
   "id": "52ab50aa-326a-44fa-b955-0132553df84b",
   "metadata": {
    "tags": []
   },
   "outputs": [
    {
     "data": {
      "text/plain": [
       "count    56.0\n",
       "mean      0.0\n",
       "std       0.0\n",
       "min       0.0\n",
       "25%       0.0\n",
       "50%       0.0\n",
       "75%       0.0\n",
       "max       0.0\n",
       "Name: num_of_actions, dtype: float64"
      ]
     },
     "execution_count": 40,
     "metadata": {},
     "output_type": "execute_result"
    }
   ],
   "source": [
    "reqs_df['num_of_actions'].describe()"
   ]
  },
  {
   "cell_type": "code",
   "execution_count": 49,
   "id": "2f9274b9-7dca-4614-921a-51dde9804a82",
   "metadata": {
    "tags": []
   },
   "outputs": [],
   "source": [
    "reqs_df['user'] = reqs_df['recruiter_roles'].apply(lambda x: x['recruiter'])"
   ]
  },
  {
   "cell_type": "code",
   "execution_count": 54,
   "id": "e8f96297-85c1-4ef5-a0aa-958415ced82d",
   "metadata": {
    "tags": []
   },
   "outputs": [
    {
     "data": {
      "text/html": [
       "<div>\n",
       "<style scoped>\n",
       "    .dataframe tbody tr th:only-of-type {\n",
       "        vertical-align: middle;\n",
       "    }\n",
       "\n",
       "    .dataframe tbody tr th {\n",
       "        vertical-align: top;\n",
       "    }\n",
       "\n",
       "    .dataframe thead th {\n",
       "        text-align: right;\n",
       "    }\n",
       "</style>\n",
       "<table border=\"1\" class=\"dataframe\">\n",
       "  <thead>\n",
       "    <tr style=\"text-align: right;\">\n",
       "      <th></th>\n",
       "      <th>time_to_fill</th>\n",
       "      <th>num_of_actions</th>\n",
       "    </tr>\n",
       "    <tr>\n",
       "      <th>user</th>\n",
       "      <th></th>\n",
       "      <th></th>\n",
       "    </tr>\n",
       "  </thead>\n",
       "  <tbody>\n",
       "    <tr>\n",
       "      <th>0823038bdcfd01cb5bd686826e0983bb</th>\n",
       "      <td>66.000000</td>\n",
       "      <td>0.0</td>\n",
       "    </tr>\n",
       "    <tr>\n",
       "      <th>08bfb4dd3be701011b20f1429e600000</th>\n",
       "      <td>49.000000</td>\n",
       "      <td>0.0</td>\n",
       "    </tr>\n",
       "    <tr>\n",
       "      <th>13b6054a2ff1016ef676bc427f29b155</th>\n",
       "      <td>75.000000</td>\n",
       "      <td>0.0</td>\n",
       "    </tr>\n",
       "    <tr>\n",
       "      <th>16e250631a9e011b63050bd1c2076491</th>\n",
       "      <td>40.000000</td>\n",
       "      <td>0.0</td>\n",
       "    </tr>\n",
       "    <tr>\n",
       "      <th>17ff7f4beac501627e69765409017033</th>\n",
       "      <td>51.000000</td>\n",
       "      <td>0.0</td>\n",
       "    </tr>\n",
       "    <tr>\n",
       "      <th>21065fc29a6201f17c9c5dc9121510ca</th>\n",
       "      <td>45.000000</td>\n",
       "      <td>0.0</td>\n",
       "    </tr>\n",
       "    <tr>\n",
       "      <th>395e9d683c150183192170e95208352d</th>\n",
       "      <td>35.000000</td>\n",
       "      <td>0.0</td>\n",
       "    </tr>\n",
       "    <tr>\n",
       "      <th>4e9f9f2c74050148c90cd2b5c605ab2d</th>\n",
       "      <td>28.000000</td>\n",
       "      <td>0.0</td>\n",
       "    </tr>\n",
       "    <tr>\n",
       "      <th>7491de069071014dd2c05d9bd516054e</th>\n",
       "      <td>48.500000</td>\n",
       "      <td>0.0</td>\n",
       "    </tr>\n",
       "    <tr>\n",
       "      <th>74f2ae1895fc01114f7b4b6aed3a0ca7</th>\n",
       "      <td>42.250000</td>\n",
       "      <td>0.0</td>\n",
       "    </tr>\n",
       "    <tr>\n",
       "      <th>74f2ae1895fc013725465f42293b8adb</th>\n",
       "      <td>77.000000</td>\n",
       "      <td>0.0</td>\n",
       "    </tr>\n",
       "    <tr>\n",
       "      <th>74f2ae1895fc0147de16abfcee3a4eaf</th>\n",
       "      <td>31.666667</td>\n",
       "      <td>0.0</td>\n",
       "    </tr>\n",
       "    <tr>\n",
       "      <th>74f2ae1895fc018a981afdbf243b6942</th>\n",
       "      <td>36.833333</td>\n",
       "      <td>0.0</td>\n",
       "    </tr>\n",
       "    <tr>\n",
       "      <th>74f2ae1895fc018f90e1e875253b842a</th>\n",
       "      <td>37.000000</td>\n",
       "      <td>0.0</td>\n",
       "    </tr>\n",
       "    <tr>\n",
       "      <th>74f2ae1895fc0195a10f9bf9ed3a262f</th>\n",
       "      <td>33.000000</td>\n",
       "      <td>0.0</td>\n",
       "    </tr>\n",
       "    <tr>\n",
       "      <th>74f2ae1895fc01b99882e5a2253b3709</th>\n",
       "      <td>46.000000</td>\n",
       "      <td>0.0</td>\n",
       "    </tr>\n",
       "    <tr>\n",
       "      <th>74f2ae1895fc01d95fbcf1832a3baaab</th>\n",
       "      <td>36.000000</td>\n",
       "      <td>0.0</td>\n",
       "    </tr>\n",
       "    <tr>\n",
       "      <th>7d81a8f2a92101facddd09d6630ea6a2</th>\n",
       "      <td>69.000000</td>\n",
       "      <td>0.0</td>\n",
       "    </tr>\n",
       "    <tr>\n",
       "      <th>83725d6a8ae3010ee3f0a7d943860000</th>\n",
       "      <td>50.000000</td>\n",
       "      <td>0.0</td>\n",
       "    </tr>\n",
       "    <tr>\n",
       "      <th>9181b8b7ba26017a46d10565212a6056</th>\n",
       "      <td>30.000000</td>\n",
       "      <td>0.0</td>\n",
       "    </tr>\n",
       "    <tr>\n",
       "      <th>9904c4e6250001b49bc855cff822a476</th>\n",
       "      <td>59.000000</td>\n",
       "      <td>0.0</td>\n",
       "    </tr>\n",
       "    <tr>\n",
       "      <th>9f9914d1728701a002f686b6f11d92fc</th>\n",
       "      <td>63.000000</td>\n",
       "      <td>0.0</td>\n",
       "    </tr>\n",
       "    <tr>\n",
       "      <th>a862800cba96010ba93d1600a6180000</th>\n",
       "      <td>83.000000</td>\n",
       "      <td>0.0</td>\n",
       "    </tr>\n",
       "    <tr>\n",
       "      <th>b933b1b623e9010a68b3ca521320445b</th>\n",
       "      <td>69.000000</td>\n",
       "      <td>0.0</td>\n",
       "    </tr>\n",
       "    <tr>\n",
       "      <th>c52d797250c7010634906c5ea1370000</th>\n",
       "      <td>51.000000</td>\n",
       "      <td>0.0</td>\n",
       "    </tr>\n",
       "    <tr>\n",
       "      <th>c791ae958e2f011590bab7a5760c67d9</th>\n",
       "      <td>62.000000</td>\n",
       "      <td>0.0</td>\n",
       "    </tr>\n",
       "    <tr>\n",
       "      <th>c7c020cdb92c01ab6606c21335169f1b</th>\n",
       "      <td>48.000000</td>\n",
       "      <td>0.0</td>\n",
       "    </tr>\n",
       "    <tr>\n",
       "      <th>d233ab0bb36601128f6f880b36300000</th>\n",
       "      <td>51.000000</td>\n",
       "      <td>0.0</td>\n",
       "    </tr>\n",
       "    <tr>\n",
       "      <th>f358adabcbc6010e0acc71d48e3fd35e</th>\n",
       "      <td>48.000000</td>\n",
       "      <td>0.0</td>\n",
       "    </tr>\n",
       "  </tbody>\n",
       "</table>\n",
       "</div>"
      ],
      "text/plain": [
       "                                  time_to_fill  num_of_actions\n",
       "user                                                          \n",
       "0823038bdcfd01cb5bd686826e0983bb     66.000000             0.0\n",
       "08bfb4dd3be701011b20f1429e600000     49.000000             0.0\n",
       "13b6054a2ff1016ef676bc427f29b155     75.000000             0.0\n",
       "16e250631a9e011b63050bd1c2076491     40.000000             0.0\n",
       "17ff7f4beac501627e69765409017033     51.000000             0.0\n",
       "21065fc29a6201f17c9c5dc9121510ca     45.000000             0.0\n",
       "395e9d683c150183192170e95208352d     35.000000             0.0\n",
       "4e9f9f2c74050148c90cd2b5c605ab2d     28.000000             0.0\n",
       "7491de069071014dd2c05d9bd516054e     48.500000             0.0\n",
       "74f2ae1895fc01114f7b4b6aed3a0ca7     42.250000             0.0\n",
       "74f2ae1895fc013725465f42293b8adb     77.000000             0.0\n",
       "74f2ae1895fc0147de16abfcee3a4eaf     31.666667             0.0\n",
       "74f2ae1895fc018a981afdbf243b6942     36.833333             0.0\n",
       "74f2ae1895fc018f90e1e875253b842a     37.000000             0.0\n",
       "74f2ae1895fc0195a10f9bf9ed3a262f     33.000000             0.0\n",
       "74f2ae1895fc01b99882e5a2253b3709     46.000000             0.0\n",
       "74f2ae1895fc01d95fbcf1832a3baaab     36.000000             0.0\n",
       "7d81a8f2a92101facddd09d6630ea6a2     69.000000             0.0\n",
       "83725d6a8ae3010ee3f0a7d943860000     50.000000             0.0\n",
       "9181b8b7ba26017a46d10565212a6056     30.000000             0.0\n",
       "9904c4e6250001b49bc855cff822a476     59.000000             0.0\n",
       "9f9914d1728701a002f686b6f11d92fc     63.000000             0.0\n",
       "a862800cba96010ba93d1600a6180000     83.000000             0.0\n",
       "b933b1b623e9010a68b3ca521320445b     69.000000             0.0\n",
       "c52d797250c7010634906c5ea1370000     51.000000             0.0\n",
       "c791ae958e2f011590bab7a5760c67d9     62.000000             0.0\n",
       "c7c020cdb92c01ab6606c21335169f1b     48.000000             0.0\n",
       "d233ab0bb36601128f6f880b36300000     51.000000             0.0\n",
       "f358adabcbc6010e0acc71d48e3fd35e     48.000000             0.0"
      ]
     },
     "execution_count": 54,
     "metadata": {},
     "output_type": "execute_result"
    }
   ],
   "source": [
    "reqs_df.groupby('user')[['time_to_fill', 'num_of_actions']].mean()"
   ]
  },
  {
   "cell_type": "code",
   "execution_count": 55,
   "id": "df0b7db4-3b68-455c-a218-6624e583d09d",
   "metadata": {
    "tags": []
   },
   "outputs": [
    {
     "data": {
      "text/html": [
       "<div>\n",
       "<style scoped>\n",
       "    .dataframe tbody tr th:only-of-type {\n",
       "        vertical-align: middle;\n",
       "    }\n",
       "\n",
       "    .dataframe tbody tr th {\n",
       "        vertical-align: top;\n",
       "    }\n",
       "\n",
       "    .dataframe thead th {\n",
       "        text-align: right;\n",
       "    }\n",
       "</style>\n",
       "<table border=\"1\" class=\"dataframe\">\n",
       "  <thead>\n",
       "    <tr style=\"text-align: right;\">\n",
       "      <th></th>\n",
       "      <th>Event Name</th>\n",
       "      <th>Time</th>\n",
       "      <th>Distinct ID</th>\n",
       "      <th>Browser</th>\n",
       "      <th>Browser Version</th>\n",
       "      <th>City</th>\n",
       "      <th>Current URL</th>\n",
       "      <th>Device ID</th>\n",
       "      <th>Initial Referrer</th>\n",
       "      <th>Initial Referring Domain</th>\n",
       "      <th>...</th>\n",
       "      <th>Country</th>\n",
       "      <th>Mixpanel Library</th>\n",
       "      <th>Time Processed (UTC)</th>\n",
       "      <th>Sent By Library Version</th>\n",
       "      <th>phase</th>\n",
       "      <th>preset</th>\n",
       "      <th>req_id</th>\n",
       "      <th>screen</th>\n",
       "      <th>Had Persisted Distinct Id</th>\n",
       "      <th>Search Engine</th>\n",
       "    </tr>\n",
       "  </thead>\n",
       "  <tbody>\n",
       "    <tr>\n",
       "      <th>49</th>\n",
       "      <td>my-notifications.click</td>\n",
       "      <td>1.707400e+09</td>\n",
       "      <td>DEL546</td>\n",
       "      <td>Microsoft Edge</td>\n",
       "      <td>121.0</td>\n",
       "      <td>Mumbai</td>\n",
       "      <td>https://cloud.hiredscore.com/dell/#/pendingAct...</td>\n",
       "      <td>18a213a0b5f793-0463a33054b7a3-7c54647e-e1000-1...</td>\n",
       "      <td>https://pf.us.dell.com/</td>\n",
       "      <td>pf.us.dell.com</td>\n",
       "      <td>...</td>\n",
       "      <td>IN</td>\n",
       "      <td>web</td>\n",
       "      <td>1707400228200</td>\n",
       "      <td>2.49.0</td>\n",
       "      <td>NaN</td>\n",
       "      <td>homescreen</td>\n",
       "      <td>NaN</td>\n",
       "      <td>pending_actions</td>\n",
       "      <td>NaN</td>\n",
       "      <td>NaN</td>\n",
       "    </tr>\n",
       "    <tr>\n",
       "      <th>57</th>\n",
       "      <td>my-notifications.click</td>\n",
       "      <td>1.707345e+09</td>\n",
       "      <td>DEL25</td>\n",
       "      <td>Chrome</td>\n",
       "      <td>121.0</td>\n",
       "      <td>Franklin</td>\n",
       "      <td>https://cloud.hiredscore.com/dell/#/req/DELR23...</td>\n",
       "      <td>18b913ced4a667-0a3566062d6f82-26031151-172698-...</td>\n",
       "      <td>https://pf.us.dell.com/</td>\n",
       "      <td>pf.us.dell.com</td>\n",
       "      <td>...</td>\n",
       "      <td>US</td>\n",
       "      <td>web</td>\n",
       "      <td>1707345485382</td>\n",
       "      <td>2.49.0</td>\n",
       "      <td>NaN</td>\n",
       "      <td>homescreen</td>\n",
       "      <td>NaN</td>\n",
       "      <td>req_inbox</td>\n",
       "      <td>NaN</td>\n",
       "      <td>NaN</td>\n",
       "    </tr>\n",
       "    <tr>\n",
       "      <th>70</th>\n",
       "      <td>my-notifications.click</td>\n",
       "      <td>1.707312e+09</td>\n",
       "      <td>DEL299</td>\n",
       "      <td>Chrome</td>\n",
       "      <td>121.0</td>\n",
       "      <td>Jihlava</td>\n",
       "      <td>https://cloud.hiredscore.com/dell/#/req/DELR23...</td>\n",
       "      <td>18a604db9a98bf-00af49f7690ed9-26031f51-e1000-1...</td>\n",
       "      <td>https://pf.us.dell.com/</td>\n",
       "      <td>pf.us.dell.com</td>\n",
       "      <td>...</td>\n",
       "      <td>CZ</td>\n",
       "      <td>web</td>\n",
       "      <td>1707311869722</td>\n",
       "      <td>2.49.0</td>\n",
       "      <td>NaN</td>\n",
       "      <td>homescreen</td>\n",
       "      <td>NaN</td>\n",
       "      <td>req_inbox</td>\n",
       "      <td>NaN</td>\n",
       "      <td>NaN</td>\n",
       "    </tr>\n",
       "    <tr>\n",
       "      <th>81</th>\n",
       "      <td>my-notifications.click</td>\n",
       "      <td>1.707251e+09</td>\n",
       "      <td>DEL25</td>\n",
       "      <td>Chrome</td>\n",
       "      <td>121.0</td>\n",
       "      <td>Franklin</td>\n",
       "      <td>https://cloud.hiredscore.com/dell/#/pendingAct...</td>\n",
       "      <td>18b913ced4a667-0a3566062d6f82-26031151-172698-...</td>\n",
       "      <td>https://pf.us.dell.com/</td>\n",
       "      <td>pf.us.dell.com</td>\n",
       "      <td>...</td>\n",
       "      <td>US</td>\n",
       "      <td>web</td>\n",
       "      <td>1707250827228</td>\n",
       "      <td>2.49.0</td>\n",
       "      <td>NaN</td>\n",
       "      <td>homescreen</td>\n",
       "      <td>NaN</td>\n",
       "      <td>pending_actions</td>\n",
       "      <td>NaN</td>\n",
       "      <td>NaN</td>\n",
       "    </tr>\n",
       "    <tr>\n",
       "      <th>120</th>\n",
       "      <td>my-notifications.click</td>\n",
       "      <td>1.707156e+09</td>\n",
       "      <td>DEL676</td>\n",
       "      <td>Chrome</td>\n",
       "      <td>121.0</td>\n",
       "      <td>New York</td>\n",
       "      <td>https://cloud.hiredscore.com/dell/#/pendingAct...</td>\n",
       "      <td>18a51eaef295a6-0b330bfec973a5-26031f51-1fa400-...</td>\n",
       "      <td>https://pf.us.dell.com/</td>\n",
       "      <td>pf.us.dell.com</td>\n",
       "      <td>...</td>\n",
       "      <td>US</td>\n",
       "      <td>web</td>\n",
       "      <td>1707156291956</td>\n",
       "      <td>2.48.1</td>\n",
       "      <td>NaN</td>\n",
       "      <td>homescreen</td>\n",
       "      <td>NaN</td>\n",
       "      <td>pending_actions</td>\n",
       "      <td>NaN</td>\n",
       "      <td>NaN</td>\n",
       "    </tr>\n",
       "    <tr>\n",
       "      <th>...</th>\n",
       "      <td>...</td>\n",
       "      <td>...</td>\n",
       "      <td>...</td>\n",
       "      <td>...</td>\n",
       "      <td>...</td>\n",
       "      <td>...</td>\n",
       "      <td>...</td>\n",
       "      <td>...</td>\n",
       "      <td>...</td>\n",
       "      <td>...</td>\n",
       "      <td>...</td>\n",
       "      <td>...</td>\n",
       "      <td>...</td>\n",
       "      <td>...</td>\n",
       "      <td>...</td>\n",
       "      <td>...</td>\n",
       "      <td>...</td>\n",
       "      <td>...</td>\n",
       "      <td>...</td>\n",
       "      <td>...</td>\n",
       "      <td>...</td>\n",
       "    </tr>\n",
       "    <tr>\n",
       "      <th>2160</th>\n",
       "      <td>my-notifications.click</td>\n",
       "      <td>1.698759e+09</td>\n",
       "      <td>DEL73</td>\n",
       "      <td>Chrome</td>\n",
       "      <td>118.0</td>\n",
       "      <td>New York</td>\n",
       "      <td>https://cloud.hiredscore.com/dell/#/pendingAct...</td>\n",
       "      <td>18a70cdca334b3-02dae62c587bf1-26031f51-1fa400-...</td>\n",
       "      <td>https://pf.us.dell.com/</td>\n",
       "      <td>pf.us.dell.com</td>\n",
       "      <td>...</td>\n",
       "      <td>US</td>\n",
       "      <td>web</td>\n",
       "      <td>1698758609011</td>\n",
       "      <td>2.47.0</td>\n",
       "      <td>NaN</td>\n",
       "      <td>homescreen</td>\n",
       "      <td>NaN</td>\n",
       "      <td>pending_actions</td>\n",
       "      <td>NaN</td>\n",
       "      <td>NaN</td>\n",
       "    </tr>\n",
       "    <tr>\n",
       "      <th>2171</th>\n",
       "      <td>my-notifications.click</td>\n",
       "      <td>1.698732e+09</td>\n",
       "      <td>DEL84</td>\n",
       "      <td>Chrome</td>\n",
       "      <td>118.0</td>\n",
       "      <td>Bengaluru</td>\n",
       "      <td>https://cloud.hiredscore.com/dell/#/pendingAct...</td>\n",
       "      <td>18ab10c14f37ca-0ffcb215199624-26031f51-e1000-1...</td>\n",
       "      <td>https://pf.us.dell.com/</td>\n",
       "      <td>pf.us.dell.com</td>\n",
       "      <td>...</td>\n",
       "      <td>IN</td>\n",
       "      <td>web</td>\n",
       "      <td>1698731542426</td>\n",
       "      <td>2.47.0</td>\n",
       "      <td>NaN</td>\n",
       "      <td>homescreen</td>\n",
       "      <td>NaN</td>\n",
       "      <td>pending_actions</td>\n",
       "      <td>NaN</td>\n",
       "      <td>NaN</td>\n",
       "    </tr>\n",
       "    <tr>\n",
       "      <th>2185</th>\n",
       "      <td>my-notifications.click</td>\n",
       "      <td>1.698699e+09</td>\n",
       "      <td>DEL8</td>\n",
       "      <td>Microsoft Edge</td>\n",
       "      <td>118.0</td>\n",
       "      <td>Portland</td>\n",
       "      <td>https://cloud.hiredscore.com/dell/#/pendingAct...</td>\n",
       "      <td>18b825d2d943b1-0581bdccd29cbe-745d5777-144000-...</td>\n",
       "      <td>https://pf.us.dell.com/</td>\n",
       "      <td>pf.us.dell.com</td>\n",
       "      <td>...</td>\n",
       "      <td>US</td>\n",
       "      <td>web</td>\n",
       "      <td>1698699237755</td>\n",
       "      <td>2.47.0</td>\n",
       "      <td>NaN</td>\n",
       "      <td>homescreen</td>\n",
       "      <td>NaN</td>\n",
       "      <td>pending_actions</td>\n",
       "      <td>NaN</td>\n",
       "      <td>NaN</td>\n",
       "    </tr>\n",
       "    <tr>\n",
       "      <th>2195</th>\n",
       "      <td>my-notifications.click</td>\n",
       "      <td>1.698688e+09</td>\n",
       "      <td>DEL10</td>\n",
       "      <td>Chrome</td>\n",
       "      <td>118.0</td>\n",
       "      <td>Edmond</td>\n",
       "      <td>https://cloud.hiredscore.com/dell/#/pendingAct...</td>\n",
       "      <td>18a850d05107ed-03149e97585787-26031f51-144000-...</td>\n",
       "      <td>https://pf.us.dell.com/</td>\n",
       "      <td>pf.us.dell.com</td>\n",
       "      <td>...</td>\n",
       "      <td>US</td>\n",
       "      <td>web</td>\n",
       "      <td>1698688409661</td>\n",
       "      <td>2.47.0</td>\n",
       "      <td>NaN</td>\n",
       "      <td>homescreen</td>\n",
       "      <td>NaN</td>\n",
       "      <td>pending_actions</td>\n",
       "      <td>NaN</td>\n",
       "      <td>NaN</td>\n",
       "    </tr>\n",
       "    <tr>\n",
       "      <th>2196</th>\n",
       "      <td>my-notifications.click</td>\n",
       "      <td>1.698688e+09</td>\n",
       "      <td>DEL10</td>\n",
       "      <td>Chrome</td>\n",
       "      <td>118.0</td>\n",
       "      <td>Edmond</td>\n",
       "      <td>https://cloud.hiredscore.com/dell/#/req/DELR23...</td>\n",
       "      <td>18a850d05107ed-03149e97585787-26031f51-144000-...</td>\n",
       "      <td>https://pf.us.dell.com/</td>\n",
       "      <td>pf.us.dell.com</td>\n",
       "      <td>...</td>\n",
       "      <td>US</td>\n",
       "      <td>web</td>\n",
       "      <td>1698687824316</td>\n",
       "      <td>2.47.0</td>\n",
       "      <td>NaN</td>\n",
       "      <td>homescreen</td>\n",
       "      <td>NaN</td>\n",
       "      <td>req_inbox</td>\n",
       "      <td>NaN</td>\n",
       "      <td>NaN</td>\n",
       "    </tr>\n",
       "  </tbody>\n",
       "</table>\n",
       "<p>248 rows × 35 columns</p>\n",
       "</div>"
      ],
      "text/plain": [
       "                  Event Name          Time Distinct ID         Browser  \\\n",
       "49    my-notifications.click  1.707400e+09      DEL546  Microsoft Edge   \n",
       "57    my-notifications.click  1.707345e+09       DEL25          Chrome   \n",
       "70    my-notifications.click  1.707312e+09      DEL299          Chrome   \n",
       "81    my-notifications.click  1.707251e+09       DEL25          Chrome   \n",
       "120   my-notifications.click  1.707156e+09      DEL676          Chrome   \n",
       "...                      ...           ...         ...             ...   \n",
       "2160  my-notifications.click  1.698759e+09       DEL73          Chrome   \n",
       "2171  my-notifications.click  1.698732e+09       DEL84          Chrome   \n",
       "2185  my-notifications.click  1.698699e+09        DEL8  Microsoft Edge   \n",
       "2195  my-notifications.click  1.698688e+09       DEL10          Chrome   \n",
       "2196  my-notifications.click  1.698688e+09       DEL10          Chrome   \n",
       "\n",
       "      Browser Version       City  \\\n",
       "49              121.0     Mumbai   \n",
       "57              121.0   Franklin   \n",
       "70              121.0    Jihlava   \n",
       "81              121.0   Franklin   \n",
       "120             121.0   New York   \n",
       "...               ...        ...   \n",
       "2160            118.0   New York   \n",
       "2171            118.0  Bengaluru   \n",
       "2185            118.0   Portland   \n",
       "2195            118.0     Edmond   \n",
       "2196            118.0     Edmond   \n",
       "\n",
       "                                            Current URL  \\\n",
       "49    https://cloud.hiredscore.com/dell/#/pendingAct...   \n",
       "57    https://cloud.hiredscore.com/dell/#/req/DELR23...   \n",
       "70    https://cloud.hiredscore.com/dell/#/req/DELR23...   \n",
       "81    https://cloud.hiredscore.com/dell/#/pendingAct...   \n",
       "120   https://cloud.hiredscore.com/dell/#/pendingAct...   \n",
       "...                                                 ...   \n",
       "2160  https://cloud.hiredscore.com/dell/#/pendingAct...   \n",
       "2171  https://cloud.hiredscore.com/dell/#/pendingAct...   \n",
       "2185  https://cloud.hiredscore.com/dell/#/pendingAct...   \n",
       "2195  https://cloud.hiredscore.com/dell/#/pendingAct...   \n",
       "2196  https://cloud.hiredscore.com/dell/#/req/DELR23...   \n",
       "\n",
       "                                              Device ID  \\\n",
       "49    18a213a0b5f793-0463a33054b7a3-7c54647e-e1000-1...   \n",
       "57    18b913ced4a667-0a3566062d6f82-26031151-172698-...   \n",
       "70    18a604db9a98bf-00af49f7690ed9-26031f51-e1000-1...   \n",
       "81    18b913ced4a667-0a3566062d6f82-26031151-172698-...   \n",
       "120   18a51eaef295a6-0b330bfec973a5-26031f51-1fa400-...   \n",
       "...                                                 ...   \n",
       "2160  18a70cdca334b3-02dae62c587bf1-26031f51-1fa400-...   \n",
       "2171  18ab10c14f37ca-0ffcb215199624-26031f51-e1000-1...   \n",
       "2185  18b825d2d943b1-0581bdccd29cbe-745d5777-144000-...   \n",
       "2195  18a850d05107ed-03149e97585787-26031f51-144000-...   \n",
       "2196  18a850d05107ed-03149e97585787-26031f51-144000-...   \n",
       "\n",
       "             Initial Referrer Initial Referring Domain  ... Country  \\\n",
       "49    https://pf.us.dell.com/           pf.us.dell.com  ...      IN   \n",
       "57    https://pf.us.dell.com/           pf.us.dell.com  ...      US   \n",
       "70    https://pf.us.dell.com/           pf.us.dell.com  ...      CZ   \n",
       "81    https://pf.us.dell.com/           pf.us.dell.com  ...      US   \n",
       "120   https://pf.us.dell.com/           pf.us.dell.com  ...      US   \n",
       "...                       ...                      ...  ...     ...   \n",
       "2160  https://pf.us.dell.com/           pf.us.dell.com  ...      US   \n",
       "2171  https://pf.us.dell.com/           pf.us.dell.com  ...      IN   \n",
       "2185  https://pf.us.dell.com/           pf.us.dell.com  ...      US   \n",
       "2195  https://pf.us.dell.com/           pf.us.dell.com  ...      US   \n",
       "2196  https://pf.us.dell.com/           pf.us.dell.com  ...      US   \n",
       "\n",
       "     Mixpanel Library Time Processed (UTC)  Sent By Library Version phase  \\\n",
       "49                web        1707400228200                   2.49.0   NaN   \n",
       "57                web        1707345485382                   2.49.0   NaN   \n",
       "70                web        1707311869722                   2.49.0   NaN   \n",
       "81                web        1707250827228                   2.49.0   NaN   \n",
       "120               web        1707156291956                   2.48.1   NaN   \n",
       "...               ...                  ...                      ...   ...   \n",
       "2160              web        1698758609011                   2.47.0   NaN   \n",
       "2171              web        1698731542426                   2.47.0   NaN   \n",
       "2185              web        1698699237755                   2.47.0   NaN   \n",
       "2195              web        1698688409661                   2.47.0   NaN   \n",
       "2196              web        1698687824316                   2.47.0   NaN   \n",
       "\n",
       "          preset req_id           screen  Had Persisted Distinct Id  \\\n",
       "49    homescreen    NaN  pending_actions                        NaN   \n",
       "57    homescreen    NaN        req_inbox                        NaN   \n",
       "70    homescreen    NaN        req_inbox                        NaN   \n",
       "81    homescreen    NaN  pending_actions                        NaN   \n",
       "120   homescreen    NaN  pending_actions                        NaN   \n",
       "...          ...    ...              ...                        ...   \n",
       "2160  homescreen    NaN  pending_actions                        NaN   \n",
       "2171  homescreen    NaN  pending_actions                        NaN   \n",
       "2185  homescreen    NaN  pending_actions                        NaN   \n",
       "2195  homescreen    NaN  pending_actions                        NaN   \n",
       "2196  homescreen    NaN        req_inbox                        NaN   \n",
       "\n",
       "      Search Engine  \n",
       "49              NaN  \n",
       "57              NaN  \n",
       "70              NaN  \n",
       "81              NaN  \n",
       "120             NaN  \n",
       "...             ...  \n",
       "2160            NaN  \n",
       "2171            NaN  \n",
       "2185            NaN  \n",
       "2195            NaN  \n",
       "2196            NaN  \n",
       "\n",
       "[248 rows x 35 columns]"
      ]
     },
     "execution_count": 55,
     "metadata": {},
     "output_type": "execute_result"
    }
   ],
   "source": [
    "actions"
   ]
  },
  {
   "cell_type": "code",
   "execution_count": null,
   "id": "e4c9d908-d630-4185-8be4-9885da18af93",
   "metadata": {},
   "outputs": [],
   "source": []
  }
 ],
 "metadata": {
  "kernelspec": {
   "display_name": "Python 3 (ipykernel)",
   "language": "python",
   "name": "python3"
  },
  "language_info": {
   "codemirror_mode": {
    "name": "ipython",
    "version": 3
   },
   "file_extension": ".py",
   "mimetype": "text/x-python",
   "name": "python",
   "nbconvert_exporter": "python",
   "pygments_lexer": "ipython3",
   "version": "3.9.5"
  }
 },
 "nbformat": 4,
 "nbformat_minor": 5
}
