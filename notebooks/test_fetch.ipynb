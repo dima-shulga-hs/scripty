{
 "cells": [
  {
   "cell_type": "code",
   "execution_count": 83,
   "id": "bf5268a9-5d45-444f-b536-d3a4d1b18723",
   "metadata": {
    "tags": []
   },
   "outputs": [],
   "source": [
    "from hs_gimme.db_facade.elastic_search.elastic_search_client import get_elastic_search_client\n",
    "from collections import Counter"
   ]
  },
  {
   "cell_type": "code",
   "execution_count": 2,
   "id": "1ac902e1-0b4c-4b60-8d24-689270aa5ee7",
   "metadata": {
    "tags": []
   },
   "outputs": [
    {
     "name": "stdout",
     "output_type": "stream",
     "text": [
      "Found credentials in shared credentials file: ~/.aws/credentials\n"
     ]
    }
   ],
   "source": [
    "es = get_elastic_search_client('production', tries=4, application='fast_fetch')"
   ]
  },
  {
   "cell_type": "code",
   "execution_count": 3,
   "id": "a8f5cd87-f2b4-4e91-886c-6b86a7576e9a",
   "metadata": {
    "tags": []
   },
   "outputs": [
    {
     "name": "stdout",
     "output_type": "stream",
     "text": [
      "Found credentials in shared credentials file: ~/.aws/credentials\n"
     ]
    }
   ],
   "source": [
    "preprod_es = get_elastic_search_client('preprod', tries=4, application='fast_fetch')"
   ]
  },
  {
   "cell_type": "code",
   "execution_count": 4,
   "id": "b786dc65-a900-4bdd-930a-9c8eb4e995c5",
   "metadata": {
    "tags": []
   },
   "outputs": [],
   "source": [
    "q = {'bool': {'filter': [\n",
    "            {'bool': {'filter': {'term': {'type': 'grading_candidate'}}}},\n",
    "                                  {'bool': {'filter': {'terms': {'data_sources': ['ats', 'crm']}}}},\n",
    "                                   {'bool': {\n",
    "                                       'should': [{'bool': {'filter': {'terms': {'internal_type': ['external']}}}},\n",
    "                                                  {'bool': {'must_not': {'exists': {'field': 'internal_type'}}}}],\n",
    "                                       'minimum_should_match': 1}},\n",
    "                                   {'bool': {'should': [{'bool': {'filter': {'geo_distance': {'distance': '200km',\n",
    "                                                                                              'location': {\n",
    "                                                                                                  'lat': 22.27831,\n",
    "                                                                                                  'lon': 114.1604}}}}},\n",
    "                                                        {'bool': {'filter': {'geo_distance': {'distance': '200km',\n",
    "                                                                                              'apply_locations': {\n",
    "                                                                                                  'lat': 22.27831,\n",
    "                                                                                                  'lon': 114.1604}}}}},\n",
    "                                                        {'bool': {'filter': {'geo_distance': {'distance': '200km',\n",
    "                                                                                              'location': {\n",
    "                                                                                                  'lat': 22.28645,\n",
    "                                                                                                  'lon': 114.14719}}}}},\n",
    "                                                        {'bool': {'filter': {'geo_distance': {'distance': '200km',\n",
    "                                                                                              'apply_locations': {\n",
    "                                                                                                  'lat': 22.28645,\n",
    "                                                                                                  'lon': 114.14719}}}}}],\n",
    "                                             'minimum_should_match': 1}},\n",
    "                                  {'range': {'date_applied': {'gte': 'now-1095d/d', 'lte': 'now-0d/d'}}},\n",
    "                                   {'bool': {'must_not': {'term': {'email': '__none__'}}}},\n",
    "                                   {'bool': {'should': [{'bool': {'filter': {'term': {'passed_fetch_filters': True}}}},\n",
    "                                                        {'bool': {'must_not': {\n",
    "                                                            'exists': {'field': 'passed_fetch_filters'}}}}],\n",
    "                                             'minimum_should_match': 1}},\n",
    "                                   {'bool': {'should': [{'range': {'country_filter_up_to_TH': {'lt': 'now'}}},\n",
    "                                                        {'bool': {'must_not': {\n",
    "                                                            'exists': {'field': 'country_filter_up_to_TH'}}}},\n",
    "                                                        {'range': {'country_filter_up_to_PH': {'lt': 'now'}}},\n",
    "                                                        {'bool': {'must_not': {\n",
    "                                                            'exists': {'field': 'country_filter_up_to_PH'}}}},\n",
    "                                                        {'range': {'country_filter_up_to_NZ': {'lt': 'now'}}},\n",
    "                                                        {'bool': {'must_not': {\n",
    "                                                            'exists': {'field': 'country_filter_up_to_NZ'}}}},\n",
    "                                                        {'range': {'country_filter_up_to_MY': {'lt': 'now'}}},\n",
    "                                                        {'bool': {'must_not': {\n",
    "                                                            'exists': {'field': 'country_filter_up_to_MY'}}}},\n",
    "                                                        {'range': {'country_filter_up_to_SG': {'lt': 'now'}}},\n",
    "                                                        {'bool': {'must_not': {\n",
    "                                                            'exists': {'field': 'country_filter_up_to_SG'}}}},\n",
    "                                                        {'range': {'country_filter_up_to_TW': {'lt': 'now'}}},\n",
    "                                                        {'bool': {'must_not': {\n",
    "                                                            'exists': {'field': 'country_filter_up_to_TW'}}}},\n",
    "                                                        {'range': {'country_filter_up_to_HK': {'lt': 'now'}}},\n",
    "                                                        {'bool': {'must_not': {\n",
    "                                                            'exists': {'field': 'country_filter_up_to_HK'}}}},\n",
    "                                                        {'range': {'country_filter_up_to_ID': {'lt': 'now'}}},\n",
    "                                                        {'bool': {'must_not': {\n",
    "                                                            'exists': {'field': 'country_filter_up_to_ID'}}}},\n",
    "                                                        {'range': {'country_filter_up_to_AU': {'lt': 'now'}}},\n",
    "                                                        {'bool': {'must_not': {\n",
    "                                                            'exists': {'field': 'country_filter_up_to_AU'}}}},\n",
    "                                                        {'range': {'country_filter_up_to_CN': {'lt': 'now'}}},\n",
    "                                                        {'bool': {'must_not': {\n",
    "                                                            'exists': {'field': 'country_filter_up_to_CN'}}}},\n",
    "                                                        {'range': {'country_filter_up_to_VN': {'lt': 'now'}}},\n",
    "                                                        {'bool': {'must_not': {\n",
    "                                                            'exists': {'field': 'country_filter_up_to_VN'}}}},\n",
    "                                                        {'range': {'country_filter_up_to_KR': {'lt': 'now'}}},\n",
    "                                                        {'bool': {'must_not': {\n",
    "                                                            'exists': {'field': 'country_filter_up_to_KR'}}}}],\n",
    "                                             'minimum_should_match': 1}},\n",
    "                                   {'bool': {'must_not': {'term': {'applied_reqs': 'GSG47176'}}}},\n",
    "                                   {'range': {'max_past_status': {'lt': 3}}},\n",
    "                                   {'bool': {'filter': {'exists': {'field': 'current_talent_id'}}}},\n",
    "                                   {'bool': {'should': [{'range': {'applied_job_band_buckets': {'gte': 1,\n",
    "                                                                                                'lte': 4}}},\n",
    "                                                        {'bool': {'must_not': {\n",
    "                                                            'exists': {'field': 'applied_job_band_buckets'}}}},\n",
    "                                                        {'bool': {'must_not': {'terms': {'data_sources': ['ats']}}}}],\n",
    "                                             'minimum_should_match': 1}},\n",
    "                                   {'bool': {'should': [{'range': {'candidate_max_degree_level_strength': {'gte': 4}}},\n",
    "                                                        {'bool': {\n",
    "                                                            'must_not': {'terms': {'data_sources': ['ats', 'crm']}}}}],\n",
    "                                             'minimum_should_match': 1}},\n",
    "                                   {'bool': {'should': [{'bool': {'must_not': {'terms': {'data_sources': ['ats',\n",
    "                                                                                                          'crm']}}}},\n",
    "                                                        {'range': {\n",
    "                                                            'exp_profession_years_Business_&_Strategic_Management': {\n",
    "                                                                'gte': 1.0}}},\n",
    "                                                        {'range': {\n",
    "                                                            'exp_profession_years_for_degree_Business_&_Strategic_Management_none_required': {\n",
    "                                                                'gte': 1.0}}},\n",
    "                                                        {'range': {\n",
    "                                                            'exp_profession_years_for_degree_Business_&_Strategic_Management_high_school': {\n",
    "                                                                'gte': 1.0}}},\n",
    "                                                        {'range': {\n",
    "                                                            'exp_profession_years_for_degree_Business_&_Strategic_Management_beyond_high_school': {\n",
    "                                                                'gte': 1.0}}},\n",
    "                                                        {'range': {\n",
    "                                                            'exp_profession_years_for_degree_Business_&_Strategic_Management_certification': {\n",
    "                                                                'gte': 1.0}}},\n",
    "                                                        {'range': {\n",
    "                                                            'exp_profession_years_for_degree_Business_&_Strategic_Management_associates': {\n",
    "                                                                'gte': 1.0}}},\n",
    "                                                        {'range': {\n",
    "                                                            'exp_profession_years_for_degree_Business_&_Strategic_Management_bachelors': {\n",
    "                                                                'gte': 1.0}}},\n",
    "                                                        {'range': {\n",
    "                                                            'exp_profession_years_for_degree_Business_&_Strategic_Management_masters': {\n",
    "                                                                'gte': 1.0}}},\n",
    "                                                        {'range': {\n",
    "                                                            'exp_profession_years_for_degree_Business_&_Strategic_Management_MBA': {\n",
    "                                                                'gte': 1.0}}},\n",
    "                                                        {'range': {\n",
    "                                                            'exp_profession_years_for_degree_Business_&_Strategic_Management_doctorate': {\n",
    "                                                                'gte': 1.0}}},\n",
    "                                                        {'range': {\n",
    "                                                            'exp_profession_years_for_degree_Business_&_Strategic_Management_JD': {\n",
    "                                                                'gte': 1.0}}},\n",
    "                                                        {'range': {'exp_profession_years_IT_&_Software_Development': {\n",
    "                                                            'gte': 1.0}}},\n",
    "                                                        {'range': {\n",
    "                                                            'exp_profession_years_for_degree_IT_&_Software_Development_none_required': {\n",
    "                                                                'gte': 1.0}}},\n",
    "                                                        {'range': {\n",
    "                                                            'exp_profession_years_for_degree_IT_&_Software_Development_high_school': {\n",
    "                                                                'gte': 1.0}}},\n",
    "                                                        {'range': {\n",
    "                                                            'exp_profession_years_for_degree_IT_&_Software_Development_beyond_high_school': {\n",
    "                                                                'gte': 1.0}}},\n",
    "                                                        {'range': {\n",
    "                                                            'exp_profession_years_for_degree_IT_&_Software_Development_certification': {\n",
    "                                                                'gte': 1.0}}},\n",
    "                                                        {'range': {\n",
    "                                                            'exp_profession_years_for_degree_IT_&_Software_Development_associates': {\n",
    "                                                                'gte': 1.0}}},\n",
    "                                                        {'range': {\n",
    "                                                            'exp_profession_years_for_degree_IT_&_Software_Development_bachelors': {\n",
    "                                                                'gte': 1.0}}},\n",
    "                                                        {'range': {\n",
    "                                                            'exp_profession_years_for_degree_IT_&_Software_Development_masters': {\n",
    "                                                                'gte': 1.0}}},\n",
    "                                                        {'range': {\n",
    "                                                            'exp_profession_years_for_degree_IT_&_Software_Development_MBA': {\n",
    "                                                                'gte': 1.0}}},\n",
    "                                                        {'range': {\n",
    "                                                            'exp_profession_years_for_degree_IT_&_Software_Development_doctorate': {\n",
    "                                                                'gte': 1.0}}},\n",
    "                                                        {'range': {\n",
    "                                                            'exp_profession_years_for_degree_IT_&_Software_Development_JD': {\n",
    "                                                                'gte': 1.0}}}],\n",
    "                                             'minimum_should_match': 1}},\n",
    "                                   {'bool': {'should': [\n",
    "                                       {'range': {'exp_profession_years_Business_&_Strategic_Management': {'gt': 0}}},\n",
    "                                       {'range': {\n",
    "                                           'exp_profession_years_for_degree_Business_&_Strategic_Management_none_required': {\n",
    "                                               'gt': 0}}},\n",
    "                                       {'range': {\n",
    "                                           'exp_profession_years_for_degree_Business_&_Strategic_Management_high_school': {\n",
    "                                               'gt': 0}}},\n",
    "                                       {'range': {\n",
    "                                           'exp_profession_years_for_degree_Business_&_Strategic_Management_beyond_high_school': {\n",
    "                                               'gt': 0}}},\n",
    "                                       {'range': {\n",
    "                                           'exp_profession_years_for_degree_Business_&_Strategic_Management_certification': {\n",
    "                                               'gt': 0}}},\n",
    "                                       {'range': {\n",
    "                                           'exp_profession_years_for_degree_Business_&_Strategic_Management_associates': {\n",
    "                                               'gt': 0}}},\n",
    "                                       {'range': {\n",
    "                                           'exp_profession_years_for_degree_Business_&_Strategic_Management_bachelors': {\n",
    "                                               'gt': 0}}},\n",
    "                                       {'range': {\n",
    "                                           'exp_profession_years_for_degree_Business_&_Strategic_Management_masters': {\n",
    "                                               'gt': 0}}},\n",
    "                                       {'range': {\n",
    "                                           'exp_profession_years_for_degree_Business_&_Strategic_Management_MBA': {\n",
    "                                               'gt': 0}}},\n",
    "                                       {'range': {\n",
    "                                           'exp_profession_years_for_degree_Business_&_Strategic_Management_doctorate': {\n",
    "                                               'gt': 0}}},\n",
    "                                       {'range': {\n",
    "                                           'exp_profession_years_for_degree_Business_&_Strategic_Management_JD': {\n",
    "                                               'gt': 0}}},\n",
    "                                       {'range': {'exp_profession_years_IT_&_Software_Development': {'gt': 0}}},\n",
    "                                       {'range': {\n",
    "                                           'exp_profession_years_for_degree_IT_&_Software_Development_none_required': {\n",
    "                                               'gt': 0}}},\n",
    "                                       {'range': {\n",
    "                                           'exp_profession_years_for_degree_IT_&_Software_Development_high_school': {\n",
    "                                               'gt': 0}}},\n",
    "                                       {'range': {\n",
    "                                           'exp_profession_years_for_degree_IT_&_Software_Development_beyond_high_school': {\n",
    "                                               'gt': 0}}},\n",
    "                                       {'range': {\n",
    "                                           'exp_profession_years_for_degree_IT_&_Software_Development_certification': {\n",
    "                                               'gt': 0}}},\n",
    "                                       {'range': {\n",
    "                                           'exp_profession_years_for_degree_IT_&_Software_Development_associates': {\n",
    "                                               'gt': 0}}},\n",
    "                                       {'range': {\n",
    "                                           'exp_profession_years_for_degree_IT_&_Software_Development_bachelors': {\n",
    "                                               'gt': 0}}},\n",
    "                                       {'range': {'exp_profession_years_for_degree_IT_&_Software_Development_masters': {\n",
    "                                           'gt': 0}}},\n",
    "                                       {'range': {\n",
    "                                           'exp_profession_years_for_degree_IT_&_Software_Development_MBA': {'gt': 0}}},\n",
    "                                       {'range': {\n",
    "                                           'exp_profession_years_for_degree_IT_&_Software_Development_doctorate': {\n",
    "                                               'gt': 0}}},\n",
    "                                       {'range': {\n",
    "                                           'exp_profession_years_for_degree_IT_&_Software_Development_JD': {'gt': 0}}}],\n",
    "                                             'minimum_should_match': 1}},\n",
    "                                   {'bool': {'should': [{'bool': {'must_not': {'terms': {'data_sources': ['ats',\n",
    "                                                                                                          'crm']}}}},\n",
    "                                                        {'range': {'exp_detailed_prof_years_321': {'gt': 0}}},\n",
    "                                                        {'range': {'exp_detailed_prof_years_319': {'gt': 0}}},\n",
    "                                                        {'range': {'exp_detailed_prof_years_336': {'gt': 0}}},\n",
    "                                                        {'range': {'exp_detailed_prof_years_70': {'gt': 0}}},\n",
    "                                                        {'range': {'exp_detailed_prof_years_322': {'gt': 0}}},\n",
    "                                                        {'range': {'exp_detailed_prof_years_369': {'gt': 0}}}],\n",
    "                                             'minimum_should_match': 1}},\n",
    "                                   {'bool': {\n",
    "                                       'should': [{'bool': {'filter': {'terms': {'english_title_features': ['risk',\n",
    "                                                                                                            'risk model',\n",
    "                                                                                                            'model',\n",
    "                                                                                                            'model risk',\n",
    "                                                                                                            'risk risk',\n",
    "                                                                                                            'risk model risk']}}}},\n",
    "                                                  {'bool': {'must_not': {'terms': {'data_sources': ['ats', 'crm']}}}}],\n",
    "                                       'minimum_should_match': 1}},\n",
    "                                   {'bool': {'should': [{'bool': {'filter': {'terms': {'current_seniority': ['intern',\n",
    "                                                                                                             'entry_level',\n",
    "                                                                                                             'student']}}}},\n",
    "                                                        {'bool': {\n",
    "                                                            'must_not': {'exists': {'field': 'current_seniority'}}}},\n",
    "                                                        {'bool': {\n",
    "                                                            'must_not': {'terms': {'data_sources': ['ats', 'crm']}}}}],\n",
    "                                             'minimum_should_match': 1}},\n",
    "                                   {'bool': {'should': [{'bool': {\n",
    "                                       'filter': {'terms': {'seniority_Business_&_Strategic_Management': ['student',\n",
    "                                                                                                          'intern',\n",
    "                                                                                                          'entry_level']}}}},\n",
    "                                                        {'bool': {'filter': {\n",
    "                                                            'terms': {'seniority_IT_&_Software_Development': ['student',\n",
    "                                                                                                              'intern',\n",
    "                                                                                                              'entry_level']}}}},\n",
    "                                                        {'bool': {\n",
    "                                                            'must_not': {'terms': {'data_sources': ['ats', 'crm']}}}}],\n",
    "                                             'minimum_should_match': 1}},\n",
    "                                   {'bool': {'should': [{'range': {'agency_filter_up_to_TH': {'lt': 'now'}}},\n",
    "                                                        {'bool': {'must_not': {\n",
    "                                                            'exists': {'field': 'agency_filter_up_to_TH'}}}},\n",
    "                                                        {'range': {'agency_filter_up_to_PH': {'lt': 'now'}}},\n",
    "                                                        {'bool': {'must_not': {\n",
    "                                                            'exists': {'field': 'agency_filter_up_to_PH'}}}},\n",
    "                                                        {'range': {'agency_filter_up_to_NZ': {'lt': 'now'}}},\n",
    "                                                        {'bool': {'must_not': {\n",
    "                                                            'exists': {'field': 'agency_filter_up_to_NZ'}}}},\n",
    "                                                        {'range': {'agency_filter_up_to_MY': {'lt': 'now'}}},\n",
    "                                                        {'bool': {'must_not': {\n",
    "                                                            'exists': {'field': 'agency_filter_up_to_MY'}}}},\n",
    "                                                        {'range': {'agency_filter_up_to_SG': {'lt': 'now'}}},\n",
    "                                                        {'bool': {'must_not': {\n",
    "                                                            'exists': {'field': 'agency_filter_up_to_SG'}}}},\n",
    "                                                        {'range': {'agency_filter_up_to_TW': {'lt': 'now'}}},\n",
    "                                                        {'bool': {'must_not': {\n",
    "                                                            'exists': {'field': 'agency_filter_up_to_TW'}}}},\n",
    "                                                        {'range': {'agency_filter_up_to_HK': {'lt': 'now'}}},\n",
    "                                                        {'bool': {'must_not': {\n",
    "                                                            'exists': {'field': 'agency_filter_up_to_HK'}}}},\n",
    "                                                        {'range': {'agency_filter_up_to_ID': {'lt': 'now'}}},\n",
    "                                                        {'bool': {'must_not': {\n",
    "                                                            'exists': {'field': 'agency_filter_up_to_ID'}}}},\n",
    "                                                        {'range': {'agency_filter_up_to_AU': {'lt': 'now'}}},\n",
    "                                                        {'bool': {'must_not': {\n",
    "                                                            'exists': {'field': 'agency_filter_up_to_AU'}}}},\n",
    "                                                        {'range': {'agency_filter_up_to_CN': {'lt': 'now'}}},\n",
    "                                                        {'bool': {'must_not': {\n",
    "                                                            'exists': {'field': 'agency_filter_up_to_CN'}}}},\n",
    "                                                        {'range': {'agency_filter_up_to_VN': {'lt': 'now'}}},\n",
    "                                                        {'bool': {'must_not': {\n",
    "                                                            'exists': {'field': 'agency_filter_up_to_VN'}}}},\n",
    "                                                        {'range': {'agency_filter_up_to_KR': {'lt': 'now'}}},\n",
    "                                                        {'bool': {'must_not': {\n",
    "                                                            'exists': {'field': 'agency_filter_up_to_KR'}}}}],\n",
    "                                             'minimum_should_match': 1}},\n",
    "                                   {'bool': {'should': [{'bool': {'filter': {'term': {'employee_is_active': True}}}},\n",
    "                                                        {'bool': {\n",
    "                                                            'must_not': {'exists': {'field': 'employee_is_active'}}}},\n",
    "                                                        {'bool': {'must_not': {'terms': {'data_sources': ['hcm']}}}}],\n",
    "                                             'minimum_should_match': 1}},\n",
    "                                   {'bool': {'should': [{'bool': {'filter': {'terms': {'work_types': ['permanent']}}}},\n",
    "                                                        {'bool': {'must_not': {'exists': {'field': 'work_types'}}}}],\n",
    "                                             'minimum_should_match': 1}}\n",
    "]\n",
    "    }\n",
    "    \n",
    "    }"
   ]
  },
  {
   "cell_type": "code",
   "execution_count": 5,
   "id": "aa93927b-9d2d-4856-95b3-a42f65434e18",
   "metadata": {
    "tags": []
   },
   "outputs": [
    {
     "data": {
      "text/plain": [
       "{'count': 10,\n",
       " '_shards': {'total': 5, 'successful': 5, 'skipped': 0, 'failed': 0}}"
      ]
     },
     "execution_count": 5,
     "metadata": {},
     "output_type": "execute_result"
    }
   ],
   "source": [
    "es.count(index='granada_fast_fetch_production_active', body={'query': q})"
   ]
  },
  {
   "cell_type": "code",
   "execution_count": 6,
   "id": "8e2f515f-7f4e-4631-8d96-337ce2da7b77",
   "metadata": {
    "tags": []
   },
   "outputs": [
    {
     "data": {
      "text/plain": [
       "{'count': 1,\n",
       " '_shards': {'total': 5, 'successful': 5, 'skipped': 0, 'failed': 0}}"
      ]
     },
     "execution_count": 6,
     "metadata": {},
     "output_type": "execute_result"
    }
   ],
   "source": [
    "preprod_es.count(index='granada_fast_fetch_preprod_active', body={'query': q})"
   ]
  },
  {
   "cell_type": "code",
   "execution_count": 13,
   "id": "4fa9ba0b-d4b8-41ff-85eb-6c2935343a77",
   "metadata": {},
   "outputs": [],
   "source": [
    "mongo = gmcdb('preprod', 'granada')"
   ]
  },
  {
   "cell_type": "code",
   "execution_count": 21,
   "id": "dc6d0d13-6074-46d5-9961-cc3d4f2cf96b",
   "metadata": {},
   "outputs": [
    {
     "data": {
      "text/plain": [
       "3844"
      ]
     },
     "execution_count": 21,
     "metadata": {},
     "output_type": "execute_result"
    }
   ],
   "source": [
    "mongo.recommended_candidate.count_documents({})"
   ]
  },
  {
   "cell_type": "code",
   "execution_count": 26,
   "id": "56254ad6-2e8f-44ed-87ea-44c5e7e70c37",
   "metadata": {},
   "outputs": [
    {
     "ename": "ImportError",
     "evalue": "cannot import name 'REMOTE_INDICATORS_PATTERN' from 'hs_algorithms.fetch.fetch_grading_model' (/Users/dima/hiredscore/grading/algorithms/hs_algorithms/fetch/fetch_grading_model.py)",
     "output_type": "error",
     "traceback": [
      "\u001b[0;31m---------------------------------------------------------------------------\u001b[0m",
      "\u001b[0;31mImportError\u001b[0m                               Traceback (most recent call last)",
      "Cell \u001b[0;32mIn[26], line 1\u001b[0m\n\u001b[0;32m----> 1\u001b[0m \u001b[38;5;28;01mfrom\u001b[39;00m \u001b[38;5;21;01mhs_algorithms\u001b[39;00m\u001b[38;5;21;01m.\u001b[39;00m\u001b[38;5;21;01mfetch\u001b[39;00m\u001b[38;5;21;01m.\u001b[39;00m\u001b[38;5;21;01mfetch_grading_model\u001b[39;00m \u001b[38;5;28;01mimport\u001b[39;00m get_fetch_grading_model_client, REMOTE_INDICATORS_PATTERN\n",
      "\u001b[0;31mImportError\u001b[0m: cannot import name 'REMOTE_INDICATORS_PATTERN' from 'hs_algorithms.fetch.fetch_grading_model' (/Users/dima/hiredscore/grading/algorithms/hs_algorithms/fetch/fetch_grading_model.py)"
     ]
    }
   ],
   "source": [
    "from hs_algorithms.fetch.fetch_grading_model import get_fetch_grading_model_client, REMOTE_INDICATORS_PATTERN"
   ]
  },
  {
   "cell_type": "code",
   "execution_count": 23,
   "id": "9e47de37-122f-4231-b097-421bc6be2699",
   "metadata": {
    "tags": []
   },
   "outputs": [],
   "source": [
    "x = get_fetch_grading_model_client()"
   ]
  },
  {
   "cell_type": "code",
   "execution_count": 28,
   "id": "2a07f328-1576-4e85-8968-e9cb3c0d542c",
   "metadata": {
    "tags": []
   },
   "outputs": [],
   "source": [
    "from hs_fetch.utils.fetch_req_utils import REMOTE_INDICATORS_PATTERN"
   ]
  },
  {
   "cell_type": "code",
   "execution_count": null,
   "id": "95c6b168-d41c-4c69-a1d6-ffb40c259693",
   "metadata": {
    "tags": []
   },
   "outputs": [
    {
     "data": {
      "text/plain": [
       "True"
      ]
     },
     "execution_count": 25,
     "metadata": {},
     "output_type": "execute_result"
    }
   ],
   "source": [
    "_check_remote_in_override_address(None, ['Albany, New York'])"
   ]
  },
  {
   "cell_type": "code",
   "execution_count": null,
   "id": "2481d4e7-fdc6-40e2-9a5e-766c746dd6f7",
   "metadata": {
    "tags": []
   },
   "outputs": [
    {
     "data": {
      "text/plain": [
       "re.compile(r'remote|any', re.IGNORECASE|re.UNICODE)"
      ]
     },
     "execution_count": 29,
     "metadata": {},
     "output_type": "execute_result"
    }
   ],
   "source": [
    "REMOTE_INDICATORS_PATTERN"
   ]
  },
  {
   "cell_type": "code",
   "execution_count": null,
   "id": "365c91db-1c2c-40ae-876b-42b57f9a5d4d",
   "metadata": {},
   "outputs": [],
   "source": [
    "import re"
   ]
  },
  {
   "cell_type": "code",
   "execution_count": null,
   "id": "b5559637-aca6-4118-a53b-9248bbb0e42f",
   "metadata": {},
   "outputs": [
    {
     "data": {
      "text/plain": [
       "\"re.compile('remote|any', re.IGNORECASE)\""
      ]
     },
     "execution_count": 36,
     "metadata": {},
     "output_type": "execute_result"
    }
   ],
   "source": [
    "str(REMOTE_INDICATORS_PATTERN)"
   ]
  },
  {
   "cell_type": "code",
   "execution_count": null,
   "id": "a7259fcc-cc50-4242-b8bd-4fa3c8f40f96",
   "metadata": {},
   "outputs": [
    {
     "data": {
      "text/plain": [
       "<re.Match object; span=(0, 3), match='any'>"
      ]
     },
     "execution_count": 34,
     "metadata": {},
     "output_type": "execute_result"
    }
   ],
   "source": [
    "re.search(REMOTE_INDICATORS_PATTERN, 'anyone')"
   ]
  },
  {
   "cell_type": "code",
   "execution_count": 57,
   "id": "bc6e6bfa-c86b-4a29-8690-a7d399ae5079",
   "metadata": {},
   "outputs": [
    {
     "data": {
      "text/plain": [
       "('\\\\bremote\\\\b|\\\\bany\\\\b', None)"
      ]
     },
     "execution_count": 57,
     "metadata": {},
     "output_type": "execute_result"
    }
   ],
   "source": [
    "REMOTE_INDICATORS = \"|\".join([\"\\\\bremote\\\\b\", \"\\\\bany\\\\b\"])\n",
    "REMOTE_INDICATORS_PATTERN = re.compile(REMOTE_INDICATORS, re.IGNORECASE)\n",
    "REMOTE_INDICATORS, re.search(REMOTE_INDICATORS_PATTERN, 'Albany')"
   ]
  },
  {
   "cell_type": "code",
   "execution_count": 61,
   "id": "533a1b1b-7653-4f17-8544-28f380d2a81c",
   "metadata": {
    "tags": []
   },
   "outputs": [],
   "source": [
    "from hs_recommendations_api_client import get_recommendations_api_client"
   ]
  },
  {
   "cell_type": "code",
   "execution_count": 66,
   "id": "1a9248bb-bb56-4954-a485-d7ce4aa6ab80",
   "metadata": {
    "tags": []
   },
   "outputs": [],
   "source": [
    "api = get_recommendations_api_client('local')"
   ]
  },
  {
   "cell_type": "code",
   "execution_count": 70,
   "id": "5ca5beb9-240d-4b58-bae9-95fb78f7ec38",
   "metadata": {
    "tags": []
   },
   "outputs": [
    {
     "name": "stdout",
     "output_type": "stream",
     "text": [
      "\u001b[2m2023-09-14T07:39:31.328069Z\u001b[0m [\u001b[32m\u001b[1minfo     \u001b[0m] \u001b[1mMongos instances selected     \u001b[0m \u001b[36menvironment\u001b[0m=\u001b[35mlocal\u001b[0m \u001b[36mfile_path\u001b[0m=\u001b[35m/Users/dima/hiredscore/gimme/hs_gimme/db_facade/connection_string_builder.py\u001b[0m \u001b[36mfunction_name\u001b[0m=\u001b[35mget_selected_mongos_instances\u001b[0m \u001b[36mhostname\u001b[0m=\u001b[35mDima-Shulga-MacBook-Pro\u001b[0m \u001b[36mhosts\u001b[0m=\u001b[35m['applicativedb-prod-mongos-0.omcomcom.com', 'applicativedb-prod-mongos-2.omcomcom.com']\u001b[0m \u001b[36mline_number\u001b[0m=\u001b[35m38\u001b[0m \u001b[36mmodule\u001b[0m=\u001b[35mhs_gimme.db_facade.connection_string_builder\u001b[0m \u001b[36mpid\u001b[0m=\u001b[35m3326\u001b[0m\n"
     ]
    }
   ],
   "source": [
    "mongo = gmcdb('production', 'granada')"
   ]
  },
  {
   "cell_type": "code",
   "execution_count": 110,
   "id": "8295a4fb-4833-4b48-b969-7216ecab20a7",
   "metadata": {
    "tags": []
   },
   "outputs": [
    {
     "name": "stdout",
     "output_type": "stream",
     "text": [
      "\u001b[2m2023-09-14T09:04:30.517642Z\u001b[0m [\u001b[32m\u001b[1minfo     \u001b[0m] \u001b[1mhttp.request                  \u001b[0m \u001b[36menvironment\u001b[0m=\u001b[35mlocal\u001b[0m \u001b[36mfile_path\u001b[0m=\u001b[35m/Users/dima/hiredscore/gimme/hs_gimme/formation_middleware/logger.py\u001b[0m \u001b[36mfunction_name\u001b[0m=\u001b[35mbefore\u001b[0m \u001b[36mhostname\u001b[0m=\u001b[35mDima-Shulga-MacBook-Pro\u001b[0m \u001b[36mhttp.request.method\u001b[0m=\u001b[35mput\u001b[0m \u001b[36mhttp.request.query_params__object\u001b[0m=\u001b[35m{}\u001b[0m \u001b[36mhttp.request.url\u001b[0m=\u001b[35mhttp://localhost:6548/fast_fetch/granada/GSG47176\u001b[0m \u001b[36mline_number\u001b[0m=\u001b[35m28\u001b[0m \u001b[36mmodule\u001b[0m=\u001b[35mhs_gimme.formation_middleware.logger\u001b[0m \u001b[36mpid\u001b[0m=\u001b[35m3326\u001b[0m\n",
      "\u001b[2m2023-09-14T09:04:35.602315Z\u001b[0m [\u001b[32m\u001b[1minfo     \u001b[0m] \u001b[1mhttp.response                 \u001b[0m \u001b[36menvironment\u001b[0m=\u001b[35mlocal\u001b[0m \u001b[36mfile_path\u001b[0m=\u001b[35m/Users/dima/hiredscore/gimme/hs_gimme/formation_middleware/logger.py\u001b[0m \u001b[36mfunction_name\u001b[0m=\u001b[35mafter\u001b[0m \u001b[36mhostname\u001b[0m=\u001b[35mDima-Shulga-MacBook-Pro\u001b[0m \u001b[36mhttp.response.duration__numeric\u001b[0m=\u001b[35m5080\u001b[0m \u001b[36mhttp.response.elapsed__numeric\u001b[0m=\u001b[35m5077\u001b[0m \u001b[36mhttp.response.http_host\u001b[0m=\u001b[35mlocalhost\u001b[0m \u001b[36mhttp.response.method\u001b[0m=\u001b[35mPUT\u001b[0m \u001b[36mhttp.response.path\u001b[0m=\u001b[35m/fast_fetch/granada/GSG47176\u001b[0m \u001b[36mhttp.response.scheme\u001b[0m=\u001b[35mhttp\u001b[0m \u001b[36mhttp.response.size__numeric\u001b[0m=\u001b[35m233281\u001b[0m \u001b[36mhttp.response.status__numeric\u001b[0m=\u001b[35m200\u001b[0m \u001b[36mhttp.response.url\u001b[0m=\u001b[35mhttp://localhost:6548/fast_fetch/granada/GSG47176\u001b[0m \u001b[36mline_number\u001b[0m=\u001b[35m56\u001b[0m \u001b[36mmodule\u001b[0m=\u001b[35mhs_gimme.formation_middleware.logger\u001b[0m \u001b[36mpid\u001b[0m=\u001b[35m3326\u001b[0m\n",
      "Num of recommendations: 100\n",
      "Number of apps: 548\n",
      "Lubbock, TX, US 60\n",
      "Jersey City, US 59\n",
      "Street, US 53\n",
      "New York, NY, US 48\n",
      "Dallas, TX, US 24\n",
      "Ames, IA, US 17\n",
      "Franklin Square, New York, US 16\n",
      "New, Jersey, US 14\n",
      "Bear, DE, US 14\n",
      "Houston, TX, US 12\n",
      "Washington, US 12\n",
      "Greenwich, CT, US 11\n",
      "Jersey City, NJ, US 11\n",
      "Richardson, US 11\n",
      "Austin, TX, US 10\n",
      "São Paulo, BR 10\n",
      "New York, US 10\n",
      "Carrollton, TX, US 9\n",
      "Akron, OH, US 8\n",
      "Philadelphia, PA, US 8\n",
      "United States, US 8\n",
      "Bronx, NY, US 7\n",
      "Shanghai, US 6\n",
      "Seattle, WA, US 6\n",
      "Boston, MA, US 6\n",
      "Palatine, Irvine, US 6\n",
      "Coral Springs, US 5\n",
      "Quincy, MA, US 5\n",
      "Brooklyn, NY, US 5\n",
      "Plano, TX, US 4\n",
      "Elizabeth, NJ, US 4\n",
      "Saint Marks Place, NY NY, US 4\n",
      "Charlotte, NC, US 4\n",
      "Oakland, CA, US 3\n",
      "Lehi, UT, US 3\n",
      "Colony, US 3\n",
      "Huntington, NY, US 3\n",
      "East Brunswick, NJ, US 3\n",
      "Dallas, US 2\n",
      "Atlanta, Georgia, US 2\n",
      "Morris Plains, NJ, US 2\n",
      "Dallas, Tx, US 2\n",
      "Salt Lake City Ut, US 2\n",
      "Buffalo, NY, US 2\n",
      "New York, New York, US 2\n",
      "Livonia, MI, US 2\n",
      "Mckinney, Texas, US 2\n",
      "California, US 2\n",
      "Richardson, TX, US 2\n",
      "West Lafayette, US 1\n",
      "San Francisco, CA, US 1\n",
      "Atlanta, GA, US 1\n",
      "Denver, CO, US 1\n",
      "New Albany, US 1\n",
      "Charles, US 1\n",
      "Charles, CA 1\n",
      "San Francisco, US 1\n",
      "Alpharetta, GA, US 1\n",
      "Walnut Creek, CA, US 1\n",
      "Wylie, TX, US 1\n",
      "Reston, VA, US 1\n",
      "Charlotte, US 1\n",
      "Brentwood, CA, US 1\n",
      "Phoenix, AZ, US 1\n",
      "Park City, UT, US 1\n",
      "Upper Darby, PA, US 1\n",
      "Palo Alto, CA, US 1\n",
      "Westlake, OH, US 1\n",
      "None 1\n",
      "Fitchburg, WI, US 1\n",
      "Paulínia, BR 1\n",
      "Carmel, Indiana, US 1\n",
      "Walpole, MA, US 1\n"
     ]
    }
   ],
   "source": [
    "recommendations = api.fast_fetch('granada', 'GSG47176', state={'value': ['New York']}, city={'value': ['Albany']})['results']\n",
    "print('Num of recommendations:', len(recommendations))\n",
    "\n",
    "talent_ids = [rec['candidate_data']['current_talent_id'] for rec in recommendations]\n",
    "apps = list(mongo.application.find({'current_talent_id': {'$in': talent_ids}}, ['samurai_json.contact_info.postal_address']))\n",
    "print('Number of apps:', len(apps))\n",
    "for address, count in Counter(a['samurai_json']['contact_info']['postal_address'].get('short_display_address') for a in apps).most_common():\n",
    "    print(address, count)"
   ]
  },
  {
   "cell_type": "code",
   "execution_count": 112,
   "id": "658403d7-34ac-4ee5-a8b6-b42340660598",
   "metadata": {
    "tags": []
   },
   "outputs": [
    {
     "name": "stdout",
     "output_type": "stream",
     "text": [
      "\u001b[2m2023-09-14T09:06:58.386994Z\u001b[0m [\u001b[32m\u001b[1minfo     \u001b[0m] \u001b[1mhttp.request                  \u001b[0m \u001b[36menvironment\u001b[0m=\u001b[35mlocal\u001b[0m \u001b[36mfile_path\u001b[0m=\u001b[35m/Users/dima/hiredscore/gimme/hs_gimme/formation_middleware/logger.py\u001b[0m \u001b[36mfunction_name\u001b[0m=\u001b[35mbefore\u001b[0m \u001b[36mhostname\u001b[0m=\u001b[35mDima-Shulga-MacBook-Pro\u001b[0m \u001b[36mhttp.request.method\u001b[0m=\u001b[35mput\u001b[0m \u001b[36mhttp.request.query_params__object\u001b[0m=\u001b[35m{}\u001b[0m \u001b[36mhttp.request.url\u001b[0m=\u001b[35mhttp://localhost:6548/fast_fetch/granada/GSG47176\u001b[0m \u001b[36mline_number\u001b[0m=\u001b[35m28\u001b[0m \u001b[36mmodule\u001b[0m=\u001b[35mhs_gimme.formation_middleware.logger\u001b[0m \u001b[36mpid\u001b[0m=\u001b[35m3326\u001b[0m\n",
      "\u001b[2m2023-09-14T09:07:05.713937Z\u001b[0m [\u001b[32m\u001b[1minfo     \u001b[0m] \u001b[1mhttp.response                 \u001b[0m \u001b[36menvironment\u001b[0m=\u001b[35mlocal\u001b[0m \u001b[36mfile_path\u001b[0m=\u001b[35m/Users/dima/hiredscore/gimme/hs_gimme/formation_middleware/logger.py\u001b[0m \u001b[36mfunction_name\u001b[0m=\u001b[35mafter\u001b[0m \u001b[36mhostname\u001b[0m=\u001b[35mDima-Shulga-MacBook-Pro\u001b[0m \u001b[36mhttp.response.duration__numeric\u001b[0m=\u001b[35m7325\u001b[0m \u001b[36mhttp.response.elapsed__numeric\u001b[0m=\u001b[35m7322\u001b[0m \u001b[36mhttp.response.http_host\u001b[0m=\u001b[35mlocalhost\u001b[0m \u001b[36mhttp.response.method\u001b[0m=\u001b[35mPUT\u001b[0m \u001b[36mhttp.response.path\u001b[0m=\u001b[35m/fast_fetch/granada/GSG47176\u001b[0m \u001b[36mhttp.response.scheme\u001b[0m=\u001b[35mhttp\u001b[0m \u001b[36mhttp.response.size__numeric\u001b[0m=\u001b[35m232848\u001b[0m \u001b[36mhttp.response.status__numeric\u001b[0m=\u001b[35m200\u001b[0m \u001b[36mhttp.response.url\u001b[0m=\u001b[35mhttp://localhost:6548/fast_fetch/granada/GSG47176\u001b[0m \u001b[36mline_number\u001b[0m=\u001b[35m56\u001b[0m \u001b[36mmodule\u001b[0m=\u001b[35mhs_gimme.formation_middleware.logger\u001b[0m \u001b[36mpid\u001b[0m=\u001b[35m3326\u001b[0m\n",
      "Num of recommendations: 100\n",
      "Number of apps: 651\n",
      "New York, NY, US 88\n",
      "Lubbock, TX, US 60\n",
      "Jersey City, US 59\n",
      "Street, US 53\n",
      "Hoboken New, Jersey, US 52\n",
      "Jersey City, NJ, US 34\n",
      "New York, US 20\n",
      "Ames, IA, US 17\n",
      "Franklin Square, New York, US 16\n",
      "Dallas, TX, US 15\n",
      "New, Jersey, US 14\n",
      "Bear, DE, US 14\n",
      "Philadelphia, PA, US 12\n",
      "Washington, US 12\n",
      "Greenwich, CT, US 11\n",
      "Austin, TX, US 10\n",
      "Brooklyn, NY, US 10\n",
      "Houston, TX, US 9\n",
      "Grapevine, TX, US 9\n",
      "Akron, OH, US 8\n",
      "Boston, MA, US 8\n",
      "Bronx, NY, US 7\n",
      "Seattle, US 7\n",
      "Seattle, WA, US 6\n",
      "Palatine, Irvine, US 6\n",
      "Coral Springs, US 5\n",
      "Quincy, MA, US 5\n",
      "Torrance, CA, US 5\n",
      "Elizabeth, NJ, US 4\n",
      "Buenos Aires, AR 4\n",
      "Saint Marks Place, NY NY, US 4\n",
      "Charlotte, NC, US 4\n",
      "Rego Park, NY, US 3\n",
      "Roslyn Heights, US 3\n",
      "Kansas City, MO, US 3\n",
      "Bogota, CO 3\n",
      "Santa Barbara, CA, US 3\n",
      "Huntington, NY, US 3\n",
      "East Brunswick, NJ, US 3\n",
      "Greater, New York, US 3\n",
      "Greater, New York, CA 3\n",
      "Atlanta, Georgia, US 2\n",
      "La Cañada, CA, US 2\n",
      "Princeton, NJ, US 2\n",
      "Morris Plains, NJ, US 2\n",
      "Jacksonville, FL, US 2\n",
      "Buffalo, NY, US 2\n",
      "Torrington, CT, US 2\n",
      "Summit, NJ, US 2\n",
      "New York, New York, US 2\n",
      "Livonia, MI, US 2\n",
      "New York City, NY, US 2\n",
      "California, US 2\n",
      "New Rochelle, NY, US 2\n",
      "Naperville, Illinois, US 1\n",
      "Chicago, IL, US 1\n",
      "New City, NY, US 1\n",
      "Charlotte, US 1\n",
      "United States, US 1\n",
      "Palo Alto, CA, US 1\n",
      "Manhattan, NY, US 1\n",
      "Westlake, OH, US 1\n",
      "Jamaica, NY, US 1\n",
      "Walpole, MA, US 1\n"
     ]
    }
   ],
   "source": [
    "recommendations = api.fast_fetch('granada', 'GSG47176', state={'value': ['New York']}, city={'value': ['Albany']})['results']\n",
    "print('Num of recommendations:', len(recommendations))\n",
    "\n",
    "talent_ids = [rec['candidate_data']['current_talent_id'] for rec in recommendations]\n",
    "apps = list(mongo.application.find({'current_talent_id': {'$in': talent_ids}}, ['samurai_json.contact_info.postal_address']))\n",
    "print('Number of apps:', len(apps))\n",
    "for address, count in Counter(a['samurai_json']['contact_info']['postal_address'].get('short_display_address') for a in apps).most_common():\n",
    "    print(address, count)"
   ]
  },
  {
   "cell_type": "code",
   "execution_count": null,
   "id": "824c7fd7-6935-4169-9d96-50d57a606cb9",
   "metadata": {},
   "outputs": [],
   "source": []
  }
 ],
 "metadata": {
  "kernelspec": {
   "display_name": "Python 3 (ipykernel)",
   "language": "python",
   "name": "python3"
  },
  "language_info": {
   "codemirror_mode": {
    "name": "ipython",
    "version": 3
   },
   "file_extension": ".py",
   "mimetype": "text/x-python",
   "name": "python",
   "nbconvert_exporter": "python",
   "pygments_lexer": "ipython3",
   "version": "3.9.5"
  }
 },
 "nbformat": 4,
 "nbformat_minor": 5
}
