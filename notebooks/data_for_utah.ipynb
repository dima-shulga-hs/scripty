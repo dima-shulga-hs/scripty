{
 "cells": [
  {
   "cell_type": "code",
   "execution_count": 1,
   "id": "213f5a50-45c8-4e10-a98d-c3cc432fcd0e",
   "metadata": {
    "tags": []
   },
   "outputs": [],
   "source": [
    "import pandas as pd\n",
    "from hs_gimme.db_facade.db_facade_factory import get_mongo_client_db\n",
    "from tqdm import tqdm\n",
    "from collections import Counter\n",
    "import random as rn\n",
    "from datetime import datetime"
   ]
  },
  {
   "cell_type": "code",
   "execution_count": 2,
   "id": "723c7e6a-868d-4c7a-82c0-433e51045449",
   "metadata": {
    "tags": []
   },
   "outputs": [],
   "source": [
    "ENV = 'production'\n",
    "ACCOUNT = 'utah'\n",
    "RACES = {'White', 'Asian', 'Black or African American', 'Native American', 'Hispanic or Latino', 'Middle Eastern'}\n",
    "GENDERS = {'Female', 'Male'}"
   ]
  },
  {
   "cell_type": "code",
   "execution_count": 3,
   "id": "d0788f07-9aeb-4081-a1f9-2e38ecd42384",
   "metadata": {
    "tags": []
   },
   "outputs": [],
   "source": [
    "mongo = get_mongo_client_db(ENV, ACCOUNT)"
   ]
  },
  {
   "cell_type": "code",
   "execution_count": 4,
   "id": "5138cbdd-314b-499e-b179-058d610394ac",
   "metadata": {
    "tags": []
   },
   "outputs": [
    {
     "data": {
      "text/plain": [
       "[('US', 3347),\n",
       " ('GB', 2065),\n",
       " ('IN', 1908),\n",
       " ('NL', 1138),\n",
       " ('BR', 269),\n",
       " ('CA', 240),\n",
       " ('RU', 70),\n",
       " ('DE', 58),\n",
       " ('TH', 56),\n",
       " ('MX', 55)]"
      ]
     },
     "execution_count": 4,
     "metadata": {},
     "output_type": "execute_result"
    }
   ],
   "source": [
    "Counter(([r.get('country') for r in mongo.req.find({}, ['country']).limit(10000)])).most_common(10)"
   ]
  },
  {
   "cell_type": "code",
   "execution_count": 5,
   "id": "3ee25c1f-fab9-4fa2-a4e7-c2bcdfbe97cc",
   "metadata": {
    "tags": []
   },
   "outputs": [],
   "source": [
    "reqs_q = {\n",
    "    'job_create_date': {'$gte': datetime(2022, 1, 1), '$lte': datetime(2023, 6, 30)},\n",
    "    'country': {'$ne': 'US'}\n",
    "}"
   ]
  },
  {
   "cell_type": "code",
   "execution_count": 6,
   "id": "3ef91e2a-9453-4d01-bf83-0910b7902a5e",
   "metadata": {
    "tags": []
   },
   "outputs": [
    {
     "name": "stdout",
     "output_type": "stream",
     "text": [
      "\u001b[2m2023-08-10T16:02:06.744366Z\u001b[0m [\u001b[33m\u001b[1mwarning  \u001b[0m] \u001b[1mSlowLog                       \u001b[0m \u001b[36mcommand_name\u001b[0m=\u001b[35mdistinct\u001b[0m \u001b[36mconnection_id\u001b[0m=\u001b[35mapplicativedb-prod-mongos-0.omcomcom.com:27017\u001b[0m \u001b[36mduration_ms__numeric\u001b[0m=\u001b[35m103007.827\u001b[0m \u001b[36mduration_threshold__numeric\u001b[0m=\u001b[35m10000\u001b[0m \u001b[36menvironment\u001b[0m=\u001b[35mlocal\u001b[0m \u001b[36mfile_path\u001b[0m=\u001b[35m/Users/dima/hiredscore/gimme/hs_gimme/db_facade/slow_logs_utils.py\u001b[0m \u001b[36mfunction_name\u001b[0m=\u001b[35mwrite_slow_log\u001b[0m \u001b[36mhostname\u001b[0m=\u001b[35mDima-Shulga-MacBook-Pro\u001b[0m \u001b[36mline_number\u001b[0m=\u001b[35m11\u001b[0m \u001b[36mmodule\u001b[0m=\u001b[35mhs_gimme.db_facade.slow_logs_utils\u001b[0m \u001b[36mpid\u001b[0m=\u001b[35m90812\u001b[0m \u001b[36mrequest_id\u001b[0m=\u001b[35m1404280278\u001b[0m \u001b[36msource\u001b[0m=\u001b[35mPyMongo\u001b[0m \u001b[36mstack_snippet\u001b[0m=\u001b[35m\n",
      "  File \"/var/folders/_p/8_m91crj199_rd7sndkxncc80000gp/T/ipykernel_90812/3862451921.py\", line 1, in <module>\n",
      "    req_ids = mongo.req.distinct('_id', reqs_q)\n",
      "\u001b[0m\n"
     ]
    },
    {
     "data": {
      "text/plain": [
       "29530"
      ]
     },
     "execution_count": 6,
     "metadata": {},
     "output_type": "execute_result"
    }
   ],
   "source": [
    "req_ids = mongo.req.distinct('_id', reqs_q)\n",
    "len(req_ids)"
   ]
  },
  {
   "cell_type": "code",
   "execution_count": 7,
   "id": "995f49c1-7507-44d1-97b8-340d4b860bc1",
   "metadata": {},
   "outputs": [],
   "source": [
    "#req_ids = rn.sample(req_ids, 100)\n",
    "#len(req_ids)"
   ]
  },
  {
   "cell_type": "code",
   "execution_count": 8,
   "id": "15deb00c-4954-4d36-9f64-6f5e83df0770",
   "metadata": {
    "tags": []
   },
   "outputs": [],
   "source": [
    "apps_p = ['ats_application.eeo', \n",
    "          'grade_data.explainable_score_data.explain.raw_grade_without_rnd',\n",
    "          'is_internal',\n",
    "          'samurai_json.total_years_of_experience',\n",
    "          'req_id']\n",
    "\n",
    "apps_q = {\n",
    "    'req_id': {'$in': req_ids} ,\n",
    "    'ats_application.integration_data.final_round_score_sent_to_ats': {'$exists': True},\n",
    "    'grade_data.explainable_score_data.explain.raw_grade_without_rnd': {'$gt': 0},\n",
    "}"
   ]
  },
  {
   "cell_type": "code",
   "execution_count": 9,
   "id": "4027fa4f-e1be-40d7-915d-220c303a8556",
   "metadata": {
    "tags": []
   },
   "outputs": [
    {
     "name": "stderr",
     "output_type": "stream",
     "text": [
      "1it [00:03,  3.36s/it]"
     ]
    },
    {
     "name": "stdout",
     "output_type": "stream",
     "text": [
      "\u001b[2m2023-08-10T16:07:51.069667Z\u001b[0m [\u001b[33m\u001b[1mwarning  \u001b[0m] \u001b[1mSlowLog                       \u001b[0m \u001b[36mcommand_name\u001b[0m=\u001b[35mgetMore\u001b[0m \u001b[36mconnection_id\u001b[0m=\u001b[35mapplicativedb-prod-mongos-1.omcomcom.com:27017\u001b[0m \u001b[36mduration_ms__numeric\u001b[0m=\u001b[35m340915.852\u001b[0m \u001b[36mduration_threshold__numeric\u001b[0m=\u001b[35m10000\u001b[0m \u001b[36menvironment\u001b[0m=\u001b[35mlocal\u001b[0m \u001b[36mfile_path\u001b[0m=\u001b[35m/Users/dima/hiredscore/gimme/hs_gimme/db_facade/slow_logs_utils.py\u001b[0m \u001b[36mfunction_name\u001b[0m=\u001b[35mwrite_slow_log\u001b[0m \u001b[36mhostname\u001b[0m=\u001b[35mDima-Shulga-MacBook-Pro\u001b[0m \u001b[36mline_number\u001b[0m=\u001b[35m11\u001b[0m \u001b[36mmodule\u001b[0m=\u001b[35mhs_gimme.db_facade.slow_logs_utils\u001b[0m \u001b[36mpid\u001b[0m=\u001b[35m90812\u001b[0m \u001b[36mrequest_id\u001b[0m=\u001b[35m1083454666\u001b[0m \u001b[36msource\u001b[0m=\u001b[35mPyMongo\u001b[0m \u001b[36mstack_snippet\u001b[0m=\u001b[35m\n",
      "  File \"/var/folders/_p/8_m91crj199_rd7sndkxncc80000gp/T/ipykernel_90812/702987640.py\", line 1, in <module>\n",
      "    apps = list(tqdm(mongo.application.find(apps_q, apps_p)))\n",
      "\u001b[0m\n"
     ]
    },
    {
     "name": "stderr",
     "output_type": "stream",
     "text": [
      "102it [05:44,  3.38s/it]"
     ]
    },
    {
     "name": "stdout",
     "output_type": "stream",
     "text": [
      "\u001b[2m2023-08-10T16:13:55.173842Z\u001b[0m [\u001b[33m\u001b[1mwarning  \u001b[0m] \u001b[1mSlowLog                       \u001b[0m \u001b[36mcommand_name\u001b[0m=\u001b[35mgetMore\u001b[0m \u001b[36mconnection_id\u001b[0m=\u001b[35mapplicativedb-prod-mongos-1.omcomcom.com:27017\u001b[0m \u001b[36mduration_ms__numeric\u001b[0m=\u001b[35m364066.235\u001b[0m \u001b[36mduration_threshold__numeric\u001b[0m=\u001b[35m10000\u001b[0m \u001b[36menvironment\u001b[0m=\u001b[35mlocal\u001b[0m \u001b[36mfile_path\u001b[0m=\u001b[35m/Users/dima/hiredscore/gimme/hs_gimme/db_facade/slow_logs_utils.py\u001b[0m \u001b[36mfunction_name\u001b[0m=\u001b[35mwrite_slow_log\u001b[0m \u001b[36mhostname\u001b[0m=\u001b[35mDima-Shulga-MacBook-Pro\u001b[0m \u001b[36mline_number\u001b[0m=\u001b[35m11\u001b[0m \u001b[36mmodule\u001b[0m=\u001b[35mhs_gimme.db_facade.slow_logs_utils\u001b[0m \u001b[36mpid\u001b[0m=\u001b[35m90812\u001b[0m \u001b[36mrequest_id\u001b[0m=\u001b[35m60935238\u001b[0m \u001b[36msource\u001b[0m=\u001b[35mPyMongo\u001b[0m \u001b[36mstack_snippet\u001b[0m=\u001b[35m\n",
      "  File \"/var/folders/_p/8_m91crj199_rd7sndkxncc80000gp/T/ipykernel_90812/702987640.py\", line 1, in <module>\n",
      "    apps = list(tqdm(mongo.application.find(apps_q, apps_p)))\n",
      "\u001b[0m\n"
     ]
    },
    {
     "name": "stderr",
     "output_type": "stream",
     "text": [
      "54496it [12:00, 90.11it/s]"
     ]
    },
    {
     "name": "stdout",
     "output_type": "stream",
     "text": [
      "\u001b[2m2023-08-10T16:19:26.129728Z\u001b[0m [\u001b[33m\u001b[1mwarning  \u001b[0m] \u001b[1mSlowLog                       \u001b[0m \u001b[36mcommand_name\u001b[0m=\u001b[35mgetMore\u001b[0m \u001b[36mconnection_id\u001b[0m=\u001b[35mapplicativedb-prod-mongos-1.omcomcom.com:27017\u001b[0m \u001b[36mduration_ms__numeric\u001b[0m=\u001b[35m330911.327\u001b[0m \u001b[36mduration_threshold__numeric\u001b[0m=\u001b[35m10000\u001b[0m \u001b[36menvironment\u001b[0m=\u001b[35mlocal\u001b[0m \u001b[36mfile_path\u001b[0m=\u001b[35m/Users/dima/hiredscore/gimme/hs_gimme/db_facade/slow_logs_utils.py\u001b[0m \u001b[36mfunction_name\u001b[0m=\u001b[35mwrite_slow_log\u001b[0m \u001b[36mhostname\u001b[0m=\u001b[35mDima-Shulga-MacBook-Pro\u001b[0m \u001b[36mline_number\u001b[0m=\u001b[35m11\u001b[0m \u001b[36mmodule\u001b[0m=\u001b[35mhs_gimme.db_facade.slow_logs_utils\u001b[0m \u001b[36mpid\u001b[0m=\u001b[35m90812\u001b[0m \u001b[36mrequest_id\u001b[0m=\u001b[35m2044747317\u001b[0m \u001b[36msource\u001b[0m=\u001b[35mPyMongo\u001b[0m \u001b[36mstack_snippet\u001b[0m=\u001b[35m\n",
      "  File \"/var/folders/_p/8_m91crj199_rd7sndkxncc80000gp/T/ipykernel_90812/702987640.py\", line 1, in <module>\n",
      "    apps = list(tqdm(mongo.application.find(apps_q, apps_p)))\n",
      "\u001b[0m\n"
     ]
    },
    {
     "name": "stderr",
     "output_type": "stream",
     "text": [
      "108475it [17:30, 122.15it/s]"
     ]
    },
    {
     "name": "stdout",
     "output_type": "stream",
     "text": [
      "\u001b[2m2023-08-10T16:24:03.401609Z\u001b[0m [\u001b[33m\u001b[1mwarning  \u001b[0m] \u001b[1mSlowLog                       \u001b[0m \u001b[36mcommand_name\u001b[0m=\u001b[35mgetMore\u001b[0m \u001b[36mconnection_id\u001b[0m=\u001b[35mapplicativedb-prod-mongos-1.omcomcom.com:27017\u001b[0m \u001b[36mduration_ms__numeric\u001b[0m=\u001b[35m277232.579\u001b[0m \u001b[36mduration_threshold__numeric\u001b[0m=\u001b[35m10000\u001b[0m \u001b[36menvironment\u001b[0m=\u001b[35mlocal\u001b[0m \u001b[36mfile_path\u001b[0m=\u001b[35m/Users/dima/hiredscore/gimme/hs_gimme/db_facade/slow_logs_utils.py\u001b[0m \u001b[36mfunction_name\u001b[0m=\u001b[35mwrite_slow_log\u001b[0m \u001b[36mhostname\u001b[0m=\u001b[35mDima-Shulga-MacBook-Pro\u001b[0m \u001b[36mline_number\u001b[0m=\u001b[35m11\u001b[0m \u001b[36mmodule\u001b[0m=\u001b[35mhs_gimme.db_facade.slow_logs_utils\u001b[0m \u001b[36mpid\u001b[0m=\u001b[35m90812\u001b[0m \u001b[36mrequest_id\u001b[0m=\u001b[35m1490404473\u001b[0m \u001b[36msource\u001b[0m=\u001b[35mPyMongo\u001b[0m \u001b[36mstack_snippet\u001b[0m=\u001b[35m\n",
      "  File \"/var/folders/_p/8_m91crj199_rd7sndkxncc80000gp/T/ipykernel_90812/702987640.py\", line 1, in <module>\n",
      "    apps = list(tqdm(mongo.application.find(apps_q, apps_p)))\n",
      "\u001b[0m\n"
     ]
    },
    {
     "name": "stderr",
     "output_type": "stream",
     "text": [
      "163368it [22:10, 148.26it/s]"
     ]
    },
    {
     "name": "stdout",
     "output_type": "stream",
     "text": [
      "\u001b[2m2023-08-10T16:28:23.382113Z\u001b[0m [\u001b[33m\u001b[1mwarning  \u001b[0m] \u001b[1mSlowLog                       \u001b[0m \u001b[36mcommand_name\u001b[0m=\u001b[35mgetMore\u001b[0m \u001b[36mconnection_id\u001b[0m=\u001b[35mapplicativedb-prod-mongos-1.omcomcom.com:27017\u001b[0m \u001b[36mduration_ms__numeric\u001b[0m=\u001b[35m259933.838\u001b[0m \u001b[36mduration_threshold__numeric\u001b[0m=\u001b[35m10000\u001b[0m \u001b[36menvironment\u001b[0m=\u001b[35mlocal\u001b[0m \u001b[36mfile_path\u001b[0m=\u001b[35m/Users/dima/hiredscore/gimme/hs_gimme/db_facade/slow_logs_utils.py\u001b[0m \u001b[36mfunction_name\u001b[0m=\u001b[35mwrite_slow_log\u001b[0m \u001b[36mhostname\u001b[0m=\u001b[35mDima-Shulga-MacBook-Pro\u001b[0m \u001b[36mline_number\u001b[0m=\u001b[35m11\u001b[0m \u001b[36mmodule\u001b[0m=\u001b[35mhs_gimme.db_facade.slow_logs_utils\u001b[0m \u001b[36mpid\u001b[0m=\u001b[35m90812\u001b[0m \u001b[36mrequest_id\u001b[0m=\u001b[35m1187262410\u001b[0m \u001b[36msource\u001b[0m=\u001b[35mPyMongo\u001b[0m \u001b[36mstack_snippet\u001b[0m=\u001b[35m\n",
      "  File \"/var/folders/_p/8_m91crj199_rd7sndkxncc80000gp/T/ipykernel_90812/702987640.py\", line 1, in <module>\n",
      "    apps = list(tqdm(mongo.application.find(apps_q, apps_p)))\n",
      "\u001b[0m\n"
     ]
    },
    {
     "name": "stderr",
     "output_type": "stream",
     "text": [
      "220087it [26:30, 170.33it/s]"
     ]
    },
    {
     "name": "stdout",
     "output_type": "stream",
     "text": [
      "\u001b[2m2023-08-10T16:33:11.761629Z\u001b[0m [\u001b[33m\u001b[1mwarning  \u001b[0m] \u001b[1mSlowLog                       \u001b[0m \u001b[36mcommand_name\u001b[0m=\u001b[35mgetMore\u001b[0m \u001b[36mconnection_id\u001b[0m=\u001b[35mapplicativedb-prod-mongos-1.omcomcom.com:27017\u001b[0m \u001b[36mduration_ms__numeric\u001b[0m=\u001b[35m288335.275\u001b[0m \u001b[36mduration_threshold__numeric\u001b[0m=\u001b[35m10000\u001b[0m \u001b[36menvironment\u001b[0m=\u001b[35mlocal\u001b[0m \u001b[36mfile_path\u001b[0m=\u001b[35m/Users/dima/hiredscore/gimme/hs_gimme/db_facade/slow_logs_utils.py\u001b[0m \u001b[36mfunction_name\u001b[0m=\u001b[35mwrite_slow_log\u001b[0m \u001b[36mhostname\u001b[0m=\u001b[35mDima-Shulga-MacBook-Pro\u001b[0m \u001b[36mline_number\u001b[0m=\u001b[35m11\u001b[0m \u001b[36mmodule\u001b[0m=\u001b[35mhs_gimme.db_facade.slow_logs_utils\u001b[0m \u001b[36mpid\u001b[0m=\u001b[35m90812\u001b[0m \u001b[36mrequest_id\u001b[0m=\u001b[35m1004466924\u001b[0m \u001b[36msource\u001b[0m=\u001b[35mPyMongo\u001b[0m \u001b[36mstack_snippet\u001b[0m=\u001b[35m\n",
      "  File \"/var/folders/_p/8_m91crj199_rd7sndkxncc80000gp/T/ipykernel_90812/702987640.py\", line 1, in <module>\n",
      "    apps = list(tqdm(mongo.application.find(apps_q, apps_p)))\n",
      "\u001b[0m\n"
     ]
    },
    {
     "name": "stderr",
     "output_type": "stream",
     "text": [
      "276868it [31:20, 179.19it/s]"
     ]
    },
    {
     "name": "stdout",
     "output_type": "stream",
     "text": [
      "\u001b[2m2023-08-10T16:39:09.435919Z\u001b[0m [\u001b[33m\u001b[1mwarning  \u001b[0m] \u001b[1mSlowLog                       \u001b[0m \u001b[36mcommand_name\u001b[0m=\u001b[35mgetMore\u001b[0m \u001b[36mconnection_id\u001b[0m=\u001b[35mapplicativedb-prod-mongos-1.omcomcom.com:27017\u001b[0m \u001b[36mduration_ms__numeric\u001b[0m=\u001b[35m357636.753\u001b[0m \u001b[36mduration_threshold__numeric\u001b[0m=\u001b[35m10000\u001b[0m \u001b[36menvironment\u001b[0m=\u001b[35mlocal\u001b[0m \u001b[36mfile_path\u001b[0m=\u001b[35m/Users/dima/hiredscore/gimme/hs_gimme/db_facade/slow_logs_utils.py\u001b[0m \u001b[36mfunction_name\u001b[0m=\u001b[35mwrite_slow_log\u001b[0m \u001b[36mhostname\u001b[0m=\u001b[35mDima-Shulga-MacBook-Pro\u001b[0m \u001b[36mline_number\u001b[0m=\u001b[35m11\u001b[0m \u001b[36mmodule\u001b[0m=\u001b[35mhs_gimme.db_facade.slow_logs_utils\u001b[0m \u001b[36mpid\u001b[0m=\u001b[35m90812\u001b[0m \u001b[36mrequest_id\u001b[0m=\u001b[35m562165089\u001b[0m \u001b[36msource\u001b[0m=\u001b[35mPyMongo\u001b[0m \u001b[36mstack_snippet\u001b[0m=\u001b[35m\n",
      "  File \"/var/folders/_p/8_m91crj199_rd7sndkxncc80000gp/T/ipykernel_90812/702987640.py\", line 1, in <module>\n",
      "    apps = list(tqdm(mongo.application.find(apps_q, apps_p)))\n",
      "\u001b[0m\n"
     ]
    },
    {
     "name": "stderr",
     "output_type": "stream",
     "text": [
      "331856it [37:20, 169.74it/s]"
     ]
    },
    {
     "name": "stdout",
     "output_type": "stream",
     "text": [
      "\u001b[2m2023-08-10T16:43:24.105496Z\u001b[0m [\u001b[33m\u001b[1mwarning  \u001b[0m] \u001b[1mSlowLog                       \u001b[0m \u001b[36mcommand_name\u001b[0m=\u001b[35mgetMore\u001b[0m \u001b[36mconnection_id\u001b[0m=\u001b[35mapplicativedb-prod-mongos-1.omcomcom.com:27017\u001b[0m \u001b[36mduration_ms__numeric\u001b[0m=\u001b[35m254629.063\u001b[0m \u001b[36mduration_threshold__numeric\u001b[0m=\u001b[35m10000\u001b[0m \u001b[36menvironment\u001b[0m=\u001b[35mlocal\u001b[0m \u001b[36mfile_path\u001b[0m=\u001b[35m/Users/dima/hiredscore/gimme/hs_gimme/db_facade/slow_logs_utils.py\u001b[0m \u001b[36mfunction_name\u001b[0m=\u001b[35mwrite_slow_log\u001b[0m \u001b[36mhostname\u001b[0m=\u001b[35mDima-Shulga-MacBook-Pro\u001b[0m \u001b[36mline_number\u001b[0m=\u001b[35m11\u001b[0m \u001b[36mmodule\u001b[0m=\u001b[35mhs_gimme.db_facade.slow_logs_utils\u001b[0m \u001b[36mpid\u001b[0m=\u001b[35m90812\u001b[0m \u001b[36mrequest_id\u001b[0m=\u001b[35m1312349943\u001b[0m \u001b[36msource\u001b[0m=\u001b[35mPyMongo\u001b[0m \u001b[36mstack_snippet\u001b[0m=\u001b[35m\n",
      "  File \"/var/folders/_p/8_m91crj199_rd7sndkxncc80000gp/T/ipykernel_90812/702987640.py\", line 1, in <module>\n",
      "    apps = list(tqdm(mongo.application.find(apps_q, apps_p)))\n",
      "\u001b[0m\n"
     ]
    },
    {
     "name": "stderr",
     "output_type": "stream",
     "text": [
      "386290it [41:31, 181.80it/s]"
     ]
    },
    {
     "name": "stdout",
     "output_type": "stream",
     "text": [
      "\u001b[2m2023-08-10T16:46:38.956192Z\u001b[0m [\u001b[33m\u001b[1mwarning  \u001b[0m] \u001b[1mSlowLog                       \u001b[0m \u001b[36mcommand_name\u001b[0m=\u001b[35mgetMore\u001b[0m \u001b[36mconnection_id\u001b[0m=\u001b[35mapplicativedb-prod-mongos-1.omcomcom.com:27017\u001b[0m \u001b[36mduration_ms__numeric\u001b[0m=\u001b[35m194809.191\u001b[0m \u001b[36mduration_threshold__numeric\u001b[0m=\u001b[35m10000\u001b[0m \u001b[36menvironment\u001b[0m=\u001b[35mlocal\u001b[0m \u001b[36mfile_path\u001b[0m=\u001b[35m/Users/dima/hiredscore/gimme/hs_gimme/db_facade/slow_logs_utils.py\u001b[0m \u001b[36mfunction_name\u001b[0m=\u001b[35mwrite_slow_log\u001b[0m \u001b[36mhostname\u001b[0m=\u001b[35mDima-Shulga-MacBook-Pro\u001b[0m \u001b[36mline_number\u001b[0m=\u001b[35m11\u001b[0m \u001b[36mmodule\u001b[0m=\u001b[35mhs_gimme.db_facade.slow_logs_utils\u001b[0m \u001b[36mpid\u001b[0m=\u001b[35m90812\u001b[0m \u001b[36mrequest_id\u001b[0m=\u001b[35m1974593928\u001b[0m \u001b[36msource\u001b[0m=\u001b[35mPyMongo\u001b[0m \u001b[36mstack_snippet\u001b[0m=\u001b[35m\n",
      "  File \"/var/folders/_p/8_m91crj199_rd7sndkxncc80000gp/T/ipykernel_90812/702987640.py\", line 1, in <module>\n",
      "    apps = list(tqdm(mongo.application.find(apps_q, apps_p)))\n",
      "\u001b[0m\n"
     ]
    },
    {
     "name": "stderr",
     "output_type": "stream",
     "text": [
      "440372it [44:51, 203.88it/s]"
     ]
    },
    {
     "name": "stdout",
     "output_type": "stream",
     "text": [
      "\u001b[2m2023-08-10T16:52:23.366102Z\u001b[0m [\u001b[33m\u001b[1mwarning  \u001b[0m] \u001b[1mSlowLog                       \u001b[0m \u001b[36mcommand_name\u001b[0m=\u001b[35mgetMore\u001b[0m \u001b[36mconnection_id\u001b[0m=\u001b[35mapplicativedb-prod-mongos-1.omcomcom.com:27017\u001b[0m \u001b[36mduration_ms__numeric\u001b[0m=\u001b[35m344360.361\u001b[0m \u001b[36mduration_threshold__numeric\u001b[0m=\u001b[35m10000\u001b[0m \u001b[36menvironment\u001b[0m=\u001b[35mlocal\u001b[0m \u001b[36mfile_path\u001b[0m=\u001b[35m/Users/dima/hiredscore/gimme/hs_gimme/db_facade/slow_logs_utils.py\u001b[0m \u001b[36mfunction_name\u001b[0m=\u001b[35mwrite_slow_log\u001b[0m \u001b[36mhostname\u001b[0m=\u001b[35mDima-Shulga-MacBook-Pro\u001b[0m \u001b[36mline_number\u001b[0m=\u001b[35m11\u001b[0m \u001b[36mmodule\u001b[0m=\u001b[35mhs_gimme.db_facade.slow_logs_utils\u001b[0m \u001b[36mpid\u001b[0m=\u001b[35m90812\u001b[0m \u001b[36mrequest_id\u001b[0m=\u001b[35m1705698828\u001b[0m \u001b[36msource\u001b[0m=\u001b[35mPyMongo\u001b[0m \u001b[36mstack_snippet\u001b[0m=\u001b[35m\n",
      "  File \"/var/folders/_p/8_m91crj199_rd7sndkxncc80000gp/T/ipykernel_90812/702987640.py\", line 1, in <module>\n",
      "    apps = list(tqdm(mongo.application.find(apps_q, apps_p)))\n",
      "\u001b[0m\n"
     ]
    },
    {
     "name": "stderr",
     "output_type": "stream",
     "text": [
      "495705it [50:31, 187.98it/s]"
     ]
    },
    {
     "name": "stdout",
     "output_type": "stream",
     "text": [
      "\u001b[2m2023-08-10T16:59:16.368419Z\u001b[0m [\u001b[33m\u001b[1mwarning  \u001b[0m] \u001b[1mSlowLog                       \u001b[0m \u001b[36mcommand_name\u001b[0m=\u001b[35mgetMore\u001b[0m \u001b[36mconnection_id\u001b[0m=\u001b[35mapplicativedb-prod-mongos-1.omcomcom.com:27017\u001b[0m \u001b[36mduration_ms__numeric\u001b[0m=\u001b[35m412959.104\u001b[0m \u001b[36mduration_threshold__numeric\u001b[0m=\u001b[35m10000\u001b[0m \u001b[36menvironment\u001b[0m=\u001b[35mlocal\u001b[0m \u001b[36mfile_path\u001b[0m=\u001b[35m/Users/dima/hiredscore/gimme/hs_gimme/db_facade/slow_logs_utils.py\u001b[0m \u001b[36mfunction_name\u001b[0m=\u001b[35mwrite_slow_log\u001b[0m \u001b[36mhostname\u001b[0m=\u001b[35mDima-Shulga-MacBook-Pro\u001b[0m \u001b[36mline_number\u001b[0m=\u001b[35m11\u001b[0m \u001b[36mmodule\u001b[0m=\u001b[35mhs_gimme.db_facade.slow_logs_utils\u001b[0m \u001b[36mpid\u001b[0m=\u001b[35m90812\u001b[0m \u001b[36mrequest_id\u001b[0m=\u001b[35m871419461\u001b[0m \u001b[36msource\u001b[0m=\u001b[35mPyMongo\u001b[0m \u001b[36mstack_snippet\u001b[0m=\u001b[35m\n",
      "  File \"/var/folders/_p/8_m91crj199_rd7sndkxncc80000gp/T/ipykernel_90812/702987640.py\", line 1, in <module>\n",
      "    apps = list(tqdm(mongo.application.find(apps_q, apps_p)))\n",
      "\u001b[0m\n"
     ]
    },
    {
     "name": "stderr",
     "output_type": "stream",
     "text": [
      "548345it [57:21, 164.58it/s]"
     ]
    },
    {
     "name": "stdout",
     "output_type": "stream",
     "text": [
      "\u001b[2m2023-08-10T17:05:29.082168Z\u001b[0m [\u001b[33m\u001b[1mwarning  \u001b[0m] \u001b[1mSlowLog                       \u001b[0m \u001b[36mcommand_name\u001b[0m=\u001b[35mgetMore\u001b[0m \u001b[36mconnection_id\u001b[0m=\u001b[35mapplicativedb-prod-mongos-1.omcomcom.com:27017\u001b[0m \u001b[36mduration_ms__numeric\u001b[0m=\u001b[35m372670.144\u001b[0m \u001b[36mduration_threshold__numeric\u001b[0m=\u001b[35m10000\u001b[0m \u001b[36menvironment\u001b[0m=\u001b[35mlocal\u001b[0m \u001b[36mfile_path\u001b[0m=\u001b[35m/Users/dima/hiredscore/gimme/hs_gimme/db_facade/slow_logs_utils.py\u001b[0m \u001b[36mfunction_name\u001b[0m=\u001b[35mwrite_slow_log\u001b[0m \u001b[36mhostname\u001b[0m=\u001b[35mDima-Shulga-MacBook-Pro\u001b[0m \u001b[36mline_number\u001b[0m=\u001b[35m11\u001b[0m \u001b[36mmodule\u001b[0m=\u001b[35mhs_gimme.db_facade.slow_logs_utils\u001b[0m \u001b[36mpid\u001b[0m=\u001b[35m90812\u001b[0m \u001b[36mrequest_id\u001b[0m=\u001b[35m1564026392\u001b[0m \u001b[36msource\u001b[0m=\u001b[35mPyMongo\u001b[0m \u001b[36mstack_snippet\u001b[0m=\u001b[35m\n",
      "  File \"/var/folders/_p/8_m91crj199_rd7sndkxncc80000gp/T/ipykernel_90812/702987640.py\", line 1, in <module>\n",
      "    apps = list(tqdm(mongo.application.find(apps_q, apps_p)))\n",
      "\u001b[0m\n"
     ]
    },
    {
     "name": "stderr",
     "output_type": "stream",
     "text": [
      "601521it [1:03:32, 157.29it/s]"
     ]
    },
    {
     "name": "stdout",
     "output_type": "stream",
     "text": [
      "\u001b[2m2023-08-10T17:09:39.578950Z\u001b[0m [\u001b[33m\u001b[1mwarning  \u001b[0m] \u001b[1mSlowLog                       \u001b[0m \u001b[36mcommand_name\u001b[0m=\u001b[35mgetMore\u001b[0m \u001b[36mconnection_id\u001b[0m=\u001b[35mapplicativedb-prod-mongos-1.omcomcom.com:27017\u001b[0m \u001b[36mduration_ms__numeric\u001b[0m=\u001b[35m250451.932\u001b[0m \u001b[36mduration_threshold__numeric\u001b[0m=\u001b[35m10000\u001b[0m \u001b[36menvironment\u001b[0m=\u001b[35mlocal\u001b[0m \u001b[36mfile_path\u001b[0m=\u001b[35m/Users/dima/hiredscore/gimme/hs_gimme/db_facade/slow_logs_utils.py\u001b[0m \u001b[36mfunction_name\u001b[0m=\u001b[35mwrite_slow_log\u001b[0m \u001b[36mhostname\u001b[0m=\u001b[35mDima-Shulga-MacBook-Pro\u001b[0m \u001b[36mline_number\u001b[0m=\u001b[35m11\u001b[0m \u001b[36mmodule\u001b[0m=\u001b[35mhs_gimme.db_facade.slow_logs_utils\u001b[0m \u001b[36mpid\u001b[0m=\u001b[35m90812\u001b[0m \u001b[36mrequest_id\u001b[0m=\u001b[35m985509754\u001b[0m \u001b[36msource\u001b[0m=\u001b[35mPyMongo\u001b[0m \u001b[36mstack_snippet\u001b[0m=\u001b[35m\n",
      "  File \"/var/folders/_p/8_m91crj199_rd7sndkxncc80000gp/T/ipykernel_90812/702987640.py\", line 1, in <module>\n",
      "    apps = list(tqdm(mongo.application.find(apps_q, apps_p)))\n",
      "\u001b[0m\n"
     ]
    },
    {
     "name": "stderr",
     "output_type": "stream",
     "text": [
      "656663it [1:07:52, 172.50it/s]"
     ]
    },
    {
     "name": "stdout",
     "output_type": "stream",
     "text": [
      "\u001b[2m2023-08-10T17:14:43.589046Z\u001b[0m [\u001b[33m\u001b[1mwarning  \u001b[0m] \u001b[1mSlowLog                       \u001b[0m \u001b[36mcommand_name\u001b[0m=\u001b[35mgetMore\u001b[0m \u001b[36mconnection_id\u001b[0m=\u001b[35mapplicativedb-prod-mongos-1.omcomcom.com:27017\u001b[0m \u001b[36mduration_ms__numeric\u001b[0m=\u001b[35m303963.643\u001b[0m \u001b[36mduration_threshold__numeric\u001b[0m=\u001b[35m10000\u001b[0m \u001b[36menvironment\u001b[0m=\u001b[35mlocal\u001b[0m \u001b[36mfile_path\u001b[0m=\u001b[35m/Users/dima/hiredscore/gimme/hs_gimme/db_facade/slow_logs_utils.py\u001b[0m \u001b[36mfunction_name\u001b[0m=\u001b[35mwrite_slow_log\u001b[0m \u001b[36mhostname\u001b[0m=\u001b[35mDima-Shulga-MacBook-Pro\u001b[0m \u001b[36mline_number\u001b[0m=\u001b[35m11\u001b[0m \u001b[36mmodule\u001b[0m=\u001b[35mhs_gimme.db_facade.slow_logs_utils\u001b[0m \u001b[36mpid\u001b[0m=\u001b[35m90812\u001b[0m \u001b[36mrequest_id\u001b[0m=\u001b[35m1803447838\u001b[0m \u001b[36msource\u001b[0m=\u001b[35mPyMongo\u001b[0m \u001b[36mstack_snippet\u001b[0m=\u001b[35m\n",
      "  File \"/var/folders/_p/8_m91crj199_rd7sndkxncc80000gp/T/ipykernel_90812/702987640.py\", line 1, in <module>\n",
      "    apps = list(tqdm(mongo.application.find(apps_q, apps_p)))\n",
      "\u001b[0m\n"
     ]
    },
    {
     "name": "stderr",
     "output_type": "stream",
     "text": [
      "714191it [1:12:52, 177.45it/s]"
     ]
    },
    {
     "name": "stdout",
     "output_type": "stream",
     "text": [
      "\u001b[2m2023-08-10T17:20:29.687269Z\u001b[0m [\u001b[33m\u001b[1mwarning  \u001b[0m] \u001b[1mSlowLog                       \u001b[0m \u001b[36mcommand_name\u001b[0m=\u001b[35mgetMore\u001b[0m \u001b[36mconnection_id\u001b[0m=\u001b[35mapplicativedb-prod-mongos-1.omcomcom.com:27017\u001b[0m \u001b[36mduration_ms__numeric\u001b[0m=\u001b[35m346055.466\u001b[0m \u001b[36mduration_threshold__numeric\u001b[0m=\u001b[35m10000\u001b[0m \u001b[36menvironment\u001b[0m=\u001b[35mlocal\u001b[0m \u001b[36mfile_path\u001b[0m=\u001b[35m/Users/dima/hiredscore/gimme/hs_gimme/db_facade/slow_logs_utils.py\u001b[0m \u001b[36mfunction_name\u001b[0m=\u001b[35mwrite_slow_log\u001b[0m \u001b[36mhostname\u001b[0m=\u001b[35mDima-Shulga-MacBook-Pro\u001b[0m \u001b[36mline_number\u001b[0m=\u001b[35m11\u001b[0m \u001b[36mmodule\u001b[0m=\u001b[35mhs_gimme.db_facade.slow_logs_utils\u001b[0m \u001b[36mpid\u001b[0m=\u001b[35m90812\u001b[0m \u001b[36mrequest_id\u001b[0m=\u001b[35m737637591\u001b[0m \u001b[36msource\u001b[0m=\u001b[35mPyMongo\u001b[0m \u001b[36mstack_snippet\u001b[0m=\u001b[35m\n",
      "  File \"/var/folders/_p/8_m91crj199_rd7sndkxncc80000gp/T/ipykernel_90812/702987640.py\", line 1, in <module>\n",
      "    apps = list(tqdm(mongo.application.find(apps_q, apps_p)))\n",
      "\u001b[0m\n"
     ]
    },
    {
     "name": "stderr",
     "output_type": "stream",
     "text": [
      "769247it [1:18:33, 171.48it/s]"
     ]
    },
    {
     "name": "stdout",
     "output_type": "stream",
     "text": [
      "\u001b[2m2023-08-10T17:28:17.434452Z\u001b[0m [\u001b[33m\u001b[1mwarning  \u001b[0m] \u001b[1mSlowLog                       \u001b[0m \u001b[36mcommand_name\u001b[0m=\u001b[35mgetMore\u001b[0m \u001b[36mconnection_id\u001b[0m=\u001b[35mapplicativedb-prod-mongos-1.omcomcom.com:27017\u001b[0m \u001b[36mduration_ms__numeric\u001b[0m=\u001b[35m467705.509\u001b[0m \u001b[36mduration_threshold__numeric\u001b[0m=\u001b[35m10000\u001b[0m \u001b[36menvironment\u001b[0m=\u001b[35mlocal\u001b[0m \u001b[36mfile_path\u001b[0m=\u001b[35m/Users/dima/hiredscore/gimme/hs_gimme/db_facade/slow_logs_utils.py\u001b[0m \u001b[36mfunction_name\u001b[0m=\u001b[35mwrite_slow_log\u001b[0m \u001b[36mhostname\u001b[0m=\u001b[35mDima-Shulga-MacBook-Pro\u001b[0m \u001b[36mline_number\u001b[0m=\u001b[35m11\u001b[0m \u001b[36mmodule\u001b[0m=\u001b[35mhs_gimme.db_facade.slow_logs_utils\u001b[0m \u001b[36mpid\u001b[0m=\u001b[35m90812\u001b[0m \u001b[36mrequest_id\u001b[0m=\u001b[35m1175535203\u001b[0m \u001b[36msource\u001b[0m=\u001b[35mPyMongo\u001b[0m \u001b[36mstack_snippet\u001b[0m=\u001b[35m\n",
      "  File \"/var/folders/_p/8_m91crj199_rd7sndkxncc80000gp/T/ipykernel_90812/702987640.py\", line 1, in <module>\n",
      "    apps = list(tqdm(mongo.application.find(apps_q, apps_p)))\n",
      "\u001b[0m\n"
     ]
    },
    {
     "name": "stderr",
     "output_type": "stream",
     "text": [
      "821068it [1:26:23, 148.10it/s]"
     ]
    },
    {
     "name": "stdout",
     "output_type": "stream",
     "text": [
      "\u001b[2m2023-08-10T17:37:48.373862Z\u001b[0m [\u001b[33m\u001b[1mwarning  \u001b[0m] \u001b[1mSlowLog                       \u001b[0m \u001b[36mcommand_name\u001b[0m=\u001b[35mgetMore\u001b[0m \u001b[36mconnection_id\u001b[0m=\u001b[35mapplicativedb-prod-mongos-1.omcomcom.com:27017\u001b[0m \u001b[36mduration_ms__numeric\u001b[0m=\u001b[35m570892.123\u001b[0m \u001b[36mduration_threshold__numeric\u001b[0m=\u001b[35m10000\u001b[0m \u001b[36menvironment\u001b[0m=\u001b[35mlocal\u001b[0m \u001b[36mfile_path\u001b[0m=\u001b[35m/Users/dima/hiredscore/gimme/hs_gimme/db_facade/slow_logs_utils.py\u001b[0m \u001b[36mfunction_name\u001b[0m=\u001b[35mwrite_slow_log\u001b[0m \u001b[36mhostname\u001b[0m=\u001b[35mDima-Shulga-MacBook-Pro\u001b[0m \u001b[36mline_number\u001b[0m=\u001b[35m11\u001b[0m \u001b[36mmodule\u001b[0m=\u001b[35mhs_gimme.db_facade.slow_logs_utils\u001b[0m \u001b[36mpid\u001b[0m=\u001b[35m90812\u001b[0m \u001b[36mrequest_id\u001b[0m=\u001b[35m579642951\u001b[0m \u001b[36msource\u001b[0m=\u001b[35mPyMongo\u001b[0m \u001b[36mstack_snippet\u001b[0m=\u001b[35m\n",
      "  File \"/var/folders/_p/8_m91crj199_rd7sndkxncc80000gp/T/ipykernel_90812/702987640.py\", line 1, in <module>\n",
      "    apps = list(tqdm(mongo.application.find(apps_q, apps_p)))\n",
      "\u001b[0m\n"
     ]
    },
    {
     "name": "stderr",
     "output_type": "stream",
     "text": [
      "874501it [1:35:53, 126.19it/s]"
     ]
    },
    {
     "name": "stdout",
     "output_type": "stream",
     "text": [
      "\u001b[2m2023-08-10T17:44:33.088151Z\u001b[0m [\u001b[33m\u001b[1mwarning  \u001b[0m] \u001b[1mSlowLog                       \u001b[0m \u001b[36mcommand_name\u001b[0m=\u001b[35mgetMore\u001b[0m \u001b[36mconnection_id\u001b[0m=\u001b[35mapplicativedb-prod-mongos-1.omcomcom.com:27017\u001b[0m \u001b[36mduration_ms__numeric\u001b[0m=\u001b[35m404668.889\u001b[0m \u001b[36mduration_threshold__numeric\u001b[0m=\u001b[35m10000\u001b[0m \u001b[36menvironment\u001b[0m=\u001b[35mlocal\u001b[0m \u001b[36mfile_path\u001b[0m=\u001b[35m/Users/dima/hiredscore/gimme/hs_gimme/db_facade/slow_logs_utils.py\u001b[0m \u001b[36mfunction_name\u001b[0m=\u001b[35mwrite_slow_log\u001b[0m \u001b[36mhostname\u001b[0m=\u001b[35mDima-Shulga-MacBook-Pro\u001b[0m \u001b[36mline_number\u001b[0m=\u001b[35m11\u001b[0m \u001b[36mmodule\u001b[0m=\u001b[35mhs_gimme.db_facade.slow_logs_utils\u001b[0m \u001b[36mpid\u001b[0m=\u001b[35m90812\u001b[0m \u001b[36mrequest_id\u001b[0m=\u001b[35m530483715\u001b[0m \u001b[36msource\u001b[0m=\u001b[35mPyMongo\u001b[0m \u001b[36mstack_snippet\u001b[0m=\u001b[35m\n",
      "  File \"/var/folders/_p/8_m91crj199_rd7sndkxncc80000gp/T/ipykernel_90812/702987640.py\", line 1, in <module>\n",
      "    apps = list(tqdm(mongo.application.find(apps_q, apps_p)))\n",
      "\u001b[0m\n"
     ]
    },
    {
     "name": "stderr",
     "output_type": "stream",
     "text": [
      "927712it [1:42:43, 127.72it/s]"
     ]
    },
    {
     "name": "stdout",
     "output_type": "stream",
     "text": [
      "\u001b[2m2023-08-10T17:46:48.907430Z\u001b[0m [\u001b[33m\u001b[1mwarning  \u001b[0m] \u001b[1mSlowLog                       \u001b[0m \u001b[36mcommand_name\u001b[0m=\u001b[35mgetMore\u001b[0m \u001b[36mconnection_id\u001b[0m=\u001b[35mapplicativedb-prod-mongos-1.omcomcom.com:27017\u001b[0m \u001b[36mduration_ms__numeric\u001b[0m=\u001b[35m135772.966\u001b[0m \u001b[36mduration_threshold__numeric\u001b[0m=\u001b[35m10000\u001b[0m \u001b[36menvironment\u001b[0m=\u001b[35mlocal\u001b[0m \u001b[36mfile_path\u001b[0m=\u001b[35m/Users/dima/hiredscore/gimme/hs_gimme/db_facade/slow_logs_utils.py\u001b[0m \u001b[36mfunction_name\u001b[0m=\u001b[35mwrite_slow_log\u001b[0m \u001b[36mhostname\u001b[0m=\u001b[35mDima-Shulga-MacBook-Pro\u001b[0m \u001b[36mline_number\u001b[0m=\u001b[35m11\u001b[0m \u001b[36mmodule\u001b[0m=\u001b[35mhs_gimme.db_facade.slow_logs_utils\u001b[0m \u001b[36mpid\u001b[0m=\u001b[35m90812\u001b[0m \u001b[36mrequest_id\u001b[0m=\u001b[35m1755440423\u001b[0m \u001b[36msource\u001b[0m=\u001b[35mPyMongo\u001b[0m \u001b[36mstack_snippet\u001b[0m=\u001b[35m\n",
      "  File \"/var/folders/_p/8_m91crj199_rd7sndkxncc80000gp/T/ipykernel_90812/702987640.py\", line 1, in <module>\n",
      "    apps = list(tqdm(mongo.application.find(apps_q, apps_p)))\n",
      "\u001b[0m\n"
     ]
    },
    {
     "name": "stderr",
     "output_type": "stream",
     "text": [
      "981406it [1:44:53, 160.31it/s]"
     ]
    },
    {
     "name": "stdout",
     "output_type": "stream",
     "text": [
      "\u001b[2m2023-08-10T17:49:04.781926Z\u001b[0m [\u001b[33m\u001b[1mwarning  \u001b[0m] \u001b[1mSlowLog                       \u001b[0m \u001b[36mcommand_name\u001b[0m=\u001b[35mgetMore\u001b[0m \u001b[36mconnection_id\u001b[0m=\u001b[35mapplicativedb-prod-mongos-1.omcomcom.com:27017\u001b[0m \u001b[36mduration_ms__numeric\u001b[0m=\u001b[35m135830.088\u001b[0m \u001b[36mduration_threshold__numeric\u001b[0m=\u001b[35m10000\u001b[0m \u001b[36menvironment\u001b[0m=\u001b[35mlocal\u001b[0m \u001b[36mfile_path\u001b[0m=\u001b[35m/Users/dima/hiredscore/gimme/hs_gimme/db_facade/slow_logs_utils.py\u001b[0m \u001b[36mfunction_name\u001b[0m=\u001b[35mwrite_slow_log\u001b[0m \u001b[36mhostname\u001b[0m=\u001b[35mDima-Shulga-MacBook-Pro\u001b[0m \u001b[36mline_number\u001b[0m=\u001b[35m11\u001b[0m \u001b[36mmodule\u001b[0m=\u001b[35mhs_gimme.db_facade.slow_logs_utils\u001b[0m \u001b[36mpid\u001b[0m=\u001b[35m90812\u001b[0m \u001b[36mrequest_id\u001b[0m=\u001b[35m1453526593\u001b[0m \u001b[36msource\u001b[0m=\u001b[35mPyMongo\u001b[0m \u001b[36mstack_snippet\u001b[0m=\u001b[35m\n",
      "  File \"/var/folders/_p/8_m91crj199_rd7sndkxncc80000gp/T/ipykernel_90812/702987640.py\", line 1, in <module>\n",
      "    apps = list(tqdm(mongo.application.find(apps_q, apps_p)))\n",
      "\u001b[0m\n"
     ]
    },
    {
     "name": "stderr",
     "output_type": "stream",
     "text": [
      "1035773it [1:47:13, 195.86it/s]"
     ]
    },
    {
     "name": "stdout",
     "output_type": "stream",
     "text": [
      "\u001b[2m2023-08-10T17:50:27.723940Z\u001b[0m [\u001b[33m\u001b[1mwarning  \u001b[0m] \u001b[1mSlowLog                       \u001b[0m \u001b[36mcommand_name\u001b[0m=\u001b[35mgetMore\u001b[0m \u001b[36mconnection_id\u001b[0m=\u001b[35mapplicativedb-prod-mongos-1.omcomcom.com:27017\u001b[0m \u001b[36mduration_ms__numeric\u001b[0m=\u001b[35m82897.141\u001b[0m \u001b[36mduration_threshold__numeric\u001b[0m=\u001b[35m10000\u001b[0m \u001b[36menvironment\u001b[0m=\u001b[35mlocal\u001b[0m \u001b[36mfile_path\u001b[0m=\u001b[35m/Users/dima/hiredscore/gimme/hs_gimme/db_facade/slow_logs_utils.py\u001b[0m \u001b[36mfunction_name\u001b[0m=\u001b[35mwrite_slow_log\u001b[0m \u001b[36mhostname\u001b[0m=\u001b[35mDima-Shulga-MacBook-Pro\u001b[0m \u001b[36mline_number\u001b[0m=\u001b[35m11\u001b[0m \u001b[36mmodule\u001b[0m=\u001b[35mhs_gimme.db_facade.slow_logs_utils\u001b[0m \u001b[36mpid\u001b[0m=\u001b[35m90812\u001b[0m \u001b[36mrequest_id\u001b[0m=\u001b[35m753698822\u001b[0m \u001b[36msource\u001b[0m=\u001b[35mPyMongo\u001b[0m \u001b[36mstack_snippet\u001b[0m=\u001b[35m\n",
      "  File \"/var/folders/_p/8_m91crj199_rd7sndkxncc80000gp/T/ipykernel_90812/702987640.py\", line 1, in <module>\n",
      "    apps = list(tqdm(mongo.application.find(apps_q, apps_p)))\n",
      "\u001b[0m\n"
     ]
    },
    {
     "name": "stderr",
     "output_type": "stream",
     "text": [
      "1127751it [1:48:20, 173.47it/s]\n"
     ]
    },
    {
     "data": {
      "text/plain": [
       "1127751"
      ]
     },
     "execution_count": 9,
     "metadata": {},
     "output_type": "execute_result"
    }
   ],
   "source": [
    "apps = list(tqdm(mongo.application.find(apps_q, apps_p)))\n",
    "len(apps)"
   ]
  },
  {
   "cell_type": "code",
   "execution_count": 10,
   "id": "71986a3a-7bf0-48fc-ad2e-542216ddbe75",
   "metadata": {
    "tags": []
   },
   "outputs": [],
   "source": [
    "df = pd.DataFrame(apps)"
   ]
  },
  {
   "cell_type": "code",
   "execution_count": 11,
   "id": "8bfb5058-3d70-4359-a578-605e18bbf43f",
   "metadata": {},
   "outputs": [
    {
     "data": {
      "text/plain": [
       "1    552164\n",
       "4    414713\n",
       "3     88697\n",
       "2     72177\n",
       "Name: HS Simplified Output, dtype: int64"
      ]
     },
     "execution_count": 11,
     "metadata": {},
     "output_type": "execute_result"
    }
   ],
   "source": [
    "df['HS Simplified Output'] = df['grade_data'].apply(lambda g: int(g['explainable_score_data']['explain']['raw_grade_without_rnd']))\n",
    "df['HS Simplified Output'].value_counts()"
   ]
  },
  {
   "cell_type": "markdown",
   "id": "8e800186-a8cd-4720-91b3-e46e77bc1ccb",
   "metadata": {
    "tags": []
   },
   "source": [
    "### def get_years_of_experience_group(samurai_json):\n",
    "    years_from = 0\n",
    "    for years_to in [0, 1, 2, 5, 8, 12]:\n",
    "        if years_from < samurai_json['total_years_of_experience'] <= years_to:\n",
    "            return f'Between {years_from} to {years_to}'\n",
    "        \n",
    "        years_from = years_to\n",
    "            \n",
    "    return 'greater than 12'"
   ]
  },
  {
   "cell_type": "code",
   "execution_count": 13,
   "id": "9559916b-a328-4f0d-9bdb-2446512b7d6c",
   "metadata": {},
   "outputs": [
    {
     "data": {
      "text/plain": [
       "greater than 12    348693\n",
       "Beteen 2 to 5      256846\n",
       "Beteen 5 to 8      198014\n",
       "Beteen 8 to 12     180341\n",
       "Beteen 1 to 2       77164\n",
       "Beteen 0 to 1       66693\n",
       "Name: years_of_experience, dtype: int64"
      ]
     },
     "execution_count": 13,
     "metadata": {},
     "output_type": "execute_result"
    }
   ],
   "source": [
    "df['years_of_experience'] = df['samurai_json'].apply(get_years_of_experience_group)\n",
    "df['years_of_experience'].value_counts()"
   ]
  },
  {
   "cell_type": "code",
   "execution_count": 14,
   "id": "ba531ad7-6ffb-48e4-9b42-89eef9ade73b",
   "metadata": {
    "tags": []
   },
   "outputs": [
    {
     "data": {
      "text/plain": [
       "NONE                                786571\n",
       "White                               164626\n",
       "Asian                                73130\n",
       "Black or African American            63893\n",
       "Native American                      12073\n",
       "Decline to Identify                  11931\n",
       "Other                                 6390\n",
       "Two or more races                     3946\n",
       "Middle Eastern                        2718\n",
       "Hispanic or Latino                    2469\n",
       "American Indian or Alaska Native         4\n",
       "Name: race, dtype: int64"
      ]
     },
     "execution_count": 14,
     "metadata": {},
     "output_type": "execute_result"
    }
   ],
   "source": [
    "df['race'] = df['ats_application'].apply(lambda a: a.get('eeo', {}).get('race', 'NONE'))\n",
    "df['race'].value_counts()"
   ]
  },
  {
   "cell_type": "code",
   "execution_count": 15,
   "id": "3b9ed3c8-2b56-4154-a978-580ff5a0a159",
   "metadata": {
    "tags": []
   },
   "outputs": [
    {
     "data": {
      "text/plain": [
       "Male                   613475\n",
       "Female                 444170\n",
       "NONE                    64835\n",
       "Decline to Identify      5082\n",
       "Other                     189\n",
       "Name: gender, dtype: int64"
      ]
     },
     "execution_count": 15,
     "metadata": {},
     "output_type": "execute_result"
    }
   ],
   "source": [
    "df['gender'] = df['ats_application'].apply(lambda a: a.get('eeo', {}).get('gender', 'NONE'))\n",
    "df['gender'].value_counts()"
   ]
  },
  {
   "cell_type": "code",
   "execution_count": 16,
   "id": "d6f98215-3a45-4da1-bd56-305d8a1fa2ea",
   "metadata": {
    "tags": []
   },
   "outputs": [
    {
     "data": {
      "text/plain": [
       "False    1102851\n",
       "True       24900\n",
       "Name: is_internal, dtype: int64"
      ]
     },
     "execution_count": 16,
     "metadata": {},
     "output_type": "execute_result"
    }
   ],
   "source": [
    "df['is_internal'].value_counts()"
   ]
  },
  {
   "cell_type": "code",
   "execution_count": 17,
   "id": "952f1e02-aa9c-41d9-81c9-9ce0877a667c",
   "metadata": {
    "tags": []
   },
   "outputs": [
    {
     "data": {
      "text/plain": [
       "0.4463839978860582"
      ]
     },
     "execution_count": 17,
     "metadata": {},
     "output_type": "execute_result"
    }
   ],
   "source": [
    "df['is_priority'] = df['HS Simplified Output'].isin({3, 4})\n",
    "df['is_priority'].mean()"
   ]
  },
  {
   "cell_type": "code",
   "execution_count": 18,
   "id": "458500ab-30a3-4f40-9bdd-94ac2d9f3241",
   "metadata": {
    "tags": []
   },
   "outputs": [],
   "source": [
    "fields_to_filter = {\n",
    "    'gender': GENDERS,\n",
    "    'race': RACES\n",
    "}"
   ]
  },
  {
   "cell_type": "code",
   "execution_count": 22,
   "id": "2314f271-b488-4674-bfe4-56bbcc86b8b0",
   "metadata": {
    "tags": []
   },
   "outputs": [
    {
     "data": {
      "text/html": [
       "<div>\n",
       "<style scoped>\n",
       "    .dataframe tbody tr th:only-of-type {\n",
       "        vertical-align: middle;\n",
       "    }\n",
       "\n",
       "    .dataframe tbody tr th {\n",
       "        vertical-align: top;\n",
       "    }\n",
       "\n",
       "    .dataframe thead th {\n",
       "        text-align: right;\n",
       "    }\n",
       "</style>\n",
       "<table border=\"1\" class=\"dataframe\">\n",
       "  <thead>\n",
       "    <tr style=\"text-align: right;\">\n",
       "      <th></th>\n",
       "      <th></th>\n",
       "      <th>count</th>\n",
       "      <th>selection_rate</th>\n",
       "      <th>selection_rate_impact_ratio</th>\n",
       "    </tr>\n",
       "    <tr>\n",
       "      <th>is_internal</th>\n",
       "      <th>gender</th>\n",
       "      <th></th>\n",
       "      <th></th>\n",
       "      <th></th>\n",
       "    </tr>\n",
       "  </thead>\n",
       "  <tbody>\n",
       "    <tr>\n",
       "      <th rowspan=\"2\" valign=\"top\">False</th>\n",
       "      <th>Female</th>\n",
       "      <td>442852</td>\n",
       "      <td>0.431650</td>\n",
       "      <td>0.432964</td>\n",
       "    </tr>\n",
       "    <tr>\n",
       "      <th>Male</th>\n",
       "      <td>612230</td>\n",
       "      <td>0.435529</td>\n",
       "      <td>0.436855</td>\n",
       "    </tr>\n",
       "    <tr>\n",
       "      <th rowspan=\"2\" valign=\"top\">True</th>\n",
       "      <th>Female</th>\n",
       "      <td>1318</td>\n",
       "      <td>0.996965</td>\n",
       "      <td>1.000000</td>\n",
       "    </tr>\n",
       "    <tr>\n",
       "      <th>Male</th>\n",
       "      <td>1245</td>\n",
       "      <td>0.991165</td>\n",
       "      <td>0.994182</td>\n",
       "    </tr>\n",
       "    <tr>\n",
       "      <th rowspan=\"6\" valign=\"top\">False</th>\n",
       "      <th>Asian</th>\n",
       "      <td>72759</td>\n",
       "      <td>0.446282</td>\n",
       "      <td>0.446282</td>\n",
       "    </tr>\n",
       "    <tr>\n",
       "      <th>Black or African American</th>\n",
       "      <td>63545</td>\n",
       "      <td>0.512471</td>\n",
       "      <td>0.512471</td>\n",
       "    </tr>\n",
       "    <tr>\n",
       "      <th>Hispanic or Latino</th>\n",
       "      <td>2449</td>\n",
       "      <td>0.501837</td>\n",
       "      <td>0.501837</td>\n",
       "    </tr>\n",
       "    <tr>\n",
       "      <th>Middle Eastern</th>\n",
       "      <td>2715</td>\n",
       "      <td>0.485451</td>\n",
       "      <td>0.485451</td>\n",
       "    </tr>\n",
       "    <tr>\n",
       "      <th>Native American</th>\n",
       "      <td>12045</td>\n",
       "      <td>0.561478</td>\n",
       "      <td>0.561478</td>\n",
       "    </tr>\n",
       "    <tr>\n",
       "      <th>White</th>\n",
       "      <td>163922</td>\n",
       "      <td>0.559480</td>\n",
       "      <td>0.559480</td>\n",
       "    </tr>\n",
       "    <tr>\n",
       "      <th rowspan=\"6\" valign=\"top\">True</th>\n",
       "      <th>Asian</th>\n",
       "      <td>371</td>\n",
       "      <td>0.994609</td>\n",
       "      <td>0.994609</td>\n",
       "    </tr>\n",
       "    <tr>\n",
       "      <th>Black or African American</th>\n",
       "      <td>348</td>\n",
       "      <td>1.000000</td>\n",
       "      <td>1.000000</td>\n",
       "    </tr>\n",
       "    <tr>\n",
       "      <th>Hispanic or Latino</th>\n",
       "      <td>20</td>\n",
       "      <td>1.000000</td>\n",
       "      <td>1.000000</td>\n",
       "    </tr>\n",
       "    <tr>\n",
       "      <th>Middle Eastern</th>\n",
       "      <td>3</td>\n",
       "      <td>1.000000</td>\n",
       "      <td>1.000000</td>\n",
       "    </tr>\n",
       "    <tr>\n",
       "      <th>Native American</th>\n",
       "      <td>28</td>\n",
       "      <td>1.000000</td>\n",
       "      <td>1.000000</td>\n",
       "    </tr>\n",
       "    <tr>\n",
       "      <th>White</th>\n",
       "      <td>704</td>\n",
       "      <td>0.998580</td>\n",
       "      <td>0.998580</td>\n",
       "    </tr>\n",
       "    <tr>\n",
       "      <th rowspan=\"12\" valign=\"top\">False</th>\n",
       "      <th>Female</th>\n",
       "      <td>32059</td>\n",
       "      <td>0.434917</td>\n",
       "      <td>0.434917</td>\n",
       "    </tr>\n",
       "    <tr>\n",
       "      <th>Female</th>\n",
       "      <td>27882</td>\n",
       "      <td>0.509146</td>\n",
       "      <td>0.509146</td>\n",
       "    </tr>\n",
       "    <tr>\n",
       "      <th>Female</th>\n",
       "      <td>1262</td>\n",
       "      <td>0.509509</td>\n",
       "      <td>0.509509</td>\n",
       "    </tr>\n",
       "    <tr>\n",
       "      <th>Female</th>\n",
       "      <td>1050</td>\n",
       "      <td>0.479048</td>\n",
       "      <td>0.479048</td>\n",
       "    </tr>\n",
       "    <tr>\n",
       "      <th>Female</th>\n",
       "      <td>5261</td>\n",
       "      <td>0.573845</td>\n",
       "      <td>0.573845</td>\n",
       "    </tr>\n",
       "    <tr>\n",
       "      <th>Female</th>\n",
       "      <td>80277</td>\n",
       "      <td>0.566202</td>\n",
       "      <td>0.566202</td>\n",
       "    </tr>\n",
       "    <tr>\n",
       "      <th>Male</th>\n",
       "      <td>39942</td>\n",
       "      <td>0.455561</td>\n",
       "      <td>0.455561</td>\n",
       "    </tr>\n",
       "    <tr>\n",
       "      <th>Male</th>\n",
       "      <td>35342</td>\n",
       "      <td>0.515336</td>\n",
       "      <td>0.515336</td>\n",
       "    </tr>\n",
       "    <tr>\n",
       "      <th>Male</th>\n",
       "      <td>1180</td>\n",
       "      <td>0.494068</td>\n",
       "      <td>0.494068</td>\n",
       "    </tr>\n",
       "    <tr>\n",
       "      <th>Male</th>\n",
       "      <td>1651</td>\n",
       "      <td>0.490612</td>\n",
       "      <td>0.490612</td>\n",
       "    </tr>\n",
       "    <tr>\n",
       "      <th>Male</th>\n",
       "      <td>6699</td>\n",
       "      <td>0.551724</td>\n",
       "      <td>0.551724</td>\n",
       "    </tr>\n",
       "    <tr>\n",
       "      <th>Male</th>\n",
       "      <td>82905</td>\n",
       "      <td>0.553103</td>\n",
       "      <td>0.553103</td>\n",
       "    </tr>\n",
       "    <tr>\n",
       "      <th rowspan=\"12\" valign=\"top\">True</th>\n",
       "      <th>Female</th>\n",
       "      <td>204</td>\n",
       "      <td>0.995098</td>\n",
       "      <td>0.995098</td>\n",
       "    </tr>\n",
       "    <tr>\n",
       "      <th>Female</th>\n",
       "      <td>156</td>\n",
       "      <td>1.000000</td>\n",
       "      <td>1.000000</td>\n",
       "    </tr>\n",
       "    <tr>\n",
       "      <th>Female</th>\n",
       "      <td>6</td>\n",
       "      <td>1.000000</td>\n",
       "      <td>1.000000</td>\n",
       "    </tr>\n",
       "    <tr>\n",
       "      <th>Female</th>\n",
       "      <td>1</td>\n",
       "      <td>1.000000</td>\n",
       "      <td>1.000000</td>\n",
       "    </tr>\n",
       "    <tr>\n",
       "      <th>Female</th>\n",
       "      <td>9</td>\n",
       "      <td>1.000000</td>\n",
       "      <td>1.000000</td>\n",
       "    </tr>\n",
       "    <tr>\n",
       "      <th>Female</th>\n",
       "      <td>376</td>\n",
       "      <td>1.000000</td>\n",
       "      <td>1.000000</td>\n",
       "    </tr>\n",
       "    <tr>\n",
       "      <th>Male</th>\n",
       "      <td>150</td>\n",
       "      <td>0.993333</td>\n",
       "      <td>0.993333</td>\n",
       "    </tr>\n",
       "    <tr>\n",
       "      <th>Male</th>\n",
       "      <td>189</td>\n",
       "      <td>1.000000</td>\n",
       "      <td>1.000000</td>\n",
       "    </tr>\n",
       "    <tr>\n",
       "      <th>Male</th>\n",
       "      <td>14</td>\n",
       "      <td>1.000000</td>\n",
       "      <td>1.000000</td>\n",
       "    </tr>\n",
       "    <tr>\n",
       "      <th>Male</th>\n",
       "      <td>2</td>\n",
       "      <td>1.000000</td>\n",
       "      <td>1.000000</td>\n",
       "    </tr>\n",
       "    <tr>\n",
       "      <th>Male</th>\n",
       "      <td>19</td>\n",
       "      <td>1.000000</td>\n",
       "      <td>1.000000</td>\n",
       "    </tr>\n",
       "    <tr>\n",
       "      <th>Male</th>\n",
       "      <td>309</td>\n",
       "      <td>0.996764</td>\n",
       "      <td>0.996764</td>\n",
       "    </tr>\n",
       "  </tbody>\n",
       "</table>\n",
       "</div>"
      ],
      "text/plain": [
       "                                        count  selection_rate  \\\n",
       "is_internal gender                                              \n",
       "False       Female                     442852        0.431650   \n",
       "            Male                       612230        0.435529   \n",
       "True        Female                       1318        0.996965   \n",
       "            Male                         1245        0.991165   \n",
       "False       Asian                       72759        0.446282   \n",
       "            Black or African American   63545        0.512471   \n",
       "            Hispanic or Latino           2449        0.501837   \n",
       "            Middle Eastern               2715        0.485451   \n",
       "            Native American             12045        0.561478   \n",
       "            White                      163922        0.559480   \n",
       "True        Asian                         371        0.994609   \n",
       "            Black or African American     348        1.000000   \n",
       "            Hispanic or Latino             20        1.000000   \n",
       "            Middle Eastern                  3        1.000000   \n",
       "            Native American                28        1.000000   \n",
       "            White                         704        0.998580   \n",
       "False       Female                      32059        0.434917   \n",
       "            Female                      27882        0.509146   \n",
       "            Female                       1262        0.509509   \n",
       "            Female                       1050        0.479048   \n",
       "            Female                       5261        0.573845   \n",
       "            Female                      80277        0.566202   \n",
       "            Male                        39942        0.455561   \n",
       "            Male                        35342        0.515336   \n",
       "            Male                         1180        0.494068   \n",
       "            Male                         1651        0.490612   \n",
       "            Male                         6699        0.551724   \n",
       "            Male                        82905        0.553103   \n",
       "True        Female                        204        0.995098   \n",
       "            Female                        156        1.000000   \n",
       "            Female                          6        1.000000   \n",
       "            Female                          1        1.000000   \n",
       "            Female                          9        1.000000   \n",
       "            Female                        376        1.000000   \n",
       "            Male                          150        0.993333   \n",
       "            Male                          189        1.000000   \n",
       "            Male                           14        1.000000   \n",
       "            Male                            2        1.000000   \n",
       "            Male                           19        1.000000   \n",
       "            Male                          309        0.996764   \n",
       "\n",
       "                                       selection_rate_impact_ratio  \n",
       "is_internal gender                                                  \n",
       "False       Female                                        0.432964  \n",
       "            Male                                          0.436855  \n",
       "True        Female                                        1.000000  \n",
       "            Male                                          0.994182  \n",
       "False       Asian                                         0.446282  \n",
       "            Black or African American                     0.512471  \n",
       "            Hispanic or Latino                            0.501837  \n",
       "            Middle Eastern                                0.485451  \n",
       "            Native American                               0.561478  \n",
       "            White                                         0.559480  \n",
       "True        Asian                                         0.994609  \n",
       "            Black or African American                     1.000000  \n",
       "            Hispanic or Latino                            1.000000  \n",
       "            Middle Eastern                                1.000000  \n",
       "            Native American                               1.000000  \n",
       "            White                                         0.998580  \n",
       "False       Female                                        0.434917  \n",
       "            Female                                        0.509146  \n",
       "            Female                                        0.509509  \n",
       "            Female                                        0.479048  \n",
       "            Female                                        0.573845  \n",
       "            Female                                        0.566202  \n",
       "            Male                                          0.455561  \n",
       "            Male                                          0.515336  \n",
       "            Male                                          0.494068  \n",
       "            Male                                          0.490612  \n",
       "            Male                                          0.551724  \n",
       "            Male                                          0.553103  \n",
       "True        Female                                        0.995098  \n",
       "            Female                                        1.000000  \n",
       "            Female                                        1.000000  \n",
       "            Female                                        1.000000  \n",
       "            Female                                        1.000000  \n",
       "            Female                                        1.000000  \n",
       "            Male                                          0.993333  \n",
       "            Male                                          1.000000  \n",
       "            Male                                          1.000000  \n",
       "            Male                                          1.000000  \n",
       "            Male                                          1.000000  \n",
       "            Male                                          0.996764  "
      ]
     },
     "execution_count": 24,
     "metadata": {},
     "output_type": "execute_result"
    }
   ],
   "source": [
    "gb_dfs = []\n",
    "for gb_fields in [['gender'], ['race'], ['gender', 'race']]:\n",
    "    \n",
    "    eeo_data = df\n",
    "    for f in gb_fields:\n",
    "        eeo_data = eeo_data[eeo_data[f].isin(fields_to_filter[f])]\n",
    "    \n",
    "    gb = eeo_data.groupby(['is_internal'] + gb_fields).agg(\n",
    "        count=('gender', 'count'),\n",
    "        selection_rate=('is_priority', 'mean'),\n",
    "    ) \n",
    "    \n",
    "    gb['selection_rate_impact_ratio'] = gb['selection_rate'] / gb['selection_rate'].max()\n",
    "    \n",
    "    gb_dfs.append(gb)\n",
    "    \n",
    "                                \n",
    "ir = pd.concat(gb_dfs)\n"
   ]
  },
  {
   "cell_type": "code",
   "execution_count": 23,
   "id": "1b629492-3796-4f46-886f-523c37ecc229",
   "metadata": {
    "tags": []
   },
   "outputs": [
    {
     "data": {
      "text/html": [
       "<div>\n",
       "<style scoped>\n",
       "    .dataframe tbody tr th:only-of-type {\n",
       "        vertical-align: middle;\n",
       "    }\n",
       "\n",
       "    .dataframe tbody tr th {\n",
       "        vertical-align: top;\n",
       "    }\n",
       "\n",
       "    .dataframe thead th {\n",
       "        text-align: right;\n",
       "    }\n",
       "</style>\n",
       "<table border=\"1\" class=\"dataframe\">\n",
       "  <thead>\n",
       "    <tr style=\"text-align: right;\">\n",
       "      <th></th>\n",
       "      <th></th>\n",
       "      <th>count</th>\n",
       "      <th>selection_rate</th>\n",
       "      <th>selection_rate_impact_ratio</th>\n",
       "    </tr>\n",
       "    <tr>\n",
       "      <th>is_internal</th>\n",
       "      <th>gender</th>\n",
       "      <th></th>\n",
       "      <th></th>\n",
       "      <th></th>\n",
       "    </tr>\n",
       "  </thead>\n",
       "  <tbody>\n",
       "    <tr>\n",
       "      <th rowspan=\"2\" valign=\"top\">False</th>\n",
       "      <th>Female</th>\n",
       "      <td>442852</td>\n",
       "      <td>0.431650</td>\n",
       "      <td>0.432964</td>\n",
       "    </tr>\n",
       "    <tr>\n",
       "      <th>Male</th>\n",
       "      <td>612230</td>\n",
       "      <td>0.435529</td>\n",
       "      <td>0.436855</td>\n",
       "    </tr>\n",
       "    <tr>\n",
       "      <th rowspan=\"2\" valign=\"top\">True</th>\n",
       "      <th>Female</th>\n",
       "      <td>1318</td>\n",
       "      <td>0.996965</td>\n",
       "      <td>1.000000</td>\n",
       "    </tr>\n",
       "    <tr>\n",
       "      <th>Male</th>\n",
       "      <td>1245</td>\n",
       "      <td>0.991165</td>\n",
       "      <td>0.994182</td>\n",
       "    </tr>\n",
       "    <tr>\n",
       "      <th rowspan=\"6\" valign=\"top\">False</th>\n",
       "      <th>Asian</th>\n",
       "      <td>72759</td>\n",
       "      <td>0.446282</td>\n",
       "      <td>0.446282</td>\n",
       "    </tr>\n",
       "    <tr>\n",
       "      <th>Black or African American</th>\n",
       "      <td>63545</td>\n",
       "      <td>0.512471</td>\n",
       "      <td>0.512471</td>\n",
       "    </tr>\n",
       "    <tr>\n",
       "      <th>Hispanic or Latino</th>\n",
       "      <td>2449</td>\n",
       "      <td>0.501837</td>\n",
       "      <td>0.501837</td>\n",
       "    </tr>\n",
       "    <tr>\n",
       "      <th>Middle Eastern</th>\n",
       "      <td>2715</td>\n",
       "      <td>0.485451</td>\n",
       "      <td>0.485451</td>\n",
       "    </tr>\n",
       "    <tr>\n",
       "      <th>Native American</th>\n",
       "      <td>12045</td>\n",
       "      <td>0.561478</td>\n",
       "      <td>0.561478</td>\n",
       "    </tr>\n",
       "    <tr>\n",
       "      <th>White</th>\n",
       "      <td>163922</td>\n",
       "      <td>0.559480</td>\n",
       "      <td>0.559480</td>\n",
       "    </tr>\n",
       "    <tr>\n",
       "      <th rowspan=\"6\" valign=\"top\">True</th>\n",
       "      <th>Asian</th>\n",
       "      <td>371</td>\n",
       "      <td>0.994609</td>\n",
       "      <td>0.994609</td>\n",
       "    </tr>\n",
       "    <tr>\n",
       "      <th>Black or African American</th>\n",
       "      <td>348</td>\n",
       "      <td>1.000000</td>\n",
       "      <td>1.000000</td>\n",
       "    </tr>\n",
       "    <tr>\n",
       "      <th>Hispanic or Latino</th>\n",
       "      <td>20</td>\n",
       "      <td>1.000000</td>\n",
       "      <td>1.000000</td>\n",
       "    </tr>\n",
       "    <tr>\n",
       "      <th>Middle Eastern</th>\n",
       "      <td>3</td>\n",
       "      <td>1.000000</td>\n",
       "      <td>1.000000</td>\n",
       "    </tr>\n",
       "    <tr>\n",
       "      <th>Native American</th>\n",
       "      <td>28</td>\n",
       "      <td>1.000000</td>\n",
       "      <td>1.000000</td>\n",
       "    </tr>\n",
       "    <tr>\n",
       "      <th>White</th>\n",
       "      <td>704</td>\n",
       "      <td>0.998580</td>\n",
       "      <td>0.998580</td>\n",
       "    </tr>\n",
       "    <tr>\n",
       "      <th rowspan=\"12\" valign=\"top\">False</th>\n",
       "      <th>Female</th>\n",
       "      <td>32059</td>\n",
       "      <td>0.434917</td>\n",
       "      <td>0.434917</td>\n",
       "    </tr>\n",
       "    <tr>\n",
       "      <th>Female</th>\n",
       "      <td>27882</td>\n",
       "      <td>0.509146</td>\n",
       "      <td>0.509146</td>\n",
       "    </tr>\n",
       "    <tr>\n",
       "      <th>Female</th>\n",
       "      <td>1262</td>\n",
       "      <td>0.509509</td>\n",
       "      <td>0.509509</td>\n",
       "    </tr>\n",
       "    <tr>\n",
       "      <th>Female</th>\n",
       "      <td>1050</td>\n",
       "      <td>0.479048</td>\n",
       "      <td>0.479048</td>\n",
       "    </tr>\n",
       "    <tr>\n",
       "      <th>Female</th>\n",
       "      <td>5261</td>\n",
       "      <td>0.573845</td>\n",
       "      <td>0.573845</td>\n",
       "    </tr>\n",
       "    <tr>\n",
       "      <th>Female</th>\n",
       "      <td>80277</td>\n",
       "      <td>0.566202</td>\n",
       "      <td>0.566202</td>\n",
       "    </tr>\n",
       "    <tr>\n",
       "      <th>Male</th>\n",
       "      <td>39942</td>\n",
       "      <td>0.455561</td>\n",
       "      <td>0.455561</td>\n",
       "    </tr>\n",
       "    <tr>\n",
       "      <th>Male</th>\n",
       "      <td>35342</td>\n",
       "      <td>0.515336</td>\n",
       "      <td>0.515336</td>\n",
       "    </tr>\n",
       "    <tr>\n",
       "      <th>Male</th>\n",
       "      <td>1180</td>\n",
       "      <td>0.494068</td>\n",
       "      <td>0.494068</td>\n",
       "    </tr>\n",
       "    <tr>\n",
       "      <th>Male</th>\n",
       "      <td>1651</td>\n",
       "      <td>0.490612</td>\n",
       "      <td>0.490612</td>\n",
       "    </tr>\n",
       "    <tr>\n",
       "      <th>Male</th>\n",
       "      <td>6699</td>\n",
       "      <td>0.551724</td>\n",
       "      <td>0.551724</td>\n",
       "    </tr>\n",
       "    <tr>\n",
       "      <th>Male</th>\n",
       "      <td>82905</td>\n",
       "      <td>0.553103</td>\n",
       "      <td>0.553103</td>\n",
       "    </tr>\n",
       "    <tr>\n",
       "      <th rowspan=\"12\" valign=\"top\">True</th>\n",
       "      <th>Female</th>\n",
       "      <td>204</td>\n",
       "      <td>0.995098</td>\n",
       "      <td>0.995098</td>\n",
       "    </tr>\n",
       "    <tr>\n",
       "      <th>Female</th>\n",
       "      <td>156</td>\n",
       "      <td>1.000000</td>\n",
       "      <td>1.000000</td>\n",
       "    </tr>\n",
       "    <tr>\n",
       "      <th>Female</th>\n",
       "      <td>6</td>\n",
       "      <td>1.000000</td>\n",
       "      <td>1.000000</td>\n",
       "    </tr>\n",
       "    <tr>\n",
       "      <th>Female</th>\n",
       "      <td>1</td>\n",
       "      <td>1.000000</td>\n",
       "      <td>1.000000</td>\n",
       "    </tr>\n",
       "    <tr>\n",
       "      <th>Female</th>\n",
       "      <td>9</td>\n",
       "      <td>1.000000</td>\n",
       "      <td>1.000000</td>\n",
       "    </tr>\n",
       "    <tr>\n",
       "      <th>Female</th>\n",
       "      <td>376</td>\n",
       "      <td>1.000000</td>\n",
       "      <td>1.000000</td>\n",
       "    </tr>\n",
       "    <tr>\n",
       "      <th>Male</th>\n",
       "      <td>150</td>\n",
       "      <td>0.993333</td>\n",
       "      <td>0.993333</td>\n",
       "    </tr>\n",
       "    <tr>\n",
       "      <th>Male</th>\n",
       "      <td>189</td>\n",
       "      <td>1.000000</td>\n",
       "      <td>1.000000</td>\n",
       "    </tr>\n",
       "    <tr>\n",
       "      <th>Male</th>\n",
       "      <td>14</td>\n",
       "      <td>1.000000</td>\n",
       "      <td>1.000000</td>\n",
       "    </tr>\n",
       "    <tr>\n",
       "      <th>Male</th>\n",
       "      <td>2</td>\n",
       "      <td>1.000000</td>\n",
       "      <td>1.000000</td>\n",
       "    </tr>\n",
       "    <tr>\n",
       "      <th>Male</th>\n",
       "      <td>19</td>\n",
       "      <td>1.000000</td>\n",
       "      <td>1.000000</td>\n",
       "    </tr>\n",
       "    <tr>\n",
       "      <th>Male</th>\n",
       "      <td>309</td>\n",
       "      <td>0.996764</td>\n",
       "      <td>0.996764</td>\n",
       "    </tr>\n",
       "  </tbody>\n",
       "</table>\n",
       "</div>"
      ],
      "text/plain": [
       "                                        count  selection_rate  \\\n",
       "is_internal gender                                              \n",
       "False       Female                     442852        0.431650   \n",
       "            Male                       612230        0.435529   \n",
       "True        Female                       1318        0.996965   \n",
       "            Male                         1245        0.991165   \n",
       "False       Asian                       72759        0.446282   \n",
       "            Black or African American   63545        0.512471   \n",
       "            Hispanic or Latino           2449        0.501837   \n",
       "            Middle Eastern               2715        0.485451   \n",
       "            Native American             12045        0.561478   \n",
       "            White                      163922        0.559480   \n",
       "True        Asian                         371        0.994609   \n",
       "            Black or African American     348        1.000000   \n",
       "            Hispanic or Latino             20        1.000000   \n",
       "            Middle Eastern                  3        1.000000   \n",
       "            Native American                28        1.000000   \n",
       "            White                         704        0.998580   \n",
       "False       Female                      32059        0.434917   \n",
       "            Female                      27882        0.509146   \n",
       "            Female                       1262        0.509509   \n",
       "            Female                       1050        0.479048   \n",
       "            Female                       5261        0.573845   \n",
       "            Female                      80277        0.566202   \n",
       "            Male                        39942        0.455561   \n",
       "            Male                        35342        0.515336   \n",
       "            Male                         1180        0.494068   \n",
       "            Male                         1651        0.490612   \n",
       "            Male                         6699        0.551724   \n",
       "            Male                        82905        0.553103   \n",
       "True        Female                        204        0.995098   \n",
       "            Female                        156        1.000000   \n",
       "            Female                          6        1.000000   \n",
       "            Female                          1        1.000000   \n",
       "            Female                          9        1.000000   \n",
       "            Female                        376        1.000000   \n",
       "            Male                          150        0.993333   \n",
       "            Male                          189        1.000000   \n",
       "            Male                           14        1.000000   \n",
       "            Male                            2        1.000000   \n",
       "            Male                           19        1.000000   \n",
       "            Male                          309        0.996764   \n",
       "\n",
       "                                       selection_rate_impact_ratio  \n",
       "is_internal gender                                                  \n",
       "False       Female                                        0.432964  \n",
       "            Male                                          0.436855  \n",
       "True        Female                                        1.000000  \n",
       "            Male                                          0.994182  \n",
       "False       Asian                                         0.446282  \n",
       "            Black or African American                     0.512471  \n",
       "            Hispanic or Latino                            0.501837  \n",
       "            Middle Eastern                                0.485451  \n",
       "            Native American                               0.561478  \n",
       "            White                                         0.559480  \n",
       "True        Asian                                         0.994609  \n",
       "            Black or African American                     1.000000  \n",
       "            Hispanic or Latino                            1.000000  \n",
       "            Middle Eastern                                1.000000  \n",
       "            Native American                               1.000000  \n",
       "            White                                         0.998580  \n",
       "False       Female                                        0.434917  \n",
       "            Female                                        0.509146  \n",
       "            Female                                        0.509509  \n",
       "            Female                                        0.479048  \n",
       "            Female                                        0.573845  \n",
       "            Female                                        0.566202  \n",
       "            Male                                          0.455561  \n",
       "            Male                                          0.515336  \n",
       "            Male                                          0.494068  \n",
       "            Male                                          0.490612  \n",
       "            Male                                          0.551724  \n",
       "            Male                                          0.553103  \n",
       "True        Female                                        0.995098  \n",
       "            Female                                        1.000000  \n",
       "            Female                                        1.000000  \n",
       "            Female                                        1.000000  \n",
       "            Female                                        1.000000  \n",
       "            Female                                        1.000000  \n",
       "            Male                                          0.993333  \n",
       "            Male                                          1.000000  \n",
       "            Male                                          1.000000  \n",
       "            Male                                          1.000000  \n",
       "            Male                                          1.000000  \n",
       "            Male                                          0.996764  "
      ]
     },
     "execution_count": 23,
     "metadata": {},
     "output_type": "execute_result"
    }
   ],
   "source": []
  },
  {
   "cell_type": "code",
   "execution_count": 21,
   "id": "aa1b007f-b54f-4b71-a6c8-0bcc5b314577",
   "metadata": {
    "tags": []
   },
   "outputs": [],
   "source": [
    "df.to_csv('utah_data.csv')"
   ]
  },
  {
   "cell_type": "code",
   "execution_count": 25,
   "id": "1f870410-3a63-48fe-8e0a-2aa8eb8eb821",
   "metadata": {
    "tags": []
   },
   "outputs": [
    {
     "data": {
      "text/plain": [
       "Index(['_id', 'ats_application', 'req_id', 'grade_data', 'is_internal',\n",
       "       'samurai_json', 'HS Simplified Output', 'years_of_experience', 'race',\n",
       "       'gender', 'is_priority'],\n",
       "      dtype='object')"
      ]
     },
     "execution_count": 25,
     "metadata": {},
     "output_type": "execute_result"
    }
   ],
   "source": [
    "df.columns"
   ]
  },
  {
   "cell_type": "code",
   "execution_count": 26,
   "id": "35affc56-81ce-47fb-9c59-d7096625d2ac",
   "metadata": {
    "tags": []
   },
   "outputs": [],
   "source": [
    "df['HS Simplified Output Priority'] = df['is_priority']"
   ]
  },
  {
   "cell_type": "code",
   "execution_count": 28,
   "id": "fe0b8e48-148a-4fe8-a8f2-67dc806a332e",
   "metadata": {
    "tags": []
   },
   "outputs": [],
   "source": [
    "cols = ['req_id', 'is_internal', 'years_of_experience', 'race', 'gender', 'HS Simplified Output Priority']"
   ]
  },
  {
   "cell_type": "code",
   "execution_count": 29,
   "id": "1cf341a2-44fb-4b08-8266-0818b3d4f0d4",
   "metadata": {
    "tags": []
   },
   "outputs": [],
   "source": [
    "df[cols].to_csv('utah_data.csv')"
   ]
  },
  {
   "cell_type": "code",
   "execution_count": 30,
   "id": "f49ba211-b4fa-4864-93fe-f3f5b19d9acb",
   "metadata": {
    "tags": []
   },
   "outputs": [],
   "source": [
    "df.to_csv('utah_full_data.csv')"
   ]
  },
  {
   "cell_type": "code",
   "execution_count": null,
   "id": "3040e3ea-ea00-4df2-a3fb-1a3ade0c7815",
   "metadata": {},
   "outputs": [],
   "source": []
  }
 ],
 "metadata": {
  "kernelspec": {
   "display_name": "Python 3 (ipykernel)",
   "language": "python",
   "name": "python3"
  },
  "language_info": {
   "codemirror_mode": {
    "name": "ipython",
    "version": 3
   },
   "file_extension": ".py",
   "mimetype": "text/x-python",
   "name": "python",
   "nbconvert_exporter": "python",
   "pygments_lexer": "ipython3",
   "version": "3.9.5"
  }
 },
 "nbformat": 4,
 "nbformat_minor": 5
}
