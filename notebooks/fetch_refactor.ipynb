{
 "cells": [
  {
   "cell_type": "code",
   "execution_count": 1,
   "id": "2aa01106-2b2c-4482-b909-c00049b7b148",
   "metadata": {
    "tags": []
   },
   "outputs": [
    {
     "name": "stdout",
     "output_type": "stream",
     "text": [
      "\u001b[2m2023-07-20T11:21:56.261727Z\u001b[0m [\u001b[32m\u001b[1minfo     \u001b[0m] \u001b[1mExplainable job type: loaded aliases to job types\u001b[0m \u001b[36menvironment\u001b[0m=\u001b[35mlocal\u001b[0m \u001b[36mfile_path\u001b[0m=\u001b[35m/Users/dima/hiredscore/grading/algorithms/hs_algorithms/explainable_job_type/explainable_job_type.py\u001b[0m \u001b[36mfunction_name\u001b[0m=\u001b[35mload_job_type_data\u001b[0m \u001b[36mhostname\u001b[0m=\u001b[35mDima-Shulga-MacBook-Pro\u001b[0m \u001b[36mline_number\u001b[0m=\u001b[35m109\u001b[0m \u001b[36mmodule\u001b[0m=\u001b[35mhs_algorithms.explainable_job_type.explainable_job_type\u001b[0m \u001b[36mnum_aliases__numeric\u001b[0m=\u001b[35m365\u001b[0m \u001b[36mnum_job_types__numeric\u001b[0m=\u001b[35m214\u001b[0m \u001b[36mpid\u001b[0m=\u001b[35m3859\u001b[0m\n",
      "\u001b[2m2023-07-20T11:21:56.403686Z\u001b[0m [\u001b[32m\u001b[1minfo     \u001b[0m] \u001b[1mRead abbreviation sets        \u001b[0m \u001b[36menvironment\u001b[0m=\u001b[35mlocal\u001b[0m \u001b[36mfile_path\u001b[0m=\u001b[35m/Users/dima/hiredscore/grading/algorithms/hs_algorithms/abbreviations/abbrevations_provider.py\u001b[0m \u001b[36mfunction_name\u001b[0m=\u001b[35m_get_abbreavations_from_file\u001b[0m \u001b[36mhostname\u001b[0m=\u001b[35mDima-Shulga-MacBook-Pro\u001b[0m \u001b[36mline_number\u001b[0m=\u001b[35m34\u001b[0m \u001b[36mmodule\u001b[0m=\u001b[35mhs_algorithms.abbreviations.abbrevations_provider\u001b[0m \u001b[36mnum_terms__numeric\u001b[0m=\u001b[35m91\u001b[0m \u001b[36mpid\u001b[0m=\u001b[35m3859\u001b[0m\n"
     ]
    },
    {
     "name": "stderr",
     "output_type": "stream",
     "text": [
      "/Users/dima/.virtualenvs/hs/lib/python3.9/site-packages/fuzzywuzzy/fuzz.py:11: UserWarning: Using slow pure-python SequenceMatcher. Install python-Levenshtein to remove this warning\n",
      "  warnings.warn('Using slow pure-python SequenceMatcher. Install python-Levenshtein to remove this warning')\n"
     ]
    }
   ],
   "source": [
    "import json\n",
    "import pandas as pd\n",
    "import seaborn as sns\n",
    "from hs_fetch.fast_fetch.fast_fetch_interactive_input import FetchMode\n",
    "from hs_fetch.fast_fetch.fast_fetch_persistor import FastFetchPersistor, ESIndexSuffix\n",
    "from hs_fetch.fast_fetch.refactored.fetch_evaluator import FetchEvaluator\n",
    "from hs_fetch.fast_fetch.refactored.fetch_classifier import FetchClassifier\n",
    "from hs_fetch.fast_fetch.refactored.fetch_data_adapter import get_data_adapter\n",
    "from hs_fetch.fast_fetch.refactored.fetch_feature_extractor import FetchFeatureExtractor\n",
    "from hs_fetch.fast_fetch.refactored.fetch_result_builder import FetchResultBuilder\n",
    "from hs_gimme.constants.clients import ClientsNames\n",
    "from hs_gimme.env_utils.env_utils import get_current_environment\n",
    "from hs_gimme.logging_service.logging_service import LoggingService\n",
    "from hs_tree_blenders_creation.batch_runners.data_sets import get_account_test_set"
   ]
  },
  {
   "cell_type": "code",
   "execution_count": 2,
   "id": "3818cc03-5741-49e1-b1da-1ceb7a83011d",
   "metadata": {
    "tags": []
   },
   "outputs": [],
   "source": [
    "ACCOUNT_ID = 'indiana'\n",
    "ENVIRONMENT = 'production'\n",
    "logging_service = LoggingService()"
   ]
  },
  {
   "cell_type": "code",
   "execution_count": 3,
   "id": "9b58b622-7dcf-4592-9fba-fdaad8f16d5e",
   "metadata": {
    "tags": []
   },
   "outputs": [
    {
     "name": "stdout",
     "output_type": "stream",
     "text": [
      "Found credentials in shared credentials file: ~/.aws/credentials\n",
      "Found credentials in shared credentials file: ~/.aws/credentials\n"
     ]
    }
   ],
   "source": [
    "persistor = FastFetchPersistor(logging_service=logging_service, account_id=ACCOUNT_ID, environment=ENVIRONMENT, index_suffix=ESIndexSuffix.ACTIVE)\n",
    "data_adapter = get_data_adapter(ACCOUNT_ID, ENVIRONMENT, logging_service)\n",
    "extractor = FetchFeatureExtractor(calc_fetch_apply_prob=True, \n",
    "                                  specific_features_names=None, \n",
    "                                  specific_features_weights=None, \n",
    "                                  fetch_mode=FetchMode.TALENT_FETCH,\n",
    "                                  search_input=None, \n",
    "                                  account_id=ACCOUNT_ID, \n",
    "                                  fetch_config=None, \n",
    "                                  reference_date=None)\n",
    "classifier = FetchClassifier()"
   ]
  },
  {
   "cell_type": "code",
   "execution_count": 4,
   "id": "cf705b0b-cdd1-4f70-8471-fceb5a696432",
   "metadata": {
    "tags": []
   },
   "outputs": [
    {
     "data": {
      "text/plain": [
       "42"
      ]
     },
     "execution_count": 4,
     "metadata": {},
     "output_type": "execute_result"
    }
   ],
   "source": [
    "df = pd.read_csv('fetch_data.csv')\n",
    "len(df)"
   ]
  },
  {
   "cell_type": "code",
   "execution_count": 5,
   "id": "c080ae63-10d1-4ec5-b0be-99f5301a86b4",
   "metadata": {
    "tags": []
   },
   "outputs": [
    {
     "data": {
      "text/html": [
       "<div>\n",
       "<style scoped>\n",
       "    .dataframe tbody tr th:only-of-type {\n",
       "        vertical-align: middle;\n",
       "    }\n",
       "\n",
       "    .dataframe tbody tr th {\n",
       "        vertical-align: top;\n",
       "    }\n",
       "\n",
       "    .dataframe thead th {\n",
       "        text-align: right;\n",
       "    }\n",
       "</style>\n",
       "<table border=\"1\" class=\"dataframe\">\n",
       "  <thead>\n",
       "    <tr style=\"text-align: right;\">\n",
       "      <th></th>\n",
       "      <th>req_id</th>\n",
       "      <th>talent_id</th>\n",
       "      <th>label</th>\n",
       "    </tr>\n",
       "  </thead>\n",
       "  <tbody>\n",
       "    <tr>\n",
       "      <th>0</th>\n",
       "      <td>INTJR0129214</td>\n",
       "      <td>dbdf5c58-ac07-4ca2-ae96-e256215da3b4</td>\n",
       "      <td>False</td>\n",
       "    </tr>\n",
       "    <tr>\n",
       "      <th>1</th>\n",
       "      <td>INTJR0129214</td>\n",
       "      <td>a09d5068-4d41-41d6-a185-9a2c27671723</td>\n",
       "      <td>True</td>\n",
       "    </tr>\n",
       "    <tr>\n",
       "      <th>2</th>\n",
       "      <td>INTJR0129214</td>\n",
       "      <td>cbb9a75d-5b71-459a-945a-c78bf470940c</td>\n",
       "      <td>False</td>\n",
       "    </tr>\n",
       "    <tr>\n",
       "      <th>3</th>\n",
       "      <td>INTJR0157698</td>\n",
       "      <td>268643b2-909b-4058-b2a6-584fd7240a7d</td>\n",
       "      <td>False</td>\n",
       "    </tr>\n",
       "    <tr>\n",
       "      <th>4</th>\n",
       "      <td>INTJR0157698</td>\n",
       "      <td>5c87ea87-ceb0-4e8d-96c7-e1d40d8e75de</td>\n",
       "      <td>False</td>\n",
       "    </tr>\n",
       "  </tbody>\n",
       "</table>\n",
       "</div>"
      ],
      "text/plain": [
       "         req_id                             talent_id  label\n",
       "0  INTJR0129214  dbdf5c58-ac07-4ca2-ae96-e256215da3b4  False\n",
       "1  INTJR0129214  a09d5068-4d41-41d6-a185-9a2c27671723   True\n",
       "2  INTJR0129214  cbb9a75d-5b71-459a-945a-c78bf470940c  False\n",
       "3  INTJR0157698  268643b2-909b-4058-b2a6-584fd7240a7d  False\n",
       "4  INTJR0157698  5c87ea87-ceb0-4e8d-96c7-e1d40d8e75de  False"
      ]
     },
     "execution_count": 5,
     "metadata": {},
     "output_type": "execute_result"
    }
   ],
   "source": [
    "df.head()"
   ]
  },
  {
   "cell_type": "code",
   "execution_count": 6,
   "id": "5a3d481a-db68-4fd2-9160-1230c52aef99",
   "metadata": {
    "tags": []
   },
   "outputs": [],
   "source": [
    "df['candidate_data'] = df['talent_id'].apply(lambda c: persistor.get_candidate_data_by_talent_ids([c])[0])"
   ]
  },
  {
   "cell_type": "code",
   "execution_count": 8,
   "id": "beffdaa2-a711-4840-afb1-3d4654b99126",
   "metadata": {
    "tags": []
   },
   "outputs": [],
   "source": [
    "df['req_data'] = df['req_id'].apply(lambda r: data_adapter.get_req_data(r)[0])"
   ]
  },
  {
   "cell_type": "code",
   "execution_count": 9,
   "id": "f55607c0-811e-4186-9209-7eeede838f28",
   "metadata": {
    "tags": []
   },
   "outputs": [
    {
     "data": {
      "text/html": [
       "<div>\n",
       "<style scoped>\n",
       "    .dataframe tbody tr th:only-of-type {\n",
       "        vertical-align: middle;\n",
       "    }\n",
       "\n",
       "    .dataframe tbody tr th {\n",
       "        vertical-align: top;\n",
       "    }\n",
       "\n",
       "    .dataframe thead th {\n",
       "        text-align: right;\n",
       "    }\n",
       "</style>\n",
       "<table border=\"1\" class=\"dataframe\">\n",
       "  <thead>\n",
       "    <tr style=\"text-align: right;\">\n",
       "      <th></th>\n",
       "      <th>req_id</th>\n",
       "      <th>talent_id</th>\n",
       "      <th>label</th>\n",
       "      <th>candidate_data</th>\n",
       "      <th>req_data</th>\n",
       "    </tr>\n",
       "  </thead>\n",
       "  <tbody>\n",
       "    <tr>\n",
       "      <th>0</th>\n",
       "      <td>INTJR0129214</td>\n",
       "      <td>dbdf5c58-ac07-4ca2-ae96-e256215da3b4</td>\n",
       "      <td>False</td>\n",
       "      <td>{'id': 'grading_candidate_INTCA01720801', 'can...</td>\n",
       "      <td>{'id': 'grading_req_INTJR0129214', 'req_id': '...</td>\n",
       "    </tr>\n",
       "    <tr>\n",
       "      <th>1</th>\n",
       "      <td>INTJR0129214</td>\n",
       "      <td>a09d5068-4d41-41d6-a185-9a2c27671723</td>\n",
       "      <td>True</td>\n",
       "      <td>{'id': 'grading_candidate_limsitliang@gmail.co...</td>\n",
       "      <td>{'id': 'grading_req_INTJR0129214', 'req_id': '...</td>\n",
       "    </tr>\n",
       "    <tr>\n",
       "      <th>2</th>\n",
       "      <td>INTJR0129214</td>\n",
       "      <td>cbb9a75d-5b71-459a-945a-c78bf470940c</td>\n",
       "      <td>False</td>\n",
       "      <td>{'id': 'grading_candidate_wnaing@gmail.com', '...</td>\n",
       "      <td>{'id': 'grading_req_INTJR0129214', 'req_id': '...</td>\n",
       "    </tr>\n",
       "    <tr>\n",
       "      <th>3</th>\n",
       "      <td>INTJR0157698</td>\n",
       "      <td>268643b2-909b-4058-b2a6-584fd7240a7d</td>\n",
       "      <td>False</td>\n",
       "      <td>{'id': 'grading_candidate_fadihanhan96@gmail.c...</td>\n",
       "      <td>{'id': 'grading_req_INTJR0157698', 'req_id': '...</td>\n",
       "    </tr>\n",
       "    <tr>\n",
       "      <th>4</th>\n",
       "      <td>INTJR0157698</td>\n",
       "      <td>5c87ea87-ceb0-4e8d-96c7-e1d40d8e75de</td>\n",
       "      <td>False</td>\n",
       "      <td>{'id': 'grading_candidate_INTCA02197785', 'can...</td>\n",
       "      <td>{'id': 'grading_req_INTJR0157698', 'req_id': '...</td>\n",
       "    </tr>\n",
       "  </tbody>\n",
       "</table>\n",
       "</div>"
      ],
      "text/plain": [
       "         req_id                             talent_id  label  \\\n",
       "0  INTJR0129214  dbdf5c58-ac07-4ca2-ae96-e256215da3b4  False   \n",
       "1  INTJR0129214  a09d5068-4d41-41d6-a185-9a2c27671723   True   \n",
       "2  INTJR0129214  cbb9a75d-5b71-459a-945a-c78bf470940c  False   \n",
       "3  INTJR0157698  268643b2-909b-4058-b2a6-584fd7240a7d  False   \n",
       "4  INTJR0157698  5c87ea87-ceb0-4e8d-96c7-e1d40d8e75de  False   \n",
       "\n",
       "                                      candidate_data  \\\n",
       "0  {'id': 'grading_candidate_INTCA01720801', 'can...   \n",
       "1  {'id': 'grading_candidate_limsitliang@gmail.co...   \n",
       "2  {'id': 'grading_candidate_wnaing@gmail.com', '...   \n",
       "3  {'id': 'grading_candidate_fadihanhan96@gmail.c...   \n",
       "4  {'id': 'grading_candidate_INTCA02197785', 'can...   \n",
       "\n",
       "                                            req_data  \n",
       "0  {'id': 'grading_req_INTJR0129214', 'req_id': '...  \n",
       "1  {'id': 'grading_req_INTJR0129214', 'req_id': '...  \n",
       "2  {'id': 'grading_req_INTJR0129214', 'req_id': '...  \n",
       "3  {'id': 'grading_req_INTJR0157698', 'req_id': '...  \n",
       "4  {'id': 'grading_req_INTJR0157698', 'req_id': '...  "
      ]
     },
     "execution_count": 9,
     "metadata": {},
     "output_type": "execute_result"
    }
   ],
   "source": [
    "df.head()"
   ]
  },
  {
   "cell_type": "code",
   "execution_count": 10,
   "id": "e3b4c157-ad17-4ca8-a955-6e4295fbbdda",
   "metadata": {
    "tags": []
   },
   "outputs": [
    {
     "name": "stdout",
     "output_type": "stream",
     "text": [
      "\u001b[2m2023-07-20T11:22:44.387275Z\u001b[0m [\u001b[32m\u001b[1minfo     \u001b[0m] \u001b[1mGetting model reader          \u001b[0m \u001b[36menvironment\u001b[0m=\u001b[35mlocal\u001b[0m \u001b[36mfile_path\u001b[0m=\u001b[35m/Users/dima/hiredscore/brain/brainme/hs_brainme/models/model_persistence/models_persistency.py\u001b[0m \u001b[36mfunction_name\u001b[0m=\u001b[35mget_model_reader\u001b[0m \u001b[36mhostname\u001b[0m=\u001b[35mDima-Shulga-MacBook-Pro\u001b[0m \u001b[36mline_number\u001b[0m=\u001b[35m82\u001b[0m \u001b[36mmodel_key\u001b[0m=\u001b[35mNone\u001b[0m \u001b[36mmodel_manager\u001b[0m=\u001b[35mhs_neurons\u001b[0m \u001b[36mmodel_name\u001b[0m=\u001b[35mexperience_total_matching\u001b[0m \u001b[36mmodel_type\u001b[0m=\u001b[35mtorch\u001b[0m \u001b[36mmodels_reader\u001b[0m=\u001b[35mLocalTorchModelsReader\u001b[0m \u001b[36mmodule\u001b[0m=\u001b[35mhs_brainme.models.model_persistence.models_persistency\u001b[0m \u001b[36mpid\u001b[0m=\u001b[35m3859\u001b[0m\n",
      "\u001b[2m2023-07-20T11:22:44.389175Z\u001b[0m [\u001b[32m\u001b[1minfo     \u001b[0m] \u001b[1mLoading model file            \u001b[0m \u001b[36mcompressed__boolean\u001b[0m=\u001b[35mFalse\u001b[0m \u001b[36mdir\u001b[0m=\u001b[35m/Users/dima/hiredscore_model_manager/hs_neurons/experience_total_matching/experience_total_matching_20221130101127\u001b[0m \u001b[36menvironment\u001b[0m=\u001b[35mlocal\u001b[0m \u001b[36mfile_name\u001b[0m=\u001b[35m/Users/dima/hiredscore_model_manager/hs_neurons/experience_total_matching/experience_total_matching_20221130101127/key.torch\u001b[0m \u001b[36mfile_path\u001b[0m=\u001b[35m/Users/dima/hiredscore/brain/brainme/hs_brainme/models/model_persistence/models_persistency.py\u001b[0m \u001b[36mfunction_name\u001b[0m=\u001b[35mload\u001b[0m \u001b[36mhostname\u001b[0m=\u001b[35mDima-Shulga-MacBook-Pro\u001b[0m \u001b[36mkey\u001b[0m=\u001b[35mkey\u001b[0m \u001b[36mline_number\u001b[0m=\u001b[35m167\u001b[0m \u001b[36mmodel_type\u001b[0m=\u001b[35mtorch\u001b[0m \u001b[36mmodule\u001b[0m=\u001b[35mhs_brainme.models.model_persistence.models_persistency\u001b[0m \u001b[36mpid\u001b[0m=\u001b[35m3859\u001b[0m\n",
      "\u001b[2m2023-07-20T11:22:44.655520Z\u001b[0m [\u001b[32m\u001b[1minfo     \u001b[0m] \u001b[1mGetting model reader          \u001b[0m \u001b[36menvironment\u001b[0m=\u001b[35mlocal\u001b[0m \u001b[36mfile_path\u001b[0m=\u001b[35m/Users/dima/hiredscore/brain/brainme/hs_brainme/models/model_persistence/models_persistency.py\u001b[0m \u001b[36mfunction_name\u001b[0m=\u001b[35mget_model_reader\u001b[0m \u001b[36mhostname\u001b[0m=\u001b[35mDima-Shulga-MacBook-Pro\u001b[0m \u001b[36mline_number\u001b[0m=\u001b[35m82\u001b[0m \u001b[36mmodel_key\u001b[0m=\u001b[35mindiana\u001b[0m \u001b[36mmodel_manager\u001b[0m=\u001b[35mhs_algorithms\u001b[0m \u001b[36mmodel_name\u001b[0m=\u001b[35mposition_type_similarity_model\u001b[0m \u001b[36mmodel_type\u001b[0m=\u001b[35mpickle\u001b[0m \u001b[36mmodels_reader\u001b[0m=\u001b[35mLocalPickleModelsReader\u001b[0m \u001b[36mmodule\u001b[0m=\u001b[35mhs_brainme.models.model_persistence.models_persistency\u001b[0m \u001b[36mpid\u001b[0m=\u001b[35m3859\u001b[0m\n",
      "\u001b[2m2023-07-20T11:22:44.656227Z\u001b[0m [\u001b[32m\u001b[1minfo     \u001b[0m] \u001b[1mLoading model file            \u001b[0m \u001b[36mcompressed__boolean\u001b[0m=\u001b[35mTrue\u001b[0m \u001b[36mdir\u001b[0m=\u001b[35m/Users/dima/hiredscore_model_manager/hs_algorithms/position_type_similarity_model/indiana_20220417153356\u001b[0m \u001b[36menvironment\u001b[0m=\u001b[35mlocal\u001b[0m \u001b[36mfile_name\u001b[0m=\u001b[35m/Users/dima/hiredscore_model_manager/hs_algorithms/position_type_similarity_model/indiana_20220417153356/key.pickle\u001b[0m \u001b[36mfile_path\u001b[0m=\u001b[35m/Users/dima/hiredscore/brain/brainme/hs_brainme/models/model_persistence/models_persistency.py\u001b[0m \u001b[36mfunction_name\u001b[0m=\u001b[35mload\u001b[0m \u001b[36mhostname\u001b[0m=\u001b[35mDima-Shulga-MacBook-Pro\u001b[0m \u001b[36mkey\u001b[0m=\u001b[35mkey\u001b[0m \u001b[36mline_number\u001b[0m=\u001b[35m167\u001b[0m \u001b[36mmodel_type\u001b[0m=\u001b[35mpickle\u001b[0m \u001b[36mmodule\u001b[0m=\u001b[35mhs_brainme.models.model_persistence.models_persistency\u001b[0m \u001b[36mpid\u001b[0m=\u001b[35m3859\u001b[0m\n",
      "\u001b[2m2023-07-20T11:22:44.774559Z\u001b[0m [\u001b[32m\u001b[1minfo     \u001b[0m] \u001b[1mGetting model reader          \u001b[0m \u001b[36menvironment\u001b[0m=\u001b[35mlocal\u001b[0m \u001b[36mfile_path\u001b[0m=\u001b[35m/Users/dima/hiredscore/brain/brainme/hs_brainme/models/model_persistence/models_persistency.py\u001b[0m \u001b[36mfunction_name\u001b[0m=\u001b[35mget_model_reader\u001b[0m \u001b[36mhostname\u001b[0m=\u001b[35mDima-Shulga-MacBook-Pro\u001b[0m \u001b[36mline_number\u001b[0m=\u001b[35m82\u001b[0m \u001b[36mmodel_key\u001b[0m=\u001b[35mNone\u001b[0m \u001b[36mmodel_manager\u001b[0m=\u001b[35mhs_algorithms\u001b[0m \u001b[36mmodel_name\u001b[0m=\u001b[35mfetch_apply\u001b[0m \u001b[36mmodel_type\u001b[0m=\u001b[35mpickle\u001b[0m \u001b[36mmodels_reader\u001b[0m=\u001b[35mLocalPickleModelsReader\u001b[0m \u001b[36mmodule\u001b[0m=\u001b[35mhs_brainme.models.model_persistence.models_persistency\u001b[0m \u001b[36mpid\u001b[0m=\u001b[35m3859\u001b[0m\n",
      "\u001b[2m2023-07-20T11:22:44.775094Z\u001b[0m [\u001b[32m\u001b[1minfo     \u001b[0m] \u001b[1mLoading model file            \u001b[0m \u001b[36mcompressed__boolean\u001b[0m=\u001b[35mTrue\u001b[0m \u001b[36mdir\u001b[0m=\u001b[35m/Users/dima/hiredscore_model_manager/hs_algorithms/fetch_apply/fetch_apply_20230404144810\u001b[0m \u001b[36menvironment\u001b[0m=\u001b[35mlocal\u001b[0m \u001b[36mfile_name\u001b[0m=\u001b[35m/Users/dima/hiredscore_model_manager/hs_algorithms/fetch_apply/fetch_apply_20230404144810/key.pickle\u001b[0m \u001b[36mfile_path\u001b[0m=\u001b[35m/Users/dima/hiredscore/brain/brainme/hs_brainme/models/model_persistence/models_persistency.py\u001b[0m \u001b[36mfunction_name\u001b[0m=\u001b[35mload\u001b[0m \u001b[36mhostname\u001b[0m=\u001b[35mDima-Shulga-MacBook-Pro\u001b[0m \u001b[36mkey\u001b[0m=\u001b[35mkey\u001b[0m \u001b[36mline_number\u001b[0m=\u001b[35m167\u001b[0m \u001b[36mmodel_type\u001b[0m=\u001b[35mpickle\u001b[0m \u001b[36mmodule\u001b[0m=\u001b[35mhs_brainme.models.model_persistence.models_persistency\u001b[0m \u001b[36mpid\u001b[0m=\u001b[35m3859\u001b[0m\n"
     ]
    },
    {
     "name": "stderr",
     "output_type": "stream",
     "text": [
      "/Users/dima/.virtualenvs/hs/lib/python3.9/site-packages/scipy/spatial/distance.py:620: RuntimeWarning: invalid value encountered in double_scalars\n",
      "  dist = 1.0 - uv / np.sqrt(uu * vv)\n"
     ]
    },
    {
     "data": {
      "text/plain": [
       "(42, 22)"
      ]
     },
     "execution_count": 10,
     "metadata": {},
     "output_type": "execute_result"
    }
   ],
   "source": [
    "dfs = []\n",
    "            \n",
    "for req_id, req_df in df.groupby('req_id'):\n",
    "    req = req_df['req_data'].iloc[0]\n",
    "    candidates_data = list(req_df['candidate_data'])\n",
    "    req_items, candidate_items = data_adapter.get_grading_data([req], candidates_data)\n",
    "\n",
    "    features = extractor.extract_features(candidates_data, req_items[0], {})\n",
    "    \n",
    "    for feature_name, feature_values in features.items():\n",
    "        req_df[feature_name] = feature_values\n",
    "\n",
    "    dfs.append(req_df)\n",
    "    \n",
    "features_df = pd.concat(dfs).reset_index(drop=True)\n",
    "features_df.shape"
   ]
  },
  {
   "cell_type": "code",
   "execution_count": 11,
   "id": "adc8ef8c-80c4-49da-b8ef-460e01418999",
   "metadata": {
    "tags": []
   },
   "outputs": [
    {
     "data": {
      "text/html": [
       "<div>\n",
       "<style scoped>\n",
       "    .dataframe tbody tr th:only-of-type {\n",
       "        vertical-align: middle;\n",
       "    }\n",
       "\n",
       "    .dataframe tbody tr th {\n",
       "        vertical-align: top;\n",
       "    }\n",
       "\n",
       "    .dataframe thead th {\n",
       "        text-align: right;\n",
       "    }\n",
       "</style>\n",
       "<table border=\"1\" class=\"dataframe\">\n",
       "  <thead>\n",
       "    <tr style=\"text-align: right;\">\n",
       "      <th></th>\n",
       "      <th>req_id</th>\n",
       "      <th>talent_id</th>\n",
       "      <th>label</th>\n",
       "      <th>candidate_data</th>\n",
       "      <th>req_data</th>\n",
       "      <th>skills_w2v</th>\n",
       "      <th>titles_w2v</th>\n",
       "      <th>skills_by_importance</th>\n",
       "      <th>professions_match</th>\n",
       "      <th>profession_years_grade</th>\n",
       "      <th>...</th>\n",
       "      <th>high_degree_level_grade</th>\n",
       "      <th>high_past_status_grade</th>\n",
       "      <th>model_score</th>\n",
       "      <th>time_in_position</th>\n",
       "      <th>level_score</th>\n",
       "      <th>skill_score</th>\n",
       "      <th>performance_model</th>\n",
       "      <th>seniority_grade</th>\n",
       "      <th>future_apply_grade</th>\n",
       "      <th>majors_grade</th>\n",
       "    </tr>\n",
       "  </thead>\n",
       "  <tbody>\n",
       "    <tr>\n",
       "      <th>0</th>\n",
       "      <td>INTJR0006847</td>\n",
       "      <td>ec4a1ee3-5a4b-4181-9afa-153dc9e33fc4</td>\n",
       "      <td>False</td>\n",
       "      <td>{'id': 'grading_candidate_ivan.ruiz.llamas@hot...</td>\n",
       "      <td>{'id': 'grading_req_INTJR0006847', 'req_id': '...</td>\n",
       "      <td>0.557675</td>\n",
       "      <td>0.572806</td>\n",
       "      <td>None</td>\n",
       "      <td>0.863959</td>\n",
       "      <td>1.0</td>\n",
       "      <td>...</td>\n",
       "      <td>1.0</td>\n",
       "      <td>0.1</td>\n",
       "      <td>None</td>\n",
       "      <td>None</td>\n",
       "      <td>None</td>\n",
       "      <td>None</td>\n",
       "      <td>None</td>\n",
       "      <td>0.0</td>\n",
       "      <td>None</td>\n",
       "      <td>1.0</td>\n",
       "    </tr>\n",
       "    <tr>\n",
       "      <th>1</th>\n",
       "      <td>INTJR0006847</td>\n",
       "      <td>6b1bfeb2-a671-4238-bb74-52f20bd6f78c</td>\n",
       "      <td>True</td>\n",
       "      <td>{'id': 'grading_candidate_mantiniok0051@gmail....</td>\n",
       "      <td>{'id': 'grading_req_INTJR0006847', 'req_id': '...</td>\n",
       "      <td>0.401848</td>\n",
       "      <td>0.514445</td>\n",
       "      <td>None</td>\n",
       "      <td>0.721469</td>\n",
       "      <td>1.0</td>\n",
       "      <td>...</td>\n",
       "      <td>1.0</td>\n",
       "      <td>0.1</td>\n",
       "      <td>None</td>\n",
       "      <td>None</td>\n",
       "      <td>None</td>\n",
       "      <td>None</td>\n",
       "      <td>None</td>\n",
       "      <td>0.0</td>\n",
       "      <td>None</td>\n",
       "      <td>1.0</td>\n",
       "    </tr>\n",
       "    <tr>\n",
       "      <th>2</th>\n",
       "      <td>INTJR0006847</td>\n",
       "      <td>d931c4a4-b35a-45c3-b97d-fabc349f9e91</td>\n",
       "      <td>False</td>\n",
       "      <td>{'id': 'grading_candidate_mstoutch@outlook.com...</td>\n",
       "      <td>{'id': 'grading_req_INTJR0006847', 'req_id': '...</td>\n",
       "      <td>0.649868</td>\n",
       "      <td>0.679478</td>\n",
       "      <td>None</td>\n",
       "      <td>0.437605</td>\n",
       "      <td>1.0</td>\n",
       "      <td>...</td>\n",
       "      <td>1.0</td>\n",
       "      <td>0.1</td>\n",
       "      <td>None</td>\n",
       "      <td>None</td>\n",
       "      <td>None</td>\n",
       "      <td>None</td>\n",
       "      <td>None</td>\n",
       "      <td>0.0</td>\n",
       "      <td>None</td>\n",
       "      <td>1.0</td>\n",
       "    </tr>\n",
       "    <tr>\n",
       "      <th>3</th>\n",
       "      <td>INTJR0038683</td>\n",
       "      <td>5ab06533-b6d6-4014-b1d2-51208ab330f7</td>\n",
       "      <td>False</td>\n",
       "      <td>{'id': 'grading_candidate_INTCA00442750', 'can...</td>\n",
       "      <td>{'id': 'grading_req_INTJR0038683', 'req_id': '...</td>\n",
       "      <td>0.439158</td>\n",
       "      <td>0.710950</td>\n",
       "      <td>0.0</td>\n",
       "      <td>0.819152</td>\n",
       "      <td>1.0</td>\n",
       "      <td>...</td>\n",
       "      <td>0.7</td>\n",
       "      <td>1.0</td>\n",
       "      <td>None</td>\n",
       "      <td>None</td>\n",
       "      <td>None</td>\n",
       "      <td>None</td>\n",
       "      <td>None</td>\n",
       "      <td>0.0</td>\n",
       "      <td>0.077532</td>\n",
       "      <td>1.0</td>\n",
       "    </tr>\n",
       "    <tr>\n",
       "      <th>4</th>\n",
       "      <td>INTJR0038683</td>\n",
       "      <td>5ab06533-b6d6-4014-b1d2-51208ab330f7</td>\n",
       "      <td>True</td>\n",
       "      <td>{'id': 'grading_candidate_INTCA00442750', 'can...</td>\n",
       "      <td>{'id': 'grading_req_INTJR0038683', 'req_id': '...</td>\n",
       "      <td>0.439158</td>\n",
       "      <td>0.710950</td>\n",
       "      <td>0.0</td>\n",
       "      <td>0.819152</td>\n",
       "      <td>1.0</td>\n",
       "      <td>...</td>\n",
       "      <td>0.7</td>\n",
       "      <td>1.0</td>\n",
       "      <td>None</td>\n",
       "      <td>None</td>\n",
       "      <td>None</td>\n",
       "      <td>None</td>\n",
       "      <td>None</td>\n",
       "      <td>0.0</td>\n",
       "      <td>0.077532</td>\n",
       "      <td>1.0</td>\n",
       "    </tr>\n",
       "  </tbody>\n",
       "</table>\n",
       "<p>5 rows × 22 columns</p>\n",
       "</div>"
      ],
      "text/plain": [
       "         req_id                             talent_id  label  \\\n",
       "0  INTJR0006847  ec4a1ee3-5a4b-4181-9afa-153dc9e33fc4  False   \n",
       "1  INTJR0006847  6b1bfeb2-a671-4238-bb74-52f20bd6f78c   True   \n",
       "2  INTJR0006847  d931c4a4-b35a-45c3-b97d-fabc349f9e91  False   \n",
       "3  INTJR0038683  5ab06533-b6d6-4014-b1d2-51208ab330f7  False   \n",
       "4  INTJR0038683  5ab06533-b6d6-4014-b1d2-51208ab330f7   True   \n",
       "\n",
       "                                      candidate_data  \\\n",
       "0  {'id': 'grading_candidate_ivan.ruiz.llamas@hot...   \n",
       "1  {'id': 'grading_candidate_mantiniok0051@gmail....   \n",
       "2  {'id': 'grading_candidate_mstoutch@outlook.com...   \n",
       "3  {'id': 'grading_candidate_INTCA00442750', 'can...   \n",
       "4  {'id': 'grading_candidate_INTCA00442750', 'can...   \n",
       "\n",
       "                                            req_data skills_w2v  titles_w2v  \\\n",
       "0  {'id': 'grading_req_INTJR0006847', 'req_id': '...   0.557675    0.572806   \n",
       "1  {'id': 'grading_req_INTJR0006847', 'req_id': '...   0.401848    0.514445   \n",
       "2  {'id': 'grading_req_INTJR0006847', 'req_id': '...   0.649868    0.679478   \n",
       "3  {'id': 'grading_req_INTJR0038683', 'req_id': '...   0.439158    0.710950   \n",
       "4  {'id': 'grading_req_INTJR0038683', 'req_id': '...   0.439158    0.710950   \n",
       "\n",
       "  skills_by_importance  professions_match  profession_years_grade  ...  \\\n",
       "0                 None           0.863959                     1.0  ...   \n",
       "1                 None           0.721469                     1.0  ...   \n",
       "2                 None           0.437605                     1.0  ...   \n",
       "3                  0.0           0.819152                     1.0  ...   \n",
       "4                  0.0           0.819152                     1.0  ...   \n",
       "\n",
       "  high_degree_level_grade  high_past_status_grade  model_score  \\\n",
       "0                     1.0                     0.1         None   \n",
       "1                     1.0                     0.1         None   \n",
       "2                     1.0                     0.1         None   \n",
       "3                     0.7                     1.0         None   \n",
       "4                     0.7                     1.0         None   \n",
       "\n",
       "   time_in_position level_score skill_score performance_model seniority_grade  \\\n",
       "0              None        None        None              None             0.0   \n",
       "1              None        None        None              None             0.0   \n",
       "2              None        None        None              None             0.0   \n",
       "3              None        None        None              None             0.0   \n",
       "4              None        None        None              None             0.0   \n",
       "\n",
       "  future_apply_grade  majors_grade  \n",
       "0               None           1.0  \n",
       "1               None           1.0  \n",
       "2               None           1.0  \n",
       "3           0.077532           1.0  \n",
       "4           0.077532           1.0  \n",
       "\n",
       "[5 rows x 22 columns]"
      ]
     },
     "execution_count": 11,
     "metadata": {},
     "output_type": "execute_result"
    }
   ],
   "source": [
    "features_df.head()"
   ]
  },
  {
   "cell_type": "code",
   "execution_count": 12,
   "id": "dac56c12-5f32-48bb-8090-b1012cf6b314",
   "metadata": {
    "tags": []
   },
   "outputs": [
    {
     "data": {
      "text/plain": [
       "<seaborn.axisgrid.PairGrid at 0x291e7ec40>"
      ]
     },
     "execution_count": 12,
     "metadata": {},
     "output_type": "execute_result"
    },
    {
     "data": {
      "image/png": "[encoded data removed]",
      "text/plain": [
       "<Figure size 834.875x750 with 12 Axes>"
      ]
     },
     "metadata": {},
     "output_type": "display_data"
    }
   ],
   "source": [
    "cols = ['skills_w2v', 'titles_w2v', 'professions_match', 'majors_grade', 'label']\n",
    "sns.pairplot(data=features_df[cols], hue='label')"
   ]
  },
  {
   "cell_type": "code",
   "execution_count": 14,
   "id": "29584818-9eb8-4613-9b0b-31fa9738a6a3",
   "metadata": {
    "tags": []
   },
   "outputs": [
    {
     "name": "stdout",
     "output_type": "stream",
     "text": [
      "\u001b[2m2023-07-20T11:23:21.626440Z\u001b[0m [\u001b[32m\u001b[1minfo     \u001b[0m] \u001b[1mGetting model reader          \u001b[0m \u001b[36menvironment\u001b[0m=\u001b[35mlocal\u001b[0m \u001b[36mfile_path\u001b[0m=\u001b[35m/Users/dima/hiredscore/brain/brainme/hs_brainme/models/model_persistence/models_persistency.py\u001b[0m \u001b[36mfunction_name\u001b[0m=\u001b[35mget_model_reader\u001b[0m \u001b[36mhostname\u001b[0m=\u001b[35mDima-Shulga-MacBook-Pro\u001b[0m \u001b[36mline_number\u001b[0m=\u001b[35m82\u001b[0m \u001b[36mmodel_key\u001b[0m=\u001b[35mgeneral\u001b[0m \u001b[36mmodel_manager\u001b[0m=\u001b[35mhs_algorithms\u001b[0m \u001b[36mmodel_name\u001b[0m=\u001b[35mfetch_grading\u001b[0m \u001b[36mmodel_type\u001b[0m=\u001b[35mpickle\u001b[0m \u001b[36mmodels_reader\u001b[0m=\u001b[35mLocalPickleModelsReader\u001b[0m \u001b[36mmodule\u001b[0m=\u001b[35mhs_brainme.models.model_persistence.models_persistency\u001b[0m \u001b[36mpid\u001b[0m=\u001b[35m3859\u001b[0m\n",
      "\u001b[2m2023-07-20T11:23:21.627026Z\u001b[0m [\u001b[32m\u001b[1minfo     \u001b[0m] \u001b[1mLoading model file            \u001b[0m \u001b[36mcompressed__boolean\u001b[0m=\u001b[35mTrue\u001b[0m \u001b[36mdir\u001b[0m=\u001b[35m/Users/dima/hiredscore_model_manager/hs_algorithms/fetch_grading/general_20230511130355\u001b[0m \u001b[36menvironment\u001b[0m=\u001b[35mlocal\u001b[0m \u001b[36mfile_name\u001b[0m=\u001b[35m/Users/dima/hiredscore_model_manager/hs_algorithms/fetch_grading/general_20230511130355/key.pickle\u001b[0m \u001b[36mfile_path\u001b[0m=\u001b[35m/Users/dima/hiredscore/brain/brainme/hs_brainme/models/model_persistence/models_persistency.py\u001b[0m \u001b[36mfunction_name\u001b[0m=\u001b[35mload\u001b[0m \u001b[36mhostname\u001b[0m=\u001b[35mDima-Shulga-MacBook-Pro\u001b[0m \u001b[36mkey\u001b[0m=\u001b[35mkey\u001b[0m \u001b[36mline_number\u001b[0m=\u001b[35m167\u001b[0m \u001b[36mmodel_type\u001b[0m=\u001b[35mpickle\u001b[0m \u001b[36mmodule\u001b[0m=\u001b[35mhs_brainme.models.model_persistence.models_persistency\u001b[0m \u001b[36mpid\u001b[0m=\u001b[35m3859\u001b[0m\n"
     ]
    }
   ],
   "source": [
    "grades, initial_grades = classifier.predict_grades(features_df.to_dict(), len(features_df.to_dict()['skills_w2v']))"
   ]
  },
  {
   "cell_type": "code",
   "execution_count": 15,
   "id": "56a24092-443b-489b-a44e-6c01ff20a2fa",
   "metadata": {
    "tags": []
   },
   "outputs": [],
   "source": [
    "features_df['grade'] = grades\n",
    "features_df['initial_grades'] = initial_grades"
   ]
  },
  {
   "cell_type": "code",
   "execution_count": 18,
   "id": "1967d84e-1efb-43b8-b802-e99fe0ac9a62",
   "metadata": {
    "tags": []
   },
   "outputs": [
    {
     "data": {
      "text/html": [
       "<div>\n",
       "<style scoped>\n",
       "    .dataframe tbody tr th:only-of-type {\n",
       "        vertical-align: middle;\n",
       "    }\n",
       "\n",
       "    .dataframe tbody tr th {\n",
       "        vertical-align: top;\n",
       "    }\n",
       "\n",
       "    .dataframe thead th {\n",
       "        text-align: right;\n",
       "    }\n",
       "</style>\n",
       "<table border=\"1\" class=\"dataframe\">\n",
       "  <thead>\n",
       "    <tr style=\"text-align: right;\">\n",
       "      <th></th>\n",
       "      <th>req_id</th>\n",
       "      <th>talent_id</th>\n",
       "      <th>label</th>\n",
       "      <th>candidate_data</th>\n",
       "      <th>req_data</th>\n",
       "      <th>skills_w2v</th>\n",
       "      <th>titles_w2v</th>\n",
       "      <th>skills_by_importance</th>\n",
       "      <th>professions_match</th>\n",
       "      <th>profession_years_grade</th>\n",
       "      <th>...</th>\n",
       "      <th>model_score</th>\n",
       "      <th>time_in_position</th>\n",
       "      <th>level_score</th>\n",
       "      <th>skill_score</th>\n",
       "      <th>performance_model</th>\n",
       "      <th>seniority_grade</th>\n",
       "      <th>future_apply_grade</th>\n",
       "      <th>majors_grade</th>\n",
       "      <th>grade</th>\n",
       "      <th>initial_grades</th>\n",
       "    </tr>\n",
       "  </thead>\n",
       "  <tbody>\n",
       "    <tr>\n",
       "      <th>0</th>\n",
       "      <td>INTJR0006847</td>\n",
       "      <td>ec4a1ee3-5a4b-4181-9afa-153dc9e33fc4</td>\n",
       "      <td>False</td>\n",
       "      <td>{'id': 'grading_candidate_ivan.ruiz.llamas@hot...</td>\n",
       "      <td>{'id': 'grading_req_INTJR0006847', 'req_id': '...</td>\n",
       "      <td>0.557675</td>\n",
       "      <td>0.572806</td>\n",
       "      <td>None</td>\n",
       "      <td>0.863959</td>\n",
       "      <td>1.0</td>\n",
       "      <td>...</td>\n",
       "      <td>None</td>\n",
       "      <td>None</td>\n",
       "      <td>None</td>\n",
       "      <td>None</td>\n",
       "      <td>None</td>\n",
       "      <td>0.0</td>\n",
       "      <td>None</td>\n",
       "      <td>1.0</td>\n",
       "      <td>0.746462</td>\n",
       "      <td>0.545034</td>\n",
       "    </tr>\n",
       "    <tr>\n",
       "      <th>1</th>\n",
       "      <td>INTJR0006847</td>\n",
       "      <td>6b1bfeb2-a671-4238-bb74-52f20bd6f78c</td>\n",
       "      <td>True</td>\n",
       "      <td>{'id': 'grading_candidate_mantiniok0051@gmail....</td>\n",
       "      <td>{'id': 'grading_req_INTJR0006847', 'req_id': '...</td>\n",
       "      <td>0.401848</td>\n",
       "      <td>0.514445</td>\n",
       "      <td>None</td>\n",
       "      <td>0.721469</td>\n",
       "      <td>1.0</td>\n",
       "      <td>...</td>\n",
       "      <td>None</td>\n",
       "      <td>None</td>\n",
       "      <td>None</td>\n",
       "      <td>None</td>\n",
       "      <td>None</td>\n",
       "      <td>0.0</td>\n",
       "      <td>None</td>\n",
       "      <td>1.0</td>\n",
       "      <td>0.499889</td>\n",
       "      <td>0.450111</td>\n",
       "    </tr>\n",
       "    <tr>\n",
       "      <th>2</th>\n",
       "      <td>INTJR0006847</td>\n",
       "      <td>d931c4a4-b35a-45c3-b97d-fabc349f9e91</td>\n",
       "      <td>False</td>\n",
       "      <td>{'id': 'grading_candidate_mstoutch@outlook.com...</td>\n",
       "      <td>{'id': 'grading_req_INTJR0006847', 'req_id': '...</td>\n",
       "      <td>0.649868</td>\n",
       "      <td>0.679478</td>\n",
       "      <td>None</td>\n",
       "      <td>0.437605</td>\n",
       "      <td>1.0</td>\n",
       "      <td>...</td>\n",
       "      <td>None</td>\n",
       "      <td>None</td>\n",
       "      <td>None</td>\n",
       "      <td>None</td>\n",
       "      <td>None</td>\n",
       "      <td>0.0</td>\n",
       "      <td>None</td>\n",
       "      <td>1.0</td>\n",
       "      <td>0.055417</td>\n",
       "      <td>0.230481</td>\n",
       "    </tr>\n",
       "    <tr>\n",
       "      <th>3</th>\n",
       "      <td>INTJR0038683</td>\n",
       "      <td>5ab06533-b6d6-4014-b1d2-51208ab330f7</td>\n",
       "      <td>False</td>\n",
       "      <td>{'id': 'grading_candidate_INTCA00442750', 'can...</td>\n",
       "      <td>{'id': 'grading_req_INTJR0038683', 'req_id': '...</td>\n",
       "      <td>0.439158</td>\n",
       "      <td>0.710950</td>\n",
       "      <td>0.0</td>\n",
       "      <td>0.819152</td>\n",
       "      <td>1.0</td>\n",
       "      <td>...</td>\n",
       "      <td>None</td>\n",
       "      <td>None</td>\n",
       "      <td>None</td>\n",
       "      <td>None</td>\n",
       "      <td>None</td>\n",
       "      <td>0.0</td>\n",
       "      <td>0.077532</td>\n",
       "      <td>1.0</td>\n",
       "      <td>0.718201</td>\n",
       "      <td>0.533114</td>\n",
       "    </tr>\n",
       "    <tr>\n",
       "      <th>4</th>\n",
       "      <td>INTJR0038683</td>\n",
       "      <td>5ab06533-b6d6-4014-b1d2-51208ab330f7</td>\n",
       "      <td>True</td>\n",
       "      <td>{'id': 'grading_candidate_INTCA00442750', 'can...</td>\n",
       "      <td>{'id': 'grading_req_INTJR0038683', 'req_id': '...</td>\n",
       "      <td>0.439158</td>\n",
       "      <td>0.710950</td>\n",
       "      <td>0.0</td>\n",
       "      <td>0.819152</td>\n",
       "      <td>1.0</td>\n",
       "      <td>...</td>\n",
       "      <td>None</td>\n",
       "      <td>None</td>\n",
       "      <td>None</td>\n",
       "      <td>None</td>\n",
       "      <td>None</td>\n",
       "      <td>0.0</td>\n",
       "      <td>0.077532</td>\n",
       "      <td>1.0</td>\n",
       "      <td>0.718201</td>\n",
       "      <td>0.533114</td>\n",
       "    </tr>\n",
       "  </tbody>\n",
       "</table>\n",
       "<p>5 rows × 24 columns</p>\n",
       "</div>"
      ],
      "text/plain": [
       "         req_id                             talent_id  label  \\\n",
       "0  INTJR0006847  ec4a1ee3-5a4b-4181-9afa-153dc9e33fc4  False   \n",
       "1  INTJR0006847  6b1bfeb2-a671-4238-bb74-52f20bd6f78c   True   \n",
       "2  INTJR0006847  d931c4a4-b35a-45c3-b97d-fabc349f9e91  False   \n",
       "3  INTJR0038683  5ab06533-b6d6-4014-b1d2-51208ab330f7  False   \n",
       "4  INTJR0038683  5ab06533-b6d6-4014-b1d2-51208ab330f7   True   \n",
       "\n",
       "                                      candidate_data  \\\n",
       "0  {'id': 'grading_candidate_ivan.ruiz.llamas@hot...   \n",
       "1  {'id': 'grading_candidate_mantiniok0051@gmail....   \n",
       "2  {'id': 'grading_candidate_mstoutch@outlook.com...   \n",
       "3  {'id': 'grading_candidate_INTCA00442750', 'can...   \n",
       "4  {'id': 'grading_candidate_INTCA00442750', 'can...   \n",
       "\n",
       "                                            req_data skills_w2v  titles_w2v  \\\n",
       "0  {'id': 'grading_req_INTJR0006847', 'req_id': '...   0.557675    0.572806   \n",
       "1  {'id': 'grading_req_INTJR0006847', 'req_id': '...   0.401848    0.514445   \n",
       "2  {'id': 'grading_req_INTJR0006847', 'req_id': '...   0.649868    0.679478   \n",
       "3  {'id': 'grading_req_INTJR0038683', 'req_id': '...   0.439158    0.710950   \n",
       "4  {'id': 'grading_req_INTJR0038683', 'req_id': '...   0.439158    0.710950   \n",
       "\n",
       "  skills_by_importance  professions_match  profession_years_grade  ...  \\\n",
       "0                 None           0.863959                     1.0  ...   \n",
       "1                 None           0.721469                     1.0  ...   \n",
       "2                 None           0.437605                     1.0  ...   \n",
       "3                  0.0           0.819152                     1.0  ...   \n",
       "4                  0.0           0.819152                     1.0  ...   \n",
       "\n",
       "  model_score  time_in_position  level_score  skill_score performance_model  \\\n",
       "0        None              None         None         None              None   \n",
       "1        None              None         None         None              None   \n",
       "2        None              None         None         None              None   \n",
       "3        None              None         None         None              None   \n",
       "4        None              None         None         None              None   \n",
       "\n",
       "  seniority_grade future_apply_grade majors_grade     grade  initial_grades  \n",
       "0             0.0               None          1.0  0.746462        0.545034  \n",
       "1             0.0               None          1.0  0.499889        0.450111  \n",
       "2             0.0               None          1.0  0.055417        0.230481  \n",
       "3             0.0           0.077532          1.0  0.718201        0.533114  \n",
       "4             0.0           0.077532          1.0  0.718201        0.533114  \n",
       "\n",
       "[5 rows x 24 columns]"
      ]
     },
     "execution_count": 18,
     "metadata": {},
     "output_type": "execute_result"
    }
   ],
   "source": [
    "features_df.head()"
   ]
  },
  {
   "cell_type": "code",
   "execution_count": 16,
   "id": "b5ffebe8-a41f-4001-b3ae-0f8d602bde4e",
   "metadata": {
    "tags": []
   },
   "outputs": [
    {
     "name": "stderr",
     "output_type": "stream",
     "text": [
      "/Users/dima/.virtualenvs/hs/lib/python3.9/site-packages/pandas/plotting/_matplotlib/core.py:1041: UserWarning: No data for colormapping provided via 'c'. Parameters 'cmap' will be ignored\n",
      "  scatter = ax.scatter(\n"
     ]
    },
    {
     "data": {
      "text/plain": [
       "<Axes: xlabel='professions_match', ylabel='grade'>"
      ]
     },
     "execution_count": 16,
     "metadata": {},
     "output_type": "execute_result"
    },
    {
     "data": {
      "image/png": "[encoded data removed]",
      "text/plain": [
       "<Figure size 640x480 with 1 Axes>"
      ]
     },
     "metadata": {},
     "output_type": "display_data"
    }
   ],
   "source": [
    "cols = ['skills_w2v', 'titles_w2v', 'professions_match', 'majors_grade', 'grade']\n",
    "features_df.plot.scatter('professions_match', 'grade')"
   ]
  },
  {
   "cell_type": "code",
   "execution_count": 17,
   "id": "351bbcd5-6d91-4b13-9988-ae573ef7fc66",
   "metadata": {
    "tags": []
   },
   "outputs": [
    {
     "data": {
      "text/plain": [
       "<Axes: xlabel='grade', ylabel='Count'>"
      ]
     },
     "execution_count": 17,
     "metadata": {},
     "output_type": "execute_result"
    },
    {
     "data": {
      "image/png": "[encoded data removed]",
      "text/plain": [
       "<Figure size 640x480 with 1 Axes>"
      ]
     },
     "metadata": {},
     "output_type": "display_data"
    }
   ],
   "source": [
    "sns.histplot(data=features_df, x='grade', hue='label')"
   ]
  },
  {
   "cell_type": "code",
   "execution_count": null,
   "id": "7e9b0a73-05ef-4af3-84e2-dcbb6c3b07b6",
   "metadata": {},
   "outputs": [],
   "source": []
  }
 ],
 "metadata": {
  "kernelspec": {
   "display_name": "Python 3 (ipykernel)",
   "language": "python",
   "name": "python3"
  },
  "language_info": {
   "codemirror_mode": {
    "name": "ipython",
    "version": 3
   },
   "file_extension": ".py",
   "mimetype": "text/x-python",
   "name": "python",
   "nbconvert_exporter": "python",
   "pygments_lexer": "ipython3",
   "version": "3.9.5"
  }
 },
 "nbformat": 4,
 "nbformat_minor": 5
}
