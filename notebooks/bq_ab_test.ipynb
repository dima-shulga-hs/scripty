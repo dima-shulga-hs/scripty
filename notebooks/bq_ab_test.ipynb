{
 "cells": [
  {
   "cell_type": "code",
   "execution_count": 121,
   "id": "815c8ce5-afd3-424b-a842-50423cbe13a1",
   "metadata": {
    "tags": []
   },
   "outputs": [],
   "source": [
    "import re \n",
    "import pandas as pd\n",
    "import numpy as np\n",
    "from datetime import date, datetime, timedelta\n",
    "from analytics_utils.bigquery_utils import get_bq_client, BigQuery\n",
    "import matplotlib.pyplot as plt\n",
    "from collections import Counter\n",
    "from hs_fetch.fast_fetch.recipes.utils import get_relevant_fetch_recipes_names\n",
    "from hs_fetch.utils.fetch_accounts_config_objects import get_fetch_config\n",
    "from hs_gimme.constants.clients import ClientsNames\n",
    "from datetime import datetime"
   ]
  },
  {
   "cell_type": "code",
   "execution_count": 122,
   "id": "4b060a70-102a-424f-9247-4afc446d5c4b",
   "metadata": {
    "tags": []
   },
   "outputs": [],
   "source": [
    "STAGE_MAP = {\n",
    "    'New': 1, 'Review': 2, 'Marked Relevant': 4, \n",
    "    'Opened': 2, 'Clicked': 2, 'Delivered': 4, \n",
    "    'Suppressed': 3, 'Dismissed': 3\n",
    "}\n",
    "\n",
    "REVERSE_STAGE_MAP = {\n",
    "    1: 'New',\n",
    "    2: 'Review',\n",
    "    3: 'Dismissed',\n",
    "    4: 'Marked Relevant'\n",
    "}\n",
    "\n",
    "DIM_MAP = {\n",
    "    'Client': \"fetch_recommendation_activity_customer\", \n",
    "    'Client Industry': \"Industry\", \n",
    "    'Req Seniority': \"dim_req_required_seniority_level\", \n",
    "    'Req Top Category': \"dim_req_top_category_calculated\"\n",
    "}\n",
    "\n",
    "PATTERN_DELETE = r'(?=.+posit.+fill.+)|(?=.+posit.+interna.+)|(?=.+terna.+nly.+)|(?=.+interna.+fill.+)|(?=.+cand.+not.+interested.+)|(?=.+not.+reach.+)|(?=.+reach.+not.+)|(?=.+urrent.+employ.+)|(?=.*\\bprocess\\b.*\\banother\\b.*\\breq\\b)'\n",
    "\n",
    "REASONS_TO_FILTER = {\n",
    "    'other: Position will be filled internally ',\n",
    "    'Candidate invited to apply',\n",
    "    'In process in another req ',\n",
    "    'Current Employee',\n",
    "    'other: Position filled',\n",
    "    'other: Internal only',\n",
    "    'Qualified but candidate not interested at this time',\n",
    "    \n",
    "}\n",
    "\n",
    "REASONS_TO_FILTER = {x.lower().strip() for x in REASONS_TO_FILTER}\n",
    "\n",
    "def check_id(user_id):\n",
    "    if user_id:\n",
    "        if 'test' in user_id:\n",
    "            return False\n",
    "        elif str(user_id).endswith('-1'):\n",
    "            return False\n",
    "    return True\n",
    "\n",
    "client_industry = pd.read_excel('planhat-companies-Oct-29-2023.xlsx')"
   ]
  },
  {
   "cell_type": "code",
   "execution_count": 163,
   "id": "188ecd9c-83eb-44c2-b285-8637bb6f9ebc",
   "metadata": {
    "tags": []
   },
   "outputs": [],
   "source": [
    "def get_dataframe(from_date, to_date, account=None):\n",
    "    db_client = get_bq_client('production')\n",
    "    sql = f\"\"\"\n",
    "        SELECT\n",
    "            fetch_recommendation_activity.id as recommendation_id,\n",
    "            creation_date_key,\n",
    "            creation_ts,\n",
    "            fetch_type,\n",
    "            recommendation_status,\n",
    "            fact_recommendation_status_history.analytics_fetch_status_bucket  AS fact_recommendation_status_history_fetch_bucket,\n",
    "            fetch_recommendation_activity.req_id  AS fetch_recommendation_activity_req_id,\n",
    "            fetch_recommendation_activity.talent_id  AS fetch_recommendation_activity_talent_id,\n",
    "            fact_recommendation_status_history.reason  AS fact_recommendation_status_history_reason,\n",
    "            (DATE(fact_recommendation_status_history.status_ts )) AS fact_recommendation_status_history_status_at_date,\n",
    "            fetch_recommendation_activity.customer  AS fetch_recommendation_activity_customer,\n",
    "            dim_req.required_seniority_level  AS dim_req_required_seniority_level,\n",
    "            dim_req.top_category  AS dim_req_top_category_calculated,\n",
    "            fact_recommendation_status_history.user_id  AS fact_recommendation_status_history_user_id\n",
    "        FROM `hs-analytics.all_customers.dwh_hs_dim_recommendation`\n",
    "             AS fetch_recommendation_activity\n",
    "        LEFT JOIN `hs-analytics.all_customers.dwh_hs_fact_recommendation_status_history`\n",
    "             AS fact_recommendation_status_history ON fetch_recommendation_activity.key = fact_recommendation_status_history.recommendation_key\n",
    "            and fetch_recommendation_activity.customer = fact_recommendation_status_history.customer\n",
    "        FULL OUTER JOIN `hs-analytics.all_customers.dwh_hs_dim_req`\n",
    "             AS dim_req ON dim_req.key = fetch_recommendation_activity.req_key\n",
    "            and dim_req.customer = fetch_recommendation_activity.customer\n",
    "        WHERE (fact_recommendation_status_history.analytics_fetch_status_bucket ) IN ('Dismissed', 'Marked Relevant', 'Review') \n",
    "         --   AND fetch_recommendation_activity.customer = \"{account}\"\n",
    "            AND ((( fact_recommendation_status_history.status_ts  ) >= (TIMESTAMP(\"{str(from_date)}\")) \n",
    "            AND ( fact_recommendation_status_history.status_ts  ) < (TIMESTAMP(\"{str(to_date)}\")))) \n",
    "            AND (fetch_recommendation_activity.customer not in ( 'princeton',\n",
    "                 'arizona_wd_staging',\n",
    "                 'antigua',\n",
    "                 'havana',\n",
    "                 'seoul_icims',\n",
    "                 'arizona' ))\n",
    "        GROUP BY\n",
    "            1,\n",
    "            2,\n",
    "            3,\n",
    "            4,\n",
    "            5,\n",
    "            6,\n",
    "            7,\n",
    "            8,\n",
    "            9,\n",
    "            10,\n",
    "            11,\n",
    "            12,\n",
    "            13,\n",
    "            14\n",
    "    \"\"\"\n",
    "    job_result = db_client.execute(sql)\n",
    "    df = job_result['query_reults'].to_dataframe()\n",
    "    df.to_csv('cache_dump.csv', index=None)\n",
    "    df['Date'] = pd.to_datetime(df['fact_recommendation_status_history_status_at_date'])\n",
    "    return df"
   ]
  },
  {
   "cell_type": "code",
   "execution_count": 164,
   "id": "7f354614-018c-4eb7-a1f4-da5e684e39ff",
   "metadata": {
    "tags": []
   },
   "outputs": [],
   "source": [
    "def prepare_df(df):\n",
    "    calc_df = df.copy()\n",
    "\n",
    "    calc_df['Date'] = pd.to_datetime(calc_df['fact_recommendation_status_history_status_at_date'])\n",
    "    for period in ('M', 'W', '2W'):\n",
    "        calc_df[f'Period {period}'] = calc_df['Date'].dt.to_period(period)\n",
    "\n",
    "    calc_df['bucket_code'] = calc_df['fact_recommendation_status_history_fetch_bucket'].map(STAGE_MAP)\n",
    "    calc_df['pair_id'] = calc_df['fetch_recommendation_activity_req_id'].fillna('nan') + '_' + calc_df['fetch_recommendation_activity_talent_id'].fillna('nan')\n",
    "\n",
    "    leads_to_filter = set(calc_df[\n",
    "        calc_df['fact_recommendation_status_history_reason'].fillna('').apply(\n",
    "            lambda x: (bool(re.findall(PATTERN_DELETE, x.lower())) and ('qualif' not in x.lower())) or x.lower().strip() in REASONS_TO_FILTER\n",
    "        )\n",
    "    ]['pair_id'].values)\n",
    "\n",
    "\n",
    "    calc_df[\n",
    "        calc_df['fact_recommendation_status_history_reason'].fillna('').apply(\n",
    "            lambda x: (bool(re.findall(PATTERN_DELETE, x.lower())) and ('qualif' not in x.lower())) or x.lower().strip() in REASONS_TO_FILTER\n",
    "        )\n",
    "    ]['bucket_code'] = STAGE_MAP['Marked Relevant']\n",
    "\n",
    "    calc_df = calc_df[\n",
    "        (~calc_df['pair_id'].isin(leads_to_filter)) & \n",
    "        (calc_df['fact_recommendation_status_history_user_id'].fillna('').apply(check_id))\n",
    "    ]\n",
    "    grouped_df = calc_df.groupby(\n",
    "        ['pair_id'], as_index=False\n",
    "    ).agg(\n",
    "        {\"bucket_code\": \"max\",\n",
    "         'fetch_recommendation_activity_req_id': 'first',\n",
    "         'fetch_recommendation_activity_talent_id': 'first',\n",
    "         'fetch_recommendation_activity_customer': 'first',\n",
    "         'fact_recommendation_status_history_user_id': 'first',\n",
    "         'Date': 'max',\n",
    "         'Period M': 'max',\n",
    "         'Period W': 'max',\n",
    "         'Period 2W': 'max',     \n",
    "         'dim_req_top_category_calculated': 'first',\n",
    "         'dim_req_required_seniority_level': 'first',\n",
    "        })\n",
    "\n",
    "    grouped_df['Max Status Bucket'] = grouped_df['bucket_code'].map(REVERSE_STAGE_MAP)\n",
    "    grouped_df = pd.concat([grouped_df, pd.get_dummies(grouped_df['Max Status Bucket'])], axis=1)\n",
    "    grouped_df = grouped_df.dropna(subset=['Max Status Bucket'])\n",
    "\n",
    "    client_industry['Account Name'] = client_industry['Account Name'].str.lower()\n",
    "    grouped_df = pd.merge(grouped_df, client_industry, \n",
    "                          left_on='fetch_recommendation_activity_customer', \n",
    "                          right_on='Account Name', how='left')\n",
    "    return grouped_df"
   ]
  },
  {
   "cell_type": "code",
   "execution_count": 165,
   "id": "2a7d7615-567e-4390-9c52-89f7bd7ba171",
   "metadata": {
    "tags": []
   },
   "outputs": [],
   "source": [
    "def calc_rate(ddf):\n",
    "    return ddf['Marked Relevant'].sum() / (ddf['Marked Relevant'] + ddf['Dismissed'] + ddf['Review']).sum()"
   ]
  },
  {
   "cell_type": "code",
   "execution_count": 166,
   "id": "19b73bbd-52e1-4f0c-9b81-3088a1082c10",
   "metadata": {
    "tags": []
   },
   "outputs": [
    {
     "data": {
      "text/plain": [
       "(10595, 15)"
      ]
     },
     "execution_count": 166,
     "metadata": {},
     "output_type": "execute_result"
    }
   ],
   "source": [
    "raw_df = get_dataframe(date(2024, 2, 6), date(2024, 12, 28))\n",
    "raw_df.shape"
   ]
  },
  {
   "cell_type": "code",
   "execution_count": 167,
   "id": "a3e3bfb0-24b3-4a7b-b6bc-de794c80db9f",
   "metadata": {
    "tags": []
   },
   "outputs": [],
   "source": [
    "def get_recipe(row):\n",
    "    return get_relevant_fetch_recipes_names(\n",
    "            account_id=row['fetch_recommendation_activity_customer'],\n",
    "            req_id=row['fetch_recommendation_activity_req_id'],\n",
    "            interactive_input={},\n",
    "            fetch_config=get_fetch_config(row['fetch_recommendation_activity_customer'], None),\n",
    "            environment=None,\n",
    "            es_tag=None,\n",
    "    )"
   ]
  },
  {
   "cell_type": "code",
   "execution_count": 88,
   "id": "2d83344c-5660-49d4-bf27-60d7209c64e6",
   "metadata": {
    "tags": []
   },
   "outputs": [
    {
     "name": "stderr",
     "output_type": "stream",
     "text": [
      "/var/folders/_p/8_m91crj199_rd7sndkxncc80000gp/T/ipykernel_33038/3353077257.py:18: SettingWithCopyWarning: \n",
      "A value is trying to be set on a copy of a slice from a DataFrame.\n",
      "Try using .loc[row_indexer,col_indexer] = value instead\n",
      "\n",
      "See the caveats in the documentation: https://pandas.pydata.org/pandas-docs/stable/user_guide/indexing.html#returning-a-view-versus-a-copy\n",
      "  calc_df[\n"
     ]
    },
    {
     "data": {
      "text/plain": [
       "((1167, 20),\n",
       " base_fetch                                   781\n",
       " base_fetch&legacy_query_fetch_for_ab_test    386\n",
       " Name: recipe, dtype: int64)"
      ]
     },
     "execution_count": 88,
     "metadata": {},
     "output_type": "execute_result"
    }
   ],
   "source": [
    "ACCOUNT = 'port'\n",
    "ACCOUNTS = {\n",
    "    ClientsNames.ANTALYA,\n",
    "    ClientsNames.PORTO,\n",
    "    ClientsNames.SEATTLE,\n",
    "    ClientsNames.MOSCOW,\n",
    "    ClientsNames.ATHENS,\n",
    "    ClientsNames.CANCUN,\n",
    "    ClientsNames.INDIANA,\n",
    "    ClientsNames.ARIZONA,\n",
    "    ClientsNames.OXFORD,\n",
    "}\n",
    "#prep_df = prepare_df(raw_df[raw_df['fetch_recommendation_activity_customer'].isin(ACCOUNTS)])\n",
    "prep_df = prepare_df(raw_df[raw_df['fetch_recommendation_activity_customer'] == ACCOUNT])\n",
    "prep_df['user_cat_pair'] = prep_df['fact_recommendation_status_history_user_id'] + prep_df['dim_req_top_category_calculated']\n",
    "prep_df['recipe'] = prep_df.apply(get_recipe, axis=1)\n",
    "prep_df.shape, prep_df['recipe'].value_counts()"
   ]
  },
  {
   "cell_type": "code",
   "execution_count": 89,
   "id": "cb3eaedc-8829-41dc-8e15-084e3ea30fc3",
   "metadata": {
    "tags": []
   },
   "outputs": [
    {
     "data": {
      "text/plain": [
       "((386, 20), (781, 20))"
      ]
     },
     "execution_count": 89,
     "metadata": {},
     "output_type": "execute_result"
    }
   ],
   "source": [
    "a_df = prep_df[prep_df['recipe'] == 'base_fetch&legacy_query_fetch_for_ab_test']\n",
    "b_df = prep_df[prep_df['recipe'] == 'base_fetch']\n",
    "a_df.shape, b_df.shape"
   ]
  },
  {
   "cell_type": "code",
   "execution_count": 90,
   "id": "ec3bb044-db9a-48ce-bc0e-c65eb7c086ee",
   "metadata": {
    "tags": []
   },
   "outputs": [
    {
     "data": {
      "text/plain": [
       "(0.4067357512953368, 0.6542893725992317)"
      ]
     },
     "execution_count": 90,
     "metadata": {},
     "output_type": "execute_result"
    }
   ],
   "source": [
    "calc_rate(a_df), calc_rate(b_df)"
   ]
  },
  {
   "cell_type": "code",
   "execution_count": 91,
   "id": "e9f667c1-3d82-4ada-8064-d2ec66503886",
   "metadata": {
    "tags": []
   },
   "outputs": [
    {
     "data": {
      "text/plain": [
       "5"
      ]
     },
     "execution_count": 91,
     "metadata": {},
     "output_type": "execute_result"
    }
   ],
   "source": [
    "relevant_pairs = set(a_df['user_cat_pair'].value_counts().loc[lambda x: x > 10].index) & set(b_df['user_cat_pair'].value_counts().loc[lambda x: x > 10].index)\n",
    "len(relevant_pairs)"
   ]
  },
  {
   "cell_type": "code",
   "execution_count": 92,
   "id": "5c5515b1-e5d3-4107-8612-b48265a38301",
   "metadata": {
    "tags": []
   },
   "outputs": [
    {
     "data": {
      "text/plain": [
       "{'ADV111Medical',\n",
       " 'ADV197Customer_Support',\n",
       " 'ADV197Security',\n",
       " 'ADV251Medical',\n",
       " 'ADV262Medical'}"
      ]
     },
     "execution_count": 92,
     "metadata": {},
     "output_type": "execute_result"
    }
   ],
   "source": [
    "relevant_pairs"
   ]
  },
  {
   "cell_type": "code",
   "execution_count": 93,
   "id": "7ce931be-abd3-4f15-8a3c-b48ed7790f94",
   "metadata": {
    "tags": []
   },
   "outputs": [
    {
     "data": {
      "text/plain": [
       "(149, 20)"
      ]
     },
     "execution_count": 93,
     "metadata": {},
     "output_type": "execute_result"
    }
   ],
   "source": [
    "filtered_a_df = a_df[a_df['user_cat_pair'].isin(relevant_pairs)].copy()\n",
    "filtered_a_df.shape"
   ]
  },
  {
   "cell_type": "code",
   "execution_count": 94,
   "id": "0574346b-6131-479d-91cd-0acbad664c55",
   "metadata": {
    "tags": []
   },
   "outputs": [
    {
     "data": {
      "text/plain": [
       "(261, 20)"
      ]
     },
     "execution_count": 94,
     "metadata": {},
     "output_type": "execute_result"
    }
   ],
   "source": [
    "filtered_b_df = b_df[b_df['user_cat_pair'].isin(relevant_pairs)].copy()\n",
    "filtered_b_df.shape"
   ]
  },
  {
   "cell_type": "code",
   "execution_count": 95,
   "id": "4b5bb56c-a754-4fd2-a6d5-dc825b555745",
   "metadata": {
    "tags": []
   },
   "outputs": [
    {
     "data": {
      "text/plain": [
       "(0.3422818791946309, 0.4942528735632184)"
      ]
     },
     "execution_count": 95,
     "metadata": {},
     "output_type": "execute_result"
    }
   ],
   "source": [
    "calc_rate(filtered_a_df), calc_rate(filtered_b_df)"
   ]
  },
  {
   "cell_type": "code",
   "execution_count": 96,
   "id": "584be506-bdb0-4bd0-ae25-fc82224aada3",
   "metadata": {
    "tags": []
   },
   "outputs": [
    {
     "data": {
      "text/plain": [
       "(410, 21)"
      ]
     },
     "execution_count": 96,
     "metadata": {},
     "output_type": "execute_result"
    }
   ],
   "source": [
    "filtered_a_df['algo'] = 'OLD'\n",
    "filtered_b_df['algo'] = 'NEW'\n",
    "new_df = pd.concat([filtered_a_df, filtered_b_df])\n",
    "new_df.shape"
   ]
  },
  {
   "cell_type": "code",
   "execution_count": 105,
   "id": "0a683b75-c5ab-4b08-b94e-c1e1fb3e8bde",
   "metadata": {
    "tags": []
   },
   "outputs": [],
   "source": [
    "gb = ['fact_recommendation_status_history_user_id', 'dim_req_top_category_calculated', 'algo']\n",
    "gdf = new_df.groupby(gb).sum()[['Marked Relevant', 'Dismissed', 'Review']]"
   ]
  },
  {
   "cell_type": "code",
   "execution_count": 106,
   "id": "b9211411-f0de-41d2-a881-a72dcd90df1b",
   "metadata": {
    "tags": []
   },
   "outputs": [],
   "source": [
    "gdf = gdf[(gdf['Marked Relevant'] > 1) & (gdf['Dismissed'] > 1)]"
   ]
  },
  {
   "cell_type": "code",
   "execution_count": 107,
   "id": "98a70ec4-23bd-4066-a81a-b32c81fe4482",
   "metadata": {
    "tags": []
   },
   "outputs": [],
   "source": [
    "gdf['total'] = gdf['Marked Relevant'] + gdf['Dismissed'] + gdf['Review']\n",
    "gdf['rate'] = gdf['Marked Relevant'] / gdf['total']\n",
    "gdf['num_of_reqs'] = new_df.groupby(gb)['fetch_recommendation_activity_req_id'].nunique()"
   ]
  },
  {
   "cell_type": "code",
   "execution_count": 108,
   "id": "9eba7bd8-bcee-4102-82b5-2ba1f84c13c4",
   "metadata": {
    "tags": []
   },
   "outputs": [
    {
     "data": {
      "text/html": [
       "<div>\n",
       "<style scoped>\n",
       "    .dataframe tbody tr th:only-of-type {\n",
       "        vertical-align: middle;\n",
       "    }\n",
       "\n",
       "    .dataframe tbody tr th {\n",
       "        vertical-align: top;\n",
       "    }\n",
       "\n",
       "    .dataframe thead th {\n",
       "        text-align: right;\n",
       "    }\n",
       "</style>\n",
       "<table border=\"1\" class=\"dataframe\">\n",
       "  <thead>\n",
       "    <tr style=\"text-align: right;\">\n",
       "      <th></th>\n",
       "      <th>rate</th>\n",
       "    </tr>\n",
       "    <tr>\n",
       "      <th>algo</th>\n",
       "      <th></th>\n",
       "    </tr>\n",
       "  </thead>\n",
       "  <tbody>\n",
       "    <tr>\n",
       "      <th>NEW</th>\n",
       "      <td>0.391624</td>\n",
       "    </tr>\n",
       "    <tr>\n",
       "      <th>OLD</th>\n",
       "      <td>0.274017</td>\n",
       "    </tr>\n",
       "  </tbody>\n",
       "</table>\n",
       "</div>"
      ],
      "text/plain": [
       "          rate\n",
       "algo          \n",
       "NEW   0.391624\n",
       "OLD   0.274017"
      ]
     },
     "execution_count": 108,
     "metadata": {},
     "output_type": "execute_result"
    }
   ],
   "source": [
    "gdf.reset_index().groupby('algo')[['rate']].mean()"
   ]
  },
  {
   "cell_type": "code",
   "execution_count": 109,
   "id": "c78b45bb-21f5-4c23-aaa2-fee8e2a2a57a",
   "metadata": {
    "tags": []
   },
   "outputs": [],
   "source": [
    "udf = gdf.unstack().dropna()\n",
    "udf['ratio'] = (udf[('rate', 'NEW')] / udf[('rate', 'OLD')])"
   ]
  },
  {
   "cell_type": "code",
   "execution_count": 110,
   "id": "1b68e5c4-f2d7-4671-bd4a-0b1164c16d59",
   "metadata": {
    "tags": []
   },
   "outputs": [
    {
     "data": {
      "text/html": [
       "<div>\n",
       "<style scoped>\n",
       "    .dataframe tbody tr th:only-of-type {\n",
       "        vertical-align: middle;\n",
       "    }\n",
       "\n",
       "    .dataframe tbody tr th {\n",
       "        vertical-align: top;\n",
       "    }\n",
       "\n",
       "    .dataframe thead tr th {\n",
       "        text-align: left;\n",
       "    }\n",
       "\n",
       "    .dataframe thead tr:last-of-type th {\n",
       "        text-align: right;\n",
       "    }\n",
       "</style>\n",
       "<table border=\"1\" class=\"dataframe\">\n",
       "  <thead>\n",
       "    <tr>\n",
       "      <th></th>\n",
       "      <th></th>\n",
       "      <th colspan=\"2\" halign=\"left\">Marked Relevant</th>\n",
       "      <th colspan=\"2\" halign=\"left\">Dismissed</th>\n",
       "      <th colspan=\"2\" halign=\"left\">Review</th>\n",
       "      <th colspan=\"2\" halign=\"left\">total</th>\n",
       "      <th colspan=\"2\" halign=\"left\">rate</th>\n",
       "      <th colspan=\"2\" halign=\"left\">num_of_reqs</th>\n",
       "      <th>ratio</th>\n",
       "    </tr>\n",
       "    <tr>\n",
       "      <th></th>\n",
       "      <th>algo</th>\n",
       "      <th>NEW</th>\n",
       "      <th>OLD</th>\n",
       "      <th>NEW</th>\n",
       "      <th>OLD</th>\n",
       "      <th>NEW</th>\n",
       "      <th>OLD</th>\n",
       "      <th>NEW</th>\n",
       "      <th>OLD</th>\n",
       "      <th>NEW</th>\n",
       "      <th>OLD</th>\n",
       "      <th>NEW</th>\n",
       "      <th>OLD</th>\n",
       "      <th></th>\n",
       "    </tr>\n",
       "    <tr>\n",
       "      <th>fact_recommendation_status_history_user_id</th>\n",
       "      <th>dim_req_top_category_calculated</th>\n",
       "      <th></th>\n",
       "      <th></th>\n",
       "      <th></th>\n",
       "      <th></th>\n",
       "      <th></th>\n",
       "      <th></th>\n",
       "      <th></th>\n",
       "      <th></th>\n",
       "      <th></th>\n",
       "      <th></th>\n",
       "      <th></th>\n",
       "      <th></th>\n",
       "      <th></th>\n",
       "    </tr>\n",
       "  </thead>\n",
       "  <tbody>\n",
       "    <tr>\n",
       "      <th>ADV111</th>\n",
       "      <th>Medical</th>\n",
       "      <td>6.0</td>\n",
       "      <td>2.0</td>\n",
       "      <td>34.0</td>\n",
       "      <td>14.0</td>\n",
       "      <td>0.0</td>\n",
       "      <td>0.0</td>\n",
       "      <td>40.0</td>\n",
       "      <td>16.0</td>\n",
       "      <td>0.150000</td>\n",
       "      <td>0.125000</td>\n",
       "      <td>5.0</td>\n",
       "      <td>2.0</td>\n",
       "      <td>1.200000</td>\n",
       "    </tr>\n",
       "    <tr>\n",
       "      <th>ADV197</th>\n",
       "      <th>Security</th>\n",
       "      <td>99.0</td>\n",
       "      <td>24.0</td>\n",
       "      <td>22.0</td>\n",
       "      <td>16.0</td>\n",
       "      <td>0.0</td>\n",
       "      <td>0.0</td>\n",
       "      <td>121.0</td>\n",
       "      <td>40.0</td>\n",
       "      <td>0.818182</td>\n",
       "      <td>0.600000</td>\n",
       "      <td>8.0</td>\n",
       "      <td>5.0</td>\n",
       "      <td>1.363636</td>\n",
       "    </tr>\n",
       "    <tr>\n",
       "      <th>ADV251</th>\n",
       "      <th>Medical</th>\n",
       "      <td>9.0</td>\n",
       "      <td>8.0</td>\n",
       "      <td>18.0</td>\n",
       "      <td>16.0</td>\n",
       "      <td>0.0</td>\n",
       "      <td>0.0</td>\n",
       "      <td>27.0</td>\n",
       "      <td>24.0</td>\n",
       "      <td>0.333333</td>\n",
       "      <td>0.333333</td>\n",
       "      <td>4.0</td>\n",
       "      <td>3.0</td>\n",
       "      <td>1.000000</td>\n",
       "    </tr>\n",
       "    <tr>\n",
       "      <th>ADV262</th>\n",
       "      <th>Medical</th>\n",
       "      <td>3.0</td>\n",
       "      <td>2.0</td>\n",
       "      <td>50.0</td>\n",
       "      <td>51.0</td>\n",
       "      <td>0.0</td>\n",
       "      <td>0.0</td>\n",
       "      <td>53.0</td>\n",
       "      <td>53.0</td>\n",
       "      <td>0.056604</td>\n",
       "      <td>0.037736</td>\n",
       "      <td>8.0</td>\n",
       "      <td>7.0</td>\n",
       "      <td>1.500000</td>\n",
       "    </tr>\n",
       "  </tbody>\n",
       "</table>\n",
       "</div>"
      ],
      "text/plain": [
       "                                                                           Marked Relevant  \\\n",
       "algo                                                                                   NEW   \n",
       "fact_recommendation_status_history_user_id dim_req_top_category_calculated                   \n",
       "ADV111                                     Medical                                     6.0   \n",
       "ADV197                                     Security                                   99.0   \n",
       "ADV251                                     Medical                                     9.0   \n",
       "ADV262                                     Medical                                     3.0   \n",
       "\n",
       "                                                                                  \\\n",
       "algo                                                                         OLD   \n",
       "fact_recommendation_status_history_user_id dim_req_top_category_calculated         \n",
       "ADV111                                     Medical                           2.0   \n",
       "ADV197                                     Security                         24.0   \n",
       "ADV251                                     Medical                           8.0   \n",
       "ADV262                                     Medical                           2.0   \n",
       "\n",
       "                                                                           Dismissed  \\\n",
       "algo                                                                             NEW   \n",
       "fact_recommendation_status_history_user_id dim_req_top_category_calculated             \n",
       "ADV111                                     Medical                              34.0   \n",
       "ADV197                                     Security                             22.0   \n",
       "ADV251                                     Medical                              18.0   \n",
       "ADV262                                     Medical                              50.0   \n",
       "\n",
       "                                                                                  \\\n",
       "algo                                                                         OLD   \n",
       "fact_recommendation_status_history_user_id dim_req_top_category_calculated         \n",
       "ADV111                                     Medical                          14.0   \n",
       "ADV197                                     Security                         16.0   \n",
       "ADV251                                     Medical                          16.0   \n",
       "ADV262                                     Medical                          51.0   \n",
       "\n",
       "                                                                           Review  \\\n",
       "algo                                                                          NEW   \n",
       "fact_recommendation_status_history_user_id dim_req_top_category_calculated          \n",
       "ADV111                                     Medical                            0.0   \n",
       "ADV197                                     Security                           0.0   \n",
       "ADV251                                     Medical                            0.0   \n",
       "ADV262                                     Medical                            0.0   \n",
       "\n",
       "                                                                                 \\\n",
       "algo                                                                        OLD   \n",
       "fact_recommendation_status_history_user_id dim_req_top_category_calculated        \n",
       "ADV111                                     Medical                          0.0   \n",
       "ADV197                                     Security                         0.0   \n",
       "ADV251                                     Medical                          0.0   \n",
       "ADV262                                     Medical                          0.0   \n",
       "\n",
       "                                                                            total  \\\n",
       "algo                                                                          NEW   \n",
       "fact_recommendation_status_history_user_id dim_req_top_category_calculated          \n",
       "ADV111                                     Medical                           40.0   \n",
       "ADV197                                     Security                         121.0   \n",
       "ADV251                                     Medical                           27.0   \n",
       "ADV262                                     Medical                           53.0   \n",
       "\n",
       "                                                                                  \\\n",
       "algo                                                                         OLD   \n",
       "fact_recommendation_status_history_user_id dim_req_top_category_calculated         \n",
       "ADV111                                     Medical                          16.0   \n",
       "ADV197                                     Security                         40.0   \n",
       "ADV251                                     Medical                          24.0   \n",
       "ADV262                                     Medical                          53.0   \n",
       "\n",
       "                                                                                rate  \\\n",
       "algo                                                                             NEW   \n",
       "fact_recommendation_status_history_user_id dim_req_top_category_calculated             \n",
       "ADV111                                     Medical                          0.150000   \n",
       "ADV197                                     Security                         0.818182   \n",
       "ADV251                                     Medical                          0.333333   \n",
       "ADV262                                     Medical                          0.056604   \n",
       "\n",
       "                                                                                      \\\n",
       "algo                                                                             OLD   \n",
       "fact_recommendation_status_history_user_id dim_req_top_category_calculated             \n",
       "ADV111                                     Medical                          0.125000   \n",
       "ADV197                                     Security                         0.600000   \n",
       "ADV251                                     Medical                          0.333333   \n",
       "ADV262                                     Medical                          0.037736   \n",
       "\n",
       "                                                                           num_of_reqs  \\\n",
       "algo                                                                               NEW   \n",
       "fact_recommendation_status_history_user_id dim_req_top_category_calculated               \n",
       "ADV111                                     Medical                                 5.0   \n",
       "ADV197                                     Security                                8.0   \n",
       "ADV251                                     Medical                                 4.0   \n",
       "ADV262                                     Medical                                 8.0   \n",
       "\n",
       "                                                                                 \\\n",
       "algo                                                                        OLD   \n",
       "fact_recommendation_status_history_user_id dim_req_top_category_calculated        \n",
       "ADV111                                     Medical                          2.0   \n",
       "ADV197                                     Security                         5.0   \n",
       "ADV251                                     Medical                          3.0   \n",
       "ADV262                                     Medical                          7.0   \n",
       "\n",
       "                                                                               ratio  \n",
       "algo                                                                                  \n",
       "fact_recommendation_status_history_user_id dim_req_top_category_calculated            \n",
       "ADV111                                     Medical                          1.200000  \n",
       "ADV197                                     Security                         1.363636  \n",
       "ADV251                                     Medical                          1.000000  \n",
       "ADV262                                     Medical                          1.500000  "
      ]
     },
     "execution_count": 110,
     "metadata": {},
     "output_type": "execute_result"
    }
   ],
   "source": [
    "udf"
   ]
  },
  {
   "cell_type": "code",
   "execution_count": 192,
   "id": "a842c88d-3d60-4ebe-8752-57c22827b06d",
   "metadata": {},
   "outputs": [],
   "source": [
    "rdf = raw_df[raw_df['fetch_recommendation_activity_customer'] == 'porto']"
   ]
  },
  {
   "cell_type": "code",
   "execution_count": 193,
   "id": "d4b669a2-e703-42bc-851d-f9c756ba494d",
   "metadata": {
    "tags": []
   },
   "outputs": [
    {
     "data": {
      "text/plain": [
       "(1528, 15)"
      ]
     },
     "execution_count": 193,
     "metadata": {},
     "output_type": "execute_result"
    }
   ],
   "source": [
    "rdf.shape"
   ]
  },
  {
   "cell_type": "code",
   "execution_count": 194,
   "id": "e1fb9945-a5ab-4cd6-816f-d4e72120c749",
   "metadata": {
    "tags": []
   },
   "outputs": [
    {
     "data": {
      "text/plain": [
       "(86, 15)"
      ]
     },
     "execution_count": 194,
     "metadata": {},
     "output_type": "execute_result"
    }
   ],
   "source": [
    "rdf = rdf[(rdf['recommendation_status'] != 'new') & (rdf['fetch_type'] == 'passive_fetch')]\n",
    "rdf.shape"
   ]
  },
  {
   "cell_type": "code",
   "execution_count": 195,
   "id": "24903d77-f8f5-477a-9926-051379e87838",
   "metadata": {
    "tags": []
   },
   "outputs": [
    {
     "data": {
      "text/plain": [
       "viewed       38\n",
       "dismissed    33\n",
       "contacted    15\n",
       "Name: recommendation_status, dtype: int64"
      ]
     },
     "execution_count": 195,
     "metadata": {},
     "output_type": "execute_result"
    }
   ],
   "source": [
    "rdf['recommendation_status'].value_counts(dropna=False)"
   ]
  },
  {
   "cell_type": "code",
   "execution_count": 196,
   "id": "d3729e3c-4b1d-4d4b-9a28-5544c16ea9b7",
   "metadata": {
    "tags": []
   },
   "outputs": [
    {
     "data": {
      "text/plain": [
       "viewed       38\n",
       "dismissed    33\n",
       "contacted    15\n",
       "Name: recommendation_status, dtype: int64"
      ]
     },
     "execution_count": 196,
     "metadata": {},
     "output_type": "execute_result"
    }
   ],
   "source": [
    "rdf['recommendation_status'].value_counts(dropna=False)"
   ]
  },
  {
   "cell_type": "code",
   "execution_count": 198,
   "id": "aff85c4f-76c7-4d5d-ab21-b54380e85010",
   "metadata": {
    "tags": []
   },
   "outputs": [
    {
     "data": {
      "text/plain": [
       "76"
      ]
     },
     "execution_count": 198,
     "metadata": {},
     "output_type": "execute_result"
    }
   ],
   "source": [
    "len(set(rdf['recommendation_id']))"
   ]
  },
  {
   "cell_type": "code",
   "execution_count": 201,
   "id": "7304b669-c990-4ad7-a5f0-23adb30304d8",
   "metadata": {
    "tags": []
   },
   "outputs": [
    {
     "name": "stderr",
     "output_type": "stream",
     "text": [
      "/var/folders/_p/8_m91crj199_rd7sndkxncc80000gp/T/ipykernel_33038/2161962815.py:1: FutureWarning: Treating datetime data as categorical rather than numeric in `.describe` is deprecated and will be removed in a future version of pandas. Specify `datetime_is_numeric=True` to silence this warning and adopt the future behavior now.\n",
      "  rdf['creation_ts'].describe()\n"
     ]
    },
    {
     "data": {
      "text/plain": [
       "count                                   86\n",
       "unique                                  76\n",
       "top       2024-02-06 17:30:11.737000+00:00\n",
       "freq                                     2\n",
       "first     2023-12-19 21:06:37.845000+00:00\n",
       "last      2024-02-07 13:58:44.360000+00:00\n",
       "Name: creation_ts, dtype: object"
      ]
     },
     "execution_count": 201,
     "metadata": {},
     "output_type": "execute_result"
    }
   ],
   "source": [
    "rdf['creation_ts'].describe()"
   ]
  },
  {
   "cell_type": "code",
   "execution_count": 207,
   "id": "2c43119e-f649-440b-a95f-b2a33a48b799",
   "metadata": {
    "tags": []
   },
   "outputs": [],
   "source": [
    "ddf = rdf[pd.to_datetime(rdf['creation_ts']).dt.date >= date(2024, 2, 6)]"
   ]
  },
  {
   "cell_type": "code",
   "execution_count": 208,
   "id": "c64423d3-49b1-4222-920e-1f9229a5bfbc",
   "metadata": {
    "tags": []
   },
   "outputs": [
    {
     "data": {
      "text/plain": [
       "(75, 15)"
      ]
     },
     "execution_count": 208,
     "metadata": {},
     "output_type": "execute_result"
    }
   ],
   "source": [
    "ddf.shape"
   ]
  },
  {
   "cell_type": "code",
   "execution_count": 209,
   "id": "cfadc5a5-4690-429b-b41a-8e7f7378e959",
   "metadata": {
    "tags": []
   },
   "outputs": [
    {
     "data": {
      "text/plain": [
       "<Axes: >"
      ]
     },
     "execution_count": 209,
     "metadata": {},
     "output_type": "execute_result"
    },
    {
     "data": {
      "image/png": "[encoded data removed]",
      "text/plain": [
       "<Figure size 640x480 with 1 Axes>"
      ]
     },
     "metadata": {},
     "output_type": "display_data"
    }
   ],
   "source": [
    "rdf['creation_ts'].hist()"
   ]
  },
  {
   "cell_type": "code",
   "execution_count": 211,
   "id": "f5aea367-6f1f-43b2-bd29-d2d80c206050",
   "metadata": {
    "tags": []
   },
   "outputs": [
    {
     "data": {
      "text/plain": [
       "['PHC2400193_PHC616901',\n",
       " 'PHC2400522_PHC683103',\n",
       " 'PHC2400245_PHC557011',\n",
       " 'PHC2400320_PHC663594',\n",
       " 'PHC2400320_PHC490736',\n",
       " 'PHC2310589_PHC347679',\n",
       " 'PHC2401596_PHC666243',\n",
       " 'PHC2401399_PHC724336',\n",
       " 'PHC2400320_PHC608229',\n",
       " 'PHC2400320_PHC635292',\n",
       " 'PHC2400320_PHC546066',\n",
       " 'PHC2400291_PHC230652',\n",
       " 'PHC2401399_PHC503739',\n",
       " 'PHC2400193_PHC634623',\n",
       " 'PHC2400245_PHC541715',\n",
       " 'PHC2312372_PHC330340',\n",
       " 'PHC2400953_PHC187891',\n",
       " 'PHC2401189_PHC724336',\n",
       " 'PHC2400522_PHC481791',\n",
       " 'PHC2400953_PHC583700',\n",
       " 'PHC2401596_PHC640058',\n",
       " 'PHC2401596_PHC536613',\n",
       " 'PHC2401399_PHC80840',\n",
       " 'PHC2400522_PHC505563',\n",
       " 'PHC2400291_PHC497018',\n",
       " 'PHC2400245_PHC468959',\n",
       " 'PHC2400193_PHC503078',\n",
       " 'PHC2401515_PHC615258',\n",
       " 'PHC2401596_PHC640241',\n",
       " 'PHC2400320_PHC513369',\n",
       " 'PHC2400522_PHC636114',\n",
       " 'PHC2400245_PHC626700',\n",
       " 'PHC2400953_PHC460563',\n",
       " 'PHC2401596_PHC628190',\n",
       " 'PHC2401596_PHC665198',\n",
       " 'PHC2400193_PHC496415',\n",
       " 'PHC2400522_PHC530573',\n",
       " 'PHC2400953_PHC533723',\n",
       " 'PHC2400291_PHC500319',\n",
       " 'PHC2400953_PHC487870',\n",
       " 'PHC2400291_PHC629824',\n",
       " 'PHC2400522_PHC503078',\n",
       " 'PHC2400245_PHC176438',\n",
       " 'PHC2400522_PHC529613',\n",
       " 'PHC2401399_PHC613210',\n",
       " 'PHC2400953_PHC666509',\n",
       " 'PHC2400291_PHC555818',\n",
       " 'PHC2401399_PHC602106',\n",
       " 'PHC2401399_PHC626050',\n",
       " 'PHC2401418_PHC543432',\n",
       " 'PHC2401399_PHC591928',\n",
       " 'PHC2312372_PHC642233',\n",
       " 'PHC2400193_PHC481791',\n",
       " 'PHC2400291_PHC604266',\n",
       " 'PHC2401515_PHC609681',\n",
       " 'PHC2400291_PHC636096',\n",
       " 'PHC2401189_PHC577181',\n",
       " 'PHC2401515_PHC542630',\n",
       " 'PHC2401596_PHC660959',\n",
       " 'PHC2400193_PHC353736',\n",
       " 'PHC2400522_PHC618400',\n",
       " 'PHC2400245_PHC646823',\n",
       " 'PHC2400320_PHC609991',\n",
       " 'PHC2401596_PHC601534',\n",
       " 'PHC2400320_PHC601624',\n",
       " 'PHC2400953_PHC630167',\n",
       " 'PHC2401644_PHC727482',\n",
       " 'PHC2400245_PHC606624']"
      ]
     },
     "execution_count": 211,
     "metadata": {},
     "output_type": "execute_result"
    }
   ],
   "source": [
    "list(set(ddf['recommendation_id']))"
   ]
  },
  {
   "cell_type": "code",
   "execution_count": 216,
   "id": "1608ca90-0b80-4b46-808e-5e9d0ce708f1",
   "metadata": {
    "tags": []
   },
   "outputs": [],
   "source": [
    "    db_client = get_bq_client('production')\n",
    "    sql = f\"\"\"\n",
    "        SELECT\n",
    "            *\n",
    "        FROM `hs-analytics.all_customers.dwh_hs_dim_recommendation` LIMIT 10\n",
    "        \"\"\"\n",
    "    job_result = db_client.execute(sql)\n",
    "    sdf = job_result['query_reults'].to_dataframe()"
   ]
  },
  {
   "cell_type": "code",
   "execution_count": 217,
   "id": "5de8cd17-da17-40b8-a34d-496d17c9293f",
   "metadata": {
    "tags": []
   },
   "outputs": [
    {
     "data": {
      "text/plain": [
       "['address_line',\n",
       " 'ats_application_id',\n",
       " 'ats_source',\n",
       " 'candidate_id',\n",
       " 'creation_date_key',\n",
       " 'creation_ts',\n",
       " 'crm_candidate_id',\n",
       " 'crm_source',\n",
       " 'customer',\n",
       " 'data_sources',\n",
       " 'dismissed_date',\n",
       " 'email',\n",
       " 'employee_key',\n",
       " 'external_pool_id',\n",
       " 'external_talent_id',\n",
       " 'fetch_candidate_key',\n",
       " 'fetch_type',\n",
       " 'fetched_from_pipeline',\n",
       " 'grade',\n",
       " 'id',\n",
       " 'is_contingent',\n",
       " 'key',\n",
       " 'likelihood_to_apply',\n",
       " 'municipality',\n",
       " 'name',\n",
       " 'notification_id',\n",
       " 'population_types',\n",
       " 'recommendation_status',\n",
       " 'removed_date_key',\n",
       " 'removed_ts',\n",
       " 'req_id',\n",
       " 'req_key',\n",
       " 'score',\n",
       " 'security_clearance',\n",
       " 'selected_date_key',\n",
       " 'selected_ts',\n",
       " 'source_system',\n",
       " 'sub_pool_id',\n",
       " 'talent_id',\n",
       " 'updated_at']"
      ]
     },
     "execution_count": 217,
     "metadata": {},
     "output_type": "execute_result"
    }
   ],
   "source": [
    "sorted(sdf.columns)"
   ]
  },
  {
   "cell_type": "code",
   "execution_count": 218,
   "id": "e4ef123f-5aad-4d6c-aa2d-a93ea315512f",
   "metadata": {
    "tags": []
   },
   "outputs": [
    {
     "name": "stderr",
     "output_type": "stream",
     "text": [
      "/var/folders/_p/8_m91crj199_rd7sndkxncc80000gp/T/ipykernel_33038/2020807685.py:1: FutureWarning: Treating datetime data as categorical rather than numeric in `.describe` is deprecated and will be removed in a future version of pandas. Specify `datetime_is_numeric=True` to silence this warning and adopt the future behavior now.\n",
      "  sdf['selected_ts'].describe()\n"
     ]
    },
    {
     "data": {
      "text/plain": [
       "count                                   10\n",
       "unique                                   3\n",
       "top       2022-04-16 21:11:16.133000+00:00\n",
       "freq                                     4\n",
       "first     2022-04-16 21:11:13.388000+00:00\n",
       "last      2022-04-16 21:11:28.096000+00:00\n",
       "Name: selected_ts, dtype: object"
      ]
     },
     "execution_count": 218,
     "metadata": {},
     "output_type": "execute_result"
    }
   ],
   "source": [
    "sdf['selected_ts'].describe()"
   ]
  },
  {
   "cell_type": "code",
   "execution_count": null,
   "id": "47ae2ac6-c0e4-43e3-974d-97d8bf5e52cc",
   "metadata": {},
   "outputs": [],
   "source": []
  }
 ],
 "metadata": {
  "kernelspec": {
   "display_name": "Python 3 (ipykernel)",
   "language": "python",
   "name": "python3"
  },
  "language_info": {
   "codemirror_mode": {
    "name": "ipython",
    "version": 3
   },
   "file_extension": ".py",
   "mimetype": "text/x-python",
   "name": "python",
   "nbconvert_exporter": "python",
   "pygments_lexer": "ipython3",
   "version": "3.9.5"
  }
 },
 "nbformat": 4,
 "nbformat_minor": 5
}
