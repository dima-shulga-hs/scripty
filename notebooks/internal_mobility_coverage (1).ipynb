{
 "cells": [
  {
   "cell_type": "code",
   "execution_count": 168,
   "id": "b9b21299-fe50-4838-8b72-60e32ec6eedf",
   "metadata": {
    "tags": []
   },
   "outputs": [],
   "source": [
    "import itertools\n",
    "from tqdm import tqdm\n",
    "from datetime import datetime, timedelta\n",
    "from hs_gimme.constants.objects.req import Req\n",
    "from hs_gimme.db_facade.db_facade_factory import get_mongo_client_db\n",
    "from hs_fetch.utils.is_for_fetch_decider import IsForFetchDecider\n",
    "from hs_recommendations_api_client import get_recommendations_api_client\n",
    "from hs_gimme.logging_service.problems_only_logging_service import ProblemsOnlyLoggingService\n",
    "from hs_fetch.fast_fetch.fast_fetch_employee_filtering_queries import \\\n",
    "    EmployeeJobTypeMatchFilter, TimeInPositionQueryFilter, \\\n",
    "    EmployeeJobBandsQueryFilter, \\\n",
    "    EmployeePerformanceRatingsQueryFilter, EmployeeIsNotRestrictedQueryFilter, EmployeeEnhancedMovesModelFeaturesFilter, \\\n",
    "    EmployeeIsActiveQueryFilter\n",
    "from hs_fetch.fast_fetch.fast_fetch_filtering_query_builder import *\n",
    "import pandas as pd"
   ]
  },
  {
   "cell_type": "code",
   "execution_count": 52,
   "id": "64fd044a-5861-4f5e-8dd6-52ff56f7edcf",
   "metadata": {
    "tags": []
   },
   "outputs": [],
   "source": [
    "REQ_MAX_OPEN_DAYS = 365"
   ]
  },
  {
   "cell_type": "code",
   "execution_count": 2,
   "id": "191fe886-e177-484b-b2a9-309deb27fe32",
   "metadata": {
    "tags": []
   },
   "outputs": [],
   "source": [
    "mongo = get_mongo_client_db('production', 'jaipur')"
   ]
  },
  {
   "cell_type": "code",
   "execution_count": 10,
   "id": "17aa053c-ae97-4fda-b787-2b424921dded",
   "metadata": {
    "tags": []
   },
   "outputs": [
    {
     "data": {
      "text/plain": [
       "52"
      ]
     },
     "execution_count": 10,
     "metadata": {},
     "output_type": "execute_result"
    }
   ],
   "source": [
    "audit = list(mongo.rpa_audit.find({'action_name': 'get_internal_applications_for_internal_mobility_campaign', 'context': 'RPA_V2'}))\n",
    "len(audit)"
   ]
  },
  {
   "cell_type": "code",
   "execution_count": 26,
   "id": "68609bcc-68d0-4ce7-9841-3055a6e8c222",
   "metadata": {
    "tags": []
   },
   "outputs": [
    {
     "data": {
      "text/plain": [
       "259"
      ]
     },
     "execution_count": 26,
     "metadata": {},
     "output_type": "execute_result"
    }
   ],
   "source": [
    "talent_ids = set(itertools.chain(*[list(a.get('recommendations', {}).keys()) for a in audit]))\n",
    "len(talent_ids)"
   ]
  },
  {
   "cell_type": "code",
   "execution_count": 33,
   "id": "52c0a543-c86e-470b-8aaf-a22f9c82245e",
   "metadata": {
    "tags": []
   },
   "outputs": [
    {
     "data": {
      "text/plain": [
       "1936"
      ]
     },
     "execution_count": 33,
     "metadata": {},
     "output_type": "execute_result"
    }
   ],
   "source": [
    "apps = list(mongo.application.find({'current_talent_id': {'$in': list(talent_ids)}}, ['current_talent_id', 'samurai_json.experience']))\n",
    "len(apps)"
   ]
  },
  {
   "cell_type": "code",
   "execution_count": 34,
   "id": "3e800aad-c57d-4bcf-937e-406ae1dc706a",
   "metadata": {
    "tags": []
   },
   "outputs": [
    {
     "data": {
      "text/plain": [
       "182"
      ]
     },
     "execution_count": 34,
     "metadata": {},
     "output_type": "execute_result"
    }
   ],
   "source": [
    "talents_with_app = set([a['current_talent_id'] for a in apps if a['samurai_json']['experience']])\n",
    "len(talents_with_app)"
   ]
  },
  {
   "cell_type": "code",
   "execution_count": 38,
   "id": "233b3c54-cb19-42ea-9553-6af69319a0b2",
   "metadata": {
    "tags": []
   },
   "outputs": [
    {
     "data": {
      "text/plain": [
       "261"
      ]
     },
     "execution_count": 38,
     "metadata": {},
     "output_type": "execute_result"
    }
   ],
   "source": [
    "emps = list(mongo.employee.find({'current_talent_id': {'$in': list(talent_ids)}}))\n",
    "len(emps)"
   ]
  },
  {
   "cell_type": "code",
   "execution_count": 40,
   "id": "4e01103d-26e7-48fa-a5f4-c06d3b3f25df",
   "metadata": {
    "tags": []
   },
   "outputs": [
    {
     "data": {
      "text/plain": [
       "182"
      ]
     },
     "execution_count": 40,
     "metadata": {},
     "output_type": "execute_result"
    }
   ],
   "source": [
    "emps_with_talent_card = set([e['current_talent_id'] for e in emps if e['hcm_samurai']['experience']])\n",
    "len(emps_with_talent_card)"
   ]
  },
  {
   "cell_type": "code",
   "execution_count": 42,
   "id": "db4a8774-cf74-4fad-a0af-9e0a12e43945",
   "metadata": {
    "tags": []
   },
   "outputs": [
    {
     "data": {
      "text/plain": [
       "152"
      ]
     },
     "execution_count": 42,
     "metadata": {},
     "output_type": "execute_result"
    }
   ],
   "source": [
    "emps_with_both = emps_with_talent_card & talents_with_app\n",
    "len(emps_with_both)"
   ]
  },
  {
   "cell_type": "code",
   "execution_count": 45,
   "id": "0b862a33-a8df-496c-9dd7-aa65d217438a",
   "metadata": {
    "tags": []
   },
   "outputs": [
    {
     "data": {
      "text/plain": [
       "(0.5868725868725869, 0.7027027027027027, 0.7027027027027027)"
      ]
     },
     "execution_count": 45,
     "metadata": {},
     "output_type": "execute_result"
    }
   ],
   "source": [
    "len(emps_with_both)/len(talent_ids), len(emps_with_talent_card)/ len(talent_ids), len(talents_with_app)/ len(talent_ids)"
   ]
  },
  {
   "cell_type": "code",
   "execution_count": 80,
   "id": "1daf8ad6-ff33-4017-a7a7-9fb4db482c6e",
   "metadata": {
    "tags": []
   },
   "outputs": [],
   "source": [
    "req_statuses = ['Open']\n",
    "minimum_req_posted_date = datetime(1971, 1, 1)"
   ]
  },
  {
   "cell_type": "code",
   "execution_count": 81,
   "id": "45407e37-7899-4bb8-9d59-7d1310869719",
   "metadata": {
    "tags": []
   },
   "outputs": [],
   "source": [
    "is_for_fetch_decider = IsForFetchDecider()"
   ]
  },
  {
   "cell_type": "code",
   "execution_count": 82,
   "id": "1fc6b0b7-7b2f-40dd-9375-ba2f5645f71d",
   "metadata": {
    "tags": []
   },
   "outputs": [],
   "source": [
    "def _get_req_days_since_posted(req, cur_date):\n",
    "    # get min of posted date internally or externally handling Nones (one of them must exist in the reqs we bring)\n",
    "    date_posted = req.get(Req.DATE_POSTED)\n",
    "    if req.get(Req.INTERNAL_POST_DATE):\n",
    "        date_posted = min(date_posted, req.get(Req.INTERNAL_POST_DATE)) if date_posted else req.get(\n",
    "            Req.INTERNAL_POST_DATE)\n",
    "    return date_posted"
   ]
  },
  {
   "cell_type": "code",
   "execution_count": 306,
   "id": "4e4b6fdc-619b-4d14-bc6e-25e9e07ecb5e",
   "metadata": {
    "tags": []
   },
   "outputs": [],
   "source": [
    "countries = ['United States', 'India', 'Singapore']"
   ]
  },
  {
   "cell_type": "code",
   "execution_count": 307,
   "id": "6187e1ea-e936-445c-8751-aab70d92f3ad",
   "metadata": {
    "tags": []
   },
   "outputs": [],
   "source": [
    "req_max_open_days = 365"
   ]
  },
  {
   "cell_type": "code",
   "execution_count": 315,
   "id": "a6fe9c3f-4a2f-45ae-b464-0ec5e40b9bc3",
   "metadata": {
    "tags": []
   },
   "outputs": [
    {
     "data": {
      "text/plain": [
       "(3029, 2886)"
      ]
     },
     "execution_count": 315,
     "metadata": {},
     "output_type": "execute_result"
    }
   ],
   "source": [
    "\n",
    "reqs_filter = {\"$or\": [{Req.DATE_POSTED: {'$exists': True}}, {Req.INTERNAL_POST_DATE: {'$exists': True}}],\n",
    "               Req.REQ_STATUS: {\"$in\": req_statuses}}\n",
    "#reqs_filter.update({Req.COUNTRY_NAME: {\"$in\": countries}})\n",
    "reqs_filter.update({\"post_status.post_internal.start_date\": {\"$lte\": datetime.now(),\n",
    "                                                             \"$gte\": minimum_req_posted_date}})\n",
    "if req_max_open_days:\n",
    "    reqs_filter.update({\"open_date\": {\"$gte\": datetime.now()-timedelta(days=req_max_open_days)}})\n",
    "reqs_filter.update({\"post_status.post_internal.end_date\": {\"$exists\": False}})\n",
    "\n",
    "cur_date = datetime.utcnow()\n",
    "reqs = [req for req in mongo.req.find(reqs_filter)]\n",
    "filtered_reqs = [req for req in reqs if is_for_fetch_decider.is_for_fetch(req)\n",
    "                 and _get_req_days_since_posted(req, cur_date) >= minimum_req_posted_date]\n",
    "\n",
    "# result = []\n",
    "# for idx, req in enumerate(filtered_reqs):\n",
    "#     if not self.should_filter_recommendation_on_applications_phases_in_req(req[Req.ID], exclude_req_phases):\n",
    "#         result.append(req)\n",
    "\n",
    "len(reqs), len(filtered_reqs)"
   ]
  },
  {
   "cell_type": "code",
   "execution_count": 316,
   "id": "4f83fe08-e78d-44b5-90ee-aab14af78202",
   "metadata": {
    "tags": []
   },
   "outputs": [],
   "source": [
    "api = get_recommendations_api_client('production', logger=ProblemsOnlyLoggingService())"
   ]
  },
  {
   "cell_type": "code",
   "execution_count": 317,
   "id": "75e5923f-bd26-40f5-95ad-c5aa6a84bfc8",
   "metadata": {
    "tags": []
   },
   "outputs": [],
   "source": [
    "logical_filters = [\n",
    "                     #   DegreeLevelQueryFilter(),\n",
    "                       # CertificationsFilter(),\n",
    "                       # MajorsFilter(),\n",
    "                        # ProfessionsQueryFilter(),\n",
    "                        # DetailedProfessionsQueryFilter(),\n",
    "                        # TitlesSimilarityFeaturesFilter(filter_only_if_resume_data_exist=True,\n",
    "                        #                                only_if_enough_coverage=True),\n",
    "                       # MandatorySkillsQueryFilter(),\n",
    "                    #   KBSkillsQueryFilter(),\n",
    "                       # LanguagesQueryFilter(),\n",
    "                       # VisaQueryFilter(),\n",
    "                       # IndustryYearsQueryFilter(),\n",
    "                       # ManagementYearsQueryFilter(),\n",
    "                        # CurrentSeniorityQueryFilter(),\n",
    "                        # ProfessionalSeniorityQueryFilter(),\n",
    "                       # TooMuchExperienceQueryFilter(),\n",
    "                       # FullTextSearchFilter(),\n",
    "                       # TitlesMustIncludeQueryFilter(),\n",
    "                       # IndustriesMustIncludeQueryFilter(),\n",
    "                       # PastMostAdvancedPhasesFilter(),\n",
    "                       # TagsQueryFilter(),\n",
    "                       # CompaniesQueryFilter(),\n",
    "                       # AgencyFilter(), RehireFilter(), ReferralFilter(),\n",
    "                       # EmployeeJobTypeMatchFilter(TitlesSimilarityFeaturesFilter(filter_only_if_resume_data_exist=False,\n",
    "                       #                                                           only_if_enough_coverage=False),\n",
    "                       #                                    EmployeeEnhancedMovesModelFeaturesFilter()),\n",
    "                   #     TimeInPositionQueryFilter(),\n",
    "                       # EmployeeJobBandsQueryFilter(), EmployeeIsActiveQueryFilter(),\n",
    "                       # EmployeeTitlesSimilarityFeaturesFilter(), EmployeeIsInPoolFilter(),\n",
    "                       # EmployeeJobCategorizationNamesFilter(), EmployeeBandLevelNamesFilter(),\n",
    "                       # RecentATSApplyQueryFilter(),\n",
    "                       # EmployeePerformanceRatingsQueryFilter(),\n",
    "                       # EmployeeIsNotRestrictedQueryFilter(),\n",
    "                       # CandidateCirculationQueryFilter(),\n",
    "                       # CandidateWorkTypesFilter(), CandidateRequestedSalaryFilter(), \n",
    "        # CandidateJobTypesFilter(),\n",
    "       #                ExternalPoolQueryFilter()\n",
    "    ]\n",
    "\n",
    "technical_filters = [\n",
    "    #            CandidateRecordQueryFilter(),\n",
    "    #                      SpecificCandidateIdQueryFilter(), SpecificTalentIdsQueryFilter(),\n",
    "    #                      CandidateDataSourcesFilter(), CandidateSourceSystemsFilter(),\n",
    "    #                      InternalCandidatesTypeFilter(),\n",
    "           #               CountryQueryFilter(), \n",
    "                          LocationQueryFilter(),\n",
    "                        #  RecentApplyFromAllSourcesQueryFilter(),\n",
    "    #                      CitizenshipFilter(), PopulationTypesFilter(), EmailQueryFilter(),\n",
    "    #                      SearchForNameQueryFilter(), OnlySilverMedalistsFilter(), SecurityClearanceFilter()\n",
    "     ]"
   ]
  },
  {
   "cell_type": "code",
   "execution_count": 318,
   "id": "b4b1a592-8668-469f-831b-e363b31e94d1",
   "metadata": {
    "tags": []
   },
   "outputs": [],
   "source": [
    "filters_to_use = [f.__class__.__name__ for f in logical_filters + technical_filters] #+ ['NONE']"
   ]
  },
  {
   "cell_type": "code",
   "execution_count": 319,
   "id": "a1635532-5f6c-4ecc-add8-8301bc450de6",
   "metadata": {
    "tags": []
   },
   "outputs": [],
   "source": [
    "talent_to_emp = {e['current_talent_id']: e for e in emps}"
   ]
  },
  {
   "cell_type": "code",
   "execution_count": 320,
   "id": "014b20e0-a8cb-451c-b3c1-b13385c29ae5",
   "metadata": {
    "tags": []
   },
   "outputs": [],
   "source": [
    "req_ids_to_req = {r['_id']:r for r in reqs}"
   ]
  },
  {
   "cell_type": "code",
   "execution_count": null,
   "id": "d2e852df-0793-4358-b24c-9128d41a2a7d",
   "metadata": {},
   "outputs": [
    {
     "name": "stdout",
     "output_type": "stream",
     "text": [
      "0 1 LocationQueryFilter\n"
     ]
    },
    {
     "name": "stderr",
     "output_type": "stream",
     "text": [
      " 76%|███████▋  | 2205/2886 [05:17<01:15,  9.06it/s]"
     ]
    }
   ],
   "source": [
    "\n",
    "data = []\n",
    "recommendations = []\n",
    "for i, f in enumerate(filters_to_use + ['ALL']):\n",
    "    print(i, len(filters_to_use), f)\n",
    "    additional_parameters = {\"fetch_mode\": {\"value\": \"employee_fetch\"},\n",
    "                                 \"consider_past_applied_locations_as_candidate_locations\": {\"value\": True},\n",
    "                                 \"include_internals\": {\"value\": True}, \"include_externals\": {\"value\": True},\n",
    "                               # \"filters_to_use\": {\"value\": [f.__class__.__name__ for f in logical_filters]},\n",
    "                             \"filters_to_use\": {\"value\": ([\"SpecificTalentIdsQueryFilter\"] + [f]) if f != 'ALL' else []},\n",
    "                                 \"allow_already_applied_req\": {\"value\": False},\n",
    "                            \"size\": {\"value\": 1000},\n",
    "                                 \"allow_candidates_with_offer\": {\"value\": False}}\n",
    "\n",
    "    additional_parameters.update({'specific_talent_ids': {\"value\": list(talent_ids)}})\n",
    "\n",
    "\n",
    "\n",
    "    \n",
    "    for req in tqdm(filtered_reqs):\n",
    "      #  if req['_id'] != 'JLLREQ280628': continue\n",
    "        recommendations = api.fast_fetch('jaipur', req['_id'], **additional_parameters)['results']\n",
    "        rec_talent_ids = set(r['candidate_data']['current_talent_id'] for r in recommendations)\n",
    "        \n",
    "        for t in talent_ids:\n",
    "            data.append({\n",
    "                'talent_id': t,\n",
    "                'has_card': t in emps_with_talent_card,\n",
    "                'has_app': t in talents_with_app,\n",
    "                'req_id': req['_id'],\n",
    "                'filter': f,\n",
    "                'country': talent_to_emp[t]['country'],\n",
    "                'is_remote': req_ids_to_req[req['_id']]['is_remote_location'],\n",
    "                'recomended': t in rec_talent_ids\n",
    "            })\n",
    "\n",
    "df = pd.DataFrame(data)\n",
    "len(recommendations), len(rec_talent_ids)"
   ]
  },
  {
   "cell_type": "code",
   "execution_count": null,
   "id": "7aa85a6a-8f4e-4cd8-a7c5-cb4c0721dec7",
   "metadata": {
    "tags": []
   },
   "outputs": [],
   "source": [
    "df.groupby(['filter', 'country', 'is_remote'])['recomended'].mean()"
   ]
  },
  {
   "cell_type": "code",
   "execution_count": null,
   "id": "06f7c5d0-2a81-41e9-8e5a-61939c9ecc3f",
   "metadata": {},
   "outputs": [],
   "source": []
  }
 ],
 "metadata": {
  "kernelspec": {
   "display_name": "Python 3 (ipykernel)",
   "language": "python",
   "name": "python3"
  },
  "language_info": {
   "codemirror_mode": {
    "name": "ipython",
    "version": 3
   },
   "file_extension": ".py",
   "mimetype": "text/x-python",
   "name": "python",
   "nbconvert_exporter": "python",
   "pygments_lexer": "ipython3",
   "version": "3.9.5"
  }
 },
 "nbformat": 4,
 "nbformat_minor": 5
}
