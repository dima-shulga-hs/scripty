{
 "cells": [
  {
   "cell_type": "code",
   "execution_count": 56,
   "id": "6c88fda0-cb79-46b7-b17f-755118e1e61d",
   "metadata": {
    "tags": []
   },
   "outputs": [],
   "source": [
    "import pandas as pd\n",
    "from hs_gimme.db_facade.db_facade_factory import get_mongo_client_db\n",
    "from collections import Counter, defaultdict\n",
    "from datetime import datetime"
   ]
  },
  {
   "cell_type": "code",
   "execution_count": 59,
   "id": "b8d6c194-9707-4bbc-9d3a-8e01e98015a2",
   "metadata": {
    "tags": []
   },
   "outputs": [],
   "source": [
    "mongo = get_mongo_client_db('production', 'jamaica')"
   ]
  },
  {
   "cell_type": "code",
   "execution_count": null,
   "id": "482e595b-b21b-4d13-88f6-dd6474889b47",
   "metadata": {
    "tags": []
   },
   "outputs": [],
   "source": [
    "addresses = Counter([r['country'] for r in mongo.req.find({}, ['country']).limit(1000)])"
   ]
  },
  {
   "cell_type": "code",
   "execution_count": null,
   "id": "4be214ed-1aa7-4434-8761-5d3715f02a27",
   "metadata": {
    "tags": []
   },
   "outputs": [],
   "source": [
    "addresses"
   ]
  },
  {
   "cell_type": "code",
   "execution_count": null,
   "id": "039447e5-43fd-4c8a-88ba-edeb8a07b650",
   "metadata": {
    "tags": []
   },
   "outputs": [],
   "source": [
    "nyc = [a for a in addresses.keys() if 'New York' in a]\n",
    "nyc"
   ]
  },
  {
   "cell_type": "code",
   "execution_count": 5,
   "id": "30160fa6-781c-4f22-8b0c-7b4c1e46db7a",
   "metadata": {
    "tags": []
   },
   "outputs": [],
   "source": [
    "q = {'job_create_date': {'$gte': datetime(2022, 1, 1), '$lte': datetime(2023, 6, 30)}, 'country': 'United States'}"
   ]
  },
  {
   "cell_type": "code",
   "execution_count": 6,
   "id": "6345c9e7-a333-4e5a-8f89-4a36a6f2a5fe",
   "metadata": {
    "tags": []
   },
   "outputs": [
    {
     "name": "stdout",
     "output_type": "stream",
     "text": [
      "\u001b[2m2023-07-30T14:10:47.009279Z\u001b[0m [\u001b[33m\u001b[1mwarning  \u001b[0m] \u001b[1mSlowLog                       \u001b[0m \u001b[36mcommand_name\u001b[0m=\u001b[35mgetMore\u001b[0m \u001b[36mconnection_id\u001b[0m=\u001b[35mmongodb-3c.prod.omcomcom.com:27029\u001b[0m \u001b[36mduration_ms__numeric\u001b[0m=\u001b[35m41602.202\u001b[0m \u001b[36mduration_threshold__numeric\u001b[0m=\u001b[35m10000\u001b[0m \u001b[36menvironment\u001b[0m=\u001b[35mlocal\u001b[0m \u001b[36mfile_path\u001b[0m=\u001b[35m/Users/dima/hiredscore/gimme/hs_gimme/db_facade/slow_logs_utils.py\u001b[0m \u001b[36mfunction_name\u001b[0m=\u001b[35mwrite_slow_log\u001b[0m \u001b[36mhostname\u001b[0m=\u001b[35mDima-Shulga-MacBook-Pro\u001b[0m \u001b[36mline_number\u001b[0m=\u001b[35m11\u001b[0m \u001b[36mmodule\u001b[0m=\u001b[35mhs_gimme.db_facade.slow_logs_utils\u001b[0m \u001b[36mpid\u001b[0m=\u001b[35m42904\u001b[0m \u001b[36mrequest_id\u001b[0m=\u001b[35m78098867\u001b[0m \u001b[36msource\u001b[0m=\u001b[35mPyMongo\u001b[0m \u001b[36mstack_snippet\u001b[0m=\u001b[35m\n",
      "  File \"/var/folders/_p/8_m91crj199_rd7sndkxncc80000gp/T/ipykernel_42904/4174422903.py\", line 1, in <module>\n",
      "    reqs = list(mongo.req.find(q))\n",
      "\u001b[0m\n"
     ]
    },
    {
     "data": {
      "text/plain": [
       "29795"
      ]
     },
     "execution_count": 6,
     "metadata": {},
     "output_type": "execute_result"
    }
   ],
   "source": [
    "reqs = list(mongo.req.find(q))\n",
    "len(reqs)"
   ]
  },
  {
   "cell_type": "code",
   "execution_count": 7,
   "id": "ca7a7c23-f430-409f-b8f1-acbd221f7cdc",
   "metadata": {
    "tags": []
   },
   "outputs": [
    {
     "data": {
      "text/plain": [
       "datetime.datetime(2022, 1, 3, 11, 0, 41)"
      ]
     },
     "execution_count": 7,
     "metadata": {},
     "output_type": "execute_result"
    }
   ],
   "source": [
    "min(r['job_create_date'] for r in reqs) "
   ]
  },
  {
   "cell_type": "code",
   "execution_count": 8,
   "id": "1fe9e7d5-8289-464e-83c2-8f11373fdc53",
   "metadata": {
    "tags": []
   },
   "outputs": [],
   "source": [
    "req_ids = [r['_id'] for r in reqs]"
   ]
  },
  {
   "cell_type": "code",
   "execution_count": 9,
   "id": "52592fc3-0911-477c-b623-342efde6b4e6",
   "metadata": {
    "tags": []
   },
   "outputs": [],
   "source": [
    "apps_p = ['ats_application.eeo', \n",
    "          'ats_application.integration_data.final_round_score_sent_to_ats',\n",
    "          'grade_data.explainable_score_data.explain',\n",
    "         'req_id']"
   ]
  },
  {
   "cell_type": "code",
   "execution_count": 10,
   "id": "20b420ce-9d52-478e-86d1-00535429f72a",
   "metadata": {
    "tags": []
   },
   "outputs": [
    {
     "name": "stdout",
     "output_type": "stream",
     "text": [
      "\u001b[2m2023-07-30T14:21:21.882580Z\u001b[0m [\u001b[33m\u001b[1mwarning  \u001b[0m] \u001b[1mSlowLog                       \u001b[0m \u001b[36mcommand_name\u001b[0m=\u001b[35mgetMore\u001b[0m \u001b[36mconnection_id\u001b[0m=\u001b[35mmongodb-3c.prod.omcomcom.com:27029\u001b[0m \u001b[36mduration_ms__numeric\u001b[0m=\u001b[35m13731.134\u001b[0m \u001b[36mduration_threshold__numeric\u001b[0m=\u001b[35m10000\u001b[0m \u001b[36menvironment\u001b[0m=\u001b[35mlocal\u001b[0m \u001b[36mfile_path\u001b[0m=\u001b[35m/Users/dima/hiredscore/gimme/hs_gimme/db_facade/slow_logs_utils.py\u001b[0m \u001b[36mfunction_name\u001b[0m=\u001b[35mwrite_slow_log\u001b[0m \u001b[36mhostname\u001b[0m=\u001b[35mDima-Shulga-MacBook-Pro\u001b[0m \u001b[36mline_number\u001b[0m=\u001b[35m11\u001b[0m \u001b[36mmodule\u001b[0m=\u001b[35mhs_gimme.db_facade.slow_logs_utils\u001b[0m \u001b[36mpid\u001b[0m=\u001b[35m42904\u001b[0m \u001b[36mrequest_id\u001b[0m=\u001b[35m947609847\u001b[0m \u001b[36msource\u001b[0m=\u001b[35mPyMongo\u001b[0m \u001b[36mstack_snippet\u001b[0m=\u001b[35m\n",
      "  File \"/var/folders/_p/8_m91crj199_rd7sndkxncc80000gp/T/ipykernel_42904/2093352448.py\", line 1, in <module>\n",
      "    apps = list(mongo.application.find({'req_id': {'$in': req_ids}}, apps_p))\n",
      "\u001b[0m\n",
      "\u001b[2m2023-07-30T14:23:49.839508Z\u001b[0m [\u001b[33m\u001b[1mwarning  \u001b[0m] \u001b[1mSlowLog                       \u001b[0m \u001b[36mcommand_name\u001b[0m=\u001b[35mgetMore\u001b[0m \u001b[36mconnection_id\u001b[0m=\u001b[35mmongodb-3c.prod.omcomcom.com:27029\u001b[0m \u001b[36mduration_ms__numeric\u001b[0m=\u001b[35m11634.742\u001b[0m \u001b[36mduration_threshold__numeric\u001b[0m=\u001b[35m10000\u001b[0m \u001b[36menvironment\u001b[0m=\u001b[35mlocal\u001b[0m \u001b[36mfile_path\u001b[0m=\u001b[35m/Users/dima/hiredscore/gimme/hs_gimme/db_facade/slow_logs_utils.py\u001b[0m \u001b[36mfunction_name\u001b[0m=\u001b[35mwrite_slow_log\u001b[0m \u001b[36mhostname\u001b[0m=\u001b[35mDima-Shulga-MacBook-Pro\u001b[0m \u001b[36mline_number\u001b[0m=\u001b[35m11\u001b[0m \u001b[36mmodule\u001b[0m=\u001b[35mhs_gimme.db_facade.slow_logs_utils\u001b[0m \u001b[36mpid\u001b[0m=\u001b[35m42904\u001b[0m \u001b[36mrequest_id\u001b[0m=\u001b[35m307738820\u001b[0m \u001b[36msource\u001b[0m=\u001b[35mPyMongo\u001b[0m \u001b[36mstack_snippet\u001b[0m=\u001b[35m\n",
      "  File \"/var/folders/_p/8_m91crj199_rd7sndkxncc80000gp/T/ipykernel_42904/2093352448.py\", line 1, in <module>\n",
      "    apps = list(mongo.application.find({'req_id': {'$in': req_ids}}, apps_p))\n",
      "\u001b[0m\n",
      "\u001b[2m2023-07-30T14:24:09.122468Z\u001b[0m [\u001b[33m\u001b[1mwarning  \u001b[0m] \u001b[1mSlowLog                       \u001b[0m \u001b[36mcommand_name\u001b[0m=\u001b[35mgetMore\u001b[0m \u001b[36mconnection_id\u001b[0m=\u001b[35mmongodb-3c.prod.omcomcom.com:27029\u001b[0m \u001b[36mduration_ms__numeric\u001b[0m=\u001b[35m11462.62\u001b[0m \u001b[36mduration_threshold__numeric\u001b[0m=\u001b[35m10000\u001b[0m \u001b[36menvironment\u001b[0m=\u001b[35mlocal\u001b[0m \u001b[36mfile_path\u001b[0m=\u001b[35m/Users/dima/hiredscore/gimme/hs_gimme/db_facade/slow_logs_utils.py\u001b[0m \u001b[36mfunction_name\u001b[0m=\u001b[35mwrite_slow_log\u001b[0m \u001b[36mhostname\u001b[0m=\u001b[35mDima-Shulga-MacBook-Pro\u001b[0m \u001b[36mline_number\u001b[0m=\u001b[35m11\u001b[0m \u001b[36mmodule\u001b[0m=\u001b[35mhs_gimme.db_facade.slow_logs_utils\u001b[0m \u001b[36mpid\u001b[0m=\u001b[35m42904\u001b[0m \u001b[36mrequest_id\u001b[0m=\u001b[35m1845146044\u001b[0m \u001b[36msource\u001b[0m=\u001b[35mPyMongo\u001b[0m \u001b[36mstack_snippet\u001b[0m=\u001b[35m\n",
      "  File \"/var/folders/_p/8_m91crj199_rd7sndkxncc80000gp/T/ipykernel_42904/2093352448.py\", line 1, in <module>\n",
      "    apps = list(mongo.application.find({'req_id': {'$in': req_ids}}, apps_p))\n",
      "\u001b[0m\n",
      "\u001b[2m2023-07-30T14:24:42.918356Z\u001b[0m [\u001b[33m\u001b[1mwarning  \u001b[0m] \u001b[1mSlowLog                       \u001b[0m \u001b[36mcommand_name\u001b[0m=\u001b[35mgetMore\u001b[0m \u001b[36mconnection_id\u001b[0m=\u001b[35mmongodb-3c.prod.omcomcom.com:27029\u001b[0m \u001b[36mduration_ms__numeric\u001b[0m=\u001b[35m10126.313\u001b[0m \u001b[36mduration_threshold__numeric\u001b[0m=\u001b[35m10000\u001b[0m \u001b[36menvironment\u001b[0m=\u001b[35mlocal\u001b[0m \u001b[36mfile_path\u001b[0m=\u001b[35m/Users/dima/hiredscore/gimme/hs_gimme/db_facade/slow_logs_utils.py\u001b[0m \u001b[36mfunction_name\u001b[0m=\u001b[35mwrite_slow_log\u001b[0m \u001b[36mhostname\u001b[0m=\u001b[35mDima-Shulga-MacBook-Pro\u001b[0m \u001b[36mline_number\u001b[0m=\u001b[35m11\u001b[0m \u001b[36mmodule\u001b[0m=\u001b[35mhs_gimme.db_facade.slow_logs_utils\u001b[0m \u001b[36mpid\u001b[0m=\u001b[35m42904\u001b[0m \u001b[36mrequest_id\u001b[0m=\u001b[35m278059498\u001b[0m \u001b[36msource\u001b[0m=\u001b[35mPyMongo\u001b[0m \u001b[36mstack_snippet\u001b[0m=\u001b[35m\n",
      "  File \"/var/folders/_p/8_m91crj199_rd7sndkxncc80000gp/T/ipykernel_42904/2093352448.py\", line 1, in <module>\n",
      "    apps = list(mongo.application.find({'req_id': {'$in': req_ids}}, apps_p))\n",
      "\u001b[0m\n",
      "\u001b[2m2023-07-30T14:26:14.169804Z\u001b[0m [\u001b[33m\u001b[1mwarning  \u001b[0m] \u001b[1mSlowLog                       \u001b[0m \u001b[36mcommand_name\u001b[0m=\u001b[35mgetMore\u001b[0m \u001b[36mconnection_id\u001b[0m=\u001b[35mmongodb-3c.prod.omcomcom.com:27029\u001b[0m \u001b[36mduration_ms__numeric\u001b[0m=\u001b[35m12031.765\u001b[0m \u001b[36mduration_threshold__numeric\u001b[0m=\u001b[35m10000\u001b[0m \u001b[36menvironment\u001b[0m=\u001b[35mlocal\u001b[0m \u001b[36mfile_path\u001b[0m=\u001b[35m/Users/dima/hiredscore/gimme/hs_gimme/db_facade/slow_logs_utils.py\u001b[0m \u001b[36mfunction_name\u001b[0m=\u001b[35mwrite_slow_log\u001b[0m \u001b[36mhostname\u001b[0m=\u001b[35mDima-Shulga-MacBook-Pro\u001b[0m \u001b[36mline_number\u001b[0m=\u001b[35m11\u001b[0m \u001b[36mmodule\u001b[0m=\u001b[35mhs_gimme.db_facade.slow_logs_utils\u001b[0m \u001b[36mpid\u001b[0m=\u001b[35m42904\u001b[0m \u001b[36mrequest_id\u001b[0m=\u001b[35m739712623\u001b[0m \u001b[36msource\u001b[0m=\u001b[35mPyMongo\u001b[0m \u001b[36mstack_snippet\u001b[0m=\u001b[35m\n",
      "  File \"/var/folders/_p/8_m91crj199_rd7sndkxncc80000gp/T/ipykernel_42904/2093352448.py\", line 1, in <module>\n",
      "    apps = list(mongo.application.find({'req_id': {'$in': req_ids}}, apps_p))\n",
      "\u001b[0m\n",
      "\u001b[2m2023-07-30T14:26:40.226389Z\u001b[0m [\u001b[33m\u001b[1mwarning  \u001b[0m] \u001b[1mSlowLog                       \u001b[0m \u001b[36mcommand_name\u001b[0m=\u001b[35mgetMore\u001b[0m \u001b[36mconnection_id\u001b[0m=\u001b[35mmongodb-3c.prod.omcomcom.com:27029\u001b[0m \u001b[36mduration_ms__numeric\u001b[0m=\u001b[35m16082.98\u001b[0m \u001b[36mduration_threshold__numeric\u001b[0m=\u001b[35m10000\u001b[0m \u001b[36menvironment\u001b[0m=\u001b[35mlocal\u001b[0m \u001b[36mfile_path\u001b[0m=\u001b[35m/Users/dima/hiredscore/gimme/hs_gimme/db_facade/slow_logs_utils.py\u001b[0m \u001b[36mfunction_name\u001b[0m=\u001b[35mwrite_slow_log\u001b[0m \u001b[36mhostname\u001b[0m=\u001b[35mDima-Shulga-MacBook-Pro\u001b[0m \u001b[36mline_number\u001b[0m=\u001b[35m11\u001b[0m \u001b[36mmodule\u001b[0m=\u001b[35mhs_gimme.db_facade.slow_logs_utils\u001b[0m \u001b[36mpid\u001b[0m=\u001b[35m42904\u001b[0m \u001b[36mrequest_id\u001b[0m=\u001b[35m1623187656\u001b[0m \u001b[36msource\u001b[0m=\u001b[35mPyMongo\u001b[0m \u001b[36mstack_snippet\u001b[0m=\u001b[35m\n",
      "  File \"/var/folders/_p/8_m91crj199_rd7sndkxncc80000gp/T/ipykernel_42904/2093352448.py\", line 1, in <module>\n",
      "    apps = list(mongo.application.find({'req_id': {'$in': req_ids}}, apps_p))\n",
      "\u001b[0m\n",
      "\u001b[2m2023-07-30T14:27:08.415883Z\u001b[0m [\u001b[33m\u001b[1mwarning  \u001b[0m] \u001b[1mSlowLog                       \u001b[0m \u001b[36mcommand_name\u001b[0m=\u001b[35mgetMore\u001b[0m \u001b[36mconnection_id\u001b[0m=\u001b[35mmongodb-3c.prod.omcomcom.com:27029\u001b[0m \u001b[36mduration_ms__numeric\u001b[0m=\u001b[35m28179.106\u001b[0m \u001b[36mduration_threshold__numeric\u001b[0m=\u001b[35m10000\u001b[0m \u001b[36menvironment\u001b[0m=\u001b[35mlocal\u001b[0m \u001b[36mfile_path\u001b[0m=\u001b[35m/Users/dima/hiredscore/gimme/hs_gimme/db_facade/slow_logs_utils.py\u001b[0m \u001b[36mfunction_name\u001b[0m=\u001b[35mwrite_slow_log\u001b[0m \u001b[36mhostname\u001b[0m=\u001b[35mDima-Shulga-MacBook-Pro\u001b[0m \u001b[36mline_number\u001b[0m=\u001b[35m11\u001b[0m \u001b[36mmodule\u001b[0m=\u001b[35mhs_gimme.db_facade.slow_logs_utils\u001b[0m \u001b[36mpid\u001b[0m=\u001b[35m42904\u001b[0m \u001b[36mrequest_id\u001b[0m=\u001b[35m1544374108\u001b[0m \u001b[36msource\u001b[0m=\u001b[35mPyMongo\u001b[0m \u001b[36mstack_snippet\u001b[0m=\u001b[35m\n",
      "  File \"/var/folders/_p/8_m91crj199_rd7sndkxncc80000gp/T/ipykernel_42904/2093352448.py\", line 1, in <module>\n",
      "    apps = list(mongo.application.find({'req_id': {'$in': req_ids}}, apps_p))\n",
      "\u001b[0m\n",
      "\u001b[2m2023-07-30T14:27:37.498816Z\u001b[0m [\u001b[33m\u001b[1mwarning  \u001b[0m] \u001b[1mSlowLog                       \u001b[0m \u001b[36mcommand_name\u001b[0m=\u001b[35mgetMore\u001b[0m \u001b[36mconnection_id\u001b[0m=\u001b[35mmongodb-3c.prod.omcomcom.com:27029\u001b[0m \u001b[36mduration_ms__numeric\u001b[0m=\u001b[35m29066.211\u001b[0m \u001b[36mduration_threshold__numeric\u001b[0m=\u001b[35m10000\u001b[0m \u001b[36menvironment\u001b[0m=\u001b[35mlocal\u001b[0m \u001b[36mfile_path\u001b[0m=\u001b[35m/Users/dima/hiredscore/gimme/hs_gimme/db_facade/slow_logs_utils.py\u001b[0m \u001b[36mfunction_name\u001b[0m=\u001b[35mwrite_slow_log\u001b[0m \u001b[36mhostname\u001b[0m=\u001b[35mDima-Shulga-MacBook-Pro\u001b[0m \u001b[36mline_number\u001b[0m=\u001b[35m11\u001b[0m \u001b[36mmodule\u001b[0m=\u001b[35mhs_gimme.db_facade.slow_logs_utils\u001b[0m \u001b[36mpid\u001b[0m=\u001b[35m42904\u001b[0m \u001b[36mrequest_id\u001b[0m=\u001b[35m389114981\u001b[0m \u001b[36msource\u001b[0m=\u001b[35mPyMongo\u001b[0m \u001b[36mstack_snippet\u001b[0m=\u001b[35m\n",
      "  File \"/var/folders/_p/8_m91crj199_rd7sndkxncc80000gp/T/ipykernel_42904/2093352448.py\", line 1, in <module>\n",
      "    apps = list(mongo.application.find({'req_id': {'$in': req_ids}}, apps_p))\n",
      "\u001b[0m\n",
      "\u001b[2m2023-07-30T14:28:06.414025Z\u001b[0m [\u001b[33m\u001b[1mwarning  \u001b[0m] \u001b[1mSlowLog                       \u001b[0m \u001b[36mcommand_name\u001b[0m=\u001b[35mgetMore\u001b[0m \u001b[36mconnection_id\u001b[0m=\u001b[35mmongodb-3c.prod.omcomcom.com:27029\u001b[0m \u001b[36mduration_ms__numeric\u001b[0m=\u001b[35m28900.337\u001b[0m \u001b[36mduration_threshold__numeric\u001b[0m=\u001b[35m10000\u001b[0m \u001b[36menvironment\u001b[0m=\u001b[35mlocal\u001b[0m \u001b[36mfile_path\u001b[0m=\u001b[35m/Users/dima/hiredscore/gimme/hs_gimme/db_facade/slow_logs_utils.py\u001b[0m \u001b[36mfunction_name\u001b[0m=\u001b[35mwrite_slow_log\u001b[0m \u001b[36mhostname\u001b[0m=\u001b[35mDima-Shulga-MacBook-Pro\u001b[0m \u001b[36mline_number\u001b[0m=\u001b[35m11\u001b[0m \u001b[36mmodule\u001b[0m=\u001b[35mhs_gimme.db_facade.slow_logs_utils\u001b[0m \u001b[36mpid\u001b[0m=\u001b[35m42904\u001b[0m \u001b[36mrequest_id\u001b[0m=\u001b[35m1606985788\u001b[0m \u001b[36msource\u001b[0m=\u001b[35mPyMongo\u001b[0m \u001b[36mstack_snippet\u001b[0m=\u001b[35m\n",
      "  File \"/var/folders/_p/8_m91crj199_rd7sndkxncc80000gp/T/ipykernel_42904/2093352448.py\", line 1, in <module>\n",
      "    apps = list(mongo.application.find({'req_id': {'$in': req_ids}}, apps_p))\n",
      "\u001b[0m\n",
      "\u001b[2m2023-07-30T14:28:33.896863Z\u001b[0m [\u001b[33m\u001b[1mwarning  \u001b[0m] \u001b[1mSlowLog                       \u001b[0m \u001b[36mcommand_name\u001b[0m=\u001b[35mgetMore\u001b[0m \u001b[36mconnection_id\u001b[0m=\u001b[35mmongodb-3c.prod.omcomcom.com:27029\u001b[0m \u001b[36mduration_ms__numeric\u001b[0m=\u001b[35m27465.776\u001b[0m \u001b[36mduration_threshold__numeric\u001b[0m=\u001b[35m10000\u001b[0m \u001b[36menvironment\u001b[0m=\u001b[35mlocal\u001b[0m \u001b[36mfile_path\u001b[0m=\u001b[35m/Users/dima/hiredscore/gimme/hs_gimme/db_facade/slow_logs_utils.py\u001b[0m \u001b[36mfunction_name\u001b[0m=\u001b[35mwrite_slow_log\u001b[0m \u001b[36mhostname\u001b[0m=\u001b[35mDima-Shulga-MacBook-Pro\u001b[0m \u001b[36mline_number\u001b[0m=\u001b[35m11\u001b[0m \u001b[36mmodule\u001b[0m=\u001b[35mhs_gimme.db_facade.slow_logs_utils\u001b[0m \u001b[36mpid\u001b[0m=\u001b[35m42904\u001b[0m \u001b[36mrequest_id\u001b[0m=\u001b[35m1978847939\u001b[0m \u001b[36msource\u001b[0m=\u001b[35mPyMongo\u001b[0m \u001b[36mstack_snippet\u001b[0m=\u001b[35m\n",
      "  File \"/var/folders/_p/8_m91crj199_rd7sndkxncc80000gp/T/ipykernel_42904/2093352448.py\", line 1, in <module>\n",
      "    apps = list(mongo.application.find({'req_id': {'$in': req_ids}}, apps_p))\n",
      "\u001b[0m\n",
      "\u001b[2m2023-07-30T14:29:03.673959Z\u001b[0m [\u001b[33m\u001b[1mwarning  \u001b[0m] \u001b[1mSlowLog                       \u001b[0m \u001b[36mcommand_name\u001b[0m=\u001b[35mgetMore\u001b[0m \u001b[36mconnection_id\u001b[0m=\u001b[35mmongodb-3c.prod.omcomcom.com:27029\u001b[0m \u001b[36mduration_ms__numeric\u001b[0m=\u001b[35m29758.138\u001b[0m \u001b[36mduration_threshold__numeric\u001b[0m=\u001b[35m10000\u001b[0m \u001b[36menvironment\u001b[0m=\u001b[35mlocal\u001b[0m \u001b[36mfile_path\u001b[0m=\u001b[35m/Users/dima/hiredscore/gimme/hs_gimme/db_facade/slow_logs_utils.py\u001b[0m \u001b[36mfunction_name\u001b[0m=\u001b[35mwrite_slow_log\u001b[0m \u001b[36mhostname\u001b[0m=\u001b[35mDima-Shulga-MacBook-Pro\u001b[0m \u001b[36mline_number\u001b[0m=\u001b[35m11\u001b[0m \u001b[36mmodule\u001b[0m=\u001b[35mhs_gimme.db_facade.slow_logs_utils\u001b[0m \u001b[36mpid\u001b[0m=\u001b[35m42904\u001b[0m \u001b[36mrequest_id\u001b[0m=\u001b[35m1148637874\u001b[0m \u001b[36msource\u001b[0m=\u001b[35mPyMongo\u001b[0m \u001b[36mstack_snippet\u001b[0m=\u001b[35m\n",
      "  File \"/var/folders/_p/8_m91crj199_rd7sndkxncc80000gp/T/ipykernel_42904/2093352448.py\", line 1, in <module>\n",
      "    apps = list(mongo.application.find({'req_id': {'$in': req_ids}}, apps_p))\n",
      "\u001b[0m\n",
      "\u001b[2m2023-07-30T14:29:31.198326Z\u001b[0m [\u001b[33m\u001b[1mwarning  \u001b[0m] \u001b[1mSlowLog                       \u001b[0m \u001b[36mcommand_name\u001b[0m=\u001b[35mgetMore\u001b[0m \u001b[36mconnection_id\u001b[0m=\u001b[35mmongodb-3c.prod.omcomcom.com:27029\u001b[0m \u001b[36mduration_ms__numeric\u001b[0m=\u001b[35m27509.233\u001b[0m \u001b[36mduration_threshold__numeric\u001b[0m=\u001b[35m10000\u001b[0m \u001b[36menvironment\u001b[0m=\u001b[35mlocal\u001b[0m \u001b[36mfile_path\u001b[0m=\u001b[35m/Users/dima/hiredscore/gimme/hs_gimme/db_facade/slow_logs_utils.py\u001b[0m \u001b[36mfunction_name\u001b[0m=\u001b[35mwrite_slow_log\u001b[0m \u001b[36mhostname\u001b[0m=\u001b[35mDima-Shulga-MacBook-Pro\u001b[0m \u001b[36mline_number\u001b[0m=\u001b[35m11\u001b[0m \u001b[36mmodule\u001b[0m=\u001b[35mhs_gimme.db_facade.slow_logs_utils\u001b[0m \u001b[36mpid\u001b[0m=\u001b[35m42904\u001b[0m \u001b[36mrequest_id\u001b[0m=\u001b[35m1129966612\u001b[0m \u001b[36msource\u001b[0m=\u001b[35mPyMongo\u001b[0m \u001b[36mstack_snippet\u001b[0m=\u001b[35m\n",
      "  File \"/var/folders/_p/8_m91crj199_rd7sndkxncc80000gp/T/ipykernel_42904/2093352448.py\", line 1, in <module>\n",
      "    apps = list(mongo.application.find({'req_id': {'$in': req_ids}}, apps_p))\n",
      "\u001b[0m\n",
      "\u001b[2m2023-07-30T14:29:48.399405Z\u001b[0m [\u001b[33m\u001b[1mwarning  \u001b[0m] \u001b[1mSlowLog                       \u001b[0m \u001b[36mcommand_name\u001b[0m=\u001b[35mgetMore\u001b[0m \u001b[36mconnection_id\u001b[0m=\u001b[35mmongodb-3c.prod.omcomcom.com:27029\u001b[0m \u001b[36mduration_ms__numeric\u001b[0m=\u001b[35m17187.496\u001b[0m \u001b[36mduration_threshold__numeric\u001b[0m=\u001b[35m10000\u001b[0m \u001b[36menvironment\u001b[0m=\u001b[35mlocal\u001b[0m \u001b[36mfile_path\u001b[0m=\u001b[35m/Users/dima/hiredscore/gimme/hs_gimme/db_facade/slow_logs_utils.py\u001b[0m \u001b[36mfunction_name\u001b[0m=\u001b[35mwrite_slow_log\u001b[0m \u001b[36mhostname\u001b[0m=\u001b[35mDima-Shulga-MacBook-Pro\u001b[0m \u001b[36mline_number\u001b[0m=\u001b[35m11\u001b[0m \u001b[36mmodule\u001b[0m=\u001b[35mhs_gimme.db_facade.slow_logs_utils\u001b[0m \u001b[36mpid\u001b[0m=\u001b[35m42904\u001b[0m \u001b[36mrequest_id\u001b[0m=\u001b[35m1795289992\u001b[0m \u001b[36msource\u001b[0m=\u001b[35mPyMongo\u001b[0m \u001b[36mstack_snippet\u001b[0m=\u001b[35m\n",
      "  File \"/var/folders/_p/8_m91crj199_rd7sndkxncc80000gp/T/ipykernel_42904/2093352448.py\", line 1, in <module>\n",
      "    apps = list(mongo.application.find({'req_id': {'$in': req_ids}}, apps_p))\n",
      "\u001b[0m\n",
      "\u001b[2m2023-07-30T14:31:00.147983Z\u001b[0m [\u001b[33m\u001b[1mwarning  \u001b[0m] \u001b[1mSlowLog                       \u001b[0m \u001b[36mcommand_name\u001b[0m=\u001b[35mgetMore\u001b[0m \u001b[36mconnection_id\u001b[0m=\u001b[35mmongodb-3c.prod.omcomcom.com:27029\u001b[0m \u001b[36mduration_ms__numeric\u001b[0m=\u001b[35m71736.418\u001b[0m \u001b[36mduration_threshold__numeric\u001b[0m=\u001b[35m10000\u001b[0m \u001b[36menvironment\u001b[0m=\u001b[35mlocal\u001b[0m \u001b[36mfile_path\u001b[0m=\u001b[35m/Users/dima/hiredscore/gimme/hs_gimme/db_facade/slow_logs_utils.py\u001b[0m \u001b[36mfunction_name\u001b[0m=\u001b[35mwrite_slow_log\u001b[0m \u001b[36mhostname\u001b[0m=\u001b[35mDima-Shulga-MacBook-Pro\u001b[0m \u001b[36mline_number\u001b[0m=\u001b[35m11\u001b[0m \u001b[36mmodule\u001b[0m=\u001b[35mhs_gimme.db_facade.slow_logs_utils\u001b[0m \u001b[36mpid\u001b[0m=\u001b[35m42904\u001b[0m \u001b[36mrequest_id\u001b[0m=\u001b[35m840858777\u001b[0m \u001b[36msource\u001b[0m=\u001b[35mPyMongo\u001b[0m \u001b[36mstack_snippet\u001b[0m=\u001b[35m\n",
      "  File \"/var/folders/_p/8_m91crj199_rd7sndkxncc80000gp/T/ipykernel_42904/2093352448.py\", line 1, in <module>\n",
      "    apps = list(mongo.application.find({'req_id': {'$in': req_ids}}, apps_p))\n",
      "\u001b[0m\n",
      "\u001b[2m2023-07-30T14:31:45.897584Z\u001b[0m [\u001b[33m\u001b[1mwarning  \u001b[0m] \u001b[1mSlowLog                       \u001b[0m \u001b[36mcommand_name\u001b[0m=\u001b[35mgetMore\u001b[0m \u001b[36mconnection_id\u001b[0m=\u001b[35mmongodb-3c.prod.omcomcom.com:27029\u001b[0m \u001b[36mduration_ms__numeric\u001b[0m=\u001b[35m45728.783\u001b[0m \u001b[36mduration_threshold__numeric\u001b[0m=\u001b[35m10000\u001b[0m \u001b[36menvironment\u001b[0m=\u001b[35mlocal\u001b[0m \u001b[36mfile_path\u001b[0m=\u001b[35m/Users/dima/hiredscore/gimme/hs_gimme/db_facade/slow_logs_utils.py\u001b[0m \u001b[36mfunction_name\u001b[0m=\u001b[35mwrite_slow_log\u001b[0m \u001b[36mhostname\u001b[0m=\u001b[35mDima-Shulga-MacBook-Pro\u001b[0m \u001b[36mline_number\u001b[0m=\u001b[35m11\u001b[0m \u001b[36mmodule\u001b[0m=\u001b[35mhs_gimme.db_facade.slow_logs_utils\u001b[0m \u001b[36mpid\u001b[0m=\u001b[35m42904\u001b[0m \u001b[36mrequest_id\u001b[0m=\u001b[35m1420400196\u001b[0m \u001b[36msource\u001b[0m=\u001b[35mPyMongo\u001b[0m \u001b[36mstack_snippet\u001b[0m=\u001b[35m\n",
      "  File \"/var/folders/_p/8_m91crj199_rd7sndkxncc80000gp/T/ipykernel_42904/2093352448.py\", line 1, in <module>\n",
      "    apps = list(mongo.application.find({'req_id': {'$in': req_ids}}, apps_p))\n",
      "\u001b[0m\n",
      "\u001b[2m2023-07-30T14:32:11.992303Z\u001b[0m [\u001b[33m\u001b[1mwarning  \u001b[0m] \u001b[1mSlowLog                       \u001b[0m \u001b[36mcommand_name\u001b[0m=\u001b[35mgetMore\u001b[0m \u001b[36mconnection_id\u001b[0m=\u001b[35mmongodb-3c.prod.omcomcom.com:27029\u001b[0m \u001b[36mduration_ms__numeric\u001b[0m=\u001b[35m26067.314\u001b[0m \u001b[36mduration_threshold__numeric\u001b[0m=\u001b[35m10000\u001b[0m \u001b[36menvironment\u001b[0m=\u001b[35mlocal\u001b[0m \u001b[36mfile_path\u001b[0m=\u001b[35m/Users/dima/hiredscore/gimme/hs_gimme/db_facade/slow_logs_utils.py\u001b[0m \u001b[36mfunction_name\u001b[0m=\u001b[35mwrite_slow_log\u001b[0m \u001b[36mhostname\u001b[0m=\u001b[35mDima-Shulga-MacBook-Pro\u001b[0m \u001b[36mline_number\u001b[0m=\u001b[35m11\u001b[0m \u001b[36mmodule\u001b[0m=\u001b[35mhs_gimme.db_facade.slow_logs_utils\u001b[0m \u001b[36mpid\u001b[0m=\u001b[35m42904\u001b[0m \u001b[36mrequest_id\u001b[0m=\u001b[35m1478744840\u001b[0m \u001b[36msource\u001b[0m=\u001b[35mPyMongo\u001b[0m \u001b[36mstack_snippet\u001b[0m=\u001b[35m\n",
      "  File \"/var/folders/_p/8_m91crj199_rd7sndkxncc80000gp/T/ipykernel_42904/2093352448.py\", line 1, in <module>\n",
      "    apps = list(mongo.application.find({'req_id': {'$in': req_ids}}, apps_p))\n",
      "\u001b[0m\n",
      "\u001b[2m2023-07-30T14:32:42.515726Z\u001b[0m [\u001b[33m\u001b[1mwarning  \u001b[0m] \u001b[1mSlowLog                       \u001b[0m \u001b[36mcommand_name\u001b[0m=\u001b[35mgetMore\u001b[0m \u001b[36mconnection_id\u001b[0m=\u001b[35mmongodb-3c.prod.omcomcom.com:27029\u001b[0m \u001b[36mduration_ms__numeric\u001b[0m=\u001b[35m30510.123\u001b[0m \u001b[36mduration_threshold__numeric\u001b[0m=\u001b[35m10000\u001b[0m \u001b[36menvironment\u001b[0m=\u001b[35mlocal\u001b[0m \u001b[36mfile_path\u001b[0m=\u001b[35m/Users/dima/hiredscore/gimme/hs_gimme/db_facade/slow_logs_utils.py\u001b[0m \u001b[36mfunction_name\u001b[0m=\u001b[35mwrite_slow_log\u001b[0m \u001b[36mhostname\u001b[0m=\u001b[35mDima-Shulga-MacBook-Pro\u001b[0m \u001b[36mline_number\u001b[0m=\u001b[35m11\u001b[0m \u001b[36mmodule\u001b[0m=\u001b[35mhs_gimme.db_facade.slow_logs_utils\u001b[0m \u001b[36mpid\u001b[0m=\u001b[35m42904\u001b[0m \u001b[36mrequest_id\u001b[0m=\u001b[35m1680351381\u001b[0m \u001b[36msource\u001b[0m=\u001b[35mPyMongo\u001b[0m \u001b[36mstack_snippet\u001b[0m=\u001b[35m\n",
      "  File \"/var/folders/_p/8_m91crj199_rd7sndkxncc80000gp/T/ipykernel_42904/2093352448.py\", line 1, in <module>\n",
      "    apps = list(mongo.application.find({'req_id': {'$in': req_ids}}, apps_p))\n",
      "\u001b[0m\n",
      "\u001b[2m2023-07-30T14:33:12.679339Z\u001b[0m [\u001b[33m\u001b[1mwarning  \u001b[0m] \u001b[1mSlowLog                       \u001b[0m \u001b[36mcommand_name\u001b[0m=\u001b[35mgetMore\u001b[0m \u001b[36mconnection_id\u001b[0m=\u001b[35mmongodb-3c.prod.omcomcom.com:27029\u001b[0m \u001b[36mduration_ms__numeric\u001b[0m=\u001b[35m30144.87\u001b[0m \u001b[36mduration_threshold__numeric\u001b[0m=\u001b[35m10000\u001b[0m \u001b[36menvironment\u001b[0m=\u001b[35mlocal\u001b[0m \u001b[36mfile_path\u001b[0m=\u001b[35m/Users/dima/hiredscore/gimme/hs_gimme/db_facade/slow_logs_utils.py\u001b[0m \u001b[36mfunction_name\u001b[0m=\u001b[35mwrite_slow_log\u001b[0m \u001b[36mhostname\u001b[0m=\u001b[35mDima-Shulga-MacBook-Pro\u001b[0m \u001b[36mline_number\u001b[0m=\u001b[35m11\u001b[0m \u001b[36mmodule\u001b[0m=\u001b[35mhs_gimme.db_facade.slow_logs_utils\u001b[0m \u001b[36mpid\u001b[0m=\u001b[35m42904\u001b[0m \u001b[36mrequest_id\u001b[0m=\u001b[35m1939298850\u001b[0m \u001b[36msource\u001b[0m=\u001b[35mPyMongo\u001b[0m \u001b[36mstack_snippet\u001b[0m=\u001b[35m\n",
      "  File \"/var/folders/_p/8_m91crj199_rd7sndkxncc80000gp/T/ipykernel_42904/2093352448.py\", line 1, in <module>\n",
      "    apps = list(mongo.application.find({'req_id': {'$in': req_ids}}, apps_p))\n",
      "\u001b[0m\n",
      "\u001b[2m2023-07-30T14:33:38.405012Z\u001b[0m [\u001b[33m\u001b[1mwarning  \u001b[0m] \u001b[1mSlowLog                       \u001b[0m \u001b[36mcommand_name\u001b[0m=\u001b[35mgetMore\u001b[0m \u001b[36mconnection_id\u001b[0m=\u001b[35mmongodb-3c.prod.omcomcom.com:27029\u001b[0m \u001b[36mduration_ms__numeric\u001b[0m=\u001b[35m25697.999\u001b[0m \u001b[36mduration_threshold__numeric\u001b[0m=\u001b[35m10000\u001b[0m \u001b[36menvironment\u001b[0m=\u001b[35mlocal\u001b[0m \u001b[36mfile_path\u001b[0m=\u001b[35m/Users/dima/hiredscore/gimme/hs_gimme/db_facade/slow_logs_utils.py\u001b[0m \u001b[36mfunction_name\u001b[0m=\u001b[35mwrite_slow_log\u001b[0m \u001b[36mhostname\u001b[0m=\u001b[35mDima-Shulga-MacBook-Pro\u001b[0m \u001b[36mline_number\u001b[0m=\u001b[35m11\u001b[0m \u001b[36mmodule\u001b[0m=\u001b[35mhs_gimme.db_facade.slow_logs_utils\u001b[0m \u001b[36mpid\u001b[0m=\u001b[35m42904\u001b[0m \u001b[36mrequest_id\u001b[0m=\u001b[35m1391731064\u001b[0m \u001b[36msource\u001b[0m=\u001b[35mPyMongo\u001b[0m \u001b[36mstack_snippet\u001b[0m=\u001b[35m\n",
      "  File \"/var/folders/_p/8_m91crj199_rd7sndkxncc80000gp/T/ipykernel_42904/2093352448.py\", line 1, in <module>\n",
      "    apps = list(mongo.application.find({'req_id': {'$in': req_ids}}, apps_p))\n",
      "\u001b[0m\n",
      "\u001b[2m2023-07-30T14:34:01.243046Z\u001b[0m [\u001b[33m\u001b[1mwarning  \u001b[0m] \u001b[1mSlowLog                       \u001b[0m \u001b[36mcommand_name\u001b[0m=\u001b[35mgetMore\u001b[0m \u001b[36mconnection_id\u001b[0m=\u001b[35mmongodb-3c.prod.omcomcom.com:27029\u001b[0m \u001b[36mduration_ms__numeric\u001b[0m=\u001b[35m22825.009\u001b[0m \u001b[36mduration_threshold__numeric\u001b[0m=\u001b[35m10000\u001b[0m \u001b[36menvironment\u001b[0m=\u001b[35mlocal\u001b[0m \u001b[36mfile_path\u001b[0m=\u001b[35m/Users/dima/hiredscore/gimme/hs_gimme/db_facade/slow_logs_utils.py\u001b[0m \u001b[36mfunction_name\u001b[0m=\u001b[35mwrite_slow_log\u001b[0m \u001b[36mhostname\u001b[0m=\u001b[35mDima-Shulga-MacBook-Pro\u001b[0m \u001b[36mline_number\u001b[0m=\u001b[35m11\u001b[0m \u001b[36mmodule\u001b[0m=\u001b[35mhs_gimme.db_facade.slow_logs_utils\u001b[0m \u001b[36mpid\u001b[0m=\u001b[35m42904\u001b[0m \u001b[36mrequest_id\u001b[0m=\u001b[35m627260093\u001b[0m \u001b[36msource\u001b[0m=\u001b[35mPyMongo\u001b[0m \u001b[36mstack_snippet\u001b[0m=\u001b[35m\n",
      "  File \"/var/folders/_p/8_m91crj199_rd7sndkxncc80000gp/T/ipykernel_42904/2093352448.py\", line 1, in <module>\n",
      "    apps = list(mongo.application.find({'req_id': {'$in': req_ids}}, apps_p))\n",
      "\u001b[0m\n",
      "\u001b[2m2023-07-30T14:34:22.125076Z\u001b[0m [\u001b[33m\u001b[1mwarning  \u001b[0m] \u001b[1mSlowLog                       \u001b[0m \u001b[36mcommand_name\u001b[0m=\u001b[35mgetMore\u001b[0m \u001b[36mconnection_id\u001b[0m=\u001b[35mmongodb-3c.prod.omcomcom.com:27029\u001b[0m \u001b[36mduration_ms__numeric\u001b[0m=\u001b[35m20870.817\u001b[0m \u001b[36mduration_threshold__numeric\u001b[0m=\u001b[35m10000\u001b[0m \u001b[36menvironment\u001b[0m=\u001b[35mlocal\u001b[0m \u001b[36mfile_path\u001b[0m=\u001b[35m/Users/dima/hiredscore/gimme/hs_gimme/db_facade/slow_logs_utils.py\u001b[0m \u001b[36mfunction_name\u001b[0m=\u001b[35mwrite_slow_log\u001b[0m \u001b[36mhostname\u001b[0m=\u001b[35mDima-Shulga-MacBook-Pro\u001b[0m \u001b[36mline_number\u001b[0m=\u001b[35m11\u001b[0m \u001b[36mmodule\u001b[0m=\u001b[35mhs_gimme.db_facade.slow_logs_utils\u001b[0m \u001b[36mpid\u001b[0m=\u001b[35m42904\u001b[0m \u001b[36mrequest_id\u001b[0m=\u001b[35m1502463517\u001b[0m \u001b[36msource\u001b[0m=\u001b[35mPyMongo\u001b[0m \u001b[36mstack_snippet\u001b[0m=\u001b[35m\n",
      "  File \"/var/folders/_p/8_m91crj199_rd7sndkxncc80000gp/T/ipykernel_42904/2093352448.py\", line 1, in <module>\n",
      "    apps = list(mongo.application.find({'req_id': {'$in': req_ids}}, apps_p))\n",
      "\u001b[0m\n",
      "\u001b[2m2023-07-30T14:34:48.143283Z\u001b[0m [\u001b[33m\u001b[1mwarning  \u001b[0m] \u001b[1mSlowLog                       \u001b[0m \u001b[36mcommand_name\u001b[0m=\u001b[35mgetMore\u001b[0m \u001b[36mconnection_id\u001b[0m=\u001b[35mmongodb-3c.prod.omcomcom.com:27029\u001b[0m \u001b[36mduration_ms__numeric\u001b[0m=\u001b[35m26006.964\u001b[0m \u001b[36mduration_threshold__numeric\u001b[0m=\u001b[35m10000\u001b[0m \u001b[36menvironment\u001b[0m=\u001b[35mlocal\u001b[0m \u001b[36mfile_path\u001b[0m=\u001b[35m/Users/dima/hiredscore/gimme/hs_gimme/db_facade/slow_logs_utils.py\u001b[0m \u001b[36mfunction_name\u001b[0m=\u001b[35mwrite_slow_log\u001b[0m \u001b[36mhostname\u001b[0m=\u001b[35mDima-Shulga-MacBook-Pro\u001b[0m \u001b[36mline_number\u001b[0m=\u001b[35m11\u001b[0m \u001b[36mmodule\u001b[0m=\u001b[35mhs_gimme.db_facade.slow_logs_utils\u001b[0m \u001b[36mpid\u001b[0m=\u001b[35m42904\u001b[0m \u001b[36mrequest_id\u001b[0m=\u001b[35m2144768489\u001b[0m \u001b[36msource\u001b[0m=\u001b[35mPyMongo\u001b[0m \u001b[36mstack_snippet\u001b[0m=\u001b[35m\n",
      "  File \"/var/folders/_p/8_m91crj199_rd7sndkxncc80000gp/T/ipykernel_42904/2093352448.py\", line 1, in <module>\n",
      "    apps = list(mongo.application.find({'req_id': {'$in': req_ids}}, apps_p))\n",
      "\u001b[0m\n",
      "\u001b[2m2023-07-30T14:35:14.629744Z\u001b[0m [\u001b[33m\u001b[1mwarning  \u001b[0m] \u001b[1mSlowLog                       \u001b[0m \u001b[36mcommand_name\u001b[0m=\u001b[35mgetMore\u001b[0m \u001b[36mconnection_id\u001b[0m=\u001b[35mmongodb-3c.prod.omcomcom.com:27029\u001b[0m \u001b[36mduration_ms__numeric\u001b[0m=\u001b[35m26474.121\u001b[0m \u001b[36mduration_threshold__numeric\u001b[0m=\u001b[35m10000\u001b[0m \u001b[36menvironment\u001b[0m=\u001b[35mlocal\u001b[0m \u001b[36mfile_path\u001b[0m=\u001b[35m/Users/dima/hiredscore/gimme/hs_gimme/db_facade/slow_logs_utils.py\u001b[0m \u001b[36mfunction_name\u001b[0m=\u001b[35mwrite_slow_log\u001b[0m \u001b[36mhostname\u001b[0m=\u001b[35mDima-Shulga-MacBook-Pro\u001b[0m \u001b[36mline_number\u001b[0m=\u001b[35m11\u001b[0m \u001b[36mmodule\u001b[0m=\u001b[35mhs_gimme.db_facade.slow_logs_utils\u001b[0m \u001b[36mpid\u001b[0m=\u001b[35m42904\u001b[0m \u001b[36mrequest_id\u001b[0m=\u001b[35m1702482605\u001b[0m \u001b[36msource\u001b[0m=\u001b[35mPyMongo\u001b[0m \u001b[36mstack_snippet\u001b[0m=\u001b[35m\n",
      "  File \"/var/folders/_p/8_m91crj199_rd7sndkxncc80000gp/T/ipykernel_42904/2093352448.py\", line 1, in <module>\n",
      "    apps = list(mongo.application.find({'req_id': {'$in': req_ids}}, apps_p))\n",
      "\u001b[0m\n",
      "\u001b[2m2023-07-30T14:35:38.131805Z\u001b[0m [\u001b[33m\u001b[1mwarning  \u001b[0m] \u001b[1mSlowLog                       \u001b[0m \u001b[36mcommand_name\u001b[0m=\u001b[35mgetMore\u001b[0m \u001b[36mconnection_id\u001b[0m=\u001b[35mmongodb-3c.prod.omcomcom.com:27029\u001b[0m \u001b[36mduration_ms__numeric\u001b[0m=\u001b[35m23486.867\u001b[0m \u001b[36mduration_threshold__numeric\u001b[0m=\u001b[35m10000\u001b[0m \u001b[36menvironment\u001b[0m=\u001b[35mlocal\u001b[0m \u001b[36mfile_path\u001b[0m=\u001b[35m/Users/dima/hiredscore/gimme/hs_gimme/db_facade/slow_logs_utils.py\u001b[0m \u001b[36mfunction_name\u001b[0m=\u001b[35mwrite_slow_log\u001b[0m \u001b[36mhostname\u001b[0m=\u001b[35mDima-Shulga-MacBook-Pro\u001b[0m \u001b[36mline_number\u001b[0m=\u001b[35m11\u001b[0m \u001b[36mmodule\u001b[0m=\u001b[35mhs_gimme.db_facade.slow_logs_utils\u001b[0m \u001b[36mpid\u001b[0m=\u001b[35m42904\u001b[0m \u001b[36mrequest_id\u001b[0m=\u001b[35m1236634257\u001b[0m \u001b[36msource\u001b[0m=\u001b[35mPyMongo\u001b[0m \u001b[36mstack_snippet\u001b[0m=\u001b[35m\n",
      "  File \"/var/folders/_p/8_m91crj199_rd7sndkxncc80000gp/T/ipykernel_42904/2093352448.py\", line 1, in <module>\n",
      "    apps = list(mongo.application.find({'req_id': {'$in': req_ids}}, apps_p))\n",
      "\u001b[0m\n",
      "\u001b[2m2023-07-30T14:36:11.233877Z\u001b[0m [\u001b[33m\u001b[1mwarning  \u001b[0m] \u001b[1mSlowLog                       \u001b[0m \u001b[36mcommand_name\u001b[0m=\u001b[35mgetMore\u001b[0m \u001b[36mconnection_id\u001b[0m=\u001b[35mmongodb-3c.prod.omcomcom.com:27029\u001b[0m \u001b[36mduration_ms__numeric\u001b[0m=\u001b[35m33086.959\u001b[0m \u001b[36mduration_threshold__numeric\u001b[0m=\u001b[35m10000\u001b[0m \u001b[36menvironment\u001b[0m=\u001b[35mlocal\u001b[0m \u001b[36mfile_path\u001b[0m=\u001b[35m/Users/dima/hiredscore/gimme/hs_gimme/db_facade/slow_logs_utils.py\u001b[0m \u001b[36mfunction_name\u001b[0m=\u001b[35mwrite_slow_log\u001b[0m \u001b[36mhostname\u001b[0m=\u001b[35mDima-Shulga-MacBook-Pro\u001b[0m \u001b[36mline_number\u001b[0m=\u001b[35m11\u001b[0m \u001b[36mmodule\u001b[0m=\u001b[35mhs_gimme.db_facade.slow_logs_utils\u001b[0m \u001b[36mpid\u001b[0m=\u001b[35m42904\u001b[0m \u001b[36mrequest_id\u001b[0m=\u001b[35m821225633\u001b[0m \u001b[36msource\u001b[0m=\u001b[35mPyMongo\u001b[0m \u001b[36mstack_snippet\u001b[0m=\u001b[35m\n",
      "  File \"/var/folders/_p/8_m91crj199_rd7sndkxncc80000gp/T/ipykernel_42904/2093352448.py\", line 1, in <module>\n",
      "    apps = list(mongo.application.find({'req_id': {'$in': req_ids}}, apps_p))\n",
      "\u001b[0m\n",
      "\u001b[2m2023-07-30T14:36:35.150870Z\u001b[0m [\u001b[33m\u001b[1mwarning  \u001b[0m] \u001b[1mSlowLog                       \u001b[0m \u001b[36mcommand_name\u001b[0m=\u001b[35mgetMore\u001b[0m \u001b[36mconnection_id\u001b[0m=\u001b[35mmongodb-3c.prod.omcomcom.com:27029\u001b[0m \u001b[36mduration_ms__numeric\u001b[0m=\u001b[35m23900.682\u001b[0m \u001b[36mduration_threshold__numeric\u001b[0m=\u001b[35m10000\u001b[0m \u001b[36menvironment\u001b[0m=\u001b[35mlocal\u001b[0m \u001b[36mfile_path\u001b[0m=\u001b[35m/Users/dima/hiredscore/gimme/hs_gimme/db_facade/slow_logs_utils.py\u001b[0m \u001b[36mfunction_name\u001b[0m=\u001b[35mwrite_slow_log\u001b[0m \u001b[36mhostname\u001b[0m=\u001b[35mDima-Shulga-MacBook-Pro\u001b[0m \u001b[36mline_number\u001b[0m=\u001b[35m11\u001b[0m \u001b[36mmodule\u001b[0m=\u001b[35mhs_gimme.db_facade.slow_logs_utils\u001b[0m \u001b[36mpid\u001b[0m=\u001b[35m42904\u001b[0m \u001b[36mrequest_id\u001b[0m=\u001b[35m777800262\u001b[0m \u001b[36msource\u001b[0m=\u001b[35mPyMongo\u001b[0m \u001b[36mstack_snippet\u001b[0m=\u001b[35m\n",
      "  File \"/var/folders/_p/8_m91crj199_rd7sndkxncc80000gp/T/ipykernel_42904/2093352448.py\", line 1, in <module>\n",
      "    apps = list(mongo.application.find({'req_id': {'$in': req_ids}}, apps_p))\n",
      "\u001b[0m\n",
      "\u001b[2m2023-07-30T14:37:01.760346Z\u001b[0m [\u001b[33m\u001b[1mwarning  \u001b[0m] \u001b[1mSlowLog                       \u001b[0m \u001b[36mcommand_name\u001b[0m=\u001b[35mgetMore\u001b[0m \u001b[36mconnection_id\u001b[0m=\u001b[35mmongodb-3c.prod.omcomcom.com:27029\u001b[0m \u001b[36mduration_ms__numeric\u001b[0m=\u001b[35m26597.038\u001b[0m \u001b[36mduration_threshold__numeric\u001b[0m=\u001b[35m10000\u001b[0m \u001b[36menvironment\u001b[0m=\u001b[35mlocal\u001b[0m \u001b[36mfile_path\u001b[0m=\u001b[35m/Users/dima/hiredscore/gimme/hs_gimme/db_facade/slow_logs_utils.py\u001b[0m \u001b[36mfunction_name\u001b[0m=\u001b[35mwrite_slow_log\u001b[0m \u001b[36mhostname\u001b[0m=\u001b[35mDima-Shulga-MacBook-Pro\u001b[0m \u001b[36mline_number\u001b[0m=\u001b[35m11\u001b[0m \u001b[36mmodule\u001b[0m=\u001b[35mhs_gimme.db_facade.slow_logs_utils\u001b[0m \u001b[36mpid\u001b[0m=\u001b[35m42904\u001b[0m \u001b[36mrequest_id\u001b[0m=\u001b[35m934961292\u001b[0m \u001b[36msource\u001b[0m=\u001b[35mPyMongo\u001b[0m \u001b[36mstack_snippet\u001b[0m=\u001b[35m\n",
      "  File \"/var/folders/_p/8_m91crj199_rd7sndkxncc80000gp/T/ipykernel_42904/2093352448.py\", line 1, in <module>\n",
      "    apps = list(mongo.application.find({'req_id': {'$in': req_ids}}, apps_p))\n",
      "\u001b[0m\n",
      "\u001b[2m2023-07-30T14:37:25.291243Z\u001b[0m [\u001b[33m\u001b[1mwarning  \u001b[0m] \u001b[1mSlowLog                       \u001b[0m \u001b[36mcommand_name\u001b[0m=\u001b[35mgetMore\u001b[0m \u001b[36mconnection_id\u001b[0m=\u001b[35mmongodb-3c.prod.omcomcom.com:27029\u001b[0m \u001b[36mduration_ms__numeric\u001b[0m=\u001b[35m23510.447\u001b[0m \u001b[36mduration_threshold__numeric\u001b[0m=\u001b[35m10000\u001b[0m \u001b[36menvironment\u001b[0m=\u001b[35mlocal\u001b[0m \u001b[36mfile_path\u001b[0m=\u001b[35m/Users/dima/hiredscore/gimme/hs_gimme/db_facade/slow_logs_utils.py\u001b[0m \u001b[36mfunction_name\u001b[0m=\u001b[35mwrite_slow_log\u001b[0m \u001b[36mhostname\u001b[0m=\u001b[35mDima-Shulga-MacBook-Pro\u001b[0m \u001b[36mline_number\u001b[0m=\u001b[35m11\u001b[0m \u001b[36mmodule\u001b[0m=\u001b[35mhs_gimme.db_facade.slow_logs_utils\u001b[0m \u001b[36mpid\u001b[0m=\u001b[35m42904\u001b[0m \u001b[36mrequest_id\u001b[0m=\u001b[35m1306624513\u001b[0m \u001b[36msource\u001b[0m=\u001b[35mPyMongo\u001b[0m \u001b[36mstack_snippet\u001b[0m=\u001b[35m\n",
      "  File \"/var/folders/_p/8_m91crj199_rd7sndkxncc80000gp/T/ipykernel_42904/2093352448.py\", line 1, in <module>\n",
      "    apps = list(mongo.application.find({'req_id': {'$in': req_ids}}, apps_p))\n",
      "\u001b[0m\n",
      "\u001b[2m2023-07-30T14:37:44.418767Z\u001b[0m [\u001b[33m\u001b[1mwarning  \u001b[0m] \u001b[1mSlowLog                       \u001b[0m \u001b[36mcommand_name\u001b[0m=\u001b[35mgetMore\u001b[0m \u001b[36mconnection_id\u001b[0m=\u001b[35mmongodb-3c.prod.omcomcom.com:27029\u001b[0m \u001b[36mduration_ms__numeric\u001b[0m=\u001b[35m19114.079\u001b[0m \u001b[36mduration_threshold__numeric\u001b[0m=\u001b[35m10000\u001b[0m \u001b[36menvironment\u001b[0m=\u001b[35mlocal\u001b[0m \u001b[36mfile_path\u001b[0m=\u001b[35m/Users/dima/hiredscore/gimme/hs_gimme/db_facade/slow_logs_utils.py\u001b[0m \u001b[36mfunction_name\u001b[0m=\u001b[35mwrite_slow_log\u001b[0m \u001b[36mhostname\u001b[0m=\u001b[35mDima-Shulga-MacBook-Pro\u001b[0m \u001b[36mline_number\u001b[0m=\u001b[35m11\u001b[0m \u001b[36mmodule\u001b[0m=\u001b[35mhs_gimme.db_facade.slow_logs_utils\u001b[0m \u001b[36mpid\u001b[0m=\u001b[35m42904\u001b[0m \u001b[36mrequest_id\u001b[0m=\u001b[35m985509754\u001b[0m \u001b[36msource\u001b[0m=\u001b[35mPyMongo\u001b[0m \u001b[36mstack_snippet\u001b[0m=\u001b[35m\n",
      "  File \"/var/folders/_p/8_m91crj199_rd7sndkxncc80000gp/T/ipykernel_42904/2093352448.py\", line 1, in <module>\n",
      "    apps = list(mongo.application.find({'req_id': {'$in': req_ids}}, apps_p))\n",
      "\u001b[0m\n",
      "\u001b[2m2023-07-30T14:37:58.319232Z\u001b[0m [\u001b[33m\u001b[1mwarning  \u001b[0m] \u001b[1mSlowLog                       \u001b[0m \u001b[36mcommand_name\u001b[0m=\u001b[35mgetMore\u001b[0m \u001b[36mconnection_id\u001b[0m=\u001b[35mmongodb-3c.prod.omcomcom.com:27029\u001b[0m \u001b[36mduration_ms__numeric\u001b[0m=\u001b[35m13890.533\u001b[0m \u001b[36mduration_threshold__numeric\u001b[0m=\u001b[35m10000\u001b[0m \u001b[36menvironment\u001b[0m=\u001b[35mlocal\u001b[0m \u001b[36mfile_path\u001b[0m=\u001b[35m/Users/dima/hiredscore/gimme/hs_gimme/db_facade/slow_logs_utils.py\u001b[0m \u001b[36mfunction_name\u001b[0m=\u001b[35mwrite_slow_log\u001b[0m \u001b[36mhostname\u001b[0m=\u001b[35mDima-Shulga-MacBook-Pro\u001b[0m \u001b[36mline_number\u001b[0m=\u001b[35m11\u001b[0m \u001b[36mmodule\u001b[0m=\u001b[35mhs_gimme.db_facade.slow_logs_utils\u001b[0m \u001b[36mpid\u001b[0m=\u001b[35m42904\u001b[0m \u001b[36mrequest_id\u001b[0m=\u001b[35m1737580191\u001b[0m \u001b[36msource\u001b[0m=\u001b[35mPyMongo\u001b[0m \u001b[36mstack_snippet\u001b[0m=\u001b[35m\n",
      "  File \"/var/folders/_p/8_m91crj199_rd7sndkxncc80000gp/T/ipykernel_42904/2093352448.py\", line 1, in <module>\n",
      "    apps = list(mongo.application.find({'req_id': {'$in': req_ids}}, apps_p))\n",
      "\u001b[0m\n",
      "\u001b[2m2023-07-30T14:38:21.605348Z\u001b[0m [\u001b[33m\u001b[1mwarning  \u001b[0m] \u001b[1mSlowLog                       \u001b[0m \u001b[36mcommand_name\u001b[0m=\u001b[35mgetMore\u001b[0m \u001b[36mconnection_id\u001b[0m=\u001b[35mmongodb-3c.prod.omcomcom.com:27029\u001b[0m \u001b[36mduration_ms__numeric\u001b[0m=\u001b[35m23279.175\u001b[0m \u001b[36mduration_threshold__numeric\u001b[0m=\u001b[35m10000\u001b[0m \u001b[36menvironment\u001b[0m=\u001b[35mlocal\u001b[0m \u001b[36mfile_path\u001b[0m=\u001b[35m/Users/dima/hiredscore/gimme/hs_gimme/db_facade/slow_logs_utils.py\u001b[0m \u001b[36mfunction_name\u001b[0m=\u001b[35mwrite_slow_log\u001b[0m \u001b[36mhostname\u001b[0m=\u001b[35mDima-Shulga-MacBook-Pro\u001b[0m \u001b[36mline_number\u001b[0m=\u001b[35m11\u001b[0m \u001b[36mmodule\u001b[0m=\u001b[35mhs_gimme.db_facade.slow_logs_utils\u001b[0m \u001b[36mpid\u001b[0m=\u001b[35m42904\u001b[0m \u001b[36mrequest_id\u001b[0m=\u001b[35m303180324\u001b[0m \u001b[36msource\u001b[0m=\u001b[35mPyMongo\u001b[0m \u001b[36mstack_snippet\u001b[0m=\u001b[35m\n",
      "  File \"/var/folders/_p/8_m91crj199_rd7sndkxncc80000gp/T/ipykernel_42904/2093352448.py\", line 1, in <module>\n",
      "    apps = list(mongo.application.find({'req_id': {'$in': req_ids}}, apps_p))\n",
      "\u001b[0m\n",
      "\u001b[2m2023-07-30T14:38:44.659279Z\u001b[0m [\u001b[33m\u001b[1mwarning  \u001b[0m] \u001b[1mSlowLog                       \u001b[0m \u001b[36mcommand_name\u001b[0m=\u001b[35mgetMore\u001b[0m \u001b[36mconnection_id\u001b[0m=\u001b[35mmongodb-3c.prod.omcomcom.com:27029\u001b[0m \u001b[36mduration_ms__numeric\u001b[0m=\u001b[35m15315.571\u001b[0m \u001b[36mduration_threshold__numeric\u001b[0m=\u001b[35m10000\u001b[0m \u001b[36menvironment\u001b[0m=\u001b[35mlocal\u001b[0m \u001b[36mfile_path\u001b[0m=\u001b[35m/Users/dima/hiredscore/gimme/hs_gimme/db_facade/slow_logs_utils.py\u001b[0m \u001b[36mfunction_name\u001b[0m=\u001b[35mwrite_slow_log\u001b[0m \u001b[36mhostname\u001b[0m=\u001b[35mDima-Shulga-MacBook-Pro\u001b[0m \u001b[36mline_number\u001b[0m=\u001b[35m11\u001b[0m \u001b[36mmodule\u001b[0m=\u001b[35mhs_gimme.db_facade.slow_logs_utils\u001b[0m \u001b[36mpid\u001b[0m=\u001b[35m42904\u001b[0m \u001b[36mrequest_id\u001b[0m=\u001b[35m1441132407\u001b[0m \u001b[36msource\u001b[0m=\u001b[35mPyMongo\u001b[0m \u001b[36mstack_snippet\u001b[0m=\u001b[35m\n",
      "  File \"/var/folders/_p/8_m91crj199_rd7sndkxncc80000gp/T/ipykernel_42904/2093352448.py\", line 1, in <module>\n",
      "    apps = list(mongo.application.find({'req_id': {'$in': req_ids}}, apps_p))\n",
      "\u001b[0m\n",
      "\u001b[2m2023-07-30T14:39:09.832403Z\u001b[0m [\u001b[33m\u001b[1mwarning  \u001b[0m] \u001b[1mSlowLog                       \u001b[0m \u001b[36mcommand_name\u001b[0m=\u001b[35mgetMore\u001b[0m \u001b[36mconnection_id\u001b[0m=\u001b[35mmongodb-3c.prod.omcomcom.com:27029\u001b[0m \u001b[36mduration_ms__numeric\u001b[0m=\u001b[35m25160.124\u001b[0m \u001b[36mduration_threshold__numeric\u001b[0m=\u001b[35m10000\u001b[0m \u001b[36menvironment\u001b[0m=\u001b[35mlocal\u001b[0m \u001b[36mfile_path\u001b[0m=\u001b[35m/Users/dima/hiredscore/gimme/hs_gimme/db_facade/slow_logs_utils.py\u001b[0m \u001b[36mfunction_name\u001b[0m=\u001b[35mwrite_slow_log\u001b[0m \u001b[36mhostname\u001b[0m=\u001b[35mDima-Shulga-MacBook-Pro\u001b[0m \u001b[36mline_number\u001b[0m=\u001b[35m11\u001b[0m \u001b[36mmodule\u001b[0m=\u001b[35mhs_gimme.db_facade.slow_logs_utils\u001b[0m \u001b[36mpid\u001b[0m=\u001b[35m42904\u001b[0m \u001b[36mrequest_id\u001b[0m=\u001b[35m879965253\u001b[0m \u001b[36msource\u001b[0m=\u001b[35mPyMongo\u001b[0m \u001b[36mstack_snippet\u001b[0m=\u001b[35m\n",
      "  File \"/var/folders/_p/8_m91crj199_rd7sndkxncc80000gp/T/ipykernel_42904/2093352448.py\", line 1, in <module>\n",
      "    apps = list(mongo.application.find({'req_id': {'$in': req_ids}}, apps_p))\n",
      "\u001b[0m\n",
      "\u001b[2m2023-07-30T14:39:34.212944Z\u001b[0m [\u001b[33m\u001b[1mwarning  \u001b[0m] \u001b[1mSlowLog                       \u001b[0m \u001b[36mcommand_name\u001b[0m=\u001b[35mgetMore\u001b[0m \u001b[36mconnection_id\u001b[0m=\u001b[35mmongodb-3c.prod.omcomcom.com:27029\u001b[0m \u001b[36mduration_ms__numeric\u001b[0m=\u001b[35m24368.021\u001b[0m \u001b[36mduration_threshold__numeric\u001b[0m=\u001b[35m10000\u001b[0m \u001b[36menvironment\u001b[0m=\u001b[35mlocal\u001b[0m \u001b[36mfile_path\u001b[0m=\u001b[35m/Users/dima/hiredscore/gimme/hs_gimme/db_facade/slow_logs_utils.py\u001b[0m \u001b[36mfunction_name\u001b[0m=\u001b[35mwrite_slow_log\u001b[0m \u001b[36mhostname\u001b[0m=\u001b[35mDima-Shulga-MacBook-Pro\u001b[0m \u001b[36mline_number\u001b[0m=\u001b[35m11\u001b[0m \u001b[36mmodule\u001b[0m=\u001b[35mhs_gimme.db_facade.slow_logs_utils\u001b[0m \u001b[36mpid\u001b[0m=\u001b[35m42904\u001b[0m \u001b[36mrequest_id\u001b[0m=\u001b[35m1340040768\u001b[0m \u001b[36msource\u001b[0m=\u001b[35mPyMongo\u001b[0m \u001b[36mstack_snippet\u001b[0m=\u001b[35m\n",
      "  File \"/var/folders/_p/8_m91crj199_rd7sndkxncc80000gp/T/ipykernel_42904/2093352448.py\", line 1, in <module>\n",
      "    apps = list(mongo.application.find({'req_id': {'$in': req_ids}}, apps_p))\n",
      "\u001b[0m\n",
      "\u001b[2m2023-07-30T14:39:57.456533Z\u001b[0m [\u001b[33m\u001b[1mwarning  \u001b[0m] \u001b[1mSlowLog                       \u001b[0m \u001b[36mcommand_name\u001b[0m=\u001b[35mgetMore\u001b[0m \u001b[36mconnection_id\u001b[0m=\u001b[35mmongodb-3c.prod.omcomcom.com:27029\u001b[0m \u001b[36mduration_ms__numeric\u001b[0m=\u001b[35m23232.278\u001b[0m \u001b[36mduration_threshold__numeric\u001b[0m=\u001b[35m10000\u001b[0m \u001b[36menvironment\u001b[0m=\u001b[35mlocal\u001b[0m \u001b[36mfile_path\u001b[0m=\u001b[35m/Users/dima/hiredscore/gimme/hs_gimme/db_facade/slow_logs_utils.py\u001b[0m \u001b[36mfunction_name\u001b[0m=\u001b[35mwrite_slow_log\u001b[0m \u001b[36mhostname\u001b[0m=\u001b[35mDima-Shulga-MacBook-Pro\u001b[0m \u001b[36mline_number\u001b[0m=\u001b[35m11\u001b[0m \u001b[36mmodule\u001b[0m=\u001b[35mhs_gimme.db_facade.slow_logs_utils\u001b[0m \u001b[36mpid\u001b[0m=\u001b[35m42904\u001b[0m \u001b[36mrequest_id\u001b[0m=\u001b[35m1257996176\u001b[0m \u001b[36msource\u001b[0m=\u001b[35mPyMongo\u001b[0m \u001b[36mstack_snippet\u001b[0m=\u001b[35m\n",
      "  File \"/var/folders/_p/8_m91crj199_rd7sndkxncc80000gp/T/ipykernel_42904/2093352448.py\", line 1, in <module>\n",
      "    apps = list(mongo.application.find({'req_id': {'$in': req_ids}}, apps_p))\n",
      "\u001b[0m\n",
      "\u001b[2m2023-07-30T14:40:26.067372Z\u001b[0m [\u001b[33m\u001b[1mwarning  \u001b[0m] \u001b[1mSlowLog                       \u001b[0m \u001b[36mcommand_name\u001b[0m=\u001b[35mgetMore\u001b[0m \u001b[36mconnection_id\u001b[0m=\u001b[35mmongodb-3c.prod.omcomcom.com:27029\u001b[0m \u001b[36mduration_ms__numeric\u001b[0m=\u001b[35m11071.396\u001b[0m \u001b[36mduration_threshold__numeric\u001b[0m=\u001b[35m10000\u001b[0m \u001b[36menvironment\u001b[0m=\u001b[35mlocal\u001b[0m \u001b[36mfile_path\u001b[0m=\u001b[35m/Users/dima/hiredscore/gimme/hs_gimme/db_facade/slow_logs_utils.py\u001b[0m \u001b[36mfunction_name\u001b[0m=\u001b[35mwrite_slow_log\u001b[0m \u001b[36mhostname\u001b[0m=\u001b[35mDima-Shulga-MacBook-Pro\u001b[0m \u001b[36mline_number\u001b[0m=\u001b[35m11\u001b[0m \u001b[36mmodule\u001b[0m=\u001b[35mhs_gimme.db_facade.slow_logs_utils\u001b[0m \u001b[36mpid\u001b[0m=\u001b[35m42904\u001b[0m \u001b[36mrequest_id\u001b[0m=\u001b[35m1005471806\u001b[0m \u001b[36msource\u001b[0m=\u001b[35mPyMongo\u001b[0m \u001b[36mstack_snippet\u001b[0m=\u001b[35m\n",
      "  File \"/var/folders/_p/8_m91crj199_rd7sndkxncc80000gp/T/ipykernel_42904/2093352448.py\", line 1, in <module>\n",
      "    apps = list(mongo.application.find({'req_id': {'$in': req_ids}}, apps_p))\n",
      "\u001b[0m\n",
      "\u001b[2m2023-07-30T14:42:01.191796Z\u001b[0m [\u001b[33m\u001b[1mwarning  \u001b[0m] \u001b[1mSlowLog                       \u001b[0m \u001b[36mcommand_name\u001b[0m=\u001b[35mgetMore\u001b[0m \u001b[36mconnection_id\u001b[0m=\u001b[35mmongodb-3c.prod.omcomcom.com:27029\u001b[0m \u001b[36mduration_ms__numeric\u001b[0m=\u001b[35m11276.331\u001b[0m \u001b[36mduration_threshold__numeric\u001b[0m=\u001b[35m10000\u001b[0m \u001b[36menvironment\u001b[0m=\u001b[35mlocal\u001b[0m \u001b[36mfile_path\u001b[0m=\u001b[35m/Users/dima/hiredscore/gimme/hs_gimme/db_facade/slow_logs_utils.py\u001b[0m \u001b[36mfunction_name\u001b[0m=\u001b[35mwrite_slow_log\u001b[0m \u001b[36mhostname\u001b[0m=\u001b[35mDima-Shulga-MacBook-Pro\u001b[0m \u001b[36mline_number\u001b[0m=\u001b[35m11\u001b[0m \u001b[36mmodule\u001b[0m=\u001b[35mhs_gimme.db_facade.slow_logs_utils\u001b[0m \u001b[36mpid\u001b[0m=\u001b[35m42904\u001b[0m \u001b[36mrequest_id\u001b[0m=\u001b[35m1710652610\u001b[0m \u001b[36msource\u001b[0m=\u001b[35mPyMongo\u001b[0m \u001b[36mstack_snippet\u001b[0m=\u001b[35m\n",
      "  File \"/var/folders/_p/8_m91crj199_rd7sndkxncc80000gp/T/ipykernel_42904/2093352448.py\", line 1, in <module>\n",
      "    apps = list(mongo.application.find({'req_id': {'$in': req_ids}}, apps_p))\n",
      "\u001b[0m\n"
     ]
    },
    {
     "data": {
      "text/plain": [
       "1030702"
      ]
     },
     "execution_count": 10,
     "metadata": {},
     "output_type": "execute_result"
    }
   ],
   "source": [
    "apps = list(mongo.application.find({'req_id': {'$in': req_ids}}, apps_p))\n",
    "len(apps)"
   ]
  },
  {
   "cell_type": "code",
   "execution_count": 11,
   "id": "73448fc9-f015-45ab-a098-cba355eb7d53",
   "metadata": {
    "tags": []
   },
   "outputs": [
    {
     "data": {
      "text/plain": [
       "{'Decline to Identify', 'Female', 'Male', 'Missing'}"
      ]
     },
     "execution_count": 11,
     "metadata": {},
     "output_type": "execute_result"
    }
   ],
   "source": [
    "genders = set(a['ats_application'].get('eeo', {}).get('gender', 'Missing') for a in apps)\n",
    "genders"
   ]
  },
  {
   "cell_type": "code",
   "execution_count": 12,
   "id": "c7820d16-676c-45d4-afd8-7b2d83ab7edb",
   "metadata": {
    "tags": []
   },
   "outputs": [
    {
     "data": {
      "text/plain": [
       "{'Asian',\n",
       " 'Black or African American',\n",
       " 'Decline to Identify',\n",
       " 'Hispanic or Latino',\n",
       " 'Missing',\n",
       " 'Native American',\n",
       " 'Native Hawaiian or Pacific Islander',\n",
       " 'Two or more races',\n",
       " 'White'}"
      ]
     },
     "execution_count": 12,
     "metadata": {},
     "output_type": "execute_result"
    }
   ],
   "source": [
    "races = set(a['ats_application'].get('eeo', {}).get('race', 'Missing') for a in apps)\n",
    "races"
   ]
  },
  {
   "cell_type": "code",
   "execution_count": 13,
   "id": "8d52b5aa-43a9-468c-bce6-bc4668555529",
   "metadata": {
    "tags": []
   },
   "outputs": [],
   "source": [
    "req_to_apps = defaultdict(list)\n",
    "for a in apps:\n",
    "    req_to_apps[a['req_id']].append(a)\n"
   ]
  },
  {
   "cell_type": "code",
   "execution_count": 14,
   "id": "4f575fc7-2eea-484d-a89f-08c26406990b",
   "metadata": {
    "tags": []
   },
   "outputs": [],
   "source": [
    "int_to_grade= {\n",
    "                1: 'D',\n",
    "                2: 'C',\n",
    "                3: 'B',\n",
    "                4: 'A'\n",
    "            }"
   ]
  },
  {
   "cell_type": "code",
   "execution_count": 41,
   "id": "d0ace091-dd95-436d-9efd-bf7bf0d5b499",
   "metadata": {
    "tags": []
   },
   "outputs": [
    {
     "data": {
      "text/plain": [
       "(782098, 27)"
      ]
     },
     "execution_count": 41,
     "metadata": {},
     "output_type": "execute_result"
    }
   ],
   "source": [
    "data = []\n",
    "for i, req in enumerate(reqs):\n",
    "    for j, app in enumerate(req_to_apps[req['_id']]):\n",
    "        d = { \n",
    "            'id': 'ANONYMOUS{:04d}{:04d}'.format(i, j),\n",
    "            'app_id': app['_id'],\n",
    "            'candidate_id': app['_id'].split('_')[1].replace('JNJ', ''),\n",
    "            'req_id': req['_id'].replace('JNJ', '')\n",
    "        }\n",
    "        \n",
    "        for f in ['address',\n",
    "                  'country',\n",
    "                  'job_level',\n",
    "                  'job_education', \n",
    "                  'job_department', \n",
    "                  'job_education', \n",
    "                  'job_function', \n",
    "                  'external_status',\n",
    "                  'job_create_date',\n",
    "                  'top_category',\n",
    "                  'sub_category',\n",
    "                  'min_years_of_relevant_experience']:\n",
    "            d[f] = req.get(f)\n",
    "            \n",
    "        \n",
    "        gender = app['ats_application'].get('eeo', {}).get('gender', 'Missing')\n",
    "        d['gender'] = gender\n",
    "        is_gender_na = gender in {'Missing', 'Decline to Identify'}\n",
    "        for g in {'Male', 'Female'}:\n",
    "            if is_gender_na:\n",
    "                d[g] = 'Missing'\n",
    "            else:\n",
    "                d[g] = int(gender == g)\n",
    "                \n",
    "                \n",
    "        race = app['ats_application'].get('eeo', {}).get('race', 'Missing')\n",
    "        d['race'] = race\n",
    "        is_race_na = race in {'Missing', 'Decline to Identify'}\n",
    "        for r in {'Asian',\n",
    "                 'Black or African American',\n",
    "                 'Hispanic or Latino',\n",
    "                 'Native American',\n",
    "                 'Native Hawaiian or Pacific Islander',\n",
    "                 'Two or more races',\n",
    "                 'White'}:\n",
    "            if is_race_na:\n",
    "                d[r] = 'Missing'\n",
    "            else:\n",
    "                d[r] = int(race == r)\n",
    "        \n",
    "        \n",
    "        if 'grade_data' in app and 'explainable_score_data' in app['grade_data']:\n",
    "            d['int_grade'] = int(app['grade_data']['explainable_score_data']['explain']['raw_grade_without_rnd'])\n",
    "            \n",
    "            d['grade'] = int_to_grade[d['int_grade']]\n",
    "              \n",
    "            if d.get('grade') in {'A', 'B', 'C', 'D'}:\n",
    "                data.append(d)\n",
    "df = pd.DataFrame(data)\n",
    "\n",
    "df.shape"
   ]
  },
  {
   "cell_type": "code",
   "execution_count": 42,
   "id": "9d57f5aa-0b13-4643-85c8-bfdb45463ea0",
   "metadata": {
    "tags": []
   },
   "outputs": [
    {
     "data": {
      "text/plain": [
       "782098"
      ]
     },
     "execution_count": 42,
     "metadata": {},
     "output_type": "execute_result"
    }
   ],
   "source": [
    "# mask = (df['meets_qualifications'] == df['is_priority'])\n",
    "\n",
    "# sample = df[mask].groupby(['gender', 'is_priority']).apply(lambda x: x.sample(min(50, len(x)))).reset_index(drop=True)\n",
    "# sample = sample.replace('Missing', '')\n",
    "# len(sample)\n",
    "#mask = lambda x: x['address'] == 'New York, New York, United States'\n",
    "\n",
    "#mask = lambda x: x['job_create_date'] > datetime(2022, 1, 1)\n",
    "sample = df.replace('Missing', '')\n",
    "len(sample)"
   ]
  },
  {
   "cell_type": "code",
   "execution_count": 43,
   "id": "b5e5ef6b-aec1-486f-bae3-0694c5a8ce8d",
   "metadata": {
    "tags": []
   },
   "outputs": [],
   "source": [
    "file_name = 'jul_30'"
   ]
  },
  {
   "cell_type": "code",
   "execution_count": 44,
   "id": "60aba9a9-7498-49c6-bfc2-e4e84cdf819f",
   "metadata": {
    "tags": []
   },
   "outputs": [],
   "source": [
    "cols = ['candidate_id', 'req_id', 'job_level', 'job_department', 'job_function',\n",
    "         'Male', 'Female',\n",
    "       'Native Hawaiian or Pacific Islander', 'Black or African American',\n",
    "       'Native American', 'White', 'Asian', 'Hispanic or Latino',\n",
    "       'Two or more races',  'grade']"
   ]
  },
  {
   "cell_type": "code",
   "execution_count": 45,
   "id": "b47938b8-eb29-46ec-b020-75c6a30b8077",
   "metadata": {
    "tags": []
   },
   "outputs": [],
   "source": [
    "\n",
    "sample.to_csv(f'~/Downloads/JnJ_data_{file_name}.csv', index=False)"
   ]
  },
  {
   "cell_type": "code",
   "execution_count": 46,
   "id": "cc584b53-fb29-4e9e-b051-0f0223a6875e",
   "metadata": {
    "tags": []
   },
   "outputs": [],
   "source": [
    "sample['race_disclose'] = sample['race'].apply(lambda x: 'Disclose' if x not in {'Decline to Identify', 'Missing'} else x)\n",
    "sample['gender_disclose'] = sample['gender'].apply(lambda x: 'Disclose' if x not in {'Decline to Identify', 'Missing'} else x)"
   ]
  },
  {
   "cell_type": "code",
   "execution_count": 47,
   "id": "4522bc04-8d44-402c-b259-6334f0cda862",
   "metadata": {
    "tags": []
   },
   "outputs": [],
   "source": [
    "writer = pd.ExcelWriter(f'~/Downloads/JnJ_data_{file_name}.xlsx', engine=\"xlsxwriter\")"
   ]
  },
  {
   "cell_type": "code",
   "execution_count": 48,
   "id": "39b70259-a729-4dce-88dd-48e868b43e42",
   "metadata": {
    "tags": []
   },
   "outputs": [
    {
     "data": {
      "text/plain": [
       "'~/Downloads/JnJ_data_jul_30'"
      ]
     },
     "execution_count": 48,
     "metadata": {},
     "output_type": "execute_result"
    }
   ],
   "source": [
    "f'~/Downloads/JnJ_data_{file_name}'"
   ]
  },
  {
   "cell_type": "code",
   "execution_count": 52,
   "id": "b7fc6483-4a71-4000-93d7-b9af50c4cff0",
   "metadata": {
    "tags": []
   },
   "outputs": [
    {
     "data": {
      "text/html": [
       "<div>\n",
       "<style scoped>\n",
       "    .dataframe tbody tr th:only-of-type {\n",
       "        vertical-align: middle;\n",
       "    }\n",
       "\n",
       "    .dataframe tbody tr th {\n",
       "        vertical-align: top;\n",
       "    }\n",
       "\n",
       "    .dataframe thead th {\n",
       "        text-align: right;\n",
       "    }\n",
       "</style>\n",
       "<table border=\"1\" class=\"dataframe\">\n",
       "  <thead>\n",
       "    <tr style=\"text-align: right;\">\n",
       "      <th></th>\n",
       "      <th>index</th>\n",
       "      <th>0</th>\n",
       "    </tr>\n",
       "  </thead>\n",
       "  <tbody>\n",
       "    <tr>\n",
       "      <th>0</th>\n",
       "      <td>Date</td>\n",
       "      <td>2023-07-30 17:55:47.131872</td>\n",
       "    </tr>\n",
       "    <tr>\n",
       "      <th>1</th>\n",
       "      <td>Reqs Locations</td>\n",
       "      <td>United States</td>\n",
       "    </tr>\n",
       "    <tr>\n",
       "      <th>2</th>\n",
       "      <td>Reqs External Status</td>\n",
       "      <td>[Filled, Canceled, On Hold, Open, Draft]</td>\n",
       "    </tr>\n",
       "    <tr>\n",
       "      <th>3</th>\n",
       "      <td>Total number of Candidates</td>\n",
       "      <td>782098</td>\n",
       "    </tr>\n",
       "    <tr>\n",
       "      <th>4</th>\n",
       "      <td>Total Number of reqs</td>\n",
       "      <td>21460</td>\n",
       "    </tr>\n",
       "    <tr>\n",
       "      <th>5</th>\n",
       "      <td>Dates Range</td>\n",
       "      <td>2022-01-03 11:00:41 - 2023-06-29 22:00:48</td>\n",
       "    </tr>\n",
       "  </tbody>\n",
       "</table>\n",
       "</div>"
      ],
      "text/plain": [
       "                        index                                          0\n",
       "0                        Date                 2023-07-30 17:55:47.131872\n",
       "1              Reqs Locations                              United States\n",
       "2        Reqs External Status   [Filled, Canceled, On Hold, Open, Draft]\n",
       "3  Total number of Candidates                                     782098\n",
       "4        Total Number of reqs                                      21460\n",
       "5                 Dates Range  2022-01-03 11:00:41 - 2023-06-29 22:00:48"
      ]
     },
     "execution_count": 52,
     "metadata": {},
     "output_type": "execute_result"
    }
   ],
   "source": [
    "min_date = min(sample['job_create_date']) \n",
    "max_date = max(sample['job_create_date']) \n",
    "\n",
    "summary = pd.Series({\n",
    "    'Date': datetime.now(),\n",
    "    'Reqs Locations': 'United States',\n",
    "    'Reqs External Status': list(sample['external_status'].unique()),\n",
    "    'Total number of Candidates': len(sample),\n",
    "    'Total Number of reqs': sample['req_id'].nunique(),\n",
    "    'Dates Range': f'{min_date} - {max_date}'\n",
    "}).reset_index()\n",
    "\n",
    "\n",
    "summary.to_excel(writer, sheet_name=\"Summary\", index=False)\n",
    "summary"
   ]
  },
  {
   "cell_type": "code",
   "execution_count": 53,
   "id": "518b5d29-143a-4063-bf88-1956c5fdea3c",
   "metadata": {
    "tags": []
   },
   "outputs": [],
   "source": [
    "sample[cols].to_excel(writer, sheet_name=\"Sample\", index=False)"
   ]
  },
  {
   "cell_type": "code",
   "execution_count": 54,
   "id": "26cef1c7-910a-447a-9573-43be004e4ff7",
   "metadata": {
    "tags": []
   },
   "outputs": [
    {
     "data": {
      "text/html": [
       "<div>\n",
       "<style scoped>\n",
       "    .dataframe tbody tr th:only-of-type {\n",
       "        vertical-align: middle;\n",
       "    }\n",
       "\n",
       "    .dataframe tbody tr th {\n",
       "        vertical-align: top;\n",
       "    }\n",
       "\n",
       "    .dataframe thead th {\n",
       "        text-align: right;\n",
       "    }\n",
       "</style>\n",
       "<table border=\"1\" class=\"dataframe\">\n",
       "  <thead>\n",
       "    <tr style=\"text-align: right;\">\n",
       "      <th></th>\n",
       "      <th>Race</th>\n",
       "      <th>Gender</th>\n",
       "    </tr>\n",
       "  </thead>\n",
       "  <tbody>\n",
       "    <tr>\n",
       "      <th>Disclose</th>\n",
       "      <td>750213</td>\n",
       "      <td>766785</td>\n",
       "    </tr>\n",
       "    <tr>\n",
       "      <th>Decline to Identify</th>\n",
       "      <td>31885</td>\n",
       "      <td>15313</td>\n",
       "    </tr>\n",
       "  </tbody>\n",
       "</table>\n",
       "</div>"
      ],
      "text/plain": [
       "                       Race  Gender\n",
       "Disclose             750213  766785\n",
       "Decline to Identify   31885   15313"
      ]
     },
     "execution_count": 54,
     "metadata": {},
     "output_type": "execute_result"
    }
   ],
   "source": [
    "disclose = pd.DataFrame( {'Race': sample['race_disclose'].value_counts(normalize=False), \n",
    "               'Gender': sample['gender_disclose'].value_counts(normalize=False)})\n",
    "disclose.to_excel(writer, sheet_name=\"% Disclose\")\n",
    "disclose"
   ]
  },
  {
   "cell_type": "code",
   "execution_count": 55,
   "id": "dd4db373-5b6d-46a6-b1df-f7202b63e00b",
   "metadata": {
    "tags": []
   },
   "outputs": [],
   "source": [
    "writer.close()"
   ]
  },
  {
   "cell_type": "code",
   "execution_count": null,
   "id": "657bcbd3-39c7-411f-a898-2c97bd9454ab",
   "metadata": {},
   "outputs": [],
   "source": []
  }
 ],
 "metadata": {
  "kernelspec": {
   "display_name": "Python 3 (ipykernel)",
   "language": "python",
   "name": "python3"
  },
  "language_info": {
   "codemirror_mode": {
    "name": "ipython",
    "version": 3
   },
   "file_extension": ".py",
   "mimetype": "text/x-python",
   "name": "python",
   "nbconvert_exporter": "python",
   "pygments_lexer": "ipython3",
   "version": "3.9.5"
  }
 },
 "nbformat": 4,
 "nbformat_minor": 5
}
