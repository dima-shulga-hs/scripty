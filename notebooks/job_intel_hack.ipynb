{
 "cells": [
  {
   "cell_type": "code",
   "execution_count": 1,
   "id": "e593e277-90b5-43c3-95c6-d3e8370dc7e9",
   "metadata": {
    "tags": []
   },
   "outputs": [],
   "source": [
    "import random as rn\n",
    "import pickle\n",
    "from datetime import datetime\n",
    "import pandas as pd\n",
    "from hs_gimme.db_facade.db_facade_factory import get_mongo_client_db\n",
    "from hs_tree_blenders_creation.batch_runners.data_sets import get_account_test_set, get_account_train_set\n",
    "from hs_gimme.application_status_history_classifier.machine_learning_status_classifier import \\\n",
    "    get_machine_learning_status_classifier\n",
    "from tqdm import tqdm"
   ]
  },
  {
   "cell_type": "code",
   "execution_count": 2,
   "id": "d1581bbc-7190-49bc-8022-024779cd49f1",
   "metadata": {
    "tags": []
   },
   "outputs": [],
   "source": [
    "ACCOUNTS = ['utah', 'jamaica', 'dallas', 'indiana']"
   ]
  },
  {
   "cell_type": "code",
   "execution_count": 3,
   "id": "2071e196-b70e-45b2-8445-f7cd04eec8f9",
   "metadata": {
    "tags": []
   },
   "outputs": [],
   "source": [
    "ENV = 'production'\n",
    "TEST_SIZE_PER_ACCOUNT = 1000\n",
    "NOW = datetime.now()"
   ]
  },
  {
   "cell_type": "code",
   "execution_count": 4,
   "id": "da6c5eb3-3860-45f7-8c26-34f74fcaea2e",
   "metadata": {
    "tags": []
   },
   "outputs": [],
   "source": [
    "def get_data_for_req(req, mongo, status_cls):\n",
    "    \n",
    "    result = []\n",
    "    \n",
    "    apps = list(mongo.application.find({'req_id': req['_id']}))\n",
    "    \n",
    "    req_data = []\n",
    "    for app in apps:\n",
    "        max_status = status_cls.get_max_status(app)\n",
    "        days = (app['date_applied'] - req['job_create_date']).days\n",
    "\n",
    "        req_data.append({'days': days, 'max_status': max_status})\n",
    "\n",
    "    df = pd.DataFrame(req_data)\n",
    "    \n",
    "    if len(df) > 0:\n",
    "        result = []\n",
    "        for days in range(df['days'].max()):\n",
    "            result.append({\n",
    "                'req_id': req['_id'],\n",
    "                'days': days,\n",
    "                'req': req,\n",
    "                'num_of_apps': len(df[df['days'] <= days]),\n",
    "                'num_of_interview': len(df[(df['days'] <= days) & (df['max_status'] >= 2)]),\n",
    "                'num_of_offer': len(df[(df['days'] <= days) & (df['max_status'] >= 3)]),\n",
    "            })\n",
    "    return result"
   ]
  },
  {
   "cell_type": "code",
   "execution_count": 5,
   "id": "20f49213-22cf-4ad5-b747-4d07222c79e2",
   "metadata": {
    "tags": []
   },
   "outputs": [
    {
     "name": "stderr",
     "output_type": "stream",
     "text": [
      "  0%|                                                                                                                                                                                     | 0/4 [00:00<?, ?it/s]"
     ]
    },
    {
     "name": "stdout",
     "output_type": "stream",
     "text": [
      "\u001b[2m2023-06-27T13:09:19.732130Z\u001b[0m [\u001b[32m\u001b[1minfo     \u001b[0m] \u001b[1mGetting model reader          \u001b[0m \u001b[36menvironment\u001b[0m=\u001b[35mproduction\u001b[0m \u001b[36mfile_path\u001b[0m=\u001b[35m/Users/dima/hiredscore/brain/brainme/hs_brainme/models/model_persistence/models_persistency.py\u001b[0m \u001b[36mfunction_name\u001b[0m=\u001b[35mget_model_reader\u001b[0m \u001b[36mhostname\u001b[0m=\u001b[35mDima-Shulga-MacBook-Pro\u001b[0m \u001b[36mline_number\u001b[0m=\u001b[35m82\u001b[0m \u001b[36mmodel_key\u001b[0m=\u001b[35mutah\u001b[0m \u001b[36mmodel_manager\u001b[0m=\u001b[35mhs_grading\u001b[0m \u001b[36mmodel_name\u001b[0m=\u001b[35mdata_sets\u001b[0m \u001b[36mmodel_type\u001b[0m=\u001b[35mpickle\u001b[0m \u001b[36mmodels_reader\u001b[0m=\u001b[35mLocalPickleModelsReader\u001b[0m \u001b[36mmodule\u001b[0m=\u001b[35mhs_brainme.models.model_persistence.models_persistency\u001b[0m \u001b[36mpid\u001b[0m=\u001b[35m24333\u001b[0m\n",
      "\u001b[2m2023-06-27T13:09:19.733508Z\u001b[0m [\u001b[32m\u001b[1minfo     \u001b[0m] \u001b[1mLoading model file            \u001b[0m \u001b[36mcompressed__boolean\u001b[0m=\u001b[35mTrue\u001b[0m \u001b[36mdir\u001b[0m=\u001b[35m/Users/dima/hiredscore_model_manager/hs_grading/data_sets/utah_20220915130441\u001b[0m \u001b[36menvironment\u001b[0m=\u001b[35mproduction\u001b[0m \u001b[36mfile_name\u001b[0m=\u001b[35m/Users/dima/hiredscore_model_manager/hs_grading/data_sets/utah_20220915130441/key.pickle\u001b[0m \u001b[36mfile_path\u001b[0m=\u001b[35m/Users/dima/hiredscore/brain/brainme/hs_brainme/models/model_persistence/models_persistency.py\u001b[0m \u001b[36mfunction_name\u001b[0m=\u001b[35mload\u001b[0m \u001b[36mhostname\u001b[0m=\u001b[35mDima-Shulga-MacBook-Pro\u001b[0m \u001b[36mkey\u001b[0m=\u001b[35mkey\u001b[0m \u001b[36mline_number\u001b[0m=\u001b[35m167\u001b[0m \u001b[36mmodel_type\u001b[0m=\u001b[35mpickle\u001b[0m \u001b[36mmodule\u001b[0m=\u001b[35mhs_brainme.models.model_persistence.models_persistency\u001b[0m \u001b[36mpid\u001b[0m=\u001b[35m24333\u001b[0m\n",
      "\u001b[2m2023-06-27T13:09:48.711248Z\u001b[0m [\u001b[33m\u001b[1mwarning  \u001b[0m] \u001b[1mSlowLog                       \u001b[0m \u001b[36mcommand_name\u001b[0m=\u001b[35mgetMore\u001b[0m \u001b[36mconnection_id\u001b[0m=\u001b[35mmongodb-3c.prod.omcomcom.com:27029\u001b[0m \u001b[36mduration_ms__numeric\u001b[0m=\u001b[35m10713.666\u001b[0m \u001b[36mduration_threshold__numeric\u001b[0m=\u001b[35m10000\u001b[0m \u001b[36menvironment\u001b[0m=\u001b[35mproduction\u001b[0m \u001b[36mfile_path\u001b[0m=\u001b[35m/Users/dima/hiredscore/gimme/hs_gimme/db_facade/slow_logs_utils.py\u001b[0m \u001b[36mfunction_name\u001b[0m=\u001b[35mwrite_slow_log\u001b[0m \u001b[36mhostname\u001b[0m=\u001b[35mDima-Shulga-MacBook-Pro\u001b[0m \u001b[36mline_number\u001b[0m=\u001b[35m11\u001b[0m \u001b[36mmodule\u001b[0m=\u001b[35mhs_gimme.db_facade.slow_logs_utils\u001b[0m \u001b[36mpid\u001b[0m=\u001b[35m24333\u001b[0m \u001b[36mrequest_id\u001b[0m=\u001b[35m1954899097\u001b[0m \u001b[36msource\u001b[0m=\u001b[35mPyMongo\u001b[0m \u001b[36mstack_snippet\u001b[0m=\u001b[35m\n",
      "  File \"/var/folders/_p/8_m91crj199_rd7sndkxncc80000gp/T/ipykernel_24333/212511934.py\", line 5, in get_data_for_req\n",
      "    apps = list(mongo.application.find({'req_id': req['_id']}))\n",
      "\u001b[0m\n",
      "\u001b[2m2023-06-27T13:12:00.648211Z\u001b[0m [\u001b[33m\u001b[1mwarning  \u001b[0m] \u001b[1mSlowLog                       \u001b[0m \u001b[36mcommand_name\u001b[0m=\u001b[35mgetMore\u001b[0m \u001b[36mconnection_id\u001b[0m=\u001b[35mmongodb-3c.prod.omcomcom.com:27029\u001b[0m \u001b[36mduration_ms__numeric\u001b[0m=\u001b[35m11081.92\u001b[0m \u001b[36mduration_threshold__numeric\u001b[0m=\u001b[35m10000\u001b[0m \u001b[36menvironment\u001b[0m=\u001b[35mproduction\u001b[0m \u001b[36mfile_path\u001b[0m=\u001b[35m/Users/dima/hiredscore/gimme/hs_gimme/db_facade/slow_logs_utils.py\u001b[0m \u001b[36mfunction_name\u001b[0m=\u001b[35mwrite_slow_log\u001b[0m \u001b[36mhostname\u001b[0m=\u001b[35mDima-Shulga-MacBook-Pro\u001b[0m \u001b[36mline_number\u001b[0m=\u001b[35m11\u001b[0m \u001b[36mmodule\u001b[0m=\u001b[35mhs_gimme.db_facade.slow_logs_utils\u001b[0m \u001b[36mpid\u001b[0m=\u001b[35m24333\u001b[0m \u001b[36mrequest_id\u001b[0m=\u001b[35m828530767\u001b[0m \u001b[36msource\u001b[0m=\u001b[35mPyMongo\u001b[0m \u001b[36mstack_snippet\u001b[0m=\u001b[35m\n",
      "  File \"/var/folders/_p/8_m91crj199_rd7sndkxncc80000gp/T/ipykernel_24333/212511934.py\", line 5, in get_data_for_req\n",
      "    apps = list(mongo.application.find({'req_id': req['_id']}))\n",
      "\u001b[0m\n",
      "\u001b[2m2023-06-27T13:16:04.353841Z\u001b[0m [\u001b[33m\u001b[1mwarning  \u001b[0m] \u001b[1mSlowLog                       \u001b[0m \u001b[36mcommand_name\u001b[0m=\u001b[35mgetMore\u001b[0m \u001b[36mconnection_id\u001b[0m=\u001b[35mmongodb-3c.prod.omcomcom.com:27029\u001b[0m \u001b[36mduration_ms__numeric\u001b[0m=\u001b[35m11198.542\u001b[0m \u001b[36mduration_threshold__numeric\u001b[0m=\u001b[35m10000\u001b[0m \u001b[36menvironment\u001b[0m=\u001b[35mproduction\u001b[0m \u001b[36mfile_path\u001b[0m=\u001b[35m/Users/dima/hiredscore/gimme/hs_gimme/db_facade/slow_logs_utils.py\u001b[0m \u001b[36mfunction_name\u001b[0m=\u001b[35mwrite_slow_log\u001b[0m \u001b[36mhostname\u001b[0m=\u001b[35mDima-Shulga-MacBook-Pro\u001b[0m \u001b[36mline_number\u001b[0m=\u001b[35m11\u001b[0m \u001b[36mmodule\u001b[0m=\u001b[35mhs_gimme.db_facade.slow_logs_utils\u001b[0m \u001b[36mpid\u001b[0m=\u001b[35m24333\u001b[0m \u001b[36mrequest_id\u001b[0m=\u001b[35m1502883016\u001b[0m \u001b[36msource\u001b[0m=\u001b[35mPyMongo\u001b[0m \u001b[36mstack_snippet\u001b[0m=\u001b[35m\n",
      "  File \"/var/folders/_p/8_m91crj199_rd7sndkxncc80000gp/T/ipykernel_24333/212511934.py\", line 5, in get_data_for_req\n",
      "    apps = list(mongo.application.find({'req_id': req['_id']}))\n",
      "\u001b[0m\n",
      "\u001b[2m2023-06-27T13:16:14.739710Z\u001b[0m [\u001b[33m\u001b[1mwarning  \u001b[0m] \u001b[1mSlowLog                       \u001b[0m \u001b[36mcommand_name\u001b[0m=\u001b[35mgetMore\u001b[0m \u001b[36mconnection_id\u001b[0m=\u001b[35mmongodb-3c.prod.omcomcom.com:27029\u001b[0m \u001b[36mduration_ms__numeric\u001b[0m=\u001b[35m10384.415\u001b[0m \u001b[36mduration_threshold__numeric\u001b[0m=\u001b[35m10000\u001b[0m \u001b[36menvironment\u001b[0m=\u001b[35mproduction\u001b[0m \u001b[36mfile_path\u001b[0m=\u001b[35m/Users/dima/hiredscore/gimme/hs_gimme/db_facade/slow_logs_utils.py\u001b[0m \u001b[36mfunction_name\u001b[0m=\u001b[35mwrite_slow_log\u001b[0m \u001b[36mhostname\u001b[0m=\u001b[35mDima-Shulga-MacBook-Pro\u001b[0m \u001b[36mline_number\u001b[0m=\u001b[35m11\u001b[0m \u001b[36mmodule\u001b[0m=\u001b[35mhs_gimme.db_facade.slow_logs_utils\u001b[0m \u001b[36mpid\u001b[0m=\u001b[35m24333\u001b[0m \u001b[36mrequest_id\u001b[0m=\u001b[35m707953178\u001b[0m \u001b[36msource\u001b[0m=\u001b[35mPyMongo\u001b[0m \u001b[36mstack_snippet\u001b[0m=\u001b[35m\n",
      "  File \"/var/folders/_p/8_m91crj199_rd7sndkxncc80000gp/T/ipykernel_24333/212511934.py\", line 5, in get_data_for_req\n",
      "    apps = list(mongo.application.find({'req_id': req['_id']}))\n",
      "\u001b[0m\n",
      "\u001b[2m2023-06-27T13:17:56.789675Z\u001b[0m [\u001b[33m\u001b[1mwarning  \u001b[0m] \u001b[1mSlowLog                       \u001b[0m \u001b[36mcommand_name\u001b[0m=\u001b[35mgetMore\u001b[0m \u001b[36mconnection_id\u001b[0m=\u001b[35mmongodb-3c.prod.omcomcom.com:27029\u001b[0m \u001b[36mduration_ms__numeric\u001b[0m=\u001b[35m10666.798\u001b[0m \u001b[36mduration_threshold__numeric\u001b[0m=\u001b[35m10000\u001b[0m \u001b[36menvironment\u001b[0m=\u001b[35mproduction\u001b[0m \u001b[36mfile_path\u001b[0m=\u001b[35m/Users/dima/hiredscore/gimme/hs_gimme/db_facade/slow_logs_utils.py\u001b[0m \u001b[36mfunction_name\u001b[0m=\u001b[35mwrite_slow_log\u001b[0m \u001b[36mhostname\u001b[0m=\u001b[35mDima-Shulga-MacBook-Pro\u001b[0m \u001b[36mline_number\u001b[0m=\u001b[35m11\u001b[0m \u001b[36mmodule\u001b[0m=\u001b[35mhs_gimme.db_facade.slow_logs_utils\u001b[0m \u001b[36mpid\u001b[0m=\u001b[35m24333\u001b[0m \u001b[36mrequest_id\u001b[0m=\u001b[35m1614285132\u001b[0m \u001b[36msource\u001b[0m=\u001b[35mPyMongo\u001b[0m \u001b[36mstack_snippet\u001b[0m=\u001b[35m\n",
      "  File \"/var/folders/_p/8_m91crj199_rd7sndkxncc80000gp/T/ipykernel_24333/212511934.py\", line 5, in get_data_for_req\n",
      "    apps = list(mongo.application.find({'req_id': req['_id']}))\n",
      "\u001b[0m\n",
      "\u001b[2m2023-06-27T13:19:38.837444Z\u001b[0m [\u001b[33m\u001b[1mwarning  \u001b[0m] \u001b[1mSlowLog                       \u001b[0m \u001b[36mcommand_name\u001b[0m=\u001b[35mgetMore\u001b[0m \u001b[36mconnection_id\u001b[0m=\u001b[35mmongodb-3c.prod.omcomcom.com:27029\u001b[0m \u001b[36mduration_ms__numeric\u001b[0m=\u001b[35m10626.079\u001b[0m \u001b[36mduration_threshold__numeric\u001b[0m=\u001b[35m10000\u001b[0m \u001b[36menvironment\u001b[0m=\u001b[35mproduction\u001b[0m \u001b[36mfile_path\u001b[0m=\u001b[35m/Users/dima/hiredscore/gimme/hs_gimme/db_facade/slow_logs_utils.py\u001b[0m \u001b[36mfunction_name\u001b[0m=\u001b[35mwrite_slow_log\u001b[0m \u001b[36mhostname\u001b[0m=\u001b[35mDima-Shulga-MacBook-Pro\u001b[0m \u001b[36mline_number\u001b[0m=\u001b[35m11\u001b[0m \u001b[36mmodule\u001b[0m=\u001b[35mhs_gimme.db_facade.slow_logs_utils\u001b[0m \u001b[36mpid\u001b[0m=\u001b[35m24333\u001b[0m \u001b[36mrequest_id\u001b[0m=\u001b[35m810783320\u001b[0m \u001b[36msource\u001b[0m=\u001b[35mPyMongo\u001b[0m \u001b[36mstack_snippet\u001b[0m=\u001b[35m\n",
      "  File \"/var/folders/_p/8_m91crj199_rd7sndkxncc80000gp/T/ipykernel_24333/212511934.py\", line 5, in get_data_for_req\n",
      "    apps = list(mongo.application.find({'req_id': req['_id']}))\n",
      "\u001b[0m\n",
      "\u001b[2m2023-06-27T13:24:38.570555Z\u001b[0m [\u001b[33m\u001b[1mwarning  \u001b[0m] \u001b[1mSlowLog                       \u001b[0m \u001b[36mcommand_name\u001b[0m=\u001b[35mgetMore\u001b[0m \u001b[36mconnection_id\u001b[0m=\u001b[35mmongodb-3c.prod.omcomcom.com:27029\u001b[0m \u001b[36mduration_ms__numeric\u001b[0m=\u001b[35m12452.195\u001b[0m \u001b[36mduration_threshold__numeric\u001b[0m=\u001b[35m10000\u001b[0m \u001b[36menvironment\u001b[0m=\u001b[35mproduction\u001b[0m \u001b[36mfile_path\u001b[0m=\u001b[35m/Users/dima/hiredscore/gimme/hs_gimme/db_facade/slow_logs_utils.py\u001b[0m \u001b[36mfunction_name\u001b[0m=\u001b[35mwrite_slow_log\u001b[0m \u001b[36mhostname\u001b[0m=\u001b[35mDima-Shulga-MacBook-Pro\u001b[0m \u001b[36mline_number\u001b[0m=\u001b[35m11\u001b[0m \u001b[36mmodule\u001b[0m=\u001b[35mhs_gimme.db_facade.slow_logs_utils\u001b[0m \u001b[36mpid\u001b[0m=\u001b[35m24333\u001b[0m \u001b[36mrequest_id\u001b[0m=\u001b[35m439295525\u001b[0m \u001b[36msource\u001b[0m=\u001b[35mPyMongo\u001b[0m \u001b[36mstack_snippet\u001b[0m=\u001b[35m\n",
      "  File \"/var/folders/_p/8_m91crj199_rd7sndkxncc80000gp/T/ipykernel_24333/212511934.py\", line 5, in get_data_for_req\n",
      "    apps = list(mongo.application.find({'req_id': req['_id']}))\n",
      "\u001b[0m\n"
     ]
    },
    {
     "name": "stderr",
     "output_type": "stream",
     "text": [
      "  0%|                                                                                                                                                                                     | 0/4 [18:54<?, ?it/s]\n"
     ]
    },
    {
     "ename": "CursorNotFound",
     "evalue": "cursor id 42248938080052 not found, full error: {'operationTime': Timestamp(1687872494, 24), 'ok': 0.0, 'errmsg': 'cursor id 42248938080052 not found', 'code': 43, 'codeName': 'CursorNotFound', '$clusterTime': {'clusterTime': Timestamp(1687872494, 24), 'signature': {'hash': b'-\\xed\\xe8\\x93+\\xa7G\\xd6^k\\xaa\\x97\\xb3<\\xc2\\xfe*t\\xd6]', 'keyId': 7201094772956594370}}}",
     "output_type": "error",
     "traceback": [
      "\u001b[0;31m---------------------------------------------------------------------------\u001b[0m",
      "\u001b[0;31mCursorNotFound\u001b[0m                            Traceback (most recent call last)",
      "Cell \u001b[0;32mIn[5], line 11\u001b[0m\n\u001b[1;32m      8\u001b[0m     mongo \u001b[38;5;241m=\u001b[39m get_mongo_client_db(ENV, account)\n\u001b[1;32m      9\u001b[0m     status_cls \u001b[38;5;241m=\u001b[39m get_machine_learning_status_classifier(ENV, account)\n\u001b[0;32m---> 11\u001b[0m     \u001b[38;5;28;01mfor\u001b[39;00m req \u001b[38;5;129;01min\u001b[39;00m mongo\u001b[38;5;241m.\u001b[39mreq\u001b[38;5;241m.\u001b[39mfind({\u001b[38;5;124m'\u001b[39m\u001b[38;5;124m_id\u001b[39m\u001b[38;5;124m'\u001b[39m: {\u001b[38;5;124m'\u001b[39m\u001b[38;5;124m$in\u001b[39m\u001b[38;5;124m'\u001b[39m: req_ids}}):\n\u001b[1;32m     12\u001b[0m         data \u001b[38;5;241m+\u001b[39m\u001b[38;5;241m=\u001b[39m get_data_for_req(req, mongo, status_cls)\n\u001b[1;32m     14\u001b[0m pickle\u001b[38;5;241m.\u001b[39mdump(data, \u001b[38;5;28mopen\u001b[39m(\u001b[38;5;124m'\u001b[39m\u001b[38;5;124mjob_intel_hack_data_train.pkl\u001b[39m\u001b[38;5;124m'\u001b[39m, \u001b[38;5;124m'\u001b[39m\u001b[38;5;124mwb\u001b[39m\u001b[38;5;124m'\u001b[39m))\n",
      "File \u001b[0;32m~/.virtualenvs/hs/lib/python3.9/site-packages/pymongo/cursor.py:1238\u001b[0m, in \u001b[0;36mCursor.next\u001b[0;34m(self)\u001b[0m\n\u001b[1;32m   1236\u001b[0m \u001b[38;5;28;01mif\u001b[39;00m \u001b[38;5;28mself\u001b[39m\u001b[38;5;241m.\u001b[39m__empty:\n\u001b[1;32m   1237\u001b[0m     \u001b[38;5;28;01mraise\u001b[39;00m \u001b[38;5;167;01mStopIteration\u001b[39;00m\n\u001b[0;32m-> 1238\u001b[0m \u001b[38;5;28;01mif\u001b[39;00m \u001b[38;5;28mlen\u001b[39m(\u001b[38;5;28mself\u001b[39m\u001b[38;5;241m.\u001b[39m__data) \u001b[38;5;129;01mor\u001b[39;00m \u001b[38;5;28;43mself\u001b[39;49m\u001b[38;5;241;43m.\u001b[39;49m\u001b[43m_refresh\u001b[49m\u001b[43m(\u001b[49m\u001b[43m)\u001b[49m:\n\u001b[1;32m   1239\u001b[0m     \u001b[38;5;28;01mif\u001b[39;00m \u001b[38;5;28mself\u001b[39m\u001b[38;5;241m.\u001b[39m__manipulate:\n\u001b[1;32m   1240\u001b[0m         _db \u001b[38;5;241m=\u001b[39m \u001b[38;5;28mself\u001b[39m\u001b[38;5;241m.\u001b[39m__collection\u001b[38;5;241m.\u001b[39mdatabase\n",
      "File \u001b[0;32m~/.virtualenvs/hs/lib/python3.9/site-packages/pymongo/cursor.py:1175\u001b[0m, in \u001b[0;36mCursor._refresh\u001b[0;34m(self)\u001b[0m\n\u001b[1;32m   1163\u001b[0m     \u001b[38;5;66;03m# Exhaust cursors don't send getMore messages.\u001b[39;00m\n\u001b[1;32m   1164\u001b[0m     g \u001b[38;5;241m=\u001b[39m \u001b[38;5;28mself\u001b[39m\u001b[38;5;241m.\u001b[39m_getmore_class(\u001b[38;5;28mself\u001b[39m\u001b[38;5;241m.\u001b[39m__dbname,\n\u001b[1;32m   1165\u001b[0m                             \u001b[38;5;28mself\u001b[39m\u001b[38;5;241m.\u001b[39m__collname,\n\u001b[1;32m   1166\u001b[0m                             limit,\n\u001b[0;32m   (...)\u001b[0m\n\u001b[1;32m   1173\u001b[0m                             \u001b[38;5;28mself\u001b[39m\u001b[38;5;241m.\u001b[39m__sock_mgr,\n\u001b[1;32m   1174\u001b[0m                             \u001b[38;5;28mself\u001b[39m\u001b[38;5;241m.\u001b[39m__exhaust)\n\u001b[0;32m-> 1175\u001b[0m     \u001b[38;5;28;43mself\u001b[39;49m\u001b[38;5;241;43m.\u001b[39;49m\u001b[43m__send_message\u001b[49m\u001b[43m(\u001b[49m\u001b[43mg\u001b[49m\u001b[43m)\u001b[49m\n\u001b[1;32m   1177\u001b[0m \u001b[38;5;28;01mreturn\u001b[39;00m \u001b[38;5;28mlen\u001b[39m(\u001b[38;5;28mself\u001b[39m\u001b[38;5;241m.\u001b[39m__data)\n",
      "File \u001b[0;32m~/.virtualenvs/hs/lib/python3.9/site-packages/pymongo/cursor.py:1044\u001b[0m, in \u001b[0;36mCursor.__send_message\u001b[0;34m(self, operation)\u001b[0m\n\u001b[1;32m   1040\u001b[0m     \u001b[38;5;28;01mraise\u001b[39;00m InvalidOperation(\n\u001b[1;32m   1041\u001b[0m         \u001b[38;5;124m\"\u001b[39m\u001b[38;5;124mexhaust cursors do not support auto encryption\u001b[39m\u001b[38;5;124m\"\u001b[39m)\n\u001b[1;32m   1043\u001b[0m \u001b[38;5;28;01mtry\u001b[39;00m:\n\u001b[0;32m-> 1044\u001b[0m     response \u001b[38;5;241m=\u001b[39m \u001b[43mclient\u001b[49m\u001b[38;5;241;43m.\u001b[39;49m\u001b[43m_run_operation\u001b[49m\u001b[43m(\u001b[49m\n\u001b[1;32m   1045\u001b[0m \u001b[43m        \u001b[49m\u001b[43moperation\u001b[49m\u001b[43m,\u001b[49m\u001b[43m \u001b[49m\u001b[38;5;28;43mself\u001b[39;49m\u001b[38;5;241;43m.\u001b[39;49m\u001b[43m_unpack_response\u001b[49m\u001b[43m,\u001b[49m\u001b[43m \u001b[49m\u001b[43maddress\u001b[49m\u001b[38;5;241;43m=\u001b[39;49m\u001b[38;5;28;43mself\u001b[39;49m\u001b[38;5;241;43m.\u001b[39;49m\u001b[43m__address\u001b[49m\u001b[43m)\u001b[49m\n\u001b[1;32m   1046\u001b[0m \u001b[38;5;28;01mexcept\u001b[39;00m OperationFailure \u001b[38;5;28;01mas\u001b[39;00m exc:\n\u001b[1;32m   1047\u001b[0m     \u001b[38;5;28;01mif\u001b[39;00m exc\u001b[38;5;241m.\u001b[39mcode \u001b[38;5;129;01min\u001b[39;00m _CURSOR_CLOSED_ERRORS \u001b[38;5;129;01mor\u001b[39;00m \u001b[38;5;28mself\u001b[39m\u001b[38;5;241m.\u001b[39m__exhaust:\n\u001b[1;32m   1048\u001b[0m         \u001b[38;5;66;03m# Don't send killCursors because the cursor is already closed.\u001b[39;00m\n",
      "File \u001b[0;32m~/.virtualenvs/hs/lib/python3.9/site-packages/pymongo/mongo_client.py:1424\u001b[0m, in \u001b[0;36mMongoClient._run_operation\u001b[0;34m(self, operation, unpack_res, address)\u001b[0m\n\u001b[1;32m   1419\u001b[0m \u001b[38;5;28;01mdef\u001b[39;00m \u001b[38;5;21m_cmd\u001b[39m(session, server, sock_info, secondary_ok):\n\u001b[1;32m   1420\u001b[0m     \u001b[38;5;28;01mreturn\u001b[39;00m server\u001b[38;5;241m.\u001b[39mrun_operation(\n\u001b[1;32m   1421\u001b[0m         sock_info, operation, secondary_ok, \u001b[38;5;28mself\u001b[39m\u001b[38;5;241m.\u001b[39m_event_listeners,\n\u001b[1;32m   1422\u001b[0m         unpack_res)\n\u001b[0;32m-> 1424\u001b[0m \u001b[38;5;28;01mreturn\u001b[39;00m \u001b[38;5;28;43mself\u001b[39;49m\u001b[38;5;241;43m.\u001b[39;49m\u001b[43m_retryable_read\u001b[49m\u001b[43m(\u001b[49m\n\u001b[1;32m   1425\u001b[0m \u001b[43m    \u001b[49m\u001b[43m_cmd\u001b[49m\u001b[43m,\u001b[49m\u001b[43m \u001b[49m\u001b[43moperation\u001b[49m\u001b[38;5;241;43m.\u001b[39;49m\u001b[43mread_preference\u001b[49m\u001b[43m,\u001b[49m\u001b[43m \u001b[49m\u001b[43moperation\u001b[49m\u001b[38;5;241;43m.\u001b[39;49m\u001b[43msession\u001b[49m\u001b[43m,\u001b[49m\n\u001b[1;32m   1426\u001b[0m \u001b[43m    \u001b[49m\u001b[43maddress\u001b[49m\u001b[38;5;241;43m=\u001b[39;49m\u001b[43maddress\u001b[49m\u001b[43m,\u001b[49m\u001b[43m \u001b[49m\u001b[43mretryable\u001b[49m\u001b[38;5;241;43m=\u001b[39;49m\u001b[38;5;28;43misinstance\u001b[39;49m\u001b[43m(\u001b[49m\u001b[43moperation\u001b[49m\u001b[43m,\u001b[49m\u001b[43m \u001b[49m\u001b[43mmessage\u001b[49m\u001b[38;5;241;43m.\u001b[39;49m\u001b[43m_Query\u001b[49m\u001b[43m)\u001b[49m\u001b[43m)\u001b[49m\n",
      "File \u001b[0;32m~/.virtualenvs/hs/lib/python3.9/site-packages/pymongo/mongo_client.py:1525\u001b[0m, in \u001b[0;36mMongoClient._retryable_read\u001b[0;34m(self, func, read_pref, session, address, retryable)\u001b[0m\n\u001b[1;32m   1521\u001b[0m         \u001b[38;5;28;01mif\u001b[39;00m retrying \u001b[38;5;129;01mand\u001b[39;00m \u001b[38;5;129;01mnot\u001b[39;00m retryable:\n\u001b[1;32m   1522\u001b[0m             \u001b[38;5;66;03m# A retry is not possible because this server does\u001b[39;00m\n\u001b[1;32m   1523\u001b[0m             \u001b[38;5;66;03m# not support retryable reads, raise the last error.\u001b[39;00m\n\u001b[1;32m   1524\u001b[0m             \u001b[38;5;28;01mraise\u001b[39;00m last_error\n\u001b[0;32m-> 1525\u001b[0m         \u001b[38;5;28;01mreturn\u001b[39;00m \u001b[43mfunc\u001b[49m\u001b[43m(\u001b[49m\u001b[43msession\u001b[49m\u001b[43m,\u001b[49m\u001b[43m \u001b[49m\u001b[43mserver\u001b[49m\u001b[43m,\u001b[49m\u001b[43m \u001b[49m\u001b[43msock_info\u001b[49m\u001b[43m,\u001b[49m\u001b[43m \u001b[49m\u001b[43msecondary_ok\u001b[49m\u001b[43m)\u001b[49m\n\u001b[1;32m   1526\u001b[0m \u001b[38;5;28;01mexcept\u001b[39;00m ServerSelectionTimeoutError:\n\u001b[1;32m   1527\u001b[0m     \u001b[38;5;28;01mif\u001b[39;00m retrying:\n\u001b[1;32m   1528\u001b[0m         \u001b[38;5;66;03m# The application may think the write was never attempted\u001b[39;00m\n\u001b[1;32m   1529\u001b[0m         \u001b[38;5;66;03m# if we raise ServerSelectionTimeoutError on the retry\u001b[39;00m\n\u001b[1;32m   1530\u001b[0m         \u001b[38;5;66;03m# attempt. Raise the original exception instead.\u001b[39;00m\n",
      "File \u001b[0;32m~/.virtualenvs/hs/lib/python3.9/site-packages/pymongo/mongo_client.py:1420\u001b[0m, in \u001b[0;36mMongoClient._run_operation.<locals>._cmd\u001b[0;34m(session, server, sock_info, secondary_ok)\u001b[0m\n\u001b[1;32m   1419\u001b[0m \u001b[38;5;28;01mdef\u001b[39;00m \u001b[38;5;21m_cmd\u001b[39m(session, server, sock_info, secondary_ok):\n\u001b[0;32m-> 1420\u001b[0m     \u001b[38;5;28;01mreturn\u001b[39;00m \u001b[43mserver\u001b[49m\u001b[38;5;241;43m.\u001b[39;49m\u001b[43mrun_operation\u001b[49m\u001b[43m(\u001b[49m\n\u001b[1;32m   1421\u001b[0m \u001b[43m        \u001b[49m\u001b[43msock_info\u001b[49m\u001b[43m,\u001b[49m\u001b[43m \u001b[49m\u001b[43moperation\u001b[49m\u001b[43m,\u001b[49m\u001b[43m \u001b[49m\u001b[43msecondary_ok\u001b[49m\u001b[43m,\u001b[49m\u001b[43m \u001b[49m\u001b[38;5;28;43mself\u001b[39;49m\u001b[38;5;241;43m.\u001b[39;49m\u001b[43m_event_listeners\u001b[49m\u001b[43m,\u001b[49m\n\u001b[1;32m   1422\u001b[0m \u001b[43m        \u001b[49m\u001b[43munpack_res\u001b[49m\u001b[43m)\u001b[49m\n",
      "File \u001b[0;32m~/.virtualenvs/hs/lib/python3.9/site-packages/pymongo/server.py:130\u001b[0m, in \u001b[0;36mServer.run_operation\u001b[0;34m(self, sock_info, operation, set_secondary_okay, listeners, unpack_res)\u001b[0m\n\u001b[1;32m    128\u001b[0m         first \u001b[38;5;241m=\u001b[39m docs[\u001b[38;5;241m0\u001b[39m]\n\u001b[1;32m    129\u001b[0m         operation\u001b[38;5;241m.\u001b[39mclient\u001b[38;5;241m.\u001b[39m_process_response(first, operation\u001b[38;5;241m.\u001b[39msession)\n\u001b[0;32m--> 130\u001b[0m         \u001b[43m_check_command_response\u001b[49m\u001b[43m(\u001b[49m\u001b[43mfirst\u001b[49m\u001b[43m,\u001b[49m\u001b[43m \u001b[49m\u001b[43msock_info\u001b[49m\u001b[38;5;241;43m.\u001b[39;49m\u001b[43mmax_wire_version\u001b[49m\u001b[43m)\u001b[49m\n\u001b[1;32m    131\u001b[0m \u001b[38;5;28;01mexcept\u001b[39;00m \u001b[38;5;167;01mException\u001b[39;00m \u001b[38;5;28;01mas\u001b[39;00m exc:\n\u001b[1;32m    132\u001b[0m     \u001b[38;5;28;01mif\u001b[39;00m publish:\n",
      "File \u001b[0;32m~/.virtualenvs/hs/lib/python3.9/site-packages/pymongo/helpers.py:165\u001b[0m, in \u001b[0;36m_check_command_response\u001b[0;34m(response, max_wire_version, allowable_errors, parse_write_concern_error)\u001b[0m\n\u001b[1;32m    163\u001b[0m     \u001b[38;5;28;01mraise\u001b[39;00m ExecutionTimeout(errmsg, code, response, max_wire_version)\n\u001b[1;32m    164\u001b[0m \u001b[38;5;28;01melif\u001b[39;00m code \u001b[38;5;241m==\u001b[39m \u001b[38;5;241m43\u001b[39m:\n\u001b[0;32m--> 165\u001b[0m     \u001b[38;5;28;01mraise\u001b[39;00m CursorNotFound(errmsg, code, response, max_wire_version)\n\u001b[1;32m    167\u001b[0m \u001b[38;5;28;01mraise\u001b[39;00m OperationFailure(errmsg, code, response, max_wire_version)\n",
      "\u001b[0;31mCursorNotFound\u001b[0m: cursor id 42248938080052 not found, full error: {'operationTime': Timestamp(1687872494, 24), 'ok': 0.0, 'errmsg': 'cursor id 42248938080052 not found', 'code': 43, 'codeName': 'CursorNotFound', '$clusterTime': {'clusterTime': Timestamp(1687872494, 24), 'signature': {'hash': b'-\\xed\\xe8\\x93+\\xa7G\\xd6^k\\xaa\\x97\\xb3<\\xc2\\xfe*t\\xd6]', 'keyId': 7201094772956594370}}}"
     ]
    }
   ],
   "source": [
    "data = []\n",
    "\n",
    "for account in tqdm(ACCOUNTS):\n",
    "    req_ids = list(get_account_train_set(account))\n",
    "    \n",
    "    req_ids = rn.sample(req_ids, min(len(req_ids), TEST_SIZE_PER_ACCOUNT))\n",
    "    \n",
    "    mongo = get_mongo_client_db(ENV, account)\n",
    "    status_cls = get_machine_learning_status_classifier(ENV, account)\n",
    "    \n",
    "    for req in mongo.req.find({'_id': {'$in': req_ids}}):\n",
    "        data += get_data_for_req(req, mongo, status_cls)\n",
    "\n",
    "pickle.dump(data, open('job_intel_hack_data_train.pkl', 'wb'))"
   ]
  },
  {
   "cell_type": "code",
   "execution_count": null,
   "id": "7bde06f6-01a1-450e-b7ea-99ddeeb2d992",
   "metadata": {},
   "outputs": [],
   "source": []
  }
 ],
 "metadata": {
  "kernelspec": {
   "display_name": "Python 3 (ipykernel)",
   "language": "python",
   "name": "python3"
  },
  "language_info": {
   "codemirror_mode": {
    "name": "ipython",
    "version": 3
   },
   "file_extension": ".py",
   "mimetype": "text/x-python",
   "name": "python",
   "nbconvert_exporter": "python",
   "pygments_lexer": "ipython3",
   "version": "3.9.5"
  }
 },
 "nbformat": 4,
 "nbformat_minor": 5
}
