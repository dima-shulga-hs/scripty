{
 "cells": [
  {
   "cell_type": "code",
   "execution_count": 128,
   "id": "b9b21299-fe50-4838-8b72-60e32ec6eedf",
   "metadata": {
    "tags": []
   },
   "outputs": [],
   "source": [
    "import itertools\n",
    "from datetime import datetime, timedelta\n",
    "from hs_gimme.constants.objects.req import Req\n",
    "from hs_gimme.db_facade.db_facade_factory import get_mongo_client_db\n",
    "from hs_fetch.utils.is_for_fetch_decider import IsForFetchDecider\n",
    "from hs_recommendations_api_client import get_recommendations_api_client\n",
    "from hs_gimme.logging_service.problems_only_logging_service import ProblemsOnlyLoggingService\n",
    "from hs_fetch.fast_fetch.fast_fetch_employee_filtering_queries import \\\n",
    "    EmployeeJobTypeMatchFilter, TimeInPositionQueryFilter, \\\n",
    "    EmployeeJobBandsQueryFilter, \\\n",
    "    EmployeePerformanceRatingsQueryFilter, EmployeeIsNotRestrictedQueryFilter, EmployeeEnhancedMovesModelFeaturesFilter, \\\n",
    "    EmployeeIsActiveQueryFilter\n",
    "from hs_fetch.fast_fetch.fast_fetch_filtering_query_builder"
   ]
  },
  {
   "cell_type": "code",
   "execution_count": 52,
   "id": "64fd044a-5861-4f5e-8dd6-52ff56f7edcf",
   "metadata": {
    "tags": []
   },
   "outputs": [],
   "source": [
    "REQ_MAX_OPEN_DAYS = 365"
   ]
  },
  {
   "cell_type": "code",
   "execution_count": 2,
   "id": "191fe886-e177-484b-b2a9-309deb27fe32",
   "metadata": {
    "tags": []
   },
   "outputs": [],
   "source": [
    "mongo = get_mongo_client_db('production', 'jaipur')"
   ]
  },
  {
   "cell_type": "code",
   "execution_count": 10,
   "id": "17aa053c-ae97-4fda-b787-2b424921dded",
   "metadata": {
    "tags": []
   },
   "outputs": [
    {
     "data": {
      "text/plain": [
       "52"
      ]
     },
     "execution_count": 10,
     "metadata": {},
     "output_type": "execute_result"
    }
   ],
   "source": [
    "audit = list(mongo.rpa_audit.find({'action_name': 'get_internal_applications_for_internal_mobility_campaign', 'context': 'RPA_V2'}))\n",
    "len(audit)"
   ]
  },
  {
   "cell_type": "code",
   "execution_count": 26,
   "id": "68609bcc-68d0-4ce7-9841-3055a6e8c222",
   "metadata": {
    "tags": []
   },
   "outputs": [
    {
     "data": {
      "text/plain": [
       "259"
      ]
     },
     "execution_count": 26,
     "metadata": {},
     "output_type": "execute_result"
    }
   ],
   "source": [
    "talent_ids = set(itertools.chain(*[list(a.get('recommendations', {}).keys()) for a in audit]))\n",
    "len(talent_ids)"
   ]
  },
  {
   "cell_type": "code",
   "execution_count": 33,
   "id": "52c0a543-c86e-470b-8aaf-a22f9c82245e",
   "metadata": {
    "tags": []
   },
   "outputs": [
    {
     "data": {
      "text/plain": [
       "1936"
      ]
     },
     "execution_count": 33,
     "metadata": {},
     "output_type": "execute_result"
    }
   ],
   "source": [
    "apps = list(mongo.application.find({'current_talent_id': {'$in': list(talent_ids)}}, ['current_talent_id', 'samurai_json.experience']))\n",
    "len(apps)"
   ]
  },
  {
   "cell_type": "code",
   "execution_count": 34,
   "id": "3e800aad-c57d-4bcf-937e-406ae1dc706a",
   "metadata": {
    "tags": []
   },
   "outputs": [
    {
     "data": {
      "text/plain": [
       "182"
      ]
     },
     "execution_count": 34,
     "metadata": {},
     "output_type": "execute_result"
    }
   ],
   "source": [
    "talents_with_app = set([a['current_talent_id'] for a in apps if a['samurai_json']['experience']])\n",
    "len(talents_with_app)"
   ]
  },
  {
   "cell_type": "code",
   "execution_count": 38,
   "id": "233b3c54-cb19-42ea-9553-6af69319a0b2",
   "metadata": {
    "tags": []
   },
   "outputs": [
    {
     "data": {
      "text/plain": [
       "261"
      ]
     },
     "execution_count": 38,
     "metadata": {},
     "output_type": "execute_result"
    }
   ],
   "source": [
    "emps = list(mongo.employee.find({'current_talent_id': {'$in': list(talent_ids)}}))\n",
    "len(emps)"
   ]
  },
  {
   "cell_type": "code",
   "execution_count": 40,
   "id": "4e01103d-26e7-48fa-a5f4-c06d3b3f25df",
   "metadata": {
    "tags": []
   },
   "outputs": [
    {
     "data": {
      "text/plain": [
       "182"
      ]
     },
     "execution_count": 40,
     "metadata": {},
     "output_type": "execute_result"
    }
   ],
   "source": [
    "emps_with_talent_card = set([e['current_talent_id'] for e in emps if e['hcm_samurai']['experience']])\n",
    "len(emps_with_talent_card)"
   ]
  },
  {
   "cell_type": "code",
   "execution_count": 42,
   "id": "db4a8774-cf74-4fad-a0af-9e0a12e43945",
   "metadata": {
    "tags": []
   },
   "outputs": [
    {
     "data": {
      "text/plain": [
       "152"
      ]
     },
     "execution_count": 42,
     "metadata": {},
     "output_type": "execute_result"
    }
   ],
   "source": [
    "emps_with_both = emps_with_talent_card & talents_with_app\n",
    "len(emps_with_both)"
   ]
  },
  {
   "cell_type": "code",
   "execution_count": 45,
   "id": "0b862a33-a8df-496c-9dd7-aa65d217438a",
   "metadata": {
    "tags": []
   },
   "outputs": [
    {
     "data": {
      "text/plain": [
       "(0.5868725868725869, 0.7027027027027027, 0.7027027027027027)"
      ]
     },
     "execution_count": 45,
     "metadata": {},
     "output_type": "execute_result"
    }
   ],
   "source": [
    "len(emps_with_both)/len(talent_ids), len(emps_with_talent_card)/ len(talent_ids), len(talents_with_app)/ len(talent_ids)"
   ]
  },
  {
   "cell_type": "code",
   "execution_count": 80,
   "id": "1daf8ad6-ff33-4017-a7a7-9fb4db482c6e",
   "metadata": {
    "tags": []
   },
   "outputs": [],
   "source": [
    "req_statuses = ['Open']\n",
    "minimum_req_posted_date = datetime(1971, 1, 1)"
   ]
  },
  {
   "cell_type": "code",
   "execution_count": 81,
   "id": "45407e37-7899-4bb8-9d59-7d1310869719",
   "metadata": {
    "tags": []
   },
   "outputs": [],
   "source": [
    "is_for_fetch_decider = IsForFetchDecider()"
   ]
  },
  {
   "cell_type": "code",
   "execution_count": 82,
   "id": "1fc6b0b7-7b2f-40dd-9375-ba2f5645f71d",
   "metadata": {
    "tags": []
   },
   "outputs": [],
   "source": [
    "def _get_req_days_since_posted(req, cur_date):\n",
    "    # get min of posted date internally or externally handling Nones (one of them must exist in the reqs we bring)\n",
    "    date_posted = req.get(Req.DATE_POSTED)\n",
    "    if req.get(Req.INTERNAL_POST_DATE):\n",
    "        date_posted = min(date_posted, req.get(Req.INTERNAL_POST_DATE)) if date_posted else req.get(\n",
    "            Req.INTERNAL_POST_DATE)\n",
    "    return date_posted"
   ]
  },
  {
   "cell_type": "code",
   "execution_count": 85,
   "id": "4e4b6fdc-619b-4d14-bc6e-25e9e07ecb5e",
   "metadata": {
    "tags": []
   },
   "outputs": [],
   "source": [
    "countries = ['United States']"
   ]
  },
  {
   "cell_type": "code",
   "execution_count": 87,
   "id": "6187e1ea-e936-445c-8751-aab70d92f3ad",
   "metadata": {
    "tags": []
   },
   "outputs": [],
   "source": [
    "req_max_open_days = 365"
   ]
  },
  {
   "cell_type": "code",
   "execution_count": 95,
   "id": "a6fe9c3f-4a2f-45ae-b464-0ec5e40b9bc3",
   "metadata": {
    "tags": []
   },
   "outputs": [
    {
     "data": {
      "text/plain": [
       "(1004, 935)"
      ]
     },
     "execution_count": 95,
     "metadata": {},
     "output_type": "execute_result"
    }
   ],
   "source": [
    "\n",
    "reqs_filter = {\"$or\": [{Req.DATE_POSTED: {'$exists': True}}, {Req.INTERNAL_POST_DATE: {'$exists': True}}],\n",
    "               Req.REQ_STATUS: {\"$in\": req_statuses}}\n",
    "reqs_filter.update({Req.COUNTRY_NAME: {\"$in\": countries}})\n",
    "reqs_filter.update({\"post_status.post_internal.start_date\": {\"$lte\": datetime.now(),\n",
    "                                                             \"$gte\": minimum_req_posted_date}})\n",
    "if req_max_open_days:\n",
    "    reqs_filter.update({\"open_date\": {\"$gte\": datetime.now()-timedelta(days=req_max_open_days)}})\n",
    "reqs_filter.update({\"post_status.post_internal.end_date\": {\"$exists\": False}})\n",
    "\n",
    "cur_date = datetime.utcnow()\n",
    "req_projection.update(\n",
    "    {Req.ACTIVATION_DATA: 1, Req.ID: 1, Req.EXTERNAL_ID: 1, Req.JOB_TITLE: 1, Req.DISPLAY_ID: 1,\n",
    "     Req.DATE_POSTED: 1, Req.INTERNAL_POST_DATE: 1, Req.JOB_BAND_ORDER: 1, Req.COUNTRY: 1,\n",
    "     Req.COUNTRY_NAME: 1, Req.CITY: 1, Req.STATE: 1})\n",
    "\n",
    "reqs = [req for req in mongo.req.find(reqs_filter, req_projection)]\n",
    "filtered_reqs = [req for req in reqs if is_for_fetch_decider.is_for_fetch(req)\n",
    "                 and _get_req_days_since_posted(req, cur_date) >= minimum_req_posted_date]\n",
    "\n",
    "# result = []\n",
    "# for idx, req in enumerate(filtered_reqs):\n",
    "#     if not self.should_filter_recommendation_on_applications_phases_in_req(req[Req.ID], exclude_req_phases):\n",
    "#         result.append(req)\n",
    "\n",
    "len(reqs), len(filtered_reqs)"
   ]
  },
  {
   "cell_type": "code",
   "execution_count": 121,
   "id": "4f83fe08-e78d-44b5-90ee-aab14af78202",
   "metadata": {
    "tags": []
   },
   "outputs": [],
   "source": [
    "api = get_recommendations_api_client('production', logger=ProblemsOnlyLoggingService())"
   ]
  },
  {
   "cell_type": "code",
   "execution_count": 118,
   "id": "3e03052c-1440-4cdc-abd8-728ae9213611",
   "metadata": {},
   "outputs": [],
   "source": []
  },
  {
   "cell_type": "code",
   "execution_count": 129,
   "id": "75e5923f-bd26-40f5-95ad-c5aa6a84bfc8",
   "metadata": {
    "tags": []
   },
   "outputs": [
    {
     "ename": "NameError",
     "evalue": "name 'DegreeLevelQueryFilter' is not defined",
     "output_type": "error",
     "traceback": [
      "\u001b[0;31m---------------------------------------------------------------------------\u001b[0m",
      "\u001b[0;31mNameError\u001b[0m                                 Traceback (most recent call last)",
      "Cell \u001b[0;32mIn[129], line 2\u001b[0m\n\u001b[1;32m      1\u001b[0m logical_filters \u001b[38;5;241m=\u001b[39m [\n\u001b[0;32m----> 2\u001b[0m                    \u001b[43mDegreeLevelQueryFilter\u001b[49m(),\n\u001b[1;32m      3\u001b[0m                    CertificationsFilter(),\n\u001b[1;32m      4\u001b[0m                    MajorsFilter(),\n\u001b[1;32m      5\u001b[0m                    ProfessionsQueryFilter(),\n\u001b[1;32m      6\u001b[0m                    DetailedProfessionsQueryFilter(),\n\u001b[1;32m      7\u001b[0m                    TitlesSimilarityFeaturesFilter(filter_only_if_resume_data_exist\u001b[38;5;241m=\u001b[39m\u001b[38;5;28;01mTrue\u001b[39;00m,\n\u001b[1;32m      8\u001b[0m                                                   only_if_enough_coverage\u001b[38;5;241m=\u001b[39m\u001b[38;5;28;01mTrue\u001b[39;00m),\n\u001b[1;32m      9\u001b[0m                    MandatorySkillsQueryFilter(),\n\u001b[1;32m     10\u001b[0m                    KBSkillsQueryFilter(),\n\u001b[1;32m     11\u001b[0m                    LanguagesQueryFilter(),\n\u001b[1;32m     12\u001b[0m                    VisaQueryFilter(),\n\u001b[1;32m     13\u001b[0m                    IndustryYearsQueryFilter(),\n\u001b[1;32m     14\u001b[0m                    ManagementYearsQueryFilter(),\n\u001b[1;32m     15\u001b[0m                    CurrentSeniorityQueryFilter(),\n\u001b[1;32m     16\u001b[0m                    ProfessionalSeniorityQueryFilter(),\n\u001b[1;32m     17\u001b[0m                    TooMuchExperienceQueryFilter(),\n\u001b[1;32m     18\u001b[0m                    FullTextSearchFilter(),\n\u001b[1;32m     19\u001b[0m                    TitlesMustIncludeQueryFilter(),\n\u001b[1;32m     20\u001b[0m                    IndustriesMustIncludeQueryFilter(),\n\u001b[1;32m     21\u001b[0m                    PastMostAdvancedPhasesFilter(),\n\u001b[1;32m     22\u001b[0m                    TagsQueryFilter(),\n\u001b[1;32m     23\u001b[0m                    CompaniesQueryFilter(),\n\u001b[1;32m     24\u001b[0m                    AgencyFilter(), RehireFilter(), ReferralFilter(),\n\u001b[1;32m     25\u001b[0m                    EmployeeJobTypeMatchFilter(TitlesSimilarityFeaturesFilter(filter_only_if_resume_data_exist\u001b[38;5;241m=\u001b[39m\u001b[38;5;28;01mFalse\u001b[39;00m,\n\u001b[1;32m     26\u001b[0m                                                                              only_if_enough_coverage\u001b[38;5;241m=\u001b[39m\u001b[38;5;28;01mFalse\u001b[39;00m),\n\u001b[1;32m     27\u001b[0m                                                       EmployeeEnhancedMovesModelFeaturesFilter()),\n\u001b[1;32m     28\u001b[0m                    TimeInPositionQueryFilter(),\n\u001b[1;32m     29\u001b[0m                    EmployeeJobBandsQueryFilter(), EmployeeIsActiveQueryFilter(),\n\u001b[1;32m     30\u001b[0m                    EmployeeTitlesSimilarityFeaturesFilter(), EmployeeIsInPoolFilter(),\n\u001b[1;32m     31\u001b[0m                    EmployeeJobCategorizationNamesFilter(), EmployeeBandLevelNamesFilter(),\n\u001b[1;32m     32\u001b[0m                    RecentATSApplyQueryFilter(),\n\u001b[1;32m     33\u001b[0m                    EmployeePerformanceRatingsQueryFilter(),\n\u001b[1;32m     34\u001b[0m                    EmployeeIsNotRestrictedQueryFilter(),\n\u001b[1;32m     35\u001b[0m                    CandidateCirculationQueryFilter(),\n\u001b[1;32m     36\u001b[0m                    CandidateWorkTypesFilter(), CandidateRequestedSalaryFilter(), CandidateJobTypesFilter(),\n\u001b[1;32m     37\u001b[0m                    ExternalPoolQueryFilter()\n\u001b[1;32m     38\u001b[0m ]\n\u001b[1;32m     40\u001b[0m technical_filters \u001b[38;5;241m=\u001b[39m [CandidateRecordQueryFilter(),\n\u001b[1;32m     41\u001b[0m                      SpecificCandidateIdQueryFilter(), SpecificTalentIdsQueryFilter(),\n\u001b[1;32m     42\u001b[0m                      CandidateDataSourcesFilter(), CandidateSourceSystemsFilter(),\n\u001b[0;32m   (...)\u001b[0m\n\u001b[1;32m     46\u001b[0m                      CitizenshipFilter(), PopulationTypesFilter(), EmailQueryFilter(),\n\u001b[1;32m     47\u001b[0m                      SearchForNameQueryFilter(), OnlySilverMedalistsFilter(), SecurityClearanceFilter()]\n",
      "\u001b[0;31mNameError\u001b[0m: name 'DegreeLevelQueryFilter' is not defined"
     ]
    }
   ],
   "source": [
    "    logical_filters = [\n",
    "                       DegreeLevelQueryFilter(),\n",
    "                       CertificationsFilter(),\n",
    "                       MajorsFilter(),\n",
    "                       ProfessionsQueryFilter(),\n",
    "                       DetailedProfessionsQueryFilter(),\n",
    "                       TitlesSimilarityFeaturesFilter(filter_only_if_resume_data_exist=True,\n",
    "                                                      only_if_enough_coverage=True),\n",
    "                       MandatorySkillsQueryFilter(),\n",
    "                       KBSkillsQueryFilter(),\n",
    "                       LanguagesQueryFilter(),\n",
    "                       VisaQueryFilter(),\n",
    "                       IndustryYearsQueryFilter(),\n",
    "                       ManagementYearsQueryFilter(),\n",
    "                       CurrentSeniorityQueryFilter(),\n",
    "                       ProfessionalSeniorityQueryFilter(),\n",
    "                       TooMuchExperienceQueryFilter(),\n",
    "                       FullTextSearchFilter(),\n",
    "                       TitlesMustIncludeQueryFilter(),\n",
    "                       IndustriesMustIncludeQueryFilter(),\n",
    "                       PastMostAdvancedPhasesFilter(),\n",
    "                       TagsQueryFilter(),\n",
    "                       CompaniesQueryFilter(),\n",
    "                       AgencyFilter(), RehireFilter(), ReferralFilter(),\n",
    "                       EmployeeJobTypeMatchFilter(TitlesSimilarityFeaturesFilter(filter_only_if_resume_data_exist=False,\n",
    "                                                                                 only_if_enough_coverage=False),\n",
    "                                                          EmployeeEnhancedMovesModelFeaturesFilter()),\n",
    "                       TimeInPositionQueryFilter(),\n",
    "                       EmployeeJobBandsQueryFilter(), EmployeeIsActiveQueryFilter(),\n",
    "                       EmployeeTitlesSimilarityFeaturesFilter(), EmployeeIsInPoolFilter(),\n",
    "                       EmployeeJobCategorizationNamesFilter(), EmployeeBandLevelNamesFilter(),\n",
    "                       RecentATSApplyQueryFilter(),\n",
    "                       EmployeePerformanceRatingsQueryFilter(),\n",
    "                       EmployeeIsNotRestrictedQueryFilter(),\n",
    "                       CandidateCirculationQueryFilter(),\n",
    "                       CandidateWorkTypesFilter(), CandidateRequestedSalaryFilter(), CandidateJobTypesFilter(),\n",
    "                       ExternalPoolQueryFilter()\n",
    "    ]\n",
    "\n",
    "    technical_filters = [CandidateRecordQueryFilter(),\n",
    "                         SpecificCandidateIdQueryFilter(), SpecificTalentIdsQueryFilter(),\n",
    "                         CandidateDataSourcesFilter(), CandidateSourceSystemsFilter(),\n",
    "                         InternalCandidatesTypeFilter(),\n",
    "                         CountryQueryFilter(), LocationQueryFilter(),\n",
    "                         RecentApplyFromAllSourcesQueryFilter(),\n",
    "                         CitizenshipFilter(), PopulationTypesFilter(), EmailQueryFilter(),\n",
    "                         SearchForNameQueryFilter(), OnlySilverMedalistsFilter(), SecurityClearanceFilter()]"
   ]
  },
  {
   "cell_type": "code",
   "execution_count": 122,
   "id": "d2e852df-0793-4358-b24c-9128d41a2a7d",
   "metadata": {},
   "outputs": [
    {
     "data": {
      "text/plain": [
       "1000"
      ]
     },
     "execution_count": 122,
     "metadata": {},
     "output_type": "execute_result"
    }
   ],
   "source": [
    "additional_parameters = {\"fetch_mode\": {\"value\": \"employee_fetch\"},\n",
    "                             \"consider_past_applied_locations_as_candidate_locations\": {\"value\": True},\n",
    "                             \"include_internals\": {\"value\": True}, \"include_externals\": {\"value\": True},\n",
    "                            \"filters_to_use\": {\"value\": [\"SpecificTalentIdsQueryFilter\"]},\n",
    "                             \"allow_already_applied_req\": {\"value\": False},\n",
    "                             \"allow_candidates_with_offer\": {\"value\": False}}\n",
    "\n",
    "additional_parameters.update({'specific_talent_ids': {\"value\": list(talent_ids)}})\n",
    "\n",
    "\n",
    "\n",
    "recommendations = []\n",
    "for req in filtered_reqs[:10]:\n",
    "    recommendations += api.fast_fetch('jaipur', req['_id'], **additional_parameters)['results']\n",
    "len(recommendations)"
   ]
  },
  {
   "cell_type": "code",
   "execution_count": 117,
   "id": "0b7254e8-9cdf-4ca8-8ca8-168395119919",
   "metadata": {
    "tags": []
   },
   "outputs": [
    {
     "data": {
      "text/plain": [
       "[{'candidate_id': 'JLLCAND557330',\n",
       "  'candidate_data': {'email': 'ronald.hammitt@yahoo.com',\n",
       "   'name': 'Ronald Hammitt',\n",
       "   'logical_update_date': '2023-06-05 12:56:22.452000',\n",
       "   'last_applied_date': '2023-06-05 12:56:22.452000',\n",
       "   'highest_degree': 'Masters',\n",
       "   'last_title': 'DFW Airport, SFMM',\n",
       "   'last_application_id': 'JLLREQ288815_JLLCAND557330',\n",
       "   'latest_entity_id': 'JLLREQ288815_JLLCAND557330',\n",
       "   'latest_entity_type': 'ats',\n",
       "   'latest_entity_source_system': 'workday',\n",
       "   'current_talent_id': '03e578b0-2e30-4430-9988-0f71d4ad38b7',\n",
       "   'talent_ids': ['03e578b0-2e30-4430-9988-0f71d4ad38b7'],\n",
       "   'data_sources': ['hcm', 'ats'],\n",
       "   'is_internal': True,\n",
       "   'high_prob_to_apply': True,\n",
       "   'prob_to_apply': 0.99,\n",
       "   'applied_req_ids_for_match': ['JLLREQ288815',\n",
       "    'JLLREQ290211',\n",
       "    'JLLREQ293398'],\n",
       "   'max_past_phase': 'recruiter_screen',\n",
       "   'last_company': 'JLL',\n",
       "   'population_types': [],\n",
       "   'source_systems': ['hcm', 'workday'],\n",
       "   'tags': [],\n",
       "   'external_pool': {'account_id': 'jaipur',\n",
       "    'external_talent_id': '03e578b0-2e30-4430-9988-0f71d4ad38b7',\n",
       "    'sub_pool_id': [],\n",
       "    'sub_pool_name': None}},\n",
       "  'grade': 0.7,\n",
       "  'filtering_score': 0.054200811819596725,\n",
       "  'grading_data': {'grade_components': {'skills_w2v': 1.0,\n",
       "    'titles_w2v': 1.0,\n",
       "    'skills_by_importance': 1.0,\n",
       "    'professions_match': 1.0,\n",
       "    'profession_years_grade': 0.0,\n",
       "    'certifications_grade': None,\n",
       "    'titles_similarity_model': 1.0,\n",
       "    'high_degree_level_grade': 0.0,\n",
       "    'high_past_status_grade': 1.0,\n",
       "    'model_score': 0.0,\n",
       "    'time_in_position': 1.0,\n",
       "    'level_score': 1.0,\n",
       "    'skill_score': 0.0,\n",
       "    'performance_model': 1.0,\n",
       "    'seniority_grade': 1.0,\n",
       "    'future_apply_grade': 1.0,\n",
       "    'majors_grade': 1.0},\n",
       "   'grade': 0.7,\n",
       "   'initial_grade': 0.27748525017834186,\n",
       "   'initial_grade_components': {'skills_w2v': 0.5752286911010742,\n",
       "    'titles_w2v': 0.45233410596847534,\n",
       "    'skills_by_importance': 0.47619047619047616,\n",
       "    'professions_match': 0.27644845843315125,\n",
       "    'profession_years_grade': 0.0,\n",
       "    'certifications_grade': None,\n",
       "    'titles_similarity_model': 0.012850467289719626,\n",
       "    'high_degree_level_grade': 0.0,\n",
       "    'high_past_status_grade': 0.2,\n",
       "    'model_score': 0.0,\n",
       "    'time_in_position': 0.30319634703196346,\n",
       "    'level_score': 0.0625,\n",
       "    'skill_score': 0.0,\n",
       "    'performance_model': 0.01,\n",
       "    'seniority_grade': 0.5,\n",
       "    'future_apply_grade': 0.9900122284889221,\n",
       "    'majors_grade': 1.0},\n",
       "   'ml_model_grade': 0.0,\n",
       "   'ml_model_initial_grade': 0.0,\n",
       "   'old_fetch_grade': 0.7,\n",
       "   'old_fetch_initial_grade': 0.27748525017834186,\n",
       "   'name_similarity_score': 1.0},\n",
       "  'insights': {'max_past_status': 1},\n",
       "  'boosts': {}}]"
      ]
     },
     "execution_count": 117,
     "metadata": {},
     "output_type": "execute_result"
    }
   ],
   "source": [
    "recommendations"
   ]
  },
  {
   "cell_type": "code",
   "execution_count": null,
   "id": "253deb24-777a-4f2b-8334-e6a022b44063",
   "metadata": {},
   "outputs": [],
   "source": []
  }
 ],
 "metadata": {
  "kernelspec": {
   "display_name": "Python 3 (ipykernel)",
   "language": "python",
   "name": "python3"
  },
  "language_info": {
   "codemirror_mode": {
    "name": "ipython",
    "version": 3
   },
   "file_extension": ".py",
   "mimetype": "text/x-python",
   "name": "python",
   "nbconvert_exporter": "python",
   "pygments_lexer": "ipython3",
   "version": "3.9.5"
  }
 },
 "nbformat": 4,
 "nbformat_minor": 5
}
