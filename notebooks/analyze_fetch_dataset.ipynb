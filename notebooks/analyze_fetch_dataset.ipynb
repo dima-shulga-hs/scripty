{
 "cells": [
  {
   "cell_type": "code",
   "execution_count": 1,
   "id": "7247151a-428e-49bc-b7b0-54b747bf8ad9",
   "metadata": {
    "tags": []
   },
   "outputs": [
    {
     "name": "stderr",
     "output_type": "stream",
     "text": [
      "/Users/dima/.virtualenvs/hs/lib/python3.9/site-packages/xgboost/compat.py:31: FutureWarning: pandas.Int64Index is deprecated and will be removed from pandas in a future version. Use pandas.Index with the appropriate dtype instead.\n",
      "  from pandas import MultiIndex, Int64Index\n",
      "/Users/dima/.virtualenvs/hs/lib/python3.9/site-packages/fuzzywuzzy/fuzz.py:11: UserWarning: Using slow pure-python SequenceMatcher. Install python-Levenshtein to remove this warning\n",
      "  warnings.warn('Using slow pure-python SequenceMatcher. Install python-Levenshtein to remove this warning')\n"
     ]
    },
    {
     "name": "stdout",
     "output_type": "stream",
     "text": [
      "\u001b[2m2024-01-15T12:35:20.090852Z\u001b[0m [\u001b[32m\u001b[1minfo     \u001b[0m] \u001b[1mRead abbreviation sets        \u001b[0m \u001b[36menvironment\u001b[0m=\u001b[35mlocal\u001b[0m \u001b[36mfile_path\u001b[0m=\u001b[35m/Users/dima/hiredscore/grading/algorithms/hs_algorithms/abbreviations/abbrevations_provider.py\u001b[0m \u001b[36mfunction_name\u001b[0m=\u001b[35m_get_abbreavations_from_file\u001b[0m \u001b[36mhostname\u001b[0m=\u001b[35mDima-Shulga-MacBook-Pro\u001b[0m \u001b[36mline_number\u001b[0m=\u001b[35m34\u001b[0m \u001b[36mmodule\u001b[0m=\u001b[35mhs_algorithms.abbreviations.abbrevations_provider\u001b[0m \u001b[36mnum_terms__numeric\u001b[0m=\u001b[35m91\u001b[0m \u001b[36mpid\u001b[0m=\u001b[35m63533\u001b[0m\n",
      "\u001b[2m2024-01-15T12:35:20.105529Z\u001b[0m [\u001b[32m\u001b[1minfo     \u001b[0m] \u001b[1mExplainable job type: loaded aliases to job types\u001b[0m \u001b[36menvironment\u001b[0m=\u001b[35mlocal\u001b[0m \u001b[36mfile_path\u001b[0m=\u001b[35m/Users/dima/hiredscore/grading/algorithms/hs_algorithms/explainable_job_type/explainable_job_type.py\u001b[0m \u001b[36mfunction_name\u001b[0m=\u001b[35mload_job_type_data\u001b[0m \u001b[36mhostname\u001b[0m=\u001b[35mDima-Shulga-MacBook-Pro\u001b[0m \u001b[36mline_number\u001b[0m=\u001b[35m109\u001b[0m \u001b[36mmodule\u001b[0m=\u001b[35mhs_algorithms.explainable_job_type.explainable_job_type\u001b[0m \u001b[36mnum_aliases__numeric\u001b[0m=\u001b[35m365\u001b[0m \u001b[36mnum_job_types__numeric\u001b[0m=\u001b[35m214\u001b[0m \u001b[36mpid\u001b[0m=\u001b[35m63533\u001b[0m\n"
     ]
    },
    {
     "name": "stderr",
     "output_type": "stream",
     "text": [
      "/Users/dima/.virtualenvs/hs/lib/python3.9/site-packages/pydantic/_internal/_config.py:317: UserWarning: Valid config keys have changed in V2:\n",
      "* 'allow_population_by_field_name' has been renamed to 'populate_by_name'\n",
      "  warnings.warn(message, UserWarning)\n"
     ]
    }
   ],
   "source": [
    "import itertools\n",
    "from hs_brain_mlops.dataset_management.dataset_manager_factory import get_dataset_manager\n",
    "from hs_gimme.db_facade.elastic_search.elastic_search_client import get_elastic_search_client\n",
    "from hs_fetch.workflows.factories.past_candidates_workflows_factory import PastCandidatesWorkflowsFactory\n",
    "from collections import defaultdict, Counter"
   ]
  },
  {
   "cell_type": "code",
   "execution_count": 9,
   "id": "0ba4986f-40b3-4345-b9de-209feb323bcb",
   "metadata": {
    "tags": []
   },
   "outputs": [],
   "source": [
    "account = 'tokyo'\n",
    "tag = 'baseline_jan_12_2'"
   ]
  },
  {
   "cell_type": "code",
   "execution_count": 3,
   "id": "57c63623-0e23-451e-a32f-c7c5a276a3db",
   "metadata": {
    "tags": []
   },
   "outputs": [
    {
     "name": "stdout",
     "output_type": "stream",
     "text": [
      "\u001b[2m2024-01-15T12:35:20.492297Z\u001b[0m [\u001b[32m\u001b[1minfo     \u001b[0m] \u001b[1mRunning DVC command ['DVC_IGNORE_ISATTY=1', 'dvc', 'pull', '--force', PosixPath('/Users/dima/hiredscore/brain_mlops/hs_brain_mlops/dataset_management/datasets/fetch_evaluation_tokyo/data')]\u001b[0m \u001b[36menvironment\u001b[0m=\u001b[35mlocal\u001b[0m \u001b[36mfile_path\u001b[0m=\u001b[35m/Users/dima/hiredscore/brain_mlops/hs_brain_mlops/dataset_management/dvc_manager/dvc_facade.py\u001b[0m \u001b[36mfunction_name\u001b[0m=\u001b[35m_run\u001b[0m \u001b[36mhostname\u001b[0m=\u001b[35mDima-Shulga-MacBook-Pro\u001b[0m \u001b[36mline_number\u001b[0m=\u001b[35m31\u001b[0m \u001b[36mmodule\u001b[0m=\u001b[35mhs_brain_mlops.dataset_management.dvc_manager.dvc_facade\u001b[0m \u001b[36mpid\u001b[0m=\u001b[35m63533\u001b[0m\n"
     ]
    },
    {
     "name": "stderr",
     "output_type": "stream",
     "text": [
      "Collecting          |4.00 [00:02, 1.79entry/s]                        \n",
      "Fetching\n",
      "!\n",
      "  0% |          |0/? [00:00<?,    ?files/s]\n",
      "                                           \n",
      "!\n",
      "  0% Querying remote cache|          |0/1 [00:00<?,    ?files/s]\n",
      "100% Querying remote cache|██████████|1/1 [00:00<00:00,  5.85files/s]\n",
      "                                                                     \n",
      "!\n",
      "  0%|          |Fetching from s3                      0/3 [00:00<?,     ?file/s]\n",
      "  0%|          |Fetching from s3                      0/2 [00:00<?,     ?file/s]\n",
      "\n",
      "!\n",
      "\n",
      "  0%|          |hs-brain-datasets/dvc/files/md5/0.00/313k [00:00<?,        ?B/s]\n",
      "\n",
      " 16%|█▌        |hs-brain-datasets/dvc/files50.5k/313k [00:00<00:00,     349kB/s]\n",
      "\n",
      " 38%|███▊      |hs-brain-datasets/dvc/files/118k/313k [00:00<00:00,     430kB/s]\n",
      "\n",
      " 64%|██████▎   |hs-brain-datasets/dvc/files/199k/313k [00:00<00:00,     492kB/s]\n",
      "\n",
      " 92%|█████████▏|hs-brain-datasets/dvc/files/288k/313k [00:00<00:00,     553kB/s]\n",
      "\n",
      "                                                                                \n",
      " 50%|█████     |Fetching from s3                  1/2 [00:01<00:00,  1.25file/s]\n",
      "\n",
      "!\n",
      "\n",
      "  0%|          |hs-brain-datasets/dvc/files/md50.00/12.3M [00:00<?,        ?B/s]\n",
      "\n",
      "  1%|          |hs-brain-datasets/dvc/files114k/12.3M [00:00<00:23,     535kB/s]\n",
      "\n",
      "  2%|▏         |hs-brain-datasets/dvc/files290k/12.3M [00:00<00:14,     875kB/s]\n",
      "\n",
      "  3%|▎         |hs-brain-datasets/dvc/files409k/12.3M [00:00<00:14,     866kB/s]\n",
      "\n",
      "  4%|▍         |hs-brain-datasets/dvc/files498k/12.3M [00:00<00:15,     778kB/s]\n",
      "\n",
      "  5%|▍         |hs-brain-datasets/dvc/files617k/12.3M [00:00<00:15,     814kB/s]\n",
      "\n",
      "  6%|▌         |hs-brain-datasets/dvc/files766k/12.3M [00:01<00:16,     727kB/s]\n",
      "\n",
      "  7%|▋         |hs-brain-datasets/dvc/files922k/12.3M [00:01<00:14,     849kB/s]\n",
      "\n",
      "  8%|▊         |hs-brain-datasets/dvc/files974k/12.3M [00:01<00:15,     778kB/s]\n",
      "\n",
      "  8%|▊         |hs-brain-datasets/dvc/file1.02M/12.3M [00:01<00:17,     683kB/s]\n",
      "\n",
      "  9%|▉         |hs-brain-datasets/dvc/file1.15M/12.3M [00:01<00:15,     763kB/s]\n",
      "\n",
      " 10%|█         |hs-brain-datasets/dvc/file1.25M/12.3M [00:01<00:15,     747kB/s]\n",
      "\n",
      " 11%|█         |hs-brain-datasets/dvc/file1.35M/12.3M [00:01<00:15,     750kB/s]\n",
      "\n",
      " 11%|█▏        |hs-brain-datasets/dvc/file1.40M/12.3M [00:01<00:17,     649kB/s]\n",
      "\n",
      " 12%|█▏        |hs-brain-datasets/dvc/file1.52M/12.3M [00:02<00:15,     711kB/s]\n",
      "\n",
      " 13%|█▎        |hs-brain-datasets/dvc/file1.65M/12.3M [00:02<00:15,     712kB/s]\n",
      "\n",
      " 14%|█▍        |hs-brain-datasets/dvc/file1.75M/12.3M [00:02<00:15,     720kB/s]\n",
      "\n",
      " 15%|█▍        |hs-brain-datasets/dvc/file1.83M/12.3M [00:02<00:15,     691kB/s]\n",
      "\n",
      " 16%|█▋        |hs-brain-datasets/dvc/file1.99M/12.3M [00:02<00:12,     831kB/s]\n",
      "\n",
      " 17%|█▋        |hs-brain-datasets/dvc/file2.08M/12.3M [00:02<00:13,     774kB/s]\n",
      "\n",
      " 18%|█▊        |hs-brain-datasets/dvc/file2.16M/12.3M [00:03<00:14,     719kB/s]\n",
      "\n",
      " 19%|█▉        |hs-brain-datasets/dvc/file2.31M/12.3M [00:03<00:12,     827kB/s]\n",
      "\n",
      " 20%|█▉        |hs-brain-datasets/dvc/file2.41M/12.3M [00:03<00:14,     735kB/s]\n",
      "\n",
      " 21%|██        |hs-brain-datasets/dvc/file2.53M/12.3M [00:03<00:13,     767kB/s]\n",
      "\n",
      " 21%|██▏       |hs-brain-datasets/dvc/file2.61M/12.3M [00:03<00:13,     726kB/s]\n",
      "\n",
      " 22%|██▏       |hs-brain-datasets/dvc/file2.73M/12.3M [00:03<00:13,     760kB/s]\n",
      "\n",
      " 23%|██▎       |hs-brain-datasets/dvc/file2.84M/12.3M [00:03<00:12,     788kB/s]\n",
      "\n",
      " 24%|██▍       |hs-brain-datasets/dvc/file2.94M/12.3M [00:04<00:11,     846kB/s]\n",
      "\n",
      " 24%|██▍       |hs-brain-datasets/dvc/file2.99M/12.3M [00:04<00:13,     700kB/s]\n",
      "\n",
      " 25%|██▌       |hs-brain-datasets/dvc/file3.11M/12.3M [00:04<00:12,     746kB/s]\n",
      "\n",
      " 26%|██▋       |hs-brain-datasets/dvc/file3.24M/12.3M [00:04<00:11,     822kB/s]\n",
      "\n",
      " 27%|██▋       |hs-brain-datasets/dvc/file3.33M/12.3M [00:04<00:11,     833kB/s]\n",
      "\n",
      " 28%|██▊       |hs-brain-datasets/dvc/file3.43M/12.3M [00:04<00:11,     801kB/s]\n",
      "\n",
      " 29%|██▉       |hs-brain-datasets/dvc/file3.54M/12.3M [00:04<00:11,     823kB/s]\n",
      "\n",
      " 29%|██▉       |hs-brain-datasets/dvc/file3.60M/12.3M [00:04<00:11,     768kB/s]\n",
      "\n",
      " 30%|███       |hs-brain-datasets/dvc/file3.69M/12.3M [00:05<00:12,     721kB/s]\n",
      "\n",
      " 31%|███       |hs-brain-datasets/dvc/file3.81M/12.3M [00:05<00:11,     759kB/s]\n",
      "\n",
      " 32%|███▏      |hs-brain-datasets/dvc/file3.95M/12.3M [00:05<00:12,     722kB/s]\n",
      "\n",
      " 33%|███▎      |hs-brain-datasets/dvc/file4.01M/12.3M [00:05<00:15,     566kB/s]\n",
      "\n",
      " 34%|███▍      |hs-brain-datasets/dvc/file4.14M/12.3M [00:05<00:14,     607kB/s]\n",
      "\n",
      " 35%|███▍      |hs-brain-datasets/dvc/file4.27M/12.3M [00:06<00:12,     688kB/s]\n",
      "\n",
      " 35%|███▌      |hs-brain-datasets/dvc/file4.34M/12.3M [00:06<00:12,     644kB/s]\n",
      "\n",
      " 36%|███▌      |hs-brain-datasets/dvc/file4.40M/12.3M [00:06<00:13,     602kB/s]\n",
      "\n",
      " 37%|███▋      |hs-brain-datasets/dvc/file4.53M/12.3M [00:06<00:13,     608kB/s]\n",
      "\n",
      " 37%|███▋      |hs-brain-datasets/dvc/file4.59M/12.3M [00:06<00:14,     552kB/s]\n",
      "\n",
      " 38%|███▊      |hs-brain-datasets/dvc/file4.69M/12.3M [00:06<00:13,     601kB/s]\n",
      "\n",
      " 39%|███▉      |hs-brain-datasets/dvc/file4.79M/12.3M [00:07<00:14,     543kB/s]\n",
      "\n",
      " 40%|███▉      |hs-brain-datasets/dvc/file4.85M/12.3M [00:07<00:14,     525kB/s]\n",
      "\n",
      " 40%|████      |hs-brain-datasets/dvc/file4.95M/12.3M [00:07<00:13,     583kB/s]\n",
      "\n",
      " 41%|████      |hs-brain-datasets/dvc/file5.05M/12.3M [00:07<00:12,     626kB/s]\n",
      "\n",
      " 42%|████▏     |hs-brain-datasets/dvc/file5.15M/12.3M [00:07<00:10,     716kB/s]\n",
      "\n",
      " 43%|████▎     |hs-brain-datasets/dvc/file5.22M/12.3M [00:07<00:11,     658kB/s]\n",
      "\n",
      " 43%|████▎     |hs-brain-datasets/dvc/file5.33M/12.3M [00:07<00:10,     720kB/s]\n",
      "\n",
      " 45%|████▍     |hs-brain-datasets/dvc/file5.46M/12.3M [00:07<00:09,     774kB/s]\n",
      "\n",
      " 45%|████▌     |hs-brain-datasets/dvc/file5.56M/12.3M [00:08<00:09,     762kB/s]\n",
      "\n",
      " 46%|████▌     |hs-brain-datasets/dvc/file5.67M/12.3M [00:08<00:09,     764kB/s]\n",
      "\n",
      " 47%|████▋     |hs-brain-datasets/dvc/file5.73M/12.3M [00:08<00:09,     686kB/s]\n",
      "\n",
      " 48%|████▊     |hs-brain-datasets/dvc/file5.89M/12.3M [00:08<00:08,     754kB/s]\n",
      "\n",
      " 49%|████▊     |hs-brain-datasets/dvc/file5.97M/12.3M [00:08<00:09,     690kB/s]\n",
      "\n",
      " 49%|████▉     |hs-brain-datasets/dvc/file6.06M/12.3M [00:08<00:09,     703kB/s]\n",
      "\n",
      " 50%|█████     |hs-brain-datasets/dvc/file6.18M/12.3M [00:09<00:08,     750kB/s]\n",
      "\n",
      " 51%|█████     |hs-brain-datasets/dvc/file6.28M/12.3M [00:09<00:07,     811kB/s]\n",
      "\n",
      " 52%|█████▏    |hs-brain-datasets/dvc/file6.40M/12.3M [00:09<00:07,     825kB/s]\n",
      "\n",
      " 53%|█████▎    |hs-brain-datasets/dvc/file6.51M/12.3M [00:09<00:07,     835kB/s]\n",
      "\n",
      " 54%|█████▍    |hs-brain-datasets/dvc/file6.63M/12.3M [00:09<00:07,     839kB/s]\n",
      "\n",
      " 55%|█████▍    |hs-brain-datasets/dvc/file6.69M/12.3M [00:09<00:07,     796kB/s]\n",
      "\n",
      " 56%|█████▌    |hs-brain-datasets/dvc/file6.81M/12.3M [00:09<00:07,     814kB/s]\n",
      "\n",
      " 56%|█████▌    |hs-brain-datasets/dvc/file6.89M/12.3M [00:09<00:07,     751kB/s]\n",
      "\n",
      " 57%|█████▋    |hs-brain-datasets/dvc/file7.03M/12.3M [00:10<00:07,     688kB/s]\n",
      "\n",
      " 58%|█████▊    |hs-brain-datasets/dvc/file7.09M/12.3M [00:10<00:08,     636kB/s]\n",
      "\n",
      " 59%|█████▉    |hs-brain-datasets/dvc/file7.21M/12.3M [00:10<00:07,     700kB/s]\n",
      "\n",
      " 60%|█████▉    |hs-brain-datasets/dvc/file7.33M/12.3M [00:10<00:06,     744kB/s]\n",
      "\n",
      " 61%|██████    |hs-brain-datasets/dvc/file7.44M/12.3M [00:10<00:06,     771kB/s]\n",
      "\n",
      " 62%|██████▏   |hs-brain-datasets/dvc/file7.56M/12.3M [00:10<00:06,     797kB/s]\n",
      "\n",
      " 62%|██████▏   |hs-brain-datasets/dvc/file7.62M/12.3M [00:11<00:06,     749kB/s]\n",
      "\n",
      " 63%|██████▎   |hs-brain-datasets/dvc/file7.68M/12.3M [00:11<00:07,     658kB/s]\n",
      "\n",
      " 63%|██████▎   |hs-brain-datasets/dvc/file7.71M/12.3M [00:11<00:08,     531kB/s]\n",
      "\n",
      " 64%|██████▎   |hs-brain-datasets/dvc/file7.79M/12.3M [00:11<00:08,     556kB/s]\n",
      "\n",
      " 64%|██████▍   |hs-brain-datasets/dvc/file7.87M/12.3M [00:11<00:07,     625kB/s]\n",
      "\n",
      " 65%|██████▍   |hs-brain-datasets/dvc/file7.96M/12.3M [00:11<00:07,     624kB/s]\n",
      "\n",
      " 65%|██████▌   |hs-brain-datasets/dvc/file8.01M/12.3M [00:11<00:07,     598kB/s]\n",
      "\n",
      " 66%|██████▌   |hs-brain-datasets/dvc/file8.06M/12.3M [00:11<00:08,     518kB/s]\n",
      "\n",
      " 67%|██████▋   |hs-brain-datasets/dvc/file8.16M/12.3M [00:12<00:07,     585kB/s]\n",
      "\n",
      " 67%|██████▋   |hs-brain-datasets/dvc/file8.27M/12.3M [00:12<00:07,     552kB/s]\n",
      "\n",
      " 68%|██████▊   |hs-brain-datasets/dvc/file8.34M/12.3M [00:12<00:07,     542kB/s]\n",
      "\n",
      " 69%|██████▊   |hs-brain-datasets/dvc/file8.41M/12.3M [00:12<00:07,     529kB/s]\n",
      "\n",
      " 69%|██████▉   |hs-brain-datasets/dvc/file8.52M/12.3M [00:12<00:06,     623kB/s]\n",
      "\n",
      " 70%|██████▉   |hs-brain-datasets/dvc/file8.55M/12.3M [00:12<00:07,     513kB/s]\n",
      "\n",
      " 71%|███████   |hs-brain-datasets/dvc/file8.67M/12.3M [00:13<00:06,     609kB/s]\n",
      "\n",
      " 71%|███████▏  |hs-brain-datasets/dvc/file8.74M/12.3M [00:13<00:06,     575kB/s]\n",
      "\n",
      " 72%|███████▏  |hs-brain-datasets/dvc/file8.82M/12.3M [00:13<00:06,     531kB/s]\n",
      "\n",
      " 72%|███████▏  |hs-brain-datasets/dvc/file8.89M/12.3M [00:13<00:06,     519kB/s]\n",
      "\n",
      " 73%|███████▎  |hs-brain-datasets/dvc/file9.00M/12.3M [00:13<00:07,     468kB/s]\n",
      "\n",
      " 74%|███████▍  |hs-brain-datasets/dvc/file9.09M/12.3M [00:13<00:06,     516kB/s]\n",
      "\n",
      " 75%|███████▍  |hs-brain-datasets/dvc/file9.14M/12.3M [00:14<00:06,     478kB/s]\n",
      "\n",
      " 75%|███████▌  |hs-brain-datasets/dvc/file9.22M/12.3M [00:14<00:06,     509kB/s]\n",
      "\n",
      " 76%|███████▌  |hs-brain-datasets/dvc/file9.29M/12.3M [00:14<00:06,     454kB/s]\n",
      "\n",
      " 76%|███████▋  |hs-brain-datasets/dvc/file9.35M/12.3M [00:14<00:06,     464kB/s]\n",
      "\n",
      " 77%|███████▋  |hs-brain-datasets/dvc/file9.42M/12.3M [00:14<00:06,     473kB/s]\n",
      "\n",
      " 77%|███████▋  |hs-brain-datasets/dvc/file9.47M/12.3M [00:14<00:07,     370kB/s]\n",
      "\n",
      " 78%|███████▊  |hs-brain-datasets/dvc/file9.53M/12.3M [00:15<00:07,     400kB/s]\n",
      "\n",
      " 78%|███████▊  |hs-brain-datasets/dvc/file9.62M/12.3M [00:15<00:06,     453kB/s]\n",
      "\n",
      " 79%|███████▉  |hs-brain-datasets/dvc/file9.68M/12.3M [00:15<00:06,     396kB/s]\n",
      "\n",
      " 80%|███████▉  |hs-brain-datasets/dvc/file9.77M/12.3M [00:15<00:05,     447kB/s]\n",
      "\n",
      " 80%|████████  |hs-brain-datasets/dvc/file9.83M/12.3M [00:15<00:05,     457kB/s]\n",
      "\n",
      " 81%|████████  |hs-brain-datasets/dvc/file9.90M/12.3M [00:15<00:05,     465kB/s]\n",
      "\n",
      " 81%|████████  |hs-brain-datasets/dvc/file9.95M/12.3M [00:16<00:05,     438kB/s]\n",
      "\n",
      " 82%|████████▏ |hs-brain-datasets/dvc/file10.0M/12.3M [00:16<00:05,     416kB/s]\n",
      "\n",
      " 82%|████████▏ |hs-brain-datasets/dvc/file10.1M/12.3M [00:16<00:05,     434kB/s]\n",
      "\n",
      " 83%|████████▎ |hs-brain-datasets/dvc/file10.2M/12.3M [00:16<00:04,     451kB/s]\n",
      "\n",
      " 83%|████████▎ |hs-brain-datasets/dvc/file10.2M/12.3M [00:16<00:04,     467kB/s]\n",
      "\n",
      " 84%|████████▍ |hs-brain-datasets/dvc/file10.3M/12.3M [00:16<00:04,     475kB/s]\n",
      "\n",
      " 85%|████████▍ |hs-brain-datasets/dvc/file10.4M/12.3M [00:16<00:03,     518kB/s]\n",
      "\n",
      " 85%|████████▌ |hs-brain-datasets/dvc/file10.4M/12.3M [00:17<00:03,     536kB/s]\n",
      "\n",
      " 85%|████████▌ |hs-brain-datasets/dvc/file10.5M/12.3M [00:17<00:04,     453kB/s]\n",
      "\n",
      " 86%|████████▌ |hs-brain-datasets/dvc/file10.5M/12.3M [00:17<00:03,     502kB/s]\n",
      "\n",
      " 87%|████████▋ |hs-brain-datasets/dvc/file10.6M/12.3M [00:17<00:03,     500kB/s]\n",
      "\n",
      " 87%|████████▋ |hs-brain-datasets/dvc/file10.7M/12.3M [00:17<00:03,     416kB/s]\n",
      "\n",
      " 88%|████████▊ |hs-brain-datasets/dvc/file10.8M/12.3M [00:17<00:03,     467kB/s]\n",
      "\n",
      " 88%|████████▊ |hs-brain-datasets/dvc/file10.8M/12.3M [00:17<00:02,     508kB/s]\n",
      "\n",
      " 89%|████████▊ |hs-brain-datasets/dvc/file10.9M/12.3M [00:18<00:03,     473kB/s]\n",
      "\n",
      " 89%|████████▉ |hs-brain-datasets/dvc/file11.0M/12.3M [00:18<00:02,     475kB/s]\n",
      "\n",
      " 90%|████████▉ |hs-brain-datasets/dvc/file11.0M/12.3M [00:18<00:02,     519kB/s]\n",
      "\n",
      " 91%|█████████ |hs-brain-datasets/dvc/file11.1M/12.3M [00:18<00:02,     450kB/s]\n",
      "\n",
      " 91%|█████████▏|hs-brain-datasets/dvc/file11.2M/12.3M [00:18<00:02,     490kB/s]\n",
      "\n",
      " 92%|█████████▏|hs-brain-datasets/dvc/file11.3M/12.3M [00:18<00:02,     502kB/s]\n",
      "\n",
      " 93%|█████████▎|hs-brain-datasets/dvc/file11.4M/12.3M [00:19<00:01,     588kB/s]\n",
      "\n",
      " 93%|█████████▎|hs-brain-datasets/dvc/file11.4M/12.3M [00:19<00:01,     477kB/s]\n",
      "\n",
      " 94%|█████████▍|hs-brain-datasets/dvc/file11.5M/12.3M [00:19<00:01,     511kB/s]\n",
      "\n",
      " 95%|█████████▍|hs-brain-datasets/dvc/file11.6M/12.3M [00:19<00:01,     541kB/s]\n",
      "\n",
      " 95%|█████████▌|hs-brain-datasets/dvc/file11.7M/12.3M [00:19<00:01,     561kB/s]\n",
      "\n",
      " 96%|█████████▌|hs-brain-datasets/dvc/file11.7M/12.3M [00:19<00:00,     548kB/s]\n",
      "\n",
      " 96%|█████████▋|hs-brain-datasets/dvc/file11.8M/12.3M [00:19<00:00,     566kB/s]\n",
      "\n",
      " 97%|█████████▋|hs-brain-datasets/dvc/file11.9M/12.3M [00:20<00:00,     581kB/s]\n",
      "\n",
      " 98%|█████████▊|hs-brain-datasets/dvc/file12.0M/12.3M [00:20<00:00,     604kB/s]\n",
      "\n",
      " 98%|█████████▊|hs-brain-datasets/dvc/file12.1M/12.3M [00:20<00:00,     608kB/s]\n",
      "\n",
      " 99%|█████████▊|hs-brain-datasets/dvc/file12.1M/12.3M [00:20<00:00,     530kB/s]\n",
      "\n",
      "100%|█████████▉|hs-brain-datasets/dvc/file12.2M/12.3M [00:20<00:00,     597kB/s]\n",
      "\n",
      "                                                                                \n",
      "100%|██████████|Fetching from s3                  2/2 [00:22<00:00, 12.73s/file]\n",
      "\n",
      "!\n",
      "\n",
      "  0%|          |hs-brain-datasets/dvc/files/md5/10.00/156 [00:00<?,        ?B/s]\n",
      "\n",
      "                                                                                \n",
      "  0%|          |Fetching from s3                  3/? [00:22<00:00,  7.04s/file]\n",
      "Fetching                                                                        \n",
      "Building workspace index          |7.00 [00:00,  106entry/s]\n",
      "Comparing indexes          |7.00 [00:00, 1.52kentry/s]\n",
      "Applying changes          |2.00 [00:00, 2.47kfile/s]\n"
     ]
    },
    {
     "name": "stdout",
     "output_type": "stream",
     "text": [
      "M       fetch_evaluation_tokyo/data/\n",
      "1 file modified and 3 files fetched\n"
     ]
    }
   ],
   "source": [
    "dataset_manager = get_dataset_manager()\n",
    "dataset = list(dataset_manager.load('fetch_evaluation_' + account))"
   ]
  },
  {
   "cell_type": "code",
   "execution_count": null,
   "id": "2fead9dc-0b60-45df-adaf-ae389cc4c138",
   "metadata": {
    "tags": []
   },
   "outputs": [],
   "source": [
    "dataset[0]['talents'][0]['e']"
   ]
  },
  {
   "cell_type": "code",
   "execution_count": null,
   "id": "720bc03f-87fa-4a85-aeed-fffe8d2aeb94",
   "metadata": {
    "tags": []
   },
   "outputs": [],
   "source": [
    "for x in dataset[0]['talents'][0]['talent_sources']:\n",
    "    print(x['source'])"
   ]
  },
  {
   "cell_type": "code",
   "execution_count": 5,
   "id": "3d5fa907-6c33-4c02-966d-8af4f018671a",
   "metadata": {
    "tags": []
   },
   "outputs": [
    {
     "name": "stdout",
     "output_type": "stream",
     "text": [
      "Found credentials in shared credentials file: ~/.aws/credentials\n"
     ]
    }
   ],
   "source": [
    "brain_es = get_elastic_search_client('production_brain', tries=4, application='fast_fetch')"
   ]
  },
  {
   "cell_type": "code",
   "execution_count": null,
   "id": "ce091558-dcb9-470b-a6a7-24bf05c3f8e9",
   "metadata": {
    "tags": []
   },
   "outputs": [],
   "source": [
    "mongo = gmcdb('production_brain', account)"
   ]
  },
  {
   "cell_type": "code",
   "execution_count": 12,
   "id": "0af5f859-cd2f-4b22-8e1a-ea068c515263",
   "metadata": {
    "tags": []
   },
   "outputs": [
    {
     "name": "stdout",
     "output_type": "stream",
     "text": [
      "tokyo_fast_fetch_production_brain_baseline_jan_12_2_active\n"
     ]
    }
   ],
   "source": [
    "for index_name, data in brain_es.indices.get_alias('*').items():\n",
    "    if account in index_name and tag in index_name:\n",
    "        print(index_name)\n",
    "        break"
   ]
  },
  {
   "cell_type": "code",
   "execution_count": 7,
   "id": "1a31aeee-4e87-4247-9bc4-3fcfc2e5ad91",
   "metadata": {
    "tags": []
   },
   "outputs": [],
   "source": [
    "cands_dict = defaultdict(list)\n",
    "for req_and_talents in dataset:\n",
    "    for talent in req_and_talents['talents']:\n",
    "        cands_dict[talent['evaluation_group']].append(talent['current_talent_id'])"
   ]
  },
  {
   "cell_type": "code",
   "execution_count": null,
   "id": "94031cdb-9daa-4220-9ef5-e74ca42c6e7e",
   "metadata": {
    "tags": []
   },
   "outputs": [],
   "source": [
    "for cands_group, cands in cands_dict.items():\n",
    "    print(cands_group, len(mongo['application_' + tag].distinct('current_talent_id', {'current_talent_id': {'$in': cands}})), '/', len(cands))"
   ]
  },
  {
   "cell_type": "code",
   "execution_count": null,
   "id": "a682d6c8-29e2-43da-a396-295de67f2a04",
   "metadata": {
    "tags": []
   },
   "outputs": [],
   "source": [
    "original_req_ids = set()\n",
    "cands_data = {}\n",
    "for req_and_talents in dataset:\n",
    "    req = req_and_talents['req']\n",
    "    talents = req_and_talents['talents']\n",
    "    for talent in req_and_talents['talents']:\n",
    "        if talent['original_req_id']:\n",
    "            talent_id = talent['current_talent_id']\n",
    "            req_id = talent['original_req_id']\n",
    "            original_req_ids.add(req_id)\n",
    "            cands_data[talent_id] = talent\n",
    "            cands_data[talent_id]['req_id'] = req_id\n",
    "original_req_ids  = list(set(original_req_ids))\n",
    "len(original_req_ids)"
   ]
  },
  {
   "cell_type": "code",
   "execution_count": null,
   "id": "11160e4f-a471-4e15-b870-0567ccab66d1",
   "metadata": {
    "tags": []
   },
   "outputs": [],
   "source": [
    "for req_and_talents in dataset:\n",
    "    req = req_and_talents['req']\n",
    "    talents = req_and_talents['talents']\n",
    "    print(req['_id'], len(talents))"
   ]
  },
  {
   "cell_type": "code",
   "execution_count": null,
   "id": "06b62351-9df3-440f-8f28-4192531d64b4",
   "metadata": {
    "tags": []
   },
   "outputs": [],
   "source": [
    "mongo['req_' + tag].count_documents({'_id': {'$in': original_req_ids}}), '/', len(original_req_ids)"
   ]
  },
  {
   "cell_type": "code",
   "execution_count": null,
   "id": "a53ef25b-fe9e-4f79-99ef-0f281a16ab0c",
   "metadata": {
    "tags": []
   },
   "outputs": [],
   "source": [
    "all_req_ids = list(set([r['req']['_id'] for r in dataset]))\n",
    "len(all_req_ids)"
   ]
  },
  {
   "cell_type": "code",
   "execution_count": null,
   "id": "348d2b56-d5c7-494f-ba7e-4c7c19dc026f",
   "metadata": {
    "tags": []
   },
   "outputs": [],
   "source": [
    "print(mongo['req_' + tag].count_documents({'_id': {'$in': all_req_ids}}), '/', len(all_req_ids))"
   ]
  },
  {
   "cell_type": "code",
   "execution_count": 14,
   "id": "f200e3c8-cd5e-475c-9e18-c48cbf878d60",
   "metadata": {
    "tags": []
   },
   "outputs": [
    {
     "name": "stdout",
     "output_type": "stream",
     "text": [
      "rejected 159 / 159\n",
      "offer 159 / 159\n",
      "random 146 / 146\n",
      "random_out_category 144 / 144\n",
      "random_in_category 140 / 140\n"
     ]
    }
   ],
   "source": [
    "missing = defaultdict(set)\n",
    "for cands_group, cands in cands_dict.items():\n",
    "    q = {\n",
    "        '_source': ['current_talent_id'],\n",
    "        'query': {'bool': {'filter':\n",
    "                               [\n",
    "                                   {\"bool\":\n",
    "                                       {\"filter\":\n",
    "                                           {\"terms\": {\n",
    "                                               'current_talent_id': cands}}\n",
    "                                       }\n",
    "                                   }\n",
    "                               ]\n",
    "        }\n",
    "        }\n",
    "    }\n",
    "    res = brain_es.search(index=index_name, body=q, size=5000)\n",
    "    talent_ids = [h['_source']['current_talent_id'] for h in res['hits']['hits']]\n",
    "    print(cands_group, len(set(talent_ids)), '/', len(set(cands)))\n",
    "    \n",
    "    missing[cands_group] = set(cands) - set(talent_ids)"
   ]
  },
  {
   "cell_type": "code",
   "execution_count": null,
   "id": "84efd744-e9c7-4af4-bda7-f2683f1faedf",
   "metadata": {
    "tags": []
   },
   "outputs": [],
   "source": [
    "talent_id = list(missing['offer'])[0]"
   ]
  },
  {
   "cell_type": "code",
   "execution_count": null,
   "id": "f0022694-f780-4ba2-aeb9-8e0f6c443382",
   "metadata": {
    "tags": []
   },
   "outputs": [],
   "source": [
    "apps = list(mongo['application_' + tag].find({'current_talent_id': talent_id}))\n",
    "len(app)"
   ]
  },
  {
   "cell_type": "code",
   "execution_count": null,
   "id": "deeb486b-e291-44a6-b468-b3621919ff29",
   "metadata": {
    "tags": []
   },
   "outputs": [],
   "source": [
    "list(missing['random'])[0]"
   ]
  },
  {
   "cell_type": "code",
   "execution_count": null,
   "id": "45cb0e6a-a3b9-40a0-8a4c-4d8f4e16a76f",
   "metadata": {
    "tags": []
   },
   "outputs": [],
   "source": [
    "req_id = app['req_id']\n",
    "req_id"
   ]
  },
  {
   "cell_type": "code",
   "execution_count": null,
   "id": "259160dc-c2b8-431c-9cb0-13bf4d7501d0",
   "metadata": {
    "tags": []
   },
   "outputs": [],
   "source": [
    "req = mongo['req_' + tag].find_one(req_id)\n",
    "bool(req)"
   ]
  },
  {
   "cell_type": "code",
   "execution_count": null,
   "id": "ff4c3840-bad1-4d15-8c71-a9524abce3c6",
   "metadata": {
    "tags": []
   },
   "outputs": [],
   "source": [
    "dataset[0]['talents'][0].keys()"
   ]
  },
  {
   "cell_type": "code",
   "execution_count": null,
   "id": "a43aae69-a4f4-4d75-9f3f-232c9e2ba77a",
   "metadata": {
    "tags": []
   },
   "outputs": [],
   "source": [
    "dataset[0]['talents'][0]['talent'].keys()"
   ]
  },
  {
   "cell_type": "code",
   "execution_count": null,
   "id": "475700dd-43ae-4f31-9e3f-67940614a3d6",
   "metadata": {
    "tags": []
   },
   "outputs": [],
   "source": [
    "workflow_factory = PastCandidatesWorkflowsFactory(LoggingService(), 'production_brain', 'moscow')"
   ]
  },
  {
   "cell_type": "code",
   "execution_count": null,
   "id": "62239a98-c54f-4011-a2bb-3004c46bee29",
   "metadata": {
    "tags": []
   },
   "outputs": [],
   "source": [
    "account_config = get_fetch_config('moscow', country=None)"
   ]
  },
  {
   "cell_type": "code",
   "execution_count": null,
   "id": "21138dcd-a3fd-428d-b58c-e6f480319398",
   "metadata": {
    "tags": []
   },
   "outputs": [],
   "source": [
    "account_config.get_max_days_since_apply_for_load()"
   ]
  },
  {
   "cell_type": "code",
   "execution_count": null,
   "id": "89f42fa0-5441-4c3d-99ae-3c4d021a3dd8",
   "metadata": {
    "tags": []
   },
   "outputs": [],
   "source": [
    "mongo = gmcdb('production_brain', 'moscow')"
   ]
  },
  {
   "cell_type": "code",
   "execution_count": null,
   "id": "20a53496-9ce8-40dc-877e-c01ec1cd8f01",
   "metadata": {
    "tags": []
   },
   "outputs": [],
   "source": [
    "prod_mongo = gmcdb('production', 'moscow')"
   ]
  },
  {
   "cell_type": "code",
   "execution_count": null,
   "id": "36e5ebc0-a64a-4b76-ae9d-946b5e424bf5",
   "metadata": {
    "tags": []
   },
   "outputs": [],
   "source": [
    "apps = list(prod_mongo.application.find({'current_talent_id': {'$in': cands}}, ['date_applied']))"
   ]
  },
  {
   "cell_type": "code",
   "execution_count": null,
   "id": "683d51e3-a57e-446c-9153-2d370f3dc422",
   "metadata": {
    "tags": []
   },
   "outputs": [],
   "source": [
    "from collections import Counter"
   ]
  },
  {
   "cell_type": "code",
   "execution_count": null,
   "id": "d1ec9501-53e2-4d96-b9f9-75d9fca39cea",
   "metadata": {
    "tags": []
   },
   "outputs": [],
   "source": [
    "Counter(a['date_applied'].year for a in apps).most_common()"
   ]
  },
  {
   "cell_type": "code",
   "execution_count": null,
   "id": "8ddbbddd-6196-42f6-a8c2-99a74a6844f8",
   "metadata": {
    "tags": []
   },
   "outputs": [],
   "source": [
    "from hs_tree_blenders_creation.batch_runners.batch_runs_data_layer import get_fetch_data_layer\n",
    "from hs_fetch.data_access.potential_candidate_loading.loader_strategies import DataLayerLoaderStrategy"
   ]
  },
  {
   "cell_type": "code",
   "execution_count": null,
   "id": "718f65a9-ebf8-4e50-b9e6-4af889c2d493",
   "metadata": {
    "tags": []
   },
   "outputs": [],
   "source": [
    "dl = get_fetch_data_layer(\n",
    "        'moscow',\n",
    "        environment='production_brain',\n",
    "        req_input_tag='cosine_2',\n",
    "        talent_input_tag='cosine_2',\n",
    "    )"
   ]
  },
  {
   "cell_type": "code",
   "execution_count": null,
   "id": "7539b820-bf18-45c9-bb47-9ac5d341ed05",
   "metadata": {
    "tags": []
   },
   "outputs": [],
   "source": [
    "indexing_workflow = workflow_factory.create_index_candidates_for_fast_fetch_workflow(\n",
    "                account_config.get_max_days_since_apply_for_load(), \n",
    "                datetime.today(), '',\n",
    "                logging_service=LoggingService(), \n",
    "                loader_strategy=DataLayerLoaderStrategy(dl), es_tag='test')"
   ]
  },
  {
   "cell_type": "code",
   "execution_count": null,
   "id": "68db5449-bb0c-4d0f-a221-e50713a355da",
   "metadata": {
    "tags": []
   },
   "outputs": [],
   "source": [
    "res = indexing_workflow.get_candidate_data(list(missing['rejected'])[-50:], req=None)\n",
    "sum([bool(r) for r in res])"
   ]
  },
  {
   "cell_type": "code",
   "execution_count": null,
   "id": "054a354f-be3a-414f-b303-e74afbadfd42",
   "metadata": {
    "tags": []
   },
   "outputs": [],
   "source": [
    "none_cands = []\n",
    "for c, r in zip(cands[-20:], res):\n",
    "    if not r:\n",
    "        none_cands.append(c)\n",
    "none_cands       "
   ]
  },
  {
   "cell_type": "code",
   "execution_count": null,
   "id": "f35d1b1d-eb04-4a93-94c7-d475e5e141f2",
   "metadata": {
    "tags": []
   },
   "outputs": [],
   "source": [
    "res = indexing_workflow.get_candidate_data(['b617460d-79b1-403b-8dd3-1ab14b3d0735',\n",
    " '0540c11b-7720-4c6c-8fb8-241dbb4f8851',\n",
    " '73b96d80-b07a-4b82-8e16-ec5e30bc5663'], req=None)\n",
    "sum([bool(r) for r in res])"
   ]
  },
  {
   "cell_type": "code",
   "execution_count": null,
   "id": "6725ec27-c16a-408d-b948-519bc478e4dc",
   "metadata": {
    "tags": []
   },
   "outputs": [],
   "source": [
    "class _FetchEvaluationDataset:\n",
    "\n",
    "    FETCH_EVALUATION_DATASET = 'fetch_evaluation'\n",
    "\n",
    "    def __init__(self, version, test_size):\n",
    "        self._version = version\n",
    "        self._test_size = test_size\n",
    "        self._dataset_manager = get_dataset_manager()\n",
    "\n",
    "    def _get_fetch_test_set(self):\n",
    "        return self._dataset_manager.load(self.FETCH_EVALUATION_DATASET, self._version)\n",
    "\n",
    "    def get_test_set_for_account(self, account_id):\n",
    "        all_accounts_test_set = self._get_fetch_test_set()\n",
    "        account_test_set = all_accounts_test_set.get(account_id, {})\n",
    "        return get_dict_sample(account_test_set, self._test_size), account_test_set\n",
    "\n",
    "    def get_version(self):\n",
    "        return self._dataset_manager.get_translated_version(self.FETCH_EVALUATION_DATASET, self._version)"
   ]
  },
  {
   "cell_type": "code",
   "execution_count": null,
   "id": "07f19acd-3e2c-42eb-acef-2ef17a622424",
   "metadata": {
    "tags": []
   },
   "outputs": [],
   "source": [
    "ds = _FetchEvaluationDataset('LATEST', 2000)"
   ]
  },
  {
   "cell_type": "code",
   "execution_count": null,
   "id": "94a95a8a-be27-4b76-96d3-eee09dbee5a8",
   "metadata": {
    "tags": []
   },
   "outputs": [],
   "source": [
    "def get_dict_sample(d, size):\n",
    "    if size is None or len(d) <= size:\n",
    "        return d\n",
    "    keys = get_sample(list(d), size)\n",
    "    values = [d[k] for k in keys]\n",
    "    return dict(zip(keys, values))"
   ]
  },
  {
   "cell_type": "code",
   "execution_count": null,
   "id": "81759f11-7212-4afe-9d23-ba8b04f6fd94",
   "metadata": {
    "tags": []
   },
   "outputs": [],
   "source": [
    "x = ds.get_test_set_for_account('moscow')"
   ]
  },
  {
   "cell_type": "code",
   "execution_count": null,
   "id": "54e7ca48-3702-4a28-9d41-b2180ca8e905",
   "metadata": {
    "tags": []
   },
   "outputs": [],
   "source": [
    "len(x[0])"
   ]
  },
  {
   "cell_type": "code",
   "execution_count": null,
   "id": "ecc9ccb1-d866-4295-9d8e-834986002d47",
   "metadata": {
    "tags": []
   },
   "outputs": [],
   "source": [
    "len(x[1])"
   ]
  },
  {
   "cell_type": "code",
   "execution_count": null,
   "id": "3640d95a-8645-4d13-a9c7-db81453780da",
   "metadata": {
    "tags": []
   },
   "outputs": [],
   "source": [
    "type(x[0])"
   ]
  },
  {
   "cell_type": "code",
   "execution_count": null,
   "id": "90f3e348-6f11-4190-8e2b-b361b5cec26e",
   "metadata": {
    "tags": []
   },
   "outputs": [],
   "source": [
    "req_ids = list(x[0].keys())"
   ]
  },
  {
   "cell_type": "code",
   "execution_count": null,
   "id": "788f9716-2cd2-473e-9cce-e66d3626d352",
   "metadata": {
    "tags": []
   },
   "outputs": [],
   "source": [
    "len(req_ids)"
   ]
  },
  {
   "cell_type": "code",
   "execution_count": null,
   "id": "8a21a5e7-3706-4079-96da-221fa7ca0da2",
   "metadata": {
    "tags": []
   },
   "outputs": [],
   "source": [
    "mongo"
   ]
  },
  {
   "cell_type": "code",
   "execution_count": null,
   "id": "ad4c6622-b599-4c03-b3a2-7f28d2bb6425",
   "metadata": {
    "tags": []
   },
   "outputs": [],
   "source": [
    "mongo_brain = gmcdb('production_brain', 'moscow')"
   ]
  },
  {
   "cell_type": "code",
   "execution_count": null,
   "id": "e9aa5d1d-d1b4-4d2f-ac6c-ccb7796809a0",
   "metadata": {
    "tags": []
   },
   "outputs": [],
   "source": [
    "reqs = list(mongo_brain.req_healthcare_3.find())"
   ]
  },
  {
   "cell_type": "code",
   "execution_count": null,
   "id": "9b1f0bde-32d3-4c9e-a270-8891c65e3497",
   "metadata": {},
   "outputs": [],
   "source": []
  },
  {
   "cell_type": "code",
   "execution_count": null,
   "id": "7d7453bc-47d1-4b9a-8b94-f2224723b172",
   "metadata": {},
   "outputs": [],
   "source": [
    "Counter(r['activation_data']['is_country_supported'] for r in reqs)"
   ]
  },
  {
   "cell_type": "code",
   "execution_count": null,
   "id": "33b974e3-a420-45ab-b9f0-db1c7b87590f",
   "metadata": {
    "tags": []
   },
   "outputs": [],
   "source": [
    "dataset.keys()"
   ]
  },
  {
   "cell_type": "code",
   "execution_count": null,
   "id": "e14bd5c3-4968-485b-8370-e20d17c0f57a",
   "metadata": {
    "tags": []
   },
   "outputs": [],
   "source": [
    "cand_to_group = {}\n",
    "cand_to_req = {}\n",
    "for req, req_cands in dataset['moscow'].items():\n",
    "    for cand, cand_data in req_cands.items():\n",
    "        cand_to_group[cand] = cand_data['evaluation_group']\n",
    "        cand_to_req[cand] = req"
   ]
  },
  {
   "cell_type": "code",
   "execution_count": null,
   "id": "173c40ad-da41-4f1a-bb97-c9c1f3564daf",
   "metadata": {
    "tags": []
   },
   "outputs": [],
   "source": [
    "for c in ['b617460d-79b1-403b-8dd3-1ab14b3d0735',\n",
    " '0540c11b-7720-4c6c-8fb8-241dbb4f8851',\n",
    " '73b96d80-b07a-4b82-8e16-ec5e30bc5663']:\n",
    "    print(c, cand_to_group[c], cand_to_req[c])"
   ]
  },
  {
   "cell_type": "code",
   "execution_count": null,
   "id": "0fe808e2-5450-45c5-bd3d-e1a0f4de0574",
   "metadata": {
    "tags": []
   },
   "outputs": [],
   "source": [
    "from hs_tree_blenders_creation.batch_runners.data_layers.fetch_data_layer import FetchMongoDataLayer"
   ]
  },
  {
   "cell_type": "code",
   "execution_count": null,
   "id": "8a834c98-a61c-474f-a173-139c05b6fa03",
   "metadata": {
    "tags": []
   },
   "outputs": [],
   "source": [
    "dl = FetchMongoDataLayer('moscow', 'production_brain')"
   ]
  },
  {
   "cell_type": "code",
   "execution_count": null,
   "id": "71a8f3ba-206e-40d0-b463-99018c80dd3c",
   "metadata": {
    "tags": []
   },
   "outputs": [],
   "source": [
    "x = list(dl.get_talents_by_source('application', ['b617460d-79b1-403b-8dd3-1ab14b3d0735',\n",
    " '0540c11b-7720-4c6c-8fb8-241dbb4f8851',\n",
    " '73b96d80-b07a-4b82-8e16-ec5e30bc5663']))"
   ]
  },
  {
   "cell_type": "code",
   "execution_count": null,
   "id": "700e2e45-c5f4-4363-8a88-f626ecd23757",
   "metadata": {
    "tags": []
   },
   "outputs": [],
   "source": [
    "len(x)"
   ]
  },
  {
   "cell_type": "code",
   "execution_count": null,
   "id": "ad380935-854a-44fb-aabf-a8190ab28ac8",
   "metadata": {
    "tags": []
   },
   "outputs": [],
   "source": [
    "set(t['current_talent_id'] for t in x)"
   ]
  },
  {
   "cell_type": "code",
   "execution_count": null,
   "id": "e7044445-6ef3-427b-88aa-613d63fcf825",
   "metadata": {
    "tags": []
   },
   "outputs": [],
   "source": [
    "len(dataset['moscow']['MCY895480'])"
   ]
  },
  {
   "cell_type": "code",
   "execution_count": null,
   "id": "b335d561-e2fd-496a-8cfd-68867e3d3ea1",
   "metadata": {
    "tags": []
   },
   "outputs": [],
   "source": [
    "dataset['moscow']['MCY895480']"
   ]
  },
  {
   "cell_type": "code",
   "execution_count": null,
   "id": "5241eb76-de50-44a9-bbb3-1765cf94260b",
   "metadata": {
    "tags": []
   },
   "outputs": [],
   "source": [
    "q = {\n",
    "    '_source': ['current_talent_id'],\n",
    "    'query': {'bool': {'filter':\n",
    "                           [\n",
    "                               {\"bool\":\n",
    "                                   {\"filter\":\n",
    "                                       {\"terms\": {\n",
    "                                           'current_talent_id': ['b617460d-79b1-403b-8dd3-1ab14b3d0735',\n",
    " '0540c11b-7720-4c6c-8fb8-241dbb4f8851',\n",
    " '73b96d80-b07a-4b82-8e16-ec5e30bc5663']}}\n",
    "                                   }\n",
    "                               }\n",
    "                           ]\n",
    "    }\n",
    "    }\n",
    "}\n",
    "\n",
    "res = brain_es.search(index='moscow_fast_fetch_production_brain_healthcare_5_active', body=q, size=5000)\n",
    "talent_ids = [h['_source']['current_talent_id'] for h in res['hits']['hits']]\n",
    "len(talent_ids)"
   ]
  },
  {
   "cell_type": "code",
   "execution_count": null,
   "id": "4c58c57c-c0ae-408e-af1f-24b114b5f132",
   "metadata": {
    "tags": []
   },
   "outputs": [],
   "source": []
  },
  {
   "cell_type": "code",
   "execution_count": null,
   "id": "c1f12e41-8604-4e88-bc0d-dbfcc98b0e17",
   "metadata": {
    "tags": []
   },
   "outputs": [],
   "source": [
    "\n",
    "len(apps)"
   ]
  },
  {
   "cell_type": "code",
   "execution_count": null,
   "id": "0c5af5ae-5d02-4464-9385-18db72d9c50b",
   "metadata": {
    "tags": []
   },
   "outputs": [],
   "source": [
    "from collections import Counter, defaultdict"
   ]
  },
  {
   "cell_type": "code",
   "execution_count": null,
   "id": "2ecc9520-a9e0-483e-ab9b-18556816d16f",
   "metadata": {
    "tags": []
   },
   "outputs": [],
   "source": [
    "cnt = Counter()\n",
    "apps = []\n",
    "reqs = []\n",
    "for account in dataset.keys():\n",
    "    mongo = gmcdb('production_brain', account)\n",
    "    apps += list(mongo.application_healthcare_5.find({}, ['req_id', 'current_talent_id']))\n",
    "    reqs += list(mongo.req_healthcare_5.find({}, ['activation_data']))\n",
    "    \n",
    "print(len(apps))\n",
    "for a in apps:\n",
    "    cnt[a['current_talent_id']] += 1\n",
    "cnt.most_common(5)"
   ]
  },
  {
   "cell_type": "code",
   "execution_count": null,
   "id": "786de266-dc8c-4b59-84f9-ed90222584fa",
   "metadata": {
    "tags": []
   },
   "outputs": [],
   "source": [
    "len(reqs), reqs[0]"
   ]
  },
  {
   "cell_type": "code",
   "execution_count": null,
   "id": "18e77b36-c004-4713-bcaf-bda10eef6d8f",
   "metadata": {
    "tags": []
   },
   "outputs": [],
   "source": [
    "cnts = defaultdict(Counter)\n",
    "for r in reqs:\n",
    "    for k, v in r['activation_data'].items():\n",
    "        cnts[k][v] += 1"
   ]
  },
  {
   "cell_type": "code",
   "execution_count": null,
   "id": "abb1510a-6840-4eff-aafb-1e63af667c97",
   "metadata": {
    "tags": []
   },
   "outputs": [],
   "source": [
    "for k, cnt in cnts.items():\n",
    "    print(k)\n",
    "    print(cnt.most_common(5))\n",
    "    print()"
   ]
  },
  {
   "cell_type": "code",
   "execution_count": null,
   "id": "c6c3416c-b8a6-4229-9a19-b4e3054ab96a",
   "metadata": {},
   "outputs": [],
   "source": [
    "brain_reqs = mongo.req_cosine_2.distinct('_id', {'_id': {'$in': reqs}})"
   ]
  },
  {
   "cell_type": "code",
   "execution_count": null,
   "id": "661c8698-faa7-45fd-9d10-34674c69e36b",
   "metadata": {
    "tags": []
   },
   "outputs": [],
   "source": [
    "prod_mongo.req.count_documents({'_id': {'$in': reqs}})"
   ]
  },
  {
   "cell_type": "code",
   "execution_count": null,
   "id": "244c46b6-ad9e-4515-821e-7090d485af9a",
   "metadata": {
    "tags": []
   },
   "outputs": [],
   "source": [
    "prod_reqs = prod_mongo.req.distinct('_id', {'_id': {'$in': reqs}})"
   ]
  },
  {
   "cell_type": "code",
   "execution_count": null,
   "id": "71daba5d-2f46-486f-9f58-ac83ce306a95",
   "metadata": {
    "tags": []
   },
   "outputs": [],
   "source": [
    "len(brain_reqs)"
   ]
  },
  {
   "cell_type": "code",
   "execution_count": null,
   "id": "bede3a32-d82c-4575-9d67-3dcc9aeca766",
   "metadata": {
    "tags": []
   },
   "outputs": [],
   "source": [
    "len(prod_reqs)"
   ]
  },
  {
   "cell_type": "code",
   "execution_count": null,
   "id": "41b1cf2c-be67-4ab4-aa91-f782f1df2cf3",
   "metadata": {
    "tags": []
   },
   "outputs": [],
   "source": [
    "missing_reqs = list(set(prod_reqs) - set(brain_reqs))\n",
    "len(missing_reqs)"
   ]
  },
  {
   "cell_type": "code",
   "execution_count": null,
   "id": "cda6fe84-0f1b-4386-8635-51fa32238c80",
   "metadata": {
    "tags": []
   },
   "outputs": [],
   "source": [
    "len(prod_mongo.application.distinct('current_talent_id', {'req_id': {'$in': missing_reqs}}))"
   ]
  },
  {
   "cell_type": "code",
   "execution_count": null,
   "id": "caad6c4d-e4b6-418f-a6f2-53a89ed0263b",
   "metadata": {
    "tags": []
   },
   "outputs": [],
   "source": [
    "len(mongo.application_cosine_2.distinct('current_talent_id'))"
   ]
  },
  {
   "cell_type": "code",
   "execution_count": null,
   "id": "af03f2fd-45fc-4f2a-bfa4-d097dd899abc",
   "metadata": {
    "tags": []
   },
   "outputs": [],
   "source": [
    "mongo.application_cosine_2.find_one({'current_talent_id': '06d978f6-ed46-4dc4-b575-2b086506f9d9'})"
   ]
  },
  {
   "cell_type": "code",
   "execution_count": null,
   "id": "ba6aa7b9-b0e5-4d07-a687-971f28ab2540",
   "metadata": {
    "tags": []
   },
   "outputs": [],
   "source": [
    "'b617460d-79b1-403b-8dd3-1ab14b3d0735' in cands"
   ]
  },
  {
   "cell_type": "code",
   "execution_count": null,
   "id": "b5c96fb6-c837-4308-91f8-492c91e6bfed",
   "metadata": {
    "tags": []
   },
   "outputs": [],
   "source": [
    "in_mongo = set(mongo.application_cosine_2.distinct('current_talent_id'))\n",
    "len(in_mongo)"
   ]
  },
  {
   "cell_type": "code",
   "execution_count": null,
   "id": "f6f0a668-6281-4f8c-83f9-82d4865aba69",
   "metadata": {
    "tags": []
   },
   "outputs": [],
   "source": [
    "in_mongo.issubset(set(cands))"
   ]
  },
  {
   "cell_type": "code",
   "execution_count": null,
   "id": "22f26a24-c840-49f4-9f2a-f9f46b794070",
   "metadata": {
    "tags": []
   },
   "outputs": [],
   "source": [
    "list(in_mongo - set(cands))[:10]"
   ]
  },
  {
   "cell_type": "code",
   "execution_count": null,
   "id": "2d03fe65-17e9-456e-87c4-8190b86ba572",
   "metadata": {
    "tags": []
   },
   "outputs": [],
   "source": [
    "len(set(cands) - in_mongo)"
   ]
  },
  {
   "cell_type": "code",
   "execution_count": null,
   "id": "0f99bfc1-46a8-4d50-a732-282af5601b12",
   "metadata": {
    "tags": []
   },
   "outputs": [],
   "source": [
    "'67aa433a-2126-401b-a328-047703ffdd94' in cands"
   ]
  },
  {
   "cell_type": "code",
   "execution_count": null,
   "id": "96dd352d-6fd7-4c18-8a0f-3057ac3c2400",
   "metadata": {
    "tags": []
   },
   "outputs": [],
   "source": [
    "mongo.req_cosine_2.count_documents({'_id': {'$in': ['MCY810112',\n",
    " 'MCY816066',\n",
    " 'MCY803076',\n",
    " 'MCY831880',\n",
    " 'MCY835696',\n",
    " 'MCY794664',\n",
    " 'MCY824999',\n",
    " 'MCY829242',\n",
    " 'MCY798899',\n",
    " 'MCY813109',\n",
    " 'MCY835204',\n",
    " 'MCY798803',\n",
    " 'MCY831260',\n",
    " 'MCY837050',\n",
    " 'MCY817412',\n",
    " 'MCY837329',\n",
    " 'MCY795810',\n",
    " 'MCY798265',\n",
    " 'MCY799975',\n",
    " 'MCY795908',\n",
    " 'MCY829146',\n",
    " 'MCY800432',\n",
    " 'MCY835313',\n",
    " 'MCY816373',\n",
    " 'MCY821455',\n",
    " 'MCY807867',\n",
    " 'MCY796256',\n",
    " 'MCY832782',\n",
    " 'MCY835742',\n",
    " 'MCY835103',\n",
    " 'MCY830709',\n",
    " 'MCY809630',\n",
    " 'MCY850318',\n",
    " 'MCY834483',\n",
    " 'MCY843129',\n",
    " 'MCY826616',\n",
    " 'MCY798612',\n",
    " 'MCY806073',\n",
    " 'MCY795166',\n",
    " 'MCY821039',\n",
    " 'MCY804847',\n",
    " 'MCY816521',\n",
    " 'MCY835775',\n",
    " 'MCY798206',\n",
    " 'MCY800475',\n",
    " 'MCY799269',\n",
    " 'MCY834119',\n",
    " 'MCY831423',\n",
    " 'MCY804846',\n",
    " 'MCY798532',\n",
    " 'MCY798732']}})"
   ]
  },
  {
   "cell_type": "code",
   "execution_count": null,
   "id": "535403a7-4564-4f4c-b496-f634fe6a468a",
   "metadata": {
    "tags": []
   },
   "outputs": [],
   "source": [
    "from hs_fetch.fast_fetch.fast_fetch_indexing import FastFetchIndexing"
   ]
  },
  {
   "cell_type": "code",
   "execution_count": null,
   "id": "ec1b7e59-eaa5-4fce-8035-b3320dc8311b",
   "metadata": {
    "tags": []
   },
   "outputs": [],
   "source": [
    "indexing = FastFetchIndexing('moscow', 'production', None)"
   ]
  },
  {
   "cell_type": "code",
   "execution_count": null,
   "id": "23bd3c67-631e-4ab9-a378-164299da9b56",
   "metadata": {},
   "outputs": [],
   "source": [
    "res = indexing.get_cand"
   ]
  },
  {
   "cell_type": "code",
   "execution_count": null,
   "id": "fe367bb2-3b39-4718-ae13-304d243bb21a",
   "metadata": {
    "tags": []
   },
   "outputs": [],
   "source": [
    "len(missing['offer'])"
   ]
  },
  {
   "cell_type": "code",
   "execution_count": null,
   "id": "3e4d17fa-59c1-4863-87b5-623d2d33990e",
   "metadata": {
    "tags": []
   },
   "outputs": [],
   "source": [
    "cands_data['0898f140-8343-41a7-adb1-bbd267bbb995']"
   ]
  },
  {
   "cell_type": "code",
   "execution_count": null,
   "id": "eaa2bb47-bdf9-4224-9ee4-ec18025d8f59",
   "metadata": {},
   "outputs": [],
   "source": [
    "dataset['athens']['ALL117991']"
   ]
  },
  {
   "cell_type": "code",
   "execution_count": null,
   "id": "30e65098-3743-4772-9c2d-855eb404ea2a",
   "metadata": {
    "tags": []
   },
   "outputs": [],
   "source": [
    "'ALL117991' in original_req_ids"
   ]
  },
  {
   "cell_type": "code",
   "execution_count": null,
   "id": "e3ef5fda-382e-4276-87f4-a626581e9e4c",
   "metadata": {
    "tags": []
   },
   "outputs": [],
   "source": [
    "for r, r_data in dataset['athens'].items():\n",
    "    for c, c_data in r_data.items():\n",
    "        if c_data['original_req_id'] == 'ALL117991':\n",
    "            print(r, c, c_data)\n",
    "            print()"
   ]
  },
  {
   "cell_type": "code",
   "execution_count": null,
   "id": "dee8f4fe-7772-46e8-99f9-d8f1a61d93a8",
   "metadata": {},
   "outputs": [],
   "source": [
    "d = {\n",
    "    1: 'one',\n",
    "    "
   ]
  },
  {
   "cell_type": "code",
   "execution_count": null,
   "id": "c550c863-c0e8-4d82-8760-e32cec09daf6",
   "metadata": {},
   "outputs": [],
   "source": []
  },
  {
   "cell_type": "code",
   "execution_count": null,
   "id": "af2425f5-926d-4d81-a3e1-7db913bc5781",
   "metadata": {},
   "outputs": [],
   "source": []
  },
  {
   "cell_type": "code",
   "execution_count": null,
   "id": "b67a2278-ef14-4148-aa47-57d1adc6c6d1",
   "metadata": {},
   "outputs": [],
   "source": []
  },
  {
   "cell_type": "code",
   "execution_count": null,
   "id": "528cfb06-cb1d-44d6-9a98-f0b6f09520b8",
   "metadata": {
    "tags": []
   },
   "outputs": [],
   "source": [
    "{\n",
    "    'req': xxx,\n",
    "    'talents': \n",
    "    [\n",
    "        {\n",
    "            'current_talent_id': xxx,\n",
    "            'evaluation_group': xxx,\n",
    "            'applications': [\n",
    "                { \n",
    "                    'app': app,\n",
    "                    'original_req' original_req\n",
    "                },\n",
    "            ],\n",
    "            'crm_candidates': [],\n",
    "            'empoyees': [],         \n",
    "        }   \n",
    "    ]\n",
    "}"
   ]
  },
  {
   "cell_type": "code",
   "execution_count": null,
   "id": "5f4531d5-2637-4eb5-be66-a27545f305e5",
   "metadata": {
    "tags": []
   },
   "outputs": [],
   "source": [
    "cnt = Counter()\n",
    "for req_and_talents in dataset:\n",
    "    for t in req_and_talents['talents']:\n",
    "        cnt[len(t['talent_sources'])] += 1"
   ]
  },
  {
   "cell_type": "code",
   "execution_count": null,
   "id": "cbface37-9076-4611-bc94-7ed0430cb579",
   "metadata": {
    "tags": []
   },
   "outputs": [],
   "source": [
    "cnt.most_common()"
   ]
  },
  {
   "cell_type": "code",
   "execution_count": null,
   "id": "3094b0b0-3333-4133-b25e-c6745d9f1ecc",
   "metadata": {},
   "outputs": [],
   "source": [
    "for req_and_talents in dataset:\n",
    "    req = req_and_talents['req']\n",
    "    if req['_id'] == 'TRN2003814':\n",
    "        print('found')\n",
    "        break"
   ]
  },
  {
   "cell_type": "code",
   "execution_count": null,
   "id": "5fb3ac56-63e0-4c02-a804-ea110e659673",
   "metadata": {
    "tags": []
   },
   "outputs": [],
   "source": [
    "talents = req_and_talents['talents']"
   ]
  },
  {
   "cell_type": "code",
   "execution_count": null,
   "id": "64b39c8b-3eac-4f74-8577-050a202191de",
   "metadata": {
    "tags": []
   },
   "outputs": [],
   "source": [
    "for talent in talents:\n",
    "    if talent['current_talent_id'] == 'b522ff92-5eb5-4f60-9edf-2f19298fd9b1':\n",
    "        print('found')\n",
    "        break"
   ]
  },
  {
   "cell_type": "code",
   "execution_count": null,
   "id": "a13bc4b1-6deb-4f3d-986f-9819adb771f0",
   "metadata": {
    "tags": []
   },
   "outputs": [],
   "source": [
    "talent.keys()"
   ]
  },
  {
   "cell_type": "code",
   "execution_count": null,
   "id": "0761cb7d-5882-471c-a5fe-c39daa6e53d8",
   "metadata": {
    "tags": []
   },
   "outputs": [],
   "source": [
    "talent['talent_sources'][0]"
   ]
  },
  {
   "cell_type": "code",
   "execution_count": null,
   "id": "7bb5d4ea-7727-4202-b31d-8712ed61f250",
   "metadata": {},
   "outputs": [],
   "source": []
  }
 ],
 "metadata": {
  "kernelspec": {
   "display_name": "Python 3 (ipykernel)",
   "language": "python",
   "name": "python3"
  },
  "language_info": {
   "codemirror_mode": {
    "name": "ipython",
    "version": 3
   },
   "file_extension": ".py",
   "mimetype": "text/x-python",
   "name": "python",
   "nbconvert_exporter": "python",
   "pygments_lexer": "ipython3",
   "version": "3.9.5"
  }
 },
 "nbformat": 4,
 "nbformat_minor": 5
}
