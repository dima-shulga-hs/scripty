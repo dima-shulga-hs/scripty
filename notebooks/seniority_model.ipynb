{
 "cells": [
  {
   "cell_type": "code",
   "execution_count": 1,
   "id": "10d1afdf-bde0-4f55-aef5-9aae474b7675",
   "metadata": {
    "tags": []
   },
   "outputs": [
    {
     "name": "stderr",
     "output_type": "stream",
     "text": [
      "/Users/dima/.virtualenvs/hs/lib/python3.9/site-packages/xgboost/compat.py:31: FutureWarning: pandas.Int64Index is deprecated and will be removed from pandas in a future version. Use pandas.Index with the appropriate dtype instead.\n",
      "  from pandas import MultiIndex, Int64Index\n"
     ]
    }
   ],
   "source": [
    "from hs_algorithms.seniority.seniority_matching_model import SeniorityMatchingModel"
   ]
  },
  {
   "cell_type": "code",
   "execution_count": 2,
   "id": "c0268ece-d774-47f1-a389-084ea2c8b700",
   "metadata": {
    "tags": []
   },
   "outputs": [],
   "source": [
    "model = SeniorityMatchingModel()"
   ]
  },
  {
   "cell_type": "code",
   "execution_count": 29,
   "id": "79404760-0ac9-4329-aeee-4499c359ca88",
   "metadata": {
    "tags": []
   },
   "outputs": [
    {
     "data": {
      "text/plain": [
       "(2777, 5)"
      ]
     },
     "execution_count": 29,
     "metadata": {},
     "output_type": "execute_result"
    }
   ],
   "source": [
    "apps_df = pd.read_excel('/Users/dima/hiredscore/brain_models_creation/seniority_model/data/seniority_app_tagging.xlsx').dropna()\n",
    "apps_df.shape"
   ]
  },
  {
   "cell_type": "code",
   "execution_count": 30,
   "id": "8842b2c5-97f0-4937-816c-9bf1f7b42ec5",
   "metadata": {
    "tags": []
   },
   "outputs": [
    {
     "data": {
      "text/html": [
       "<div>\n",
       "<style scoped>\n",
       "    .dataframe tbody tr th:only-of-type {\n",
       "        vertical-align: middle;\n",
       "    }\n",
       "\n",
       "    .dataframe tbody tr th {\n",
       "        vertical-align: top;\n",
       "    }\n",
       "\n",
       "    .dataframe thead th {\n",
       "        text-align: right;\n",
       "    }\n",
       "</style>\n",
       "<table border=\"1\" class=\"dataframe\">\n",
       "  <thead>\n",
       "    <tr style=\"text-align: right;\">\n",
       "      <th></th>\n",
       "      <th>Unnamed: 0</th>\n",
       "      <th>title</th>\n",
       "      <th>description</th>\n",
       "      <th>management_seniority</th>\n",
       "      <th>professional_seniority</th>\n",
       "    </tr>\n",
       "  </thead>\n",
       "  <tbody>\n",
       "    <tr>\n",
       "      <th>0</th>\n",
       "      <td>2</td>\n",
       "      <td>Oracle - Senior Member of Technical Staff</td>\n",
       "      <td>Oracle - Senior Member of Technical Staff 06/2...</td>\n",
       "      <td>Individual contributor</td>\n",
       "      <td>Senior</td>\n",
       "    </tr>\n",
       "    <tr>\n",
       "      <th>1</th>\n",
       "      <td>3</td>\n",
       "      <td>Application Developer Associate</td>\n",
       "      <td>Application Developer Associate J.P.Morgan Cha...</td>\n",
       "      <td>Individual contributor</td>\n",
       "      <td>Junior</td>\n",
       "    </tr>\n",
       "    <tr>\n",
       "      <th>2</th>\n",
       "      <td>4</td>\n",
       "      <td>Senior Application Developer</td>\n",
       "      <td>INAUTIX TECHNOLOGIES (BANK OF NEW YORK MELLON)...</td>\n",
       "      <td>Individual contributor</td>\n",
       "      <td>Senior</td>\n",
       "    </tr>\n",
       "    <tr>\n",
       "      <th>3</th>\n",
       "      <td>5</td>\n",
       "      <td>Senior Software Engineer</td>\n",
       "      <td>Senior Software Engineer at Citrix, Santa Barb...</td>\n",
       "      <td>Individual contributor</td>\n",
       "      <td>Senior</td>\n",
       "    </tr>\n",
       "    <tr>\n",
       "      <th>4</th>\n",
       "      <td>6</td>\n",
       "      <td>Senior Software Engineer</td>\n",
       "      <td>Infosys | Senior Software Engineer | Hyderabad...</td>\n",
       "      <td>Individual contributor</td>\n",
       "      <td>Senior</td>\n",
       "    </tr>\n",
       "  </tbody>\n",
       "</table>\n",
       "</div>"
      ],
      "text/plain": [
       "   Unnamed: 0                                      title  \\\n",
       "0           2  Oracle - Senior Member of Technical Staff   \n",
       "1           3            Application Developer Associate   \n",
       "2           4               Senior Application Developer   \n",
       "3           5                   Senior Software Engineer   \n",
       "4           6                   Senior Software Engineer   \n",
       "\n",
       "                                         description    management_seniority  \\\n",
       "0  Oracle - Senior Member of Technical Staff 06/2...  Individual contributor   \n",
       "1  Application Developer Associate J.P.Morgan Cha...  Individual contributor   \n",
       "2  INAUTIX TECHNOLOGIES (BANK OF NEW YORK MELLON)...  Individual contributor   \n",
       "3  Senior Software Engineer at Citrix, Santa Barb...  Individual contributor   \n",
       "4  Infosys | Senior Software Engineer | Hyderabad...  Individual contributor   \n",
       "\n",
       "  professional_seniority  \n",
       "0                 Senior  \n",
       "1                 Junior  \n",
       "2                 Senior  \n",
       "3                 Senior  \n",
       "4                 Senior  "
      ]
     },
     "execution_count": 30,
     "metadata": {},
     "output_type": "execute_result"
    }
   ],
   "source": [
    "apps_df.head()"
   ]
  },
  {
   "cell_type": "code",
   "execution_count": 43,
   "id": "df5dfef1-2531-4b46-b594-a3dd8b830c04",
   "metadata": {
    "tags": []
   },
   "outputs": [],
   "source": [
    "apps_df['predicted_seniority'] = apps_df.apply(lambda x: model.get_app_experiences_seniority([{'title': None, 'description': x['description']}], use_translation=False)[0], axis=1)"
   ]
  },
  {
   "cell_type": "code",
   "execution_count": 44,
   "id": "6af7c077-c5e0-49a6-a80a-157af65a4f11",
   "metadata": {
    "tags": []
   },
   "outputs": [
    {
     "data": {
      "text/plain": [
       "junior         1911\n",
       "senior          506\n",
       "entry_level     343\n",
       "manager          15\n",
       "student           1\n",
       "intern            1\n",
       "Name: predicted_seniority, dtype: int64"
      ]
     },
     "execution_count": 44,
     "metadata": {},
     "output_type": "execute_result"
    }
   ],
   "source": [
    "apps_df['predicted_seniority'].value_counts()"
   ]
  },
  {
   "cell_type": "code",
   "execution_count": 45,
   "id": "bf30e81b-1500-4221-8a48-9a1a1a89df34",
   "metadata": {
    "tags": []
   },
   "outputs": [],
   "source": [
    "apps_df.loc[apps_df['professional_seniority'] == 'Entry level', 'professional_seniority'] = 'entry_level'"
   ]
  },
  {
   "cell_type": "code",
   "execution_count": 46,
   "id": "14d22d0b-0571-4b8f-a6e7-6a8e4a65c3c6",
   "metadata": {
    "tags": []
   },
   "outputs": [],
   "source": [
    "apps_df['professional_seniority'] = apps_df['professional_seniority'].str.lower()"
   ]
  },
  {
   "cell_type": "code",
   "execution_count": 47,
   "id": "02976b74-5962-4629-8ac3-a0196c298022",
   "metadata": {
    "tags": []
   },
   "outputs": [
    {
     "data": {
      "text/plain": [
       "senior                    1231\n",
       "junior                    1161\n",
       "entry_level                354\n",
       "principal                   29\n",
       "chief                        1\n",
       "individual contributor       1\n",
       "Name: professional_seniority, dtype: int64"
      ]
     },
     "execution_count": 47,
     "metadata": {},
     "output_type": "execute_result"
    }
   ],
   "source": [
    "apps_df['professional_seniority'].value_counts(dropna=False)"
   ]
  },
  {
   "cell_type": "code",
   "execution_count": 48,
   "id": "420494c1-7776-4767-9f3e-62500d4b8ca0",
   "metadata": {
    "tags": []
   },
   "outputs": [],
   "source": [
    "from sklearn.metrics import classification_report, accuracy_score"
   ]
  },
  {
   "cell_type": "code",
   "execution_count": 49,
   "id": "533b5db0-00f0-4183-96ee-2147973ac549",
   "metadata": {
    "tags": []
   },
   "outputs": [
    {
     "name": "stdout",
     "output_type": "stream",
     "text": [
      "                        precision    recall  f1-score   support\n",
      "\n",
      "                 chief       0.00      0.00      0.00         1\n",
      "           entry_level       0.76      0.73      0.74       354\n",
      "individual contributor       0.00      0.00      0.00         1\n",
      "                intern       0.00      0.00      0.00         0\n",
      "                junior       0.59      0.97      0.73      1161\n",
      "               manager       0.00      0.00      0.00         0\n",
      "             principal       0.00      0.00      0.00        29\n",
      "                senior       0.92      0.38      0.54      1231\n",
      "               student       0.00      0.00      0.00         0\n",
      "\n",
      "              accuracy                           0.67      2777\n",
      "             macro avg       0.25      0.23      0.22      2777\n",
      "          weighted avg       0.75      0.67      0.64      2777\n",
      "\n"
     ]
    },
    {
     "name": "stderr",
     "output_type": "stream",
     "text": [
      "/Users/dima/.virtualenvs/hs/lib/python3.9/site-packages/sklearn/metrics/_classification.py:1318: UndefinedMetricWarning: Precision and F-score are ill-defined and being set to 0.0 in labels with no predicted samples. Use `zero_division` parameter to control this behavior.\n",
      "  _warn_prf(average, modifier, msg_start, len(result))\n",
      "/Users/dima/.virtualenvs/hs/lib/python3.9/site-packages/sklearn/metrics/_classification.py:1318: UndefinedMetricWarning: Recall and F-score are ill-defined and being set to 0.0 in labels with no true samples. Use `zero_division` parameter to control this behavior.\n",
      "  _warn_prf(average, modifier, msg_start, len(result))\n",
      "/Users/dima/.virtualenvs/hs/lib/python3.9/site-packages/sklearn/metrics/_classification.py:1318: UndefinedMetricWarning: Precision and F-score are ill-defined and being set to 0.0 in labels with no predicted samples. Use `zero_division` parameter to control this behavior.\n",
      "  _warn_prf(average, modifier, msg_start, len(result))\n",
      "/Users/dima/.virtualenvs/hs/lib/python3.9/site-packages/sklearn/metrics/_classification.py:1318: UndefinedMetricWarning: Recall and F-score are ill-defined and being set to 0.0 in labels with no true samples. Use `zero_division` parameter to control this behavior.\n",
      "  _warn_prf(average, modifier, msg_start, len(result))\n",
      "/Users/dima/.virtualenvs/hs/lib/python3.9/site-packages/sklearn/metrics/_classification.py:1318: UndefinedMetricWarning: Precision and F-score are ill-defined and being set to 0.0 in labels with no predicted samples. Use `zero_division` parameter to control this behavior.\n",
      "  _warn_prf(average, modifier, msg_start, len(result))\n",
      "/Users/dima/.virtualenvs/hs/lib/python3.9/site-packages/sklearn/metrics/_classification.py:1318: UndefinedMetricWarning: Recall and F-score are ill-defined and being set to 0.0 in labels with no true samples. Use `zero_division` parameter to control this behavior.\n",
      "  _warn_prf(average, modifier, msg_start, len(result))\n"
     ]
    }
   ],
   "source": [
    "print(classification_report(apps_df['professional_seniority'].fillna('NONE'), apps_df['predicted_seniority'].fillna('NONE')))"
   ]
  },
  {
   "cell_type": "code",
   "execution_count": 42,
   "id": "a3ecce72-e8b0-4e54-bde1-0630b6101f10",
   "metadata": {
    "tags": []
   },
   "outputs": [
    {
     "data": {
      "text/plain": [
       "['junior']"
      ]
     },
     "execution_count": 42,
     "metadata": {},
     "output_type": "execute_result"
    }
   ],
   "source": [
    "model.get_app_experiences_seniority([{'title': None, 'description': 'senior software developer'}], use_translation=False)"
   ]
  },
  {
   "cell_type": "code",
   "execution_count": null,
   "id": "77396077-a1a4-4789-8134-f23c32c5bc8b",
   "metadata": {},
   "outputs": [],
   "source": []
  }
 ],
 "metadata": {
  "kernelspec": {
   "display_name": "Python 3 (ipykernel)",
   "language": "python",
   "name": "python3"
  },
  "language_info": {
   "codemirror_mode": {
    "name": "ipython",
    "version": 3
   },
   "file_extension": ".py",
   "mimetype": "text/x-python",
   "name": "python",
   "nbconvert_exporter": "python",
   "pygments_lexer": "ipython3",
   "version": "3.9.5"
  }
 },
 "nbformat": 4,
 "nbformat_minor": 5
}
