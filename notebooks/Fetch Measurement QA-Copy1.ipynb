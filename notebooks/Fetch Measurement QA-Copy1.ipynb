{
 "cells": [
  {
   "cell_type": "code",
   "execution_count": 1,
   "id": "e96b74b8-4ddd-4b04-8472-1861d3f8e61f",
   "metadata": {
    "tags": []
   },
   "outputs": [],
   "source": [
    "import pandas as pd\n",
    "from hs_gimme.db_facade.db_facade_factory import get_mongo_client_db\n",
    "from sklearn.metrics import roc_auc_score"
   ]
  },
  {
   "cell_type": "code",
   "execution_count": 2,
   "id": "1d900fbf-ddb6-4f09-9ba5-eab7e8dd253b",
   "metadata": {
    "tags": []
   },
   "outputs": [
    {
     "data": {
      "text/plain": [
       "1971"
      ]
     },
     "execution_count": 2,
     "metadata": {},
     "output_type": "execute_result"
    }
   ],
   "source": [
    "df = pd.read_csv('/Users/dima/hiredscore/brain_models_creation/tree_blenders/hs_tree_blenders_creation/fast_fetch/results/fetch_metrics_raw.csv')\n",
    "len(df)"
   ]
  },
  {
   "cell_type": "code",
   "execution_count": 3,
   "id": "f3c508f3-d2fb-4943-8397-cae1f5c55933",
   "metadata": {
    "tags": []
   },
   "outputs": [
    {
     "data": {
      "text/plain": [
       "array(['Negative Rejected', 'Random from other reqs',\n",
       "       'Positive Offer+ With Experience'], dtype=object)"
      ]
     },
     "execution_count": 3,
     "metadata": {},
     "output_type": "execute_result"
    }
   ],
   "source": [
    "df['group_name'].unique()"
   ]
  },
  {
   "cell_type": "code",
   "execution_count": 4,
   "id": "1d3ba448-2fd6-474c-bc6b-59b6185a4151",
   "metadata": {
    "tags": []
   },
   "outputs": [
    {
     "data": {
      "text/plain": [
       "125"
      ]
     },
     "execution_count": 4,
     "metadata": {},
     "output_type": "execute_result"
    }
   ],
   "source": [
    "df = df[df['group_name'].isin({'Negative Rejected', 'Positive Offer+ With Experience'}) & (df['filter'] == 'SELECTED')]\n",
    "len(df)"
   ]
  },
  {
   "cell_type": "code",
   "execution_count": 5,
   "id": "3fa10597-cc84-46cc-881e-cb99db5c8592",
   "metadata": {
    "tags": []
   },
   "outputs": [],
   "source": [
    "good_ids = {'INTJR01360424cf240b1-3126-48fc-9624-bfc875b4d13a',\n",
    " 'INTJR013798054fffd18-0b53-43b7-aba2-447c5813e198',\n",
    " 'INTJR01382075ce41f9d-a936-44e6-941a-5925dce06cc7',\n",
    " 'INTJR01384019c5f0f0c-b375-46fd-8769-cc0fd26d51ae',\n",
    " 'INTJR0138401ef783a37-a2f2-4ee2-b267-84875204d63f',\n",
    " 'INTJR013885242ca39c4-e99e-43d9-bd72-fb739558e228',\n",
    " 'INTJR0139744c34ab9a7-2269-4427-b3d0-807d97ada18d',\n",
    " 'INTJR0140041cc1dcab1-7457-4adf-b7da-a770ec26c221',\n",
    " 'INTJR0140308da097696-c604-4757-979e-cd2765cb5366',\n",
    " 'INTJR0141114c38e7542-e351-4376-a514-f542f84efdd0',\n",
    " 'INTJR0141687049156db-9555-4fae-a478-b08de824dc2b',\n",
    " 'INTJR014275820be486a-5b34-4863-b069-4be96f3a649b',\n",
    " 'INTJR0143694e01a5447-0510-4f25-a0ed-2e380e5fd7c7',\n",
    " 'INTJR01471422d3efea5-7f8e-4049-97f7-576e3bcd4490',\n",
    " 'INTJR01484135aa779db-c5f9-46bf-a0e9-fb1358d78492',\n",
    " 'INTJR014982297ef868c-9161-450e-910b-c894be9fb492',\n",
    " 'INTJR0150071137fcb30-ef95-4245-b85a-cbe5d73576ab',\n",
    " 'INTJR01508539f5d9dd9-b4af-4890-970b-1d6cd724e849',\n",
    " 'INTJR0152851938e2354-0bb2-4792-8a34-bf50b8784ad8',\n",
    " 'INTJR015289139d08308-5633-4ad1-b122-93987cfaabc0',\n",
    " 'INTJR0153359472ef56b-0d54-40ca-8590-cce607680c30',\n",
    " 'INTJR0154086a2a5d92f-e55d-471f-a7d9-44fa964156c4',\n",
    " 'INTJR0155228eb2d42c5-520f-4350-9ae0-388ed647555b',\n",
    " 'INTJR0155819668e5ff6-3418-41a8-b010-7a4f924dc47f',\n",
    " 'INTJR0156135599f7ad7-3cb7-4f33-b479-3f8fca8a34a5',\n",
    " 'INTJR01573760b1cced0-8360-4d96-aa4c-f2c1fc7a9d84',\n",
    " 'INTJR0157705e6bdce85-3e9d-40c9-9da0-4aaf830a0530',\n",
    " 'INTJR015789417c8c3c6-237b-4b78-bfb2-35214c5a8399',\n",
    " 'INTJR01584450c49c537-0a19-483e-a665-efba187c830b',\n",
    " 'INTJR015844583a71688-b5b4-42e8-92f1-36bd95b34499',\n",
    " 'INTJR01584458702b9a3-02a9-46d9-bca5-3a3cefd44d94',\n",
    " 'INTJR0158445d47d2e9c-eb0d-4b8d-bf4d-3fed58a4a0b9',\n",
    " 'INTJR0158511784302d1-02a9-422a-b244-ebe6bbb4ef88',\n",
    " 'INTJR0159164e47035d7-9ce9-418d-9fb1-30aca555be03',\n",
    " 'INTJR01615075e17fea8-23de-4ba7-85c4-b1cdfc862392',\n",
    " 'INTJR0162266ee61ea7d-3853-4e20-be68-0511bd6282fa',\n",
    " 'INTJR01628456c7b7946-e476-4495-b62b-e1dfd26adaf6',\n",
    " 'INTJR0164522b13b1da3-edb8-44a9-9642-36df2c11f95e',\n",
    " 'INTJR0165344f71340d0-85b1-43a7-96e5-42b420b4f370',\n",
    " 'INTJR01657660cedba09-0507-4313-a9a3-824ef7be8d22',\n",
    " 'INTJR01680738ee8ad98-0b65-4b6a-b8ac-c3d06bf8ad9a',\n",
    " 'INTJR0168486524002cb-bb5a-4a5d-b932-546ac83a5014',\n",
    " 'INTJR016870720125a49-e08b-479c-9ab1-251f6cfe6572',\n",
    " 'MCY820839356ffbe8-6c75-4b98-9ebd-5ddbe7f80e06',\n",
    " 'MCY822235e395e927-56a6-4b37-8c7c-394195a8b0e8',\n",
    " 'MCY8222520b5c1951-6024-4147-a7ba-1e2dba04b660',\n",
    " 'MCY82229251e4759a-9a59-441d-afe4-2b0e17cadcfe',\n",
    " 'MCY82229288049adb-5d45-47ff-8f02-66f826d40d85',\n",
    " 'MCY823290bb157f64-41a0-474b-aaf7-171cb08d9919',\n",
    " 'MCY829234d34b6af5-9a1c-4dc0-a8c6-4e922ad9d5a0',\n",
    " 'MCY829793cae2fecc-a6f3-4bfb-8e51-809808c9a29a',\n",
    " 'MCY832216730bd339-13ab-4b36-aa38-1d51192587f1',\n",
    " 'MCY833414787d41c6-43aa-4130-89db-037d5a54e9c3',\n",
    " 'MCY83357934c29abd-8d86-4343-8d19-f239743dc12b',\n",
    " 'MCY83718413b0bacb-b259-4c35-946f-044032f213d0',\n",
    " 'MCY839723e9cbb37d-d89b-493e-9ef2-144cda094778',\n",
    " 'MCY840223f5364f4c-d0ef-4d26-94af-95be956d5e25',\n",
    " 'MCY8404660748cdc8-515b-45b9-87db-d188da905020',\n",
    " 'MCY84142961477688-58ef-49d4-a915-a47c644c55a2',\n",
    " 'MCY8421692983b997-64ab-4893-942b-028b8b65f004',\n",
    " 'MCY842169341655a5-7387-4355-ad16-08c191ee4e3d',\n",
    " 'MCY84485821901719-688d-470e-b5db-f87fc6073c31',\n",
    " 'MCY846143502ac48a-6f73-4213-8198-b245c52f1ae4',\n",
    " 'MCY84760380b997a4-cfef-41d5-8b1c-1a95dc7af917',\n",
    " 'MCY8477169dffa456-1fa5-4955-96cc-a3a61a3a904e',\n",
    " 'MCY848850435651c9-7ad3-49ee-8c41-67b76e9fba44',\n",
    " 'MCY849328834c85f8-dbf0-4507-9e77-8f8222ad994d',\n",
    " 'MCY849770d3e4d1a6-d34d-4c86-8efb-213b5391ec8a',\n",
    " 'MCY849770d82771ae-410e-41fd-bc1b-97a593f33b6b',\n",
    " 'MCY8501419a33f265-c4a6-42de-b3cd-b932f4e5a6ab',\n",
    " 'MCY850141df30de84-6276-4f43-bca4-5a81585cbc54',\n",
    " 'MCY85027397b01e52-a0ed-4146-bb47-c3fec6b67583',\n",
    " 'MCY850364f681d74b-8831-45ba-98c4-1482fbf4f7b1',\n",
    " 'MCY854043d1b967f3-c9f0-4231-9f3a-d6c1bfacf395',\n",
    " 'MCY8545255c03417a-35fd-4dec-a653-6ec84679e160',\n",
    " 'MCY854614762c0aa9-f169-45c5-bc99-959d24404de0',\n",
    " 'MCY85824088ca23d2-6730-4973-84c8-1910772dad9b',\n",
    " 'MCY859467313b4ee9-8318-40d3-992a-b0c55692734a'}\n",
    "\n",
    "bad_ids = {'INTJR0134166ff6a9f08-f6bd-4b3e-8df1-6ad73e9c4f88',\n",
    " 'INTJR0136042acc7203f-babe-4adc-8c5b-194054bb194a',\n",
    " 'INTJR01371919459fb59-0014-46e1-aa37-c84ece97f498',\n",
    " 'INTJR0138401f1aea5ae-0d24-46db-942f-b295379d9ee2',\n",
    " 'INTJR0140308c95370e1-7a98-4264-b9ef-9ff9a466fd64',\n",
    " 'INTJR014087013ed570e-b0ed-417f-b42b-7eba66a92679',\n",
    " 'INTJR01427696968758b-d3e3-421f-9dec-09a34bfb2583',\n",
    " 'INTJR0143629d27095d2-1c0f-4608-8110-e7226ffd2035',\n",
    " 'INTJR01471424489ef6d-2a69-4807-9316-66bc8600f81a',\n",
    " 'INTJR01493318c7e0089-57c8-4a30-a8ea-fff7f43576c8',\n",
    " 'INTJR0154086cdeb8a03-1906-447d-a69d-1e0835071a61',\n",
    " 'INTJR0155175f9d783b5-763e-48bf-bc96-5964565d865c',\n",
    " 'INTJR01573760c22e494-a21f-423b-a8ed-3d5b1e51e2be',\n",
    " 'INTJR0159699cb80fa10-a800-4781-be9e-0f6f06d2e3ac',\n",
    " 'INTJR01614112ca86256-669b-4f61-932b-daaffa9f0607',\n",
    " 'INTJR0163324f6fc4f3d-08ce-4f70-a0ca-38125b2b83f4',\n",
    " 'INTJR01675312719a539-62df-46af-8eb8-36ccc00c00cc',\n",
    " 'INTJR016758236ef86f2-5712-4e79-8a09-68a25ce69ec2',\n",
    " 'INTJR016758263e35564-3c1c-46e3-a8e5-77f94655e240',\n",
    " 'INTJR017016105c7489d-611f-4cf1-9abf-c92087d0113d',\n",
    " 'INTJR0170161ef7d97b3-2e47-456d-88d7-6b857feab774',\n",
    " 'MCY825225fd8ca2fc-5c2e-4f13-923d-9946c05cbaeb',\n",
    " 'MCY82815640faa1d3-0037-4b3d-810e-95cc09da9afb',\n",
    " 'MCY8297933ac4c4ac-8712-443f-a9e4-35d54cf73b29',\n",
    " 'MCY832478cf021eae-0b94-435b-98fe-58edfe824e94',\n",
    " 'MCY83400726f8fa3c-6609-43a9-8539-494418146347',\n",
    " 'MCY834030d217f253-b6a1-4c9f-9294-43c397691770',\n",
    " 'MCY836856d42b2836-37c9-40e3-b764-7a1d6af8ff22',\n",
    " 'MCY838546ebdcfbfe-61b6-43a0-9c73-d6fd22c96e24',\n",
    " 'MCY8393052e6a92c5-d9d5-4753-bb68-2f885e450e38',\n",
    " 'MCY839305c05cc17f-8dca-4282-86d6-71ab3570d08e',\n",
    " 'MCY839895dac5dab9-a816-4864-882a-f4bdfe49409a',\n",
    " 'MCY841429b87ba7d0-09a9-4aa4-8d04-7956316d76b2',\n",
    " 'MCY84781274aa74fc-4459-4222-83e3-3eb4f063fb6d',\n",
    " 'MCY85271422a024c5-17ef-40b8-9ab0-13fc65361778',\n",
    " 'MCY853297d13443d2-684c-41a0-bd97-edc01c09d35e',\n",
    " 'MCY854404509a40de-d6fd-474f-b412-52eb4ff2807d',\n",
    " 'MCY8570894b451892-6a8b-4b08-8dac-1050196efd22',\n",
    " 'MCY8573922f3fecf5-82f9-4d74-8424-c038d4ff1a25',\n",
    " 'MCY857392372cafdd-f7dc-4a07-91c0-494f226328ae',\n",
    " 'MCY858240cd6d33e8-4e62-4e3d-888e-47540103dbc4',\n",
    " 'MCY859049cec98f2a-6fc3-4b0c-89a7-1fe417300165',\n",
    " 'MCY859110faa33d42-fb35-4f2d-a514-008b4732c0e5'}"
   ]
  },
  {
   "cell_type": "code",
   "execution_count": 6,
   "id": "bec3495b-2f0e-4726-9bdb-2c4e263ba561",
   "metadata": {
    "tags": []
   },
   "outputs": [],
   "source": [
    "df['id'] = df['req_id'] + df['current_talent_id']"
   ]
  },
  {
   "cell_type": "code",
   "execution_count": 7,
   "id": "9c2898c8-7a7c-4555-9864-ae3cfb2dc0e7",
   "metadata": {
    "tags": []
   },
   "outputs": [],
   "source": [
    "def get_new_groups(r):\n",
    "    \n",
    "    ng = ['NOT TAGGED']\n",
    "    if r['id'] in bad_ids:\n",
    "        ng = [r['group_name'], 'Tagged as BAD']\n",
    "    elif r['id'] in good_ids:\n",
    "        ng = [r['group_name'], 'Tagged as GOOD']\n",
    "        \n",
    "    return ng\n",
    "\n",
    "df['group_name'] = df.apply(get_new_groups, axis=1)"
   ]
  },
  {
   "cell_type": "code",
   "execution_count": 8,
   "id": "ed105390-96b9-4a28-8e20-3cb5c8550a14",
   "metadata": {
    "tags": []
   },
   "outputs": [],
   "source": [
    "exploded = df.explode('group_name')"
   ]
  },
  {
   "cell_type": "code",
   "execution_count": 9,
   "id": "c3002bf5-4aab-489f-bff2-55e163faa22f",
   "metadata": {
    "tags": []
   },
   "outputs": [
    {
     "data": {
      "text/plain": [
       "238"
      ]
     },
     "execution_count": 9,
     "metadata": {},
     "output_type": "execute_result"
    }
   ],
   "source": [
    "exploded = exploded[exploded['group_name'] != 'NOT TAGGED']\n",
    "len(exploded)"
   ]
  },
  {
   "cell_type": "code",
   "execution_count": 10,
   "id": "0830bda4-9d24-4840-8e76-dd611c064163",
   "metadata": {
    "tags": []
   },
   "outputs": [
    {
     "data": {
      "text/plain": [
       "Tagged as GOOD                     78\n",
       "Positive Offer+ With Experience    60\n",
       "Negative Rejected                  59\n",
       "Tagged as BAD                      41\n",
       "Name: group_name, dtype: int64"
      ]
     },
     "execution_count": 10,
     "metadata": {},
     "output_type": "execute_result"
    }
   ],
   "source": [
    "exploded['group_name'].value_counts()"
   ]
  },
  {
   "cell_type": "code",
   "execution_count": 11,
   "id": "3a9d6b38-7ab1-41e6-af1f-6e89195aedf5",
   "metadata": {
    "tags": []
   },
   "outputs": [
    {
     "data": {
      "text/html": [
       "<div>\n",
       "<style scoped>\n",
       "    .dataframe tbody tr th:only-of-type {\n",
       "        vertical-align: middle;\n",
       "    }\n",
       "\n",
       "    .dataframe tbody tr th {\n",
       "        vertical-align: top;\n",
       "    }\n",
       "\n",
       "    .dataframe thead tr th {\n",
       "        text-align: left;\n",
       "    }\n",
       "\n",
       "    .dataframe thead tr:last-of-type th {\n",
       "        text-align: right;\n",
       "    }\n",
       "</style>\n",
       "<table border=\"1\" class=\"dataframe\">\n",
       "  <thead>\n",
       "    <tr>\n",
       "      <th></th>\n",
       "      <th colspan=\"4\" halign=\"left\">recall</th>\n",
       "      <th colspan=\"4\" halign=\"left\">num_of_talents</th>\n",
       "      <th>Pos/Neg Lift</th>\n",
       "      <th>Tagged good/bad Lift</th>\n",
       "    </tr>\n",
       "    <tr>\n",
       "      <th>group_name</th>\n",
       "      <th>Negative Rejected</th>\n",
       "      <th>Positive Offer+ With Experience</th>\n",
       "      <th>Tagged as BAD</th>\n",
       "      <th>Tagged as GOOD</th>\n",
       "      <th>Negative Rejected</th>\n",
       "      <th>Positive Offer+ With Experience</th>\n",
       "      <th>Tagged as BAD</th>\n",
       "      <th>Tagged as GOOD</th>\n",
       "      <th></th>\n",
       "      <th></th>\n",
       "    </tr>\n",
       "    <tr>\n",
       "      <th>account_id</th>\n",
       "      <th></th>\n",
       "      <th></th>\n",
       "      <th></th>\n",
       "      <th></th>\n",
       "      <th></th>\n",
       "      <th></th>\n",
       "      <th></th>\n",
       "      <th></th>\n",
       "      <th></th>\n",
       "      <th></th>\n",
       "    </tr>\n",
       "  </thead>\n",
       "  <tbody>\n",
       "    <tr>\n",
       "      <th>indiana</th>\n",
       "      <td>0.531250</td>\n",
       "      <td>0.700000</td>\n",
       "      <td>0.526316</td>\n",
       "      <td>0.651163</td>\n",
       "      <td>32</td>\n",
       "      <td>30</td>\n",
       "      <td>19</td>\n",
       "      <td>43</td>\n",
       "      <td>1.317647</td>\n",
       "      <td>1.237209</td>\n",
       "    </tr>\n",
       "    <tr>\n",
       "      <th>moscow</th>\n",
       "      <td>0.592593</td>\n",
       "      <td>0.633333</td>\n",
       "      <td>0.454545</td>\n",
       "      <td>0.714286</td>\n",
       "      <td>27</td>\n",
       "      <td>30</td>\n",
       "      <td>22</td>\n",
       "      <td>35</td>\n",
       "      <td>1.068750</td>\n",
       "      <td>1.571429</td>\n",
       "    </tr>\n",
       "  </tbody>\n",
       "</table>\n",
       "</div>"
      ],
      "text/plain": [
       "                      recall                                                \\\n",
       "group_name Negative Rejected Positive Offer+ With Experience Tagged as BAD   \n",
       "account_id                                                                   \n",
       "indiana             0.531250                        0.700000      0.526316   \n",
       "moscow              0.592593                        0.633333      0.454545   \n",
       "\n",
       "                             num_of_talents                                  \\\n",
       "group_name Tagged as GOOD Negative Rejected Positive Offer+ With Experience   \n",
       "account_id                                                                    \n",
       "indiana          0.651163                32                              30   \n",
       "moscow           0.714286                27                              30   \n",
       "\n",
       "                                        Pos/Neg Lift Tagged good/bad Lift  \n",
       "group_name Tagged as BAD Tagged as GOOD                                    \n",
       "account_id                                                                 \n",
       "indiana               19             43     1.317647             1.237209  \n",
       "moscow                22             35     1.068750             1.571429  "
      ]
     },
     "execution_count": 11,
     "metadata": {},
     "output_type": "execute_result"
    }
   ],
   "source": [
    "gb = exploded.groupby(['account_id', 'group_name']).agg(recall=('predicted', 'mean'),\n",
    "                                                            num_of_talents=('current_talent_id', 'count')).unstack()\n",
    "\n",
    "gb['Pos/Neg Lift'] = gb[('recall', 'Positive Offer+ With Experience')] / gb[('recall', 'Negative Rejected')]\n",
    "gb['Tagged good/bad Lift'] = gb[('recall', 'Tagged as GOOD')] / gb[('recall', 'Tagged as BAD')]\n",
    "gb"
   ]
  },
  {
   "cell_type": "code",
   "execution_count": null,
   "id": "bbc91ec0-ae4a-470d-ae58-67e34beb9ba6",
   "metadata": {},
   "outputs": [],
   "source": []
  },
  {
   "cell_type": "code",
   "execution_count": 17,
   "id": "3a324007-c5b0-4654-b07d-3a15a69403ee",
   "metadata": {
    "tags": []
   },
   "outputs": [
    {
     "data": {
      "text/plain": [
       "0.05263157894736842"
      ]
     },
     "execution_count": 17,
     "metadata": {},
     "output_type": "execute_result"
    }
   ],
   "source": [
    "1/19"
   ]
  },
  {
   "cell_type": "code",
   "execution_count": 18,
   "id": "86569f4f-02d5-4966-b243-a35658a33218",
   "metadata": {
    "tags": []
   },
   "outputs": [
    {
     "data": {
      "text/plain": [
       "0.03333333333333333"
      ]
     },
     "execution_count": 18,
     "metadata": {},
     "output_type": "execute_result"
    }
   ],
   "source": [
    "1/30"
   ]
  },
  {
   "cell_type": "code",
   "execution_count": 20,
   "id": "9946cf77-d4bf-4a9c-9c10-5db30a9e1aa1",
   "metadata": {
    "tags": []
   },
   "outputs": [
    {
     "data": {
      "text/plain": [
       "43"
      ]
     },
     "execution_count": 20,
     "metadata": {},
     "output_type": "execute_result"
    }
   ],
   "source": [
    "len(bad_ids)"
   ]
  },
  {
   "cell_type": "code",
   "execution_count": null,
   "id": "c7aad077-14c8-400e-835d-eefe1287566d",
   "metadata": {},
   "outputs": [],
   "source": []
  }
 ],
 "metadata": {
  "kernelspec": {
   "display_name": "Python 3 (ipykernel)",
   "language": "python",
   "name": "python3"
  },
  "language_info": {
   "codemirror_mode": {
    "name": "ipython",
    "version": 3
   },
   "file_extension": ".py",
   "mimetype": "text/x-python",
   "name": "python",
   "nbconvert_exporter": "python",
   "pygments_lexer": "ipython3",
   "version": "3.9.5"
  }
 },
 "nbformat": 4,
 "nbformat_minor": 5
}
