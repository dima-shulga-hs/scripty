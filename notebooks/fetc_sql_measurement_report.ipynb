{
 "cells": [
  {
   "cell_type": "code",
   "execution_count": 1,
   "id": "60833a0e-cfa0-43c6-89b6-81bf3b254722",
   "metadata": {
    "tags": []
   },
   "outputs": [],
   "source": [
    "from analytics_utils.db_utils import get_db_client, SupportedDBs\n",
    "from sklearn.metrics import roc_auc_score\n",
    "import matplotlib.pyplot as plt\n",
    "from hs_tree_blenders_creation.batch_runners.data_sets import get_account_test_set\n",
    "from sklearn.metrics import classification_report, roc_auc_score, precision_score, recall_score, auc, roc_curve, f1_score"
   ]
  },
  {
   "cell_type": "code",
   "execution_count": 2,
   "id": "837a555e-3791-4f0d-afa4-5853e04590e1",
   "metadata": {
    "tags": []
   },
   "outputs": [],
   "source": [
    "environment = 'production'\n",
    "account_id = None\n",
    "db_type = SupportedDBs.BIGQUERY\n",
    "\n",
    "db_client = get_db_client(environment, account_id, db_type)"
   ]
  },
  {
   "cell_type": "code",
   "execution_count": 3,
   "id": "0315173f-c4e0-4c69-ad2b-3a00cd46f8cb",
   "metadata": {
    "tags": []
   },
   "outputs": [
    {
     "data": {
      "text/plain": [
       "(109639, 33)"
      ]
     },
     "execution_count": 3,
     "metadata": {},
     "output_type": "execute_result"
    }
   ],
   "source": [
    "sql = \"\"\"\n",
    "SELECT  * FROM `hs-brain.ongoing_measurements.fetch_results` WHERE\n",
    "TIMESTAMP_TRUNC(timestamp, DAY) > TIMESTAMP(\"2024-01-20\")  \n",
    "-- AND account_id =  'utah' \n",
    "-- AND run_identifier IN ('DEV-20657_DEV-20251-20231112_181713', 'DEV-20657_DEV-20251-20231113_060650') \n",
    "AND run_identifier = 'master-20240130_150008'\n",
    "\"\"\"\n",
    "\n",
    "job_result = db_client.execute(sql)\n",
    "\n",
    "df = job_result['query_reults'].to_dataframe()\n",
    "df.shape"
   ]
  },
  {
   "cell_type": "code",
   "execution_count": 6,
   "id": "b3768d77-1884-405f-b0aa-1a299996c906",
   "metadata": {
    "tags": []
   },
   "outputs": [],
   "source": [
    "NEGATIVE = 'random_out_category'"
   ]
  },
  {
   "cell_type": "code",
   "execution_count": 7,
   "id": "12309901-ae4a-4040-9752-98b87cb4b24a",
   "metadata": {
    "tags": []
   },
   "outputs": [
    {
     "name": "stderr",
     "output_type": "stream",
     "text": [
      "/var/folders/_p/8_m91crj199_rd7sndkxncc80000gp/T/ipykernel_70047/2290488944.py:2: SettingWithCopyWarning: \n",
      "A value is trying to be set on a copy of a slice from a DataFrame.\n",
      "Try using .loc[row_indexer,col_indexer] = value instead\n",
      "\n",
      "See the caveats in the documentation: https://pandas.pydata.org/pandas-docs/stable/user_guide/indexing.html#returning-a-view-versus-a-copy\n",
      "  xdf['is_positive'] = xdf['evaluation_group'] == 'offer'\n"
     ]
    },
    {
     "data": {
      "text/plain": [
       "(0.49956662561014553, (43842, 34))"
      ]
     },
     "execution_count": 7,
     "metadata": {},
     "output_type": "execute_result"
    }
   ],
   "source": [
    "xdf = df[df['evaluation_group'].isin({'offer', NEGATIVE})]\n",
    "xdf['is_positive'] = xdf['evaluation_group'] == 'offer'\n",
    "xdf['is_positive'].mean(), xdf.shape"
   ]
  },
  {
   "cell_type": "code",
   "execution_count": 35,
   "id": "bc792838-67d9-4f75-8518-4f52d9104411",
   "metadata": {
    "tags": []
   },
   "outputs": [
    {
     "data": {
      "text/plain": [
       "0.49956662561014553"
      ]
     },
     "execution_count": 35,
     "metadata": {},
     "output_type": "execute_result"
    }
   ],
   "source": [
    "xdf['is_positive'].mean()"
   ]
  },
  {
   "cell_type": "code",
   "execution_count": 8,
   "id": "138de2ae-9c83-49b9-a820-e7567e264246",
   "metadata": {
    "tags": []
   },
   "outputs": [],
   "source": [
    "def roc(x):\n",
    "    try:\n",
    "        return roc_auc_score(x['is_positive'], x['order'])\n",
    "    except:\n",
    "        return None"
   ]
  },
  {
   "cell_type": "code",
   "execution_count": 40,
   "id": "225ef73e-467e-4b83-92ea-b793e0f7cd63",
   "metadata": {
    "tags": []
   },
   "outputs": [],
   "source": [
    "counts = xdf.groupby('account_id')['prediction'].count()\n",
    "rocs = xdf[xdf['prediction'] == 1].groupby('account_id').apply(roc)\n",
    "pr = xdf.groupby('account_id').apply(lambda x: precision_score(x['is_positive'], x['prediction']))\n",
    "re = xdf.groupby('account_id').apply(lambda x: recall_score(x['is_positive'], x['prediction']))\n",
    "f1 = xdf.groupby('account_id').apply(lambda x: f1_score(x['is_positive'], x['prediction']))"
   ]
  },
  {
   "cell_type": "code",
   "execution_count": 21,
   "id": "13a832bf-9434-4162-b549-4e030188272b",
   "metadata": {
    "tags": []
   },
   "outputs": [
    {
     "data": {
      "text/plain": [
       "0.8195969964832239"
      ]
     },
     "execution_count": 21,
     "metadata": {},
     "output_type": "execute_result"
    }
   ],
   "source": [
    "xdf[xdf['prediction'] == 1].groupby('req_id').apply(roc).mean()"
   ]
  },
  {
   "cell_type": "code",
   "execution_count": 10,
   "id": "7b364f77-3468-49b6-9f44-81a118e9db93",
   "metadata": {
    "tags": []
   },
   "outputs": [
    {
     "name": "stdout",
     "output_type": "stream",
     "text": [
      "roc_auc_score: 0.5664736887330489\n",
      "precision_score: 0.8263665594855305\n",
      "recall_score: 0.3637567345447904\n",
      "f1_score: 0.5051516976825287\n"
     ]
    }
   ],
   "source": [
    "print('roc_auc_score:', roc_auc_score(xdf[xdf['prediction'] == 1]['is_positive'], xdf[xdf['prediction'] == 1]['order']))\n",
    "print('precision_score:', precision_score(xdf['is_positive'], xdf['prediction']))\n",
    "print('recall_score:', recall_score(xdf['is_positive'], xdf['prediction']))\n",
    "print('f1_score:', f1_score(xdf['is_positive'], xdf['prediction']))"
   ]
  },
  {
   "cell_type": "code",
   "execution_count": 41,
   "id": "a9969bad-8e49-483b-84c6-01b0b20e39f0",
   "metadata": {
    "tags": []
   },
   "outputs": [
    {
     "data": {
      "text/html": [
       "<div>\n",
       "<style scoped>\n",
       "    .dataframe tbody tr th:only-of-type {\n",
       "        vertical-align: middle;\n",
       "    }\n",
       "\n",
       "    .dataframe tbody tr th {\n",
       "        vertical-align: top;\n",
       "    }\n",
       "\n",
       "    .dataframe thead th {\n",
       "        text-align: right;\n",
       "    }\n",
       "</style>\n",
       "<table border=\"1\" class=\"dataframe\">\n",
       "  <thead>\n",
       "    <tr style=\"text-align: right;\">\n",
       "      <th></th>\n",
       "      <th>count</th>\n",
       "      <th>roc</th>\n",
       "      <th>precision</th>\n",
       "      <th>recall</th>\n",
       "      <th>f1</th>\n",
       "    </tr>\n",
       "    <tr>\n",
       "      <th>account_id</th>\n",
       "      <th></th>\n",
       "      <th></th>\n",
       "      <th></th>\n",
       "      <th></th>\n",
       "      <th></th>\n",
       "    </tr>\n",
       "  </thead>\n",
       "  <tbody>\n",
       "    <tr>\n",
       "      <th>hawaii</th>\n",
       "      <td>104</td>\n",
       "      <td>0.365385</td>\n",
       "      <td>0.866667</td>\n",
       "      <td>0.250000</td>\n",
       "      <td>0.388060</td>\n",
       "    </tr>\n",
       "    <tr>\n",
       "      <th>exeter</th>\n",
       "      <td>234</td>\n",
       "      <td>0.387255</td>\n",
       "      <td>0.962264</td>\n",
       "      <td>0.435897</td>\n",
       "      <td>0.600000</td>\n",
       "    </tr>\n",
       "    <tr>\n",
       "      <th>brooklyn</th>\n",
       "      <td>313</td>\n",
       "      <td>0.421875</td>\n",
       "      <td>0.909091</td>\n",
       "      <td>0.256410</td>\n",
       "      <td>0.400000</td>\n",
       "    </tr>\n",
       "    <tr>\n",
       "      <th>colorado</th>\n",
       "      <td>373</td>\n",
       "      <td>0.457792</td>\n",
       "      <td>0.974684</td>\n",
       "      <td>0.413978</td>\n",
       "      <td>0.581132</td>\n",
       "    </tr>\n",
       "    <tr>\n",
       "      <th>seattle</th>\n",
       "      <td>2126</td>\n",
       "      <td>0.506679</td>\n",
       "      <td>0.965157</td>\n",
       "      <td>0.260583</td>\n",
       "      <td>0.410370</td>\n",
       "    </tr>\n",
       "    <tr>\n",
       "      <th>oxford</th>\n",
       "      <td>984</td>\n",
       "      <td>0.513871</td>\n",
       "      <td>0.756098</td>\n",
       "      <td>0.315041</td>\n",
       "      <td>0.444763</td>\n",
       "    </tr>\n",
       "    <tr>\n",
       "      <th>antalya</th>\n",
       "      <td>642</td>\n",
       "      <td>0.525806</td>\n",
       "      <td>0.756098</td>\n",
       "      <td>0.386293</td>\n",
       "      <td>0.511340</td>\n",
       "    </tr>\n",
       "    <tr>\n",
       "      <th>indiana</th>\n",
       "      <td>1854</td>\n",
       "      <td>0.531729</td>\n",
       "      <td>0.874055</td>\n",
       "      <td>0.377174</td>\n",
       "      <td>0.526955</td>\n",
       "    </tr>\n",
       "    <tr>\n",
       "      <th>sofia</th>\n",
       "      <td>1430</td>\n",
       "      <td>0.535948</td>\n",
       "      <td>0.721414</td>\n",
       "      <td>0.485315</td>\n",
       "      <td>0.580268</td>\n",
       "    </tr>\n",
       "    <tr>\n",
       "      <th>athens</th>\n",
       "      <td>1572</td>\n",
       "      <td>0.567373</td>\n",
       "      <td>0.670391</td>\n",
       "      <td>0.152672</td>\n",
       "      <td>0.248705</td>\n",
       "    </tr>\n",
       "    <tr>\n",
       "      <th>ibiza_smartrecruiters</th>\n",
       "      <td>1218</td>\n",
       "      <td>0.571739</td>\n",
       "      <td>0.916335</td>\n",
       "      <td>0.378913</td>\n",
       "      <td>0.536131</td>\n",
       "    </tr>\n",
       "    <tr>\n",
       "      <th>porto</th>\n",
       "      <td>1424</td>\n",
       "      <td>0.574405</td>\n",
       "      <td>0.683473</td>\n",
       "      <td>0.342697</td>\n",
       "      <td>0.456501</td>\n",
       "    </tr>\n",
       "    <tr>\n",
       "      <th>moscow</th>\n",
       "      <td>530</td>\n",
       "      <td>0.574462</td>\n",
       "      <td>0.775510</td>\n",
       "      <td>0.286792</td>\n",
       "      <td>0.418733</td>\n",
       "    </tr>\n",
       "    <tr>\n",
       "      <th>tokyo</th>\n",
       "      <td>333</td>\n",
       "      <td>0.580230</td>\n",
       "      <td>0.645833</td>\n",
       "      <td>0.742515</td>\n",
       "      <td>0.690808</td>\n",
       "    </tr>\n",
       "    <tr>\n",
       "      <th>awasa</th>\n",
       "      <td>778</td>\n",
       "      <td>0.582855</td>\n",
       "      <td>0.730392</td>\n",
       "      <td>0.383033</td>\n",
       "      <td>0.502530</td>\n",
       "    </tr>\n",
       "    <tr>\n",
       "      <th>seoul</th>\n",
       "      <td>56</td>\n",
       "      <td>0.600000</td>\n",
       "      <td>0.769231</td>\n",
       "      <td>0.357143</td>\n",
       "      <td>0.487805</td>\n",
       "    </tr>\n",
       "    <tr>\n",
       "      <th>dublin</th>\n",
       "      <td>504</td>\n",
       "      <td>0.603490</td>\n",
       "      <td>0.862745</td>\n",
       "      <td>0.349206</td>\n",
       "      <td>0.497175</td>\n",
       "    </tr>\n",
       "    <tr>\n",
       "      <th>cancun</th>\n",
       "      <td>1622</td>\n",
       "      <td>0.604541</td>\n",
       "      <td>0.780430</td>\n",
       "      <td>0.403206</td>\n",
       "      <td>0.531707</td>\n",
       "    </tr>\n",
       "    <tr>\n",
       "      <th>philly</th>\n",
       "      <td>573</td>\n",
       "      <td>0.605522</td>\n",
       "      <td>0.772727</td>\n",
       "      <td>0.414634</td>\n",
       "      <td>0.539683</td>\n",
       "    </tr>\n",
       "    <tr>\n",
       "      <th>atlanta</th>\n",
       "      <td>1912</td>\n",
       "      <td>0.607835</td>\n",
       "      <td>0.746939</td>\n",
       "      <td>0.382046</td>\n",
       "      <td>0.505525</td>\n",
       "    </tr>\n",
       "    <tr>\n",
       "      <th>nairobi</th>\n",
       "      <td>1077</td>\n",
       "      <td>0.609788</td>\n",
       "      <td>0.551724</td>\n",
       "      <td>0.237918</td>\n",
       "      <td>0.332468</td>\n",
       "    </tr>\n",
       "    <tr>\n",
       "      <th>bogota</th>\n",
       "      <td>2969</td>\n",
       "      <td>0.618165</td>\n",
       "      <td>0.835220</td>\n",
       "      <td>0.447439</td>\n",
       "      <td>0.582712</td>\n",
       "    </tr>\n",
       "    <tr>\n",
       "      <th>siena</th>\n",
       "      <td>1614</td>\n",
       "      <td>0.622183</td>\n",
       "      <td>0.837209</td>\n",
       "      <td>0.403990</td>\n",
       "      <td>0.544996</td>\n",
       "    </tr>\n",
       "    <tr>\n",
       "      <th>tampa</th>\n",
       "      <td>1304</td>\n",
       "      <td>0.622622</td>\n",
       "      <td>0.855319</td>\n",
       "      <td>0.308282</td>\n",
       "      <td>0.453213</td>\n",
       "    </tr>\n",
       "    <tr>\n",
       "      <th>nashville</th>\n",
       "      <td>1108</td>\n",
       "      <td>0.622830</td>\n",
       "      <td>0.884298</td>\n",
       "      <td>0.386282</td>\n",
       "      <td>0.537688</td>\n",
       "    </tr>\n",
       "    <tr>\n",
       "      <th>arizona_wd</th>\n",
       "      <td>1128</td>\n",
       "      <td>0.625463</td>\n",
       "      <td>0.905660</td>\n",
       "      <td>0.255319</td>\n",
       "      <td>0.398340</td>\n",
       "    </tr>\n",
       "    <tr>\n",
       "      <th>jamaica</th>\n",
       "      <td>1176</td>\n",
       "      <td>0.628216</td>\n",
       "      <td>0.923372</td>\n",
       "      <td>0.409864</td>\n",
       "      <td>0.567727</td>\n",
       "    </tr>\n",
       "    <tr>\n",
       "      <th>alabama</th>\n",
       "      <td>1569</td>\n",
       "      <td>0.653254</td>\n",
       "      <td>0.864721</td>\n",
       "      <td>0.415816</td>\n",
       "      <td>0.561585</td>\n",
       "    </tr>\n",
       "    <tr>\n",
       "      <th>santiago</th>\n",
       "      <td>361</td>\n",
       "      <td>0.659061</td>\n",
       "      <td>0.819444</td>\n",
       "      <td>0.327778</td>\n",
       "      <td>0.468254</td>\n",
       "    </tr>\n",
       "    <tr>\n",
       "      <th>paris</th>\n",
       "      <td>1746</td>\n",
       "      <td>0.659809</td>\n",
       "      <td>0.898219</td>\n",
       "      <td>0.405281</td>\n",
       "      <td>0.558544</td>\n",
       "    </tr>\n",
       "    <tr>\n",
       "      <th>antwerp</th>\n",
       "      <td>455</td>\n",
       "      <td>0.662377</td>\n",
       "      <td>0.827027</td>\n",
       "      <td>0.671053</td>\n",
       "      <td>0.740920</td>\n",
       "    </tr>\n",
       "    <tr>\n",
       "      <th>aden</th>\n",
       "      <td>1462</td>\n",
       "      <td>0.664050</td>\n",
       "      <td>0.833333</td>\n",
       "      <td>0.300958</td>\n",
       "      <td>0.442211</td>\n",
       "    </tr>\n",
       "    <tr>\n",
       "      <th>ebina</th>\n",
       "      <td>224</td>\n",
       "      <td>0.666667</td>\n",
       "      <td>0.962264</td>\n",
       "      <td>0.455357</td>\n",
       "      <td>0.618182</td>\n",
       "    </tr>\n",
       "    <tr>\n",
       "      <th>dallas</th>\n",
       "      <td>941</td>\n",
       "      <td>0.667749</td>\n",
       "      <td>0.965854</td>\n",
       "      <td>0.421277</td>\n",
       "      <td>0.586667</td>\n",
       "    </tr>\n",
       "    <tr>\n",
       "      <th>jaipur</th>\n",
       "      <td>769</td>\n",
       "      <td>0.678947</td>\n",
       "      <td>0.969388</td>\n",
       "      <td>0.247396</td>\n",
       "      <td>0.394191</td>\n",
       "    </tr>\n",
       "    <tr>\n",
       "      <th>caracas</th>\n",
       "      <td>1623</td>\n",
       "      <td>0.679227</td>\n",
       "      <td>0.887363</td>\n",
       "      <td>0.398274</td>\n",
       "      <td>0.549787</td>\n",
       "    </tr>\n",
       "    <tr>\n",
       "      <th>utah</th>\n",
       "      <td>1253</td>\n",
       "      <td>0.682655</td>\n",
       "      <td>0.905263</td>\n",
       "      <td>0.274760</td>\n",
       "      <td>0.421569</td>\n",
       "    </tr>\n",
       "    <tr>\n",
       "      <th>napa</th>\n",
       "      <td>1105</td>\n",
       "      <td>0.684867</td>\n",
       "      <td>0.908297</td>\n",
       "      <td>0.376812</td>\n",
       "      <td>0.532650</td>\n",
       "    </tr>\n",
       "    <tr>\n",
       "      <th>genoa</th>\n",
       "      <td>1269</td>\n",
       "      <td>0.695270</td>\n",
       "      <td>0.866426</td>\n",
       "      <td>0.378549</td>\n",
       "      <td>0.526894</td>\n",
       "    </tr>\n",
       "    <tr>\n",
       "      <th>detroit_avature</th>\n",
       "      <td>476</td>\n",
       "      <td>0.697436</td>\n",
       "      <td>0.858491</td>\n",
       "      <td>0.382353</td>\n",
       "      <td>0.529070</td>\n",
       "    </tr>\n",
       "    <tr>\n",
       "      <th>delhi</th>\n",
       "      <td>40</td>\n",
       "      <td>0.700000</td>\n",
       "      <td>0.909091</td>\n",
       "      <td>0.500000</td>\n",
       "      <td>0.645161</td>\n",
       "    </tr>\n",
       "    <tr>\n",
       "      <th>busan</th>\n",
       "      <td>374</td>\n",
       "      <td>0.708571</td>\n",
       "      <td>0.823529</td>\n",
       "      <td>0.374332</td>\n",
       "      <td>0.514706</td>\n",
       "    </tr>\n",
       "    <tr>\n",
       "      <th>lima</th>\n",
       "      <td>449</td>\n",
       "      <td>0.723810</td>\n",
       "      <td>0.858491</td>\n",
       "      <td>0.406250</td>\n",
       "      <td>0.551515</td>\n",
       "    </tr>\n",
       "    <tr>\n",
       "      <th>cairo</th>\n",
       "      <td>518</td>\n",
       "      <td>0.728968</td>\n",
       "      <td>0.795455</td>\n",
       "      <td>0.270270</td>\n",
       "      <td>0.403458</td>\n",
       "    </tr>\n",
       "    <tr>\n",
       "      <th>essex</th>\n",
       "      <td>96</td>\n",
       "      <td>0.750000</td>\n",
       "      <td>0.750000</td>\n",
       "      <td>0.250000</td>\n",
       "      <td>0.375000</td>\n",
       "    </tr>\n",
       "    <tr>\n",
       "      <th>izmir</th>\n",
       "      <td>66</td>\n",
       "      <td>0.785714</td>\n",
       "      <td>0.875000</td>\n",
       "      <td>0.212121</td>\n",
       "      <td>0.341463</td>\n",
       "    </tr>\n",
       "    <tr>\n",
       "      <th>verona</th>\n",
       "      <td>24</td>\n",
       "      <td>0.833333</td>\n",
       "      <td>0.750000</td>\n",
       "      <td>0.250000</td>\n",
       "      <td>0.375000</td>\n",
       "    </tr>\n",
       "    <tr>\n",
       "      <th>zagreb</th>\n",
       "      <td>64</td>\n",
       "      <td>NaN</td>\n",
       "      <td>1.000000</td>\n",
       "      <td>0.468750</td>\n",
       "      <td>0.638298</td>\n",
       "    </tr>\n",
       "  </tbody>\n",
       "</table>\n",
       "</div>"
      ],
      "text/plain": [
       "                       count       roc  precision    recall        f1\n",
       "account_id                                                           \n",
       "hawaii                   104  0.365385   0.866667  0.250000  0.388060\n",
       "exeter                   234  0.387255   0.962264  0.435897  0.600000\n",
       "brooklyn                 313  0.421875   0.909091  0.256410  0.400000\n",
       "colorado                 373  0.457792   0.974684  0.413978  0.581132\n",
       "seattle                 2126  0.506679   0.965157  0.260583  0.410370\n",
       "oxford                   984  0.513871   0.756098  0.315041  0.444763\n",
       "antalya                  642  0.525806   0.756098  0.386293  0.511340\n",
       "indiana                 1854  0.531729   0.874055  0.377174  0.526955\n",
       "sofia                   1430  0.535948   0.721414  0.485315  0.580268\n",
       "athens                  1572  0.567373   0.670391  0.152672  0.248705\n",
       "ibiza_smartrecruiters   1218  0.571739   0.916335  0.378913  0.536131\n",
       "porto                   1424  0.574405   0.683473  0.342697  0.456501\n",
       "moscow                   530  0.574462   0.775510  0.286792  0.418733\n",
       "tokyo                    333  0.580230   0.645833  0.742515  0.690808\n",
       "awasa                    778  0.582855   0.730392  0.383033  0.502530\n",
       "seoul                     56  0.600000   0.769231  0.357143  0.487805\n",
       "dublin                   504  0.603490   0.862745  0.349206  0.497175\n",
       "cancun                  1622  0.604541   0.780430  0.403206  0.531707\n",
       "philly                   573  0.605522   0.772727  0.414634  0.539683\n",
       "atlanta                 1912  0.607835   0.746939  0.382046  0.505525\n",
       "nairobi                 1077  0.609788   0.551724  0.237918  0.332468\n",
       "bogota                  2969  0.618165   0.835220  0.447439  0.582712\n",
       "siena                   1614  0.622183   0.837209  0.403990  0.544996\n",
       "tampa                   1304  0.622622   0.855319  0.308282  0.453213\n",
       "nashville               1108  0.622830   0.884298  0.386282  0.537688\n",
       "arizona_wd              1128  0.625463   0.905660  0.255319  0.398340\n",
       "jamaica                 1176  0.628216   0.923372  0.409864  0.567727\n",
       "alabama                 1569  0.653254   0.864721  0.415816  0.561585\n",
       "santiago                 361  0.659061   0.819444  0.327778  0.468254\n",
       "paris                   1746  0.659809   0.898219  0.405281  0.558544\n",
       "antwerp                  455  0.662377   0.827027  0.671053  0.740920\n",
       "aden                    1462  0.664050   0.833333  0.300958  0.442211\n",
       "ebina                    224  0.666667   0.962264  0.455357  0.618182\n",
       "dallas                   941  0.667749   0.965854  0.421277  0.586667\n",
       "jaipur                   769  0.678947   0.969388  0.247396  0.394191\n",
       "caracas                 1623  0.679227   0.887363  0.398274  0.549787\n",
       "utah                    1253  0.682655   0.905263  0.274760  0.421569\n",
       "napa                    1105  0.684867   0.908297  0.376812  0.532650\n",
       "genoa                   1269  0.695270   0.866426  0.378549  0.526894\n",
       "detroit_avature          476  0.697436   0.858491  0.382353  0.529070\n",
       "delhi                     40  0.700000   0.909091  0.500000  0.645161\n",
       "busan                    374  0.708571   0.823529  0.374332  0.514706\n",
       "lima                     449  0.723810   0.858491  0.406250  0.551515\n",
       "cairo                    518  0.728968   0.795455  0.270270  0.403458\n",
       "essex                     96  0.750000   0.750000  0.250000  0.375000\n",
       "izmir                     66  0.785714   0.875000  0.212121  0.341463\n",
       "verona                    24  0.833333   0.750000  0.250000  0.375000\n",
       "zagreb                    64       NaN   1.000000  0.468750  0.638298"
      ]
     },
     "execution_count": 41,
     "metadata": {},
     "output_type": "execute_result"
    }
   ],
   "source": [
    "pd.DataFrame({\n",
    "    'count': counts, 'roc': rocs,\n",
    "    'precision': pr, 'recall': re, 'f1': f1\n",
    "}).sort_values('roc')"
   ]
  },
  {
   "cell_type": "code",
   "execution_count": 12,
   "id": "116eb93d-9c16-4638-82cd-3aa7d161cecf",
   "metadata": {
    "tags": []
   },
   "outputs": [
    {
     "data": {
      "image/png": "[encoded data removed]",
      "text/plain": [
       "<Figure size 640x480 with 1 Axes>"
      ]
     },
     "metadata": {},
     "output_type": "display_data"
    }
   ],
   "source": [
    "# Calculate ROC curve\n",
    "fpr, tpr, thresholds = roc_curve(xdf[xdf['prediction'] == 1]['is_positive'], xdf[xdf['prediction'] == 1]['order'])\n",
    "\n",
    "# Calculate AUC (Area Under the ROC Curve)\n",
    "roc_auc = auc(fpr, tpr)\n",
    "\n",
    "# Plot ROC curve\n",
    "plt.figure()\n",
    "plt.plot(fpr, tpr, color='darkorange', lw=2, label=f'ROC curve (AUC = {roc_auc:.2f})')\n",
    "plt.plot([0, 1], [0, 1], color='navy', lw=2, linestyle='--')\n",
    "plt.xlim([0.0, 1.0])\n",
    "plt.ylim([0.0, 1.05])\n",
    "plt.xlabel('False Positive Rate')\n",
    "plt.ylabel('True Positive Rate')\n",
    "plt.title('Receiver Operating Characteristic (ROC) Curve')\n",
    "plt.legend(loc='lower right')\n",
    "plt.show()"
   ]
  },
  {
   "cell_type": "markdown",
   "id": "8ca9d16d-b226-4ee9-8ae6-11f2fb71e85a",
   "metadata": {},
   "source": [
    "# Splotlight"
   ]
  },
  {
   "cell_type": "code",
   "execution_count": 13,
   "id": "d9593dbe-4513-4e8d-9d4d-95a21f484eee",
   "metadata": {
    "tags": []
   },
   "outputs": [
    {
     "data": {
      "text/plain": [
       "(2767813, 44)"
      ]
     },
     "execution_count": 13,
     "metadata": {},
     "output_type": "execute_result"
    }
   ],
   "source": [
    "sql = \"\"\"\n",
    "SELECT  * FROM `hs-brain.ongoing_measurements.grading_results` WHERE\n",
    "TIMESTAMP_TRUNC(timestamp, DAY) > TIMESTAMP(\"2023-11-20\")  \n",
    "-- AND account_id =  'jaipur' \n",
    "-- AND run_identifier = 'xxxxx'\n",
    "AND run_tag = 'quarterly'\n",
    "\"\"\"\n",
    "\n",
    "job_result = db_client.execute(sql)\n",
    "\n",
    "sdf = job_result['query_reults'].to_dataframe()\n",
    "sdf.shape"
   ]
  },
  {
   "cell_type": "code",
   "execution_count": 23,
   "id": "37d56f9f-825a-42b4-b90c-61a277c92217",
   "metadata": {
    "tags": []
   },
   "outputs": [
    {
     "data": {
      "text/plain": [
       "14"
      ]
     },
     "execution_count": 23,
     "metadata": {},
     "output_type": "execute_result"
    }
   ],
   "source": [
    "sdf['account_id'].value_counts().count()"
   ]
  },
  {
   "cell_type": "code",
   "execution_count": 14,
   "id": "d8f02430-4619-4a58-85f6-0374b9686f3d",
   "metadata": {},
   "outputs": [
    {
     "data": {
      "text/plain": [
       "False    2388512\n",
       "True      379301\n",
       "Name: is_positive, dtype: int64"
      ]
     },
     "execution_count": 14,
     "metadata": {},
     "output_type": "execute_result"
    }
   ],
   "source": [
    "sdf['is_positive'] = sdf['max_status']  > 0\n",
    "sdf['is_positive'].value_counts()"
   ]
  },
  {
   "cell_type": "code",
   "execution_count": 30,
   "id": "c6b18018-809f-4f11-b224-5dc2683987e3",
   "metadata": {
    "tags": []
   },
   "outputs": [
    {
     "data": {
      "text/plain": [
       "count    2.767813e+06\n",
       "mean     3.006041e+00\n",
       "std      1.594915e+00\n",
       "min      1.000000e+00\n",
       "25%      1.273511e+00\n",
       "50%      2.887996e+00\n",
       "75%      4.843210e+00\n",
       "max      4.999000e+00\n",
       "Name: raw_explainable_bucketed_score, dtype: float64"
      ]
     },
     "execution_count": 30,
     "metadata": {},
     "output_type": "execute_result"
    }
   ],
   "source": [
    "sdf['raw_explainable_bucketed_score'].describe()"
   ]
  },
  {
   "cell_type": "code",
   "execution_count": 29,
   "id": "0658738e-4b0c-4d10-8e6e-14c7c8e59114",
   "metadata": {
    "tags": []
   },
   "outputs": [
    {
     "data": {
      "text/plain": [
       "Index(['account_id', 'timestamp', 'branch', 'run_tag', 'model_name', 'req_id',\n",
       "       'industry', 'job_education', 'country', 'req_written_languages_top',\n",
       "       'req_written_languages_num', 'top_category', 'sub_category',\n",
       "       'min_years_of_relevant_experience', 'application_id', 'is_rehire',\n",
       "       'is_internal', 'resume_written_languages_top',\n",
       "       'resume_written_languages_num', 'grading_type', 'raw_predicted_proba',\n",
       "       'final_predicted_proba', 'raw_explainable_bucketed_score',\n",
       "       'final_score', 'final_round_score', 'letter_grade',\n",
       "       'years_of_relevant_experience_insight', 'total_years_of_experience',\n",
       "       'maximal_industry_match', 'max_status', 'is_forwarded_candidate',\n",
       "       'meets_qualifications', 'qualification_fail_education',\n",
       "       'qualification_fail_visa', 'qualification_fail_languages',\n",
       "       'qualification_fail_skills', 'qualification_fail_certifications',\n",
       "       'qualification_fail_security_clearance',\n",
       "       'qualification_fail_years_relevant_experience',\n",
       "       'qualification_fail_years_industry_experience', 'run_identifier',\n",
       "       'req_seniority_level', 'model_version', 'dataset_version',\n",
       "       'is_positive', 'prediction'],\n",
       "      dtype='object')"
      ]
     },
     "execution_count": 29,
     "metadata": {},
     "output_type": "execute_result"
    }
   ],
   "source": [
    "sdf.columns"
   ]
  },
  {
   "cell_type": "code",
   "execution_count": 15,
   "id": "d8984a58-3cc6-47cc-9d65-d8b4b58d89f6",
   "metadata": {},
   "outputs": [
    {
     "data": {
      "text/plain": [
       "0.5333445575983637"
      ]
     },
     "execution_count": 15,
     "metadata": {},
     "output_type": "execute_result"
    }
   ],
   "source": [
    "sdf['prediction'] = sdf['final_score'] > 3\n",
    "sdf['prediction'].mean()"
   ]
  },
  {
   "cell_type": "code",
   "execution_count": 33,
   "id": "5f7fc2b2-faa5-4598-913f-336a61555527",
   "metadata": {
    "tags": []
   },
   "outputs": [
    {
     "data": {
      "text/plain": [
       "0.48590529779287833"
      ]
     },
     "execution_count": 33,
     "metadata": {},
     "output_type": "execute_result"
    }
   ],
   "source": [
    "sdf['prediction_before_downgrade'] = sdf['raw_explainable_bucketed_score'] > 3\n",
    "sdf['prediction_before_downgrade'].mean()"
   ]
  },
  {
   "cell_type": "code",
   "execution_count": 25,
   "id": "e5cf0203-fedc-4e14-9d38-b22b823460f7",
   "metadata": {
    "tags": []
   },
   "outputs": [],
   "source": [
    "def sroc(x):\n",
    "    try:\n",
    "        return roc_auc_score(x['is_positive'], x['raw_predicted_proba'])\n",
    "    except:\n",
    "        return None"
   ]
  },
  {
   "cell_type": "code",
   "execution_count": 26,
   "id": "a03c9ffe-2495-45c1-8c27-4fc839fb9cca",
   "metadata": {
    "tags": []
   },
   "outputs": [
    {
     "data": {
      "text/plain": [
       "0.7172633423121457"
      ]
     },
     "execution_count": 26,
     "metadata": {},
     "output_type": "execute_result"
    }
   ],
   "source": [
    "sdf.groupby('req_id').apply(sroc).mean()"
   ]
  },
  {
   "cell_type": "code",
   "execution_count": 31,
   "id": "71f4dde6-2807-4bc0-a9ce-3b450166cda3",
   "metadata": {
    "tags": []
   },
   "outputs": [
    {
     "data": {
      "text/plain": [
       "0.13703996621159018"
      ]
     },
     "execution_count": 31,
     "metadata": {},
     "output_type": "execute_result"
    }
   ],
   "source": [
    "sdf['is_positive'].mean()"
   ]
  },
  {
   "cell_type": "code",
   "execution_count": 27,
   "id": "f10f78f4-f82a-4ce2-8b9e-da10393cdcc6",
   "metadata": {
    "tags": []
   },
   "outputs": [
    {
     "name": "stdout",
     "output_type": "stream",
     "text": [
      "roc_auc_score: 0.7249038299811243\n",
      "precision_score: 0.17256289467944003\n",
      "recall_score: 0.6715959093174023\n",
      "f1_score: 0.27457519513618706\n"
     ]
    }
   ],
   "source": [
    "print('roc_auc_score:', roc_auc_score(sdf['is_positive'], sdf['raw_predicted_proba']))\n",
    "print('precision_score:', precision_score(sdf['is_positive'], sdf['prediction']))\n",
    "print('recall_score:', recall_score(sdf['is_positive'], sdf['prediction']))\n",
    "print('f1_score:', f1_score(sdf['is_positive'], sdf['prediction']))"
   ]
  },
  {
   "cell_type": "code",
   "execution_count": 34,
   "id": "f8b2801a-7302-4330-a96d-8b5b2b7236e8",
   "metadata": {
    "tags": []
   },
   "outputs": [
    {
     "name": "stdout",
     "output_type": "stream",
     "text": [
      "precision_score before downgrade: 0.20371181393342974\n",
      "recall_score before downgrade: 0.7223049767862463\n",
      "f1_score before downgrade: 0.31779565664228426\n"
     ]
    }
   ],
   "source": [
    "print('precision_score before downgrade:', precision_score(sdf['is_positive'], sdf['prediction_before_downgrade']))\n",
    "print('recall_score before downgrade:', recall_score(sdf['is_positive'], sdf['prediction_before_downgrade']))\n",
    "print('f1_score before downgrade:', f1_score(sdf['is_positive'], sdf['prediction_before_downgrade']))"
   ]
  },
  {
   "cell_type": "code",
   "execution_count": 36,
   "id": "b4c0f0de-28a0-4ecf-b753-b0d06128ba26",
   "metadata": {
    "tags": []
   },
   "outputs": [
    {
     "name": "stderr",
     "output_type": "stream",
     "text": [
      "/Users/dima/.virtualenvs/hs/lib/python3.9/site-packages/sklearn/metrics/_classification.py:1318: UndefinedMetricWarning: Recall is ill-defined and being set to 0.0 due to no true samples. Use `zero_division` parameter to control this behavior.\n",
      "  _warn_prf(average, modifier, msg_start, len(result))\n"
     ]
    }
   ],
   "source": [
    "counts = sdf.groupby('account_id')['raw_predicted_proba'].count()\n",
    "rocs = sdf.groupby('account_id').apply(sroc)\n",
    "pr = sdf.groupby('account_id').apply(lambda x: precision_score(x['is_positive'], x['prediction']))\n",
    "re = sdf.groupby('account_id').apply(lambda x: recall_score(x['is_positive'], x['prediction']))\n",
    "f1 = sdf.groupby('account_id').apply(lambda x: f1_score(x['is_positive'], x['prediction']))"
   ]
  },
  {
   "cell_type": "code",
   "execution_count": 37,
   "id": "5e8896f1-1646-4229-9aed-b51d9757f83c",
   "metadata": {
    "tags": []
   },
   "outputs": [
    {
     "data": {
      "text/html": [
       "<div>\n",
       "<style scoped>\n",
       "    .dataframe tbody tr th:only-of-type {\n",
       "        vertical-align: middle;\n",
       "    }\n",
       "\n",
       "    .dataframe tbody tr th {\n",
       "        vertical-align: top;\n",
       "    }\n",
       "\n",
       "    .dataframe thead th {\n",
       "        text-align: right;\n",
       "    }\n",
       "</style>\n",
       "<table border=\"1\" class=\"dataframe\">\n",
       "  <thead>\n",
       "    <tr style=\"text-align: right;\">\n",
       "      <th></th>\n",
       "      <th>count</th>\n",
       "      <th>roc</th>\n",
       "      <th>precision</th>\n",
       "      <th>recall</th>\n",
       "      <th>f1</th>\n",
       "    </tr>\n",
       "    <tr>\n",
       "      <th>account_id</th>\n",
       "      <th></th>\n",
       "      <th></th>\n",
       "      <th></th>\n",
       "      <th></th>\n",
       "      <th></th>\n",
       "    </tr>\n",
       "  </thead>\n",
       "  <tbody>\n",
       "    <tr>\n",
       "      <th>izmir</th>\n",
       "      <td>4404</td>\n",
       "      <td>0.490204</td>\n",
       "      <td>0.293135</td>\n",
       "      <td>0.226361</td>\n",
       "      <td>0.255457</td>\n",
       "    </tr>\n",
       "    <tr>\n",
       "      <th>zagreb</th>\n",
       "      <td>23938</td>\n",
       "      <td>0.622454</td>\n",
       "      <td>0.235851</td>\n",
       "      <td>0.755377</td>\n",
       "      <td>0.359466</td>\n",
       "    </tr>\n",
       "    <tr>\n",
       "      <th>amman</th>\n",
       "      <td>21095</td>\n",
       "      <td>0.660466</td>\n",
       "      <td>0.075457</td>\n",
       "      <td>0.577865</td>\n",
       "      <td>0.133484</td>\n",
       "    </tr>\n",
       "    <tr>\n",
       "      <th>donegal</th>\n",
       "      <td>5054</td>\n",
       "      <td>0.667427</td>\n",
       "      <td>0.756692</td>\n",
       "      <td>0.387805</td>\n",
       "      <td>0.512800</td>\n",
       "    </tr>\n",
       "    <tr>\n",
       "      <th>cancun</th>\n",
       "      <td>243810</td>\n",
       "      <td>0.685877</td>\n",
       "      <td>0.182071</td>\n",
       "      <td>0.686685</td>\n",
       "      <td>0.287827</td>\n",
       "    </tr>\n",
       "    <tr>\n",
       "      <th>alabama</th>\n",
       "      <td>315549</td>\n",
       "      <td>0.697410</td>\n",
       "      <td>0.329680</td>\n",
       "      <td>0.767711</td>\n",
       "      <td>0.461274</td>\n",
       "    </tr>\n",
       "    <tr>\n",
       "      <th>oxford</th>\n",
       "      <td>164516</td>\n",
       "      <td>0.710558</td>\n",
       "      <td>0.127589</td>\n",
       "      <td>0.854828</td>\n",
       "      <td>0.222038</td>\n",
       "    </tr>\n",
       "    <tr>\n",
       "      <th>seattle</th>\n",
       "      <td>38345</td>\n",
       "      <td>0.713799</td>\n",
       "      <td>0.167419</td>\n",
       "      <td>0.861407</td>\n",
       "      <td>0.280350</td>\n",
       "    </tr>\n",
       "    <tr>\n",
       "      <th>antwerp</th>\n",
       "      <td>72074</td>\n",
       "      <td>0.720960</td>\n",
       "      <td>0.124252</td>\n",
       "      <td>0.649599</td>\n",
       "      <td>0.208603</td>\n",
       "    </tr>\n",
       "    <tr>\n",
       "      <th>athens</th>\n",
       "      <td>290703</td>\n",
       "      <td>0.726467</td>\n",
       "      <td>0.150366</td>\n",
       "      <td>0.816628</td>\n",
       "      <td>0.253968</td>\n",
       "    </tr>\n",
       "    <tr>\n",
       "      <th>austin</th>\n",
       "      <td>6915</td>\n",
       "      <td>0.733408</td>\n",
       "      <td>0.279947</td>\n",
       "      <td>0.677090</td>\n",
       "      <td>0.396117</td>\n",
       "    </tr>\n",
       "    <tr>\n",
       "      <th>dallas</th>\n",
       "      <td>1403082</td>\n",
       "      <td>0.745574</td>\n",
       "      <td>0.144296</td>\n",
       "      <td>0.566966</td>\n",
       "      <td>0.230045</td>\n",
       "    </tr>\n",
       "    <tr>\n",
       "      <th>utah</th>\n",
       "      <td>154668</td>\n",
       "      <td>0.746477</td>\n",
       "      <td>0.109256</td>\n",
       "      <td>0.655360</td>\n",
       "      <td>0.187289</td>\n",
       "    </tr>\n",
       "    <tr>\n",
       "      <th>modesto_kenexa</th>\n",
       "      <td>23660</td>\n",
       "      <td>NaN</td>\n",
       "      <td>0.000000</td>\n",
       "      <td>0.000000</td>\n",
       "      <td>0.000000</td>\n",
       "    </tr>\n",
       "  </tbody>\n",
       "</table>\n",
       "</div>"
      ],
      "text/plain": [
       "                  count       roc  precision    recall        f1\n",
       "account_id                                                      \n",
       "izmir              4404  0.490204   0.293135  0.226361  0.255457\n",
       "zagreb            23938  0.622454   0.235851  0.755377  0.359466\n",
       "amman             21095  0.660466   0.075457  0.577865  0.133484\n",
       "donegal            5054  0.667427   0.756692  0.387805  0.512800\n",
       "cancun           243810  0.685877   0.182071  0.686685  0.287827\n",
       "alabama          315549  0.697410   0.329680  0.767711  0.461274\n",
       "oxford           164516  0.710558   0.127589  0.854828  0.222038\n",
       "seattle           38345  0.713799   0.167419  0.861407  0.280350\n",
       "antwerp           72074  0.720960   0.124252  0.649599  0.208603\n",
       "athens           290703  0.726467   0.150366  0.816628  0.253968\n",
       "austin             6915  0.733408   0.279947  0.677090  0.396117\n",
       "dallas          1403082  0.745574   0.144296  0.566966  0.230045\n",
       "utah             154668  0.746477   0.109256  0.655360  0.187289\n",
       "modesto_kenexa    23660       NaN   0.000000  0.000000  0.000000"
      ]
     },
     "execution_count": 37,
     "metadata": {},
     "output_type": "execute_result"
    }
   ],
   "source": [
    "pd.DataFrame({\n",
    "    'count': counts, 'roc': rocs,\n",
    "    'precision': pr, 'recall': re, 'f1': f1\n",
    "}).sort_values('roc')"
   ]
  },
  {
   "cell_type": "code",
   "execution_count": 38,
   "id": "42ed64f8-0924-44b4-bdf8-8cce05c8f8da",
   "metadata": {
    "tags": []
   },
   "outputs": [
    {
     "data": {
      "image/png": "[encoded data removed]",
      "text/plain": [
       "<Figure size 640x480 with 1 Axes>"
      ]
     },
     "metadata": {},
     "output_type": "display_data"
    }
   ],
   "source": [
    "# Calculate ROC curve\n",
    "fpr, tpr, thresholds = roc_curve(sdf['is_positive'], sdf['raw_predicted_proba'])\n",
    "\n",
    "# Calculate AUC (Area Under the ROC Curve)\n",
    "roc_auc = auc(fpr, tpr)\n",
    "\n",
    "# Plot ROC curve\n",
    "plt.figure()\n",
    "plt.plot(fpr, tpr, color='darkorange', lw=2, label=f'ROC curve (AUC = {roc_auc:.2f})')\n",
    "plt.plot([0, 1], [0, 1], color='navy', lw=2, linestyle='--')\n",
    "plt.xlim([0.0, 1.0])\n",
    "plt.ylim([0.0, 1.05])\n",
    "plt.xlabel('False Positive Rate')\n",
    "plt.ylabel('True Positive Rate')\n",
    "plt.title('Receiver Operating Characteristic (ROC) Curve')\n",
    "plt.legend(loc='lower right')\n",
    "plt.show()"
   ]
  },
  {
   "cell_type": "code",
   "execution_count": null,
   "id": "6fd89853-d7fb-4352-a77c-14270fc62267",
   "metadata": {},
   "outputs": [],
   "source": []
  }
 ],
 "metadata": {
  "kernelspec": {
   "display_name": "Python 3 (ipykernel)",
   "language": "python",
   "name": "python3"
  },
  "language_info": {
   "codemirror_mode": {
    "name": "ipython",
    "version": 3
   },
   "file_extension": ".py",
   "mimetype": "text/x-python",
   "name": "python",
   "nbconvert_exporter": "python",
   "pygments_lexer": "ipython3",
   "version": "3.9.5"
  }
 },
 "nbformat": 4,
 "nbformat_minor": 5
}
