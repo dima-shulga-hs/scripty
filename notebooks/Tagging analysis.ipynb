{
 "cells": [
  {
   "cell_type": "code",
   "execution_count": null,
   "id": "0ca7d7ce-b90e-473f-9ad6-fc81d3b7c28c",
   "metadata": {
    "tags": []
   },
   "outputs": [],
   "source": [
    "import pandas as pd\n",
    "from json2html import *\n",
    "from hs_gimme.db_facade.db_facade_factory import get_mongo_client_db\n",
    "from IPython.core.display import display, HTML\n",
    "from hs_gimme.application_status_history_classifier.machine_learning_status_classifier import get_machine_learning_status_classifier\n",
    "from hs_gimme.account_settings_manager import get_account_settings\n",
    "from collections import Counter\n",
    "from hs_gimme.application_status_history_classifier.new_cls import NewStatusCls"
   ]
  },
  {
   "cell_type": "markdown",
   "id": "20b45af2-fec3-475a-8e1f-140b170dcaf0",
   "metadata": {},
   "source": [
    "# Create data"
   ]
  },
  {
   "cell_type": "code",
   "execution_count": null,
   "id": "db8ff7ff-5a96-434d-bae5-5f2dbe3447c5",
   "metadata": {
    "tags": []
   },
   "outputs": [],
   "source": [
    "orig_df = pd.read_csv('/Users/dima/Downloads/fm_for_mer/fetch_measurements.csv')\n",
    "len(orig_df)"
   ]
  },
  {
   "cell_type": "code",
   "execution_count": null,
   "id": "8443b3d1-3b4b-4503-abd8-c92f4ac11114",
   "metadata": {
    "tags": []
   },
   "outputs": [],
   "source": [
    "sorted(orig_df.columns)"
   ]
  },
  {
   "cell_type": "code",
   "execution_count": null,
   "id": "ba645dd3-bc7a-407c-91d3-ae7bfe76f134",
   "metadata": {
    "tags": []
   },
   "outputs": [],
   "source": [
    "new_df = pd.read_csv('/Users/dima/Downloads/fetch_mer4.csv')[['req_id', 'current_talent_id', 'Good fit / Bad fit - 0/1']]\n",
    "new_df.head()"
   ]
  },
  {
   "cell_type": "code",
   "execution_count": null,
   "id": "dda14d53-6bce-49f5-870f-a74a867c9ac2",
   "metadata": {
    "tags": []
   },
   "outputs": [],
   "source": [
    "new_df = new_df.dropna(subset=['Good fit / Bad fit - 0/1'])\n",
    "len(new_df)"
   ]
  },
  {
   "cell_type": "code",
   "execution_count": null,
   "id": "f1bbcb9f-90b2-4938-90fb-95a11e80c98c",
   "metadata": {
    "tags": []
   },
   "outputs": [],
   "source": [
    "df = new_df.merge(orig_df, left_on=['req_id', 'current_talent_id'], right_on=['req_id', 'current_talent_id'])\n",
    "df = df[df['Good fit / Bad fit - 0/1'].isin({'0', '1'})]\n",
    "df['is_good'] = df['Good fit / Bad fit - 0/1'].astype(int)\n",
    "len(df)"
   ]
  },
  {
   "cell_type": "code",
   "execution_count": null,
   "id": "30af914e-5e98-4b0b-a4ce-b656c44741ac",
   "metadata": {
    "tags": []
   },
   "outputs": [],
   "source": [
    "df['group_name'].value_counts()"
   ]
  },
  {
   "cell_type": "code",
   "execution_count": null,
   "id": "414d2750-4742-46cd-a1f1-3136dc899960",
   "metadata": {
    "tags": []
   },
   "outputs": [],
   "source": [
    "orig_df2 = pd.read_csv('/Users/dima/Downloads/for_mer/fetch_2/indian_moscow_junior_senior.csv')"
   ]
  },
  {
   "cell_type": "code",
   "execution_count": null,
   "id": "e68adc8c-a8f3-4635-8cc4-65469eeeeefe",
   "metadata": {
    "tags": []
   },
   "outputs": [],
   "source": [
    "new_df2 = pd.read_csv('/Users/dima/Downloads/mer5.csv')\n",
    "new_df2.head()"
   ]
  },
  {
   "cell_type": "code",
   "execution_count": null,
   "id": "fe074230-30c7-4a9c-977d-fb0df6ea0c4b",
   "metadata": {
    "tags": []
   },
   "outputs": [],
   "source": [
    "new_df2 = new_df2.dropna(subset=['Good fit/ Bad fit (0/1)'])\n",
    "len(new_df2)"
   ]
  },
  {
   "cell_type": "code",
   "execution_count": null,
   "id": "55592154-c57c-486e-8926-ce273c7f4c4d",
   "metadata": {
    "tags": []
   },
   "outputs": [],
   "source": [
    "df2 = new_df2.merge(orig_df2, left_on=['req id', 'talent ID'], right_on=['req_id', 'current_talent_id'])\n",
    "df2 = df2[df2['Good fit/ Bad fit (0/1)'].isin({'0', '1'})]\n",
    "df2['is_good'] = df2['Good fit/ Bad fit (0/1)'].astype(int)\n",
    "len(df2)"
   ]
  },
  {
   "cell_type": "code",
   "execution_count": null,
   "id": "dc27c54c-1c35-4542-9e29-3c78d5e70175",
   "metadata": {
    "tags": []
   },
   "outputs": [],
   "source": [
    "df2['group_name'].value_counts()"
   ]
  },
  {
   "cell_type": "code",
   "execution_count": null,
   "id": "63ead5d9-e1df-43fa-be72-e04dda7284ee",
   "metadata": {
    "tags": []
   },
   "outputs": [],
   "source": [
    "df = pd.concat([df, df2])"
   ]
  },
  {
   "cell_type": "code",
   "execution_count": null,
   "id": "6c08ca96-e413-4bb0-8c08-0276dfa4b89b",
   "metadata": {
    "tags": []
   },
   "outputs": [],
   "source": [
    "df['account'] = df['req_id'].apply(lambda x: x[:3])"
   ]
  },
  {
   "cell_type": "code",
   "execution_count": null,
   "id": "048289b0-1d2a-4250-b856-2268d2e4ecb4",
   "metadata": {
    "tags": []
   },
   "outputs": [],
   "source": [
    "df.shape"
   ]
  },
  {
   "cell_type": "code",
   "execution_count": null,
   "id": "5d23886f-ce1e-4ee4-9caa-180893e7f384",
   "metadata": {
    "tags": []
   },
   "outputs": [],
   "source": [
    "df.head()"
   ]
  },
  {
   "cell_type": "code",
   "execution_count": null,
   "id": "f66ef0bd-5d8c-4778-843c-39a09fa53f99",
   "metadata": {
    "tags": []
   },
   "outputs": [],
   "source": [
    "df['account_id'].value_counts()"
   ]
  },
  {
   "cell_type": "code",
   "execution_count": null,
   "id": "265b7569-1fa0-47e0-826b-08d417c4907f",
   "metadata": {
    "tags": []
   },
   "outputs": [],
   "source": [
    "mongos = {}\n",
    "account_settings = {}\n",
    "status_cls = {}\n",
    "new_cls = {}\n",
    "prod_mongos = {}\n",
    "for account_id in df['account_id'].unique():\n",
    "    print(account_id)\n",
    "    mongos[account_id] = get_mongo_client_db('production_qa', account_id)\n",
    "    prod_mongos[account_id] = get_mongo_client_db('production', account_id)\n",
    "    account_settings[account_id] =  get_account_settings(account_id)\n",
    "    status_cls[account_id] = get_machine_learning_status_classifier('production', account_id)\n",
    "    new_cls[account_id] = NewStatusCls(account_id, 'production')"
   ]
  },
  {
   "cell_type": "code",
   "execution_count": null,
   "id": "a1f25c6a-33fb-4aad-9ded-001397b32df4",
   "metadata": {
    "tags": []
   },
   "outputs": [],
   "source": [
    "def get_app(r):\n",
    "    req_id = r['req_id']\n",
    "    talent_id = r['current_talent_id']\n",
    "    account = r['account_id']\n",
    "    mongo = mongos[account]\n",
    "    prod_mongo = prod_mongos[account]\n",
    "    \n",
    "    app = mongo.application.find_one({'req_id': req_id, 'current_talent_id': talent_id}) or prod_mongo.application.find_one({'req_id': req_id, 'current_talent_id': talent_id})\n",
    "    \n",
    "    return app"
   ]
  },
  {
   "cell_type": "code",
   "execution_count": null,
   "id": "780ed513-c821-4423-8a22-b4bc619bad12",
   "metadata": {
    "tags": []
   },
   "outputs": [],
   "source": [
    "df['app'] = df.apply(get_app, axis=1)"
   ]
  },
  {
   "cell_type": "code",
   "execution_count": null,
   "id": "ce391e57-5cd8-47be-96fc-55d8691fb2f4",
   "metadata": {
    "tags": []
   },
   "outputs": [],
   "source": [
    "df['max_status'] = df.apply(lambda r: status_cls[r['account_id']].get_max_status(r['app']), axis=1)\n",
    "df['max_status'].value_counts()"
   ]
  },
  {
   "cell_type": "code",
   "execution_count": null,
   "id": "4d9a3c33-4751-4ae5-b45d-b07f2d0dead9",
   "metadata": {
    "tags": []
   },
   "outputs": [],
   "source": [
    "df['app'].isna().sum(), df['app'].isna().mean()"
   ]
  },
  {
   "cell_type": "code",
   "execution_count": null,
   "id": "da7ba3bc-c53e-455a-bb8a-69d38de4552e",
   "metadata": {
    "tags": []
   },
   "outputs": [],
   "source": [
    "df = df.dropna(subset=['app'])"
   ]
  },
  {
   "cell_type": "code",
   "execution_count": null,
   "id": "19c1ef63-ef34-467a-89ab-3cd94eb11378",
   "metadata": {
    "tags": []
   },
   "outputs": [],
   "source": [
    "df.to_pickle('tagging_analysis_df.pkl')"
   ]
  },
  {
   "cell_type": "markdown",
   "id": "0bfc12ff-2ca0-4b32-bc88-16a19abb6b44",
   "metadata": {},
   "source": [
    "# Analysis"
   ]
  },
  {
   "cell_type": "code",
   "execution_count": null,
   "id": "9dbaf532-6d6f-4dd3-9846-469f93e6de4e",
   "metadata": {
    "tags": []
   },
   "outputs": [],
   "source": [
    "df = pd.read_pickle('tagging_analysis_df.pkl')"
   ]
  },
  {
   "cell_type": "code",
   "execution_count": null,
   "id": "5bce3935-1969-4896-8af4-9082270120ff",
   "metadata": {
    "tags": []
   },
   "outputs": [],
   "source": [
    "mongos = {}\n",
    "account_settings = {}\n",
    "status_cls = {}\n",
    "new_cls = {}\n",
    "prod_mongos = {}\n",
    "for account_id in df['account_id'].unique():\n",
    "    print(account_id)\n",
    "    mongos[account_id] = get_mongo_client_db('production_qa', account_id)\n",
    "    prod_mongos[account_id] = get_mongo_client_db('production', account_id)\n",
    "    account_settings[account_id] =  get_account_settings(account_id)\n",
    "    status_cls[account_id] = get_machine_learning_status_classifier('production', account_id)\n",
    "    new_cls[account_id] = NewStatusCls(account_id, 'production')"
   ]
  },
  {
   "cell_type": "code",
   "execution_count": null,
   "id": "9c7333ad-7a78-4fd0-8e90-924a0201f0c0",
   "metadata": {
    "tags": []
   },
   "outputs": [],
   "source": [
    "def get_phases(row):\n",
    "    account_id = row['account_id']\n",
    "    app = row['app']\n",
    "    return '->'.join(k for k, v in sorted(status_cls[account_id].get_phases_reach_dates(app).items(), key=lambda x: x[1]))"
   ]
  },
  {
   "cell_type": "code",
   "execution_count": null,
   "id": "7f2aa519-326c-4ffa-b2bc-0a1e17712039",
   "metadata": {
    "tags": []
   },
   "outputs": [],
   "source": [
    "def get_statuses(app):\n",
    "    statuses = app['ats_application']['status_info']['status_history']\n",
    "    status_names = ['_'.join(s['codes'].values()) for s in statuses]\n",
    "    return '->'.join(status_names)\n",
    "\n",
    "def get_statuses_names(app):\n",
    "    statuses = app['ats_application']['status_info']['status_history']\n",
    "    try:\n",
    "        status_names = [s.get('status_name') or s.get('step_name') for s in statuses]\n",
    "    except:\n",
    "        print(statuses)\n",
    "        raise\n",
    "    return '->'.join(status_names)"
   ]
  },
  {
   "cell_type": "code",
   "execution_count": null,
   "id": "c136d179-6c79-4809-b3fb-ec4637a35fe8",
   "metadata": {
    "tags": []
   },
   "outputs": [],
   "source": [
    "df['phases'] = df.apply(get_phases, axis=1)"
   ]
  },
  {
   "cell_type": "code",
   "execution_count": null,
   "id": "f7015290-4172-48b8-a282-f1a118bb9732",
   "metadata": {
    "tags": []
   },
   "outputs": [],
   "source": [
    "df['statuses_names'] = df['app'].apply(get_statuses_names)"
   ]
  },
  {
   "cell_type": "code",
   "execution_count": null,
   "id": "799e3093-d9be-4490-9b29-0a5fb3b11914",
   "metadata": {
    "tags": []
   },
   "outputs": [],
   "source": [
    "df['statuses'] = df['app'].apply(get_statuses)"
   ]
  },
  {
   "cell_type": "code",
   "execution_count": null,
   "id": "2cc07863-0ea4-440d-ad7c-fe72be9c3d5b",
   "metadata": {
    "tags": []
   },
   "outputs": [],
   "source": [
    "df['new_max_status'] = df.apply(lambda r: new_cls[r['account_id']].get_max_status(r['app']), axis=1)\n",
    "df['new_max_status'].value_counts()"
   ]
  },
  {
   "cell_type": "code",
   "execution_count": null,
   "id": "d459e761-c640-4fa7-ba8d-703f50e43a9e",
   "metadata": {
    "tags": []
   },
   "outputs": [],
   "source": [
    "df.groupby(['max_status', 'is_good']).size() / df.groupby('max_status').size()"
   ]
  },
  {
   "cell_type": "code",
   "execution_count": null,
   "id": "d4d53a0b-1a46-4a9a-ba1c-903c9b9e9627",
   "metadata": {
    "tags": []
   },
   "outputs": [],
   "source": [
    "df.groupby(['new_max_status', 'is_good']).size() / df.groupby('new_max_status').size()"
   ]
  },
  {
   "cell_type": "code",
   "execution_count": null,
   "id": "8bbde8e8-7469-46c3-910e-15407f45dd87",
   "metadata": {
    "tags": []
   },
   "outputs": [],
   "source": [
    "df[(df['new_max_status'] == -1) & (df['is_good'] == 0)]['phases'].value_counts()"
   ]
  },
  {
   "cell_type": "code",
   "execution_count": null,
   "id": "0aa8c067-1f76-421b-9cb6-99e3f0b136c9",
   "metadata": {
    "tags": []
   },
   "outputs": [],
   "source": [
    "df[(df['new_max_status'] == 4) & (df['is_good'] == 0)]['phases'].value_counts()"
   ]
  },
  {
   "cell_type": "code",
   "execution_count": null,
   "id": "da1729e8-7452-4887-8edd-22c5bc26f0fa",
   "metadata": {
    "tags": []
   },
   "outputs": [],
   "source": [
    "def get_new_group(new_max_status):\n",
    "    if new_max_status == 0:\n",
    "        return 'Negative Rejected'\n",
    "    \n",
    "    if new_max_status >= 3: \n",
    "        return 'Positive Offer+ With Experience'\n",
    "    \n",
    "    return 'Other'"
   ]
  },
  {
   "cell_type": "code",
   "execution_count": null,
   "id": "63444760-01ac-4ee8-a036-1ceea55af352",
   "metadata": {
    "tags": []
   },
   "outputs": [],
   "source": [
    "df['new_group_name'] = df['new_max_status'].apply(get_new_group)"
   ]
  },
  {
   "cell_type": "code",
   "execution_count": null,
   "id": "2978dcb8-16d5-4a32-9f3c-b71d2977e687",
   "metadata": {
    "tags": []
   },
   "outputs": [],
   "source": [
    "df.groupby(['new_group_name'])['is_good'].agg(['count', 'mean'])"
   ]
  },
  {
   "cell_type": "code",
   "execution_count": null,
   "id": "88853007-89ab-4d8a-afa5-566c0aa8df6b",
   "metadata": {
    "tags": []
   },
   "outputs": [],
   "source": [
    "df.groupby(['group_name',])['is_good'].agg(['count', 'mean'])"
   ]
  },
  {
   "cell_type": "markdown",
   "id": "5fa1e6f7-2db1-47de-b045-1f76e2d45cff",
   "metadata": {},
   "source": [
    "# Investigation"
   ]
  },
  {
   "cell_type": "code",
   "execution_count": null,
   "id": "4dc8b06e-7446-4799-bca6-5606c644c5ee",
   "metadata": {
    "tags": []
   },
   "outputs": [],
   "source": [
    "df.groupby(['max_status', 'new_max_status'])['is_good'].agg(['count', 'mean'])"
   ]
  },
  {
   "cell_type": "code",
   "execution_count": null,
   "id": "b66dc2fc-b98b-4c6c-b5db-0eb438a2b70d",
   "metadata": {
    "tags": []
   },
   "outputs": [],
   "source": [
    "df[(df['new_max_status'] == 0) & (df['is_good'] == 1)]['statuses_names'].value_counts()"
   ]
  },
  {
   "cell_type": "code",
   "execution_count": null,
   "id": "6af46ba5-6e32-4756-9fa2-4333623f49bc",
   "metadata": {
    "tags": []
   },
   "outputs": [],
   "source": [
    "df[(df['max_status'] == 4) &  (df['new_max_status'] == -1) & (df['is_good'] == 1) & (df['phases'] == 'review->interview->offer->hire')][['req_id', 'current_talent_id', 'phases']]"
   ]
  },
  {
   "cell_type": "code",
   "execution_count": null,
   "id": "3794da21-017d-4b60-8939-2102d68cce00",
   "metadata": {},
   "outputs": [],
   "source": []
  },
  {
   "cell_type": "code",
   "execution_count": null,
   "id": "fd9af31c-1336-495d-8a92-5579e38e0b54",
   "metadata": {
    "tags": []
   },
   "outputs": [],
   "source": [
    "df[df['statuses_names'] == 'JOB_APPLICATION_DEFAULT_DEFINITION_STEP_B__ACTION->JOB_APPLICATION_DEFAULT_DEFINITION_STEP_P_REVIEW_CONCLUSION:_DOES_NOT_MEET_MINIMUM_REQUIREMENTS_FOR_THE_POSITION_(NOTIFICATION_WILL_BE_SENT)']['is_good'].mean()"
   ]
  },
  {
   "cell_type": "code",
   "execution_count": null,
   "id": "ff06fabe-fc76-47b1-9f83-2e487358fd38",
   "metadata": {
    "tags": []
   },
   "outputs": [],
   "source": [
    "df[df['statuses_names'] == 'JOB_APPLICATION_DEFAULT_DEFINITION_STEP_B__ACTION->JOB_APPLICATION_DEFAULT_DEFINITION_STEP_P_REVIEW_CONCLUSION:_DOES_NOT_MEET_MINIMUM_REQUIREMENTS_FOR_THE_POSITION_(NOTIFICATION_WILL_BE_SENT)'][['req_id', 'current_talent_id', 'phases']]"
   ]
  },
  {
   "cell_type": "code",
   "execution_count": null,
   "id": "330a1745-01d2-4743-9908-398ca9fa5902",
   "metadata": {
    "tags": []
   },
   "outputs": [],
   "source": [
    "df[(df['new_max_status'] == 0)].groupby('statuses_names')['is_good'].agg(['count', 'mean']).sort_values('count', ascending=False)"
   ]
  },
  {
   "cell_type": "code",
   "execution_count": null,
   "id": "7c039cd0-cb7b-421c-8e0b-79c2128a062a",
   "metadata": {
    "tags": []
   },
   "outputs": [],
   "source": [
    "df.columns"
   ]
  },
  {
   "cell_type": "code",
   "execution_count": null,
   "id": "db4964cd-2dbf-40f3-8e1d-d2ac577d2ffb",
   "metadata": {},
   "outputs": [],
   "source": [
    "req_seniority_level"
   ]
  },
  {
   "cell_type": "code",
   "execution_count": null,
   "id": "78eff653-d0d0-4a4d-be4b-6a2287e164c7",
   "metadata": {
    "tags": []
   },
   "outputs": [],
   "source": [
    "df.groupby(['req_seniority_level', 'group_name'])['is_good'].agg(['count', 'mean'])"
   ]
  },
  {
   "cell_type": "code",
   "execution_count": null,
   "id": "8aff0702-5aad-416c-a4c8-af0ab64d5d2d",
   "metadata": {
    "tags": []
   },
   "outputs": [],
   "source": [
    "df.groupby(['req_seniority_level', 'new_group_name'])['is_good'].agg(['count', 'mean'])"
   ]
  },
  {
   "cell_type": "code",
   "execution_count": null,
   "id": "9873356c-bc14-4cba-a884-e0a9b5c56409",
   "metadata": {},
   "outputs": [],
   "source": []
  }
 ],
 "metadata": {
  "kernelspec": {
   "display_name": "Python 3 (ipykernel)",
   "language": "python",
   "name": "python3"
  },
  "language_info": {
   "codemirror_mode": {
    "name": "ipython",
    "version": 3
   },
   "file_extension": ".py",
   "mimetype": "text/x-python",
   "name": "python",
   "nbconvert_exporter": "python",
   "pygments_lexer": "ipython3",
   "version": "3.9.5"
  }
 },
 "nbformat": 4,
 "nbformat_minor": 5
}
