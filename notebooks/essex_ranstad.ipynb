{
 "cells": [
  {
   "cell_type": "code",
   "execution_count": 1,
   "id": "1d8c3036-d3fc-414d-81da-af71b6d5c971",
   "metadata": {
    "tags": []
   },
   "outputs": [],
   "source": [
    "import pandas as pd\n",
    "from hs_gimme.db_facade.db_facade_factory import get_mongo_client_db\n",
    "from tqdm import tqdm\n",
    "import itertools\n",
    "from collections import Counter\n",
    "import numpy as np\n",
    "from sklearn.metrics import precision_score, recall_score, classification_report, average_precision_score, roc_auc_score\n",
    "import matplotlib.pyplot as plt\n",
    "from hs_tree_blenders_creation.batch_runners.data_sets import get_account_test_set\n",
    "import datetime\n",
    "import pandas as pd"
   ]
  },
  {
   "cell_type": "code",
   "execution_count": 2,
   "id": "1cdab2bf-d763-46d0-b251-ef7c606ce0df",
   "metadata": {
    "tags": []
   },
   "outputs": [],
   "source": [
    "mongo = get_mongo_client_db('production', 'essex')"
   ]
  },
  {
   "cell_type": "code",
   "execution_count": 19,
   "id": "b963049a-6e19-4d77-a570-7b05b89a6564",
   "metadata": {
    "tags": []
   },
   "outputs": [
    {
     "data": {
      "text/plain": [
       "255"
      ]
     },
     "execution_count": 19,
     "metadata": {},
     "output_type": "execute_result"
    }
   ],
   "source": [
    "reqs_filter = {\n",
    "   # 'req_status': {'$nin': ['Filled', 'Canceled', 'Cancelled', 'Cancel', 'Deleted', 'Requisition rejected', 'Closed', 'close', 'SAPClosed', 'SAPDeleted', 'Requisition request cancelled', 'Cancelled - Changed Emp. Type', 'Declined', 'Denied', 'Event Completed', 'unpublish', 'Approval Denied']}, \n",
    "   # 'is_enabled': False, \n",
    "  #  'open_date': {'$gte': datetime.datetime(2022, 12, 20, 5, 37, 1, 953162)}\n",
    "}\n",
    "reqs = list(mongo.req.find(reqs_filter, []))\n",
    "len(reqs)"
   ]
  },
  {
   "cell_type": "code",
   "execution_count": 20,
   "id": "9d1a9710-be73-49f3-85f9-d49ec7326461",
   "metadata": {
    "tags": []
   },
   "outputs": [],
   "source": [
    "req_ids = [r['_id'] for r in reqs]"
   ]
  },
  {
   "cell_type": "code",
   "execution_count": 21,
   "id": "e086d599-e1f2-4453-a17e-157e028faed0",
   "metadata": {
    "tags": []
   },
   "outputs": [
    {
     "name": "stderr",
     "output_type": "stream",
     "text": [
      "/var/folders/_p/8_m91crj199_rd7sndkxncc80000gp/T/ipykernel_94093/2677524474.py:1: DeprecationWarning: count is deprecated. Use estimated_document_count or count_documents instead. Please note that $where must be replaced by $expr, $near must be replaced by $geoWithin with $center, and $nearSphere must be replaced by $geoWithin with $centerSphere\n",
      "  mongo.recommended_candidate.count({'req_id': {'$in': req_ids}})\n"
     ]
    },
    {
     "data": {
      "text/plain": [
       "2762"
      ]
     },
     "execution_count": 21,
     "metadata": {},
     "output_type": "execute_result"
    }
   ],
   "source": [
    "mongo.recommended_candidate.count({'req_id': {'$in': req_ids}})"
   ]
  },
  {
   "cell_type": "code",
   "execution_count": 24,
   "id": "d12aff3e-2667-458c-89ca-6b43ad4ce920",
   "metadata": {
    "tags": []
   },
   "outputs": [
    {
     "name": "stderr",
     "output_type": "stream",
     "text": [
      "/var/folders/_p/8_m91crj199_rd7sndkxncc80000gp/T/ipykernel_94093/2428192581.py:1: DeprecationWarning: count is deprecated. Use estimated_document_count or count_documents instead. Please note that $where must be replaced by $expr, $near must be replaced by $geoWithin with $center, and $nearSphere must be replaced by $geoWithin with $centerSphere\n",
      "  mongo.recommended_candidate.count({'external_pool': {'$exists': True}})\n"
     ]
    },
    {
     "data": {
      "text/plain": [
       "0"
      ]
     },
     "execution_count": 24,
     "metadata": {},
     "output_type": "execute_result"
    }
   ],
   "source": [
    "mongo.recommended_candidate.count({'external_pool': {'$exists': True}})"
   ]
  },
  {
   "cell_type": "code",
   "execution_count": 6,
   "id": "efe36ab7-b9a2-4792-924a-cd236e42aad5",
   "metadata": {
    "tags": []
   },
   "outputs": [
    {
     "name": "stdout",
     "output_type": "stream",
     "text": [
      "\u001b[2m2023-03-22T12:31:25.947180Z\u001b[0m [\u001b[33m\u001b[1mwarning  \u001b[0m] \u001b[1mSlowLog                       \u001b[0m \u001b[36mcommand_name\u001b[0m=\u001b[35mgetMore\u001b[0m \u001b[36mconnection_id\u001b[0m=\u001b[35mmongodb-3c.prod.omcomcom.com:27029\u001b[0m \u001b[36mduration_ms__numeric\u001b[0m=\u001b[35m14425.966\u001b[0m \u001b[36mduration_threshold__numeric\u001b[0m=\u001b[35m10000\u001b[0m \u001b[36menvironment\u001b[0m=\u001b[35mlocal\u001b[0m \u001b[36mfile_path\u001b[0m=\u001b[35m/Users/dima/hiredscore/gimme/hs_gimme/db_facade/slow_logs_utils.py\u001b[0m \u001b[36mfunction_name\u001b[0m=\u001b[35mwrite_slow_log\u001b[0m \u001b[36mhostname\u001b[0m=\u001b[35mDima-Shulga-MacBook-Pro\u001b[0m \u001b[36mline_number\u001b[0m=\u001b[35m11\u001b[0m \u001b[36mmodule\u001b[0m=\u001b[35mhs_gimme.db_facade.slow_logs_utils\u001b[0m \u001b[36mpid\u001b[0m=\u001b[35m94093\u001b[0m \u001b[36mrequest_id\u001b[0m=\u001b[35m1954899097\u001b[0m \u001b[36msource\u001b[0m=\u001b[35mPyMongo\u001b[0m \u001b[36mstack_snippet\u001b[0m=\u001b[35m\n",
      "  File \"/var/folders/_p/8_m91crj199_rd7sndkxncc80000gp/T/ipykernel_94093/919133386.py\", line 1, in <module>\n",
      "    recs = list(mongo.recommended_candidate.find({'req_id': {'$in': req_ids}}))\n",
      "\u001b[0m\n",
      "\u001b[2m2023-03-22T12:31:45.667218Z\u001b[0m [\u001b[33m\u001b[1mwarning  \u001b[0m] \u001b[1mSlowLog                       \u001b[0m \u001b[36mcommand_name\u001b[0m=\u001b[35mgetMore\u001b[0m \u001b[36mconnection_id\u001b[0m=\u001b[35mmongodb-3c.prod.omcomcom.com:27029\u001b[0m \u001b[36mduration_ms__numeric\u001b[0m=\u001b[35m19718.83\u001b[0m \u001b[36mduration_threshold__numeric\u001b[0m=\u001b[35m10000\u001b[0m \u001b[36menvironment\u001b[0m=\u001b[35mlocal\u001b[0m \u001b[36mfile_path\u001b[0m=\u001b[35m/Users/dima/hiredscore/gimme/hs_gimme/db_facade/slow_logs_utils.py\u001b[0m \u001b[36mfunction_name\u001b[0m=\u001b[35mwrite_slow_log\u001b[0m \u001b[36mhostname\u001b[0m=\u001b[35mDima-Shulga-MacBook-Pro\u001b[0m \u001b[36mline_number\u001b[0m=\u001b[35m11\u001b[0m \u001b[36mmodule\u001b[0m=\u001b[35mhs_gimme.db_facade.slow_logs_utils\u001b[0m \u001b[36mpid\u001b[0m=\u001b[35m94093\u001b[0m \u001b[36mrequest_id\u001b[0m=\u001b[35m704877633\u001b[0m \u001b[36msource\u001b[0m=\u001b[35mPyMongo\u001b[0m \u001b[36mstack_snippet\u001b[0m=\u001b[35m\n",
      "  File \"/var/folders/_p/8_m91crj199_rd7sndkxncc80000gp/T/ipykernel_94093/919133386.py\", line 1, in <module>\n",
      "    recs = list(mongo.recommended_candidate.find({'req_id': {'$in': req_ids}}))\n",
      "\u001b[0m\n",
      "\u001b[2m2023-03-22T12:32:08.786931Z\u001b[0m [\u001b[33m\u001b[1mwarning  \u001b[0m] \u001b[1mSlowLog                       \u001b[0m \u001b[36mcommand_name\u001b[0m=\u001b[35mgetMore\u001b[0m \u001b[36mconnection_id\u001b[0m=\u001b[35mmongodb-3c.prod.omcomcom.com:27029\u001b[0m \u001b[36mduration_ms__numeric\u001b[0m=\u001b[35m23118.431\u001b[0m \u001b[36mduration_threshold__numeric\u001b[0m=\u001b[35m10000\u001b[0m \u001b[36menvironment\u001b[0m=\u001b[35mlocal\u001b[0m \u001b[36mfile_path\u001b[0m=\u001b[35m/Users/dima/hiredscore/gimme/hs_gimme/db_facade/slow_logs_utils.py\u001b[0m \u001b[36mfunction_name\u001b[0m=\u001b[35mwrite_slow_log\u001b[0m \u001b[36mhostname\u001b[0m=\u001b[35mDima-Shulga-MacBook-Pro\u001b[0m \u001b[36mline_number\u001b[0m=\u001b[35m11\u001b[0m \u001b[36mmodule\u001b[0m=\u001b[35mhs_gimme.db_facade.slow_logs_utils\u001b[0m \u001b[36mpid\u001b[0m=\u001b[35m94093\u001b[0m \u001b[36mrequest_id\u001b[0m=\u001b[35m1551901393\u001b[0m \u001b[36msource\u001b[0m=\u001b[35mPyMongo\u001b[0m \u001b[36mstack_snippet\u001b[0m=\u001b[35m\n",
      "  File \"/var/folders/_p/8_m91crj199_rd7sndkxncc80000gp/T/ipykernel_94093/919133386.py\", line 1, in <module>\n",
      "    recs = list(mongo.recommended_candidate.find({'req_id': {'$in': req_ids}}))\n",
      "\u001b[0m\n",
      "\u001b[2m2023-03-22T12:32:24.324323Z\u001b[0m [\u001b[33m\u001b[1mwarning  \u001b[0m] \u001b[1mSlowLog                       \u001b[0m \u001b[36mcommand_name\u001b[0m=\u001b[35mgetMore\u001b[0m \u001b[36mconnection_id\u001b[0m=\u001b[35mmongodb-3c.prod.omcomcom.com:27029\u001b[0m \u001b[36mduration_ms__numeric\u001b[0m=\u001b[35m15536.209\u001b[0m \u001b[36mduration_threshold__numeric\u001b[0m=\u001b[35m10000\u001b[0m \u001b[36menvironment\u001b[0m=\u001b[35mlocal\u001b[0m \u001b[36mfile_path\u001b[0m=\u001b[35m/Users/dima/hiredscore/gimme/hs_gimme/db_facade/slow_logs_utils.py\u001b[0m \u001b[36mfunction_name\u001b[0m=\u001b[35mwrite_slow_log\u001b[0m \u001b[36mhostname\u001b[0m=\u001b[35mDima-Shulga-MacBook-Pro\u001b[0m \u001b[36mline_number\u001b[0m=\u001b[35m11\u001b[0m \u001b[36mmodule\u001b[0m=\u001b[35mhs_gimme.db_facade.slow_logs_utils\u001b[0m \u001b[36mpid\u001b[0m=\u001b[35m94093\u001b[0m \u001b[36mrequest_id\u001b[0m=\u001b[35m937186357\u001b[0m \u001b[36msource\u001b[0m=\u001b[35mPyMongo\u001b[0m \u001b[36mstack_snippet\u001b[0m=\u001b[35m\n",
      "  File \"/var/folders/_p/8_m91crj199_rd7sndkxncc80000gp/T/ipykernel_94093/919133386.py\", line 1, in <module>\n",
      "    recs = list(mongo.recommended_candidate.find({'req_id': {'$in': req_ids}}))\n",
      "\u001b[0m\n",
      "\u001b[2m2023-03-22T12:32:40.995115Z\u001b[0m [\u001b[33m\u001b[1mwarning  \u001b[0m] \u001b[1mSlowLog                       \u001b[0m \u001b[36mcommand_name\u001b[0m=\u001b[35mgetMore\u001b[0m \u001b[36mconnection_id\u001b[0m=\u001b[35mmongodb-3c.prod.omcomcom.com:27029\u001b[0m \u001b[36mduration_ms__numeric\u001b[0m=\u001b[35m16669.6\u001b[0m \u001b[36mduration_threshold__numeric\u001b[0m=\u001b[35m10000\u001b[0m \u001b[36menvironment\u001b[0m=\u001b[35mlocal\u001b[0m \u001b[36mfile_path\u001b[0m=\u001b[35m/Users/dima/hiredscore/gimme/hs_gimme/db_facade/slow_logs_utils.py\u001b[0m \u001b[36mfunction_name\u001b[0m=\u001b[35mwrite_slow_log\u001b[0m \u001b[36mhostname\u001b[0m=\u001b[35mDima-Shulga-MacBook-Pro\u001b[0m \u001b[36mline_number\u001b[0m=\u001b[35m11\u001b[0m \u001b[36mmodule\u001b[0m=\u001b[35mhs_gimme.db_facade.slow_logs_utils\u001b[0m \u001b[36mpid\u001b[0m=\u001b[35m94093\u001b[0m \u001b[36mrequest_id\u001b[0m=\u001b[35m771515668\u001b[0m \u001b[36msource\u001b[0m=\u001b[35mPyMongo\u001b[0m \u001b[36mstack_snippet\u001b[0m=\u001b[35m\n",
      "  File \"/var/folders/_p/8_m91crj199_rd7sndkxncc80000gp/T/ipykernel_94093/919133386.py\", line 1, in <module>\n",
      "    recs = list(mongo.recommended_candidate.find({'req_id': {'$in': req_ids}}))\n",
      "\u001b[0m\n",
      "\u001b[2m2023-03-22T12:33:00.064127Z\u001b[0m [\u001b[33m\u001b[1mwarning  \u001b[0m] \u001b[1mSlowLog                       \u001b[0m \u001b[36mcommand_name\u001b[0m=\u001b[35mgetMore\u001b[0m \u001b[36mconnection_id\u001b[0m=\u001b[35mmongodb-3c.prod.omcomcom.com:27029\u001b[0m \u001b[36mduration_ms__numeric\u001b[0m=\u001b[35m19067.671\u001b[0m \u001b[36mduration_threshold__numeric\u001b[0m=\u001b[35m10000\u001b[0m \u001b[36menvironment\u001b[0m=\u001b[35mlocal\u001b[0m \u001b[36mfile_path\u001b[0m=\u001b[35m/Users/dima/hiredscore/gimme/hs_gimme/db_facade/slow_logs_utils.py\u001b[0m \u001b[36mfunction_name\u001b[0m=\u001b[35mwrite_slow_log\u001b[0m \u001b[36mhostname\u001b[0m=\u001b[35mDima-Shulga-MacBook-Pro\u001b[0m \u001b[36mline_number\u001b[0m=\u001b[35m11\u001b[0m \u001b[36mmodule\u001b[0m=\u001b[35mhs_gimme.db_facade.slow_logs_utils\u001b[0m \u001b[36mpid\u001b[0m=\u001b[35m94093\u001b[0m \u001b[36mrequest_id\u001b[0m=\u001b[35m130060903\u001b[0m \u001b[36msource\u001b[0m=\u001b[35mPyMongo\u001b[0m \u001b[36mstack_snippet\u001b[0m=\u001b[35m\n",
      "  File \"/var/folders/_p/8_m91crj199_rd7sndkxncc80000gp/T/ipykernel_94093/919133386.py\", line 1, in <module>\n",
      "    recs = list(mongo.recommended_candidate.find({'req_id': {'$in': req_ids}}))\n",
      "\u001b[0m\n",
      "\u001b[2m2023-03-22T12:33:17.331460Z\u001b[0m [\u001b[33m\u001b[1mwarning  \u001b[0m] \u001b[1mSlowLog                       \u001b[0m \u001b[36mcommand_name\u001b[0m=\u001b[35mgetMore\u001b[0m \u001b[36mconnection_id\u001b[0m=\u001b[35mmongodb-3c.prod.omcomcom.com:27029\u001b[0m \u001b[36mduration_ms__numeric\u001b[0m=\u001b[35m17266.084\u001b[0m \u001b[36mduration_threshold__numeric\u001b[0m=\u001b[35m10000\u001b[0m \u001b[36menvironment\u001b[0m=\u001b[35mlocal\u001b[0m \u001b[36mfile_path\u001b[0m=\u001b[35m/Users/dima/hiredscore/gimme/hs_gimme/db_facade/slow_logs_utils.py\u001b[0m \u001b[36mfunction_name\u001b[0m=\u001b[35mwrite_slow_log\u001b[0m \u001b[36mhostname\u001b[0m=\u001b[35mDima-Shulga-MacBook-Pro\u001b[0m \u001b[36mline_number\u001b[0m=\u001b[35m11\u001b[0m \u001b[36mmodule\u001b[0m=\u001b[35mhs_gimme.db_facade.slow_logs_utils\u001b[0m \u001b[36mpid\u001b[0m=\u001b[35m94093\u001b[0m \u001b[36mrequest_id\u001b[0m=\u001b[35m2118797801\u001b[0m \u001b[36msource\u001b[0m=\u001b[35mPyMongo\u001b[0m \u001b[36mstack_snippet\u001b[0m=\u001b[35m\n",
      "  File \"/var/folders/_p/8_m91crj199_rd7sndkxncc80000gp/T/ipykernel_94093/919133386.py\", line 1, in <module>\n",
      "    recs = list(mongo.recommended_candidate.find({'req_id': {'$in': req_ids}}))\n",
      "\u001b[0m\n"
     ]
    },
    {
     "data": {
      "text/plain": [
       "1684"
      ]
     },
     "execution_count": 6,
     "metadata": {},
     "output_type": "execute_result"
    }
   ],
   "source": [
    "recs = list(mongo.recommended_candidate.find({'req_id': {'$in': req_ids}}))\n",
    "len(recs)"
   ]
  },
  {
   "cell_type": "code",
   "execution_count": 7,
   "id": "a6ac398a-baf6-4257-88f9-61abfcc9dc2c",
   "metadata": {
    "tags": []
   },
   "outputs": [],
   "source": [
    "df = pd.DataFrame(recs)"
   ]
  },
  {
   "cell_type": "code",
   "execution_count": 8,
   "id": "d4ccef72-bf88-4ec8-a24c-91a9ea808374",
   "metadata": {
    "tags": []
   },
   "outputs": [
    {
     "data": {
      "text/plain": [
       "{'external_req_id', 'external_source'}"
      ]
     },
     "execution_count": 8,
     "metadata": {},
     "output_type": "execute_result"
    }
   ],
   "source": [
    "fields = set()\n",
    "for r in recs:\n",
    "    for k in r.keys():\n",
    "        if 'external' in k:\n",
    "            fields.add(k)\n",
    "fields"
   ]
  },
  {
   "cell_type": "code",
   "execution_count": 10,
   "id": "36ee3feb-fd85-4f15-bca9-797e306cddd8",
   "metadata": {
    "tags": []
   },
   "outputs": [],
   "source": [
    "df['pool'] = 'PAST'#df['external_pool'].replace(np.nan, 0).apply(lambda x: x.get('external_pool_id', 'PAST') if x != 0 else 'PAST')"
   ]
  },
  {
   "cell_type": "code",
   "execution_count": 11,
   "id": "f8a1fe3f-bec0-41b6-977c-2ecd4535fbda",
   "metadata": {},
   "outputs": [
    {
     "data": {
      "text/plain": [
       "PAST    1.0\n",
       "Name: pool, dtype: float64"
      ]
     },
     "execution_count": 11,
     "metadata": {},
     "output_type": "execute_result"
    }
   ],
   "source": [
    "df['pool'].fillna({}).value_counts(normalize=True, dropna=False)"
   ]
  },
  {
   "cell_type": "code",
   "execution_count": 12,
   "id": "2ebbe7fc-bcfd-4f80-85cb-be96bc147a5b",
   "metadata": {
    "tags": []
   },
   "outputs": [
    {
     "data": {
      "text/plain": [
       "75"
      ]
     },
     "execution_count": 12,
     "metadata": {},
     "output_type": "execute_result"
    }
   ],
   "source": [
    "len(df[df['pool'] == 'PAST']['req_id'].unique())"
   ]
  },
  {
   "cell_type": "code",
   "execution_count": 13,
   "id": "681795dc-d5e3-4651-9419-74b208c19e3e",
   "metadata": {
    "tags": []
   },
   "outputs": [
    {
     "data": {
      "text/plain": [
       "0"
      ]
     },
     "execution_count": 13,
     "metadata": {},
     "output_type": "execute_result"
    }
   ],
   "source": [
    "len(df[df['pool'] == 'randstad']['req_id'].unique())"
   ]
  },
  {
   "cell_type": "code",
   "execution_count": 27,
   "id": "da25d15d-9534-4774-ae33-16d9b805f1cd",
   "metadata": {
    "tags": []
   },
   "outputs": [
    {
     "data": {
      "text/html": [
       "<div>\n",
       "<style scoped>\n",
       "    .dataframe tbody tr th:only-of-type {\n",
       "        vertical-align: middle;\n",
       "    }\n",
       "\n",
       "    .dataframe tbody tr th {\n",
       "        vertical-align: top;\n",
       "    }\n",
       "\n",
       "    .dataframe thead th {\n",
       "        text-align: right;\n",
       "    }\n",
       "</style>\n",
       "<table border=\"1\" class=\"dataframe\">\n",
       "  <thead>\n",
       "    <tr style=\"text-align: right;\">\n",
       "      <th>_id</th>\n",
       "      <th>count</th>\n",
       "      <th>mean</th>\n",
       "      <th>std</th>\n",
       "      <th>min</th>\n",
       "      <th>25%</th>\n",
       "      <th>50%</th>\n",
       "      <th>75%</th>\n",
       "      <th>max</th>\n",
       "    </tr>\n",
       "    <tr>\n",
       "      <th>pool</th>\n",
       "      <th></th>\n",
       "      <th></th>\n",
       "      <th></th>\n",
       "      <th></th>\n",
       "      <th></th>\n",
       "      <th></th>\n",
       "      <th></th>\n",
       "      <th></th>\n",
       "    </tr>\n",
       "  </thead>\n",
       "  <tbody>\n",
       "    <tr>\n",
       "      <th>PAST</th>\n",
       "      <td>75.0</td>\n",
       "      <td>22.453333</td>\n",
       "      <td>11.67614</td>\n",
       "      <td>11.0</td>\n",
       "      <td>15.0</td>\n",
       "      <td>16.0</td>\n",
       "      <td>28.5</td>\n",
       "      <td>82.0</td>\n",
       "    </tr>\n",
       "  </tbody>\n",
       "</table>\n",
       "</div>"
      ],
      "text/plain": [
       "_id   count       mean       std   min   25%   50%   75%   max\n",
       "pool                                                          \n",
       "PAST   75.0  22.453333  11.67614  11.0  15.0  16.0  28.5  82.0"
      ]
     },
     "execution_count": 27,
     "metadata": {},
     "output_type": "execute_result"
    }
   ],
   "source": [
    "df.groupby('pool').apply(lambda x: x.groupby('req_id')['_id'].count().describe())"
   ]
  },
  {
   "cell_type": "code",
   "execution_count": 25,
   "id": "a9080198-7baf-4a82-8258-54059b6d2165",
   "metadata": {
    "tags": []
   },
   "outputs": [
    {
     "data": {
      "text/plain": [
       "count    75.000000\n",
       "mean     22.453333\n",
       "std      11.676140\n",
       "min      11.000000\n",
       "25%      15.000000\n",
       "50%      16.000000\n",
       "75%      28.500000\n",
       "max      82.000000\n",
       "Name: _id, dtype: float64"
      ]
     },
     "execution_count": 25,
     "metadata": {},
     "output_type": "execute_result"
    }
   ],
   "source": [
    "df.groupby('req_id')['_id'].count().describe()"
   ]
  },
  {
   "cell_type": "code",
   "execution_count": 26,
   "id": "2924c3a4-939d-45ff-b32d-78c2d914188f",
   "metadata": {
    "tags": []
   },
   "outputs": [],
   "source": [
    "df.to_csv('essex_recommended_candidates.csv')"
   ]
  },
  {
   "cell_type": "code",
   "execution_count": null,
   "id": "51f6bf83-2c01-4e5b-b36f-1872d6689c26",
   "metadata": {},
   "outputs": [],
   "source": []
  }
 ],
 "metadata": {
  "kernelspec": {
   "display_name": "Python 3 (ipykernel)",
   "language": "python",
   "name": "python3"
  },
  "language_info": {
   "codemirror_mode": {
    "name": "ipython",
    "version": 3
   },
   "file_extension": ".py",
   "mimetype": "text/x-python",
   "name": "python",
   "nbconvert_exporter": "python",
   "pygments_lexer": "ipython3",
   "version": "3.9.5"
  }
 },
 "nbformat": 4,
 "nbformat_minor": 5
}
