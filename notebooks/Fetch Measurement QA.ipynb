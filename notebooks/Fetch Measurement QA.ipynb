{
 "cells": [
  {
   "cell_type": "code",
   "execution_count": 66,
   "id": "e96b74b8-4ddd-4b04-8472-1861d3f8e61f",
   "metadata": {
    "tags": []
   },
   "outputs": [],
   "source": [
    "import pandas as pd\n",
    "from hs_gimme.db_facade.db_facade_factory import get_mongo_client_db\n",
    "from sklearn.metrics import roc_auc_score"
   ]
  },
  {
   "cell_type": "code",
   "execution_count": 67,
   "id": "e5bccda2-ed17-44e8-ad59-105f0ea8c515",
   "metadata": {
    "tags": []
   },
   "outputs": [],
   "source": [
    "env = 'production_qa'"
   ]
  },
  {
   "cell_type": "code",
   "execution_count": 68,
   "id": "1d900fbf-ddb6-4f09-9ba5-eab7e8dd253b",
   "metadata": {
    "tags": []
   },
   "outputs": [
    {
     "data": {
      "text/plain": [
       "1971"
      ]
     },
     "execution_count": 68,
     "metadata": {},
     "output_type": "execute_result"
    }
   ],
   "source": [
    "df = pd.read_csv('/Users/dima/hiredscore/brain_models_creation/tree_blenders/hs_tree_blenders_creation/fast_fetch/results/fetch_metrics_raw.csv')\n",
    "len(df)"
   ]
  },
  {
   "cell_type": "code",
   "execution_count": 52,
   "id": "f3c508f3-d2fb-4943-8397-cae1f5c55933",
   "metadata": {
    "tags": []
   },
   "outputs": [
    {
     "data": {
      "text/plain": [
       "array(['Negative Rejected', 'Positive Offer+ With Experience'],\n",
       "      dtype=object)"
      ]
     },
     "execution_count": 52,
     "metadata": {},
     "output_type": "execute_result"
    }
   ],
   "source": [
    "df = "
   ]
  },
  {
   "cell_type": "code",
   "execution_count": 53,
   "id": "15f7c613-fe28-4be2-8d7d-185c65cbbccc",
   "metadata": {
    "tags": []
   },
   "outputs": [],
   "source": [
    "df['is_positive'] = df['group_name'] == 'Positive Offer+ With Experience'"
   ]
  },
  {
   "cell_type": "code",
   "execution_count": 54,
   "id": "d1e95ed4-d7cd-4777-86c9-3a9d75ad5737",
   "metadata": {
    "tags": []
   },
   "outputs": [],
   "source": [
    "df_for_roc = df.dropna(subset=['order'])\n"
   ]
  },
  {
   "cell_type": "code",
   "execution_count": 56,
   "id": "29c8a579-9ae8-41cf-9bd0-532c3ede0cc0",
   "metadata": {
    "tags": []
   },
   "outputs": [
    {
     "data": {
      "text/plain": [
       "account_id\n",
       "alabama    36\n",
       "indiana    26\n",
       "dtype: int64"
      ]
     },
     "execution_count": 56,
     "metadata": {},
     "output_type": "execute_result"
    }
   ],
   "source": [
    "df_for_roc.groupby('account_id').size()"
   ]
  },
  {
   "cell_type": "code",
   "execution_count": 55,
   "id": "032dbc76-c341-422a-968f-b15b0e8c3a01",
   "metadata": {
    "tags": []
   },
   "outputs": [
    {
     "data": {
      "text/plain": [
       "account_id\n",
       "alabama    0.374545\n",
       "indiana    0.477124\n",
       "dtype: float64"
      ]
     },
     "execution_count": 55,
     "metadata": {},
     "output_type": "execute_result"
    }
   ],
   "source": [
    "df_for_roc.groupby('account_id').apply(lambda d: roc_auc_score(d['is_positive'], d['order']))"
   ]
  },
  {
   "cell_type": "code",
   "execution_count": null,
   "id": "b198f1a7-fe09-4005-a37d-db1fb5a18f02",
   "metadata": {},
   "outputs": [],
   "source": [
    "reqs = {}\n",
    "talents = {}\n",
    "\n",
    "\n",
    "reqs_p = [ 'english_job_title', 'job_education', \n",
    "           'management_level', 'min_years_of_relevant_experience', \n",
    "           'seniority_level', 'top_category',  'sub_category']\n",
    "\n",
    "talents_p = ['current_talent_id', 'samurai_json.total_years_of_experience', 'samurai_json.highest_degree', 'samurai_json.experience'] \n",
    "num_of_accounts = len(df['account_id'].unique())\n",
    "for i, (account, account_df) in enumerate(df.groupby('account_id')):\n",
    "    mongo = get_mongo_client_db(env, account)\n",
    "    \n",
    "    req_ids = list(account_df['req_id'].unique())\n",
    "    print(f'{i}/{num_of_accounts} {account} {len(req_ids)} reqs')\n",
    "    \n",
    "    for r in mongo.req.find({'_id': {'$in': req_ids}}, reqs_p):\n",
    "        reqs[r['_id']] = r\n",
    "        \n",
    "    talent_ids = list(account_df['current_talent_id'].unique())\n",
    "    print(f'{i}/{num_of_accounts} {account} {len(talent_ids)} talents')\n",
    "    \n",
    "    for r in mongo.application.find({'current_talent_id': {'$in': talent_ids}}, talents_p):\n",
    "        talents[r['current_talent_id']] = r\n",
    "    "
   ]
  },
  {
   "cell_type": "code",
   "execution_count": null,
   "id": "46afe0d0-a35c-41de-bd98-47b4ddd8d955",
   "metadata": {
    "tags": []
   },
   "outputs": [],
   "source": [
    "for f in [ 'english_job_title', 'job_education', 'management_level', 'min_years_of_relevant_experience', 'seniority_level',\n",
    "           'top_category',  'sub_category']:\n",
    "    df['req_' + f] = df['req_id'].apply(lambda r: reqs[r][f])"
   ]
  },
  {
   "cell_type": "code",
   "execution_count": null,
   "id": "5e39dc25-6787-4d2f-9e77-d51bc601702f",
   "metadata": {
    "tags": []
   },
   "outputs": [],
   "source": [
    "df['talent_total_years_of_experience'] = df['current_talent_id'].apply(lambda c: talents[c]['samurai_json']['total_years_of_experience'])\n",
    "df['talent_highest_degree'] = df['current_talent_id'].apply(lambda c: talents[c]['samurai_json'].get('highest_degree'))"
   ]
  },
  {
   "cell_type": "code",
   "execution_count": null,
   "id": "573933d4-a89a-4841-84d4-fd6f3129e686",
   "metadata": {
    "tags": []
   },
   "outputs": [],
   "source": [
    "def get_f(c, p, f):\n",
    "    if len(c['samurai_json']['experience']) > p:\n",
    "        return c['samurai_json']['experience'][p].get(f)\n",
    "\n",
    "for p in [0, 1]:\n",
    "    for f in ['title', 'seniority', 'duration_in_month']:\n",
    "        df[f'talent_pos_{p}_{f}'] = df['current_talent_id'].apply(lambda c: get_f(talents[c], p , f))"
   ]
  },
  {
   "cell_type": "code",
   "execution_count": null,
   "id": "7f1b1e21-d088-467a-9c06-6bb7b62c250b",
   "metadata": {
    "tags": []
   },
   "outputs": [],
   "source": [
    "df.to_csv('/Users/dima/hiredscore/brain_models_creation/tree_blenders/hs_tree_blenders_creation/fast_fetch/results/fetch_metrics_raw_with_data.csv')"
   ]
  },
  {
   "cell_type": "code",
   "execution_count": null,
   "id": "fb3cd314-538d-4073-810d-574f13aee11d",
   "metadata": {
    "tags": []
   },
   "outputs": [],
   "source": [
    "file_path = '/Users/dima/hiredscore/brain_models_creation/tree_blenders/hs_tree_blenders_creation/fast_fetch/results/fetch_lift.xlsx'"
   ]
  },
  {
   "cell_type": "code",
   "execution_count": null,
   "id": "d7a79b21-eda7-4bf1-9528-8b25e9779109",
   "metadata": {
    "tags": []
   },
   "outputs": [],
   "source": [
    "writer = pd.ExcelWriter(file_path)"
   ]
  },
  {
   "cell_type": "code",
   "execution_count": null,
   "id": "3a9d6b38-7ab1-41e6-af1f-6e89195aedf5",
   "metadata": {
    "tags": []
   },
   "outputs": [],
   "source": [
    "gb = df.groupby(['account_id','filter',  'group_name']).agg(recall=('predicted', 'mean'),\n",
    "                                                            num_of_reqs=('req_id', 'nunique'), \n",
    "                                                            num_of_talents=('current_talent_id', 'count')).unstack()\n",
    "\n",
    "gb['Fetch Lift'] = gb[('recall', 'Positive Offer+ With Experience')] / gb[('recall', 'Negative Rejected')]\n",
    "gb.sort_values(['account_id', 'Fetch Lift']).to_excel(writer, sheet_name='Filters')\n",
    "gb"
   ]
  },
  {
   "cell_type": "code",
   "execution_count": null,
   "id": "a440d0ec-9915-443c-a9e5-824929d8998e",
   "metadata": {},
   "outputs": [],
   "source": [
    "gb = df[df['filter'] == 'ALL'].groupby(['account_id', 'req_top_category', 'group_name']).agg(recall=('predicted', 'mean'),\n",
    "                                                            num_of_reqs=('req_id', 'nunique'), \n",
    "                                                            num_of_talents=('current_talent_id', 'count')).unstack()\n",
    "\n",
    "gb['Fetch Lift'] = gb[('recall', 'Positive Offer+ With Experience')] / gb[('recall', 'Negative Rejected')]\n",
    "gb.sort_values(['account_id', 'Fetch Lift']).to_excel(writer, sheet_name='Top Categories')\n",
    "gb"
   ]
  },
  {
   "cell_type": "code",
   "execution_count": null,
   "id": "4e73a728-37c1-49d0-81f9-2726ea98c23a",
   "metadata": {
    "tags": []
   },
   "outputs": [],
   "source": [
    "gb = df[df['filter'] == 'ALL'].groupby(['account_id', 'req_seniority_level', 'group_name']).agg(recall=('predicted', 'mean'),\n",
    "                                                            num_of_reqs=('req_id', 'nunique'), \n",
    "                                                            num_of_talents=('current_talent_id', 'count')).unstack()\n",
    "\n",
    "gb['Fetch Lift'] = gb[('recall', 'Positive Offer+ With Experience')] / gb[('recall', 'Negative Rejected')]\n",
    "gb.sort_values(['account_id', 'Fetch Lift']).to_excel(writer, sheet_name='Job Seniority')\n",
    "gb"
   ]
  },
  {
   "cell_type": "code",
   "execution_count": null,
   "id": "da7be801-b42e-45a7-8ddd-ecef5ae1a472",
   "metadata": {
    "tags": []
   },
   "outputs": [],
   "source": [
    "writer.close()"
   ]
  },
  {
   "cell_type": "code",
   "execution_count": null,
   "id": "623a4d15-f453-41fa-81ab-e22146481df7",
   "metadata": {},
   "outputs": [],
   "source": []
  },
  {
   "cell_type": "code",
   "execution_count": 41,
   "id": "23caed03-681d-4297-9f6c-a82f38f02545",
   "metadata": {},
   "outputs": [
    {
     "data": {
      "text/html": [
       "<div>\n",
       "<style scoped>\n",
       "    .dataframe tbody tr th:only-of-type {\n",
       "        vertical-align: middle;\n",
       "    }\n",
       "\n",
       "    .dataframe tbody tr th {\n",
       "        vertical-align: top;\n",
       "    }\n",
       "\n",
       "    .dataframe thead tr th {\n",
       "        text-align: left;\n",
       "    }\n",
       "\n",
       "    .dataframe thead tr:last-of-type th {\n",
       "        text-align: right;\n",
       "    }\n",
       "</style>\n",
       "<table border=\"1\" class=\"dataframe\">\n",
       "  <thead>\n",
       "    <tr>\n",
       "      <th></th>\n",
       "      <th colspan=\"2\" halign=\"left\">recall</th>\n",
       "      <th colspan=\"2\" halign=\"left\">num_of_reqs</th>\n",
       "      <th colspan=\"2\" halign=\"left\">num_of_talents</th>\n",
       "    </tr>\n",
       "    <tr>\n",
       "      <th>group_name</th>\n",
       "      <th>Negative Rejected</th>\n",
       "      <th>Positive Offer+ With Experience</th>\n",
       "      <th>Negative Rejected</th>\n",
       "      <th>Positive Offer+ With Experience</th>\n",
       "      <th>Negative Rejected</th>\n",
       "      <th>Positive Offer+ With Experience</th>\n",
       "    </tr>\n",
       "    <tr>\n",
       "      <th>account_id</th>\n",
       "      <th></th>\n",
       "      <th></th>\n",
       "      <th></th>\n",
       "      <th></th>\n",
       "      <th></th>\n",
       "      <th></th>\n",
       "    </tr>\n",
       "  </thead>\n",
       "  <tbody>\n",
       "    <tr>\n",
       "      <th>alabama</th>\n",
       "      <td>0.321429</td>\n",
       "      <td>0.100000</td>\n",
       "      <td>7</td>\n",
       "      <td>7</td>\n",
       "      <td>56</td>\n",
       "      <td>10</td>\n",
       "    </tr>\n",
       "    <tr>\n",
       "      <th>indiana</th>\n",
       "      <td>0.150000</td>\n",
       "      <td>0.333333</td>\n",
       "      <td>5</td>\n",
       "      <td>9</td>\n",
       "      <td>20</td>\n",
       "      <td>12</td>\n",
       "    </tr>\n",
       "  </tbody>\n",
       "</table>\n",
       "</div>"
      ],
      "text/plain": [
       "                      recall                                  \\\n",
       "group_name Negative Rejected Positive Offer+ With Experience   \n",
       "account_id                                                     \n",
       "alabama             0.321429                        0.100000   \n",
       "indiana             0.150000                        0.333333   \n",
       "\n",
       "                 num_of_reqs                                  \\\n",
       "group_name Negative Rejected Positive Offer+ With Experience   \n",
       "account_id                                                     \n",
       "alabama                    7                               7   \n",
       "indiana                    5                               9   \n",
       "\n",
       "              num_of_talents                                  \n",
       "group_name Negative Rejected Positive Offer+ With Experience  \n",
       "account_id                                                    \n",
       "alabama                   56                              10  \n",
       "indiana                   20                              12  "
      ]
     },
     "execution_count": 41,
     "metadata": {},
     "output_type": "execute_result"
    }
   ],
   "source": [
    "gb = df[df['filter'] == 'ALL'].groupby(['account_id', 'group_name']).agg(recall=('predicted', 'mean'),\n",
    "                                                            num_of_reqs=('req_id', 'nunique'), \n",
    "                                                            num_of_talents=('current_talent_id', 'count')).unstack()\n",
    "gb"
   ]
  },
  {
   "cell_type": "code",
   "execution_count": 57,
   "id": "2f13e669-3fd3-4941-9b1b-3eb1d029b8b7",
   "metadata": {
    "tags": []
   },
   "outputs": [],
   "source": [
    "from hs_recommendations_api_client import get_recommendations_api_client"
   ]
  },
  {
   "cell_type": "code",
   "execution_count": 58,
   "id": "61004234-63bc-4119-8c44-2fcc5254a0a4",
   "metadata": {
    "tags": []
   },
   "outputs": [],
   "source": [
    "api = get_recommendations_api_client('production_qa')"
   ]
  },
  {
   "cell_type": "code",
   "execution_count": 59,
   "id": "0f407670-c163-483d-acfd-13586e43ff25",
   "metadata": {
    "tags": []
   },
   "outputs": [
    {
     "data": {
      "text/plain": [
       "<hs_recommendations_api_client.recommendations_api_client.RecommendationsAPIClient at 0x293a7a580>"
      ]
     },
     "execution_count": 59,
     "metadata": {},
     "output_type": "execute_result"
    }
   ],
   "source": [
    "api"
   ]
  },
  {
   "cell_type": "code",
   "execution_count": 60,
   "id": "1941d5da-a911-438d-9685-872b983cc887",
   "metadata": {
    "tags": []
   },
   "outputs": [
    {
     "data": {
      "text/plain": [
       "['__abstractmethods__',\n",
       " '__class__',\n",
       " '__delattr__',\n",
       " '__dict__',\n",
       " '__dir__',\n",
       " '__doc__',\n",
       " '__eq__',\n",
       " '__format__',\n",
       " '__ge__',\n",
       " '__getattribute__',\n",
       " '__gt__',\n",
       " '__hash__',\n",
       " '__init__',\n",
       " '__init_subclass__',\n",
       " '__le__',\n",
       " '__lt__',\n",
       " '__module__',\n",
       " '__ne__',\n",
       " '__new__',\n",
       " '__reduce__',\n",
       " '__reduce_ex__',\n",
       " '__repr__',\n",
       " '__setattr__',\n",
       " '__sizeof__',\n",
       " '__slots__',\n",
       " '__str__',\n",
       " '__subclasshook__',\n",
       " '__weakref__',\n",
       " '_abc_impl',\n",
       " '_get_request',\n",
       " '_put_request',\n",
       " 'dismiss_dynamic_fetch_candidate',\n",
       " 'environment',\n",
       " 'fast_fetch',\n",
       " 'fast_fetch_group_by_counts',\n",
       " 'get_optimized_req_parameters',\n",
       " 'http_client',\n",
       " 'interactive_fetch_initial_input',\n",
       " 'job_intel',\n",
       " 'logger',\n",
       " 'recommendations',\n",
       " 'recommendations_api_endpoint',\n",
       " 'recommended_reqs',\n",
       " 'save_fetch_candidate',\n",
       " 'save_fetch_candidates',\n",
       " 'timeout']"
      ]
     },
     "execution_count": 60,
     "metadata": {},
     "output_type": "execute_result"
    }
   ],
   "source": [
    "dir(api)"
   ]
  },
  {
   "cell_type": "code",
   "execution_count": 65,
   "id": "465c8a0a-a1e1-4761-b6a6-ea53c94a130b",
   "metadata": {
    "tags": []
   },
   "outputs": [
    {
     "data": {
      "text/plain": [
       "['__class__',\n",
       " '__delattr__',\n",
       " '__dict__',\n",
       " '__dir__',\n",
       " '__doc__',\n",
       " '__eq__',\n",
       " '__format__',\n",
       " '__ge__',\n",
       " '__getattribute__',\n",
       " '__gt__',\n",
       " '__hash__',\n",
       " '__init__',\n",
       " '__init_subclass__',\n",
       " '__le__',\n",
       " '__lt__',\n",
       " '__module__',\n",
       " '__ne__',\n",
       " '__new__',\n",
       " '__reduce__',\n",
       " '__reduce_ex__',\n",
       " '__repr__',\n",
       " '__setattr__',\n",
       " '__sizeof__',\n",
       " '__str__',\n",
       " '__subclasshook__',\n",
       " '__weakref__',\n",
       " 'base_uri',\n",
       " 'delete',\n",
       " 'extend_middleware',\n",
       " 'get',\n",
       " 'middleware',\n",
       " 'now_iso',\n",
       " 'path',\n",
       " 'post',\n",
       " 'put',\n",
       " 'request',\n",
       " 'session']"
      ]
     },
     "execution_count": 65,
     "metadata": {},
     "output_type": "execute_result"
    }
   ],
   "source": [
    "dir(api.http_client)"
   ]
  },
  {
   "cell_type": "code",
   "execution_count": 64,
   "id": "b8079cdd-6281-40bd-87c3-cfe6d50f0310",
   "metadata": {
    "tags": []
   },
   "outputs": [
    {
     "data": {
      "text/plain": [
       "'http://localhost'"
      ]
     },
     "execution_count": 64,
     "metadata": {},
     "output_type": "execute_result"
    }
   ],
   "source": [
    "api.http_client.base_uri"
   ]
  },
  {
   "cell_type": "code",
   "execution_count": null,
   "id": "8f773077-ba35-4d0e-b35e-a60c337160b6",
   "metadata": {},
   "outputs": [],
   "source": []
  }
 ],
 "metadata": {
  "kernelspec": {
   "display_name": "Python 3 (ipykernel)",
   "language": "python",
   "name": "python3"
  },
  "language_info": {
   "codemirror_mode": {
    "name": "ipython",
    "version": 3
   },
   "file_extension": ".py",
   "mimetype": "text/x-python",
   "name": "python",
   "nbconvert_exporter": "python",
   "pygments_lexer": "ipython3",
   "version": "3.9.5"
  }
 },
 "nbformat": 4,
 "nbformat_minor": 5
}
