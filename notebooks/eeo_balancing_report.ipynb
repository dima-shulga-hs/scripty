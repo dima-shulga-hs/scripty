{
 "cells": [
  {
   "cell_type": "code",
   "execution_count": 1,
   "id": "6177371d-9e3c-4b1b-8144-08af987f6362",
   "metadata": {
    "tags": []
   },
   "outputs": [],
   "source": [
    "import json\n",
    "import logging\n",
    "import random as rn\n",
    "from hs_tree_blenders_creation.batch_runners.data_sets import get_account_train_set\n",
    "from hs_tree_blenders_creation.build_dataset import export_dataset\n",
    "import itertools\n",
    "from hs_gimme.logging_service.logging_service import LoggingService"
   ]
  },
  {
   "cell_type": "code",
   "execution_count": null,
   "id": "201d5c53-f3d5-41ce-9813-0c0bbb5ff5a1",
   "metadata": {
    "tags": []
   },
   "outputs": [],
   "source": [
    "MODELS_JSON_PATH = '/Users/dima/hiredscore/brain/brainme/hs_brainme/models.json'"
   ]
  },
  {
   "cell_type": "code",
   "execution_count": null,
   "id": "44bcc038-2582-4539-87ef-9f76d17ba2c0",
   "metadata": {
    "tags": []
   },
   "outputs": [],
   "source": [
    "models = json.load(open(MODELS_JSON_PATH, 'r'))"
   ]
  },
  {
   "cell_type": "code",
   "execution_count": null,
   "id": "f0f2fbbb-2e2f-4b57-a030-69fea1e2e6b5",
   "metadata": {
    "tags": []
   },
   "outputs": [],
   "source": [
    "logger = LoggingService()"
   ]
  },
  {
   "cell_type": "code",
   "execution_count": null,
   "id": "5c64f690-67ac-4716-b9a5-24f49c9336e0",
   "metadata": {
    "tags": []
   },
   "outputs": [],
   "source": [
    "logger.setLevel(logging.ERROR)"
   ]
  },
  {
   "cell_type": "code",
   "execution_count": null,
   "id": "0ad0c5a5-7f62-463c-a4d3-495e46bf6f36",
   "metadata": {
    "tags": []
   },
   "outputs": [],
   "source": [
    "accounts_train_sets = {}\n",
    "for k in models.keys():\n",
    "    if 'data_set' in k:\n",
    "        try:\n",
    "            account = k.split('/')[1]\n",
    "            print(account)\n",
    "        except Exception as e:\n",
    "            print('ERROR', e)"
   ]
  },
  {
   "cell_type": "code",
   "execution_count": null,
   "id": "419ec720-ae50-4c10-9918-6d81a876e8bd",
   "metadata": {
    "tags": []
   },
   "outputs": [],
   "source": [
    "list(accounts_train_sets.keys())"
   ]
  },
  {
   "cell_type": "code",
   "execution_count": 2,
   "id": "21cd8011-b312-415a-8252-8d1efba76e81",
   "metadata": {
    "tags": []
   },
   "outputs": [
    {
     "name": "stdout",
     "output_type": "stream",
     "text": [
      "\u001b[2m2023-07-29T10:33:10.831380Z\u001b[0m [\u001b[32m\u001b[1minfo     \u001b[0m] \u001b[1mGetting model reader          \u001b[0m \u001b[36menvironment\u001b[0m=\u001b[35mlocal\u001b[0m \u001b[36mfile_path\u001b[0m=\u001b[35m/Users/dima/hiredscore/brain/brainme/hs_brainme/models/model_persistence/models_persistency.py\u001b[0m \u001b[36mfunction_name\u001b[0m=\u001b[35mget_model_reader\u001b[0m \u001b[36mhostname\u001b[0m=\u001b[35mDima-Shulga-MacBook-Pro\u001b[0m \u001b[36mline_number\u001b[0m=\u001b[35m82\u001b[0m \u001b[36mmodel_key\u001b[0m=\u001b[35mberlin\u001b[0m \u001b[36mmodel_manager\u001b[0m=\u001b[35mhs_grading\u001b[0m \u001b[36mmodel_name\u001b[0m=\u001b[35mdata_sets\u001b[0m \u001b[36mmodel_type\u001b[0m=\u001b[35mpickle\u001b[0m \u001b[36mmodels_reader\u001b[0m=\u001b[35mLocalPickleModelsReader\u001b[0m \u001b[36mmodule\u001b[0m=\u001b[35mhs_brainme.models.model_persistence.models_persistency\u001b[0m \u001b[36mpid\u001b[0m=\u001b[35m55626\u001b[0m\n",
      "\u001b[2m2023-07-29T10:33:10.832241Z\u001b[0m [\u001b[32m\u001b[1minfo     \u001b[0m] \u001b[1mLoading model file            \u001b[0m \u001b[36mcompressed__boolean\u001b[0m=\u001b[35mTrue\u001b[0m \u001b[36mdir\u001b[0m=\u001b[35m/Users/dima/hiredscore_model_manager/hs_grading/data_sets/berlin_20230216093728\u001b[0m \u001b[36menvironment\u001b[0m=\u001b[35mlocal\u001b[0m \u001b[36mfile_name\u001b[0m=\u001b[35m/Users/dima/hiredscore_model_manager/hs_grading/data_sets/berlin_20230216093728/key.pickle\u001b[0m \u001b[36mfile_path\u001b[0m=\u001b[35m/Users/dima/hiredscore/brain/brainme/hs_brainme/models/model_persistence/models_persistency.py\u001b[0m \u001b[36mfunction_name\u001b[0m=\u001b[35mload\u001b[0m \u001b[36mhostname\u001b[0m=\u001b[35mDima-Shulga-MacBook-Pro\u001b[0m \u001b[36mkey\u001b[0m=\u001b[35mkey\u001b[0m \u001b[36mline_number\u001b[0m=\u001b[35m167\u001b[0m \u001b[36mmodel_type\u001b[0m=\u001b[35mpickle\u001b[0m \u001b[36mmodule\u001b[0m=\u001b[35mhs_brainme.models.model_persistence.models_persistency\u001b[0m \u001b[36mpid\u001b[0m=\u001b[35m55626\u001b[0m\n",
      "\u001b[2m2023-07-29T10:33:10.843910Z\u001b[0m [\u001b[32m\u001b[1minfo     \u001b[0m] \u001b[1mexport_dataset: Started       \u001b[0m \u001b[36maccount_ids\u001b[0m=\u001b[35m['berlin']\u001b[0m \u001b[36mapp_input_tag\u001b[0m=\u001b[35mNone\u001b[0m \u001b[36menvironment\u001b[0m=\u001b[35mlocal\u001b[0m \u001b[36mfile_path\u001b[0m=\u001b[35m/Users/dima/hiredscore/brain_models_creation/tree_blenders/hs_tree_blenders_creation/build_dataset.py\u001b[0m \u001b[36mfunction_name\u001b[0m=\u001b[35mexport_dataset\u001b[0m \u001b[36mgrading_results_input_tag\u001b[0m=\u001b[35mmaster\u001b[0m \u001b[36mhostname\u001b[0m=\u001b[35mDima-Shulga-MacBook-Pro\u001b[0m \u001b[36mline_number\u001b[0m=\u001b[35m48\u001b[0m \u001b[36mmodule\u001b[0m=\u001b[35mhs_tree_blenders_creation.build_dataset\u001b[0m \u001b[36mnum_of_reqs__numeric\u001b[0m=\u001b[35m5091\u001b[0m \u001b[36mpid\u001b[0m=\u001b[35m55626\u001b[0m \u001b[36mreq_input_tag\u001b[0m=\u001b[35mNone\u001b[0m\n",
      "\u001b[2m2023-07-29T10:33:11.335981Z\u001b[0m [\u001b[31m\u001b[1merror    \u001b[0m] \u001b[1mThe following collections are missing: {'grading_results_master_raw_data in berlin_production_de'}\u001b[0m \u001b[36maccount_id\u001b[0m=\u001b[35mberlin\u001b[0m \u001b[36menvironment\u001b[0m=\u001b[35mlocal\u001b[0m \u001b[36mfile_path\u001b[0m=\u001b[35m/Users/dima/hiredscore/brain_models_creation/tree_blenders/hs_tree_blenders_creation/batch_runners/batch_runs_data_layer.py\u001b[0m \u001b[36mfunction_name\u001b[0m=\u001b[35m_validate_input_collections_exist\u001b[0m \u001b[36mhostname\u001b[0m=\u001b[35mDima-Shulga-MacBook-Pro\u001b[0m \u001b[36mline_number\u001b[0m=\u001b[35m211\u001b[0m \u001b[36mmodule\u001b[0m=\u001b[35mhs_tree_blenders_creation.batch_runners.batch_runs_data_layer\u001b[0m \u001b[36mpid\u001b[0m=\u001b[35m55626\u001b[0m\n",
      "\u001b[2m2023-07-29T10:33:11.337480Z\u001b[0m [\u001b[32m\u001b[1minfo     \u001b[0m] \u001b[1mexport_dataset: Loading grading_results of account\u001b[0m \u001b[36maccount_name\u001b[0m=\u001b[35mberlin\u001b[0m \u001b[36menvironment\u001b[0m=\u001b[35mlocal\u001b[0m \u001b[36mfile_path\u001b[0m=\u001b[35m/Users/dima/hiredscore/brain_models_creation/tree_blenders/hs_tree_blenders_creation/build_dataset.py\u001b[0m \u001b[36mfunction_name\u001b[0m=\u001b[35mexport_dataset\u001b[0m \u001b[36mhostname\u001b[0m=\u001b[35mDima-Shulga-MacBook-Pro\u001b[0m \u001b[36mline_number\u001b[0m=\u001b[35m78\u001b[0m \u001b[36mmodule\u001b[0m=\u001b[35mhs_tree_blenders_creation.build_dataset\u001b[0m \u001b[36mpid\u001b[0m=\u001b[35m55626\u001b[0m\n",
      "\u001b[2m2023-07-29T10:33:11.487058Z\u001b[0m [\u001b[32m\u001b[1minfo     \u001b[0m] \u001b[1mexport_dataset: Loaded reqs batch\u001b[0m \u001b[36mbatch_number__numeric\u001b[0m=\u001b[35m0\u001b[0m \u001b[36menvironment\u001b[0m=\u001b[35mlocal\u001b[0m \u001b[36mfile_path\u001b[0m=\u001b[35m/Users/dima/hiredscore/brain_models_creation/tree_blenders/hs_tree_blenders_creation/build_dataset.py\u001b[0m \u001b[36mfunction_name\u001b[0m=\u001b[35mexport_dataset\u001b[0m \u001b[36mhostname\u001b[0m=\u001b[35mDima-Shulga-MacBook-Pro\u001b[0m \u001b[36mline_number\u001b[0m=\u001b[35m85\u001b[0m \u001b[36mmodule\u001b[0m=\u001b[35mhs_tree_blenders_creation.build_dataset\u001b[0m \u001b[36mnum_of_batches__numeric\u001b[0m=\u001b[35m51\u001b[0m \u001b[36mnum_of_req_ids__numeric\u001b[0m=\u001b[35m100\u001b[0m \u001b[36mnum_of_reqs__numeric\u001b[0m=\u001b[35m100\u001b[0m \u001b[36mpid\u001b[0m=\u001b[35m55626\u001b[0m\n",
      "\u001b[2m2023-07-29T10:33:11.488519Z\u001b[0m [\u001b[32m\u001b[1minfo     \u001b[0m] \u001b[1mexport_dataset: Loading grading_results batch\u001b[0m \u001b[36maccount_name\u001b[0m=\u001b[35mberlin\u001b[0m \u001b[36mbatch_number__numeric\u001b[0m=\u001b[35m0\u001b[0m \u001b[36menvironment\u001b[0m=\u001b[35mlocal\u001b[0m \u001b[36mfile_path\u001b[0m=\u001b[35m/Users/dima/hiredscore/brain_models_creation/tree_blenders/hs_tree_blenders_creation/build_dataset.py\u001b[0m \u001b[36mfunction_name\u001b[0m=\u001b[35mexport_dataset\u001b[0m \u001b[36mhostname\u001b[0m=\u001b[35mDima-Shulga-MacBook-Pro\u001b[0m \u001b[36mline_number\u001b[0m=\u001b[35m89\u001b[0m \u001b[36mmodule\u001b[0m=\u001b[35mhs_tree_blenders_creation.build_dataset\u001b[0m \u001b[36mnum_of_batches__numeric\u001b[0m=\u001b[35m51\u001b[0m \u001b[36mpid\u001b[0m=\u001b[35m55626\u001b[0m\n",
      "\u001b[2m2023-07-29T10:33:11.502929Z\u001b[0m [\u001b[32m\u001b[1minfo     \u001b[0m] \u001b[1mexport_dataset: Loaded grading_results batch\u001b[0m \u001b[36maccount_name\u001b[0m=\u001b[35mberlin\u001b[0m \u001b[36mbatch_number__numeric\u001b[0m=\u001b[35m0\u001b[0m \u001b[36menvironment\u001b[0m=\u001b[35mlocal\u001b[0m \u001b[36mfile_path\u001b[0m=\u001b[35m/Users/dima/hiredscore/brain_models_creation/tree_blenders/hs_tree_blenders_creation/build_dataset.py\u001b[0m \u001b[36mfunction_name\u001b[0m=\u001b[35mexport_dataset\u001b[0m \u001b[36mhostname\u001b[0m=\u001b[35mDima-Shulga-MacBook-Pro\u001b[0m \u001b[36mline_number\u001b[0m=\u001b[35m95\u001b[0m \u001b[36mmodule\u001b[0m=\u001b[35mhs_tree_blenders_creation.build_dataset\u001b[0m \u001b[36mnum_of_batches__numeric\u001b[0m=\u001b[35m51\u001b[0m \u001b[36mnum_of_grading_results__numeric\u001b[0m=\u001b[35m0\u001b[0m \u001b[36mpid\u001b[0m=\u001b[35m55626\u001b[0m\n",
      "\u001b[2m2023-07-29T10:33:11.692392Z\u001b[0m [\u001b[32m\u001b[1minfo     \u001b[0m] \u001b[1mexport_dataset: Loaded reqs batch\u001b[0m \u001b[36mbatch_number__numeric\u001b[0m=\u001b[35m1\u001b[0m \u001b[36menvironment\u001b[0m=\u001b[35mlocal\u001b[0m \u001b[36mfile_path\u001b[0m=\u001b[35m/Users/dima/hiredscore/brain_models_creation/tree_blenders/hs_tree_blenders_creation/build_dataset.py\u001b[0m \u001b[36mfunction_name\u001b[0m=\u001b[35mexport_dataset\u001b[0m \u001b[36mhostname\u001b[0m=\u001b[35mDima-Shulga-MacBook-Pro\u001b[0m \u001b[36mline_number\u001b[0m=\u001b[35m85\u001b[0m \u001b[36mmodule\u001b[0m=\u001b[35mhs_tree_blenders_creation.build_dataset\u001b[0m \u001b[36mnum_of_batches__numeric\u001b[0m=\u001b[35m51\u001b[0m \u001b[36mnum_of_req_ids__numeric\u001b[0m=\u001b[35m100\u001b[0m \u001b[36mnum_of_reqs__numeric\u001b[0m=\u001b[35m100\u001b[0m \u001b[36mpid\u001b[0m=\u001b[35m55626\u001b[0m\n",
      "\u001b[2m2023-07-29T10:33:11.693941Z\u001b[0m [\u001b[32m\u001b[1minfo     \u001b[0m] \u001b[1mexport_dataset: Loading grading_results batch\u001b[0m \u001b[36maccount_name\u001b[0m=\u001b[35mberlin\u001b[0m \u001b[36mbatch_number__numeric\u001b[0m=\u001b[35m1\u001b[0m \u001b[36menvironment\u001b[0m=\u001b[35mlocal\u001b[0m \u001b[36mfile_path\u001b[0m=\u001b[35m/Users/dima/hiredscore/brain_models_creation/tree_blenders/hs_tree_blenders_creation/build_dataset.py\u001b[0m \u001b[36mfunction_name\u001b[0m=\u001b[35mexport_dataset\u001b[0m \u001b[36mhostname\u001b[0m=\u001b[35mDima-Shulga-MacBook-Pro\u001b[0m \u001b[36mline_number\u001b[0m=\u001b[35m89\u001b[0m \u001b[36mmodule\u001b[0m=\u001b[35mhs_tree_blenders_creation.build_dataset\u001b[0m \u001b[36mnum_of_batches__numeric\u001b[0m=\u001b[35m51\u001b[0m \u001b[36mpid\u001b[0m=\u001b[35m55626\u001b[0m\n",
      "\u001b[2m2023-07-29T10:33:11.700405Z\u001b[0m [\u001b[32m\u001b[1minfo     \u001b[0m] \u001b[1mexport_dataset: Loaded grading_results batch\u001b[0m \u001b[36maccount_name\u001b[0m=\u001b[35mberlin\u001b[0m \u001b[36mbatch_number__numeric\u001b[0m=\u001b[35m1\u001b[0m \u001b[36menvironment\u001b[0m=\u001b[35mlocal\u001b[0m \u001b[36mfile_path\u001b[0m=\u001b[35m/Users/dima/hiredscore/brain_models_creation/tree_blenders/hs_tree_blenders_creation/build_dataset.py\u001b[0m \u001b[36mfunction_name\u001b[0m=\u001b[35mexport_dataset\u001b[0m \u001b[36mhostname\u001b[0m=\u001b[35mDima-Shulga-MacBook-Pro\u001b[0m \u001b[36mline_number\u001b[0m=\u001b[35m95\u001b[0m \u001b[36mmodule\u001b[0m=\u001b[35mhs_tree_blenders_creation.build_dataset\u001b[0m \u001b[36mnum_of_batches__numeric\u001b[0m=\u001b[35m51\u001b[0m \u001b[36mnum_of_grading_results__numeric\u001b[0m=\u001b[35m0\u001b[0m \u001b[36mpid\u001b[0m=\u001b[35m55626\u001b[0m\n"
     ]
    },
    {
     "ename": "Exception",
     "evalue": "Too many missing grading_results (153)",
     "output_type": "error",
     "traceback": [
      "\u001b[0;31m---------------------------------------------------------------------------\u001b[0m",
      "\u001b[0;31mException\u001b[0m                                 Traceback (most recent call last)",
      "Cell \u001b[0;32mIn[2], line 3\u001b[0m\n\u001b[1;32m      1\u001b[0m account_ids \u001b[38;5;241m=\u001b[39m [\u001b[38;5;124m'\u001b[39m\u001b[38;5;124mberlin\u001b[39m\u001b[38;5;124m'\u001b[39m]\u001b[38;5;66;03m#list(accounts_train_sets.keys())\u001b[39;00m\n\u001b[1;32m      2\u001b[0m req_ids \u001b[38;5;241m=\u001b[39m \u001b[38;5;28mlist\u001b[39m(itertools\u001b[38;5;241m.\u001b[39mchain(\u001b[38;5;241m*\u001b[39m[get_account_train_set(a) \u001b[38;5;28;01mfor\u001b[39;00m a \u001b[38;5;129;01min\u001b[39;00m account_ids]))\n\u001b[0;32m----> 3\u001b[0m result_req_application_tuples, result_max_statuses \u001b[38;5;241m=\u001b[39m \u001b[43mexport_dataset\u001b[49m\u001b[43m(\u001b[49m\u001b[43maccount_ids\u001b[49m\u001b[43m,\u001b[49m\u001b[43m \u001b[49m\n\u001b[1;32m      4\u001b[0m \u001b[43m                                                                    \u001b[49m\u001b[38;5;124;43m'\u001b[39;49m\u001b[38;5;124;43mproduction_de_brain\u001b[39;49m\u001b[38;5;124;43m'\u001b[39;49m\u001b[43m,\u001b[49m\u001b[43m \u001b[49m\n\u001b[1;32m      5\u001b[0m \u001b[43m                                                                     \u001b[49m\u001b[43mreq_ids\u001b[49m\u001b[43m,\u001b[49m\u001b[43m \u001b[49m\n\u001b[1;32m      6\u001b[0m \u001b[43m                                                                     \u001b[49m\u001b[43mgrading_results_input_tag\u001b[49m\u001b[38;5;241;43m=\u001b[39;49m\u001b[38;5;124;43m'\u001b[39;49m\u001b[38;5;124;43mmaster\u001b[39;49m\u001b[38;5;124;43m'\u001b[39;49m\u001b[43m,\u001b[49m\n\u001b[1;32m      7\u001b[0m \u001b[43m                                                                     \u001b[49m\u001b[43mdo_eeo_groups_balancing\u001b[49m\u001b[38;5;241;43m=\u001b[39;49m\u001b[38;5;28;43;01mTrue\u001b[39;49;00m\u001b[43m,\u001b[49m\n\u001b[1;32m      8\u001b[0m \u001b[43m                                                                     \u001b[49m\u001b[43meeo_balancing_output_tag\u001b[49m\u001b[38;5;241;43m=\u001b[39;49m\u001b[38;5;124;43m'\u001b[39;49m\u001b[38;5;124;43mdima_berlin\u001b[39;49m\u001b[38;5;124;43m'\u001b[39;49m\u001b[43m)\u001b[49m\n",
      "File \u001b[0;32m~/hiredscore/brain_models_creation/tree_blenders/hs_tree_blenders_creation/batch_runners/batch_runs_utils.py:155\u001b[0m, in \u001b[0;36mpersist_trace.<locals>.decorator.<locals>._wrapped\u001b[0;34m(*args, **kwargs)\u001b[0m\n\u001b[1;32m    153\u001b[0m _id \u001b[38;5;241m=\u001b[39m function_calls_tracing_collection\u001b[38;5;241m.\u001b[39msave(doc)\n\u001b[1;32m    154\u001b[0m \u001b[38;5;28;01mtry\u001b[39;00m:\n\u001b[0;32m--> 155\u001b[0m     result \u001b[38;5;241m=\u001b[39m \u001b[43mfunc\u001b[49m\u001b[43m(\u001b[49m\u001b[38;5;241;43m*\u001b[39;49m\u001b[43margs\u001b[49m\u001b[43m,\u001b[49m\u001b[43m \u001b[49m\u001b[38;5;241;43m*\u001b[39;49m\u001b[38;5;241;43m*\u001b[39;49m\u001b[43mkwargs\u001b[49m\u001b[43m)\u001b[49m\n\u001b[1;32m    156\u001b[0m \u001b[38;5;28;01mexcept\u001b[39;00m \u001b[38;5;167;01mException\u001b[39;00m:\n\u001b[1;32m    157\u001b[0m     end_time \u001b[38;5;241m=\u001b[39m datetime\u001b[38;5;241m.\u001b[39mutcnow()\n",
      "File \u001b[0;32m~/hiredscore/brain_models_creation/tree_blenders/hs_tree_blenders_creation/build_dataset.py:113\u001b[0m, in \u001b[0;36mexport_dataset\u001b[0;34m(account_ids, environment, req_ids, do_eeo_groups_balancing, req_input_tag, app_input_tag, grading_results_input_tag, eeo_balancing_output_tag, fixed_positive_perc, source)\u001b[0m\n\u001b[1;32m    110\u001b[0m \u001b[38;5;66;03m# raise an exception only if we're running on a single client.\u001b[39;00m\n\u001b[1;32m    111\u001b[0m \u001b[38;5;66;03m# When we build the general brain we don't want to raise this over just one account\u001b[39;00m\n\u001b[1;32m    112\u001b[0m \u001b[38;5;28;01mif\u001b[39;00m missing_count \u001b[38;5;241m/\u001b[39m \u001b[38;5;28mlen\u001b[39m(req_ids) \u001b[38;5;241m>\u001b[39m MAX_MISSING_REQS_PERCENT \u001b[38;5;129;01mand\u001b[39;00m \u001b[38;5;28mlen\u001b[39m(account_ids) \u001b[38;5;241m==\u001b[39m \u001b[38;5;241m1\u001b[39m:\n\u001b[0;32m--> 113\u001b[0m     \u001b[38;5;28;01mraise\u001b[39;00m \u001b[38;5;167;01mException\u001b[39;00m(\u001b[38;5;124mf\u001b[39m\u001b[38;5;124m\"\u001b[39m\u001b[38;5;124mToo many missing grading_results (\u001b[39m\u001b[38;5;132;01m{\u001b[39;00mmissing_count\u001b[38;5;132;01m}\u001b[39;00m\u001b[38;5;124m)\u001b[39m\u001b[38;5;124m\"\u001b[39m)\n\u001b[1;32m    114\u001b[0m \u001b[38;5;28;01melse\u001b[39;00m:\n\u001b[1;32m    115\u001b[0m     \u001b[38;5;28;01mcontinue\u001b[39;00m\n",
      "\u001b[0;31mException\u001b[0m: Too many missing grading_results (153)"
     ]
    }
   ],
   "source": [
    "account_ids = ['berlin']#list(accounts_train_sets.keys())\n",
    "req_ids = list(itertools.chain(*[get_account_train_set(a) for a in account_ids]))\n",
    "result_req_application_tuples, result_max_statuses = export_dataset(account_ids, \n",
    "                                                                    'production_de_brain', \n",
    "                                                                     req_ids, \n",
    "                                                                     grading_results_input_tag='master',\n",
    "                                                                     do_eeo_groups_balancing=True,\n",
    "                                                                     eeo_balancing_output_tag='dima_berlin')"
   ]
  },
  {
   "cell_type": "code",
   "execution_count": null,
   "id": "be6c5b00-c94b-4663-9fe9-e68a4ebee8da",
   "metadata": {
    "tags": []
   },
   "outputs": [],
   "source": [
    "len(result_req_application_tuples)"
   ]
  },
  {
   "cell_type": "code",
   "execution_count": null,
   "id": "75277ad1-9865-41ba-b7c1-785f6d15508e",
   "metadata": {
    "tags": []
   },
   "outputs": [],
   "source": [
    "len(result_max_statuses)"
   ]
  },
  {
   "cell_type": "code",
   "execution_count": null,
   "id": "3a0d38e1-ba19-48f8-aaea-29c3f4f28d50",
   "metadata": {},
   "outputs": [],
   "source": []
  }
 ],
 "metadata": {
  "kernelspec": {
   "display_name": "Python 3 (ipykernel)",
   "language": "python",
   "name": "python3"
  },
  "language_info": {
   "codemirror_mode": {
    "name": "ipython",
    "version": 3
   },
   "file_extension": ".py",
   "mimetype": "text/x-python",
   "name": "python",
   "nbconvert_exporter": "python",
   "pygments_lexer": "ipython3",
   "version": "3.9.5"
  }
 },
 "nbformat": 4,
 "nbformat_minor": 5
}
