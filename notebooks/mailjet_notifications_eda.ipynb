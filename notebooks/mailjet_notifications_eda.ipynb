{
 "cells": [
  {
   "cell_type": "code",
   "execution_count": 36,
   "id": "65eadca3-a418-4a8a-bafb-3b2efa198369",
   "metadata": {
    "tags": []
   },
   "outputs": [],
   "source": [
    "from datetime import datetime\n",
    "from collections import Counter"
   ]
  },
  {
   "cell_type": "code",
   "execution_count": 1,
   "id": "161fd7bc-0508-417d-8673-d5b19ceff557",
   "metadata": {
    "tags": []
   },
   "outputs": [
    {
     "name": "stdout",
     "output_type": "stream",
     "text": [
      "\u001b[2m2024-02-12T14:47:25.665078Z\u001b[0m [\u001b[32m\u001b[1minfo     \u001b[0m] \u001b[1mMongos instances selected     \u001b[0m \u001b[36menvironment\u001b[0m=\u001b[35mresearch_sb1\u001b[0m \u001b[36mfile_path\u001b[0m=\u001b[35m/Users/dima/hiredscore/gimme/hs_gimme/db_facade/connection_string_builder.py\u001b[0m \u001b[36mfunction_name\u001b[0m=\u001b[35mget_selected_mongos_instances\u001b[0m \u001b[36mhostname\u001b[0m=\u001b[35mDima-Shulga-MacBook-Pro\u001b[0m \u001b[36mhosts\u001b[0m=\u001b[35m['applicativedb-prod-mongos-2.omcomcom.com', 'applicativedb-prod-mongos-0.omcomcom.com']\u001b[0m \u001b[36mline_number\u001b[0m=\u001b[35m38\u001b[0m \u001b[36mmodule\u001b[0m=\u001b[35mhs_gimme.db_facade.connection_string_builder\u001b[0m \u001b[36mpid\u001b[0m=\u001b[35m12035\u001b[0m\n"
     ]
    }
   ],
   "source": [
    "mongo = gmcdb('production', 'jaipur')"
   ]
  },
  {
   "cell_type": "code",
   "execution_count": 3,
   "id": "f1689380-8041-47d9-a6e5-d088869fbc8d",
   "metadata": {
    "tags": []
   },
   "outputs": [
    {
     "name": "stdout",
     "output_type": "stream",
     "text": [
      "\u001b[2m2024-02-12T14:49:31.135009Z\u001b[0m [\u001b[33m\u001b[1mwarning  \u001b[0m] \u001b[1mSlowLog                       \u001b[0m \u001b[36mcommand_name\u001b[0m=\u001b[35msaslContinue\u001b[0m \u001b[36mconnection_id\u001b[0m=\u001b[35mapplicativedb-prod-mongos-0.omcomcom.com:27017\u001b[0m \u001b[36mduration_ms__numeric\u001b[0m=\u001b[35m11707.338\u001b[0m \u001b[36mduration_threshold__numeric\u001b[0m=\u001b[35m10000\u001b[0m \u001b[36menvironment\u001b[0m=\u001b[35mresearch_sb1\u001b[0m \u001b[36mfile_path\u001b[0m=\u001b[35m/Users/dima/hiredscore/gimme/hs_gimme/db_facade/slow_logs_utils.py\u001b[0m \u001b[36mfunction_name\u001b[0m=\u001b[35mwrite_slow_log\u001b[0m \u001b[36mhostname\u001b[0m=\u001b[35mDima-Shulga-MacBook-Pro\u001b[0m \u001b[36mline_number\u001b[0m=\u001b[35m11\u001b[0m \u001b[36mmodule\u001b[0m=\u001b[35mhs_gimme.db_facade.slow_logs_utils\u001b[0m \u001b[36mpid\u001b[0m=\u001b[35m12035\u001b[0m \u001b[36mrequest_id\u001b[0m=\u001b[35m1954899097\u001b[0m \u001b[36msource\u001b[0m=\u001b[35mPyMongo\u001b[0m \u001b[36mstack_snippet\u001b[0m=\u001b[35m\n",
      "  File \"/Users/dima/.asdf/installs/python/3.9.5/lib/python3.9/contextlib.py\", line 117, in __enter__\n",
      "    return next(self.gen)\n",
      "\u001b[0m\n",
      "\u001b[2m2024-02-12T14:50:00.948250Z\u001b[0m [\u001b[33m\u001b[1mwarning  \u001b[0m] \u001b[1mSlowLog                       \u001b[0m \u001b[36mcommand_name\u001b[0m=\u001b[35mfind\u001b[0m \u001b[36mconnection_id\u001b[0m=\u001b[35mapplicativedb-prod-mongos-0.omcomcom.com:27017\u001b[0m \u001b[36mduration_ms__numeric\u001b[0m=\u001b[35m29806.042\u001b[0m \u001b[36mduration_threshold__numeric\u001b[0m=\u001b[35m10000\u001b[0m \u001b[36menvironment\u001b[0m=\u001b[35mresearch_sb1\u001b[0m \u001b[36mfile_path\u001b[0m=\u001b[35m/Users/dima/hiredscore/gimme/hs_gimme/db_facade/slow_logs_utils.py\u001b[0m \u001b[36mfunction_name\u001b[0m=\u001b[35mwrite_slow_log\u001b[0m \u001b[36mhostname\u001b[0m=\u001b[35mDima-Shulga-MacBook-Pro\u001b[0m \u001b[36mline_number\u001b[0m=\u001b[35m11\u001b[0m \u001b[36mmodule\u001b[0m=\u001b[35mhs_gimme.db_facade.slow_logs_utils\u001b[0m \u001b[36mpid\u001b[0m=\u001b[35m12035\u001b[0m \u001b[36mrequest_id\u001b[0m=\u001b[35m101929267\u001b[0m \u001b[36msource\u001b[0m=\u001b[35mPyMongo\u001b[0m \u001b[36mstack_snippet\u001b[0m=\u001b[35m\n",
      "  File \"/var/folders/_p/8_m91crj199_rd7sndkxncc80000gp/T/ipykernel_12035/3920454814.py\", line 1, in <module>\n",
      "    notifications = list(mongo.notification_events.find({'_created_at': {'$gt': datetime(2023, 11, 1)}}))\n",
      "\u001b[0m\n",
      "\u001b[2m2024-02-12T14:50:14.396409Z\u001b[0m [\u001b[33m\u001b[1mwarning  \u001b[0m] \u001b[1mSlowLog                       \u001b[0m \u001b[36mcommand_name\u001b[0m=\u001b[35mgetMore\u001b[0m \u001b[36mconnection_id\u001b[0m=\u001b[35mapplicativedb-prod-mongos-0.omcomcom.com:27017\u001b[0m \u001b[36mduration_ms__numeric\u001b[0m=\u001b[35m13443.91\u001b[0m \u001b[36mduration_threshold__numeric\u001b[0m=\u001b[35m10000\u001b[0m \u001b[36menvironment\u001b[0m=\u001b[35mresearch_sb1\u001b[0m \u001b[36mfile_path\u001b[0m=\u001b[35m/Users/dima/hiredscore/gimme/hs_gimme/db_facade/slow_logs_utils.py\u001b[0m \u001b[36mfunction_name\u001b[0m=\u001b[35mwrite_slow_log\u001b[0m \u001b[36mhostname\u001b[0m=\u001b[35mDima-Shulga-MacBook-Pro\u001b[0m \u001b[36mline_number\u001b[0m=\u001b[35m11\u001b[0m \u001b[36mmodule\u001b[0m=\u001b[35mhs_gimme.db_facade.slow_logs_utils\u001b[0m \u001b[36mpid\u001b[0m=\u001b[35m12035\u001b[0m \u001b[36mrequest_id\u001b[0m=\u001b[35m2128236579\u001b[0m \u001b[36msource\u001b[0m=\u001b[35mPyMongo\u001b[0m \u001b[36mstack_snippet\u001b[0m=\u001b[35m\n",
      "  File \"/var/folders/_p/8_m91crj199_rd7sndkxncc80000gp/T/ipykernel_12035/3920454814.py\", line 1, in <module>\n",
      "    notifications = list(mongo.notification_events.find({'_created_at': {'$gt': datetime(2023, 11, 1)}}))\n",
      "\u001b[0m\n",
      "\u001b[2m2024-02-12T14:50:25.497579Z\u001b[0m [\u001b[33m\u001b[1mwarning  \u001b[0m] \u001b[1mSlowLog                       \u001b[0m \u001b[36mcommand_name\u001b[0m=\u001b[35mgetMore\u001b[0m \u001b[36mconnection_id\u001b[0m=\u001b[35mapplicativedb-prod-mongos-0.omcomcom.com:27017\u001b[0m \u001b[36mduration_ms__numeric\u001b[0m=\u001b[35m11097.111\u001b[0m \u001b[36mduration_threshold__numeric\u001b[0m=\u001b[35m10000\u001b[0m \u001b[36menvironment\u001b[0m=\u001b[35mresearch_sb1\u001b[0m \u001b[36mfile_path\u001b[0m=\u001b[35m/Users/dima/hiredscore/gimme/hs_gimme/db_facade/slow_logs_utils.py\u001b[0m \u001b[36mfunction_name\u001b[0m=\u001b[35mwrite_slow_log\u001b[0m \u001b[36mhostname\u001b[0m=\u001b[35mDima-Shulga-MacBook-Pro\u001b[0m \u001b[36mline_number\u001b[0m=\u001b[35m11\u001b[0m \u001b[36mmodule\u001b[0m=\u001b[35mhs_gimme.db_facade.slow_logs_utils\u001b[0m \u001b[36mpid\u001b[0m=\u001b[35m12035\u001b[0m \u001b[36mrequest_id\u001b[0m=\u001b[35m2110010672\u001b[0m \u001b[36msource\u001b[0m=\u001b[35mPyMongo\u001b[0m \u001b[36mstack_snippet\u001b[0m=\u001b[35m\n",
      "  File \"/var/folders/_p/8_m91crj199_rd7sndkxncc80000gp/T/ipykernel_12035/3920454814.py\", line 1, in <module>\n",
      "    notifications = list(mongo.notification_events.find({'_created_at': {'$gt': datetime(2023, 11, 1)}}))\n",
      "\u001b[0m\n",
      "\u001b[2m2024-02-12T14:50:40.808335Z\u001b[0m [\u001b[33m\u001b[1mwarning  \u001b[0m] \u001b[1mSlowLog                       \u001b[0m \u001b[36mcommand_name\u001b[0m=\u001b[35mgetMore\u001b[0m \u001b[36mconnection_id\u001b[0m=\u001b[35mapplicativedb-prod-mongos-0.omcomcom.com:27017\u001b[0m \u001b[36mduration_ms__numeric\u001b[0m=\u001b[35m15305.904\u001b[0m \u001b[36mduration_threshold__numeric\u001b[0m=\u001b[35m10000\u001b[0m \u001b[36menvironment\u001b[0m=\u001b[35mresearch_sb1\u001b[0m \u001b[36mfile_path\u001b[0m=\u001b[35m/Users/dima/hiredscore/gimme/hs_gimme/db_facade/slow_logs_utils.py\u001b[0m \u001b[36mfunction_name\u001b[0m=\u001b[35mwrite_slow_log\u001b[0m \u001b[36mhostname\u001b[0m=\u001b[35mDima-Shulga-MacBook-Pro\u001b[0m \u001b[36mline_number\u001b[0m=\u001b[35m11\u001b[0m \u001b[36mmodule\u001b[0m=\u001b[35mhs_gimme.db_facade.slow_logs_utils\u001b[0m \u001b[36mpid\u001b[0m=\u001b[35m12035\u001b[0m \u001b[36mrequest_id\u001b[0m=\u001b[35m1617819336\u001b[0m \u001b[36msource\u001b[0m=\u001b[35mPyMongo\u001b[0m \u001b[36mstack_snippet\u001b[0m=\u001b[35m\n",
      "  File \"/var/folders/_p/8_m91crj199_rd7sndkxncc80000gp/T/ipykernel_12035/3920454814.py\", line 1, in <module>\n",
      "    notifications = list(mongo.notification_events.find({'_created_at': {'$gt': datetime(2023, 11, 1)}}))\n",
      "\u001b[0m\n"
     ]
    },
    {
     "data": {
      "text/plain": [
       "19969"
      ]
     },
     "execution_count": 3,
     "metadata": {},
     "output_type": "execute_result"
    }
   ],
   "source": [
    "notifications = list(mongo.notification_events.find({'_created_at': {'$gt': datetime(2023, 11, 1)}}))\n",
    "len(notifications)"
   ]
  },
  {
   "cell_type": "code",
   "execution_count": 12,
   "id": "38ea0d76-1f52-478c-b734-2c37e2339fe0",
   "metadata": {
    "tags": []
   },
   "outputs": [
    {
     "data": {
      "text/plain": [
       "['account_id',\n",
       " 'bcc_address',\n",
       " 'entity_id',\n",
       " 'entity_type',\n",
       " 'environment',\n",
       " 'initiating_user_id',\n",
       " 'notification_type',\n",
       " 'preset',\n",
       " 'preset_context',\n",
       " 'recommendation_context',\n",
       " 'recommended_req_ids',\n",
       " 'signature',\n",
       " 'source_system',\n",
       " 'talent_id',\n",
       " 'task_name']"
      ]
     },
     "execution_count": 12,
     "metadata": {},
     "output_type": "execute_result"
    }
   ],
   "source": [
    "sorted(notifications[0]['payload'].keys())"
   ]
  },
  {
   "cell_type": "code",
   "execution_count": 25,
   "id": "77c18f3b-870d-408e-a2a0-ceb4abd6b118",
   "metadata": {
    "tags": []
   },
   "outputs": [],
   "source": [
    "data = []\n",
    "for notif in notifications:\n",
    "    d = dict(notif)\n",
    "    for k, v in notif['payload'].items():\n",
    "        d['payload__' + k] = v\n",
    "    data.append(d)\n",
    "df = pd.DataFrame(data)"
   ]
  },
  {
   "cell_type": "code",
   "execution_count": 26,
   "id": "3587e7ae-1a18-4e7a-a63c-1c8a05c0d60a",
   "metadata": {
    "tags": []
   },
   "outputs": [
    {
     "data": {
      "text/plain": [
       "Index(['_id', '_created_at', '_updated_at', 'message_history',\n",
       "       'notification_type', 'custom_id', 'status', 'rpa_audit_id',\n",
       "       'notification_action', 'recipient', 'service_provider', 'payload',\n",
       "       'payload__initiating_user_id', 'payload__account_id',\n",
       "       'payload__talent_id', 'payload__recommended_req_ids',\n",
       "       'payload__preset_context', 'payload__recommendation_context',\n",
       "       'payload__preset', 'payload__notification_type', 'payload__entity_type',\n",
       "       'payload__entity_id', 'payload__source_system', 'payload__signature',\n",
       "       'payload__environment', 'payload__task_name', 'payload__bcc_address'],\n",
       "      dtype='object')"
      ]
     },
     "execution_count": 26,
     "metadata": {},
     "output_type": "execute_result"
    }
   ],
   "source": [
    "df.columns"
   ]
  },
  {
   "cell_type": "code",
   "execution_count": 31,
   "id": "457d5e4a-8bbf-4bf0-88af-85aecce4ef68",
   "metadata": {
    "tags": []
   },
   "outputs": [
    {
     "data": {
      "text/plain": [
       "get_open_for_opportunities_program            7067\n",
       "NaN                                           5655\n",
       "hm_call_for_action_v2                         4532\n",
       "recruiter_sla_digest                          2522\n",
       "get_internal_applications_for_redeployment     115\n",
       "auto_fetch_on_new_req                           78\n",
       "Name: payload__task_name, dtype: int64"
      ]
     },
     "execution_count": 31,
     "metadata": {},
     "output_type": "execute_result"
    }
   ],
   "source": [
    "df['payload__task_name'].value_counts(dropna=False)"
   ]
  },
  {
   "cell_type": "code",
   "execution_count": 39,
   "id": "bf3edc3d-8da2-4537-8790-14004b3c959c",
   "metadata": {
    "tags": []
   },
   "outputs": [
    {
     "name": "stdout",
     "output_type": "stream",
     "text": [
      "is_opened 0.4434373278581802\n",
      "is_clicked_on_url 0.5932695678301367\n",
      "is_blocked 0.05753918573789373\n",
      "is_unsubscribed 0.0019029495718363464\n",
      "is_spam 0.00045069858280334516\n"
     ]
    }
   ],
   "source": [
    "\n",
    "for f in ['opened', 'clicked_on_url', 'blocked', 'unsubscribed', 'spam']:\n",
    "    df['is_' + f] = df['message_history'].apply(lambda x: f in {v['event_subtype'] for v in x})\n",
    "    print('is_' + f, df['is_' + f].mean())"
   ]
  },
  {
   "cell_type": "code",
   "execution_count": 42,
   "id": "74596f81-38cb-480a-b0c1-3332bfc202f3",
   "metadata": {
    "tags": []
   },
   "outputs": [
    {
     "data": {
      "text/html": [
       "<div>\n",
       "<style scoped>\n",
       "    .dataframe tbody tr th:only-of-type {\n",
       "        vertical-align: middle;\n",
       "    }\n",
       "\n",
       "    .dataframe tbody tr th {\n",
       "        vertical-align: top;\n",
       "    }\n",
       "\n",
       "    .dataframe thead th {\n",
       "        text-align: right;\n",
       "    }\n",
       "</style>\n",
       "<table border=\"1\" class=\"dataframe\">\n",
       "  <thead>\n",
       "    <tr style=\"text-align: right;\">\n",
       "      <th></th>\n",
       "      <th></th>\n",
       "      <th>is_opened</th>\n",
       "      <th>is_clicked_on_url</th>\n",
       "      <th>is_blocked</th>\n",
       "      <th>is_unsubscribed</th>\n",
       "      <th>is_spam</th>\n",
       "    </tr>\n",
       "    <tr>\n",
       "      <th>notification_action</th>\n",
       "      <th>payload__task_name</th>\n",
       "      <th></th>\n",
       "      <th></th>\n",
       "      <th></th>\n",
       "      <th></th>\n",
       "      <th></th>\n",
       "    </tr>\n",
       "  </thead>\n",
       "  <tbody>\n",
       "    <tr>\n",
       "      <th>auto_fetch_on_new_req</th>\n",
       "      <th>auto_fetch_on_new_req</th>\n",
       "      <td>0.461538</td>\n",
       "      <td>0.115385</td>\n",
       "      <td>0.423077</td>\n",
       "      <td>0.012821</td>\n",
       "      <td>0.000000</td>\n",
       "    </tr>\n",
       "    <tr>\n",
       "      <th>get_internal_applications_for_redeployment</th>\n",
       "      <th>get_internal_applications_for_redeployment</th>\n",
       "      <td>0.478261</td>\n",
       "      <td>0.652174</td>\n",
       "      <td>0.156522</td>\n",
       "      <td>0.000000</td>\n",
       "      <td>0.000000</td>\n",
       "    </tr>\n",
       "    <tr>\n",
       "      <th>get_open_for_opportunities_program</th>\n",
       "      <th>get_open_for_opportunities_program</th>\n",
       "      <td>0.327862</td>\n",
       "      <td>0.871232</td>\n",
       "      <td>0.081647</td>\n",
       "      <td>0.002264</td>\n",
       "      <td>0.000000</td>\n",
       "    </tr>\n",
       "    <tr>\n",
       "      <th>hm_call_for_action_v2</th>\n",
       "      <th>hm_call_for_action_v2</th>\n",
       "      <td>0.380847</td>\n",
       "      <td>0.646072</td>\n",
       "      <td>0.094219</td>\n",
       "      <td>0.000000</td>\n",
       "      <td>0.000000</td>\n",
       "    </tr>\n",
       "    <tr>\n",
       "      <th>recruiter_sla_digest</th>\n",
       "      <th>recruiter_sla_digest</th>\n",
       "      <td>0.372720</td>\n",
       "      <td>0.726011</td>\n",
       "      <td>0.017843</td>\n",
       "      <td>0.000793</td>\n",
       "      <td>0.000000</td>\n",
       "    </tr>\n",
       "    <tr>\n",
       "      <th>sending_fetch_mail</th>\n",
       "      <th>NaN</th>\n",
       "      <td>0.668612</td>\n",
       "      <td>0.149779</td>\n",
       "      <td>0.008665</td>\n",
       "      <td>0.003360</td>\n",
       "      <td>0.001592</td>\n",
       "    </tr>\n",
       "  </tbody>\n",
       "</table>\n",
       "</div>"
      ],
      "text/plain": [
       "                                                                                       is_opened  \\\n",
       "notification_action                        payload__task_name                                      \n",
       "auto_fetch_on_new_req                      auto_fetch_on_new_req                        0.461538   \n",
       "get_internal_applications_for_redeployment get_internal_applications_for_redeployment   0.478261   \n",
       "get_open_for_opportunities_program         get_open_for_opportunities_program           0.327862   \n",
       "hm_call_for_action_v2                      hm_call_for_action_v2                        0.380847   \n",
       "recruiter_sla_digest                       recruiter_sla_digest                         0.372720   \n",
       "sending_fetch_mail                         NaN                                          0.668612   \n",
       "\n",
       "                                                                                       is_clicked_on_url  \\\n",
       "notification_action                        payload__task_name                                              \n",
       "auto_fetch_on_new_req                      auto_fetch_on_new_req                                0.115385   \n",
       "get_internal_applications_for_redeployment get_internal_applications_for_redeployment           0.652174   \n",
       "get_open_for_opportunities_program         get_open_for_opportunities_program                   0.871232   \n",
       "hm_call_for_action_v2                      hm_call_for_action_v2                                0.646072   \n",
       "recruiter_sla_digest                       recruiter_sla_digest                                 0.726011   \n",
       "sending_fetch_mail                         NaN                                                  0.149779   \n",
       "\n",
       "                                                                                       is_blocked  \\\n",
       "notification_action                        payload__task_name                                       \n",
       "auto_fetch_on_new_req                      auto_fetch_on_new_req                         0.423077   \n",
       "get_internal_applications_for_redeployment get_internal_applications_for_redeployment    0.156522   \n",
       "get_open_for_opportunities_program         get_open_for_opportunities_program            0.081647   \n",
       "hm_call_for_action_v2                      hm_call_for_action_v2                         0.094219   \n",
       "recruiter_sla_digest                       recruiter_sla_digest                          0.017843   \n",
       "sending_fetch_mail                         NaN                                           0.008665   \n",
       "\n",
       "                                                                                       is_unsubscribed  \\\n",
       "notification_action                        payload__task_name                                            \n",
       "auto_fetch_on_new_req                      auto_fetch_on_new_req                              0.012821   \n",
       "get_internal_applications_for_redeployment get_internal_applications_for_redeployment         0.000000   \n",
       "get_open_for_opportunities_program         get_open_for_opportunities_program                 0.002264   \n",
       "hm_call_for_action_v2                      hm_call_for_action_v2                              0.000000   \n",
       "recruiter_sla_digest                       recruiter_sla_digest                               0.000793   \n",
       "sending_fetch_mail                         NaN                                                0.003360   \n",
       "\n",
       "                                                                                        is_spam  \n",
       "notification_action                        payload__task_name                                    \n",
       "auto_fetch_on_new_req                      auto_fetch_on_new_req                       0.000000  \n",
       "get_internal_applications_for_redeployment get_internal_applications_for_redeployment  0.000000  \n",
       "get_open_for_opportunities_program         get_open_for_opportunities_program          0.000000  \n",
       "hm_call_for_action_v2                      hm_call_for_action_v2                       0.000000  \n",
       "recruiter_sla_digest                       recruiter_sla_digest                        0.000000  \n",
       "sending_fetch_mail                         NaN                                         0.001592  "
      ]
     },
     "execution_count": 42,
     "metadata": {},
     "output_type": "execute_result"
    }
   ],
   "source": [
    "df.groupby(['notification_action', 'payload__task_name'], dropna=False).agg(is_opened=('is_opened', 'mean'), \n",
    "                                     is_clicked_on_url=('is_clicked_on_url', 'mean'), \n",
    "                                     is_blocked=('is_blocked', 'mean'), \n",
    "                                     is_unsubscribed=('is_unsubscribed', 'mean'), \n",
    "                                     is_spam=('is_spam', 'mean'))"
   ]
  },
  {
   "cell_type": "code",
   "execution_count": null,
   "id": "47d910d7-d339-481a-9290-d89e8190845d",
   "metadata": {},
   "outputs": [],
   "source": []
  }
 ],
 "metadata": {
  "kernelspec": {
   "display_name": "Python 3 (ipykernel)",
   "language": "python",
   "name": "python3"
  },
  "language_info": {
   "codemirror_mode": {
    "name": "ipython",
    "version": 3
   },
   "file_extension": ".py",
   "mimetype": "text/x-python",
   "name": "python",
   "nbconvert_exporter": "python",
   "pygments_lexer": "ipython3",
   "version": "3.9.5"
  }
 },
 "nbformat": 4,
 "nbformat_minor": 5
}
