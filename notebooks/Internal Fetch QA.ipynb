{
 "cells": [
  {
   "cell_type": "code",
   "execution_count": 13,
   "id": "228d499f-aca6-4abe-8566-0c1f878ed7db",
   "metadata": {
    "tags": []
   },
   "outputs": [
    {
     "name": "stderr",
     "output_type": "stream",
     "text": [
      "/var/folders/_p/8_m91crj199_rd7sndkxncc80000gp/T/ipykernel_76045/3907335583.py:12: DeprecationWarning: Importing display from IPython.core.display is deprecated since IPython 7.14, please import from IPython display\n",
      "  from IPython.core.display import display, HTML\n"
     ]
    }
   ],
   "source": [
    "from hs_gimme.logging_service.problems_only_logging_service import ProblemsOnlyLoggingService\n",
    "from hs_gimme.db_facade.db_facade_factory import get_mongo_client_db\n",
    "from hs_recommendations_api_client import get_recommendations_api_client\n",
    "from tqdm import tqdm\n",
    "from json2html import *\n",
    "from hs_gimme.s3.resume_storage import ResumeStorage\n",
    "from hs_gimme.hs_object_functions.application import get_selected_resume\n",
    "from hs_gimme.constants.objects.application import ResumeData\n",
    "import logging\n",
    "import pandas as pd\n",
    "import itertools\n",
    "from IPython.core.display import display, HTML"
   ]
  },
  {
   "cell_type": "code",
   "execution_count": 2,
   "id": "2fc74281-6ed7-485d-b4fc-7816b13604ae",
   "metadata": {
    "tags": []
   },
   "outputs": [],
   "source": [
    "ENV = 'production'\n",
    "ACCOUNT = 'jaipur'\n",
    "request_kwargs = {\"fetch_mode\": {\"value\": \"employee_fetch\"},\n",
    "        \"allow_already_applied_req\": {\"value\": True},\n",
    "        \"allow_candidates_with_offer\": {\"value\": True}}"
   ]
  },
  {
   "cell_type": "code",
   "execution_count": 3,
   "id": "e94e1a0d-2708-4efe-99ab-ed3d19f21924",
   "metadata": {
    "tags": []
   },
   "outputs": [],
   "source": [
    "mongo = get_mongo_client_db(ENV, ACCOUNT)"
   ]
  },
  {
   "cell_type": "code",
   "execution_count": 4,
   "id": "f3434390-b7a3-437c-876b-7353204843bf",
   "metadata": {
    "tags": []
   },
   "outputs": [],
   "source": [
    "logger = logging.getLogger()"
   ]
  },
  {
   "cell_type": "code",
   "execution_count": 5,
   "id": "f5154671-1ddd-460e-a499-7cdcf1fe037c",
   "metadata": {
    "tags": []
   },
   "outputs": [],
   "source": [
    "resume_storage = ResumeStorage(logger)"
   ]
  },
  {
   "cell_type": "code",
   "execution_count": null,
   "id": "53e4c3dd-412e-48e3-94b3-ba13ec18de63",
   "metadata": {
    "tags": []
   },
   "outputs": [],
   "source": [
    "req_ids = mongo.req.distinct('_id', {'req_status': 'Open'})\n",
    "len(req_ids)"
   ]
  },
  {
   "cell_type": "code",
   "execution_count": 6,
   "id": "1d38d0d3-1e51-48ec-83aa-19be1d8af6f2",
   "metadata": {
    "tags": []
   },
   "outputs": [
    {
     "data": {
      "text/plain": [
       "109"
      ]
     },
     "execution_count": 6,
     "metadata": {},
     "output_type": "execute_result"
    }
   ],
   "source": [
    "df = pd.read_excel(f'/Users/dima/Downloads/for_mer/{ACCOUNT}_{ENV}.xlsx')\n",
    "len(df)"
   ]
  },
  {
   "cell_type": "code",
   "execution_count": 7,
   "id": "52f29081-1f89-4aab-b7dc-ba73cd7abab1",
   "metadata": {
    "tags": []
   },
   "outputs": [
    {
     "data": {
      "text/plain": [
       "52"
      ]
     },
     "execution_count": 7,
     "metadata": {},
     "output_type": "execute_result"
    }
   ],
   "source": [
    "req_ids = list(df['req_id'].unique())\n",
    "len(req_ids)"
   ]
  },
  {
   "cell_type": "code",
   "execution_count": 8,
   "id": "ea09ae5c-4426-470e-b807-6513de6db544",
   "metadata": {
    "tags": []
   },
   "outputs": [],
   "source": [
    "api = get_recommendations_api_client(environment=ENV, logger=ProblemsOnlyLoggingService())"
   ]
  },
  {
   "cell_type": "code",
   "execution_count": 9,
   "id": "64607d69-35cb-4be7-abe3-97f0cb39cb60",
   "metadata": {
    "tags": []
   },
   "outputs": [
    {
     "name": "stderr",
     "output_type": "stream",
     "text": [
      "100%|█████████████████████████████████████████████████████████████████████████████████████████████████████████████████████████████████████| 52/52 [00:37<00:00,  1.38it/s]\n"
     ]
    },
    {
     "data": {
      "text/plain": [
       "10"
      ]
     },
     "execution_count": 9,
     "metadata": {},
     "output_type": "execute_result"
    }
   ],
   "source": [
    "recommandations = {}\n",
    "\n",
    "for req_id in tqdm(req_ids[:200]):\n",
    "    r = api.fast_fetch(ACCOUNT, req_id, **request_kwargs)\n",
    "    #print(f'{i}/{len(req_ids)}', req_id, r['total_count'])\n",
    "    if r['total_count'] > 0:\n",
    "        recommandations[req_id] = r\n",
    "len(recommandations)"
   ]
  },
  {
   "cell_type": "code",
   "execution_count": 14,
   "id": "0b2f03ce-4f69-4daf-aae0-7b163681845d",
   "metadata": {
    "tags": []
   },
   "outputs": [
    {
     "data": {
      "text/plain": [
       "40"
      ]
     },
     "execution_count": 14,
     "metadata": {},
     "output_type": "execute_result"
    }
   ],
   "source": [
    "len(list(itertools.chain(*recommandations.values())))"
   ]
  },
  {
   "cell_type": "code",
   "execution_count": null,
   "id": "53ad5ffc-c50f-44f4-9e85-1dd495615825",
   "metadata": {
    "tags": []
   },
   "outputs": [],
   "source": [
    "def add_html_paragraph(text):\n",
    "    return '<p>' + text + '</p>'\n",
    "\n",
    "def load_resume_bytes(app_from_mongo: str,  _resume_storage: ResumeStorage):\n",
    "    resume_data = get_selected_resume(app_from_mongo)\n",
    "    unique_key = resume_data.get(ResumeData.PDF_UNIQUE_KEY) or resume_data[ResumeData.UNIQUE_KEY]\n",
    "    resume_bytes = _resume_storage.get_resume_bytes(resume_data, unique_key=unique_key)\n",
    "    return resume_bytes"
   ]
  },
  {
   "cell_type": "code",
   "execution_count": 25,
   "id": "2807ff24-b267-4804-97db-02d824b6de6d",
   "metadata": {
    "tags": []
   },
   "outputs": [
    {
     "name": "stdout",
     "output_type": "stream",
     "text": [
      "JLLREQ177536 2\n",
      "JLLREQ177552 1\n",
      "JLLREQ213226 3\n",
      "JLLREQ225478 1\n",
      "JLLREQ227197 1\n",
      "JLLREQ234115 1\n",
      "JLLREQ234127 1\n",
      "JLLREQ237680 1\n",
      "JLLREQ238357 1\n",
      "JLLREQ238385 4\n"
     ]
    }
   ],
   "source": [
    "data = []\n",
    "for req_id, recomendation in recommandations.items():\n",
    "    print(req_id, len(recomendation['results']))\n",
    "    for result in recomendation['results']:\n",
    "        \n",
    "        candidate = mongo.application.find_one(result['candidate_data']['last_application_id'])\n",
    "        candidate_id = candidate['_id']\n",
    "        \n",
    "#         employee = mongo.employee.find_one({'current_talent_id': result['candidate_data']['current_talent_id']})\n",
    "#         req = mongo.req.find_one(req_id)\n",
    "#         req_html = employee_html = \"\"\"<html><style>\n",
    "#                         .styled-table {\n",
    "#                     border-collapse: collapse;\n",
    "#                     margin: 25px 0;\n",
    "#                     font-size: 0.9em;\n",
    "#                     font-family: sans-serif;\n",
    "#                     min-width: 400px;\n",
    "#                     box-shadow: 0 0 20px rgba(0, 0, 0, 0.15);\n",
    "#                 }\n",
    "                \n",
    "#                 th {\n",
    "#                     vertical-align: top;\n",
    "#                 }\n",
    "#             </style>\n",
    "#             <body>\n",
    "#             \"\"\"\n",
    "#         req_html += f'<h1>Req {req_id}:</h1>'\n",
    "#         req_summary = { k: req.get(k) for k in ['city', 'address', 'country', 'job_title', 'job_department',\n",
    "#                                              'top_category', 'visa_requirements'] }\n",
    "#         req_html += add_html_paragraph(json2html.convert(req_summary, table_attributes='class=styled-table'))\n",
    "\n",
    "        \n",
    "#         for k, t in req['job_listing'].items():\n",
    "#             req_html += '<h3>' + k + '</h3>'\n",
    "#             req_html += add_html_paragraph(t)\n",
    "            \n",
    "#         employee_html += f'<h1>Emplyee {candidate_id}:</h1>'\n",
    "        \n",
    "#         employee_summary = { k: employee.get(k) for k in ['contact_info', 'current_position', 'experience', 'ratings', 'skills',\n",
    "#                                               'hcm_samurai'] }\n",
    "        \n",
    "#         employee_html += '<h2>Data from HCM:</h2>'\n",
    "#         employee_html += add_html_paragraph(json2html.convert(employee_summary, table_attributes='class=styled-table'))\n",
    "        \n",
    "        \n",
    "# #         html += '<h2>Last Application resume:</h2>'\n",
    "# #         html += add_html_paragraph(candidate['samurai_json']['resume_as_text'].replace('\\n', '<br>'))\n",
    "        \n",
    "# #         html == '<h2>Insights:</h2>'\n",
    "# #         html += add_html_paragraph(json2html.convert(result['insights'], table_attributes='class=styled-table'))\n",
    "        \n",
    "# #         html += '<h2>Boosts:</h2>'\n",
    "# #         html += add_html_paragraph(json2html.convert(result['boosts'], table_attributes='class=styled-table'))\n",
    "        \n",
    "# #         html += '<h2>Grading Data:</h2>'\n",
    "# #         html += add_html_paragraph(json2html.convert(result['grading_data'], table_attributes='class=styled-table'))\n",
    "        \n",
    "#         req_html += '</body>'\n",
    "#         employee_html += '</body>'\n",
    "        \n",
    "        \n",
    "#         req_path = f'/Users/dima/Downloads/for_mer/utah/{req_id}.htm'\n",
    "#         with open(req_path, 'w') as f:\n",
    "#             f.write(req_html)\n",
    "#             print(req_path)\n",
    "            \n",
    "#         emplyee_path = f'/Users/dima/Downloads/for_mer/utah/{candidate_id}.htm'\n",
    "#         with open(emplyee_path, 'w') as f:\n",
    "#             f.write(employee_html)\n",
    "#             print(emplyee_path)\n",
    "            \n",
    "            \n",
    "#         resume_bytes = load_resume_bytes(candidate, resume_storage)\n",
    "\n",
    "#         resume_path = f'/Users/dima/Downloads/for_mer/utah/{candidate_id}.pdf'\n",
    "#         with open(resume_path, 'wb') as f:\n",
    "#             print(resume_path)\n",
    "#             f.write(resume_bytes)\n",
    "#         req_path = f'/Users/dima/Downloads/for_mer/utah/{req_id}.htm'\n",
    "#         with open(req_path, 'w') as f:\n",
    "#             f.write(req_html)\n",
    "#             print(req_path)\n",
    "        \n",
    "        d = {\n",
    "                'req_id': req_id,\n",
    "                'candidate_id': candidate_id\n",
    "            }\n",
    "\n",
    "        for f in ['grade', 'filtering_score']:\n",
    "            d[f] = result[f]\n",
    "\n",
    "        d['recommendation'] = result\n",
    "        data.append(d)"
   ]
  },
  {
   "cell_type": "code",
   "execution_count": 22,
   "id": "55f2e1a7-ce9a-40f1-b59f-6f86550614f2",
   "metadata": {
    "tags": []
   },
   "outputs": [],
   "source": [
    "df = pd.DataFrame(data)\n",
    "# df.to_excel(f'/Users/dima/Downloads/for_mer/utah/{ACCOUNT}_{ENV}.xlsx')\n",
    "# df.head()"
   ]
  },
  {
   "cell_type": "code",
   "execution_count": 23,
   "id": "2cc80666-9346-435c-9137-1d0476135440",
   "metadata": {
    "tags": []
   },
   "outputs": [
    {
     "data": {
      "text/plain": [
       "16"
      ]
     },
     "execution_count": 23,
     "metadata": {},
     "output_type": "execute_result"
    }
   ],
   "source": [
    "len(df)"
   ]
  },
  {
   "cell_type": "code",
   "execution_count": 16,
   "id": "6e3d17ce-432d-4eae-a006-a9e96a5a155c",
   "metadata": {},
   "outputs": [
    {
     "data": {
      "text/plain": [
       "{'candidate_id': 'JLLCAND2180263',\n",
       " 'candidate_data': {'email': 'progers_2001@yahoo.com',\n",
       "  'name': 'Phillip Rogers Jr',\n",
       "  'logical_update_date': '2021-06-01 18:16:00.172000',\n",
       "  'last_applied_date': '2021-06-01 18:16:00.172000',\n",
       "  'highest_degree': 'Bachelors',\n",
       "  'last_title': 'AEROTEK',\n",
       "  'last_application_id': 'JLLREQ145975_JLLCAND2180263',\n",
       "  'latest_entity_id': 'JLLREQ145975_JLLCAND2180263',\n",
       "  'latest_entity_type': 'ats',\n",
       "  'latest_entity_source_system': 'workday',\n",
       "  'current_talent_id': '272c3515-3783-4434-83f8-57eb6fd528e0',\n",
       "  'talent_ids': ['272c3515-3783-4434-83f8-57eb6fd528e0'],\n",
       "  'data_sources': ['hcm', 'ats'],\n",
       "  'is_internal': True,\n",
       "  'high_prob_to_apply': False,\n",
       "  'prob_to_apply': 0.004,\n",
       "  'applied_req_ids_for_match': ['JLLREQ147817', 'JLLREQ88724'],\n",
       "  'max_past_phase': 'ready_for_hire',\n",
       "  'last_company': 'Roche Diagnostics',\n",
       "  'population_types': [],\n",
       "  'source_systems': ['hcm', 'workday'],\n",
       "  'tags': [],\n",
       "  'external_pool': {'account_id': 'jaipur',\n",
       "   'external_talent_id': '272c3515-3783-4434-83f8-57eb6fd528e0',\n",
       "   'sub_pool_id': []}},\n",
       " 'grade': 0.8724396695378785,\n",
       " 'filtering_score': 0.06988788012302283,\n",
       " 'grading_data': {'grade_components': {'skills_w2v': 0.9579480925504577,\n",
       "   'titles_w2v': 1.0,\n",
       "   'skills_by_importance': 1.0,\n",
       "   'professions_match': 1.0,\n",
       "   'profession_years_grade': 1.0,\n",
       "   'certifications_grade': None,\n",
       "   'titles_similarity_model': 0.676547842401501,\n",
       "   'high_degree_level_grade': 1.0,\n",
       "   'high_past_status_grade': 1.0,\n",
       "   'model_score': None,\n",
       "   'time_in_position': 1.0,\n",
       "   'level_score': 1.0,\n",
       "   'skill_score': 0.0,\n",
       "   'performance_model': 1.0,\n",
       "   'seniority_grade': 1.0,\n",
       "   'future_apply_grade': 0.0044992925367007145,\n",
       "   'majors_grade': 1.0},\n",
       "  'grade': 0.8724396695378785,\n",
       "  'initial_grade': 0.5408937901647713,\n",
       "  'initial_grade_components': {'skills_w2v': 0.6087527871131897,\n",
       "   'titles_w2v': 0.44836804270744324,\n",
       "   'skills_by_importance': 0.6,\n",
       "   'professions_match': 0.5351802110671997,\n",
       "   'profession_years_grade': 1.0,\n",
       "   'certifications_grade': None,\n",
       "   'titles_similarity_model': 0.011538461538461539,\n",
       "   'high_degree_level_grade': 1.0,\n",
       "   'high_past_status_grade': 1.0,\n",
       "   'model_score': None,\n",
       "   'time_in_position': 0.6228310502283105,\n",
       "   'level_score': 0.0625,\n",
       "   'skill_score': 0.0,\n",
       "   'performance_model': 0.01,\n",
       "   'seniority_grade': 1.0,\n",
       "   'future_apply_grade': 0.003999932203441858,\n",
       "   'majors_grade': 1.0},\n",
       "  'ml_model_grade': 0.0,\n",
       "  'ml_model_initial_grade': 0.0,\n",
       "  'old_fetch_grade': 0.8724396695378785,\n",
       "  'old_fetch_initial_grade': 0.5408937901647713,\n",
       "  'name_similarity_score': 1.0},\n",
       " 'insights': {'max_past_status': 3},\n",
       " 'boosts': {}}"
      ]
     },
     "execution_count": 16,
     "metadata": {},
     "output_type": "execute_result"
    }
   ],
   "source": [
    "recomendation['results'][0]"
   ]
  },
  {
   "cell_type": "code",
   "execution_count": null,
   "id": "848493ab-4b84-43e2-9c51-0df05796ddba",
   "metadata": {},
   "outputs": [],
   "source": []
  }
 ],
 "metadata": {
  "kernelspec": {
   "display_name": "Python 3 (ipykernel)",
   "language": "python",
   "name": "python3"
  },
  "language_info": {
   "codemirror_mode": {
    "name": "ipython",
    "version": 3
   },
   "file_extension": ".py",
   "mimetype": "text/x-python",
   "name": "python",
   "nbconvert_exporter": "python",
   "pygments_lexer": "ipython3",
   "version": "3.9.5"
  }
 },
 "nbformat": 4,
 "nbformat_minor": 5
}
