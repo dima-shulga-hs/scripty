{
 "cells": [
  {
   "cell_type": "code",
   "execution_count": 5,
   "id": "be100e9b-f52a-4a3c-a968-1f85b64e7f69",
   "metadata": {
    "tags": []
   },
   "outputs": [],
   "source": [
    "from analytics_utils.db_utils import get_db_client, SupportedDBs\n",
    "from hs_gimme.account_settings_manager import get_account_settings\n",
    "from hs_gimme.application_status_history_classifier.machine_learning_status_classifier import \\\n",
    "    get_machine_learning_status_classifier\n",
    "from tqdm import tqdm\n",
    "from analytics_configs.mng.sources import ANALYTICS_BUCKET_TO_PHASE_ID_MAPPING\n",
    "from hs_tree_blenders_creation.batch_runners.data_sets import get_account_train_set, get_account_threshold_set, get_account_test_set\n",
    "from datetime import datetime"
   ]
  },
  {
   "cell_type": "code",
   "execution_count": 6,
   "id": "3037b144-bf55-4367-bd08-e0833f39885f",
   "metadata": {
    "tags": []
   },
   "outputs": [],
   "source": [
    "ACCOUNTS = ['oxford', 'seattle', 'porto', 'antalya', 'tampa', 'moscow']\n",
    "#ACCOUNTS = ['seattle', 'denver', 'antwerp',]\n",
    "ENV = 'production'\n",
    "SAMPLE_SIZE = 500"
   ]
  },
  {
   "cell_type": "code",
   "execution_count": 7,
   "id": "e816223f-0d11-4e22-a7f5-4b5dc0f3de22",
   "metadata": {
    "tags": []
   },
   "outputs": [],
   "source": [
    "def get_statuses_names(app):\n",
    "    statuses = app['ats_application']['status_info']['status_history']\n",
    "    try:\n",
    "        status_names = [s.get('status_name', '') or s.get('step_name', '') for s in statuses]\n",
    "    except:\n",
    "        print(statuses)\n",
    "        raise\n",
    "    return '->'.join(status_names)"
   ]
  },
  {
   "cell_type": "code",
   "execution_count": 8,
   "id": "b783cb03-1dfd-4798-a769-8f81655165be",
   "metadata": {
    "tags": []
   },
   "outputs": [
    {
     "name": "stdout",
     "output_type": "stream",
     "text": [
      "oxford\n",
      "9749 reqs in test set\n"
     ]
    },
    {
     "name": "stderr",
     "output_type": "stream",
     "text": [
      "100%|██████████| 500/500 [00:00<00:00, 1076.84it/s]\n"
     ]
    },
    {
     "name": "stdout",
     "output_type": "stream",
     "text": [
      "seattle\n",
      "\u001b[2m2023-10-18T06:57:48.566863Z\u001b[0m [\u001b[32m\u001b[1minfo     \u001b[0m] \u001b[1mRunning DVC command ['dvc', 'pull', PosixPath('/Users/dima/hiredscore/brain_mlops/hs_brain_mlops/dataset_management/datasets/spotlight_seattle/data')]\u001b[0m \u001b[36menvironment\u001b[0m=\u001b[35mlocal\u001b[0m \u001b[36mfile_path\u001b[0m=\u001b[35m/Users/dima/hiredscore/brain_mlops/hs_brain_mlops/dataset_management/dvc_manager/dvc_facade.py\u001b[0m \u001b[36mfunction_name\u001b[0m=\u001b[35m_run\u001b[0m \u001b[36mhostname\u001b[0m=\u001b[35mDima-Shulga-MacBook-Pro\u001b[0m \u001b[36mline_number\u001b[0m=\u001b[35m31\u001b[0m \u001b[36mmodule\u001b[0m=\u001b[35mhs_brain_mlops.dataset_management.dvc_manager.dvc_facade\u001b[0m \u001b[36mpid\u001b[0m=\u001b[35m62832\u001b[0m\n",
      "2555 reqs in test set\n"
     ]
    },
    {
     "name": "stderr",
     "output_type": "stream",
     "text": [
      "100%|██████████| 500/500 [00:00<00:00, 1060.48it/s]\n"
     ]
    },
    {
     "name": "stdout",
     "output_type": "stream",
     "text": [
      "porto\n",
      "\u001b[2m2023-10-18T06:58:04.056633Z\u001b[0m [\u001b[32m\u001b[1minfo     \u001b[0m] \u001b[1mRunning DVC command ['dvc', 'pull', PosixPath('/Users/dima/hiredscore/brain_mlops/hs_brain_mlops/dataset_management/datasets/spotlight_porto/data')]\u001b[0m \u001b[36menvironment\u001b[0m=\u001b[35mlocal\u001b[0m \u001b[36mfile_path\u001b[0m=\u001b[35m/Users/dima/hiredscore/brain_mlops/hs_brain_mlops/dataset_management/dvc_manager/dvc_facade.py\u001b[0m \u001b[36mfunction_name\u001b[0m=\u001b[35m_run\u001b[0m \u001b[36mhostname\u001b[0m=\u001b[35mDima-Shulga-MacBook-Pro\u001b[0m \u001b[36mline_number\u001b[0m=\u001b[35m31\u001b[0m \u001b[36mmodule\u001b[0m=\u001b[35mhs_brain_mlops.dataset_management.dvc_manager.dvc_facade\u001b[0m \u001b[36mpid\u001b[0m=\u001b[35m62832\u001b[0m\n",
      "5369 reqs in test set\n"
     ]
    },
    {
     "name": "stderr",
     "output_type": "stream",
     "text": [
      "100%|██████████| 500/500 [00:00<00:00, 1031.66it/s]\n"
     ]
    },
    {
     "name": "stdout",
     "output_type": "stream",
     "text": [
      "antalya\n",
      "\u001b[2m2023-10-18T06:58:16.053654Z\u001b[0m [\u001b[32m\u001b[1minfo     \u001b[0m] \u001b[1mRunning DVC command ['dvc', 'pull', PosixPath('/Users/dima/hiredscore/brain_mlops/hs_brain_mlops/dataset_management/datasets/spotlight_antalya/data')]\u001b[0m \u001b[36menvironment\u001b[0m=\u001b[35mlocal\u001b[0m \u001b[36mfile_path\u001b[0m=\u001b[35m/Users/dima/hiredscore/brain_mlops/hs_brain_mlops/dataset_management/dvc_manager/dvc_facade.py\u001b[0m \u001b[36mfunction_name\u001b[0m=\u001b[35m_run\u001b[0m \u001b[36mhostname\u001b[0m=\u001b[35mDima-Shulga-MacBook-Pro\u001b[0m \u001b[36mline_number\u001b[0m=\u001b[35m31\u001b[0m \u001b[36mmodule\u001b[0m=\u001b[35mhs_brain_mlops.dataset_management.dvc_manager.dvc_facade\u001b[0m \u001b[36mpid\u001b[0m=\u001b[35m62832\u001b[0m\n",
      "22681 reqs in test set\n"
     ]
    },
    {
     "name": "stderr",
     "output_type": "stream",
     "text": [
      "100%|██████████| 500/500 [00:00<00:00, 1102.31it/s]\n"
     ]
    },
    {
     "name": "stdout",
     "output_type": "stream",
     "text": [
      "tampa\n",
      "\u001b[2m2023-10-18T06:58:31.241283Z\u001b[0m [\u001b[32m\u001b[1minfo     \u001b[0m] \u001b[1mRunning DVC command ['dvc', 'pull', PosixPath('/Users/dima/hiredscore/brain_mlops/hs_brain_mlops/dataset_management/datasets/spotlight_tampa/data')]\u001b[0m \u001b[36menvironment\u001b[0m=\u001b[35mlocal\u001b[0m \u001b[36mfile_path\u001b[0m=\u001b[35m/Users/dima/hiredscore/brain_mlops/hs_brain_mlops/dataset_management/dvc_manager/dvc_facade.py\u001b[0m \u001b[36mfunction_name\u001b[0m=\u001b[35m_run\u001b[0m \u001b[36mhostname\u001b[0m=\u001b[35mDima-Shulga-MacBook-Pro\u001b[0m \u001b[36mline_number\u001b[0m=\u001b[35m31\u001b[0m \u001b[36mmodule\u001b[0m=\u001b[35mhs_brain_mlops.dataset_management.dvc_manager.dvc_facade\u001b[0m \u001b[36mpid\u001b[0m=\u001b[35m62832\u001b[0m\n",
      "9141 reqs in test set\n"
     ]
    },
    {
     "name": "stderr",
     "output_type": "stream",
     "text": [
      "100%|██████████| 500/500 [00:00<00:00, 1136.95it/s]\n"
     ]
    },
    {
     "name": "stdout",
     "output_type": "stream",
     "text": [
      "moscow\n",
      "\u001b[2m2023-10-18T06:58:44.826414Z\u001b[0m [\u001b[32m\u001b[1minfo     \u001b[0m] \u001b[1mRunning DVC command ['dvc', 'pull', PosixPath('/Users/dima/hiredscore/brain_mlops/hs_brain_mlops/dataset_management/datasets/spotlight_moscow/data')]\u001b[0m \u001b[36menvironment\u001b[0m=\u001b[35mlocal\u001b[0m \u001b[36mfile_path\u001b[0m=\u001b[35m/Users/dima/hiredscore/brain_mlops/hs_brain_mlops/dataset_management/dvc_manager/dvc_facade.py\u001b[0m \u001b[36mfunction_name\u001b[0m=\u001b[35m_run\u001b[0m \u001b[36mhostname\u001b[0m=\u001b[35mDima-Shulga-MacBook-Pro\u001b[0m \u001b[36mline_number\u001b[0m=\u001b[35m31\u001b[0m \u001b[36mmodule\u001b[0m=\u001b[35mhs_brain_mlops.dataset_management.dvc_manager.dvc_facade\u001b[0m \u001b[36mpid\u001b[0m=\u001b[35m62832\u001b[0m\n",
      "14428 reqs in test set\n"
     ]
    },
    {
     "name": "stderr",
     "output_type": "stream",
     "text": [
      "100%|██████████| 500/500 [00:00<00:00, 1041.70it/s]\n"
     ]
    },
    {
     "data": {
      "text/plain": [
       "3000"
      ]
     },
     "execution_count": 8,
     "metadata": {},
     "output_type": "execute_result"
    }
   ],
   "source": [
    "data = []\n",
    "for account in ACCOUNTS:\n",
    "    print(account)\n",
    "    mongo = gmcdb(ENV, account)\n",
    "    account_settings = get_account_settings(account)\n",
    "    integration = account_settings.get('ats_integration_type')\n",
    "    phases_order_mapping = {item['id']: order for order, item in\n",
    "                            enumerate(account_settings.get('candidate_phases') or [])}\n",
    "    status_cls = get_machine_learning_status_classifier(ENV, account)\n",
    "    \n",
    "    \n",
    "    #req_ids = mongo.req.distinct('_id', {'is_enabled': True, 'is_gradable': True, 'job_create_date': {'$gt': datetime(2023, 1, 1)}})\n",
    "    req_ids = get_account_test_set(account)\n",
    "    print(len(req_ids), 'reqs in test set')\n",
    "    apps = list(mongo.application.find({'samurai_json.experience': {'$gt': []}, 'req_id': {'$in': req_ids},\n",
    "                                     'ats_application.status_info.status_history': {'$gt': []}, }).limit(SAMPLE_SIZE))\n",
    "    \n",
    "    \n",
    "    if not apps:\n",
    "        continue\n",
    "    dataset =  account + '_' + ENV\n",
    "\n",
    "    db_client = get_db_client(ENV, account, SupportedDBs.BIGQUERY)\n",
    "    \n",
    "    ids = ','.join(['\"' + a['_id'] + '\"' for a in apps])\n",
    "\n",
    "    sql =f\"\"\"select * from {dataset}.dwh_hs_fact_application_status_history \n",
    "    where application_id IN ({ids})\n",
    "    \"\"\"\n",
    "\n",
    "    job_result = db_client.execute(sql)\n",
    "\n",
    "    job_df = job_result['query_reults'].to_dataframe()\n",
    "\n",
    "    for app in tqdm(apps):\n",
    "        max_status = status_cls.get_max_status(app)\n",
    "        phases = status_cls.get_phases_reach_dates(app)\n",
    "        phases_path = '->'.join([p[0] for p in sorted(phases.items(), key=lambda x: x[1])])\n",
    "        app_df = job_df[job_df['application_id'] == app['_id']].sort_values('status_ts').fillna(\"NONE\")\n",
    "        analytics_path = '->'.join(app_df['analytics_bucket'])\n",
    "        max_analytics_bucket = ','.join(app_df['max_analytics_bucket_reached'].unique())\n",
    "        category_path = '->'.join(app_df['status_category'])\n",
    "        status_path = '->'.join(app_df['status_code'])\n",
    "        \n",
    "\n",
    "        data.append({\n",
    "            'account': account,\n",
    "            'app_id': app['_id'],\n",
    "            'max_status': max_status,\n",
    "            'app': app,\n",
    "            'phases_path': phases_path,\n",
    "            'statuses_names': get_statuses_names(app),\n",
    "            'integration': integration,\n",
    "            'analytics_path': analytics_path,\n",
    "            'max_analytics_bucket': max_analytics_bucket,\n",
    "            'category_path': category_path,\n",
    "            'status_path': status_path\n",
    "        })\n",
    "\n",
    "len(data)"
   ]
  },
  {
   "cell_type": "code",
   "execution_count": null,
   "id": "2b777eb1-f1ed-40fd-8380-a4326a02d61f",
   "metadata": {
    "tags": []
   },
   "outputs": [],
   "source": [
    "import pickle"
   ]
  },
  {
   "cell_type": "code",
   "execution_count": null,
   "id": "745d605c-bab0-4f9b-a533-278885963d11",
   "metadata": {
    "tags": []
   },
   "outputs": [],
   "source": [
    "pickle.dump(data, open('statuses_acounts_data.pkl', 'wb'))"
   ]
  },
  {
   "cell_type": "code",
   "execution_count": null,
   "id": "70582644-1d84-4210-a8b3-70611e2c02f7",
   "metadata": {
    "tags": []
   },
   "outputs": [],
   "source": [
    "'Done'"
   ]
  },
  {
   "cell_type": "code",
   "execution_count": null,
   "id": "ef97c68f-1fa0-4807-86a9-813c3701a897",
   "metadata": {
    "tags": []
   },
   "outputs": [],
   "source": [
    "df = pd.DataFrame(data)"
   ]
  },
  {
   "cell_type": "code",
   "execution_count": 9,
   "id": "09472e05-dff2-4e98-aa2e-596d4f089402",
   "metadata": {},
   "outputs": [
    {
     "ename": "NameError",
     "evalue": "name 'df' is not defined",
     "output_type": "error",
     "traceback": [
      "\u001b[0;31m---------------------------------------------------------------------------\u001b[0m",
      "\u001b[0;31mNameError\u001b[0m                                 Traceback (most recent call last)",
      "Cell \u001b[0;32mIn[9], line 1\u001b[0m\n\u001b[0;32m----> 1\u001b[0m \u001b[43mdf\u001b[49m[\u001b[38;5;124m'\u001b[39m\u001b[38;5;124mstatus_path\u001b[39m\u001b[38;5;124m'\u001b[39m]\u001b[38;5;241m.\u001b[39mvalue_counts()\n",
      "\u001b[0;31mNameError\u001b[0m: name 'df' is not defined"
     ]
    }
   ],
   "source": [
    "df['status_path'].value_counts()"
   ]
  },
  {
   "cell_type": "code",
   "execution_count": null,
   "id": "44d2f51a-19a3-4d8b-bc05-ef95b408b80d",
   "metadata": {
    "tags": []
   },
   "outputs": [],
   "source": [
    "df.groupby(['phases_path']).size()"
   ]
  },
  {
   "cell_type": "code",
   "execution_count": null,
   "id": "de3583eb-eff4-4ac5-bf7b-a59e6b7ab226",
   "metadata": {
    "tags": []
   },
   "outputs": [],
   "source": [
    "df.groupby(['account', 'new_max_status']).size()"
   ]
  },
  {
   "cell_type": "code",
   "execution_count": null,
   "id": "1df17390-c8c9-4adc-ab20-d8954b26c726",
   "metadata": {
    "tags": []
   },
   "outputs": [],
   "source": [
    "(df.groupby(['account', 'max_status']).size() / df.groupby(['account']).size()).unstack(1).plot(kind='bar', figsize=(10, 5))"
   ]
  },
  {
   "cell_type": "code",
   "execution_count": null,
   "id": "4354855f-d3a1-4155-9471-8d499175c1b1",
   "metadata": {
    "tags": []
   },
   "outputs": [],
   "source": [
    "(df.groupby(['account', 'new_max_status']).size() / df.groupby(['account']).size()).unstack(1).plot(kind='bar', figsize=(10, 5))"
   ]
  },
  {
   "cell_type": "code",
   "execution_count": null,
   "id": "6161d2bc-1124-4b33-b6bc-ade97b94535b",
   "metadata": {
    "tags": []
   },
   "outputs": [],
   "source": [
    "ac = df[df['account'] == 'oxford']"
   ]
  },
  {
   "cell_type": "code",
   "execution_count": null,
   "id": "f5bb7a76-b4fb-4eea-98b9-a5011ec4e78d",
   "metadata": {
    "tags": []
   },
   "outputs": [],
   "source": [
    "ac.shape"
   ]
  },
  {
   "cell_type": "code",
   "execution_count": null,
   "id": "11267eb4-f4ee-4355-b9c9-f9988e4a85b1",
   "metadata": {
    "tags": []
   },
   "outputs": [],
   "source": [
    "ac['new_max_status'].value_counts()"
   ]
  },
  {
   "cell_type": "code",
   "execution_count": null,
   "id": "75813403-0e6b-4bc2-960c-6e7a22248f80",
   "metadata": {
    "tags": []
   },
   "outputs": [],
   "source": [
    "ac['new_max_status'].value_counts()"
   ]
  },
  {
   "cell_type": "code",
   "execution_count": null,
   "id": "03b70043-e583-4d7f-8e66-57d490ae2c9f",
   "metadata": {
    "tags": []
   },
   "outputs": [],
   "source": [
    "ac[(ac['phases_path']  == 'hr_review->obsolete->department_interview->rejected') & (ac['new_max_status'] == -1)].head()"
   ]
  },
  {
   "cell_type": "code",
   "execution_count": null,
   "id": "ca3db3cc-cb4e-4707-9dbf-64abd75a5d7d",
   "metadata": {
    "tags": []
   },
   "outputs": [],
   "source": [
    "account_settings.get('ats_integration_type')"
   ]
  },
  {
   "cell_type": "code",
   "execution_count": null,
   "id": "66f20d7d-ba35-4e68-a67a-60546a5863a2",
   "metadata": {
    "tags": []
   },
   "outputs": [],
   "source": [
    "df.groupby(['integration', 'new_max_status']).size().unstack(1).plot(kind='bar', figsize=(10, 5))"
   ]
  },
  {
   "cell_type": "code",
   "execution_count": null,
   "id": "001835aa-1775-48b4-b9ac-b7af42d536d3",
   "metadata": {
    "tags": []
   },
   "outputs": [],
   "source": [
    "!pip install wordcloud"
   ]
  },
  {
   "cell_type": "code",
   "execution_count": null,
   "id": "fa55ead9-8fc1-4bff-b2f7-412275b6d042",
   "metadata": {
    "tags": []
   },
   "outputs": [],
   "source": []
  },
  {
   "cell_type": "code",
   "execution_count": null,
   "id": "32af74f4-f7fa-4594-b25b-60f0eb704ab8",
   "metadata": {
    "tags": []
   },
   "outputs": [],
   "source": [
    "from wordcloud import WordCloud\n",
    "from wordcloud import ImageColorGenerator\n",
    "from wordcloud import STOPWORDS\n",
    "import matplotlib.pyplot as plt"
   ]
  },
  {
   "cell_type": "code",
   "execution_count": null,
   "id": "6b133d78-6e2d-4405-a4b8-7c5c20904dc8",
   "metadata": {
    "tags": []
   },
   "outputs": [],
   "source": [
    "words = text.split()"
   ]
  },
  {
   "cell_type": "code",
   "execution_count": null,
   "id": "19dc4955-c6ae-4051-9fb2-1c3215ac9222",
   "metadata": {
    "tags": []
   },
   "outputs": [],
   "source": [
    "\n"
   ]
  },
  {
   "cell_type": "code",
   "execution_count": null,
   "id": "7b5dc156-7d2e-4533-bd19-464fa41169fb",
   "metadata": {
    "tags": []
   },
   "outputs": [],
   "source": [
    "text = ' '.join(i.replace('->', ' ').replace('_', ' ').lower() for i in df[(df['integration'] == 'workday') & (df['max_analytics_bucket'] == 'Screening')]['statuses_names'])\n",
    "stopwords = ['action', 'default', 'definition', 'application', 'step', 'job', 'review', 'to','be', 'b', 'new', 'candidate',\n",
    "            'not', 'screen', 'conclusion', 'applicant', 'incomplete', 'regrets', 'sent', 'portal', 'slate', 'resume',\n",
    "            'external', 'check', 'completed', 'pending', 'position']\n",
    "wordcloud = WordCloud(stopwords=set(stopwords) | STOPWORDS, \n",
    "                      background_color=\"white\", \n",
    "                      min_word_length=3,\n",
    "                      collocations=False).generate(text)\n",
    "plt.figure( figsize=(13,8))\n",
    "plt.imshow(wordcloud, interpolation='bilinear')\n",
    "plt.axis(\"off\")\n",
    "plt.show()"
   ]
  },
  {
   "cell_type": "code",
   "execution_count": null,
   "id": "e599912c-2fb3-42de-9d05-a88969b21bee",
   "metadata": {
    "tags": []
   },
   "outputs": [],
   "source": [
    "df['req_id'] = df['app_id'].apply(lambda x: x.split('_')[0])"
   ]
  },
  {
   "cell_type": "code",
   "execution_count": null,
   "id": "82a99aa7-6ccb-4e8d-b450-9abf0bd40bbf",
   "metadata": {},
   "outputs": [],
   "source": [
    "df.groupby(['account_id', 'req_id']).groupby(['account', 'max_status']).size().unstack(1).plot(kind='bar', figsize=(10, 5))"
   ]
  },
  {
   "cell_type": "code",
   "execution_count": null,
   "id": "9562969a-fedc-42f5-a9b4-5729208c3b07",
   "metadata": {
    "tags": []
   },
   "outputs": [],
   "source": [
    "get_account_test_set('oxford')"
   ]
  },
  {
   "cell_type": "code",
   "execution_count": null,
   "id": "47492bfe-29d9-4b14-9acc-aa41d5860bf5",
   "metadata": {},
   "outputs": [],
   "source": []
  }
 ],
 "metadata": {
  "kernelspec": {
   "display_name": "Python 3 (ipykernel)",
   "language": "python",
   "name": "python3"
  },
  "language_info": {
   "codemirror_mode": {
    "name": "ipython",
    "version": 3
   },
   "file_extension": ".py",
   "mimetype": "text/x-python",
   "name": "python",
   "nbconvert_exporter": "python",
   "pygments_lexer": "ipython3",
   "version": "3.9.5"
  }
 },
 "nbformat": 4,
 "nbformat_minor": 5
}
