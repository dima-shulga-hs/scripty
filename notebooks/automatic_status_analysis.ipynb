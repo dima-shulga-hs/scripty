{
 "cells": [
  {
   "cell_type": "code",
   "execution_count": 1,
   "id": "eb9b69b3-8fa5-4b7d-a520-f3cf80555caf",
   "metadata": {
    "tags": []
   },
   "outputs": [
    {
     "name": "stderr",
     "output_type": "stream",
     "text": [
      "/var/folders/_p/8_m91crj199_rd7sndkxncc80000gp/T/ipykernel_78901/3987049292.py:5: DeprecationWarning: Importing display from IPython.core.display is deprecated since IPython 7.14, please import from IPython display\n",
      "  from IPython.core.display import display, HTML\n"
     ]
    }
   ],
   "source": [
    "import pickle\n",
    "import pandas as pd\n",
    "from json2html import *\n",
    "from hs_gimme.db_facade.db_facade_factory import get_mongo_client_db\n",
    "from IPython.core.display import display, HTML\n",
    "from hs_gimme.application_status_history_classifier.machine_learning_status_classifier import get_machine_learning_status_classifier\n",
    "from hs_gimme.account_settings_manager import get_account_settings\n",
    "from collections import Counter\n",
    "from hs_gimme.application_status_history_classifier.new_cls import NewStatusCls"
   ]
  },
  {
   "cell_type": "markdown",
   "id": "8c7fc34d-9f96-4fd4-88dc-545540ad005e",
   "metadata": {},
   "source": [
    "# Tagged Data"
   ]
  },
  {
   "cell_type": "code",
   "execution_count": 2,
   "id": "499b76c5-07d0-472c-8728-15fbcbdb0604",
   "metadata": {
    "tags": []
   },
   "outputs": [],
   "source": [
    "tagged_df = pd.read_pickle('tagging_analysis_df.pkl')"
   ]
  },
  {
   "cell_type": "code",
   "execution_count": 3,
   "id": "77718a79-a21b-4b5c-add5-e6d851fd935f",
   "metadata": {
    "tags": []
   },
   "outputs": [
    {
     "name": "stdout",
     "output_type": "stream",
     "text": [
      "alabama\n",
      "\u001b[2m2023-10-09T09:18:29.512191Z\u001b[0m [\u001b[32m\u001b[1minfo     \u001b[0m] \u001b[1mMongos instances selected     \u001b[0m \u001b[36menvironment\u001b[0m=\u001b[35mlocal\u001b[0m \u001b[36mfile_path\u001b[0m=\u001b[35m/Users/dima/hiredscore/gimme/hs_gimme/db_facade/connection_string_builder.py\u001b[0m \u001b[36mfunction_name\u001b[0m=\u001b[35mget_selected_mongos_instances\u001b[0m \u001b[36mhostname\u001b[0m=\u001b[35mDima-Shulga-MacBook-Pro\u001b[0m \u001b[36mhosts\u001b[0m=\u001b[35m['applicativedb-prod-mongos-1.omcomcom.com', 'applicativedb-prod-mongos-2.omcomcom.com']\u001b[0m \u001b[36mline_number\u001b[0m=\u001b[35m38\u001b[0m \u001b[36mmodule\u001b[0m=\u001b[35mhs_gimme.db_facade.connection_string_builder\u001b[0m \u001b[36mpid\u001b[0m=\u001b[35m78901\u001b[0m\n",
      "\u001b[2m2023-10-09T09:19:08.976348Z\u001b[0m [\u001b[33m\u001b[1mwarning  \u001b[0m] \u001b[1mSlowLog                       \u001b[0m \u001b[36mcommand_name\u001b[0m=\u001b[35mgetMore\u001b[0m \u001b[36mconnection_id\u001b[0m=\u001b[35mapplicativedb-prod-mongos-1.omcomcom.com:27017\u001b[0m \u001b[36mduration_ms__numeric\u001b[0m=\u001b[35m38072.751\u001b[0m \u001b[36mduration_threshold__numeric\u001b[0m=\u001b[35m10000\u001b[0m \u001b[36menvironment\u001b[0m=\u001b[35mlocal\u001b[0m \u001b[36mfile_path\u001b[0m=\u001b[35m/Users/dima/hiredscore/gimme/hs_gimme/db_facade/slow_logs_utils.py\u001b[0m \u001b[36mfunction_name\u001b[0m=\u001b[35mwrite_slow_log\u001b[0m \u001b[36mhostname\u001b[0m=\u001b[35mDima-Shulga-MacBook-Pro\u001b[0m \u001b[36mline_number\u001b[0m=\u001b[35m11\u001b[0m \u001b[36mmodule\u001b[0m=\u001b[35mhs_gimme.db_facade.slow_logs_utils\u001b[0m \u001b[36mpid\u001b[0m=\u001b[35m78901\u001b[0m \u001b[36mrequest_id\u001b[0m=\u001b[35m1404280278\u001b[0m \u001b[36msource\u001b[0m=\u001b[35mPyMongo\u001b[0m \u001b[36mstack_snippet\u001b[0m=\u001b[35m\n",
      "  File \"/Users/dima/hiredscore/gimme/hs_gimme/application_status_history_classifier/machine_learning_status_classifier.py\", line 46, in <dictcomp>\n",
      "    req_id_to_bulk_reject_date = {req[Req.ID]: req.get(Req.CLOSE_DATE) for req in cursor}\n",
      "\u001b[0m\n",
      "colorado\n",
      "essex\n",
      "indiana\n",
      "\u001b[2m2023-10-09T09:19:13.854698Z\u001b[0m [\u001b[33m\u001b[1mwarning  \u001b[0m] \u001b[1mats_integration_type is deprecated. Please stop using ats_integration_type in your code\u001b[0m \u001b[36menvironment\u001b[0m=\u001b[35mlocal\u001b[0m \u001b[36mfile_path\u001b[0m=\u001b[35m/Users/dima/hiredscore/gimme/hs_gimme/account_settings/account_settings_object.py\u001b[0m \u001b[36mfunction_name\u001b[0m=\u001b[35m_get_ats_name\u001b[0m \u001b[36mhostname\u001b[0m=\u001b[35mDima-Shulga-MacBook-Pro\u001b[0m \u001b[36mline_number\u001b[0m=\u001b[35m61\u001b[0m \u001b[36mmodule\u001b[0m=\u001b[35mhs_gimme.account_settings.account_settings_object\u001b[0m \u001b[36mpid\u001b[0m=\u001b[35m78901\u001b[0m\n",
      "moscow\n",
      "oxford\n",
      "\u001b[2m2023-10-09T09:19:16.925714Z\u001b[0m [\u001b[33m\u001b[1mwarning  \u001b[0m] \u001b[1mats_integration_type is deprecated. Please stop using ats_integration_type in your code\u001b[0m \u001b[36menvironment\u001b[0m=\u001b[35mlocal\u001b[0m \u001b[36mfile_path\u001b[0m=\u001b[35m/Users/dima/hiredscore/gimme/hs_gimme/account_settings/account_settings_object.py\u001b[0m \u001b[36mfunction_name\u001b[0m=\u001b[35m_get_ats_name\u001b[0m \u001b[36mhostname\u001b[0m=\u001b[35mDima-Shulga-MacBook-Pro\u001b[0m \u001b[36mline_number\u001b[0m=\u001b[35m61\u001b[0m \u001b[36mmodule\u001b[0m=\u001b[35mhs_gimme.account_settings.account_settings_object\u001b[0m \u001b[36mpid\u001b[0m=\u001b[35m78901\u001b[0m\n",
      "seoul\n",
      "tampa\n"
     ]
    }
   ],
   "source": [
    "mongos = {}\n",
    "account_settings = {}\n",
    "status_cls = {}\n",
    "new_cls = {}\n",
    "prod_mongos = {}\n",
    "for account_id in tagged_df['account_id'].unique():\n",
    "    print(account_id)\n",
    "    mongos[account_id] = get_mongo_client_db('production_qa', account_id)\n",
    "    prod_mongos[account_id] = get_mongo_client_db('production', account_id)\n",
    "    account_settings[account_id] =  get_account_settings(account_id)\n",
    "    status_cls[account_id] = get_machine_learning_status_classifier('production', account_id)\n",
    "    new_cls[account_id] = NewStatusCls(account_id, 'production')"
   ]
  },
  {
   "cell_type": "code",
   "execution_count": 4,
   "id": "f6a5cb68-81a6-4ac1-a6ec-86611b1dc75b",
   "metadata": {
    "tags": []
   },
   "outputs": [
    {
     "data": {
      "text/plain": [
       " 0    160\n",
       "-1    113\n",
       " 4     49\n",
       " 3     40\n",
       " 1     27\n",
       " 2      3\n",
       "Name: new_max_status, dtype: int64"
      ]
     },
     "execution_count": 4,
     "metadata": {},
     "output_type": "execute_result"
    }
   ],
   "source": [
    "tagged_df['new_max_status'] = tagged_df.apply(lambda r: new_cls[r['account_id']].get_max_status(r['app']), axis=1)\n",
    "tagged_df['new_max_status'].value_counts()"
   ]
  },
  {
   "cell_type": "code",
   "execution_count": 5,
   "id": "1edd395f-cc54-40d3-8e85-c141a1ef4aa4",
   "metadata": {
    "tags": []
   },
   "outputs": [
    {
     "data": {
      "text/plain": [
       " 0    160\n",
       "-1     84\n",
       " 4     68\n",
       " 3     50\n",
       " 1     27\n",
       " 2      3\n",
       "Name: max_status, dtype: int64"
      ]
     },
     "execution_count": 5,
     "metadata": {},
     "output_type": "execute_result"
    }
   ],
   "source": [
    "tagged_df['max_status'] = tagged_df.apply(lambda r: status_cls[r['account_id']].get_max_status(r['app']), axis=1)\n",
    "tagged_df['max_status'].value_counts()"
   ]
  },
  {
   "cell_type": "code",
   "execution_count": 6,
   "id": "e0f6facc-04ae-4214-b7b0-3ba4cc8b1d88",
   "metadata": {
    "tags": []
   },
   "outputs": [],
   "source": [
    "def get_new_group(new_max_status):\n",
    "    if new_max_status == 0:\n",
    "        return 'rejected'\n",
    "    \n",
    "    if new_max_status >= 3: \n",
    "        return 'offer'\n",
    "    \n",
    "    return 'other'"
   ]
  },
  {
   "cell_type": "code",
   "execution_count": 7,
   "id": "2e5e71a1-65bb-45a5-a027-86eab8bf9131",
   "metadata": {
    "tags": []
   },
   "outputs": [],
   "source": [
    "tagged_df['group_name'] = tagged_df['group_name'].apply(lambda x: 'rejected' if x == 'Negative Rejected' else 'offer')"
   ]
  },
  {
   "cell_type": "code",
   "execution_count": 8,
   "id": "daa95482-448a-41ac-b2ac-ff4938fc4960",
   "metadata": {
    "tags": []
   },
   "outputs": [],
   "source": [
    "tagged_df['group_name'] = tagged_df['max_status'].apply(get_new_group)"
   ]
  },
  {
   "cell_type": "code",
   "execution_count": 9,
   "id": "49b50934-3e2b-449c-84f2-fed6065c8add",
   "metadata": {
    "tags": []
   },
   "outputs": [],
   "source": [
    "tagged_df['new_group_name'] = tagged_df['new_max_status'].apply(get_new_group)"
   ]
  },
  {
   "cell_type": "code",
   "execution_count": 10,
   "id": "06bb64b9-eaeb-4adc-955c-71838528c11d",
   "metadata": {
    "tags": []
   },
   "outputs": [
    {
     "data": {
      "text/html": [
       "<div>\n",
       "<style scoped>\n",
       "    .dataframe tbody tr th:only-of-type {\n",
       "        vertical-align: middle;\n",
       "    }\n",
       "\n",
       "    .dataframe tbody tr th {\n",
       "        vertical-align: top;\n",
       "    }\n",
       "\n",
       "    .dataframe thead tr th {\n",
       "        text-align: left;\n",
       "    }\n",
       "</style>\n",
       "<table border=\"1\" class=\"dataframe\">\n",
       "  <thead>\n",
       "    <tr>\n",
       "      <th></th>\n",
       "      <th colspan=\"2\" halign=\"left\">count</th>\n",
       "      <th colspan=\"2\" halign=\"left\">mean</th>\n",
       "    </tr>\n",
       "    <tr>\n",
       "      <th>mapping</th>\n",
       "      <th>current</th>\n",
       "      <th>new</th>\n",
       "      <th>current</th>\n",
       "      <th>new</th>\n",
       "    </tr>\n",
       "  </thead>\n",
       "  <tbody>\n",
       "    <tr>\n",
       "      <th>offer</th>\n",
       "      <td>118.0</td>\n",
       "      <td>89.0</td>\n",
       "      <td>0.779661</td>\n",
       "      <td>0.831461</td>\n",
       "    </tr>\n",
       "    <tr>\n",
       "      <th>other</th>\n",
       "      <td>114.0</td>\n",
       "      <td>NaN</td>\n",
       "      <td>0.701754</td>\n",
       "      <td>NaN</td>\n",
       "    </tr>\n",
       "    <tr>\n",
       "      <th>rejected</th>\n",
       "      <td>160.0</td>\n",
       "      <td>160.0</td>\n",
       "      <td>0.512500</td>\n",
       "      <td>0.512500</td>\n",
       "    </tr>\n",
       "  </tbody>\n",
       "</table>\n",
       "</div>"
      ],
      "text/plain": [
       "           count             mean          \n",
       "mapping  current    new   current       new\n",
       "offer      118.0   89.0  0.779661  0.831461\n",
       "other      114.0    NaN  0.701754       NaN\n",
       "rejected   160.0  160.0  0.512500  0.512500"
      ]
     },
     "execution_count": 10,
     "metadata": {},
     "output_type": "execute_result"
    }
   ],
   "source": [
    "old_gb = tagged_df.groupby(['group_name'])['is_good'].agg(['count', 'mean'])\n",
    "old_gb['mapping'] = 'current'\n",
    "\n",
    "\n",
    "new_gb = tagged_df[lambda x: x['new_group_name'] != 'other'].groupby(['new_group_name'])['is_good'].agg(['count', 'mean'])\n",
    "new_gb['mapping'] = 'new'\n",
    "\n",
    "\n",
    "gb = pd.concat([old_gb, new_gb]).set_index('mapping', append=True).unstack()\n",
    "gb"
   ]
  },
  {
   "cell_type": "code",
   "execution_count": 11,
   "id": "2b507909-8a68-4e2e-9773-b26253d4aff3",
   "metadata": {
    "tags": []
   },
   "outputs": [
    {
     "data": {
      "text/plain": [
       "<Axes: >"
      ]
     },
     "execution_count": 11,
     "metadata": {},
     "output_type": "execute_result"
    },
    {
     "data": {
      "image/png": "[encoded data removed]",
      "text/plain": [
       "<Figure size 640x480 with 1 Axes>"
      ]
     },
     "metadata": {},
     "output_type": "display_data"
    }
   ],
   "source": [
    "gb['mean'].plot(kind='bar')"
   ]
  },
  {
   "cell_type": "markdown",
   "id": "2ae37844-d555-489c-83f3-459289063edb",
   "metadata": {},
   "source": [
    "# Accounts Data"
   ]
  },
  {
   "cell_type": "code",
   "execution_count": 12,
   "id": "e0e38b5b-44f5-4e4c-8e96-54251439e0f7",
   "metadata": {
    "tags": []
   },
   "outputs": [
    {
     "data": {
      "text/plain": [
       "45000"
      ]
     },
     "execution_count": 12,
     "metadata": {},
     "output_type": "execute_result"
    }
   ],
   "source": [
    "accounts_data = pickle.load(open('statuses_acounts_data.pkl', 'rb'))\n",
    "len(accounts_data)"
   ]
  },
  {
   "cell_type": "code",
   "execution_count": 13,
   "id": "7675a787-4052-42a6-9a28-4ed90f33347a",
   "metadata": {
    "tags": []
   },
   "outputs": [],
   "source": [
    "accounts_df = pd.DataFrame(accounts_data)"
   ]
  },
  {
   "cell_type": "code",
   "execution_count": 14,
   "id": "3296cb8d-9455-41b4-b83d-dbcf01d3da6c",
   "metadata": {
    "tags": []
   },
   "outputs": [
    {
     "name": "stdout",
     "output_type": "stream",
     "text": [
      "seattle\n",
      "\u001b[2m2023-10-09T09:21:29.348876Z\u001b[0m [\u001b[33m\u001b[1mwarning  \u001b[0m] \u001b[1mats_integration_type is deprecated. Please stop using ats_integration_type in your code\u001b[0m \u001b[36menvironment\u001b[0m=\u001b[35mlocal\u001b[0m \u001b[36mfile_path\u001b[0m=\u001b[35m/Users/dima/hiredscore/gimme/hs_gimme/account_settings/account_settings_object.py\u001b[0m \u001b[36mfunction_name\u001b[0m=\u001b[35m_get_ats_name\u001b[0m \u001b[36mhostname\u001b[0m=\u001b[35mDima-Shulga-MacBook-Pro\u001b[0m \u001b[36mline_number\u001b[0m=\u001b[35m61\u001b[0m \u001b[36mmodule\u001b[0m=\u001b[35mhs_gimme.account_settings.account_settings_object\u001b[0m \u001b[36mpid\u001b[0m=\u001b[35m78901\u001b[0m\n",
      "zagreb\n",
      "\u001b[2m2023-10-09T09:21:30.878480Z\u001b[0m [\u001b[33m\u001b[1mwarning  \u001b[0m] \u001b[1mats_integration_type is deprecated. Please stop using ats_integration_type in your code\u001b[0m \u001b[36menvironment\u001b[0m=\u001b[35mlocal\u001b[0m \u001b[36mfile_path\u001b[0m=\u001b[35m/Users/dima/hiredscore/gimme/hs_gimme/account_settings/account_settings_object.py\u001b[0m \u001b[36mfunction_name\u001b[0m=\u001b[35m_get_ats_name\u001b[0m \u001b[36mhostname\u001b[0m=\u001b[35mDima-Shulga-MacBook-Pro\u001b[0m \u001b[36mline_number\u001b[0m=\u001b[35m61\u001b[0m \u001b[36mmodule\u001b[0m=\u001b[35mhs_gimme.account_settings.account_settings_object\u001b[0m \u001b[36mpid\u001b[0m=\u001b[35m78901\u001b[0m\n",
      "antwerp\n",
      "\u001b[2m2023-10-09T09:21:32.462466Z\u001b[0m [\u001b[33m\u001b[1mwarning  \u001b[0m] \u001b[1mats_integration_type is deprecated. Please stop using ats_integration_type in your code\u001b[0m \u001b[36menvironment\u001b[0m=\u001b[35mlocal\u001b[0m \u001b[36mfile_path\u001b[0m=\u001b[35m/Users/dima/hiredscore/gimme/hs_gimme/account_settings/account_settings_object.py\u001b[0m \u001b[36mfunction_name\u001b[0m=\u001b[35m_get_ats_name\u001b[0m \u001b[36mhostname\u001b[0m=\u001b[35mDima-Shulga-MacBook-Pro\u001b[0m \u001b[36mline_number\u001b[0m=\u001b[35m61\u001b[0m \u001b[36mmodule\u001b[0m=\u001b[35mhs_gimme.account_settings.account_settings_object\u001b[0m \u001b[36mpid\u001b[0m=\u001b[35m78901\u001b[0m\n",
      "atlanta\n",
      "aden\n",
      "\u001b[2m2023-10-09T09:21:35.544290Z\u001b[0m [\u001b[33m\u001b[1mwarning  \u001b[0m] \u001b[1mats_integration_type is deprecated. Please stop using ats_integration_type in your code\u001b[0m \u001b[36menvironment\u001b[0m=\u001b[35mlocal\u001b[0m \u001b[36mfile_path\u001b[0m=\u001b[35m/Users/dima/hiredscore/gimme/hs_gimme/account_settings/account_settings_object.py\u001b[0m \u001b[36mfunction_name\u001b[0m=\u001b[35m_get_ats_name\u001b[0m \u001b[36mhostname\u001b[0m=\u001b[35mDima-Shulga-MacBook-Pro\u001b[0m \u001b[36mline_number\u001b[0m=\u001b[35m61\u001b[0m \u001b[36mmodule\u001b[0m=\u001b[35mhs_gimme.account_settings.account_settings_object\u001b[0m \u001b[36mpid\u001b[0m=\u001b[35m78901\u001b[0m\n",
      "utah\n",
      "porto\n"
     ]
    }
   ],
   "source": [
    "for account_id in accounts_df['account'].unique():\n",
    "    if account_id not in mongos:\n",
    "        print(account_id)\n",
    "        mongos[account_id] = get_mongo_client_db('production_qa', account_id)\n",
    "        prod_mongos[account_id] = get_mongo_client_db('production', account_id)\n",
    "        account_settings[account_id] =  get_account_settings(account_id)\n",
    "        status_cls[account_id] = get_machine_learning_status_classifier('production', account_id)\n",
    "        new_cls[account_id] = NewStatusCls(account_id, 'production')"
   ]
  },
  {
   "cell_type": "code",
   "execution_count": 15,
   "id": "cd06d114-a181-406f-b98c-3588eba10250",
   "metadata": {
    "tags": []
   },
   "outputs": [
    {
     "data": {
      "text/plain": [
       " 0    26784\n",
       "-1    10917\n",
       " 2     3025\n",
       " 1     2710\n",
       " 4      953\n",
       " 3      611\n",
       "Name: new_max_status, dtype: int64"
      ]
     },
     "execution_count": 15,
     "metadata": {},
     "output_type": "execute_result"
    }
   ],
   "source": [
    "accounts_df['new_max_status'] = accounts_df.apply(lambda r: new_cls[r['account']].get_max_status(r['app']), axis=1)\n",
    "accounts_df['new_max_status'].value_counts()"
   ]
  },
  {
   "cell_type": "code",
   "execution_count": 16,
   "id": "a1f65581-244b-4976-8e71-891639cf15d1",
   "metadata": {
    "tags": []
   },
   "outputs": [
    {
     "data": {
      "text/plain": [
       " 0    26244\n",
       "-1     9280\n",
       " 2     4697\n",
       " 1     2710\n",
       " 4     1193\n",
       " 3      876\n",
       "Name: max_status, dtype: int64"
      ]
     },
     "execution_count": 16,
     "metadata": {},
     "output_type": "execute_result"
    }
   ],
   "source": [
    "accounts_df['max_status'] = accounts_df.apply(lambda r: status_cls[r['account']].get_max_status(r['app']), axis=1)\n",
    "accounts_df['max_status'].value_counts()"
   ]
  },
  {
   "cell_type": "code",
   "execution_count": 17,
   "id": "811ef946-4eb2-4865-ba68-63cbbd995760",
   "metadata": {
    "tags": []
   },
   "outputs": [
    {
     "data": {
      "text/plain": [
       "<Axes: xlabel='account'>"
      ]
     },
     "execution_count": 17,
     "metadata": {},
     "output_type": "execute_result"
    },
    {
     "data": {
      "image/png": "[encoded data removed]",
      "text/plain": [
       "<Figure size 1000x500 with 1 Axes>"
      ]
     },
     "metadata": {},
     "output_type": "display_data"
    }
   ],
   "source": [
    "(accounts_df.groupby(['account', 'max_status']).size() / accounts_df.groupby(['account']).size()).unstack(1).plot(kind='bar', figsize=(10, 5))"
   ]
  },
  {
   "cell_type": "code",
   "execution_count": 18,
   "id": "01130255-e6b1-4617-81d1-6eb7fa2d3e97",
   "metadata": {
    "tags": []
   },
   "outputs": [
    {
     "data": {
      "text/plain": [
       "<Axes: xlabel='account'>"
      ]
     },
     "execution_count": 18,
     "metadata": {},
     "output_type": "execute_result"
    },
    {
     "data": {
      "image/png": "[encoded data removed]",
      "text/plain": [
       "<Figure size 1000x500 with 1 Axes>"
      ]
     },
     "metadata": {},
     "output_type": "display_data"
    }
   ],
   "source": [
    "(accounts_df.groupby(['account', 'new_max_status']).size() / accounts_df.groupby(['account']).size()).unstack(1).plot(kind='bar', figsize=(10, 5))"
   ]
  },
  {
   "cell_type": "code",
   "execution_count": 19,
   "id": "c4a86a5b-5575-4d18-bfd3-459e1bcd34fe",
   "metadata": {
    "tags": []
   },
   "outputs": [
    {
     "data": {
      "text/plain": [
       "<Axes: xlabel='max_status'>"
      ]
     },
     "execution_count": 19,
     "metadata": {},
     "output_type": "execute_result"
    },
    {
     "data": {
      "image/png": "[encoded data removed]",
      "text/plain": [
       "<Figure size 640x480 with 1 Axes>"
      ]
     },
     "metadata": {},
     "output_type": "display_data"
    }
   ],
   "source": [
    "old_gb = accounts_df.groupby('max_status').size().reset_index()\n",
    "old_gb['mapping'] = 'current'\n",
    "\n",
    "new_gb = accounts_df.groupby('new_max_status').size().reset_index().rename(columns={'new_max_status': 'max_status'})\n",
    "new_gb['mapping'] = 'new'\n",
    "\n",
    "gb = pd.concat([old_gb, new_gb]).set_index(['max_status', 'mapping'])\n",
    "gb.unstack().plot(kind='bar')"
   ]
  },
  {
   "cell_type": "code",
   "execution_count": 20,
   "id": "acccc987-7deb-4d68-8380-4c4acfe4587e",
   "metadata": {
    "tags": []
   },
   "outputs": [
    {
     "data": {
      "text/html": [
       "<div>\n",
       "<style scoped>\n",
       "    .dataframe tbody tr th:only-of-type {\n",
       "        vertical-align: middle;\n",
       "    }\n",
       "\n",
       "    .dataframe tbody tr th {\n",
       "        vertical-align: top;\n",
       "    }\n",
       "\n",
       "    .dataframe thead tr th {\n",
       "        text-align: left;\n",
       "    }\n",
       "\n",
       "    .dataframe thead tr:last-of-type th {\n",
       "        text-align: right;\n",
       "    }\n",
       "</style>\n",
       "<table border=\"1\" class=\"dataframe\">\n",
       "  <thead>\n",
       "    <tr>\n",
       "      <th></th>\n",
       "      <th colspan=\"2\" halign=\"left\">0</th>\n",
       "    </tr>\n",
       "    <tr>\n",
       "      <th>mapping</th>\n",
       "      <th>current</th>\n",
       "      <th>new</th>\n",
       "    </tr>\n",
       "    <tr>\n",
       "      <th>max_status</th>\n",
       "      <th></th>\n",
       "      <th></th>\n",
       "    </tr>\n",
       "  </thead>\n",
       "  <tbody>\n",
       "    <tr>\n",
       "      <th>-1</th>\n",
       "      <td>9280</td>\n",
       "      <td>10917</td>\n",
       "    </tr>\n",
       "    <tr>\n",
       "      <th>0</th>\n",
       "      <td>26244</td>\n",
       "      <td>26784</td>\n",
       "    </tr>\n",
       "    <tr>\n",
       "      <th>1</th>\n",
       "      <td>2710</td>\n",
       "      <td>2710</td>\n",
       "    </tr>\n",
       "    <tr>\n",
       "      <th>2</th>\n",
       "      <td>4697</td>\n",
       "      <td>3025</td>\n",
       "    </tr>\n",
       "    <tr>\n",
       "      <th>3</th>\n",
       "      <td>876</td>\n",
       "      <td>611</td>\n",
       "    </tr>\n",
       "    <tr>\n",
       "      <th>4</th>\n",
       "      <td>1193</td>\n",
       "      <td>953</td>\n",
       "    </tr>\n",
       "  </tbody>\n",
       "</table>\n",
       "</div>"
      ],
      "text/plain": [
       "                 0       \n",
       "mapping    current    new\n",
       "max_status               \n",
       "-1            9280  10917\n",
       " 0           26244  26784\n",
       " 1            2710   2710\n",
       " 2            4697   3025\n",
       " 3             876    611\n",
       " 4            1193    953"
      ]
     },
     "execution_count": 20,
     "metadata": {},
     "output_type": "execute_result"
    }
   ],
   "source": [
    "gb.unstack()"
   ]
  },
  {
   "cell_type": "code",
   "execution_count": 21,
   "id": "f6b11ba9-59f1-4d54-820d-ec63183be7e9",
   "metadata": {
    "tags": []
   },
   "outputs": [],
   "source": [
    "old_gb = accounts_df.groupby('max_status').size().reset_index()"
   ]
  },
  {
   "cell_type": "code",
   "execution_count": 22,
   "id": "73abb3da-a7dd-4721-aa80-2310a95a57dd",
   "metadata": {
    "tags": []
   },
   "outputs": [
    {
     "data": {
      "text/html": [
       "<div>\n",
       "<style scoped>\n",
       "    .dataframe tbody tr th:only-of-type {\n",
       "        vertical-align: middle;\n",
       "    }\n",
       "\n",
       "    .dataframe tbody tr th {\n",
       "        vertical-align: top;\n",
       "    }\n",
       "\n",
       "    .dataframe thead th {\n",
       "        text-align: right;\n",
       "    }\n",
       "</style>\n",
       "<table border=\"1\" class=\"dataframe\">\n",
       "  <thead>\n",
       "    <tr style=\"text-align: right;\">\n",
       "      <th></th>\n",
       "      <th>max_status</th>\n",
       "      <th>0</th>\n",
       "    </tr>\n",
       "  </thead>\n",
       "  <tbody>\n",
       "    <tr>\n",
       "      <th>0</th>\n",
       "      <td>-1</td>\n",
       "      <td>9280</td>\n",
       "    </tr>\n",
       "    <tr>\n",
       "      <th>1</th>\n",
       "      <td>0</td>\n",
       "      <td>26244</td>\n",
       "    </tr>\n",
       "    <tr>\n",
       "      <th>2</th>\n",
       "      <td>1</td>\n",
       "      <td>2710</td>\n",
       "    </tr>\n",
       "    <tr>\n",
       "      <th>3</th>\n",
       "      <td>2</td>\n",
       "      <td>4697</td>\n",
       "    </tr>\n",
       "    <tr>\n",
       "      <th>4</th>\n",
       "      <td>3</td>\n",
       "      <td>876</td>\n",
       "    </tr>\n",
       "    <tr>\n",
       "      <th>5</th>\n",
       "      <td>4</td>\n",
       "      <td>1193</td>\n",
       "    </tr>\n",
       "  </tbody>\n",
       "</table>\n",
       "</div>"
      ],
      "text/plain": [
       "   max_status      0\n",
       "0          -1   9280\n",
       "1           0  26244\n",
       "2           1   2710\n",
       "3           2   4697\n",
       "4           3    876\n",
       "5           4   1193"
      ]
     },
     "execution_count": 22,
     "metadata": {},
     "output_type": "execute_result"
    }
   ],
   "source": [
    "old_gb"
   ]
  },
  {
   "cell_type": "code",
   "execution_count": 23,
   "id": "47f3344d-b649-41fb-818f-121b54829bee",
   "metadata": {
    "tags": []
   },
   "outputs": [
    {
     "data": {
      "text/plain": [
       "0.06037777777777778"
      ]
     },
     "execution_count": 23,
     "metadata": {},
     "output_type": "execute_result"
    }
   ],
   "source": [
    "accounts_df['is_different'] = accounts_df['max_status'] != accounts_df['new_max_status']\n",
    "accounts_df['is_different'].mean()"
   ]
  },
  {
   "cell_type": "code",
   "execution_count": 24,
   "id": "29bee91e-da8a-441d-851d-b56b330ff634",
   "metadata": {
    "tags": []
   },
   "outputs": [
    {
     "data": {
      "text/plain": [
       "<Axes: xlabel='account'>"
      ]
     },
     "execution_count": 24,
     "metadata": {},
     "output_type": "execute_result"
    },
    {
     "data": {
      "image/png": "[encoded data removed]",
      "text/plain": [
       "<Figure size 640x480 with 1 Axes>"
      ]
     },
     "metadata": {},
     "output_type": "display_data"
    }
   ],
   "source": [
    "accounts_df.groupby('account')['is_different'].mean().plot(kind='bar')"
   ]
  },
  {
   "cell_type": "code",
   "execution_count": 25,
   "id": "a3ad1d8c-a59b-45e6-a30e-1e31c35ad053",
   "metadata": {
    "tags": []
   },
   "outputs": [
    {
     "data": {
      "text/plain": [
       "<Axes: xlabel='account'>"
      ]
     },
     "execution_count": 25,
     "metadata": {},
     "output_type": "execute_result"
    },
    {
     "data": {
      "image/png": "[encoded data removed]",
      "text/plain": [
       "<Figure size 640x480 with 1 Axes>"
      ]
     },
     "metadata": {},
     "output_type": "display_data"
    }
   ],
   "source": [
    "accounts_df[(accounts_df['max_status'] != -1) & (accounts_df['new_max_status'] != -1)].groupby('account')['is_different'].mean().plot(kind='bar')"
   ]
  },
  {
   "cell_type": "code",
   "execution_count": 27,
   "id": "1afdec7a-6d70-41d8-929f-cd44b5084b77",
   "metadata": {
    "tags": []
   },
   "outputs": [
    {
     "data": {
      "text/plain": [
       "'seattle zagreb antwerp atlanta aden alabama utah moscow porto'"
      ]
     },
     "execution_count": 27,
     "metadata": {},
     "output_type": "execute_result"
    }
   ],
   "source": [
    "' '.join(accounts_df['account'].unique())"
   ]
  },
  {
   "cell_type": "code",
   "execution_count": null,
   "id": "d8114ca9-c6ef-4622-a9f1-3084ea2e9734",
   "metadata": {},
   "outputs": [],
   "source": []
  }
 ],
 "metadata": {
  "kernelspec": {
   "display_name": "Python 3 (ipykernel)",
   "language": "python",
   "name": "python3"
  },
  "language_info": {
   "codemirror_mode": {
    "name": "ipython",
    "version": 3
   },
   "file_extension": ".py",
   "mimetype": "text/x-python",
   "name": "python",
   "nbconvert_exporter": "python",
   "pygments_lexer": "ipython3",
   "version": "3.9.5"
  }
 },
 "nbformat": 4,
 "nbformat_minor": 5
}
